{
 "cells": [
  {
   "cell_type": "code",
   "execution_count": 1,
   "id": "9f4b63ca",
   "metadata": {
    "_cell_guid": "b1076dfc-b9ad-4769-8c92-a6c4dae69d19",
    "_uuid": "8f2839f25d086af736a60e9eeb907d3b93b6e0e5",
    "execution": {
     "iopub.execute_input": "2023-01-20T11:54:58.747731Z",
     "iopub.status.busy": "2023-01-20T11:54:58.745339Z",
     "iopub.status.idle": "2023-01-20T11:54:59.907467Z",
     "shell.execute_reply": "2023-01-20T11:54:59.906101Z"
    },
    "papermill": {
     "duration": 1.178939,
     "end_time": "2023-01-20T11:54:59.910176",
     "exception": false,
     "start_time": "2023-01-20T11:54:58.731237",
     "status": "completed"
    },
    "tags": []
   },
   "outputs": [],
   "source": [
    "import pandas as pd\n",
    "import warnings \n",
    "import seaborn as sns\n",
    "import numpy as np\n",
    "import matplotlib as plt\n",
    "warnings.filterwarnings('ignore')\n",
    "pd.set_option('display.max_columns', None)"
   ]
  },
  {
   "cell_type": "markdown",
   "id": "459ce607",
   "metadata": {
    "papermill": {
     "duration": 0.012497,
     "end_time": "2023-01-20T11:54:59.934025",
     "exception": false,
     "start_time": "2023-01-20T11:54:59.921528",
     "status": "completed"
    },
    "tags": []
   },
   "source": [
    "<p id = 0></p>"
   ]
  },
  {
   "cell_type": "markdown",
   "id": "54f92ee8",
   "metadata": {
    "papermill": {
     "duration": 0.010196,
     "end_time": "2023-01-20T11:54:59.954901",
     "exception": false,
     "start_time": "2023-01-20T11:54:59.944705",
     "status": "completed"
    },
    "tags": []
   },
   "source": [
    "# Table of Contents\n",
    "\n",
    "* [1. Pre-Processing](#1)\n",
    "* [2. Visualization and Exploratory Analysis](#2)\n"
   ]
  },
  {
   "cell_type": "markdown",
   "id": "3572978a",
   "metadata": {
    "papermill": {
     "duration": 0.010105,
     "end_time": "2023-01-20T11:54:59.975601",
     "exception": false,
     "start_time": "2023-01-20T11:54:59.965496",
     "status": "completed"
    },
    "tags": []
   },
   "source": [
    "# <p id = \"1\" style=\"font-family:arial;background-color:#2A93D5;color:#FFFFFF;font-size: 150%;text-align:center;border-radius: 0px 15px 15px 0px;border-style: solid;border-color: #2483bf;\">1.PRE-PROCESSING</p>\n",
    "[Click to return Table of Contents](#0)"
   ]
  },
  {
   "cell_type": "markdown",
   "id": "38e5e1c6",
   "metadata": {
    "papermill": {
     "duration": 0.010142,
     "end_time": "2023-01-20T11:54:59.996290",
     "exception": false,
     "start_time": "2023-01-20T11:54:59.986148",
     "status": "completed"
    },
    "tags": []
   },
   "source": []
  },
  {
   "cell_type": "code",
   "execution_count": 2,
   "id": "8d48991e",
   "metadata": {
    "execution": {
     "iopub.execute_input": "2023-01-20T11:55:00.019881Z",
     "iopub.status.busy": "2023-01-20T11:55:00.019458Z",
     "iopub.status.idle": "2023-01-20T11:55:00.080502Z",
     "shell.execute_reply": "2023-01-20T11:55:00.079382Z"
    },
    "papermill": {
     "duration": 0.075782,
     "end_time": "2023-01-20T11:55:00.083181",
     "exception": false,
     "start_time": "2023-01-20T11:55:00.007399",
     "status": "completed"
    },
    "tags": []
   },
   "outputs": [
    {
     "data": {
      "text/html": [
       "<div>\n",
       "<style scoped>\n",
       "    .dataframe tbody tr th:only-of-type {\n",
       "        vertical-align: middle;\n",
       "    }\n",
       "\n",
       "    .dataframe tbody tr th {\n",
       "        vertical-align: top;\n",
       "    }\n",
       "\n",
       "    .dataframe thead th {\n",
       "        text-align: right;\n",
       "    }\n",
       "</style>\n",
       "<table border=\"1\" class=\"dataframe\">\n",
       "  <thead>\n",
       "    <tr style=\"text-align: right;\">\n",
       "      <th></th>\n",
       "      <th>ID</th>\n",
       "      <th>Year_Birth</th>\n",
       "      <th>Education</th>\n",
       "      <th>Marital_Status</th>\n",
       "      <th>Income</th>\n",
       "      <th>Kidhome</th>\n",
       "      <th>Teenhome</th>\n",
       "      <th>Dt_Customer</th>\n",
       "      <th>Recency</th>\n",
       "      <th>MntWines</th>\n",
       "      <th>MntFruits</th>\n",
       "      <th>MntMeatProducts</th>\n",
       "      <th>MntFishProducts</th>\n",
       "      <th>MntSweetProducts</th>\n",
       "      <th>MntGoldProds</th>\n",
       "      <th>NumDealsPurchases</th>\n",
       "      <th>NumWebPurchases</th>\n",
       "      <th>NumCatalogPurchases</th>\n",
       "      <th>NumStorePurchases</th>\n",
       "      <th>NumWebVisitsMonth</th>\n",
       "      <th>AcceptedCmp3</th>\n",
       "      <th>AcceptedCmp4</th>\n",
       "      <th>AcceptedCmp5</th>\n",
       "      <th>AcceptedCmp1</th>\n",
       "      <th>AcceptedCmp2</th>\n",
       "      <th>Complain</th>\n",
       "      <th>Z_CostContact</th>\n",
       "      <th>Z_Revenue</th>\n",
       "      <th>Response</th>\n",
       "    </tr>\n",
       "  </thead>\n",
       "  <tbody>\n",
       "    <tr>\n",
       "      <th>0</th>\n",
       "      <td>5524</td>\n",
       "      <td>1957</td>\n",
       "      <td>Graduation</td>\n",
       "      <td>Single</td>\n",
       "      <td>58138.0</td>\n",
       "      <td>0</td>\n",
       "      <td>0</td>\n",
       "      <td>04-09-2012</td>\n",
       "      <td>58</td>\n",
       "      <td>635</td>\n",
       "      <td>88</td>\n",
       "      <td>546</td>\n",
       "      <td>172</td>\n",
       "      <td>88</td>\n",
       "      <td>88</td>\n",
       "      <td>3</td>\n",
       "      <td>8</td>\n",
       "      <td>10</td>\n",
       "      <td>4</td>\n",
       "      <td>7</td>\n",
       "      <td>0</td>\n",
       "      <td>0</td>\n",
       "      <td>0</td>\n",
       "      <td>0</td>\n",
       "      <td>0</td>\n",
       "      <td>0</td>\n",
       "      <td>3</td>\n",
       "      <td>11</td>\n",
       "      <td>1</td>\n",
       "    </tr>\n",
       "    <tr>\n",
       "      <th>1</th>\n",
       "      <td>2174</td>\n",
       "      <td>1954</td>\n",
       "      <td>Graduation</td>\n",
       "      <td>Single</td>\n",
       "      <td>46344.0</td>\n",
       "      <td>1</td>\n",
       "      <td>1</td>\n",
       "      <td>08-03-2014</td>\n",
       "      <td>38</td>\n",
       "      <td>11</td>\n",
       "      <td>1</td>\n",
       "      <td>6</td>\n",
       "      <td>2</td>\n",
       "      <td>1</td>\n",
       "      <td>6</td>\n",
       "      <td>2</td>\n",
       "      <td>1</td>\n",
       "      <td>1</td>\n",
       "      <td>2</td>\n",
       "      <td>5</td>\n",
       "      <td>0</td>\n",
       "      <td>0</td>\n",
       "      <td>0</td>\n",
       "      <td>0</td>\n",
       "      <td>0</td>\n",
       "      <td>0</td>\n",
       "      <td>3</td>\n",
       "      <td>11</td>\n",
       "      <td>0</td>\n",
       "    </tr>\n",
       "    <tr>\n",
       "      <th>2</th>\n",
       "      <td>4141</td>\n",
       "      <td>1965</td>\n",
       "      <td>Graduation</td>\n",
       "      <td>Together</td>\n",
       "      <td>71613.0</td>\n",
       "      <td>0</td>\n",
       "      <td>0</td>\n",
       "      <td>21-08-2013</td>\n",
       "      <td>26</td>\n",
       "      <td>426</td>\n",
       "      <td>49</td>\n",
       "      <td>127</td>\n",
       "      <td>111</td>\n",
       "      <td>21</td>\n",
       "      <td>42</td>\n",
       "      <td>1</td>\n",
       "      <td>8</td>\n",
       "      <td>2</td>\n",
       "      <td>10</td>\n",
       "      <td>4</td>\n",
       "      <td>0</td>\n",
       "      <td>0</td>\n",
       "      <td>0</td>\n",
       "      <td>0</td>\n",
       "      <td>0</td>\n",
       "      <td>0</td>\n",
       "      <td>3</td>\n",
       "      <td>11</td>\n",
       "      <td>0</td>\n",
       "    </tr>\n",
       "    <tr>\n",
       "      <th>3</th>\n",
       "      <td>6182</td>\n",
       "      <td>1984</td>\n",
       "      <td>Graduation</td>\n",
       "      <td>Together</td>\n",
       "      <td>26646.0</td>\n",
       "      <td>1</td>\n",
       "      <td>0</td>\n",
       "      <td>10-02-2014</td>\n",
       "      <td>26</td>\n",
       "      <td>11</td>\n",
       "      <td>4</td>\n",
       "      <td>20</td>\n",
       "      <td>10</td>\n",
       "      <td>3</td>\n",
       "      <td>5</td>\n",
       "      <td>2</td>\n",
       "      <td>2</td>\n",
       "      <td>0</td>\n",
       "      <td>4</td>\n",
       "      <td>6</td>\n",
       "      <td>0</td>\n",
       "      <td>0</td>\n",
       "      <td>0</td>\n",
       "      <td>0</td>\n",
       "      <td>0</td>\n",
       "      <td>0</td>\n",
       "      <td>3</td>\n",
       "      <td>11</td>\n",
       "      <td>0</td>\n",
       "    </tr>\n",
       "    <tr>\n",
       "      <th>4</th>\n",
       "      <td>5324</td>\n",
       "      <td>1981</td>\n",
       "      <td>PhD</td>\n",
       "      <td>Married</td>\n",
       "      <td>58293.0</td>\n",
       "      <td>1</td>\n",
       "      <td>0</td>\n",
       "      <td>19-01-2014</td>\n",
       "      <td>94</td>\n",
       "      <td>173</td>\n",
       "      <td>43</td>\n",
       "      <td>118</td>\n",
       "      <td>46</td>\n",
       "      <td>27</td>\n",
       "      <td>15</td>\n",
       "      <td>5</td>\n",
       "      <td>5</td>\n",
       "      <td>3</td>\n",
       "      <td>6</td>\n",
       "      <td>5</td>\n",
       "      <td>0</td>\n",
       "      <td>0</td>\n",
       "      <td>0</td>\n",
       "      <td>0</td>\n",
       "      <td>0</td>\n",
       "      <td>0</td>\n",
       "      <td>3</td>\n",
       "      <td>11</td>\n",
       "      <td>0</td>\n",
       "    </tr>\n",
       "  </tbody>\n",
       "</table>\n",
       "</div>"
      ],
      "text/plain": [
       "     ID  Year_Birth   Education Marital_Status   Income  Kidhome  Teenhome  \\\n",
       "0  5524        1957  Graduation         Single  58138.0        0         0   \n",
       "1  2174        1954  Graduation         Single  46344.0        1         1   \n",
       "2  4141        1965  Graduation       Together  71613.0        0         0   \n",
       "3  6182        1984  Graduation       Together  26646.0        1         0   \n",
       "4  5324        1981         PhD        Married  58293.0        1         0   \n",
       "\n",
       "  Dt_Customer  Recency  MntWines  MntFruits  MntMeatProducts  MntFishProducts  \\\n",
       "0  04-09-2012       58       635         88              546              172   \n",
       "1  08-03-2014       38        11          1                6                2   \n",
       "2  21-08-2013       26       426         49              127              111   \n",
       "3  10-02-2014       26        11          4               20               10   \n",
       "4  19-01-2014       94       173         43              118               46   \n",
       "\n",
       "   MntSweetProducts  MntGoldProds  NumDealsPurchases  NumWebPurchases  \\\n",
       "0                88            88                  3                8   \n",
       "1                 1             6                  2                1   \n",
       "2                21            42                  1                8   \n",
       "3                 3             5                  2                2   \n",
       "4                27            15                  5                5   \n",
       "\n",
       "   NumCatalogPurchases  NumStorePurchases  NumWebVisitsMonth  AcceptedCmp3  \\\n",
       "0                   10                  4                  7             0   \n",
       "1                    1                  2                  5             0   \n",
       "2                    2                 10                  4             0   \n",
       "3                    0                  4                  6             0   \n",
       "4                    3                  6                  5             0   \n",
       "\n",
       "   AcceptedCmp4  AcceptedCmp5  AcceptedCmp1  AcceptedCmp2  Complain  \\\n",
       "0             0             0             0             0         0   \n",
       "1             0             0             0             0         0   \n",
       "2             0             0             0             0         0   \n",
       "3             0             0             0             0         0   \n",
       "4             0             0             0             0         0   \n",
       "\n",
       "   Z_CostContact  Z_Revenue  Response  \n",
       "0              3         11         1  \n",
       "1              3         11         0  \n",
       "2              3         11         0  \n",
       "3              3         11         0  \n",
       "4              3         11         0  "
      ]
     },
     "execution_count": 2,
     "metadata": {},
     "output_type": "execute_result"
    }
   ],
   "source": [
    "data = pd.read_csv('../input/customer-personality-analysis/marketing_campaign.csv', sep='\\t')\n",
    "data.head()"
   ]
  },
  {
   "cell_type": "code",
   "execution_count": 3,
   "id": "9982bf15",
   "metadata": {
    "execution": {
     "iopub.execute_input": "2023-01-20T11:55:00.107289Z",
     "iopub.status.busy": "2023-01-20T11:55:00.106876Z",
     "iopub.status.idle": "2023-01-20T11:55:00.134298Z",
     "shell.execute_reply": "2023-01-20T11:55:00.133516Z"
    },
    "papermill": {
     "duration": 0.042818,
     "end_time": "2023-01-20T11:55:00.137337",
     "exception": false,
     "start_time": "2023-01-20T11:55:00.094519",
     "status": "completed"
    },
    "tags": []
   },
   "outputs": [
    {
     "name": "stdout",
     "output_type": "stream",
     "text": [
      "<class 'pandas.core.frame.DataFrame'>\n",
      "RangeIndex: 2240 entries, 0 to 2239\n",
      "Data columns (total 29 columns):\n",
      " #   Column               Non-Null Count  Dtype  \n",
      "---  ------               --------------  -----  \n",
      " 0   ID                   2240 non-null   int64  \n",
      " 1   Year_Birth           2240 non-null   int64  \n",
      " 2   Education            2240 non-null   object \n",
      " 3   Marital_Status       2240 non-null   object \n",
      " 4   Income               2216 non-null   float64\n",
      " 5   Kidhome              2240 non-null   int64  \n",
      " 6   Teenhome             2240 non-null   int64  \n",
      " 7   Dt_Customer          2240 non-null   object \n",
      " 8   Recency              2240 non-null   int64  \n",
      " 9   MntWines             2240 non-null   int64  \n",
      " 10  MntFruits            2240 non-null   int64  \n",
      " 11  MntMeatProducts      2240 non-null   int64  \n",
      " 12  MntFishProducts      2240 non-null   int64  \n",
      " 13  MntSweetProducts     2240 non-null   int64  \n",
      " 14  MntGoldProds         2240 non-null   int64  \n",
      " 15  NumDealsPurchases    2240 non-null   int64  \n",
      " 16  NumWebPurchases      2240 non-null   int64  \n",
      " 17  NumCatalogPurchases  2240 non-null   int64  \n",
      " 18  NumStorePurchases    2240 non-null   int64  \n",
      " 19  NumWebVisitsMonth    2240 non-null   int64  \n",
      " 20  AcceptedCmp3         2240 non-null   int64  \n",
      " 21  AcceptedCmp4         2240 non-null   int64  \n",
      " 22  AcceptedCmp5         2240 non-null   int64  \n",
      " 23  AcceptedCmp1         2240 non-null   int64  \n",
      " 24  AcceptedCmp2         2240 non-null   int64  \n",
      " 25  Complain             2240 non-null   int64  \n",
      " 26  Z_CostContact        2240 non-null   int64  \n",
      " 27  Z_Revenue            2240 non-null   int64  \n",
      " 28  Response             2240 non-null   int64  \n",
      "dtypes: float64(1), int64(25), object(3)\n",
      "memory usage: 507.6+ KB\n"
     ]
    }
   ],
   "source": [
    "data.info()"
   ]
  },
  {
   "cell_type": "markdown",
   "id": "07463bf7",
   "metadata": {
    "papermill": {
     "duration": 0.011513,
     "end_time": "2023-01-20T11:55:00.160456",
     "exception": false,
     "start_time": "2023-01-20T11:55:00.148943",
     "status": "completed"
    },
    "tags": []
   },
   "source": [
    "**Checks the null distribution between columns:**"
   ]
  },
  {
   "cell_type": "code",
   "execution_count": 4,
   "id": "5735b69d",
   "metadata": {
    "execution": {
     "iopub.execute_input": "2023-01-20T11:55:00.184998Z",
     "iopub.status.busy": "2023-01-20T11:55:00.184272Z",
     "iopub.status.idle": "2023-01-20T11:55:00.193386Z",
     "shell.execute_reply": "2023-01-20T11:55:00.192167Z"
    },
    "papermill": {
     "duration": 0.023867,
     "end_time": "2023-01-20T11:55:00.195546",
     "exception": false,
     "start_time": "2023-01-20T11:55:00.171679",
     "status": "completed"
    },
    "tags": []
   },
   "outputs": [
    {
     "data": {
      "text/plain": [
       "ID                      0\n",
       "Year_Birth              0\n",
       "Education               0\n",
       "Marital_Status          0\n",
       "Income                 24\n",
       "Kidhome                 0\n",
       "Teenhome                0\n",
       "Dt_Customer             0\n",
       "Recency                 0\n",
       "MntWines                0\n",
       "MntFruits               0\n",
       "MntMeatProducts         0\n",
       "MntFishProducts         0\n",
       "MntSweetProducts        0\n",
       "MntGoldProds            0\n",
       "NumDealsPurchases       0\n",
       "NumWebPurchases         0\n",
       "NumCatalogPurchases     0\n",
       "NumStorePurchases       0\n",
       "NumWebVisitsMonth       0\n",
       "AcceptedCmp3            0\n",
       "AcceptedCmp4            0\n",
       "AcceptedCmp5            0\n",
       "AcceptedCmp1            0\n",
       "AcceptedCmp2            0\n",
       "Complain                0\n",
       "Z_CostContact           0\n",
       "Z_Revenue               0\n",
       "Response                0\n",
       "dtype: int64"
      ]
     },
     "execution_count": 4,
     "metadata": {},
     "output_type": "execute_result"
    }
   ],
   "source": [
    "data.isna().sum()"
   ]
  },
  {
   "cell_type": "markdown",
   "id": "56ce8367",
   "metadata": {
    "papermill": {
     "duration": 0.011016,
     "end_time": "2023-01-20T11:55:00.217998",
     "exception": false,
     "start_time": "2023-01-20T11:55:00.206982",
     "status": "completed"
    },
    "tags": []
   },
   "source": [
    "**Drops the rows with null values:**"
   ]
  },
  {
   "cell_type": "code",
   "execution_count": 5,
   "id": "a0780d06",
   "metadata": {
    "execution": {
     "iopub.execute_input": "2023-01-20T11:55:00.242099Z",
     "iopub.status.busy": "2023-01-20T11:55:00.241673Z",
     "iopub.status.idle": "2023-01-20T11:55:00.250635Z",
     "shell.execute_reply": "2023-01-20T11:55:00.249539Z"
    },
    "papermill": {
     "duration": 0.023604,
     "end_time": "2023-01-20T11:55:00.252861",
     "exception": false,
     "start_time": "2023-01-20T11:55:00.229257",
     "status": "completed"
    },
    "tags": []
   },
   "outputs": [],
   "source": [
    "data.drop(index=(data[data['Income'].isna()].index), axis = 0, inplace=True)"
   ]
  },
  {
   "cell_type": "markdown",
   "id": "5b0ac086",
   "metadata": {
    "papermill": {
     "duration": 0.01105,
     "end_time": "2023-01-20T11:55:00.275373",
     "exception": false,
     "start_time": "2023-01-20T11:55:00.264323",
     "status": "completed"
    },
    "tags": []
   },
   "source": [
    "**Conversion of column type:**"
   ]
  },
  {
   "cell_type": "code",
   "execution_count": 6,
   "id": "02edb96d",
   "metadata": {
    "execution": {
     "iopub.execute_input": "2023-01-20T11:55:00.300229Z",
     "iopub.status.busy": "2023-01-20T11:55:00.299206Z",
     "iopub.status.idle": "2023-01-20T11:55:00.311442Z",
     "shell.execute_reply": "2023-01-20T11:55:00.310629Z"
    },
    "papermill": {
     "duration": 0.027097,
     "end_time": "2023-01-20T11:55:00.313757",
     "exception": false,
     "start_time": "2023-01-20T11:55:00.286660",
     "status": "completed"
    },
    "tags": []
   },
   "outputs": [],
   "source": [
    "from pandas.api.types import CategoricalDtype\n",
    "education_ordered= CategoricalDtype(categories=['Basic','2n Cycle','Graduation', 'Master', 'PhD'], ordered=True)\n",
    "data['Education'] = data['Education'].astype(education_ordered)\n",
    "data['Dt_Customer'] = pd.to_datetime(data['Dt_Customer'])"
   ]
  },
  {
   "cell_type": "markdown",
   "id": "f5cc5ae8",
   "metadata": {
    "papermill": {
     "duration": 0.011628,
     "end_time": "2023-01-20T11:55:00.337018",
     "exception": false,
     "start_time": "2023-01-20T11:55:00.325390",
     "status": "completed"
    },
    "tags": []
   },
   "source": [
    "**Calculating the year and day difference with Dt_Customer column.**"
   ]
  },
  {
   "cell_type": "code",
   "execution_count": 7,
   "id": "bb87409f",
   "metadata": {
    "execution": {
     "iopub.execute_input": "2023-01-20T11:55:00.361722Z",
     "iopub.status.busy": "2023-01-20T11:55:00.361139Z",
     "iopub.status.idle": "2023-01-20T11:55:00.365362Z",
     "shell.execute_reply": "2023-01-20T11:55:00.364362Z"
    },
    "papermill": {
     "duration": 0.01946,
     "end_time": "2023-01-20T11:55:00.367754",
     "exception": false,
     "start_time": "2023-01-20T11:55:00.348294",
     "status": "completed"
    },
    "tags": []
   },
   "outputs": [],
   "source": [
    "from datetime import datetime\n",
    "currentYear = datetime.now().year"
   ]
  },
  {
   "cell_type": "code",
   "execution_count": 8,
   "id": "cb0d8bfc",
   "metadata": {
    "execution": {
     "iopub.execute_input": "2023-01-20T11:55:00.392384Z",
     "iopub.status.busy": "2023-01-20T11:55:00.391977Z",
     "iopub.status.idle": "2023-01-20T11:55:00.435811Z",
     "shell.execute_reply": "2023-01-20T11:55:00.434665Z"
    },
    "papermill": {
     "duration": 0.059386,
     "end_time": "2023-01-20T11:55:00.438659",
     "exception": false,
     "start_time": "2023-01-20T11:55:00.379273",
     "status": "completed"
    },
    "tags": []
   },
   "outputs": [],
   "source": [
    "data['Year_Customer'] = data['Dt_Customer'].dt.year.apply(lambda x : currentYear - x)\n",
    "data['DayDiff_Customer'] = data['Dt_Customer'].apply(lambda x : datetime.now() - x)\n",
    "data['DayDiff_Customer'] = data['DayDiff_Customer'].dt.days\n",
    "data.drop(['Dt_Customer'], axis = 1, inplace = True)"
   ]
  },
  {
   "cell_type": "markdown",
   "id": "51282fc8",
   "metadata": {
    "papermill": {
     "duration": 0.010944,
     "end_time": "2023-01-20T11:55:00.461151",
     "exception": false,
     "start_time": "2023-01-20T11:55:00.450207",
     "status": "completed"
    },
    "tags": []
   },
   "source": [
    "# Age Variable"
   ]
  },
  {
   "cell_type": "markdown",
   "id": "2f48220d",
   "metadata": {
    "papermill": {
     "duration": 0.010844,
     "end_time": "2023-01-20T11:55:00.483178",
     "exception": false,
     "start_time": "2023-01-20T11:55:00.472334",
     "status": "completed"
    },
    "tags": []
   },
   "source": [
    "**Calculates the age of every customer and drops the Year_Birth column:**"
   ]
  },
  {
   "cell_type": "code",
   "execution_count": 9,
   "id": "9eb28304",
   "metadata": {
    "execution": {
     "iopub.execute_input": "2023-01-20T11:55:00.507819Z",
     "iopub.status.busy": "2023-01-20T11:55:00.506778Z",
     "iopub.status.idle": "2023-01-20T11:55:00.532890Z",
     "shell.execute_reply": "2023-01-20T11:55:00.532114Z"
    },
    "papermill": {
     "duration": 0.040652,
     "end_time": "2023-01-20T11:55:00.535011",
     "exception": false,
     "start_time": "2023-01-20T11:55:00.494359",
     "status": "completed"
    },
    "tags": []
   },
   "outputs": [
    {
     "data": {
      "text/html": [
       "<div>\n",
       "<style scoped>\n",
       "    .dataframe tbody tr th:only-of-type {\n",
       "        vertical-align: middle;\n",
       "    }\n",
       "\n",
       "    .dataframe tbody tr th {\n",
       "        vertical-align: top;\n",
       "    }\n",
       "\n",
       "    .dataframe thead th {\n",
       "        text-align: right;\n",
       "    }\n",
       "</style>\n",
       "<table border=\"1\" class=\"dataframe\">\n",
       "  <thead>\n",
       "    <tr style=\"text-align: right;\">\n",
       "      <th></th>\n",
       "      <th>ID</th>\n",
       "      <th>Education</th>\n",
       "      <th>Marital_Status</th>\n",
       "      <th>Income</th>\n",
       "      <th>Kidhome</th>\n",
       "      <th>Teenhome</th>\n",
       "      <th>Recency</th>\n",
       "      <th>MntWines</th>\n",
       "      <th>MntFruits</th>\n",
       "      <th>MntMeatProducts</th>\n",
       "      <th>MntFishProducts</th>\n",
       "      <th>MntSweetProducts</th>\n",
       "      <th>MntGoldProds</th>\n",
       "      <th>NumDealsPurchases</th>\n",
       "      <th>NumWebPurchases</th>\n",
       "      <th>NumCatalogPurchases</th>\n",
       "      <th>NumStorePurchases</th>\n",
       "      <th>NumWebVisitsMonth</th>\n",
       "      <th>AcceptedCmp3</th>\n",
       "      <th>AcceptedCmp4</th>\n",
       "      <th>AcceptedCmp5</th>\n",
       "      <th>AcceptedCmp1</th>\n",
       "      <th>AcceptedCmp2</th>\n",
       "      <th>Complain</th>\n",
       "      <th>Z_CostContact</th>\n",
       "      <th>Z_Revenue</th>\n",
       "      <th>Response</th>\n",
       "      <th>Year_Customer</th>\n",
       "      <th>DayDiff_Customer</th>\n",
       "      <th>Age</th>\n",
       "    </tr>\n",
       "  </thead>\n",
       "  <tbody>\n",
       "    <tr>\n",
       "      <th>0</th>\n",
       "      <td>5524</td>\n",
       "      <td>Graduation</td>\n",
       "      <td>Single</td>\n",
       "      <td>58138.0</td>\n",
       "      <td>0</td>\n",
       "      <td>0</td>\n",
       "      <td>58</td>\n",
       "      <td>635</td>\n",
       "      <td>88</td>\n",
       "      <td>546</td>\n",
       "      <td>172</td>\n",
       "      <td>88</td>\n",
       "      <td>88</td>\n",
       "      <td>3</td>\n",
       "      <td>8</td>\n",
       "      <td>10</td>\n",
       "      <td>4</td>\n",
       "      <td>7</td>\n",
       "      <td>0</td>\n",
       "      <td>0</td>\n",
       "      <td>0</td>\n",
       "      <td>0</td>\n",
       "      <td>0</td>\n",
       "      <td>0</td>\n",
       "      <td>3</td>\n",
       "      <td>11</td>\n",
       "      <td>1</td>\n",
       "      <td>11</td>\n",
       "      <td>3938</td>\n",
       "      <td>66</td>\n",
       "    </tr>\n",
       "    <tr>\n",
       "      <th>1</th>\n",
       "      <td>2174</td>\n",
       "      <td>Graduation</td>\n",
       "      <td>Single</td>\n",
       "      <td>46344.0</td>\n",
       "      <td>1</td>\n",
       "      <td>1</td>\n",
       "      <td>38</td>\n",
       "      <td>11</td>\n",
       "      <td>1</td>\n",
       "      <td>6</td>\n",
       "      <td>2</td>\n",
       "      <td>1</td>\n",
       "      <td>6</td>\n",
       "      <td>2</td>\n",
       "      <td>1</td>\n",
       "      <td>1</td>\n",
       "      <td>2</td>\n",
       "      <td>5</td>\n",
       "      <td>0</td>\n",
       "      <td>0</td>\n",
       "      <td>0</td>\n",
       "      <td>0</td>\n",
       "      <td>0</td>\n",
       "      <td>0</td>\n",
       "      <td>3</td>\n",
       "      <td>11</td>\n",
       "      <td>0</td>\n",
       "      <td>9</td>\n",
       "      <td>3092</td>\n",
       "      <td>69</td>\n",
       "    </tr>\n",
       "    <tr>\n",
       "      <th>2</th>\n",
       "      <td>4141</td>\n",
       "      <td>Graduation</td>\n",
       "      <td>Together</td>\n",
       "      <td>71613.0</td>\n",
       "      <td>0</td>\n",
       "      <td>0</td>\n",
       "      <td>26</td>\n",
       "      <td>426</td>\n",
       "      <td>49</td>\n",
       "      <td>127</td>\n",
       "      <td>111</td>\n",
       "      <td>21</td>\n",
       "      <td>42</td>\n",
       "      <td>1</td>\n",
       "      <td>8</td>\n",
       "      <td>2</td>\n",
       "      <td>10</td>\n",
       "      <td>4</td>\n",
       "      <td>0</td>\n",
       "      <td>0</td>\n",
       "      <td>0</td>\n",
       "      <td>0</td>\n",
       "      <td>0</td>\n",
       "      <td>0</td>\n",
       "      <td>3</td>\n",
       "      <td>11</td>\n",
       "      <td>0</td>\n",
       "      <td>10</td>\n",
       "      <td>3439</td>\n",
       "      <td>58</td>\n",
       "    </tr>\n",
       "    <tr>\n",
       "      <th>3</th>\n",
       "      <td>6182</td>\n",
       "      <td>Graduation</td>\n",
       "      <td>Together</td>\n",
       "      <td>26646.0</td>\n",
       "      <td>1</td>\n",
       "      <td>0</td>\n",
       "      <td>26</td>\n",
       "      <td>11</td>\n",
       "      <td>4</td>\n",
       "      <td>20</td>\n",
       "      <td>10</td>\n",
       "      <td>3</td>\n",
       "      <td>5</td>\n",
       "      <td>2</td>\n",
       "      <td>2</td>\n",
       "      <td>0</td>\n",
       "      <td>4</td>\n",
       "      <td>6</td>\n",
       "      <td>0</td>\n",
       "      <td>0</td>\n",
       "      <td>0</td>\n",
       "      <td>0</td>\n",
       "      <td>0</td>\n",
       "      <td>0</td>\n",
       "      <td>3</td>\n",
       "      <td>11</td>\n",
       "      <td>0</td>\n",
       "      <td>9</td>\n",
       "      <td>3032</td>\n",
       "      <td>39</td>\n",
       "    </tr>\n",
       "    <tr>\n",
       "      <th>4</th>\n",
       "      <td>5324</td>\n",
       "      <td>PhD</td>\n",
       "      <td>Married</td>\n",
       "      <td>58293.0</td>\n",
       "      <td>1</td>\n",
       "      <td>0</td>\n",
       "      <td>94</td>\n",
       "      <td>173</td>\n",
       "      <td>43</td>\n",
       "      <td>118</td>\n",
       "      <td>46</td>\n",
       "      <td>27</td>\n",
       "      <td>15</td>\n",
       "      <td>5</td>\n",
       "      <td>5</td>\n",
       "      <td>3</td>\n",
       "      <td>6</td>\n",
       "      <td>5</td>\n",
       "      <td>0</td>\n",
       "      <td>0</td>\n",
       "      <td>0</td>\n",
       "      <td>0</td>\n",
       "      <td>0</td>\n",
       "      <td>0</td>\n",
       "      <td>3</td>\n",
       "      <td>11</td>\n",
       "      <td>0</td>\n",
       "      <td>9</td>\n",
       "      <td>3288</td>\n",
       "      <td>42</td>\n",
       "    </tr>\n",
       "  </tbody>\n",
       "</table>\n",
       "</div>"
      ],
      "text/plain": [
       "     ID   Education Marital_Status   Income  Kidhome  Teenhome  Recency  \\\n",
       "0  5524  Graduation         Single  58138.0        0         0       58   \n",
       "1  2174  Graduation         Single  46344.0        1         1       38   \n",
       "2  4141  Graduation       Together  71613.0        0         0       26   \n",
       "3  6182  Graduation       Together  26646.0        1         0       26   \n",
       "4  5324         PhD        Married  58293.0        1         0       94   \n",
       "\n",
       "   MntWines  MntFruits  MntMeatProducts  MntFishProducts  MntSweetProducts  \\\n",
       "0       635         88              546              172                88   \n",
       "1        11          1                6                2                 1   \n",
       "2       426         49              127              111                21   \n",
       "3        11          4               20               10                 3   \n",
       "4       173         43              118               46                27   \n",
       "\n",
       "   MntGoldProds  NumDealsPurchases  NumWebPurchases  NumCatalogPurchases  \\\n",
       "0            88                  3                8                   10   \n",
       "1             6                  2                1                    1   \n",
       "2            42                  1                8                    2   \n",
       "3             5                  2                2                    0   \n",
       "4            15                  5                5                    3   \n",
       "\n",
       "   NumStorePurchases  NumWebVisitsMonth  AcceptedCmp3  AcceptedCmp4  \\\n",
       "0                  4                  7             0             0   \n",
       "1                  2                  5             0             0   \n",
       "2                 10                  4             0             0   \n",
       "3                  4                  6             0             0   \n",
       "4                  6                  5             0             0   \n",
       "\n",
       "   AcceptedCmp5  AcceptedCmp1  AcceptedCmp2  Complain  Z_CostContact  \\\n",
       "0             0             0             0         0              3   \n",
       "1             0             0             0         0              3   \n",
       "2             0             0             0         0              3   \n",
       "3             0             0             0         0              3   \n",
       "4             0             0             0         0              3   \n",
       "\n",
       "   Z_Revenue  Response  Year_Customer  DayDiff_Customer  Age  \n",
       "0         11         1             11              3938   66  \n",
       "1         11         0              9              3092   69  \n",
       "2         11         0             10              3439   58  \n",
       "3         11         0              9              3032   39  \n",
       "4         11         0              9              3288   42  "
      ]
     },
     "execution_count": 9,
     "metadata": {},
     "output_type": "execute_result"
    }
   ],
   "source": [
    "data['Age'] = data['Year_Birth'].apply(lambda x : currentYear - x)\n",
    "# Drops the Year_Birth column\n",
    "data.drop(['Year_Birth'], axis = 1, inplace = True)\n",
    "data.head()"
   ]
  },
  {
   "cell_type": "markdown",
   "id": "d898be0f",
   "metadata": {
    "papermill": {
     "duration": 0.011586,
     "end_time": "2023-01-20T11:55:00.558958",
     "exception": false,
     "start_time": "2023-01-20T11:55:00.547372",
     "status": "completed"
    },
    "tags": []
   },
   "source": [
    "**The distribution of Age variable:**"
   ]
  },
  {
   "cell_type": "code",
   "execution_count": 10,
   "id": "52995076",
   "metadata": {
    "execution": {
     "iopub.execute_input": "2023-01-20T11:55:00.584583Z",
     "iopub.status.busy": "2023-01-20T11:55:00.583644Z",
     "iopub.status.idle": "2023-01-20T11:55:00.856913Z",
     "shell.execute_reply": "2023-01-20T11:55:00.856032Z"
    },
    "papermill": {
     "duration": 0.288335,
     "end_time": "2023-01-20T11:55:00.859095",
     "exception": false,
     "start_time": "2023-01-20T11:55:00.570760",
     "status": "completed"
    },
    "tags": []
   },
   "outputs": [
    {
     "data": {
      "text/plain": [
       "<AxesSubplot:xlabel='Age', ylabel='Count'>"
      ]
     },
     "execution_count": 10,
     "metadata": {},
     "output_type": "execute_result"
    },
    {
     "data": {
      "image/png": "[encoded data removed]",
      "text/plain": [
       "<Figure size 432x288 with 1 Axes>"
      ]
     },
     "metadata": {
      "needs_background": "light"
     },
     "output_type": "display_data"
    }
   ],
   "source": [
    "sns.histplot(data['Age'], bins=10)"
   ]
  },
  {
   "cell_type": "markdown",
   "id": "4b3ce74e",
   "metadata": {
    "papermill": {
     "duration": 0.011743,
     "end_time": "2023-01-20T11:55:00.883138",
     "exception": false,
     "start_time": "2023-01-20T11:55:00.871395",
     "status": "completed"
    },
    "tags": []
   },
   "source": [
    "**The age distribution rounds around 50. There are some outliers above 100.**"
   ]
  },
  {
   "cell_type": "code",
   "execution_count": 11,
   "id": "fcbedb76",
   "metadata": {
    "execution": {
     "iopub.execute_input": "2023-01-20T11:55:00.909614Z",
     "iopub.status.busy": "2023-01-20T11:55:00.908714Z",
     "iopub.status.idle": "2023-01-20T11:55:00.916169Z",
     "shell.execute_reply": "2023-01-20T11:55:00.915065Z"
    },
    "papermill": {
     "duration": 0.022918,
     "end_time": "2023-01-20T11:55:00.918385",
     "exception": false,
     "start_time": "2023-01-20T11:55:00.895467",
     "status": "completed"
    },
    "tags": []
   },
   "outputs": [
    {
     "data": {
      "text/plain": [
       "130"
      ]
     },
     "execution_count": 11,
     "metadata": {},
     "output_type": "execute_result"
    }
   ],
   "source": [
    "data['Age'].max()"
   ]
  },
  {
   "cell_type": "code",
   "execution_count": 12,
   "id": "a64a5cc6",
   "metadata": {
    "execution": {
     "iopub.execute_input": "2023-01-20T11:55:00.945030Z",
     "iopub.status.busy": "2023-01-20T11:55:00.943856Z",
     "iopub.status.idle": "2023-01-20T11:55:00.966088Z",
     "shell.execute_reply": "2023-01-20T11:55:00.964877Z"
    },
    "papermill": {
     "duration": 0.038033,
     "end_time": "2023-01-20T11:55:00.968549",
     "exception": false,
     "start_time": "2023-01-20T11:55:00.930516",
     "status": "completed"
    },
    "tags": []
   },
   "outputs": [
    {
     "data": {
      "text/html": [
       "<div>\n",
       "<style scoped>\n",
       "    .dataframe tbody tr th:only-of-type {\n",
       "        vertical-align: middle;\n",
       "    }\n",
       "\n",
       "    .dataframe tbody tr th {\n",
       "        vertical-align: top;\n",
       "    }\n",
       "\n",
       "    .dataframe thead th {\n",
       "        text-align: right;\n",
       "    }\n",
       "</style>\n",
       "<table border=\"1\" class=\"dataframe\">\n",
       "  <thead>\n",
       "    <tr style=\"text-align: right;\">\n",
       "      <th></th>\n",
       "      <th>ID</th>\n",
       "      <th>Education</th>\n",
       "      <th>Marital_Status</th>\n",
       "      <th>Income</th>\n",
       "      <th>Kidhome</th>\n",
       "      <th>Teenhome</th>\n",
       "      <th>Recency</th>\n",
       "      <th>MntWines</th>\n",
       "      <th>MntFruits</th>\n",
       "      <th>MntMeatProducts</th>\n",
       "      <th>MntFishProducts</th>\n",
       "      <th>MntSweetProducts</th>\n",
       "      <th>MntGoldProds</th>\n",
       "      <th>NumDealsPurchases</th>\n",
       "      <th>NumWebPurchases</th>\n",
       "      <th>NumCatalogPurchases</th>\n",
       "      <th>NumStorePurchases</th>\n",
       "      <th>NumWebVisitsMonth</th>\n",
       "      <th>AcceptedCmp3</th>\n",
       "      <th>AcceptedCmp4</th>\n",
       "      <th>AcceptedCmp5</th>\n",
       "      <th>AcceptedCmp1</th>\n",
       "      <th>AcceptedCmp2</th>\n",
       "      <th>Complain</th>\n",
       "      <th>Z_CostContact</th>\n",
       "      <th>Z_Revenue</th>\n",
       "      <th>Response</th>\n",
       "      <th>Year_Customer</th>\n",
       "      <th>DayDiff_Customer</th>\n",
       "      <th>Age</th>\n",
       "    </tr>\n",
       "  </thead>\n",
       "  <tbody>\n",
       "    <tr>\n",
       "      <th>192</th>\n",
       "      <td>7829</td>\n",
       "      <td>2n Cycle</td>\n",
       "      <td>Divorced</td>\n",
       "      <td>36640.0</td>\n",
       "      <td>1</td>\n",
       "      <td>0</td>\n",
       "      <td>99</td>\n",
       "      <td>15</td>\n",
       "      <td>6</td>\n",
       "      <td>8</td>\n",
       "      <td>7</td>\n",
       "      <td>4</td>\n",
       "      <td>25</td>\n",
       "      <td>1</td>\n",
       "      <td>2</td>\n",
       "      <td>1</td>\n",
       "      <td>2</td>\n",
       "      <td>5</td>\n",
       "      <td>0</td>\n",
       "      <td>0</td>\n",
       "      <td>0</td>\n",
       "      <td>0</td>\n",
       "      <td>0</td>\n",
       "      <td>1</td>\n",
       "      <td>3</td>\n",
       "      <td>11</td>\n",
       "      <td>0</td>\n",
       "      <td>10</td>\n",
       "      <td>3403</td>\n",
       "      <td>123</td>\n",
       "    </tr>\n",
       "    <tr>\n",
       "      <th>239</th>\n",
       "      <td>11004</td>\n",
       "      <td>2n Cycle</td>\n",
       "      <td>Single</td>\n",
       "      <td>60182.0</td>\n",
       "      <td>0</td>\n",
       "      <td>1</td>\n",
       "      <td>23</td>\n",
       "      <td>8</td>\n",
       "      <td>0</td>\n",
       "      <td>5</td>\n",
       "      <td>7</td>\n",
       "      <td>0</td>\n",
       "      <td>2</td>\n",
       "      <td>1</td>\n",
       "      <td>1</td>\n",
       "      <td>0</td>\n",
       "      <td>2</td>\n",
       "      <td>4</td>\n",
       "      <td>0</td>\n",
       "      <td>0</td>\n",
       "      <td>0</td>\n",
       "      <td>0</td>\n",
       "      <td>0</td>\n",
       "      <td>0</td>\n",
       "      <td>3</td>\n",
       "      <td>11</td>\n",
       "      <td>0</td>\n",
       "      <td>9</td>\n",
       "      <td>3170</td>\n",
       "      <td>130</td>\n",
       "    </tr>\n",
       "    <tr>\n",
       "      <th>339</th>\n",
       "      <td>1150</td>\n",
       "      <td>PhD</td>\n",
       "      <td>Together</td>\n",
       "      <td>83532.0</td>\n",
       "      <td>0</td>\n",
       "      <td>0</td>\n",
       "      <td>36</td>\n",
       "      <td>755</td>\n",
       "      <td>144</td>\n",
       "      <td>562</td>\n",
       "      <td>104</td>\n",
       "      <td>64</td>\n",
       "      <td>224</td>\n",
       "      <td>1</td>\n",
       "      <td>4</td>\n",
       "      <td>6</td>\n",
       "      <td>4</td>\n",
       "      <td>1</td>\n",
       "      <td>0</td>\n",
       "      <td>0</td>\n",
       "      <td>1</td>\n",
       "      <td>0</td>\n",
       "      <td>0</td>\n",
       "      <td>0</td>\n",
       "      <td>3</td>\n",
       "      <td>11</td>\n",
       "      <td>0</td>\n",
       "      <td>10</td>\n",
       "      <td>3403</td>\n",
       "      <td>124</td>\n",
       "    </tr>\n",
       "  </tbody>\n",
       "</table>\n",
       "</div>"
      ],
      "text/plain": [
       "        ID Education Marital_Status   Income  Kidhome  Teenhome  Recency  \\\n",
       "192   7829  2n Cycle       Divorced  36640.0        1         0       99   \n",
       "239  11004  2n Cycle         Single  60182.0        0         1       23   \n",
       "339   1150       PhD       Together  83532.0        0         0       36   \n",
       "\n",
       "     MntWines  MntFruits  MntMeatProducts  MntFishProducts  MntSweetProducts  \\\n",
       "192        15          6                8                7                 4   \n",
       "239         8          0                5                7                 0   \n",
       "339       755        144              562              104                64   \n",
       "\n",
       "     MntGoldProds  NumDealsPurchases  NumWebPurchases  NumCatalogPurchases  \\\n",
       "192            25                  1                2                    1   \n",
       "239             2                  1                1                    0   \n",
       "339           224                  1                4                    6   \n",
       "\n",
       "     NumStorePurchases  NumWebVisitsMonth  AcceptedCmp3  AcceptedCmp4  \\\n",
       "192                  2                  5             0             0   \n",
       "239                  2                  4             0             0   \n",
       "339                  4                  1             0             0   \n",
       "\n",
       "     AcceptedCmp5  AcceptedCmp1  AcceptedCmp2  Complain  Z_CostContact  \\\n",
       "192             0             0             0         1              3   \n",
       "239             0             0             0         0              3   \n",
       "339             1             0             0         0              3   \n",
       "\n",
       "     Z_Revenue  Response  Year_Customer  DayDiff_Customer  Age  \n",
       "192         11         0             10              3403  123  \n",
       "239         11         0              9              3170  130  \n",
       "339         11         0             10              3403  124  "
      ]
     },
     "execution_count": 12,
     "metadata": {},
     "output_type": "execute_result"
    }
   ],
   "source": [
    "data[data['Age'] > 100]"
   ]
  },
  {
   "cell_type": "markdown",
   "id": "a8f58792",
   "metadata": {
    "papermill": {
     "duration": 0.012097,
     "end_time": "2023-01-20T11:55:00.993301",
     "exception": false,
     "start_time": "2023-01-20T11:55:00.981204",
     "status": "completed"
    },
    "tags": []
   },
   "source": [
    "**Because of that the age group does not frequent, it could be removed from dataset to make the feature model work well.**\n",
    "\n",
    "**The code below drops the customers which is over the age of 100:**"
   ]
  },
  {
   "cell_type": "code",
   "execution_count": 13,
   "id": "61a76296",
   "metadata": {
    "execution": {
     "iopub.execute_input": "2023-01-20T11:55:01.020533Z",
     "iopub.status.busy": "2023-01-20T11:55:01.019733Z",
     "iopub.status.idle": "2023-01-20T11:55:01.027021Z",
     "shell.execute_reply": "2023-01-20T11:55:01.026116Z"
    },
    "papermill": {
     "duration": 0.023587,
     "end_time": "2023-01-20T11:55:01.029354",
     "exception": false,
     "start_time": "2023-01-20T11:55:01.005767",
     "status": "completed"
    },
    "tags": []
   },
   "outputs": [],
   "source": [
    "data.drop(index=(data[data['Age'] > 100].index), axis = 0, inplace=True)"
   ]
  },
  {
   "cell_type": "markdown",
   "id": "d5231828",
   "metadata": {
    "papermill": {
     "duration": 0.013141,
     "end_time": "2023-01-20T11:55:01.055018",
     "exception": false,
     "start_time": "2023-01-20T11:55:01.041877",
     "status": "completed"
    },
    "tags": []
   },
   "source": [
    "**Setting ticks for X axis of age distribution histogram:**"
   ]
  },
  {
   "cell_type": "code",
   "execution_count": 14,
   "id": "1d60eb77",
   "metadata": {
    "execution": {
     "iopub.execute_input": "2023-01-20T11:55:01.082114Z",
     "iopub.status.busy": "2023-01-20T11:55:01.081335Z",
     "iopub.status.idle": "2023-01-20T11:55:01.089226Z",
     "shell.execute_reply": "2023-01-20T11:55:01.088288Z"
    },
    "papermill": {
     "duration": 0.024118,
     "end_time": "2023-01-20T11:55:01.091515",
     "exception": false,
     "start_time": "2023-01-20T11:55:01.067397",
     "status": "completed"
    },
    "tags": []
   },
   "outputs": [
    {
     "data": {
      "text/plain": [
       "25"
      ]
     },
     "execution_count": 14,
     "metadata": {},
     "output_type": "execute_result"
    }
   ],
   "source": [
    "minAgeTick = int(data['Age'].min() - (data['Age'].min() % 5))\n",
    "minAgeTick"
   ]
  },
  {
   "cell_type": "code",
   "execution_count": 15,
   "id": "c38d3b9d",
   "metadata": {
    "execution": {
     "iopub.execute_input": "2023-01-20T11:55:01.118911Z",
     "iopub.status.busy": "2023-01-20T11:55:01.118105Z",
     "iopub.status.idle": "2023-01-20T11:55:01.125739Z",
     "shell.execute_reply": "2023-01-20T11:55:01.124868Z"
    },
    "papermill": {
     "duration": 0.023932,
     "end_time": "2023-01-20T11:55:01.127982",
     "exception": false,
     "start_time": "2023-01-20T11:55:01.104050",
     "status": "completed"
    },
    "tags": []
   },
   "outputs": [
    {
     "data": {
      "text/plain": [
       "85"
      ]
     },
     "execution_count": 15,
     "metadata": {},
     "output_type": "execute_result"
    }
   ],
   "source": [
    "maxAgeTick = int(((data['Age'].max() // 5) + 1) * 5)\n",
    "maxAgeTick"
   ]
  },
  {
   "cell_type": "code",
   "execution_count": 16,
   "id": "dcddc819",
   "metadata": {
    "execution": {
     "iopub.execute_input": "2023-01-20T11:55:01.155057Z",
     "iopub.status.busy": "2023-01-20T11:55:01.154623Z",
     "iopub.status.idle": "2023-01-20T11:55:01.162031Z",
     "shell.execute_reply": "2023-01-20T11:55:01.161074Z"
    },
    "papermill": {
     "duration": 0.023685,
     "end_time": "2023-01-20T11:55:01.164231",
     "exception": false,
     "start_time": "2023-01-20T11:55:01.140546",
     "status": "completed"
    },
    "tags": []
   },
   "outputs": [
    {
     "data": {
      "text/plain": [
       "[25, 30, 35, 40, 45, 50, 55, 60, 65, 70, 75, 80, 85]"
      ]
     },
     "execution_count": 16,
     "metadata": {},
     "output_type": "execute_result"
    }
   ],
   "source": [
    "ticks = list(range(minAgeTick,maxAgeTick+1, 5))\n",
    "ticks"
   ]
  },
  {
   "cell_type": "markdown",
   "id": "ce5679ad",
   "metadata": {
    "papermill": {
     "duration": 0.013127,
     "end_time": "2023-01-20T11:55:01.190186",
     "exception": false,
     "start_time": "2023-01-20T11:55:01.177059",
     "status": "completed"
    },
    "tags": []
   },
   "source": [
    "**Histogram of the Age Variable**"
   ]
  },
  {
   "cell_type": "code",
   "execution_count": 17,
   "id": "a0a2e532",
   "metadata": {
    "execution": {
     "iopub.execute_input": "2023-01-20T11:55:01.217935Z",
     "iopub.status.busy": "2023-01-20T11:55:01.217495Z",
     "iopub.status.idle": "2023-01-20T11:55:01.492578Z",
     "shell.execute_reply": "2023-01-20T11:55:01.491418Z"
    },
    "papermill": {
     "duration": 0.292163,
     "end_time": "2023-01-20T11:55:01.495328",
     "exception": false,
     "start_time": "2023-01-20T11:55:01.203165",
     "status": "completed"
    },
    "tags": []
   },
   "outputs": [
    {
     "data": {
      "text/plain": [
       "[<matplotlib.axis.XTick at 0x7fe4ccae4e10>,\n",
       " <matplotlib.axis.XTick at 0x7fe4ccce6690>,\n",
       " <matplotlib.axis.XTick at 0x7fe4ca948bd0>,\n",
       " <matplotlib.axis.XTick at 0x7fe4ca8f4410>,\n",
       " <matplotlib.axis.XTick at 0x7fe4ca8f4490>,\n",
       " <matplotlib.axis.XTick at 0x7fe4ca8fc1d0>,\n",
       " <matplotlib.axis.XTick at 0x7fe4ca8fc110>,\n",
       " <matplotlib.axis.XTick at 0x7fe4ca8fc950>,\n",
       " <matplotlib.axis.XTick at 0x7fe4cce09e90>,\n",
       " <matplotlib.axis.XTick at 0x7fe4ca9489d0>,\n",
       " <matplotlib.axis.XTick at 0x7fe4ca948f10>,\n",
       " <matplotlib.axis.XTick at 0x7fe4ca910590>,\n",
       " <matplotlib.axis.XTick at 0x7fe4ca9102d0>]"
      ]
     },
     "execution_count": 17,
     "metadata": {},
     "output_type": "execute_result"
    },
    {
     "data": {
      "image/png": "[encoded data removed]",
      "text/plain": [
       "<Figure size 432x288 with 1 Axes>"
      ]
     },
     "metadata": {
      "needs_background": "light"
     },
     "output_type": "display_data"
    }
   ],
   "source": [
    "histogram_plot = sns.histplot(data['Age'],bins=10)\n",
    "histogram_plot.set_xticks(ticks)"
   ]
  },
  {
   "cell_type": "markdown",
   "id": "cc4ed63e",
   "metadata": {
    "papermill": {
     "duration": 0.013144,
     "end_time": "2023-01-20T11:55:01.521895",
     "exception": false,
     "start_time": "2023-01-20T11:55:01.508751",
     "status": "completed"
    },
    "tags": []
   },
   "source": [
    "**The histogram is more clear for observation now.**\n",
    "<hr>\n",
    "\n",
    "**Setting the age groups based on a function.**"
   ]
  },
  {
   "cell_type": "code",
   "execution_count": 18,
   "id": "27a59a34",
   "metadata": {
    "execution": {
     "iopub.execute_input": "2023-01-20T11:55:01.550353Z",
     "iopub.status.busy": "2023-01-20T11:55:01.549539Z",
     "iopub.status.idle": "2023-01-20T11:55:01.555376Z",
     "shell.execute_reply": "2023-01-20T11:55:01.554635Z"
    },
    "papermill": {
     "duration": 0.022643,
     "end_time": "2023-01-20T11:55:01.557587",
     "exception": false,
     "start_time": "2023-01-20T11:55:01.534944",
     "status": "completed"
    },
    "tags": []
   },
   "outputs": [],
   "source": [
    "def age_group(age):\n",
    "    if age <= 25:\n",
    "        age_group = 'Young Adult'\n",
    "    elif (age > 25) & (age <= 64):\n",
    "        age_group = 'Adult'\n",
    "    else:\n",
    "        age_group = 'Elder'\n",
    "    return age_group"
   ]
  },
  {
   "cell_type": "code",
   "execution_count": 19,
   "id": "c61dbb85",
   "metadata": {
    "execution": {
     "iopub.execute_input": "2023-01-20T11:55:01.585859Z",
     "iopub.status.busy": "2023-01-20T11:55:01.585216Z",
     "iopub.status.idle": "2023-01-20T11:55:01.592240Z",
     "shell.execute_reply": "2023-01-20T11:55:01.591465Z"
    },
    "papermill": {
     "duration": 0.023822,
     "end_time": "2023-01-20T11:55:01.594475",
     "exception": false,
     "start_time": "2023-01-20T11:55:01.570653",
     "status": "completed"
    },
    "tags": []
   },
   "outputs": [],
   "source": [
    "data['Age_Group'] = data['Age'].apply(lambda x: age_group(x))"
   ]
  },
  {
   "cell_type": "markdown",
   "id": "750ca0b2",
   "metadata": {
    "papermill": {
     "duration": 0.012881,
     "end_time": "2023-01-20T11:55:01.620904",
     "exception": false,
     "start_time": "2023-01-20T11:55:01.608023",
     "status": "completed"
    },
    "tags": []
   },
   "source": [
    "# Marital Status Variable"
   ]
  },
  {
   "cell_type": "code",
   "execution_count": 20,
   "id": "c8ae680d",
   "metadata": {
    "execution": {
     "iopub.execute_input": "2023-01-20T11:55:01.649526Z",
     "iopub.status.busy": "2023-01-20T11:55:01.648855Z",
     "iopub.status.idle": "2023-01-20T11:55:01.657049Z",
     "shell.execute_reply": "2023-01-20T11:55:01.655849Z"
    },
    "papermill": {
     "duration": 0.025118,
     "end_time": "2023-01-20T11:55:01.659240",
     "exception": false,
     "start_time": "2023-01-20T11:55:01.634122",
     "status": "completed"
    },
    "tags": []
   },
   "outputs": [
    {
     "data": {
      "text/plain": [
       "Married     857\n",
       "Together    572\n",
       "Single      470\n",
       "Divorced    231\n",
       "Widow        76\n",
       "Alone         3\n",
       "Absurd        2\n",
       "YOLO          2\n",
       "Name: Marital_Status, dtype: int64"
      ]
     },
     "execution_count": 20,
     "metadata": {},
     "output_type": "execute_result"
    }
   ],
   "source": [
    "data['Marital_Status'].value_counts()"
   ]
  },
  {
   "cell_type": "markdown",
   "id": "3a8ccd17",
   "metadata": {
    "papermill": {
     "duration": 0.013557,
     "end_time": "2023-01-20T11:55:01.686301",
     "exception": false,
     "start_time": "2023-01-20T11:55:01.672744",
     "status": "completed"
    },
    "tags": []
   },
   "source": [
    "**There are some categories which has very low value.\n",
    "Drops the non-freqent categories:**"
   ]
  },
  {
   "cell_type": "code",
   "execution_count": 21,
   "id": "097e70b5",
   "metadata": {
    "execution": {
     "iopub.execute_input": "2023-01-20T11:55:01.714831Z",
     "iopub.status.busy": "2023-01-20T11:55:01.714103Z",
     "iopub.status.idle": "2023-01-20T11:55:01.726796Z",
     "shell.execute_reply": "2023-01-20T11:55:01.725355Z"
    },
    "papermill": {
     "duration": 0.030026,
     "end_time": "2023-01-20T11:55:01.729619",
     "exception": false,
     "start_time": "2023-01-20T11:55:01.699593",
     "status": "completed"
    },
    "tags": []
   },
   "outputs": [],
   "source": [
    "data.drop(index=(data[data['Marital_Status'] == 'Alone'].index), axis = 0, inplace = True)\n",
    "data.drop(index=(data[data['Marital_Status'] == 'Absurd'].index), axis = 0, inplace = True)\n",
    "data.drop(index=(data[data['Marital_Status'] == 'YOLO'].index), axis = 0, inplace = True)"
   ]
  },
  {
   "cell_type": "markdown",
   "id": "ebc761df",
   "metadata": {
    "papermill": {
     "duration": 0.014023,
     "end_time": "2023-01-20T11:55:01.757041",
     "exception": false,
     "start_time": "2023-01-20T11:55:01.743018",
     "status": "completed"
    },
    "tags": []
   },
   "source": [
    "# <p id = \"2\" style=\"font-family:arial;background-color:#2A93D5;color:#FFFFFF;font-size: 150%;text-align:center;border-radius: 0px 15px 15px 0px;border-style: solid;border-color: #2483bf;\">2.VISUALIZATION and EXPLORATORY ANALYSIS</p>\n",
    "[Click to return Table of Contents](#0)"
   ]
  },
  {
   "cell_type": "markdown",
   "id": "df5acf4c",
   "metadata": {
    "papermill": {
     "duration": 0.01303,
     "end_time": "2023-01-20T11:55:01.783466",
     "exception": false,
     "start_time": "2023-01-20T11:55:01.770436",
     "status": "completed"
    },
    "tags": []
   },
   "source": [
    "<p style=\"text-align:center; font-size:125%;\"><b>The Age Distribution</b></p>"
   ]
  },
  {
   "cell_type": "code",
   "execution_count": 22,
   "id": "78f81d4c",
   "metadata": {
    "execution": {
     "iopub.execute_input": "2023-01-20T11:55:01.811826Z",
     "iopub.status.busy": "2023-01-20T11:55:01.811344Z",
     "iopub.status.idle": "2023-01-20T11:55:02.086066Z",
     "shell.execute_reply": "2023-01-20T11:55:02.085230Z"
    },
    "papermill": {
     "duration": 0.291474,
     "end_time": "2023-01-20T11:55:02.088314",
     "exception": false,
     "start_time": "2023-01-20T11:55:01.796840",
     "status": "completed"
    },
    "tags": []
   },
   "outputs": [
    {
     "data": {
      "text/plain": [
       "[<matplotlib.axis.XTick at 0x7fe4caa5ac50>,\n",
       " <matplotlib.axis.XTick at 0x7fe4ca966c10>,\n",
       " <matplotlib.axis.XTick at 0x7fe4ca87eed0>,\n",
       " <matplotlib.axis.XTick at 0x7fe4ca8a3b90>,\n",
       " <matplotlib.axis.XTick at 0x7fe4ca831410>,\n",
       " <matplotlib.axis.XTick at 0x7fe4ca8a3910>,\n",
       " <matplotlib.axis.XTick at 0x7fe4ca8315d0>,\n",
       " <matplotlib.axis.XTick at 0x7fe4ca83c5d0>,\n",
       " <matplotlib.axis.XTick at 0x7fe4ca966910>,\n",
       " <matplotlib.axis.XTick at 0x7fe4ca88a610>,\n",
       " <matplotlib.axis.XTick at 0x7fe4ca88a290>,\n",
       " <matplotlib.axis.XTick at 0x7fe4ca859750>,\n",
       " <matplotlib.axis.XTick at 0x7fe4ca860310>]"
      ]
     },
     "execution_count": 22,
     "metadata": {},
     "output_type": "execute_result"
    },
    {
     "data": {
      "image/png": "[encoded data removed]",
      "text/plain": [
       "<Figure size 432x288 with 1 Axes>"
      ]
     },
     "metadata": {
      "needs_background": "light"
     },
     "output_type": "display_data"
    }
   ],
   "source": [
    "histogram_plot = sns.histplot(data['Age'],bins=10)\n",
    "histogram_plot.set_xticks(ticks)"
   ]
  },
  {
   "cell_type": "code",
   "execution_count": 23,
   "id": "e7f3b6d6",
   "metadata": {
    "execution": {
     "iopub.execute_input": "2023-01-20T11:55:02.118024Z",
     "iopub.status.busy": "2023-01-20T11:55:02.117529Z",
     "iopub.status.idle": "2023-01-20T11:55:02.317642Z",
     "shell.execute_reply": "2023-01-20T11:55:02.316554Z"
    },
    "papermill": {
     "duration": 0.2178,
     "end_time": "2023-01-20T11:55:02.319964",
     "exception": false,
     "start_time": "2023-01-20T11:55:02.102164",
     "status": "completed"
    },
    "tags": []
   },
   "outputs": [
    {
     "data": {
      "text/plain": [
       "<AxesSubplot:xlabel='Age_Group', ylabel='count'>"
      ]
     },
     "execution_count": 23,
     "metadata": {},
     "output_type": "execute_result"
    },
    {
     "data": {
      "image/png": "[encoded data removed]",
      "text/plain": [
       "<Figure size 432x288 with 1 Axes>"
      ]
     },
     "metadata": {
      "needs_background": "light"
     },
     "output_type": "display_data"
    }
   ],
   "source": [
    "sns.countplot(data=data, x=\"Age_Group\")"
   ]
  },
  {
   "cell_type": "markdown",
   "id": "f7ae749f",
   "metadata": {
    "papermill": {
     "duration": 0.013579,
     "end_time": "2023-01-20T11:55:02.347866",
     "exception": false,
     "start_time": "2023-01-20T11:55:02.334287",
     "status": "completed"
    },
    "tags": []
   },
   "source": [
    "Percents of each age group:"
   ]
  },
  {
   "cell_type": "code",
   "execution_count": 24,
   "id": "b3b98dbc",
   "metadata": {
    "execution": {
     "iopub.execute_input": "2023-01-20T11:55:02.378010Z",
     "iopub.status.busy": "2023-01-20T11:55:02.376836Z",
     "iopub.status.idle": "2023-01-20T11:55:02.385854Z",
     "shell.execute_reply": "2023-01-20T11:55:02.385063Z"
    },
    "papermill": {
     "duration": 0.026279,
     "end_time": "2023-01-20T11:55:02.387966",
     "exception": false,
     "start_time": "2023-01-20T11:55:02.361687",
     "status": "completed"
    },
    "tags": []
   },
   "outputs": [
    {
     "data": {
      "text/plain": [
       "Adult    77.0\n",
       "Elder    23.0\n",
       "Name: Age_Group, dtype: float64"
      ]
     },
     "execution_count": 24,
     "metadata": {},
     "output_type": "execute_result"
    }
   ],
   "source": [
    "round((data['Age_Group'].value_counts(normalize=True) * 100),0)"
   ]
  },
  {
   "cell_type": "markdown",
   "id": "c2942407",
   "metadata": {
    "papermill": {
     "duration": 0.013537,
     "end_time": "2023-01-20T11:55:02.415722",
     "exception": false,
     "start_time": "2023-01-20T11:55:02.402185",
     "status": "completed"
    },
    "tags": []
   },
   "source": [
    "<p style=\"text-align:center; font-size:125%;\"><b>Education</b></p>"
   ]
  },
  {
   "cell_type": "code",
   "execution_count": 25,
   "id": "1a022426",
   "metadata": {
    "execution": {
     "iopub.execute_input": "2023-01-20T11:55:02.445214Z",
     "iopub.status.busy": "2023-01-20T11:55:02.444801Z",
     "iopub.status.idle": "2023-01-20T11:55:02.646077Z",
     "shell.execute_reply": "2023-01-20T11:55:02.645282Z"
    },
    "papermill": {
     "duration": 0.21854,
     "end_time": "2023-01-20T11:55:02.648214",
     "exception": false,
     "start_time": "2023-01-20T11:55:02.429674",
     "status": "completed"
    },
    "tags": []
   },
   "outputs": [
    {
     "data": {
      "text/plain": [
       "<AxesSubplot:xlabel='Education', ylabel='count'>"
      ]
     },
     "execution_count": 25,
     "metadata": {},
     "output_type": "execute_result"
    },
    {
     "data": {
      "image/png": "[encoded data removed]",
      "text/plain": [
       "<Figure size 432x288 with 1 Axes>"
      ]
     },
     "metadata": {
      "needs_background": "light"
     },
     "output_type": "display_data"
    }
   ],
   "source": [
    "sns.countplot(data=data, x=\"Education\")"
   ]
  },
  {
   "cell_type": "markdown",
   "id": "cc48b9d2",
   "metadata": {
    "papermill": {
     "duration": 0.014218,
     "end_time": "2023-01-20T11:55:02.677337",
     "exception": false,
     "start_time": "2023-01-20T11:55:02.663119",
     "status": "completed"
    },
    "tags": []
   },
   "source": [
    "Percents of each education group:"
   ]
  },
  {
   "cell_type": "code",
   "execution_count": 26,
   "id": "c8a79a60",
   "metadata": {
    "execution": {
     "iopub.execute_input": "2023-01-20T11:55:02.708316Z",
     "iopub.status.busy": "2023-01-20T11:55:02.707392Z",
     "iopub.status.idle": "2023-01-20T11:55:02.717584Z",
     "shell.execute_reply": "2023-01-20T11:55:02.716468Z"
    },
    "papermill": {
     "duration": 0.028211,
     "end_time": "2023-01-20T11:55:02.719948",
     "exception": false,
     "start_time": "2023-01-20T11:55:02.691737",
     "status": "completed"
    },
    "tags": []
   },
   "outputs": [
    {
     "data": {
      "text/plain": [
       "Graduation    50.0\n",
       "PhD           22.0\n",
       "Master        16.0\n",
       "2n Cycle       9.0\n",
       "Basic          2.0\n",
       "Name: Education, dtype: float64"
      ]
     },
     "execution_count": 26,
     "metadata": {},
     "output_type": "execute_result"
    }
   ],
   "source": [
    "round((data['Education'].value_counts(normalize=True) * 100),0)"
   ]
  },
  {
   "cell_type": "markdown",
   "id": "240fa81c",
   "metadata": {
    "papermill": {
     "duration": 0.013831,
     "end_time": "2023-01-20T11:55:02.748298",
     "exception": false,
     "start_time": "2023-01-20T11:55:02.734467",
     "status": "completed"
    },
    "tags": []
   },
   "source": [
    "<p style=\"text-align:center; font-size:125%;\"><b>Marital Status</b></p>"
   ]
  },
  {
   "cell_type": "code",
   "execution_count": 27,
   "id": "6e64b7e2",
   "metadata": {
    "execution": {
     "iopub.execute_input": "2023-01-20T11:55:02.778815Z",
     "iopub.status.busy": "2023-01-20T11:55:02.778031Z",
     "iopub.status.idle": "2023-01-20T11:55:02.998956Z",
     "shell.execute_reply": "2023-01-20T11:55:02.998024Z"
    },
    "papermill": {
     "duration": 0.239226,
     "end_time": "2023-01-20T11:55:03.001661",
     "exception": false,
     "start_time": "2023-01-20T11:55:02.762435",
     "status": "completed"
    },
    "tags": []
   },
   "outputs": [
    {
     "data": {
      "text/plain": [
       "<AxesSubplot:xlabel='Marital_Status', ylabel='count'>"
      ]
     },
     "execution_count": 27,
     "metadata": {},
     "output_type": "execute_result"
    },
    {
     "data": {
      "image/png": "[encoded data removed]",
      "text/plain": [
       "<Figure size 432x288 with 1 Axes>"
      ]
     },
     "metadata": {
      "needs_background": "light"
     },
     "output_type": "display_data"
    }
   ],
   "source": [
    "sns.countplot(data=data, x=\"Marital_Status\")"
   ]
  },
  {
   "cell_type": "markdown",
   "id": "98685776",
   "metadata": {
    "papermill": {
     "duration": 0.014173,
     "end_time": "2023-01-20T11:55:03.031185",
     "exception": false,
     "start_time": "2023-01-20T11:55:03.017012",
     "status": "completed"
    },
    "tags": []
   },
   "source": [
    "Percents of each marital status group:"
   ]
  },
  {
   "cell_type": "code",
   "execution_count": 28,
   "id": "f2bab44b",
   "metadata": {
    "execution": {
     "iopub.execute_input": "2023-01-20T11:55:03.062460Z",
     "iopub.status.busy": "2023-01-20T11:55:03.061345Z",
     "iopub.status.idle": "2023-01-20T11:55:03.071548Z",
     "shell.execute_reply": "2023-01-20T11:55:03.070587Z"
    },
    "papermill": {
     "duration": 0.028104,
     "end_time": "2023-01-20T11:55:03.073718",
     "exception": false,
     "start_time": "2023-01-20T11:55:03.045614",
     "status": "completed"
    },
    "tags": []
   },
   "outputs": [
    {
     "data": {
      "text/plain": [
       "Married     39.0\n",
       "Together    26.0\n",
       "Single      21.0\n",
       "Divorced    10.0\n",
       "Widow        3.0\n",
       "Name: Marital_Status, dtype: float64"
      ]
     },
     "execution_count": 28,
     "metadata": {},
     "output_type": "execute_result"
    }
   ],
   "source": [
    "round((data['Marital_Status'].value_counts(normalize=True) * 100),0)"
   ]
  },
  {
   "cell_type": "code",
   "execution_count": 29,
   "id": "d7579c99",
   "metadata": {
    "execution": {
     "iopub.execute_input": "2023-01-20T11:55:03.105637Z",
     "iopub.status.busy": "2023-01-20T11:55:03.104915Z",
     "iopub.status.idle": "2023-01-20T11:55:03.457698Z",
     "shell.execute_reply": "2023-01-20T11:55:03.456396Z"
    },
    "papermill": {
     "duration": 0.37194,
     "end_time": "2023-01-20T11:55:03.460277",
     "exception": false,
     "start_time": "2023-01-20T11:55:03.088337",
     "status": "completed"
    },
    "tags": []
   },
   "outputs": [
    {
     "data": {
      "text/plain": [
       "<seaborn.axisgrid.FacetGrid at 0x7fe4ca6de710>"
      ]
     },
     "execution_count": 29,
     "metadata": {},
     "output_type": "execute_result"
    },
    {
     "data": {
      "image/png": "[encoded data removed]",
      "text/plain": [
       "<Figure size 360x360 with 1 Axes>"
      ]
     },
     "metadata": {
      "needs_background": "light"
     },
     "output_type": "display_data"
    }
   ],
   "source": [
    "sns.catplot(data=data, x = \"Education\", y = \"NumWebVisitsMonth\", kind=\"box\")"
   ]
  },
  {
   "cell_type": "code",
   "execution_count": null,
   "id": "ba4c8664",
   "metadata": {
    "papermill": {
     "duration": 0.014709,
     "end_time": "2023-01-20T11:55:03.490093",
     "exception": false,
     "start_time": "2023-01-20T11:55:03.475384",
     "status": "completed"
    },
    "tags": []
   },
   "outputs": [],
   "source": []
  }
 ],
 "metadata": {
  "kernelspec": {
   "display_name": "Python 3",
   "language": "python",
   "name": "python3"
  },
  "language_info": {
   "codemirror_mode": {
    "name": "ipython",
    "version": 3
   },
   "file_extension": ".py",
   "mimetype": "text/x-python",
   "name": "python",
   "nbconvert_exporter": "python",
   "pygments_lexer": "ipython3",
   "version": "3.7.12"
  },
  "papermill": {
   "default_parameters": {},
   "duration": 14.082426,
   "end_time": "2023-01-20T11:55:04.226862",
   "environment_variables": {},
   "exception": null,
   "input_path": "__notebook__.ipynb",
   "output_path": "__notebook__.ipynb",
   "parameters": {},
   "start_time": "2023-01-20T11:54:50.144436",
   "version": "2.3.4"
  }
 },
 "nbformat": 4,
 "nbformat_minor": 5
}
