{
 "cells": [
  {
   "cell_type": "markdown",
   "id": "0a96dbbe",
   "metadata": {
    "papermill": {
     "duration": 0.022377,
     "end_time": "2023-01-29T23:12:07.301446",
     "exception": false,
     "start_time": "2023-01-29T23:12:07.279069",
     "status": "completed"
    },
    "tags": []
   },
   "source": [
    "<h1>Attributes</h1>\n",
    "<p>\n",
    "    <b>People</b>\n",
    "<hr>\n",
    "<b>ID:</b> Customer's unique identifier<br>\n",
    "<b>Year_Birth:</b> Customer's birth year<br>\n",
    "<b>Education:</b> Customer's education level<br>\n",
    "<b>Marital_Status:</b> Customer's marital status<br>\n",
    "<b>Income:</b> Customer's yearly household income<br>\n",
    "<b>Kidhome:</b> Number of children in customer's household<br>\n",
    "<b>Teenhome:</b> Number of teenagers in customer's household<br>\n",
    "<b>Dt_Customer:</b> Date of customer's enrollment with the company<br>\n",
    "<b>Recency:</b> Number of days since customer's last purchase<br>\n",
    "<b>Complain:</b> 1 if the customer complained in the last 2 years, 0 otherwise\n",
    "<br><br>\n",
    "    <b>Products</b>\n",
    "<hr>\n",
    "<b>MntWines:</b> Amount spent on wine in last 2 years<br>\n",
    "<b>MntFruits:</b> Amount spent on fruits in last 2 years<br>\n",
    "<b>MntMeatProducts:</b> Amount spent on meat in last 2 years<br>\n",
    "<b>MntFishProducts:</b> Amount spent on fish in last 2 years<br>\n",
    "<b>MntSweetProducts:</b> Amount spent on sweets in last 2 years<br>\n",
    "<b>MntGoldProds:</b> Amount spent on gold in last 2 years\n",
    "<br><br>\n",
    "    <b>Promotion</b>\n",
    "<hr>\n",
    "<b>NumDealsPurchases:</b> Number of purchases made with a discount<br>\n",
    "<b>AcceptedCmp1:</b> 1 if customer accepted the offer in the 1st campaign, 0 otherwise<br>\n",
    "<b>AcceptedCmp2:</b> 1 if customer accepted the offer in the 2nd campaign, 0 otherwise<br>\n",
    "<b>AcceptedCmp3:</b> 1 if customer accepted the offer in the 3rd campaign, 0 otherwise<br>\n",
    "<b>AcceptedCmp4:</b> 1 if customer accepted the offer in the 4th campaign, 0 otherwise<br>\n",
    "<b>AcceptedCmp5:</b> 1 if customer accepted the offer in the 5th campaign, 0 otherwise<br>\n",
    "<b>Response:</b> 1 if customer accepted the offer in the last campaign, 0 otherwise\n",
    "<br><br>\n",
    "    <b>Place</b>\n",
    "<hr>\n",
    "<b>NumWebPurchases:</b> Number of purchases made through the company’s website<br>\n",
    "<b>NumCatalogPurchases:</b> Number of purchases made using a catalogue<br>\n",
    "<b>NumStorePurchases:</b> Number of purchases made directly in stores<br>\n",
    "<b>NumWebVisitsMonth:</b> Number of visits to company’s website in the last month<br>\n",
    "</p>"
   ]
  },
  {
   "cell_type": "code",
   "execution_count": 1,
   "id": "dd0d2153",
   "metadata": {
    "execution": {
     "iopub.execute_input": "2023-01-29T23:12:07.342608Z",
     "iopub.status.busy": "2023-01-29T23:12:07.342113Z",
     "iopub.status.idle": "2023-01-29T23:12:08.775877Z",
     "shell.execute_reply": "2023-01-29T23:12:08.774250Z"
    },
    "papermill": {
     "duration": 1.457878,
     "end_time": "2023-01-29T23:12:08.779027",
     "exception": false,
     "start_time": "2023-01-29T23:12:07.321149",
     "status": "completed"
    },
    "tags": []
   },
   "outputs": [],
   "source": [
    "import pandas as pd\n",
    "import warnings \n",
    "import seaborn as sns\n",
    "import numpy as np\n",
    "import matplotlib.pyplot as plt\n",
    "from sklearn.metrics import roc_auc_score\n",
    "warnings.filterwarnings('ignore')\n",
    "pd.set_option('display.max_columns', None)"
   ]
  },
  {
   "cell_type": "markdown",
   "id": "8cf1ea47",
   "metadata": {
    "papermill": {
     "duration": 0.019115,
     "end_time": "2023-01-29T23:12:08.817947",
     "exception": false,
     "start_time": "2023-01-29T23:12:08.798832",
     "status": "completed"
    },
    "tags": []
   },
   "source": [
    "# Table of Contents\n",
    "\n",
    "* [1. Pre-Processing](#1)\n",
    "* [2. Visualization and Exploratory Analysis](#2)\n"
   ]
  },
  {
   "cell_type": "markdown",
   "id": "77e63cc1",
   "metadata": {
    "papermill": {
     "duration": 0.019705,
     "end_time": "2023-01-29T23:12:08.857301",
     "exception": false,
     "start_time": "2023-01-29T23:12:08.837596",
     "status": "completed"
    },
    "tags": []
   },
   "source": [
    "# <p id = \"1\" style=\"font-family:arial;background-color:#2A93D5;color:#FFFFFF;font-size: 150%;text-align:center;border-radius: 0px 15px 15px 0px;border-style: solid;border-color: #2483bf;\">1.PRE-PROCESSING</p>\n",
    "[Click to return Table of Contents](#0)"
   ]
  },
  {
   "cell_type": "code",
   "execution_count": 2,
   "id": "c75a38d8",
   "metadata": {
    "execution": {
     "iopub.execute_input": "2023-01-29T23:12:08.898541Z",
     "iopub.status.busy": "2023-01-29T23:12:08.898063Z",
     "iopub.status.idle": "2023-01-29T23:12:08.959738Z",
     "shell.execute_reply": "2023-01-29T23:12:08.958448Z"
    },
    "papermill": {
     "duration": 0.085214,
     "end_time": "2023-01-29T23:12:08.962148",
     "exception": false,
     "start_time": "2023-01-29T23:12:08.876934",
     "status": "completed"
    },
    "tags": []
   },
   "outputs": [
    {
     "data": {
      "text/html": [
       "<div>\n",
       "<style scoped>\n",
       "    .dataframe tbody tr th:only-of-type {\n",
       "        vertical-align: middle;\n",
       "    }\n",
       "\n",
       "    .dataframe tbody tr th {\n",
       "        vertical-align: top;\n",
       "    }\n",
       "\n",
       "    .dataframe thead th {\n",
       "        text-align: right;\n",
       "    }\n",
       "</style>\n",
       "<table border=\"1\" class=\"dataframe\">\n",
       "  <thead>\n",
       "    <tr style=\"text-align: right;\">\n",
       "      <th></th>\n",
       "      <th>ID</th>\n",
       "      <th>Year_Birth</th>\n",
       "      <th>Education</th>\n",
       "      <th>Marital_Status</th>\n",
       "      <th>Income</th>\n",
       "      <th>Kidhome</th>\n",
       "      <th>Teenhome</th>\n",
       "      <th>Dt_Customer</th>\n",
       "      <th>Recency</th>\n",
       "      <th>MntWines</th>\n",
       "      <th>MntFruits</th>\n",
       "      <th>MntMeatProducts</th>\n",
       "      <th>MntFishProducts</th>\n",
       "      <th>MntSweetProducts</th>\n",
       "      <th>MntGoldProds</th>\n",
       "      <th>NumDealsPurchases</th>\n",
       "      <th>NumWebPurchases</th>\n",
       "      <th>NumCatalogPurchases</th>\n",
       "      <th>NumStorePurchases</th>\n",
       "      <th>NumWebVisitsMonth</th>\n",
       "      <th>AcceptedCmp3</th>\n",
       "      <th>AcceptedCmp4</th>\n",
       "      <th>AcceptedCmp5</th>\n",
       "      <th>AcceptedCmp1</th>\n",
       "      <th>AcceptedCmp2</th>\n",
       "      <th>Complain</th>\n",
       "      <th>Z_CostContact</th>\n",
       "      <th>Z_Revenue</th>\n",
       "      <th>Response</th>\n",
       "    </tr>\n",
       "  </thead>\n",
       "  <tbody>\n",
       "    <tr>\n",
       "      <th>0</th>\n",
       "      <td>5524</td>\n",
       "      <td>1957</td>\n",
       "      <td>Graduation</td>\n",
       "      <td>Single</td>\n",
       "      <td>58138.0</td>\n",
       "      <td>0</td>\n",
       "      <td>0</td>\n",
       "      <td>04-09-2012</td>\n",
       "      <td>58</td>\n",
       "      <td>635</td>\n",
       "      <td>88</td>\n",
       "      <td>546</td>\n",
       "      <td>172</td>\n",
       "      <td>88</td>\n",
       "      <td>88</td>\n",
       "      <td>3</td>\n",
       "      <td>8</td>\n",
       "      <td>10</td>\n",
       "      <td>4</td>\n",
       "      <td>7</td>\n",
       "      <td>0</td>\n",
       "      <td>0</td>\n",
       "      <td>0</td>\n",
       "      <td>0</td>\n",
       "      <td>0</td>\n",
       "      <td>0</td>\n",
       "      <td>3</td>\n",
       "      <td>11</td>\n",
       "      <td>1</td>\n",
       "    </tr>\n",
       "    <tr>\n",
       "      <th>1</th>\n",
       "      <td>2174</td>\n",
       "      <td>1954</td>\n",
       "      <td>Graduation</td>\n",
       "      <td>Single</td>\n",
       "      <td>46344.0</td>\n",
       "      <td>1</td>\n",
       "      <td>1</td>\n",
       "      <td>08-03-2014</td>\n",
       "      <td>38</td>\n",
       "      <td>11</td>\n",
       "      <td>1</td>\n",
       "      <td>6</td>\n",
       "      <td>2</td>\n",
       "      <td>1</td>\n",
       "      <td>6</td>\n",
       "      <td>2</td>\n",
       "      <td>1</td>\n",
       "      <td>1</td>\n",
       "      <td>2</td>\n",
       "      <td>5</td>\n",
       "      <td>0</td>\n",
       "      <td>0</td>\n",
       "      <td>0</td>\n",
       "      <td>0</td>\n",
       "      <td>0</td>\n",
       "      <td>0</td>\n",
       "      <td>3</td>\n",
       "      <td>11</td>\n",
       "      <td>0</td>\n",
       "    </tr>\n",
       "    <tr>\n",
       "      <th>2</th>\n",
       "      <td>4141</td>\n",
       "      <td>1965</td>\n",
       "      <td>Graduation</td>\n",
       "      <td>Together</td>\n",
       "      <td>71613.0</td>\n",
       "      <td>0</td>\n",
       "      <td>0</td>\n",
       "      <td>21-08-2013</td>\n",
       "      <td>26</td>\n",
       "      <td>426</td>\n",
       "      <td>49</td>\n",
       "      <td>127</td>\n",
       "      <td>111</td>\n",
       "      <td>21</td>\n",
       "      <td>42</td>\n",
       "      <td>1</td>\n",
       "      <td>8</td>\n",
       "      <td>2</td>\n",
       "      <td>10</td>\n",
       "      <td>4</td>\n",
       "      <td>0</td>\n",
       "      <td>0</td>\n",
       "      <td>0</td>\n",
       "      <td>0</td>\n",
       "      <td>0</td>\n",
       "      <td>0</td>\n",
       "      <td>3</td>\n",
       "      <td>11</td>\n",
       "      <td>0</td>\n",
       "    </tr>\n",
       "    <tr>\n",
       "      <th>3</th>\n",
       "      <td>6182</td>\n",
       "      <td>1984</td>\n",
       "      <td>Graduation</td>\n",
       "      <td>Together</td>\n",
       "      <td>26646.0</td>\n",
       "      <td>1</td>\n",
       "      <td>0</td>\n",
       "      <td>10-02-2014</td>\n",
       "      <td>26</td>\n",
       "      <td>11</td>\n",
       "      <td>4</td>\n",
       "      <td>20</td>\n",
       "      <td>10</td>\n",
       "      <td>3</td>\n",
       "      <td>5</td>\n",
       "      <td>2</td>\n",
       "      <td>2</td>\n",
       "      <td>0</td>\n",
       "      <td>4</td>\n",
       "      <td>6</td>\n",
       "      <td>0</td>\n",
       "      <td>0</td>\n",
       "      <td>0</td>\n",
       "      <td>0</td>\n",
       "      <td>0</td>\n",
       "      <td>0</td>\n",
       "      <td>3</td>\n",
       "      <td>11</td>\n",
       "      <td>0</td>\n",
       "    </tr>\n",
       "    <tr>\n",
       "      <th>4</th>\n",
       "      <td>5324</td>\n",
       "      <td>1981</td>\n",
       "      <td>PhD</td>\n",
       "      <td>Married</td>\n",
       "      <td>58293.0</td>\n",
       "      <td>1</td>\n",
       "      <td>0</td>\n",
       "      <td>19-01-2014</td>\n",
       "      <td>94</td>\n",
       "      <td>173</td>\n",
       "      <td>43</td>\n",
       "      <td>118</td>\n",
       "      <td>46</td>\n",
       "      <td>27</td>\n",
       "      <td>15</td>\n",
       "      <td>5</td>\n",
       "      <td>5</td>\n",
       "      <td>3</td>\n",
       "      <td>6</td>\n",
       "      <td>5</td>\n",
       "      <td>0</td>\n",
       "      <td>0</td>\n",
       "      <td>0</td>\n",
       "      <td>0</td>\n",
       "      <td>0</td>\n",
       "      <td>0</td>\n",
       "      <td>3</td>\n",
       "      <td>11</td>\n",
       "      <td>0</td>\n",
       "    </tr>\n",
       "  </tbody>\n",
       "</table>\n",
       "</div>"
      ],
      "text/plain": [
       "     ID  Year_Birth   Education Marital_Status   Income  Kidhome  Teenhome  \\\n",
       "0  5524        1957  Graduation         Single  58138.0        0         0   \n",
       "1  2174        1954  Graduation         Single  46344.0        1         1   \n",
       "2  4141        1965  Graduation       Together  71613.0        0         0   \n",
       "3  6182        1984  Graduation       Together  26646.0        1         0   \n",
       "4  5324        1981         PhD        Married  58293.0        1         0   \n",
       "\n",
       "  Dt_Customer  Recency  MntWines  MntFruits  MntMeatProducts  MntFishProducts  \\\n",
       "0  04-09-2012       58       635         88              546              172   \n",
       "1  08-03-2014       38        11          1                6                2   \n",
       "2  21-08-2013       26       426         49              127              111   \n",
       "3  10-02-2014       26        11          4               20               10   \n",
       "4  19-01-2014       94       173         43              118               46   \n",
       "\n",
       "   MntSweetProducts  MntGoldProds  NumDealsPurchases  NumWebPurchases  \\\n",
       "0                88            88                  3                8   \n",
       "1                 1             6                  2                1   \n",
       "2                21            42                  1                8   \n",
       "3                 3             5                  2                2   \n",
       "4                27            15                  5                5   \n",
       "\n",
       "   NumCatalogPurchases  NumStorePurchases  NumWebVisitsMonth  AcceptedCmp3  \\\n",
       "0                   10                  4                  7             0   \n",
       "1                    1                  2                  5             0   \n",
       "2                    2                 10                  4             0   \n",
       "3                    0                  4                  6             0   \n",
       "4                    3                  6                  5             0   \n",
       "\n",
       "   AcceptedCmp4  AcceptedCmp5  AcceptedCmp1  AcceptedCmp2  Complain  \\\n",
       "0             0             0             0             0         0   \n",
       "1             0             0             0             0         0   \n",
       "2             0             0             0             0         0   \n",
       "3             0             0             0             0         0   \n",
       "4             0             0             0             0         0   \n",
       "\n",
       "   Z_CostContact  Z_Revenue  Response  \n",
       "0              3         11         1  \n",
       "1              3         11         0  \n",
       "2              3         11         0  \n",
       "3              3         11         0  \n",
       "4              3         11         0  "
      ]
     },
     "execution_count": 2,
     "metadata": {},
     "output_type": "execute_result"
    }
   ],
   "source": [
    "data = pd.read_csv('../input/customer-personality-analysis/marketing_campaign.csv', sep='\\t')\n",
    "data.head()"
   ]
  },
  {
   "cell_type": "code",
   "execution_count": 3,
   "id": "76c51e02",
   "metadata": {
    "execution": {
     "iopub.execute_input": "2023-01-29T23:12:09.006759Z",
     "iopub.status.busy": "2023-01-29T23:12:09.006318Z",
     "iopub.status.idle": "2023-01-29T23:12:09.038116Z",
     "shell.execute_reply": "2023-01-29T23:12:09.036577Z"
    },
    "papermill": {
     "duration": 0.058588,
     "end_time": "2023-01-29T23:12:09.041264",
     "exception": false,
     "start_time": "2023-01-29T23:12:08.982676",
     "status": "completed"
    },
    "tags": []
   },
   "outputs": [
    {
     "name": "stdout",
     "output_type": "stream",
     "text": [
      "<class 'pandas.core.frame.DataFrame'>\n",
      "RangeIndex: 2240 entries, 0 to 2239\n",
      "Data columns (total 29 columns):\n",
      " #   Column               Non-Null Count  Dtype  \n",
      "---  ------               --------------  -----  \n",
      " 0   ID                   2240 non-null   int64  \n",
      " 1   Year_Birth           2240 non-null   int64  \n",
      " 2   Education            2240 non-null   object \n",
      " 3   Marital_Status       2240 non-null   object \n",
      " 4   Income               2216 non-null   float64\n",
      " 5   Kidhome              2240 non-null   int64  \n",
      " 6   Teenhome             2240 non-null   int64  \n",
      " 7   Dt_Customer          2240 non-null   object \n",
      " 8   Recency              2240 non-null   int64  \n",
      " 9   MntWines             2240 non-null   int64  \n",
      " 10  MntFruits            2240 non-null   int64  \n",
      " 11  MntMeatProducts      2240 non-null   int64  \n",
      " 12  MntFishProducts      2240 non-null   int64  \n",
      " 13  MntSweetProducts     2240 non-null   int64  \n",
      " 14  MntGoldProds         2240 non-null   int64  \n",
      " 15  NumDealsPurchases    2240 non-null   int64  \n",
      " 16  NumWebPurchases      2240 non-null   int64  \n",
      " 17  NumCatalogPurchases  2240 non-null   int64  \n",
      " 18  NumStorePurchases    2240 non-null   int64  \n",
      " 19  NumWebVisitsMonth    2240 non-null   int64  \n",
      " 20  AcceptedCmp3         2240 non-null   int64  \n",
      " 21  AcceptedCmp4         2240 non-null   int64  \n",
      " 22  AcceptedCmp5         2240 non-null   int64  \n",
      " 23  AcceptedCmp1         2240 non-null   int64  \n",
      " 24  AcceptedCmp2         2240 non-null   int64  \n",
      " 25  Complain             2240 non-null   int64  \n",
      " 26  Z_CostContact        2240 non-null   int64  \n",
      " 27  Z_Revenue            2240 non-null   int64  \n",
      " 28  Response             2240 non-null   int64  \n",
      "dtypes: float64(1), int64(25), object(3)\n",
      "memory usage: 507.6+ KB\n"
     ]
    }
   ],
   "source": [
    "data.info()"
   ]
  },
  {
   "cell_type": "markdown",
   "id": "0330dc82",
   "metadata": {
    "papermill": {
     "duration": 0.019908,
     "end_time": "2023-01-29T23:12:09.081688",
     "exception": false,
     "start_time": "2023-01-29T23:12:09.061780",
     "status": "completed"
    },
    "tags": []
   },
   "source": [
    "**Checks the null distribution between columns:**"
   ]
  },
  {
   "cell_type": "code",
   "execution_count": 4,
   "id": "a7265bc1",
   "metadata": {
    "execution": {
     "iopub.execute_input": "2023-01-29T23:12:09.124322Z",
     "iopub.status.busy": "2023-01-29T23:12:09.123835Z",
     "iopub.status.idle": "2023-01-29T23:12:09.134010Z",
     "shell.execute_reply": "2023-01-29T23:12:09.132847Z"
    },
    "papermill": {
     "duration": 0.034736,
     "end_time": "2023-01-29T23:12:09.136475",
     "exception": false,
     "start_time": "2023-01-29T23:12:09.101739",
     "status": "completed"
    },
    "tags": []
   },
   "outputs": [
    {
     "data": {
      "text/plain": [
       "ID                      0\n",
       "Year_Birth              0\n",
       "Education               0\n",
       "Marital_Status          0\n",
       "Income                 24\n",
       "Kidhome                 0\n",
       "Teenhome                0\n",
       "Dt_Customer             0\n",
       "Recency                 0\n",
       "MntWines                0\n",
       "MntFruits               0\n",
       "MntMeatProducts         0\n",
       "MntFishProducts         0\n",
       "MntSweetProducts        0\n",
       "MntGoldProds            0\n",
       "NumDealsPurchases       0\n",
       "NumWebPurchases         0\n",
       "NumCatalogPurchases     0\n",
       "NumStorePurchases       0\n",
       "NumWebVisitsMonth       0\n",
       "AcceptedCmp3            0\n",
       "AcceptedCmp4            0\n",
       "AcceptedCmp5            0\n",
       "AcceptedCmp1            0\n",
       "AcceptedCmp2            0\n",
       "Complain                0\n",
       "Z_CostContact           0\n",
       "Z_Revenue               0\n",
       "Response                0\n",
       "dtype: int64"
      ]
     },
     "execution_count": 4,
     "metadata": {},
     "output_type": "execute_result"
    }
   ],
   "source": [
    "data.isna().sum()"
   ]
  },
  {
   "cell_type": "markdown",
   "id": "75328935",
   "metadata": {
    "papermill": {
     "duration": 0.019744,
     "end_time": "2023-01-29T23:12:09.176587",
     "exception": false,
     "start_time": "2023-01-29T23:12:09.156843",
     "status": "completed"
    },
    "tags": []
   },
   "source": [
    "**Drops the rows with null values:**"
   ]
  },
  {
   "cell_type": "code",
   "execution_count": 5,
   "id": "d80da4e3",
   "metadata": {
    "execution": {
     "iopub.execute_input": "2023-01-29T23:12:09.219923Z",
     "iopub.status.busy": "2023-01-29T23:12:09.219497Z",
     "iopub.status.idle": "2023-01-29T23:12:09.229352Z",
     "shell.execute_reply": "2023-01-29T23:12:09.227933Z"
    },
    "papermill": {
     "duration": 0.03499,
     "end_time": "2023-01-29T23:12:09.232038",
     "exception": false,
     "start_time": "2023-01-29T23:12:09.197048",
     "status": "completed"
    },
    "tags": []
   },
   "outputs": [],
   "source": [
    "data.drop(index=(data[data['Income'].isna()].index), axis = 0, inplace=True)"
   ]
  },
  {
   "cell_type": "markdown",
   "id": "522af910",
   "metadata": {
    "papermill": {
     "duration": 0.020523,
     "end_time": "2023-01-29T23:12:09.272893",
     "exception": false,
     "start_time": "2023-01-29T23:12:09.252370",
     "status": "completed"
    },
    "tags": []
   },
   "source": [
    "**Conversion of column type:**"
   ]
  },
  {
   "cell_type": "code",
   "execution_count": 6,
   "id": "f2391774",
   "metadata": {
    "execution": {
     "iopub.execute_input": "2023-01-29T23:12:09.316317Z",
     "iopub.status.busy": "2023-01-29T23:12:09.315572Z",
     "iopub.status.idle": "2023-01-29T23:12:09.329209Z",
     "shell.execute_reply": "2023-01-29T23:12:09.327775Z"
    },
    "papermill": {
     "duration": 0.038801,
     "end_time": "2023-01-29T23:12:09.331875",
     "exception": false,
     "start_time": "2023-01-29T23:12:09.293074",
     "status": "completed"
    },
    "tags": []
   },
   "outputs": [],
   "source": [
    "from pandas.api.types import CategoricalDtype\n",
    "education_ordered= CategoricalDtype(categories=['Basic','2n Cycle','Graduation', 'Master', 'PhD'], ordered=True)\n",
    "data['Education'] = data['Education'].astype(education_ordered)\n",
    "data['Dt_Customer'] = pd.to_datetime(data['Dt_Customer'])"
   ]
  },
  {
   "cell_type": "markdown",
   "id": "9fc8d3c6",
   "metadata": {
    "papermill": {
     "duration": 0.021236,
     "end_time": "2023-01-29T23:12:09.373988",
     "exception": false,
     "start_time": "2023-01-29T23:12:09.352752",
     "status": "completed"
    },
    "tags": []
   },
   "source": [
    "**Calculating the year and day difference with Dt_Customer column.**"
   ]
  },
  {
   "cell_type": "code",
   "execution_count": 7,
   "id": "761df67d",
   "metadata": {
    "execution": {
     "iopub.execute_input": "2023-01-29T23:12:09.417587Z",
     "iopub.status.busy": "2023-01-29T23:12:09.417125Z",
     "iopub.status.idle": "2023-01-29T23:12:09.422192Z",
     "shell.execute_reply": "2023-01-29T23:12:09.421106Z"
    },
    "papermill": {
     "duration": 0.029953,
     "end_time": "2023-01-29T23:12:09.425057",
     "exception": false,
     "start_time": "2023-01-29T23:12:09.395104",
     "status": "completed"
    },
    "tags": []
   },
   "outputs": [],
   "source": [
    "from datetime import datetime\n",
    "currentYear = datetime.now().year"
   ]
  },
  {
   "cell_type": "code",
   "execution_count": 8,
   "id": "6f912ea2",
   "metadata": {
    "execution": {
     "iopub.execute_input": "2023-01-29T23:12:09.468554Z",
     "iopub.status.busy": "2023-01-29T23:12:09.467485Z",
     "iopub.status.idle": "2023-01-29T23:12:09.518120Z",
     "shell.execute_reply": "2023-01-29T23:12:09.516693Z"
    },
    "papermill": {
     "duration": 0.075699,
     "end_time": "2023-01-29T23:12:09.521318",
     "exception": false,
     "start_time": "2023-01-29T23:12:09.445619",
     "status": "completed"
    },
    "tags": []
   },
   "outputs": [],
   "source": [
    "data['Year_Customer'] = data['Dt_Customer'].dt.year.apply(lambda x : currentYear - x)\n",
    "data['DayDiff_Customer'] = data['Dt_Customer'].apply(lambda x : datetime.now() - x)\n",
    "data['DayDiff_Customer'] = data['DayDiff_Customer'].dt.days\n",
    "data.drop(['Dt_Customer'], axis = 1, inplace = True)"
   ]
  },
  {
   "cell_type": "markdown",
   "id": "dfcb0b63",
   "metadata": {
    "papermill": {
     "duration": 0.019812,
     "end_time": "2023-01-29T23:12:09.561565",
     "exception": false,
     "start_time": "2023-01-29T23:12:09.541753",
     "status": "completed"
    },
    "tags": []
   },
   "source": [
    "<hr>\n",
    "\n",
    "# Age Variable"
   ]
  },
  {
   "cell_type": "markdown",
   "id": "352be7b5",
   "metadata": {
    "papermill": {
     "duration": 0.020729,
     "end_time": "2023-01-29T23:12:09.602979",
     "exception": false,
     "start_time": "2023-01-29T23:12:09.582250",
     "status": "completed"
    },
    "tags": []
   },
   "source": [
    "**Calculates the age of every customer and drops the Year_Birth column:**"
   ]
  },
  {
   "cell_type": "code",
   "execution_count": 9,
   "id": "33e59d3f",
   "metadata": {
    "execution": {
     "iopub.execute_input": "2023-01-29T23:12:09.647164Z",
     "iopub.status.busy": "2023-01-29T23:12:09.646482Z",
     "iopub.status.idle": "2023-01-29T23:12:09.674201Z",
     "shell.execute_reply": "2023-01-29T23:12:09.672989Z"
    },
    "papermill": {
     "duration": 0.053157,
     "end_time": "2023-01-29T23:12:09.676641",
     "exception": false,
     "start_time": "2023-01-29T23:12:09.623484",
     "status": "completed"
    },
    "tags": []
   },
   "outputs": [
    {
     "data": {
      "text/html": [
       "<div>\n",
       "<style scoped>\n",
       "    .dataframe tbody tr th:only-of-type {\n",
       "        vertical-align: middle;\n",
       "    }\n",
       "\n",
       "    .dataframe tbody tr th {\n",
       "        vertical-align: top;\n",
       "    }\n",
       "\n",
       "    .dataframe thead th {\n",
       "        text-align: right;\n",
       "    }\n",
       "</style>\n",
       "<table border=\"1\" class=\"dataframe\">\n",
       "  <thead>\n",
       "    <tr style=\"text-align: right;\">\n",
       "      <th></th>\n",
       "      <th>ID</th>\n",
       "      <th>Education</th>\n",
       "      <th>Marital_Status</th>\n",
       "      <th>Income</th>\n",
       "      <th>Kidhome</th>\n",
       "      <th>Teenhome</th>\n",
       "      <th>Recency</th>\n",
       "      <th>MntWines</th>\n",
       "      <th>MntFruits</th>\n",
       "      <th>MntMeatProducts</th>\n",
       "      <th>MntFishProducts</th>\n",
       "      <th>MntSweetProducts</th>\n",
       "      <th>MntGoldProds</th>\n",
       "      <th>NumDealsPurchases</th>\n",
       "      <th>NumWebPurchases</th>\n",
       "      <th>NumCatalogPurchases</th>\n",
       "      <th>NumStorePurchases</th>\n",
       "      <th>NumWebVisitsMonth</th>\n",
       "      <th>AcceptedCmp3</th>\n",
       "      <th>AcceptedCmp4</th>\n",
       "      <th>AcceptedCmp5</th>\n",
       "      <th>AcceptedCmp1</th>\n",
       "      <th>AcceptedCmp2</th>\n",
       "      <th>Complain</th>\n",
       "      <th>Z_CostContact</th>\n",
       "      <th>Z_Revenue</th>\n",
       "      <th>Response</th>\n",
       "      <th>Year_Customer</th>\n",
       "      <th>DayDiff_Customer</th>\n",
       "      <th>Age</th>\n",
       "    </tr>\n",
       "  </thead>\n",
       "  <tbody>\n",
       "    <tr>\n",
       "      <th>0</th>\n",
       "      <td>5524</td>\n",
       "      <td>Graduation</td>\n",
       "      <td>Single</td>\n",
       "      <td>58138.0</td>\n",
       "      <td>0</td>\n",
       "      <td>0</td>\n",
       "      <td>58</td>\n",
       "      <td>635</td>\n",
       "      <td>88</td>\n",
       "      <td>546</td>\n",
       "      <td>172</td>\n",
       "      <td>88</td>\n",
       "      <td>88</td>\n",
       "      <td>3</td>\n",
       "      <td>8</td>\n",
       "      <td>10</td>\n",
       "      <td>4</td>\n",
       "      <td>7</td>\n",
       "      <td>0</td>\n",
       "      <td>0</td>\n",
       "      <td>0</td>\n",
       "      <td>0</td>\n",
       "      <td>0</td>\n",
       "      <td>0</td>\n",
       "      <td>3</td>\n",
       "      <td>11</td>\n",
       "      <td>1</td>\n",
       "      <td>11</td>\n",
       "      <td>3947</td>\n",
       "      <td>66</td>\n",
       "    </tr>\n",
       "    <tr>\n",
       "      <th>1</th>\n",
       "      <td>2174</td>\n",
       "      <td>Graduation</td>\n",
       "      <td>Single</td>\n",
       "      <td>46344.0</td>\n",
       "      <td>1</td>\n",
       "      <td>1</td>\n",
       "      <td>38</td>\n",
       "      <td>11</td>\n",
       "      <td>1</td>\n",
       "      <td>6</td>\n",
       "      <td>2</td>\n",
       "      <td>1</td>\n",
       "      <td>6</td>\n",
       "      <td>2</td>\n",
       "      <td>1</td>\n",
       "      <td>1</td>\n",
       "      <td>2</td>\n",
       "      <td>5</td>\n",
       "      <td>0</td>\n",
       "      <td>0</td>\n",
       "      <td>0</td>\n",
       "      <td>0</td>\n",
       "      <td>0</td>\n",
       "      <td>0</td>\n",
       "      <td>3</td>\n",
       "      <td>11</td>\n",
       "      <td>0</td>\n",
       "      <td>9</td>\n",
       "      <td>3101</td>\n",
       "      <td>69</td>\n",
       "    </tr>\n",
       "    <tr>\n",
       "      <th>2</th>\n",
       "      <td>4141</td>\n",
       "      <td>Graduation</td>\n",
       "      <td>Together</td>\n",
       "      <td>71613.0</td>\n",
       "      <td>0</td>\n",
       "      <td>0</td>\n",
       "      <td>26</td>\n",
       "      <td>426</td>\n",
       "      <td>49</td>\n",
       "      <td>127</td>\n",
       "      <td>111</td>\n",
       "      <td>21</td>\n",
       "      <td>42</td>\n",
       "      <td>1</td>\n",
       "      <td>8</td>\n",
       "      <td>2</td>\n",
       "      <td>10</td>\n",
       "      <td>4</td>\n",
       "      <td>0</td>\n",
       "      <td>0</td>\n",
       "      <td>0</td>\n",
       "      <td>0</td>\n",
       "      <td>0</td>\n",
       "      <td>0</td>\n",
       "      <td>3</td>\n",
       "      <td>11</td>\n",
       "      <td>0</td>\n",
       "      <td>10</td>\n",
       "      <td>3448</td>\n",
       "      <td>58</td>\n",
       "    </tr>\n",
       "    <tr>\n",
       "      <th>3</th>\n",
       "      <td>6182</td>\n",
       "      <td>Graduation</td>\n",
       "      <td>Together</td>\n",
       "      <td>26646.0</td>\n",
       "      <td>1</td>\n",
       "      <td>0</td>\n",
       "      <td>26</td>\n",
       "      <td>11</td>\n",
       "      <td>4</td>\n",
       "      <td>20</td>\n",
       "      <td>10</td>\n",
       "      <td>3</td>\n",
       "      <td>5</td>\n",
       "      <td>2</td>\n",
       "      <td>2</td>\n",
       "      <td>0</td>\n",
       "      <td>4</td>\n",
       "      <td>6</td>\n",
       "      <td>0</td>\n",
       "      <td>0</td>\n",
       "      <td>0</td>\n",
       "      <td>0</td>\n",
       "      <td>0</td>\n",
       "      <td>0</td>\n",
       "      <td>3</td>\n",
       "      <td>11</td>\n",
       "      <td>0</td>\n",
       "      <td>9</td>\n",
       "      <td>3041</td>\n",
       "      <td>39</td>\n",
       "    </tr>\n",
       "    <tr>\n",
       "      <th>4</th>\n",
       "      <td>5324</td>\n",
       "      <td>PhD</td>\n",
       "      <td>Married</td>\n",
       "      <td>58293.0</td>\n",
       "      <td>1</td>\n",
       "      <td>0</td>\n",
       "      <td>94</td>\n",
       "      <td>173</td>\n",
       "      <td>43</td>\n",
       "      <td>118</td>\n",
       "      <td>46</td>\n",
       "      <td>27</td>\n",
       "      <td>15</td>\n",
       "      <td>5</td>\n",
       "      <td>5</td>\n",
       "      <td>3</td>\n",
       "      <td>6</td>\n",
       "      <td>5</td>\n",
       "      <td>0</td>\n",
       "      <td>0</td>\n",
       "      <td>0</td>\n",
       "      <td>0</td>\n",
       "      <td>0</td>\n",
       "      <td>0</td>\n",
       "      <td>3</td>\n",
       "      <td>11</td>\n",
       "      <td>0</td>\n",
       "      <td>9</td>\n",
       "      <td>3297</td>\n",
       "      <td>42</td>\n",
       "    </tr>\n",
       "  </tbody>\n",
       "</table>\n",
       "</div>"
      ],
      "text/plain": [
       "     ID   Education Marital_Status   Income  Kidhome  Teenhome  Recency  \\\n",
       "0  5524  Graduation         Single  58138.0        0         0       58   \n",
       "1  2174  Graduation         Single  46344.0        1         1       38   \n",
       "2  4141  Graduation       Together  71613.0        0         0       26   \n",
       "3  6182  Graduation       Together  26646.0        1         0       26   \n",
       "4  5324         PhD        Married  58293.0        1         0       94   \n",
       "\n",
       "   MntWines  MntFruits  MntMeatProducts  MntFishProducts  MntSweetProducts  \\\n",
       "0       635         88              546              172                88   \n",
       "1        11          1                6                2                 1   \n",
       "2       426         49              127              111                21   \n",
       "3        11          4               20               10                 3   \n",
       "4       173         43              118               46                27   \n",
       "\n",
       "   MntGoldProds  NumDealsPurchases  NumWebPurchases  NumCatalogPurchases  \\\n",
       "0            88                  3                8                   10   \n",
       "1             6                  2                1                    1   \n",
       "2            42                  1                8                    2   \n",
       "3             5                  2                2                    0   \n",
       "4            15                  5                5                    3   \n",
       "\n",
       "   NumStorePurchases  NumWebVisitsMonth  AcceptedCmp3  AcceptedCmp4  \\\n",
       "0                  4                  7             0             0   \n",
       "1                  2                  5             0             0   \n",
       "2                 10                  4             0             0   \n",
       "3                  4                  6             0             0   \n",
       "4                  6                  5             0             0   \n",
       "\n",
       "   AcceptedCmp5  AcceptedCmp1  AcceptedCmp2  Complain  Z_CostContact  \\\n",
       "0             0             0             0         0              3   \n",
       "1             0             0             0         0              3   \n",
       "2             0             0             0         0              3   \n",
       "3             0             0             0         0              3   \n",
       "4             0             0             0         0              3   \n",
       "\n",
       "   Z_Revenue  Response  Year_Customer  DayDiff_Customer  Age  \n",
       "0         11         1             11              3947   66  \n",
       "1         11         0              9              3101   69  \n",
       "2         11         0             10              3448   58  \n",
       "3         11         0              9              3041   39  \n",
       "4         11         0              9              3297   42  "
      ]
     },
     "execution_count": 9,
     "metadata": {},
     "output_type": "execute_result"
    }
   ],
   "source": [
    "data['Age'] = data['Year_Birth'].apply(lambda x : currentYear - x)\n",
    "# Drops the Year_Birth column\n",
    "data.drop(['Year_Birth'], axis = 1, inplace = True)\n",
    "data.head()"
   ]
  },
  {
   "cell_type": "markdown",
   "id": "f47aa064",
   "metadata": {
    "papermill": {
     "duration": 0.020871,
     "end_time": "2023-01-29T23:12:09.718778",
     "exception": false,
     "start_time": "2023-01-29T23:12:09.697907",
     "status": "completed"
    },
    "tags": []
   },
   "source": [
    "**The distribution of Age variable:**"
   ]
  },
  {
   "cell_type": "code",
   "execution_count": 10,
   "id": "23a55a43",
   "metadata": {
    "execution": {
     "iopub.execute_input": "2023-01-29T23:12:09.763577Z",
     "iopub.status.busy": "2023-01-29T23:12:09.762872Z",
     "iopub.status.idle": "2023-01-29T23:12:10.053417Z",
     "shell.execute_reply": "2023-01-29T23:12:10.052189Z"
    },
    "papermill": {
     "duration": 0.316248,
     "end_time": "2023-01-29T23:12:10.056202",
     "exception": false,
     "start_time": "2023-01-29T23:12:09.739954",
     "status": "completed"
    },
    "tags": []
   },
   "outputs": [
    {
     "data": {
      "text/plain": [
       "<AxesSubplot:xlabel='Age', ylabel='Count'>"
      ]
     },
     "execution_count": 10,
     "metadata": {},
     "output_type": "execute_result"
    },
    {
     "data": {
      "image/png": "[encoded data removed]",
      "text/plain": [
       "<Figure size 432x288 with 1 Axes>"
      ]
     },
     "metadata": {
      "needs_background": "light"
     },
     "output_type": "display_data"
    }
   ],
   "source": [
    "sns.histplot(data['Age'], bins=10)"
   ]
  },
  {
   "cell_type": "markdown",
   "id": "b8651b1d",
   "metadata": {
    "papermill": {
     "duration": 0.020918,
     "end_time": "2023-01-29T23:12:10.098646",
     "exception": false,
     "start_time": "2023-01-29T23:12:10.077728",
     "status": "completed"
    },
    "tags": []
   },
   "source": [
    "**The age distribution rounds around 50. There are some outliers above 100.**"
   ]
  },
  {
   "cell_type": "code",
   "execution_count": 11,
   "id": "fb8e201d",
   "metadata": {
    "execution": {
     "iopub.execute_input": "2023-01-29T23:12:10.142161Z",
     "iopub.status.busy": "2023-01-29T23:12:10.141765Z",
     "iopub.status.idle": "2023-01-29T23:12:10.149514Z",
     "shell.execute_reply": "2023-01-29T23:12:10.148298Z"
    },
    "papermill": {
     "duration": 0.03251,
     "end_time": "2023-01-29T23:12:10.151972",
     "exception": false,
     "start_time": "2023-01-29T23:12:10.119462",
     "status": "completed"
    },
    "tags": []
   },
   "outputs": [
    {
     "data": {
      "text/plain": [
       "130"
      ]
     },
     "execution_count": 11,
     "metadata": {},
     "output_type": "execute_result"
    }
   ],
   "source": [
    "data['Age'].max()"
   ]
  },
  {
   "cell_type": "code",
   "execution_count": 12,
   "id": "da262ee3",
   "metadata": {
    "execution": {
     "iopub.execute_input": "2023-01-29T23:12:10.196036Z",
     "iopub.status.busy": "2023-01-29T23:12:10.195610Z",
     "iopub.status.idle": "2023-01-29T23:12:10.221283Z",
     "shell.execute_reply": "2023-01-29T23:12:10.219637Z"
    },
    "papermill": {
     "duration": 0.050871,
     "end_time": "2023-01-29T23:12:10.223795",
     "exception": false,
     "start_time": "2023-01-29T23:12:10.172924",
     "status": "completed"
    },
    "tags": []
   },
   "outputs": [
    {
     "data": {
      "text/html": [
       "<div>\n",
       "<style scoped>\n",
       "    .dataframe tbody tr th:only-of-type {\n",
       "        vertical-align: middle;\n",
       "    }\n",
       "\n",
       "    .dataframe tbody tr th {\n",
       "        vertical-align: top;\n",
       "    }\n",
       "\n",
       "    .dataframe thead th {\n",
       "        text-align: right;\n",
       "    }\n",
       "</style>\n",
       "<table border=\"1\" class=\"dataframe\">\n",
       "  <thead>\n",
       "    <tr style=\"text-align: right;\">\n",
       "      <th></th>\n",
       "      <th>ID</th>\n",
       "      <th>Education</th>\n",
       "      <th>Marital_Status</th>\n",
       "      <th>Income</th>\n",
       "      <th>Kidhome</th>\n",
       "      <th>Teenhome</th>\n",
       "      <th>Recency</th>\n",
       "      <th>MntWines</th>\n",
       "      <th>MntFruits</th>\n",
       "      <th>MntMeatProducts</th>\n",
       "      <th>MntFishProducts</th>\n",
       "      <th>MntSweetProducts</th>\n",
       "      <th>MntGoldProds</th>\n",
       "      <th>NumDealsPurchases</th>\n",
       "      <th>NumWebPurchases</th>\n",
       "      <th>NumCatalogPurchases</th>\n",
       "      <th>NumStorePurchases</th>\n",
       "      <th>NumWebVisitsMonth</th>\n",
       "      <th>AcceptedCmp3</th>\n",
       "      <th>AcceptedCmp4</th>\n",
       "      <th>AcceptedCmp5</th>\n",
       "      <th>AcceptedCmp1</th>\n",
       "      <th>AcceptedCmp2</th>\n",
       "      <th>Complain</th>\n",
       "      <th>Z_CostContact</th>\n",
       "      <th>Z_Revenue</th>\n",
       "      <th>Response</th>\n",
       "      <th>Year_Customer</th>\n",
       "      <th>DayDiff_Customer</th>\n",
       "      <th>Age</th>\n",
       "    </tr>\n",
       "  </thead>\n",
       "  <tbody>\n",
       "    <tr>\n",
       "      <th>192</th>\n",
       "      <td>7829</td>\n",
       "      <td>2n Cycle</td>\n",
       "      <td>Divorced</td>\n",
       "      <td>36640.0</td>\n",
       "      <td>1</td>\n",
       "      <td>0</td>\n",
       "      <td>99</td>\n",
       "      <td>15</td>\n",
       "      <td>6</td>\n",
       "      <td>8</td>\n",
       "      <td>7</td>\n",
       "      <td>4</td>\n",
       "      <td>25</td>\n",
       "      <td>1</td>\n",
       "      <td>2</td>\n",
       "      <td>1</td>\n",
       "      <td>2</td>\n",
       "      <td>5</td>\n",
       "      <td>0</td>\n",
       "      <td>0</td>\n",
       "      <td>0</td>\n",
       "      <td>0</td>\n",
       "      <td>0</td>\n",
       "      <td>1</td>\n",
       "      <td>3</td>\n",
       "      <td>11</td>\n",
       "      <td>0</td>\n",
       "      <td>10</td>\n",
       "      <td>3412</td>\n",
       "      <td>123</td>\n",
       "    </tr>\n",
       "    <tr>\n",
       "      <th>239</th>\n",
       "      <td>11004</td>\n",
       "      <td>2n Cycle</td>\n",
       "      <td>Single</td>\n",
       "      <td>60182.0</td>\n",
       "      <td>0</td>\n",
       "      <td>1</td>\n",
       "      <td>23</td>\n",
       "      <td>8</td>\n",
       "      <td>0</td>\n",
       "      <td>5</td>\n",
       "      <td>7</td>\n",
       "      <td>0</td>\n",
       "      <td>2</td>\n",
       "      <td>1</td>\n",
       "      <td>1</td>\n",
       "      <td>0</td>\n",
       "      <td>2</td>\n",
       "      <td>4</td>\n",
       "      <td>0</td>\n",
       "      <td>0</td>\n",
       "      <td>0</td>\n",
       "      <td>0</td>\n",
       "      <td>0</td>\n",
       "      <td>0</td>\n",
       "      <td>3</td>\n",
       "      <td>11</td>\n",
       "      <td>0</td>\n",
       "      <td>9</td>\n",
       "      <td>3179</td>\n",
       "      <td>130</td>\n",
       "    </tr>\n",
       "    <tr>\n",
       "      <th>339</th>\n",
       "      <td>1150</td>\n",
       "      <td>PhD</td>\n",
       "      <td>Together</td>\n",
       "      <td>83532.0</td>\n",
       "      <td>0</td>\n",
       "      <td>0</td>\n",
       "      <td>36</td>\n",
       "      <td>755</td>\n",
       "      <td>144</td>\n",
       "      <td>562</td>\n",
       "      <td>104</td>\n",
       "      <td>64</td>\n",
       "      <td>224</td>\n",
       "      <td>1</td>\n",
       "      <td>4</td>\n",
       "      <td>6</td>\n",
       "      <td>4</td>\n",
       "      <td>1</td>\n",
       "      <td>0</td>\n",
       "      <td>0</td>\n",
       "      <td>1</td>\n",
       "      <td>0</td>\n",
       "      <td>0</td>\n",
       "      <td>0</td>\n",
       "      <td>3</td>\n",
       "      <td>11</td>\n",
       "      <td>0</td>\n",
       "      <td>10</td>\n",
       "      <td>3412</td>\n",
       "      <td>124</td>\n",
       "    </tr>\n",
       "  </tbody>\n",
       "</table>\n",
       "</div>"
      ],
      "text/plain": [
       "        ID Education Marital_Status   Income  Kidhome  Teenhome  Recency  \\\n",
       "192   7829  2n Cycle       Divorced  36640.0        1         0       99   \n",
       "239  11004  2n Cycle         Single  60182.0        0         1       23   \n",
       "339   1150       PhD       Together  83532.0        0         0       36   \n",
       "\n",
       "     MntWines  MntFruits  MntMeatProducts  MntFishProducts  MntSweetProducts  \\\n",
       "192        15          6                8                7                 4   \n",
       "239         8          0                5                7                 0   \n",
       "339       755        144              562              104                64   \n",
       "\n",
       "     MntGoldProds  NumDealsPurchases  NumWebPurchases  NumCatalogPurchases  \\\n",
       "192            25                  1                2                    1   \n",
       "239             2                  1                1                    0   \n",
       "339           224                  1                4                    6   \n",
       "\n",
       "     NumStorePurchases  NumWebVisitsMonth  AcceptedCmp3  AcceptedCmp4  \\\n",
       "192                  2                  5             0             0   \n",
       "239                  2                  4             0             0   \n",
       "339                  4                  1             0             0   \n",
       "\n",
       "     AcceptedCmp5  AcceptedCmp1  AcceptedCmp2  Complain  Z_CostContact  \\\n",
       "192             0             0             0         1              3   \n",
       "239             0             0             0         0              3   \n",
       "339             1             0             0         0              3   \n",
       "\n",
       "     Z_Revenue  Response  Year_Customer  DayDiff_Customer  Age  \n",
       "192         11         0             10              3412  123  \n",
       "239         11         0              9              3179  130  \n",
       "339         11         0             10              3412  124  "
      ]
     },
     "execution_count": 12,
     "metadata": {},
     "output_type": "execute_result"
    }
   ],
   "source": [
    "data[data['Age'] > 100]"
   ]
  },
  {
   "cell_type": "markdown",
   "id": "a34b318a",
   "metadata": {
    "papermill": {
     "duration": 0.021288,
     "end_time": "2023-01-29T23:12:10.266511",
     "exception": false,
     "start_time": "2023-01-29T23:12:10.245223",
     "status": "completed"
    },
    "tags": []
   },
   "source": [
    "**Because of that the age group does not frequent, it could be removed from dataset to make the feature model work well.**\n",
    "\n",
    "**The code below drops the customers which is over the age of 100:**"
   ]
  },
  {
   "cell_type": "code",
   "execution_count": 13,
   "id": "063555bc",
   "metadata": {
    "execution": {
     "iopub.execute_input": "2023-01-29T23:12:10.311580Z",
     "iopub.status.busy": "2023-01-29T23:12:10.311142Z",
     "iopub.status.idle": "2023-01-29T23:12:10.319895Z",
     "shell.execute_reply": "2023-01-29T23:12:10.318421Z"
    },
    "papermill": {
     "duration": 0.034176,
     "end_time": "2023-01-29T23:12:10.322617",
     "exception": false,
     "start_time": "2023-01-29T23:12:10.288441",
     "status": "completed"
    },
    "tags": []
   },
   "outputs": [],
   "source": [
    "data.drop(index=(data[data['Age'] > 100].index), axis = 0, inplace=True)"
   ]
  },
  {
   "cell_type": "markdown",
   "id": "5cb7c30e",
   "metadata": {
    "papermill": {
     "duration": 0.020961,
     "end_time": "2023-01-29T23:12:10.364964",
     "exception": false,
     "start_time": "2023-01-29T23:12:10.344003",
     "status": "completed"
    },
    "tags": []
   },
   "source": [
    "**Setting ticks for X axis of age distribution histogram:**"
   ]
  },
  {
   "cell_type": "code",
   "execution_count": 14,
   "id": "d119fb52",
   "metadata": {
    "execution": {
     "iopub.execute_input": "2023-01-29T23:12:10.409852Z",
     "iopub.status.busy": "2023-01-29T23:12:10.409040Z",
     "iopub.status.idle": "2023-01-29T23:12:10.418810Z",
     "shell.execute_reply": "2023-01-29T23:12:10.417467Z"
    },
    "papermill": {
     "duration": 0.03511,
     "end_time": "2023-01-29T23:12:10.421575",
     "exception": false,
     "start_time": "2023-01-29T23:12:10.386465",
     "status": "completed"
    },
    "tags": []
   },
   "outputs": [
    {
     "data": {
      "text/plain": [
       "25"
      ]
     },
     "execution_count": 14,
     "metadata": {},
     "output_type": "execute_result"
    }
   ],
   "source": [
    "minAgeTick = int(data['Age'].min() - (data['Age'].min() % 5))\n",
    "minAgeTick"
   ]
  },
  {
   "cell_type": "code",
   "execution_count": 15,
   "id": "5e6c5e20",
   "metadata": {
    "execution": {
     "iopub.execute_input": "2023-01-29T23:12:10.467129Z",
     "iopub.status.busy": "2023-01-29T23:12:10.466675Z",
     "iopub.status.idle": "2023-01-29T23:12:10.475299Z",
     "shell.execute_reply": "2023-01-29T23:12:10.473925Z"
    },
    "papermill": {
     "duration": 0.034526,
     "end_time": "2023-01-29T23:12:10.477644",
     "exception": false,
     "start_time": "2023-01-29T23:12:10.443118",
     "status": "completed"
    },
    "tags": []
   },
   "outputs": [
    {
     "data": {
      "text/plain": [
       "85"
      ]
     },
     "execution_count": 15,
     "metadata": {},
     "output_type": "execute_result"
    }
   ],
   "source": [
    "maxAgeTick = int(((data['Age'].max() // 5) + 1) * 5)\n",
    "maxAgeTick"
   ]
  },
  {
   "cell_type": "code",
   "execution_count": 16,
   "id": "17c98333",
   "metadata": {
    "execution": {
     "iopub.execute_input": "2023-01-29T23:12:10.522589Z",
     "iopub.status.busy": "2023-01-29T23:12:10.522138Z",
     "iopub.status.idle": "2023-01-29T23:12:10.529513Z",
     "shell.execute_reply": "2023-01-29T23:12:10.528376Z"
    },
    "papermill": {
     "duration": 0.032867,
     "end_time": "2023-01-29T23:12:10.532141",
     "exception": false,
     "start_time": "2023-01-29T23:12:10.499274",
     "status": "completed"
    },
    "tags": []
   },
   "outputs": [
    {
     "data": {
      "text/plain": [
       "[25, 30, 35, 40, 45, 50, 55, 60, 65, 70, 75, 80, 85]"
      ]
     },
     "execution_count": 16,
     "metadata": {},
     "output_type": "execute_result"
    }
   ],
   "source": [
    "ticks = list(range(minAgeTick,maxAgeTick+1, 5))\n",
    "ticks"
   ]
  },
  {
   "cell_type": "markdown",
   "id": "538625fd",
   "metadata": {
    "papermill": {
     "duration": 0.021341,
     "end_time": "2023-01-29T23:12:10.575698",
     "exception": false,
     "start_time": "2023-01-29T23:12:10.554357",
     "status": "completed"
    },
    "tags": []
   },
   "source": [
    "**Histogram of the Age Variable**"
   ]
  },
  {
   "cell_type": "code",
   "execution_count": 17,
   "id": "661b4863",
   "metadata": {
    "execution": {
     "iopub.execute_input": "2023-01-29T23:12:10.621528Z",
     "iopub.status.busy": "2023-01-29T23:12:10.620279Z",
     "iopub.status.idle": "2023-01-29T23:12:10.903612Z",
     "shell.execute_reply": "2023-01-29T23:12:10.902528Z"
    },
    "papermill": {
     "duration": 0.308809,
     "end_time": "2023-01-29T23:12:10.906143",
     "exception": false,
     "start_time": "2023-01-29T23:12:10.597334",
     "status": "completed"
    },
    "tags": []
   },
   "outputs": [
    {
     "data": {
      "text/plain": [
       "[<matplotlib.axis.XTick at 0x7fb5b758fe90>,\n",
       " <matplotlib.axis.XTick at 0x7fb5b54a2750>,\n",
       " <matplotlib.axis.XTick at 0x7fb5b53f2fd0>,\n",
       " <matplotlib.axis.XTick at 0x7fb5b539c610>,\n",
       " <matplotlib.axis.XTick at 0x7fb5b539ca50>,\n",
       " <matplotlib.axis.XTick at 0x7fb5b53a6650>,\n",
       " <matplotlib.axis.XTick at 0x7fb5b53a6990>,\n",
       " <matplotlib.axis.XTick at 0x7fb5b53b14d0>,\n",
       " <matplotlib.axis.XTick at 0x7fb5b54ba150>,\n",
       " <matplotlib.axis.XTick at 0x7fb5b53f2950>,\n",
       " <matplotlib.axis.XTick at 0x7fb5b53f2d10>,\n",
       " <matplotlib.axis.XTick at 0x7fb5b53c5b50>,\n",
       " <matplotlib.axis.XTick at 0x7fb5b539c090>]"
      ]
     },
     "execution_count": 17,
     "metadata": {},
     "output_type": "execute_result"
    },
    {
     "data": {
      "image/png": "[encoded data removed]",
      "text/plain": [
       "<Figure size 432x288 with 1 Axes>"
      ]
     },
     "metadata": {
      "needs_background": "light"
     },
     "output_type": "display_data"
    }
   ],
   "source": [
    "histogram_plot = sns.histplot(data['Age'],bins=10)\n",
    "histogram_plot.set_xticks(ticks)"
   ]
  },
  {
   "cell_type": "markdown",
   "id": "3165a1ca",
   "metadata": {
    "papermill": {
     "duration": 0.021564,
     "end_time": "2023-01-29T23:12:10.950094",
     "exception": false,
     "start_time": "2023-01-29T23:12:10.928530",
     "status": "completed"
    },
    "tags": []
   },
   "source": [
    "**The histogram is more clear for observation now.**\n",
    "<hr>\n",
    "\n",
    "# Age Groups\n",
    "\n",
    "**Setting the age groups based on a function.**"
   ]
  },
  {
   "cell_type": "code",
   "execution_count": 18,
   "id": "b9458faf",
   "metadata": {
    "execution": {
     "iopub.execute_input": "2023-01-29T23:12:10.996779Z",
     "iopub.status.busy": "2023-01-29T23:12:10.996210Z",
     "iopub.status.idle": "2023-01-29T23:12:11.002580Z",
     "shell.execute_reply": "2023-01-29T23:12:11.001304Z"
    },
    "papermill": {
     "duration": 0.032537,
     "end_time": "2023-01-29T23:12:11.004870",
     "exception": false,
     "start_time": "2023-01-29T23:12:10.972333",
     "status": "completed"
    },
    "tags": []
   },
   "outputs": [],
   "source": [
    "def age_group(age):\n",
    "    if age <= 25:\n",
    "        age_group = 'Young Adult'\n",
    "    elif (age > 25) & (age <= 64):\n",
    "        age_group = 'Adult'\n",
    "    else:\n",
    "        age_group = 'Elder'\n",
    "    return age_group"
   ]
  },
  {
   "cell_type": "code",
   "execution_count": 19,
   "id": "27ef98b9",
   "metadata": {
    "execution": {
     "iopub.execute_input": "2023-01-29T23:12:11.052645Z",
     "iopub.status.busy": "2023-01-29T23:12:11.051901Z",
     "iopub.status.idle": "2023-01-29T23:12:11.061327Z",
     "shell.execute_reply": "2023-01-29T23:12:11.060149Z"
    },
    "papermill": {
     "duration": 0.036029,
     "end_time": "2023-01-29T23:12:11.064004",
     "exception": false,
     "start_time": "2023-01-29T23:12:11.027975",
     "status": "completed"
    },
    "tags": []
   },
   "outputs": [],
   "source": [
    "data['Age_Group'] = data['Age'].apply(lambda x: age_group(x))\n",
    "age_group_ordered = CategoricalDtype(categories=['Young Adult','Adult', 'Elder'], ordered=True)\n",
    "data['Age_Group'] = data['Age_Group'].astype(age_group_ordered)"
   ]
  },
  {
   "cell_type": "markdown",
   "id": "b2ee68bf",
   "metadata": {
    "papermill": {
     "duration": 0.02163,
     "end_time": "2023-01-29T23:12:11.107972",
     "exception": false,
     "start_time": "2023-01-29T23:12:11.086342",
     "status": "completed"
    },
    "tags": []
   },
   "source": [
    "<hr>\n",
    "\n",
    "# Income Variable and Creation of Income Groups\n",
    "\n",
    "<b>Setting the income groups based on a function.</b>"
   ]
  },
  {
   "cell_type": "code",
   "execution_count": 20,
   "id": "49d839b0",
   "metadata": {
    "execution": {
     "iopub.execute_input": "2023-01-29T23:12:11.153767Z",
     "iopub.status.busy": "2023-01-29T23:12:11.153294Z",
     "iopub.status.idle": "2023-01-29T23:12:11.167806Z",
     "shell.execute_reply": "2023-01-29T23:12:11.166781Z"
    },
    "papermill": {
     "duration": 0.040116,
     "end_time": "2023-01-29T23:12:11.170239",
     "exception": false,
     "start_time": "2023-01-29T23:12:11.130123",
     "status": "completed"
    },
    "tags": []
   },
   "outputs": [
    {
     "data": {
      "text/plain": [
       "count      2213.000000\n",
       "mean      52236.581563\n",
       "std       25178.603047\n",
       "min        1730.000000\n",
       "25%       35246.000000\n",
       "50%       51373.000000\n",
       "75%       68487.000000\n",
       "max      666666.000000\n",
       "Name: Income, dtype: float64"
      ]
     },
     "execution_count": 20,
     "metadata": {},
     "output_type": "execute_result"
    }
   ],
   "source": [
    "data['Income'].describe()"
   ]
  },
  {
   "cell_type": "code",
   "execution_count": 21,
   "id": "f298e0c2",
   "metadata": {
    "execution": {
     "iopub.execute_input": "2023-01-29T23:12:11.218120Z",
     "iopub.status.busy": "2023-01-29T23:12:11.217426Z",
     "iopub.status.idle": "2023-01-29T23:12:11.711117Z",
     "shell.execute_reply": "2023-01-29T23:12:11.710094Z"
    },
    "papermill": {
     "duration": 0.520892,
     "end_time": "2023-01-29T23:12:11.713595",
     "exception": false,
     "start_time": "2023-01-29T23:12:11.192703",
     "status": "completed"
    },
    "tags": []
   },
   "outputs": [
    {
     "data": {
      "text/plain": [
       "<AxesSubplot:xlabel='Income', ylabel='Count'>"
      ]
     },
     "execution_count": 21,
     "metadata": {},
     "output_type": "execute_result"
    },
    {
     "data": {
      "image/png": "[encoded data removed]",
      "text/plain": [
       "<Figure size 432x288 with 1 Axes>"
      ]
     },
     "metadata": {
      "needs_background": "light"
     },
     "output_type": "display_data"
    }
   ],
   "source": [
    "sns.histplot(data['Income'])"
   ]
  },
  {
   "cell_type": "markdown",
   "id": "67bb5225",
   "metadata": {
    "papermill": {
     "duration": 0.022301,
     "end_time": "2023-01-29T23:12:11.758669",
     "exception": false,
     "start_time": "2023-01-29T23:12:11.736368",
     "status": "completed"
    },
    "tags": []
   },
   "source": [
    "**Detecting outliers**"
   ]
  },
  {
   "cell_type": "code",
   "execution_count": 22,
   "id": "561e4c0f",
   "metadata": {
    "execution": {
     "iopub.execute_input": "2023-01-29T23:12:11.807876Z",
     "iopub.status.busy": "2023-01-29T23:12:11.806843Z",
     "iopub.status.idle": "2023-01-29T23:12:11.815317Z",
     "shell.execute_reply": "2023-01-29T23:12:11.814296Z"
    },
    "papermill": {
     "duration": 0.036119,
     "end_time": "2023-01-29T23:12:11.817873",
     "exception": false,
     "start_time": "2023-01-29T23:12:11.781754",
     "status": "completed"
    },
    "tags": []
   },
   "outputs": [
    {
     "data": {
      "text/plain": [
       "118348.5"
      ]
     },
     "execution_count": 22,
     "metadata": {},
     "output_type": "execute_result"
    }
   ],
   "source": [
    "q1, q3 = np.percentile(data[\"Income\"],[25,75])\n",
    "interquartile_range = q3 - q1\n",
    "higher_treshold = q3 + (interquartile_range * 1.5)\n",
    "higher_treshold"
   ]
  },
  {
   "cell_type": "code",
   "execution_count": 23,
   "id": "a3fcdec1",
   "metadata": {
    "execution": {
     "iopub.execute_input": "2023-01-29T23:12:11.866696Z",
     "iopub.status.busy": "2023-01-29T23:12:11.866023Z",
     "iopub.status.idle": "2023-01-29T23:12:11.891547Z",
     "shell.execute_reply": "2023-01-29T23:12:11.890183Z"
    },
    "papermill": {
     "duration": 0.05328,
     "end_time": "2023-01-29T23:12:11.894294",
     "exception": false,
     "start_time": "2023-01-29T23:12:11.841014",
     "status": "completed"
    },
    "tags": []
   },
   "outputs": [
    {
     "data": {
      "text/html": [
       "<div>\n",
       "<style scoped>\n",
       "    .dataframe tbody tr th:only-of-type {\n",
       "        vertical-align: middle;\n",
       "    }\n",
       "\n",
       "    .dataframe tbody tr th {\n",
       "        vertical-align: top;\n",
       "    }\n",
       "\n",
       "    .dataframe thead th {\n",
       "        text-align: right;\n",
       "    }\n",
       "</style>\n",
       "<table border=\"1\" class=\"dataframe\">\n",
       "  <thead>\n",
       "    <tr style=\"text-align: right;\">\n",
       "      <th></th>\n",
       "      <th>ID</th>\n",
       "      <th>Education</th>\n",
       "      <th>Marital_Status</th>\n",
       "      <th>Income</th>\n",
       "      <th>Kidhome</th>\n",
       "      <th>Teenhome</th>\n",
       "      <th>Recency</th>\n",
       "      <th>MntWines</th>\n",
       "      <th>MntFruits</th>\n",
       "      <th>MntMeatProducts</th>\n",
       "      <th>MntFishProducts</th>\n",
       "      <th>MntSweetProducts</th>\n",
       "      <th>MntGoldProds</th>\n",
       "      <th>NumDealsPurchases</th>\n",
       "      <th>NumWebPurchases</th>\n",
       "      <th>NumCatalogPurchases</th>\n",
       "      <th>NumStorePurchases</th>\n",
       "      <th>NumWebVisitsMonth</th>\n",
       "      <th>AcceptedCmp3</th>\n",
       "      <th>AcceptedCmp4</th>\n",
       "      <th>AcceptedCmp5</th>\n",
       "      <th>AcceptedCmp1</th>\n",
       "      <th>AcceptedCmp2</th>\n",
       "      <th>Complain</th>\n",
       "      <th>Z_CostContact</th>\n",
       "      <th>Z_Revenue</th>\n",
       "      <th>Response</th>\n",
       "      <th>Year_Customer</th>\n",
       "      <th>DayDiff_Customer</th>\n",
       "      <th>Age</th>\n",
       "      <th>Age_Group</th>\n",
       "    </tr>\n",
       "  </thead>\n",
       "  <tbody>\n",
       "    <tr>\n",
       "      <th>164</th>\n",
       "      <td>8475</td>\n",
       "      <td>PhD</td>\n",
       "      <td>Married</td>\n",
       "      <td>157243.0</td>\n",
       "      <td>0</td>\n",
       "      <td>1</td>\n",
       "      <td>98</td>\n",
       "      <td>20</td>\n",
       "      <td>2</td>\n",
       "      <td>1582</td>\n",
       "      <td>1</td>\n",
       "      <td>2</td>\n",
       "      <td>1</td>\n",
       "      <td>15</td>\n",
       "      <td>0</td>\n",
       "      <td>22</td>\n",
       "      <td>0</td>\n",
       "      <td>0</td>\n",
       "      <td>0</td>\n",
       "      <td>0</td>\n",
       "      <td>0</td>\n",
       "      <td>0</td>\n",
       "      <td>0</td>\n",
       "      <td>0</td>\n",
       "      <td>3</td>\n",
       "      <td>11</td>\n",
       "      <td>0</td>\n",
       "      <td>9</td>\n",
       "      <td>3313</td>\n",
       "      <td>50</td>\n",
       "      <td>Adult</td>\n",
       "    </tr>\n",
       "    <tr>\n",
       "      <th>617</th>\n",
       "      <td>1503</td>\n",
       "      <td>PhD</td>\n",
       "      <td>Together</td>\n",
       "      <td>162397.0</td>\n",
       "      <td>1</td>\n",
       "      <td>1</td>\n",
       "      <td>31</td>\n",
       "      <td>85</td>\n",
       "      <td>1</td>\n",
       "      <td>16</td>\n",
       "      <td>2</td>\n",
       "      <td>1</td>\n",
       "      <td>2</td>\n",
       "      <td>0</td>\n",
       "      <td>0</td>\n",
       "      <td>0</td>\n",
       "      <td>1</td>\n",
       "      <td>1</td>\n",
       "      <td>0</td>\n",
       "      <td>0</td>\n",
       "      <td>0</td>\n",
       "      <td>0</td>\n",
       "      <td>0</td>\n",
       "      <td>0</td>\n",
       "      <td>3</td>\n",
       "      <td>11</td>\n",
       "      <td>0</td>\n",
       "      <td>10</td>\n",
       "      <td>3616</td>\n",
       "      <td>47</td>\n",
       "      <td>Adult</td>\n",
       "    </tr>\n",
       "    <tr>\n",
       "      <th>655</th>\n",
       "      <td>5555</td>\n",
       "      <td>Graduation</td>\n",
       "      <td>Divorced</td>\n",
       "      <td>153924.0</td>\n",
       "      <td>0</td>\n",
       "      <td>0</td>\n",
       "      <td>81</td>\n",
       "      <td>1</td>\n",
       "      <td>1</td>\n",
       "      <td>1</td>\n",
       "      <td>1</td>\n",
       "      <td>1</td>\n",
       "      <td>1</td>\n",
       "      <td>0</td>\n",
       "      <td>0</td>\n",
       "      <td>0</td>\n",
       "      <td>0</td>\n",
       "      <td>0</td>\n",
       "      <td>0</td>\n",
       "      <td>0</td>\n",
       "      <td>0</td>\n",
       "      <td>0</td>\n",
       "      <td>0</td>\n",
       "      <td>0</td>\n",
       "      <td>3</td>\n",
       "      <td>11</td>\n",
       "      <td>0</td>\n",
       "      <td>9</td>\n",
       "      <td>3133</td>\n",
       "      <td>48</td>\n",
       "      <td>Adult</td>\n",
       "    </tr>\n",
       "    <tr>\n",
       "      <th>687</th>\n",
       "      <td>1501</td>\n",
       "      <td>PhD</td>\n",
       "      <td>Married</td>\n",
       "      <td>160803.0</td>\n",
       "      <td>0</td>\n",
       "      <td>0</td>\n",
       "      <td>21</td>\n",
       "      <td>55</td>\n",
       "      <td>16</td>\n",
       "      <td>1622</td>\n",
       "      <td>17</td>\n",
       "      <td>3</td>\n",
       "      <td>4</td>\n",
       "      <td>15</td>\n",
       "      <td>0</td>\n",
       "      <td>28</td>\n",
       "      <td>1</td>\n",
       "      <td>0</td>\n",
       "      <td>0</td>\n",
       "      <td>0</td>\n",
       "      <td>0</td>\n",
       "      <td>0</td>\n",
       "      <td>0</td>\n",
       "      <td>0</td>\n",
       "      <td>3</td>\n",
       "      <td>11</td>\n",
       "      <td>0</td>\n",
       "      <td>11</td>\n",
       "      <td>3948</td>\n",
       "      <td>41</td>\n",
       "      <td>Adult</td>\n",
       "    </tr>\n",
       "    <tr>\n",
       "      <th>1300</th>\n",
       "      <td>5336</td>\n",
       "      <td>Master</td>\n",
       "      <td>Together</td>\n",
       "      <td>157733.0</td>\n",
       "      <td>1</td>\n",
       "      <td>0</td>\n",
       "      <td>37</td>\n",
       "      <td>39</td>\n",
       "      <td>1</td>\n",
       "      <td>9</td>\n",
       "      <td>2</td>\n",
       "      <td>0</td>\n",
       "      <td>8</td>\n",
       "      <td>0</td>\n",
       "      <td>1</td>\n",
       "      <td>0</td>\n",
       "      <td>1</td>\n",
       "      <td>1</td>\n",
       "      <td>0</td>\n",
       "      <td>0</td>\n",
       "      <td>0</td>\n",
       "      <td>0</td>\n",
       "      <td>0</td>\n",
       "      <td>0</td>\n",
       "      <td>3</td>\n",
       "      <td>11</td>\n",
       "      <td>0</td>\n",
       "      <td>10</td>\n",
       "      <td>3585</td>\n",
       "      <td>52</td>\n",
       "      <td>Adult</td>\n",
       "    </tr>\n",
       "    <tr>\n",
       "      <th>1653</th>\n",
       "      <td>4931</td>\n",
       "      <td>Graduation</td>\n",
       "      <td>Together</td>\n",
       "      <td>157146.0</td>\n",
       "      <td>0</td>\n",
       "      <td>0</td>\n",
       "      <td>13</td>\n",
       "      <td>1</td>\n",
       "      <td>0</td>\n",
       "      <td>1725</td>\n",
       "      <td>2</td>\n",
       "      <td>1</td>\n",
       "      <td>1</td>\n",
       "      <td>0</td>\n",
       "      <td>0</td>\n",
       "      <td>28</td>\n",
       "      <td>0</td>\n",
       "      <td>1</td>\n",
       "      <td>0</td>\n",
       "      <td>0</td>\n",
       "      <td>0</td>\n",
       "      <td>0</td>\n",
       "      <td>0</td>\n",
       "      <td>0</td>\n",
       "      <td>3</td>\n",
       "      <td>11</td>\n",
       "      <td>0</td>\n",
       "      <td>10</td>\n",
       "      <td>3562</td>\n",
       "      <td>46</td>\n",
       "      <td>Adult</td>\n",
       "    </tr>\n",
       "    <tr>\n",
       "      <th>2132</th>\n",
       "      <td>11181</td>\n",
       "      <td>PhD</td>\n",
       "      <td>Married</td>\n",
       "      <td>156924.0</td>\n",
       "      <td>0</td>\n",
       "      <td>0</td>\n",
       "      <td>85</td>\n",
       "      <td>2</td>\n",
       "      <td>1</td>\n",
       "      <td>2</td>\n",
       "      <td>1</td>\n",
       "      <td>1</td>\n",
       "      <td>1</td>\n",
       "      <td>0</td>\n",
       "      <td>0</td>\n",
       "      <td>0</td>\n",
       "      <td>0</td>\n",
       "      <td>0</td>\n",
       "      <td>0</td>\n",
       "      <td>0</td>\n",
       "      <td>0</td>\n",
       "      <td>0</td>\n",
       "      <td>0</td>\n",
       "      <td>0</td>\n",
       "      <td>3</td>\n",
       "      <td>11</td>\n",
       "      <td>0</td>\n",
       "      <td>10</td>\n",
       "      <td>3440</td>\n",
       "      <td>74</td>\n",
       "      <td>Elder</td>\n",
       "    </tr>\n",
       "    <tr>\n",
       "      <th>2233</th>\n",
       "      <td>9432</td>\n",
       "      <td>Graduation</td>\n",
       "      <td>Together</td>\n",
       "      <td>666666.0</td>\n",
       "      <td>1</td>\n",
       "      <td>0</td>\n",
       "      <td>23</td>\n",
       "      <td>9</td>\n",
       "      <td>14</td>\n",
       "      <td>18</td>\n",
       "      <td>8</td>\n",
       "      <td>1</td>\n",
       "      <td>12</td>\n",
       "      <td>4</td>\n",
       "      <td>3</td>\n",
       "      <td>1</td>\n",
       "      <td>3</td>\n",
       "      <td>6</td>\n",
       "      <td>0</td>\n",
       "      <td>0</td>\n",
       "      <td>0</td>\n",
       "      <td>0</td>\n",
       "      <td>0</td>\n",
       "      <td>0</td>\n",
       "      <td>3</td>\n",
       "      <td>11</td>\n",
       "      <td>0</td>\n",
       "      <td>10</td>\n",
       "      <td>3644</td>\n",
       "      <td>46</td>\n",
       "      <td>Adult</td>\n",
       "    </tr>\n",
       "  </tbody>\n",
       "</table>\n",
       "</div>"
      ],
      "text/plain": [
       "         ID   Education Marital_Status    Income  Kidhome  Teenhome  Recency  \\\n",
       "164    8475         PhD        Married  157243.0        0         1       98   \n",
       "617    1503         PhD       Together  162397.0        1         1       31   \n",
       "655    5555  Graduation       Divorced  153924.0        0         0       81   \n",
       "687    1501         PhD        Married  160803.0        0         0       21   \n",
       "1300   5336      Master       Together  157733.0        1         0       37   \n",
       "1653   4931  Graduation       Together  157146.0        0         0       13   \n",
       "2132  11181         PhD        Married  156924.0        0         0       85   \n",
       "2233   9432  Graduation       Together  666666.0        1         0       23   \n",
       "\n",
       "      MntWines  MntFruits  MntMeatProducts  MntFishProducts  MntSweetProducts  \\\n",
       "164         20          2             1582                1                 2   \n",
       "617         85          1               16                2                 1   \n",
       "655          1          1                1                1                 1   \n",
       "687         55         16             1622               17                 3   \n",
       "1300        39          1                9                2                 0   \n",
       "1653         1          0             1725                2                 1   \n",
       "2132         2          1                2                1                 1   \n",
       "2233         9         14               18                8                 1   \n",
       "\n",
       "      MntGoldProds  NumDealsPurchases  NumWebPurchases  NumCatalogPurchases  \\\n",
       "164              1                 15                0                   22   \n",
       "617              2                  0                0                    0   \n",
       "655              1                  0                0                    0   \n",
       "687              4                 15                0                   28   \n",
       "1300             8                  0                1                    0   \n",
       "1653             1                  0                0                   28   \n",
       "2132             1                  0                0                    0   \n",
       "2233            12                  4                3                    1   \n",
       "\n",
       "      NumStorePurchases  NumWebVisitsMonth  AcceptedCmp3  AcceptedCmp4  \\\n",
       "164                   0                  0             0             0   \n",
       "617                   1                  1             0             0   \n",
       "655                   0                  0             0             0   \n",
       "687                   1                  0             0             0   \n",
       "1300                  1                  1             0             0   \n",
       "1653                  0                  1             0             0   \n",
       "2132                  0                  0             0             0   \n",
       "2233                  3                  6             0             0   \n",
       "\n",
       "      AcceptedCmp5  AcceptedCmp1  AcceptedCmp2  Complain  Z_CostContact  \\\n",
       "164              0             0             0         0              3   \n",
       "617              0             0             0         0              3   \n",
       "655              0             0             0         0              3   \n",
       "687              0             0             0         0              3   \n",
       "1300             0             0             0         0              3   \n",
       "1653             0             0             0         0              3   \n",
       "2132             0             0             0         0              3   \n",
       "2233             0             0             0         0              3   \n",
       "\n",
       "      Z_Revenue  Response  Year_Customer  DayDiff_Customer  Age Age_Group  \n",
       "164          11         0              9              3313   50     Adult  \n",
       "617          11         0             10              3616   47     Adult  \n",
       "655          11         0              9              3133   48     Adult  \n",
       "687          11         0             11              3948   41     Adult  \n",
       "1300         11         0             10              3585   52     Adult  \n",
       "1653         11         0             10              3562   46     Adult  \n",
       "2132         11         0             10              3440   74     Elder  \n",
       "2233         11         0             10              3644   46     Adult  "
      ]
     },
     "execution_count": 23,
     "metadata": {},
     "output_type": "execute_result"
    }
   ],
   "source": [
    "data[data['Income'] > higher_treshold]"
   ]
  },
  {
   "cell_type": "code",
   "execution_count": 24,
   "id": "f3318ca0",
   "metadata": {
    "execution": {
     "iopub.execute_input": "2023-01-29T23:12:11.943272Z",
     "iopub.status.busy": "2023-01-29T23:12:11.942867Z",
     "iopub.status.idle": "2023-01-29T23:12:11.951578Z",
     "shell.execute_reply": "2023-01-29T23:12:11.950320Z"
    },
    "papermill": {
     "duration": 0.036195,
     "end_time": "2023-01-29T23:12:11.953963",
     "exception": false,
     "start_time": "2023-01-29T23:12:11.917768",
     "status": "completed"
    },
    "tags": []
   },
   "outputs": [],
   "source": [
    "data.drop(index=(data[data['Income'] > higher_treshold].index), axis = 0, inplace=True)"
   ]
  },
  {
   "cell_type": "code",
   "execution_count": 25,
   "id": "3e0497a0",
   "metadata": {
    "execution": {
     "iopub.execute_input": "2023-01-29T23:12:12.002772Z",
     "iopub.status.busy": "2023-01-29T23:12:12.002271Z",
     "iopub.status.idle": "2023-01-29T23:12:12.286209Z",
     "shell.execute_reply": "2023-01-29T23:12:12.284889Z"
    },
    "papermill": {
     "duration": 0.312152,
     "end_time": "2023-01-29T23:12:12.289398",
     "exception": false,
     "start_time": "2023-01-29T23:12:11.977246",
     "status": "completed"
    },
    "tags": []
   },
   "outputs": [
    {
     "data": {
      "text/plain": [
       "<AxesSubplot:xlabel='Income', ylabel='Count'>"
      ]
     },
     "execution_count": 25,
     "metadata": {},
     "output_type": "execute_result"
    },
    {
     "data": {
      "image/png": "[encoded data removed]",
      "text/plain": [
       "<Figure size 432x288 with 1 Axes>"
      ]
     },
     "metadata": {
      "needs_background": "light"
     },
     "output_type": "display_data"
    }
   ],
   "source": [
    "sns.histplot(data['Income'])"
   ]
  },
  {
   "cell_type": "markdown",
   "id": "a599f287",
   "metadata": {
    "papermill": {
     "duration": 0.028414,
     "end_time": "2023-01-29T23:12:12.342055",
     "exception": false,
     "start_time": "2023-01-29T23:12:12.313641",
     "status": "completed"
    },
    "tags": []
   },
   "source": [
    "The distribution of data looks more normal distribution."
   ]
  },
  {
   "cell_type": "code",
   "execution_count": 26,
   "id": "147bcd35",
   "metadata": {
    "execution": {
     "iopub.execute_input": "2023-01-29T23:12:12.393173Z",
     "iopub.status.busy": "2023-01-29T23:12:12.392508Z",
     "iopub.status.idle": "2023-01-29T23:12:12.399337Z",
     "shell.execute_reply": "2023-01-29T23:12:12.398145Z"
    },
    "papermill": {
     "duration": 0.035802,
     "end_time": "2023-01-29T23:12:12.402083",
     "exception": false,
     "start_time": "2023-01-29T23:12:12.366281",
     "status": "completed"
    },
    "tags": []
   },
   "outputs": [],
   "source": [
    "income_median = np.median(data['Income'])\n",
    "income_std = np.std(data['Income'])"
   ]
  },
  {
   "cell_type": "code",
   "execution_count": 27,
   "id": "ac561b80",
   "metadata": {
    "execution": {
     "iopub.execute_input": "2023-01-29T23:12:12.452701Z",
     "iopub.status.busy": "2023-01-29T23:12:12.451360Z",
     "iopub.status.idle": "2023-01-29T23:12:12.457308Z",
     "shell.execute_reply": "2023-01-29T23:12:12.456422Z"
    },
    "papermill": {
     "duration": 0.034026,
     "end_time": "2023-01-29T23:12:12.459922",
     "exception": false,
     "start_time": "2023-01-29T23:12:12.425896",
     "status": "completed"
    },
    "tags": []
   },
   "outputs": [],
   "source": [
    "q1, q3 = np.percentile(data[\"Income\"],[25,75])"
   ]
  },
  {
   "cell_type": "code",
   "execution_count": 28,
   "id": "38766e17",
   "metadata": {
    "execution": {
     "iopub.execute_input": "2023-01-29T23:12:12.511220Z",
     "iopub.status.busy": "2023-01-29T23:12:12.509835Z",
     "iopub.status.idle": "2023-01-29T23:12:12.516005Z",
     "shell.execute_reply": "2023-01-29T23:12:12.514959Z"
    },
    "papermill": {
     "duration": 0.033877,
     "end_time": "2023-01-29T23:12:12.518433",
     "exception": false,
     "start_time": "2023-01-29T23:12:12.484556",
     "status": "completed"
    },
    "tags": []
   },
   "outputs": [],
   "source": [
    "def income_group(income):\n",
    "    if income <= q1:\n",
    "        income_group = 'Low'\n",
    "    elif (income > q1) & (income <= q3):\n",
    "        income_group = 'Middle'\n",
    "    else:\n",
    "        income_group = 'High'\n",
    "    return income_group"
   ]
  },
  {
   "cell_type": "code",
   "execution_count": 29,
   "id": "aaa03eb9",
   "metadata": {
    "execution": {
     "iopub.execute_input": "2023-01-29T23:12:12.568668Z",
     "iopub.status.busy": "2023-01-29T23:12:12.567544Z",
     "iopub.status.idle": "2023-01-29T23:12:12.577914Z",
     "shell.execute_reply": "2023-01-29T23:12:12.576547Z"
    },
    "papermill": {
     "duration": 0.037756,
     "end_time": "2023-01-29T23:12:12.580684",
     "exception": false,
     "start_time": "2023-01-29T23:12:12.542928",
     "status": "completed"
    },
    "tags": []
   },
   "outputs": [],
   "source": [
    "data['Income_Group'] = data['Income'].apply(lambda x: income_group(x))\n",
    "income_group_ordered = CategoricalDtype(categories=['Low','Middle', 'High'], ordered=True)\n",
    "data['Income_Group'] = data['Income_Group'].astype(income_group_ordered)"
   ]
  },
  {
   "cell_type": "code",
   "execution_count": 30,
   "id": "ffc7f8a3",
   "metadata": {
    "execution": {
     "iopub.execute_input": "2023-01-29T23:12:12.629794Z",
     "iopub.status.busy": "2023-01-29T23:12:12.629315Z",
     "iopub.status.idle": "2023-01-29T23:12:12.665285Z",
     "shell.execute_reply": "2023-01-29T23:12:12.663645Z"
    },
    "papermill": {
     "duration": 0.064383,
     "end_time": "2023-01-29T23:12:12.668538",
     "exception": false,
     "start_time": "2023-01-29T23:12:12.604155",
     "status": "completed"
    },
    "tags": []
   },
   "outputs": [
    {
     "data": {
      "text/html": [
       "<div>\n",
       "<style scoped>\n",
       "    .dataframe tbody tr th:only-of-type {\n",
       "        vertical-align: middle;\n",
       "    }\n",
       "\n",
       "    .dataframe tbody tr th {\n",
       "        vertical-align: top;\n",
       "    }\n",
       "\n",
       "    .dataframe thead th {\n",
       "        text-align: right;\n",
       "    }\n",
       "</style>\n",
       "<table border=\"1\" class=\"dataframe\">\n",
       "  <thead>\n",
       "    <tr style=\"text-align: right;\">\n",
       "      <th></th>\n",
       "      <th>ID</th>\n",
       "      <th>Education</th>\n",
       "      <th>Marital_Status</th>\n",
       "      <th>Income</th>\n",
       "      <th>Kidhome</th>\n",
       "      <th>Teenhome</th>\n",
       "      <th>Recency</th>\n",
       "      <th>MntWines</th>\n",
       "      <th>MntFruits</th>\n",
       "      <th>MntMeatProducts</th>\n",
       "      <th>MntFishProducts</th>\n",
       "      <th>MntSweetProducts</th>\n",
       "      <th>MntGoldProds</th>\n",
       "      <th>NumDealsPurchases</th>\n",
       "      <th>NumWebPurchases</th>\n",
       "      <th>NumCatalogPurchases</th>\n",
       "      <th>NumStorePurchases</th>\n",
       "      <th>NumWebVisitsMonth</th>\n",
       "      <th>AcceptedCmp3</th>\n",
       "      <th>AcceptedCmp4</th>\n",
       "      <th>AcceptedCmp5</th>\n",
       "      <th>AcceptedCmp1</th>\n",
       "      <th>AcceptedCmp2</th>\n",
       "      <th>Complain</th>\n",
       "      <th>Z_CostContact</th>\n",
       "      <th>Z_Revenue</th>\n",
       "      <th>Response</th>\n",
       "      <th>Year_Customer</th>\n",
       "      <th>DayDiff_Customer</th>\n",
       "      <th>Age</th>\n",
       "      <th>Age_Group</th>\n",
       "      <th>Income_Group</th>\n",
       "    </tr>\n",
       "  </thead>\n",
       "  <tbody>\n",
       "    <tr>\n",
       "      <th>2</th>\n",
       "      <td>4141</td>\n",
       "      <td>Graduation</td>\n",
       "      <td>Together</td>\n",
       "      <td>71613.0</td>\n",
       "      <td>0</td>\n",
       "      <td>0</td>\n",
       "      <td>26</td>\n",
       "      <td>426</td>\n",
       "      <td>49</td>\n",
       "      <td>127</td>\n",
       "      <td>111</td>\n",
       "      <td>21</td>\n",
       "      <td>42</td>\n",
       "      <td>1</td>\n",
       "      <td>8</td>\n",
       "      <td>2</td>\n",
       "      <td>10</td>\n",
       "      <td>4</td>\n",
       "      <td>0</td>\n",
       "      <td>0</td>\n",
       "      <td>0</td>\n",
       "      <td>0</td>\n",
       "      <td>0</td>\n",
       "      <td>0</td>\n",
       "      <td>3</td>\n",
       "      <td>11</td>\n",
       "      <td>0</td>\n",
       "      <td>10</td>\n",
       "      <td>3448</td>\n",
       "      <td>58</td>\n",
       "      <td>Adult</td>\n",
       "      <td>High</td>\n",
       "    </tr>\n",
       "    <tr>\n",
       "      <th>15</th>\n",
       "      <td>2114</td>\n",
       "      <td>PhD</td>\n",
       "      <td>Single</td>\n",
       "      <td>82800.0</td>\n",
       "      <td>0</td>\n",
       "      <td>0</td>\n",
       "      <td>23</td>\n",
       "      <td>1006</td>\n",
       "      <td>22</td>\n",
       "      <td>115</td>\n",
       "      <td>59</td>\n",
       "      <td>68</td>\n",
       "      <td>45</td>\n",
       "      <td>1</td>\n",
       "      <td>7</td>\n",
       "      <td>6</td>\n",
       "      <td>12</td>\n",
       "      <td>3</td>\n",
       "      <td>0</td>\n",
       "      <td>0</td>\n",
       "      <td>1</td>\n",
       "      <td>1</td>\n",
       "      <td>0</td>\n",
       "      <td>0</td>\n",
       "      <td>3</td>\n",
       "      <td>11</td>\n",
       "      <td>1</td>\n",
       "      <td>11</td>\n",
       "      <td>3718</td>\n",
       "      <td>77</td>\n",
       "      <td>Elder</td>\n",
       "      <td>High</td>\n",
       "    </tr>\n",
       "    <tr>\n",
       "      <th>18</th>\n",
       "      <td>6565</td>\n",
       "      <td>Master</td>\n",
       "      <td>Married</td>\n",
       "      <td>76995.0</td>\n",
       "      <td>0</td>\n",
       "      <td>1</td>\n",
       "      <td>91</td>\n",
       "      <td>1012</td>\n",
       "      <td>80</td>\n",
       "      <td>498</td>\n",
       "      <td>0</td>\n",
       "      <td>16</td>\n",
       "      <td>176</td>\n",
       "      <td>2</td>\n",
       "      <td>11</td>\n",
       "      <td>4</td>\n",
       "      <td>9</td>\n",
       "      <td>5</td>\n",
       "      <td>0</td>\n",
       "      <td>0</td>\n",
       "      <td>0</td>\n",
       "      <td>1</td>\n",
       "      <td>0</td>\n",
       "      <td>0</td>\n",
       "      <td>3</td>\n",
       "      <td>11</td>\n",
       "      <td>0</td>\n",
       "      <td>10</td>\n",
       "      <td>3594</td>\n",
       "      <td>74</td>\n",
       "      <td>Elder</td>\n",
       "      <td>High</td>\n",
       "    </tr>\n",
       "    <tr>\n",
       "      <th>29</th>\n",
       "      <td>1966</td>\n",
       "      <td>PhD</td>\n",
       "      <td>Married</td>\n",
       "      <td>84618.0</td>\n",
       "      <td>0</td>\n",
       "      <td>0</td>\n",
       "      <td>96</td>\n",
       "      <td>684</td>\n",
       "      <td>100</td>\n",
       "      <td>801</td>\n",
       "      <td>21</td>\n",
       "      <td>66</td>\n",
       "      <td>0</td>\n",
       "      <td>1</td>\n",
       "      <td>6</td>\n",
       "      <td>9</td>\n",
       "      <td>10</td>\n",
       "      <td>2</td>\n",
       "      <td>0</td>\n",
       "      <td>0</td>\n",
       "      <td>1</td>\n",
       "      <td>0</td>\n",
       "      <td>0</td>\n",
       "      <td>0</td>\n",
       "      <td>3</td>\n",
       "      <td>11</td>\n",
       "      <td>0</td>\n",
       "      <td>10</td>\n",
       "      <td>3355</td>\n",
       "      <td>58</td>\n",
       "      <td>Adult</td>\n",
       "      <td>High</td>\n",
       "    </tr>\n",
       "    <tr>\n",
       "      <th>34</th>\n",
       "      <td>8755</td>\n",
       "      <td>Master</td>\n",
       "      <td>Married</td>\n",
       "      <td>68657.0</td>\n",
       "      <td>0</td>\n",
       "      <td>0</td>\n",
       "      <td>4</td>\n",
       "      <td>482</td>\n",
       "      <td>34</td>\n",
       "      <td>471</td>\n",
       "      <td>119</td>\n",
       "      <td>68</td>\n",
       "      <td>22</td>\n",
       "      <td>1</td>\n",
       "      <td>3</td>\n",
       "      <td>5</td>\n",
       "      <td>9</td>\n",
       "      <td>7</td>\n",
       "      <td>0</td>\n",
       "      <td>0</td>\n",
       "      <td>0</td>\n",
       "      <td>0</td>\n",
       "      <td>0</td>\n",
       "      <td>0</td>\n",
       "      <td>3</td>\n",
       "      <td>11</td>\n",
       "      <td>0</td>\n",
       "      <td>10</td>\n",
       "      <td>3630</td>\n",
       "      <td>77</td>\n",
       "      <td>Elder</td>\n",
       "      <td>High</td>\n",
       "    </tr>\n",
       "    <tr>\n",
       "      <th>...</th>\n",
       "      <td>...</td>\n",
       "      <td>...</td>\n",
       "      <td>...</td>\n",
       "      <td>...</td>\n",
       "      <td>...</td>\n",
       "      <td>...</td>\n",
       "      <td>...</td>\n",
       "      <td>...</td>\n",
       "      <td>...</td>\n",
       "      <td>...</td>\n",
       "      <td>...</td>\n",
       "      <td>...</td>\n",
       "      <td>...</td>\n",
       "      <td>...</td>\n",
       "      <td>...</td>\n",
       "      <td>...</td>\n",
       "      <td>...</td>\n",
       "      <td>...</td>\n",
       "      <td>...</td>\n",
       "      <td>...</td>\n",
       "      <td>...</td>\n",
       "      <td>...</td>\n",
       "      <td>...</td>\n",
       "      <td>...</td>\n",
       "      <td>...</td>\n",
       "      <td>...</td>\n",
       "      <td>...</td>\n",
       "      <td>...</td>\n",
       "      <td>...</td>\n",
       "      <td>...</td>\n",
       "      <td>...</td>\n",
       "      <td>...</td>\n",
       "    </tr>\n",
       "    <tr>\n",
       "      <th>2211</th>\n",
       "      <td>10469</td>\n",
       "      <td>Graduation</td>\n",
       "      <td>Together</td>\n",
       "      <td>88325.0</td>\n",
       "      <td>0</td>\n",
       "      <td>0</td>\n",
       "      <td>42</td>\n",
       "      <td>519</td>\n",
       "      <td>71</td>\n",
       "      <td>860</td>\n",
       "      <td>93</td>\n",
       "      <td>27</td>\n",
       "      <td>53</td>\n",
       "      <td>1</td>\n",
       "      <td>6</td>\n",
       "      <td>2</td>\n",
       "      <td>9</td>\n",
       "      <td>2</td>\n",
       "      <td>0</td>\n",
       "      <td>0</td>\n",
       "      <td>0</td>\n",
       "      <td>0</td>\n",
       "      <td>0</td>\n",
       "      <td>0</td>\n",
       "      <td>3</td>\n",
       "      <td>11</td>\n",
       "      <td>0</td>\n",
       "      <td>9</td>\n",
       "      <td>3194</td>\n",
       "      <td>42</td>\n",
       "      <td>Adult</td>\n",
       "      <td>High</td>\n",
       "    </tr>\n",
       "    <tr>\n",
       "      <th>2213</th>\n",
       "      <td>3661</td>\n",
       "      <td>2n Cycle</td>\n",
       "      <td>Single</td>\n",
       "      <td>80617.0</td>\n",
       "      <td>0</td>\n",
       "      <td>0</td>\n",
       "      <td>42</td>\n",
       "      <td>594</td>\n",
       "      <td>51</td>\n",
       "      <td>631</td>\n",
       "      <td>72</td>\n",
       "      <td>55</td>\n",
       "      <td>32</td>\n",
       "      <td>1</td>\n",
       "      <td>4</td>\n",
       "      <td>6</td>\n",
       "      <td>8</td>\n",
       "      <td>2</td>\n",
       "      <td>0</td>\n",
       "      <td>0</td>\n",
       "      <td>0</td>\n",
       "      <td>0</td>\n",
       "      <td>0</td>\n",
       "      <td>0</td>\n",
       "      <td>3</td>\n",
       "      <td>11</td>\n",
       "      <td>0</td>\n",
       "      <td>11</td>\n",
       "      <td>3702</td>\n",
       "      <td>28</td>\n",
       "      <td>Adult</td>\n",
       "      <td>High</td>\n",
       "    </tr>\n",
       "    <tr>\n",
       "      <th>2217</th>\n",
       "      <td>9589</td>\n",
       "      <td>PhD</td>\n",
       "      <td>Widow</td>\n",
       "      <td>82032.0</td>\n",
       "      <td>0</td>\n",
       "      <td>0</td>\n",
       "      <td>54</td>\n",
       "      <td>332</td>\n",
       "      <td>194</td>\n",
       "      <td>377</td>\n",
       "      <td>149</td>\n",
       "      <td>125</td>\n",
       "      <td>57</td>\n",
       "      <td>0</td>\n",
       "      <td>4</td>\n",
       "      <td>6</td>\n",
       "      <td>7</td>\n",
       "      <td>1</td>\n",
       "      <td>0</td>\n",
       "      <td>0</td>\n",
       "      <td>0</td>\n",
       "      <td>0</td>\n",
       "      <td>0</td>\n",
       "      <td>0</td>\n",
       "      <td>3</td>\n",
       "      <td>11</td>\n",
       "      <td>0</td>\n",
       "      <td>9</td>\n",
       "      <td>3192</td>\n",
       "      <td>75</td>\n",
       "      <td>Elder</td>\n",
       "      <td>High</td>\n",
       "    </tr>\n",
       "    <tr>\n",
       "      <th>2221</th>\n",
       "      <td>7366</td>\n",
       "      <td>Master</td>\n",
       "      <td>Single</td>\n",
       "      <td>75777.0</td>\n",
       "      <td>0</td>\n",
       "      <td>0</td>\n",
       "      <td>12</td>\n",
       "      <td>712</td>\n",
       "      <td>26</td>\n",
       "      <td>538</td>\n",
       "      <td>69</td>\n",
       "      <td>13</td>\n",
       "      <td>80</td>\n",
       "      <td>1</td>\n",
       "      <td>3</td>\n",
       "      <td>6</td>\n",
       "      <td>11</td>\n",
       "      <td>1</td>\n",
       "      <td>0</td>\n",
       "      <td>1</td>\n",
       "      <td>1</td>\n",
       "      <td>0</td>\n",
       "      <td>0</td>\n",
       "      <td>0</td>\n",
       "      <td>3</td>\n",
       "      <td>11</td>\n",
       "      <td>1</td>\n",
       "      <td>10</td>\n",
       "      <td>3584</td>\n",
       "      <td>41</td>\n",
       "      <td>Adult</td>\n",
       "      <td>High</td>\n",
       "    </tr>\n",
       "    <tr>\n",
       "      <th>2238</th>\n",
       "      <td>8235</td>\n",
       "      <td>Master</td>\n",
       "      <td>Together</td>\n",
       "      <td>69245.0</td>\n",
       "      <td>0</td>\n",
       "      <td>1</td>\n",
       "      <td>8</td>\n",
       "      <td>428</td>\n",
       "      <td>30</td>\n",
       "      <td>214</td>\n",
       "      <td>80</td>\n",
       "      <td>30</td>\n",
       "      <td>61</td>\n",
       "      <td>2</td>\n",
       "      <td>6</td>\n",
       "      <td>5</td>\n",
       "      <td>10</td>\n",
       "      <td>3</td>\n",
       "      <td>0</td>\n",
       "      <td>0</td>\n",
       "      <td>0</td>\n",
       "      <td>0</td>\n",
       "      <td>0</td>\n",
       "      <td>0</td>\n",
       "      <td>3</td>\n",
       "      <td>11</td>\n",
       "      <td>0</td>\n",
       "      <td>9</td>\n",
       "      <td>3292</td>\n",
       "      <td>67</td>\n",
       "      <td>Elder</td>\n",
       "      <td>High</td>\n",
       "    </tr>\n",
       "  </tbody>\n",
       "</table>\n",
       "<p>551 rows × 32 columns</p>\n",
       "</div>"
      ],
      "text/plain": [
       "         ID   Education Marital_Status   Income  Kidhome  Teenhome  Recency  \\\n",
       "2      4141  Graduation       Together  71613.0        0         0       26   \n",
       "15     2114         PhD         Single  82800.0        0         0       23   \n",
       "18     6565      Master        Married  76995.0        0         1       91   \n",
       "29     1966         PhD        Married  84618.0        0         0       96   \n",
       "34     8755      Master        Married  68657.0        0         0        4   \n",
       "...     ...         ...            ...      ...      ...       ...      ...   \n",
       "2211  10469  Graduation       Together  88325.0        0         0       42   \n",
       "2213   3661    2n Cycle         Single  80617.0        0         0       42   \n",
       "2217   9589         PhD          Widow  82032.0        0         0       54   \n",
       "2221   7366      Master         Single  75777.0        0         0       12   \n",
       "2238   8235      Master       Together  69245.0        0         1        8   \n",
       "\n",
       "      MntWines  MntFruits  MntMeatProducts  MntFishProducts  MntSweetProducts  \\\n",
       "2          426         49              127              111                21   \n",
       "15        1006         22              115               59                68   \n",
       "18        1012         80              498                0                16   \n",
       "29         684        100              801               21                66   \n",
       "34         482         34              471              119                68   \n",
       "...        ...        ...              ...              ...               ...   \n",
       "2211       519         71              860               93                27   \n",
       "2213       594         51              631               72                55   \n",
       "2217       332        194              377              149               125   \n",
       "2221       712         26              538               69                13   \n",
       "2238       428         30              214               80                30   \n",
       "\n",
       "      MntGoldProds  NumDealsPurchases  NumWebPurchases  NumCatalogPurchases  \\\n",
       "2               42                  1                8                    2   \n",
       "15              45                  1                7                    6   \n",
       "18             176                  2               11                    4   \n",
       "29               0                  1                6                    9   \n",
       "34              22                  1                3                    5   \n",
       "...            ...                ...              ...                  ...   \n",
       "2211            53                  1                6                    2   \n",
       "2213            32                  1                4                    6   \n",
       "2217            57                  0                4                    6   \n",
       "2221            80                  1                3                    6   \n",
       "2238            61                  2                6                    5   \n",
       "\n",
       "      NumStorePurchases  NumWebVisitsMonth  AcceptedCmp3  AcceptedCmp4  \\\n",
       "2                    10                  4             0             0   \n",
       "15                   12                  3             0             0   \n",
       "18                    9                  5             0             0   \n",
       "29                   10                  2             0             0   \n",
       "34                    9                  7             0             0   \n",
       "...                 ...                ...           ...           ...   \n",
       "2211                  9                  2             0             0   \n",
       "2213                  8                  2             0             0   \n",
       "2217                  7                  1             0             0   \n",
       "2221                 11                  1             0             1   \n",
       "2238                 10                  3             0             0   \n",
       "\n",
       "      AcceptedCmp5  AcceptedCmp1  AcceptedCmp2  Complain  Z_CostContact  \\\n",
       "2                0             0             0         0              3   \n",
       "15               1             1             0         0              3   \n",
       "18               0             1             0         0              3   \n",
       "29               1             0             0         0              3   \n",
       "34               0             0             0         0              3   \n",
       "...            ...           ...           ...       ...            ...   \n",
       "2211             0             0             0         0              3   \n",
       "2213             0             0             0         0              3   \n",
       "2217             0             0             0         0              3   \n",
       "2221             1             0             0         0              3   \n",
       "2238             0             0             0         0              3   \n",
       "\n",
       "      Z_Revenue  Response  Year_Customer  DayDiff_Customer  Age Age_Group  \\\n",
       "2            11         0             10              3448   58     Adult   \n",
       "15           11         1             11              3718   77     Elder   \n",
       "18           11         0             10              3594   74     Elder   \n",
       "29           11         0             10              3355   58     Adult   \n",
       "34           11         0             10              3630   77     Elder   \n",
       "...         ...       ...            ...               ...  ...       ...   \n",
       "2211         11         0              9              3194   42     Adult   \n",
       "2213         11         0             11              3702   28     Adult   \n",
       "2217         11         0              9              3192   75     Elder   \n",
       "2221         11         1             10              3584   41     Adult   \n",
       "2238         11         0              9              3292   67     Elder   \n",
       "\n",
       "     Income_Group  \n",
       "2            High  \n",
       "15           High  \n",
       "18           High  \n",
       "29           High  \n",
       "34           High  \n",
       "...           ...  \n",
       "2211         High  \n",
       "2213         High  \n",
       "2217         High  \n",
       "2221         High  \n",
       "2238         High  \n",
       "\n",
       "[551 rows x 32 columns]"
      ]
     },
     "execution_count": 30,
     "metadata": {},
     "output_type": "execute_result"
    }
   ],
   "source": [
    "data[data[\"Income_Group\"] == \"High\"]"
   ]
  },
  {
   "cell_type": "markdown",
   "id": "cd86e6b0",
   "metadata": {
    "papermill": {
     "duration": 0.02475,
     "end_time": "2023-01-29T23:12:12.719872",
     "exception": false,
     "start_time": "2023-01-29T23:12:12.695122",
     "status": "completed"
    },
    "tags": []
   },
   "source": [
    "# Marital Status Variable"
   ]
  },
  {
   "cell_type": "code",
   "execution_count": 31,
   "id": "21e62d34",
   "metadata": {
    "execution": {
     "iopub.execute_input": "2023-01-29T23:12:12.772169Z",
     "iopub.status.busy": "2023-01-29T23:12:12.771093Z",
     "iopub.status.idle": "2023-01-29T23:12:12.780452Z",
     "shell.execute_reply": "2023-01-29T23:12:12.779285Z"
    },
    "papermill": {
     "duration": 0.037761,
     "end_time": "2023-01-29T23:12:12.782896",
     "exception": false,
     "start_time": "2023-01-29T23:12:12.745135",
     "status": "completed"
    },
    "tags": []
   },
   "outputs": [
    {
     "data": {
      "text/plain": [
       "Married     854\n",
       "Together    568\n",
       "Single      470\n",
       "Divorced    230\n",
       "Widow        76\n",
       "Alone         3\n",
       "Absurd        2\n",
       "YOLO          2\n",
       "Name: Marital_Status, dtype: int64"
      ]
     },
     "execution_count": 31,
     "metadata": {},
     "output_type": "execute_result"
    }
   ],
   "source": [
    "data['Marital_Status'].value_counts()"
   ]
  },
  {
   "cell_type": "markdown",
   "id": "8e40c0e9",
   "metadata": {
    "papermill": {
     "duration": 0.023922,
     "end_time": "2023-01-29T23:12:12.831187",
     "exception": false,
     "start_time": "2023-01-29T23:12:12.807265",
     "status": "completed"
    },
    "tags": []
   },
   "source": [
    "**There are some categories which has very low value.\n",
    "Drops the non-freqent categories:**"
   ]
  },
  {
   "cell_type": "code",
   "execution_count": 32,
   "id": "5f8cb430",
   "metadata": {
    "execution": {
     "iopub.execute_input": "2023-01-29T23:12:12.882216Z",
     "iopub.status.busy": "2023-01-29T23:12:12.881008Z",
     "iopub.status.idle": "2023-01-29T23:12:12.894128Z",
     "shell.execute_reply": "2023-01-29T23:12:12.892712Z"
    },
    "papermill": {
     "duration": 0.041828,
     "end_time": "2023-01-29T23:12:12.897262",
     "exception": false,
     "start_time": "2023-01-29T23:12:12.855434",
     "status": "completed"
    },
    "tags": []
   },
   "outputs": [],
   "source": [
    "data.drop(index=(data[data['Marital_Status'] == 'Alone'].index), axis = 0, inplace = True)\n",
    "data.drop(index=(data[data['Marital_Status'] == 'Absurd'].index), axis = 0, inplace = True)\n",
    "data.drop(index=(data[data['Marital_Status'] == 'YOLO'].index), axis = 0, inplace = True)"
   ]
  },
  {
   "cell_type": "markdown",
   "id": "04053c56",
   "metadata": {
    "papermill": {
     "duration": 0.027538,
     "end_time": "2023-01-29T23:12:12.950276",
     "exception": false,
     "start_time": "2023-01-29T23:12:12.922738",
     "status": "completed"
    },
    "tags": []
   },
   "source": [
    "# Kidhome Variable"
   ]
  },
  {
   "cell_type": "code",
   "execution_count": 33,
   "id": "62509c02",
   "metadata": {
    "execution": {
     "iopub.execute_input": "2023-01-29T23:12:13.004687Z",
     "iopub.status.busy": "2023-01-29T23:12:13.004243Z",
     "iopub.status.idle": "2023-01-29T23:12:13.012479Z",
     "shell.execute_reply": "2023-01-29T23:12:13.011630Z"
    },
    "papermill": {
     "duration": 0.036362,
     "end_time": "2023-01-29T23:12:13.015054",
     "exception": false,
     "start_time": "2023-01-29T23:12:12.978692",
     "status": "completed"
    },
    "tags": []
   },
   "outputs": [],
   "source": [
    "kidhome_category = CategoricalDtype(categories=[0,1,2], ordered = False)\n",
    "data['Kidhome'] = data['Kidhome'].astype(kidhome_category)"
   ]
  },
  {
   "cell_type": "markdown",
   "id": "f9ad5fa3",
   "metadata": {
    "papermill": {
     "duration": 0.02578,
     "end_time": "2023-01-29T23:12:13.074818",
     "exception": false,
     "start_time": "2023-01-29T23:12:13.049038",
     "status": "completed"
    },
    "tags": []
   },
   "source": [
    "# Response Variable"
   ]
  },
  {
   "cell_type": "code",
   "execution_count": 34,
   "id": "5144a6d4",
   "metadata": {
    "execution": {
     "iopub.execute_input": "2023-01-29T23:12:13.125353Z",
     "iopub.status.busy": "2023-01-29T23:12:13.124424Z",
     "iopub.status.idle": "2023-01-29T23:12:13.137370Z",
     "shell.execute_reply": "2023-01-29T23:12:13.136242Z"
    },
    "papermill": {
     "duration": 0.04123,
     "end_time": "2023-01-29T23:12:13.139997",
     "exception": false,
     "start_time": "2023-01-29T23:12:13.098767",
     "status": "completed"
    },
    "tags": []
   },
   "outputs": [
    {
     "data": {
      "text/plain": [
       "0       1\n",
       "1       0\n",
       "2       0\n",
       "3       0\n",
       "4       0\n",
       "       ..\n",
       "2235    0\n",
       "2236    0\n",
       "2237    0\n",
       "2238    0\n",
       "2239    1\n",
       "Name: Response, Length: 2198, dtype: category\n",
       "Categories (2, int64): [0, 1]"
      ]
     },
     "execution_count": 34,
     "metadata": {},
     "output_type": "execute_result"
    }
   ],
   "source": [
    "data['Response'] = data['Response'].astype(\"category\")\n",
    "data['Response']"
   ]
  },
  {
   "cell_type": "markdown",
   "id": "89a19126",
   "metadata": {
    "papermill": {
     "duration": 0.023798,
     "end_time": "2023-01-29T23:12:13.188373",
     "exception": false,
     "start_time": "2023-01-29T23:12:13.164575",
     "status": "completed"
    },
    "tags": []
   },
   "source": [
    "# <p id = \"2\" style=\"font-family:arial;background-color:#2A93D5;color:#FFFFFF;font-size: 150%;text-align:center;border-radius: 0px 15px 15px 0px;border-style: solid;border-color: #2483bf;\">2.VISUALIZATION and EXPLORATORY ANALYSIS</p>\n",
    "[Click to return Table of Contents](#0)"
   ]
  },
  {
   "cell_type": "markdown",
   "id": "6ec1e78b",
   "metadata": {
    "papermill": {
     "duration": 0.023889,
     "end_time": "2023-01-29T23:12:13.237427",
     "exception": false,
     "start_time": "2023-01-29T23:12:13.213538",
     "status": "completed"
    },
    "tags": []
   },
   "source": [
    "<p style=\"text-align:center; font-size:125%;\"><b>The Age Distribution</b></p>"
   ]
  },
  {
   "cell_type": "code",
   "execution_count": 35,
   "id": "f23e18f1",
   "metadata": {
    "execution": {
     "iopub.execute_input": "2023-01-29T23:12:13.287907Z",
     "iopub.status.busy": "2023-01-29T23:12:13.287488Z",
     "iopub.status.idle": "2023-01-29T23:12:13.576060Z",
     "shell.execute_reply": "2023-01-29T23:12:13.574220Z"
    },
    "papermill": {
     "duration": 0.317639,
     "end_time": "2023-01-29T23:12:13.579308",
     "exception": false,
     "start_time": "2023-01-29T23:12:13.261669",
     "status": "completed"
    },
    "tags": []
   },
   "outputs": [
    {
     "data": {
      "text/plain": [
       "[<matplotlib.axis.XTick at 0x7fb5b510fa50>,\n",
       " <matplotlib.axis.XTick at 0x7fb5b50a8810>,\n",
       " <matplotlib.axis.XTick at 0x7fb5b5056a10>,\n",
       " <matplotlib.axis.XTick at 0x7fb5b507c210>,\n",
       " <matplotlib.axis.XTick at 0x7fb5b507c750>,\n",
       " <matplotlib.axis.XTick at 0x7fb5b5084250>,\n",
       " <matplotlib.axis.XTick at 0x7fb5b507c810>,\n",
       " <matplotlib.axis.XTick at 0x7fb5b50848d0>,\n",
       " <matplotlib.axis.XTick at 0x7fb5b51ae710>,\n",
       " <matplotlib.axis.XTick at 0x7fb5b50563d0>,\n",
       " <matplotlib.axis.XTick at 0x7fb5b5056510>,\n",
       " <matplotlib.axis.XTick at 0x7fb5b5020a50>,\n",
       " <matplotlib.axis.XTick at 0x7fb5b502e510>]"
      ]
     },
     "execution_count": 35,
     "metadata": {},
     "output_type": "execute_result"
    },
    {
     "data": {
      "image/png": "[encoded data removed]",
      "text/plain": [
       "<Figure size 432x288 with 1 Axes>"
      ]
     },
     "metadata": {
      "needs_background": "light"
     },
     "output_type": "display_data"
    }
   ],
   "source": [
    "histogram_plot = sns.histplot(data['Age'],bins=10)\n",
    "histogram_plot.set_xticks(ticks)"
   ]
  },
  {
   "cell_type": "code",
   "execution_count": 36,
   "id": "cf5cfc98",
   "metadata": {
    "execution": {
     "iopub.execute_input": "2023-01-29T23:12:13.633969Z",
     "iopub.status.busy": "2023-01-29T23:12:13.633564Z",
     "iopub.status.idle": "2023-01-29T23:12:13.853968Z",
     "shell.execute_reply": "2023-01-29T23:12:13.852653Z"
    },
    "papermill": {
     "duration": 0.249585,
     "end_time": "2023-01-29T23:12:13.856762",
     "exception": false,
     "start_time": "2023-01-29T23:12:13.607177",
     "status": "completed"
    },
    "tags": []
   },
   "outputs": [
    {
     "data": {
      "image/png": "[encoded data removed]",
      "text/plain": [
       "<Figure size 432x288 with 1 Axes>"
      ]
     },
     "metadata": {
      "needs_background": "light"
     },
     "output_type": "display_data"
    }
   ],
   "source": [
    "ax = sns.countplot(data=data, x=\"Age_Group\")\n",
    "for container in ax.containers:\n",
    "    ax.bar_label(container)"
   ]
  },
  {
   "cell_type": "markdown",
   "id": "cb9f8a1c",
   "metadata": {
    "papermill": {
     "duration": 0.024828,
     "end_time": "2023-01-29T23:12:13.906834",
     "exception": false,
     "start_time": "2023-01-29T23:12:13.882006",
     "status": "completed"
    },
    "tags": []
   },
   "source": [
    "Percents of each age group:"
   ]
  },
  {
   "cell_type": "code",
   "execution_count": 37,
   "id": "ef9cfee1",
   "metadata": {
    "execution": {
     "iopub.execute_input": "2023-01-29T23:12:13.958743Z",
     "iopub.status.busy": "2023-01-29T23:12:13.958315Z",
     "iopub.status.idle": "2023-01-29T23:12:13.970026Z",
     "shell.execute_reply": "2023-01-29T23:12:13.968587Z"
    },
    "papermill": {
     "duration": 0.040379,
     "end_time": "2023-01-29T23:12:13.972279",
     "exception": false,
     "start_time": "2023-01-29T23:12:13.931900",
     "status": "completed"
    },
    "tags": []
   },
   "outputs": [
    {
     "data": {
      "text/plain": [
       "Adult          77.0\n",
       "Elder          23.0\n",
       "Young Adult     0.0\n",
       "Name: Age_Group, dtype: float64"
      ]
     },
     "execution_count": 37,
     "metadata": {},
     "output_type": "execute_result"
    }
   ],
   "source": [
    "round((data['Age_Group'].value_counts(normalize=True) * 100),0)"
   ]
  },
  {
   "cell_type": "markdown",
   "id": "0da5d8c7",
   "metadata": {
    "papermill": {
     "duration": 0.024644,
     "end_time": "2023-01-29T23:12:14.022103",
     "exception": false,
     "start_time": "2023-01-29T23:12:13.997459",
     "status": "completed"
    },
    "tags": []
   },
   "source": [
    "There are no customers from the young adult group. It may be because of that the age variable's calculation is based on the current year."
   ]
  },
  {
   "cell_type": "markdown",
   "id": "ced9aed6",
   "metadata": {
    "papermill": {
     "duration": 0.025114,
     "end_time": "2023-01-29T23:12:14.074045",
     "exception": false,
     "start_time": "2023-01-29T23:12:14.048931",
     "status": "completed"
    },
    "tags": []
   },
   "source": [
    "<p style=\"text-align:center; font-size:125%;\"><b>Kidhome and Teenhome Distribution</b></p>\n",
    "<hr>"
   ]
  },
  {
   "cell_type": "code",
   "execution_count": 38,
   "id": "86e915b7",
   "metadata": {
    "execution": {
     "iopub.execute_input": "2023-01-29T23:12:14.127435Z",
     "iopub.status.busy": "2023-01-29T23:12:14.126191Z",
     "iopub.status.idle": "2023-01-29T23:12:14.424855Z",
     "shell.execute_reply": "2023-01-29T23:12:14.423602Z"
    },
    "papermill": {
     "duration": 0.328201,
     "end_time": "2023-01-29T23:12:14.427747",
     "exception": false,
     "start_time": "2023-01-29T23:12:14.099546",
     "status": "completed"
    },
    "tags": []
   },
   "outputs": [
    {
     "data": {
      "image/png": "[encoded data removed]",
      "text/plain": [
       "<Figure size 432x288 with 1 Axes>"
      ]
     },
     "metadata": {
      "needs_background": "light"
     },
     "output_type": "display_data"
    }
   ],
   "source": [
    "ax = sns.countplot(data=data, x=\"Kidhome\", hue=\"Age_Group\")\n",
    "smt = [(data[data['Kidhome'] == 0].count()[0]), (data[data['Kidhome'] == 1].count()[0]), (data[data['Kidhome'] == 2].count()[0])]\n",
    "for container in ax.containers:\n",
    "    ax.bar_label(container)"
   ]
  },
  {
   "cell_type": "code",
   "execution_count": 39,
   "id": "7a6d97b7",
   "metadata": {
    "execution": {
     "iopub.execute_input": "2023-01-29T23:12:14.481124Z",
     "iopub.status.busy": "2023-01-29T23:12:14.480706Z",
     "iopub.status.idle": "2023-01-29T23:12:14.612061Z",
     "shell.execute_reply": "2023-01-29T23:12:14.610286Z"
    },
    "papermill": {
     "duration": 0.163342,
     "end_time": "2023-01-29T23:12:14.616664",
     "exception": false,
     "start_time": "2023-01-29T23:12:14.453322",
     "status": "completed"
    },
    "tags": []
   },
   "outputs": [
    {
     "data": {
      "text/plain": [
       "([<matplotlib.patches.Wedge at 0x7fb5b4e99ed0>,\n",
       "  <matplotlib.patches.Wedge at 0x7fb5b4ea7750>,\n",
       "  <matplotlib.patches.Wedge at 0x7fb5b4ea7f90>],\n",
       " [Text(-0.269231850666863, 1.0665431123899756, '0'),\n",
       "  Text(0.19857809836969287, -1.0819273260473075, '1'),\n",
       "  Text(1.0976233586695343, -0.07227006643840023, '2')],\n",
       " [Text(-0.1468537367273798, 0.5817507885763503, '57.9%'),\n",
       "  Text(0.10831532638346883, -0.5901421778439858, '40.0%'),\n",
       "  Text(0.5987036501833823, -0.0394200362391274, '2.1%')])"
      ]
     },
     "execution_count": 39,
     "metadata": {},
     "output_type": "execute_result"
    },
    {
     "data": {
      "image/png": "[encoded data removed]",
      "text/plain": [
       "<Figure size 432x288 with 1 Axes>"
      ]
     },
     "metadata": {},
     "output_type": "display_data"
    }
   ],
   "source": [
    "percentage_distribution = round((data['Kidhome'].value_counts(normalize=True) * 100),0)\n",
    "plt.pie(data['Kidhome'].value_counts(), labels = [\"0\", \"1\", \"2\"], autopct='%1.1f%%')"
   ]
  },
  {
   "cell_type": "markdown",
   "id": "3f380a2e",
   "metadata": {
    "papermill": {
     "duration": 0.03021,
     "end_time": "2023-01-29T23:12:14.718063",
     "exception": false,
     "start_time": "2023-01-29T23:12:14.687853",
     "status": "completed"
    },
    "tags": []
   },
   "source": [
    "The vast majority of customers do not have a kid in their home. The group with the most kids in the house is the adult group."
   ]
  },
  {
   "cell_type": "markdown",
   "id": "cc9ebb64",
   "metadata": {
    "papermill": {
     "duration": 0.025665,
     "end_time": "2023-01-29T23:12:14.769626",
     "exception": false,
     "start_time": "2023-01-29T23:12:14.743961",
     "status": "completed"
    },
    "tags": []
   },
   "source": [
    "<hr><hr>"
   ]
  },
  {
   "cell_type": "code",
   "execution_count": 40,
   "id": "20c5bd10",
   "metadata": {
    "execution": {
     "iopub.execute_input": "2023-01-29T23:12:14.823510Z",
     "iopub.status.busy": "2023-01-29T23:12:14.822911Z",
     "iopub.status.idle": "2023-01-29T23:12:15.115172Z",
     "shell.execute_reply": "2023-01-29T23:12:15.113851Z"
    },
    "papermill": {
     "duration": 0.322494,
     "end_time": "2023-01-29T23:12:15.117961",
     "exception": false,
     "start_time": "2023-01-29T23:12:14.795467",
     "status": "completed"
    },
    "tags": []
   },
   "outputs": [
    {
     "data": {
      "image/png": "[encoded data removed]",
      "text/plain": [
       "<Figure size 432x288 with 1 Axes>"
      ]
     },
     "metadata": {
      "needs_background": "light"
     },
     "output_type": "display_data"
    }
   ],
   "source": [
    "ax = sns.countplot(data=data, x=\"Teenhome\", hue=\"Age_Group\")\n",
    "for container in ax.containers:\n",
    "    ax.bar_label(container)"
   ]
  },
  {
   "cell_type": "code",
   "execution_count": 41,
   "id": "688aa555",
   "metadata": {
    "execution": {
     "iopub.execute_input": "2023-01-29T23:12:15.174546Z",
     "iopub.status.busy": "2023-01-29T23:12:15.173862Z",
     "iopub.status.idle": "2023-01-29T23:12:15.287362Z",
     "shell.execute_reply": "2023-01-29T23:12:15.286046Z"
    },
    "papermill": {
     "duration": 0.145446,
     "end_time": "2023-01-29T23:12:15.290389",
     "exception": false,
     "start_time": "2023-01-29T23:12:15.144943",
     "status": "completed"
    },
    "tags": []
   },
   "outputs": [
    {
     "data": {
      "text/plain": [
       "([<matplotlib.patches.Wedge at 0x7fb5b4da0450>,\n",
       "  <matplotlib.patches.Wedge at 0x7fb5b4da0c50>,\n",
       "  <matplotlib.patches.Wedge at 0x7fb5b4dac4d0>],\n",
       " [Text(-0.058145233806401846, 1.0984621667520458, '0'),\n",
       "  Text(-0.02200974166161712, -1.099779783080226, '1'),\n",
       "  Text(1.097078834338265, -0.08011261602890049, '2')],\n",
       " [Text(-0.03171558207621918, 0.5991611818647521, '51.7%'),\n",
       "  Text(-0.012005313633609337, -0.5998798816801232, '46.0%'),\n",
       "  Text(0.5984066369117808, -0.04369779056121844, '2.3%')])"
      ]
     },
     "execution_count": 41,
     "metadata": {},
     "output_type": "execute_result"
    },
    {
     "data": {
      "image/png": "[encoded data removed]",
      "text/plain": [
       "<Figure size 432x288 with 1 Axes>"
      ]
     },
     "metadata": {},
     "output_type": "display_data"
    }
   ],
   "source": [
    "percentage_distribution = round((data['Teenhome'].value_counts(normalize=True) * 100),0)\n",
    "plt.pie(data['Teenhome'].value_counts(), labels = [\"0\", \"1\", \"2\"], autopct='%1.1f%%')"
   ]
  },
  {
   "cell_type": "markdown",
   "id": "3b6c8722",
   "metadata": {
    "papermill": {
     "duration": 0.02643,
     "end_time": "2023-01-29T23:12:15.344735",
     "exception": false,
     "start_time": "2023-01-29T23:12:15.318305",
     "status": "completed"
    },
    "tags": []
   },
   "source": [
    "Almost half of customers do not have a teen in their home. The group with the most teen in the house is the adult group. Visibly, members of the elder age group mostly live with a teen.\n",
    "<hr>\n",
    "<hr>"
   ]
  },
  {
   "cell_type": "markdown",
   "id": "2bff9311",
   "metadata": {
    "papermill": {
     "duration": 0.025991,
     "end_time": "2023-01-29T23:12:15.397390",
     "exception": false,
     "start_time": "2023-01-29T23:12:15.371399",
     "status": "completed"
    },
    "tags": []
   },
   "source": [
    "<p style=\"text-align:center; font-size:125%;\"><b>Education</b></p>\n",
    "<hr>"
   ]
  },
  {
   "cell_type": "code",
   "execution_count": 42,
   "id": "f0e7c38c",
   "metadata": {
    "execution": {
     "iopub.execute_input": "2023-01-29T23:12:15.453837Z",
     "iopub.status.busy": "2023-01-29T23:12:15.453422Z",
     "iopub.status.idle": "2023-01-29T23:12:15.623179Z",
     "shell.execute_reply": "2023-01-29T23:12:15.621903Z"
    },
    "papermill": {
     "duration": 0.201005,
     "end_time": "2023-01-29T23:12:15.625830",
     "exception": false,
     "start_time": "2023-01-29T23:12:15.424825",
     "status": "completed"
    },
    "tags": []
   },
   "outputs": [
    {
     "data": {
      "image/png": "[encoded data removed]",
      "text/plain": [
       "<Figure size 432x288 with 1 Axes>"
      ]
     },
     "metadata": {
      "needs_background": "light"
     },
     "output_type": "display_data"
    }
   ],
   "source": [
    "ax = sns.countplot(data=data, x=\"Education\")\n",
    "for container in ax.containers:\n",
    "    ax.bar_label(container)"
   ]
  },
  {
   "cell_type": "markdown",
   "id": "9d7d4224",
   "metadata": {
    "papermill": {
     "duration": 0.026601,
     "end_time": "2023-01-29T23:12:15.679620",
     "exception": false,
     "start_time": "2023-01-29T23:12:15.653019",
     "status": "completed"
    },
    "tags": []
   },
   "source": [
    "Percents of each education group:"
   ]
  },
  {
   "cell_type": "code",
   "execution_count": 43,
   "id": "bb4f9060",
   "metadata": {
    "execution": {
     "iopub.execute_input": "2023-01-29T23:12:15.735662Z",
     "iopub.status.busy": "2023-01-29T23:12:15.735208Z",
     "iopub.status.idle": "2023-01-29T23:12:15.851997Z",
     "shell.execute_reply": "2023-01-29T23:12:15.850782Z"
    },
    "papermill": {
     "duration": 0.148301,
     "end_time": "2023-01-29T23:12:15.854654",
     "exception": false,
     "start_time": "2023-01-29T23:12:15.706353",
     "status": "completed"
    },
    "tags": []
   },
   "outputs": [
    {
     "data": {
      "text/plain": [
       "([<matplotlib.patches.Wedge at 0x7fb5b4d052d0>,\n",
       "  <matplotlib.patches.Wedge at 0x7fb5b4d05b90>,\n",
       "  <matplotlib.patches.Wedge at 0x7fb5b4d14410>,\n",
       "  <matplotlib.patches.Wedge at 0x7fb5b4d14110>,\n",
       "  <matplotlib.patches.Wedge at 0x7fb5b4ca3450>],\n",
       " [Text(-0.018865709194141076, 1.099838208563697, 'Graduation'),\n",
       "  Text(-0.8339399055689836, -0.7173173871443483, 'PhD'),\n",
       "  Text(0.35959446981695925, -1.03956328199733, 'Master'),\n",
       "  Text(0.9964580613638294, -0.46590914558853536, '2n Cycle'),\n",
       "  Text(1.0967252270294794, -0.08481613288247136, 'Basic')],\n",
       " [Text(-0.01029038683316786, 0.5999117501256529, '50.5%'),\n",
       "  Text(-0.4548763121285364, -0.3912640293514627, '21.5%'),\n",
       "  Text(0.19614243808197776, -0.567034517453089, '16.5%'),\n",
       "  Text(0.5435225789257251, -0.2541322612301102, '9.0%'),\n",
       "  Text(0.5982137601978977, -0.04626334520862074, '2.5%')])"
      ]
     },
     "execution_count": 43,
     "metadata": {},
     "output_type": "execute_result"
    },
    {
     "data": {
      "image/png": "[encoded data removed]",
      "text/plain": [
       "<Figure size 432x288 with 1 Axes>"
      ]
     },
     "metadata": {},
     "output_type": "display_data"
    }
   ],
   "source": [
    "percentage_distribution = round((data['Education'].value_counts(normalize=True) * 100),0)\n",
    "plt.pie(data['Education'].value_counts(), labels = (data['Education'].value_counts().index) ,autopct='%1.1f%%')"
   ]
  },
  {
   "cell_type": "code",
   "execution_count": 44,
   "id": "9e8eccd9",
   "metadata": {
    "execution": {
     "iopub.execute_input": "2023-01-29T23:12:15.918261Z",
     "iopub.status.busy": "2023-01-29T23:12:15.916271Z",
     "iopub.status.idle": "2023-01-29T23:12:15.939000Z",
     "shell.execute_reply": "2023-01-29T23:12:15.935884Z"
    },
    "papermill": {
     "duration": 0.061963,
     "end_time": "2023-01-29T23:12:15.945310",
     "exception": false,
     "start_time": "2023-01-29T23:12:15.883347",
     "status": "completed"
    },
    "tags": []
   },
   "outputs": [
    {
     "data": {
      "text/plain": [
       "Graduation    51.0\n",
       "PhD           22.0\n",
       "Master        16.0\n",
       "2n Cycle       9.0\n",
       "Basic          2.0\n",
       "Name: Education, dtype: float64"
      ]
     },
     "execution_count": 44,
     "metadata": {},
     "output_type": "execute_result"
    }
   ],
   "source": [
    "round((data['Education'].value_counts(normalize=True) * 100),0)"
   ]
  },
  {
   "cell_type": "markdown",
   "id": "6eab636f",
   "metadata": {
    "papermill": {
     "duration": 0.032018,
     "end_time": "2023-01-29T23:12:16.016488",
     "exception": false,
     "start_time": "2023-01-29T23:12:15.984470",
     "status": "completed"
    },
    "tags": []
   },
   "source": [
    "The half of clients are at the graduate level. It is observed that the customers who have received PhD level education are at a level that cannot be underestimated."
   ]
  },
  {
   "cell_type": "markdown",
   "id": "2f2bdaa7",
   "metadata": {
    "papermill": {
     "duration": 0.02818,
     "end_time": "2023-01-29T23:12:16.082353",
     "exception": false,
     "start_time": "2023-01-29T23:12:16.054173",
     "status": "completed"
    },
    "tags": []
   },
   "source": [
    "<p style=\"text-align:center; font-size:125%;\"><b>Marital Status</b></p>"
   ]
  },
  {
   "cell_type": "code",
   "execution_count": 45,
   "id": "3e30899d",
   "metadata": {
    "execution": {
     "iopub.execute_input": "2023-01-29T23:12:16.140132Z",
     "iopub.status.busy": "2023-01-29T23:12:16.139356Z",
     "iopub.status.idle": "2023-01-29T23:12:16.540334Z",
     "shell.execute_reply": "2023-01-29T23:12:16.539451Z"
    },
    "papermill": {
     "duration": 0.432351,
     "end_time": "2023-01-29T23:12:16.542684",
     "exception": false,
     "start_time": "2023-01-29T23:12:16.110333",
     "status": "completed"
    },
    "tags": []
   },
   "outputs": [
    {
     "data": {
      "image/png": "[encoded data removed]",
      "text/plain": [
       "<Figure size 432x288 with 1 Axes>"
      ]
     },
     "metadata": {
      "needs_background": "light"
     },
     "output_type": "display_data"
    }
   ],
   "source": [
    "ax = sns.countplot(data=data, x=\"Marital_Status\")\n",
    "for container in ax.containers:\n",
    "    ax.bar_label(container)"
   ]
  },
  {
   "cell_type": "markdown",
   "id": "a3704c19",
   "metadata": {
    "papermill": {
     "duration": 0.027251,
     "end_time": "2023-01-29T23:12:16.597438",
     "exception": false,
     "start_time": "2023-01-29T23:12:16.570187",
     "status": "completed"
    },
    "tags": []
   },
   "source": [
    "Percents of each marital status group:"
   ]
  },
  {
   "cell_type": "code",
   "execution_count": 46,
   "id": "59a6a9df",
   "metadata": {
    "execution": {
     "iopub.execute_input": "2023-01-29T23:12:16.655325Z",
     "iopub.status.busy": "2023-01-29T23:12:16.654089Z",
     "iopub.status.idle": "2023-01-29T23:12:16.665005Z",
     "shell.execute_reply": "2023-01-29T23:12:16.663852Z"
    },
    "papermill": {
     "duration": 0.042205,
     "end_time": "2023-01-29T23:12:16.667391",
     "exception": false,
     "start_time": "2023-01-29T23:12:16.625186",
     "status": "completed"
    },
    "tags": []
   },
   "outputs": [
    {
     "data": {
      "text/plain": [
       "Married     39.0\n",
       "Together    26.0\n",
       "Single      21.0\n",
       "Divorced    10.0\n",
       "Widow        3.0\n",
       "Name: Marital_Status, dtype: float64"
      ]
     },
     "execution_count": 46,
     "metadata": {},
     "output_type": "execute_result"
    }
   ],
   "source": [
    "round((data['Marital_Status'].value_counts(normalize=True) * 100),0)"
   ]
  },
  {
   "cell_type": "code",
   "execution_count": 47,
   "id": "42d29cdb",
   "metadata": {
    "execution": {
     "iopub.execute_input": "2023-01-29T23:12:16.725244Z",
     "iopub.status.busy": "2023-01-29T23:12:16.724217Z",
     "iopub.status.idle": "2023-01-29T23:12:16.864456Z",
     "shell.execute_reply": "2023-01-29T23:12:16.862782Z"
    },
    "papermill": {
     "duration": 0.174052,
     "end_time": "2023-01-29T23:12:16.869013",
     "exception": false,
     "start_time": "2023-01-29T23:12:16.694961",
     "status": "completed"
    },
    "tags": []
   },
   "outputs": [
    {
     "data": {
      "text/plain": [
       "([<matplotlib.patches.Wedge at 0x7fb5b4f9fa10>,\n",
       "  <matplotlib.patches.Wedge at 0x7fb5b4f9f810>,\n",
       "  <matplotlib.patches.Wedge at 0x7fb5b4f96310>,\n",
       "  <matplotlib.patches.Wedge at 0x7fb5b4f9fed0>,\n",
       "  <matplotlib.patches.Wedge at 0x7fb5b4fb2b90>],\n",
       " [Text(0.37737105027210194, 1.0332429967904602, 'Married'),\n",
       "  Text(-1.0931711756159788, -0.12237965845016482, 'Together'),\n",
       "  Text(0.026725136204632176, -1.0996753007569298, 'Single'),\n",
       "  Text(0.9400743439104327, -0.5711919361487605, 'Divorced'),\n",
       "  Text(1.0935165264635396, -0.11925437665391914, 'Widow')],\n",
       " [Text(0.20583875469387375, 0.5635870891584327, '38.9%'),\n",
       "  Text(-0.5962751866996248, -0.06675254097281717, '25.8%'),\n",
       "  Text(0.014577347020708458, -0.5998228913219616, '21.4%'),\n",
       "  Text(0.5127678239511451, -0.3115592378993239, '10.5%'),\n",
       "  Text(0.5964635598892034, -0.06504784181122862, '3.5%')])"
      ]
     },
     "execution_count": 47,
     "metadata": {},
     "output_type": "execute_result"
    },
    {
     "data": {
      "image/png": "[encoded data removed]",
      "text/plain": [
       "<Figure size 432x288 with 1 Axes>"
      ]
     },
     "metadata": {},
     "output_type": "display_data"
    }
   ],
   "source": [
    "percentage_distribution = round((data['Marital_Status'].value_counts(normalize=True) * 100),0)\n",
    "plt.pie(data['Marital_Status'].value_counts(), labels = (data['Marital_Status'].value_counts().index) ,autopct='%1.1f%%')"
   ]
  },
  {
   "cell_type": "code",
   "execution_count": 48,
   "id": "67e5fbe1",
   "metadata": {
    "execution": {
     "iopub.execute_input": "2023-01-29T23:12:16.968472Z",
     "iopub.status.busy": "2023-01-29T23:12:16.967686Z",
     "iopub.status.idle": "2023-01-29T23:12:17.541153Z",
     "shell.execute_reply": "2023-01-29T23:12:17.540233Z"
    },
    "papermill": {
     "duration": 0.605788,
     "end_time": "2023-01-29T23:12:17.543599",
     "exception": false,
     "start_time": "2023-01-29T23:12:16.937811",
     "status": "completed"
    },
    "tags": []
   },
   "outputs": [
    {
     "data": {
      "text/plain": [
       "<seaborn.axisgrid.FacetGrid at 0x7fb5b51d0b90>"
      ]
     },
     "execution_count": 48,
     "metadata": {},
     "output_type": "execute_result"
    },
    {
     "data": {
      "image/png": "[encoded data removed]",
      "text/plain": [
       "<Figure size 455.125x360 with 1 Axes>"
      ]
     },
     "metadata": {
      "needs_background": "light"
     },
     "output_type": "display_data"
    }
   ],
   "source": [
    "sns.catplot(data=data, x = \"Education\", y = \"NumWebVisitsMonth\", kind=\"box\", hue=\"Age_Group\")"
   ]
  },
  {
   "cell_type": "markdown",
   "id": "2d3c580c",
   "metadata": {
    "papermill": {
     "duration": 0.028409,
     "end_time": "2023-01-29T23:12:17.601428",
     "exception": false,
     "start_time": "2023-01-29T23:12:17.573019",
     "status": "completed"
    },
    "tags": []
   },
   "source": [
    "In almost every age group, except for the level of Phd education, the elder group made fewer website visits than the adult group."
   ]
  },
  {
   "cell_type": "code",
   "execution_count": 49,
   "id": "0033c212",
   "metadata": {
    "execution": {
     "iopub.execute_input": "2023-01-29T23:12:17.660709Z",
     "iopub.status.busy": "2023-01-29T23:12:17.659881Z",
     "iopub.status.idle": "2023-01-29T23:12:18.198995Z",
     "shell.execute_reply": "2023-01-29T23:12:18.197642Z"
    },
    "papermill": {
     "duration": 0.571665,
     "end_time": "2023-01-29T23:12:18.201646",
     "exception": false,
     "start_time": "2023-01-29T23:12:17.629981",
     "status": "completed"
    },
    "tags": []
   },
   "outputs": [
    {
     "data": {
      "text/plain": [
       "<seaborn.axisgrid.FacetGrid at 0x7fb5b4fd8c10>"
      ]
     },
     "execution_count": 49,
     "metadata": {},
     "output_type": "execute_result"
    },
    {
     "data": {
      "image/png": "[encoded data removed]",
      "text/plain": [
       "<Figure size 455.125x360 with 1 Axes>"
      ]
     },
     "metadata": {
      "needs_background": "light"
     },
     "output_type": "display_data"
    }
   ],
   "source": [
    "sns.catplot(data=data, x = \"Education\", y = \"NumWebPurchases\", kind=\"box\", hue=\"Age_Group\")"
   ]
  },
  {
   "cell_type": "markdown",
   "id": "36372751",
   "metadata": {
    "papermill": {
     "duration": 0.028524,
     "end_time": "2023-01-29T23:12:18.259397",
     "exception": false,
     "start_time": "2023-01-29T23:12:18.230873",
     "status": "completed"
    },
    "tags": []
   },
   "source": [
    "However, when the shopping rates are examined, it is observed that the **elder group generally makes more internet shopping**."
   ]
  },
  {
   "cell_type": "code",
   "execution_count": 50,
   "id": "19f90451",
   "metadata": {
    "execution": {
     "iopub.execute_input": "2023-01-29T23:12:18.318808Z",
     "iopub.status.busy": "2023-01-29T23:12:18.318326Z",
     "iopub.status.idle": "2023-01-29T23:12:18.882378Z",
     "shell.execute_reply": "2023-01-29T23:12:18.880607Z"
    },
    "papermill": {
     "duration": 0.597586,
     "end_time": "2023-01-29T23:12:18.885325",
     "exception": false,
     "start_time": "2023-01-29T23:12:18.287739",
     "status": "completed"
    },
    "tags": []
   },
   "outputs": [
    {
     "data": {
      "text/plain": [
       "<matplotlib.legend.Legend at 0x7fb5b4ab4310>"
      ]
     },
     "execution_count": 50,
     "metadata": {},
     "output_type": "execute_result"
    },
    {
     "data": {
      "image/png": "[encoded data removed]",
      "text/plain": [
       "<Figure size 432x288 with 1 Axes>"
      ]
     },
     "metadata": {
      "needs_background": "light"
     },
     "output_type": "display_data"
    }
   ],
   "source": [
    "fig, ax = plt.subplots()\n",
    "ax_1 = sns.lineplot(data=data, x=\"Education\", y=\"NumWebVisitsMonth\")\n",
    "ax_2 = sns.lineplot(data=data, x=\"Education\", y=\"NumWebPurchases\")\n",
    "plt.legend([\"NumWebVisitsMonth\",\"\",\"NumWebPurchases\",\"\"])"
   ]
  },
  {
   "cell_type": "markdown",
   "id": "9833a2d4",
   "metadata": {
    "papermill": {
     "duration": 0.029367,
     "end_time": "2023-01-29T23:12:18.944573",
     "exception": false,
     "start_time": "2023-01-29T23:12:18.915206",
     "status": "completed"
    },
    "tags": []
   },
   "source": [
    "In the case of education, it is observed that the number of purchases is approaching with the website visits made in the process from basic to phd level. Accordingly, it is estimated that as the level of education increases, **the customer plans in advance what he/she will buy**. **As the level of education decreases, the number of non-shopping visits increases**."
   ]
  },
  {
   "cell_type": "code",
   "execution_count": 51,
   "id": "efe61dc8",
   "metadata": {
    "execution": {
     "iopub.execute_input": "2023-01-29T23:12:19.005783Z",
     "iopub.status.busy": "2023-01-29T23:12:19.005362Z",
     "iopub.status.idle": "2023-01-29T23:12:19.362989Z",
     "shell.execute_reply": "2023-01-29T23:12:19.361807Z"
    },
    "papermill": {
     "duration": 0.391705,
     "end_time": "2023-01-29T23:12:19.365847",
     "exception": false,
     "start_time": "2023-01-29T23:12:18.974142",
     "status": "completed"
    },
    "tags": []
   },
   "outputs": [
    {
     "data": {
      "text/plain": [
       "<seaborn.axisgrid.FacetGrid at 0x7fb5b4ab48d0>"
      ]
     },
     "execution_count": 51,
     "metadata": {},
     "output_type": "execute_result"
    },
    {
     "data": {
      "image/png": "[encoded data removed]",
      "text/plain": [
       "<Figure size 360x360 with 1 Axes>"
      ]
     },
     "metadata": {
      "needs_background": "light"
     },
     "output_type": "display_data"
    }
   ],
   "source": [
    "sns.catplot(data=data, x=\"Education\", y=\"Income\", kind=\"box\")"
   ]
  },
  {
   "cell_type": "code",
   "execution_count": 52,
   "id": "e534962d",
   "metadata": {
    "execution": {
     "iopub.execute_input": "2023-01-29T23:12:19.428937Z",
     "iopub.status.busy": "2023-01-29T23:12:19.428514Z",
     "iopub.status.idle": "2023-01-29T23:12:19.963559Z",
     "shell.execute_reply": "2023-01-29T23:12:19.962157Z"
    },
    "papermill": {
     "duration": 0.570132,
     "end_time": "2023-01-29T23:12:19.966474",
     "exception": false,
     "start_time": "2023-01-29T23:12:19.396342",
     "status": "completed"
    },
    "tags": []
   },
   "outputs": [
    {
     "data": {
      "text/plain": [
       "<seaborn.axisgrid.FacetGrid at 0x7fb5b49774d0>"
      ]
     },
     "execution_count": 52,
     "metadata": {},
     "output_type": "execute_result"
    },
    {
     "data": {
      "image/png": "[encoded data removed]",
      "text/plain": [
       "<Figure size 455.125x360 with 1 Axes>"
      ]
     },
     "metadata": {
      "needs_background": "light"
     },
     "output_type": "display_data"
    }
   ],
   "source": [
    "sns.catplot(data=data, x=\"Education\", y=\"Income\", kind=\"box\", hue=\"Age_Group\")"
   ]
  },
  {
   "cell_type": "markdown",
   "id": "efd0f460",
   "metadata": {
    "papermill": {
     "duration": 0.030103,
     "end_time": "2023-01-29T23:12:20.027539",
     "exception": false,
     "start_time": "2023-01-29T23:12:19.997436",
     "status": "completed"
    },
    "tags": []
   },
   "source": [
    "On an average basis, the income of the PhD group is higher than the other groups. It is observed that the income status of the Basic group is quite low compared to the other groups."
   ]
  },
  {
   "cell_type": "code",
   "execution_count": 53,
   "id": "45bcc75c",
   "metadata": {
    "execution": {
     "iopub.execute_input": "2023-01-29T23:12:20.092439Z",
     "iopub.status.busy": "2023-01-29T23:12:20.091959Z",
     "iopub.status.idle": "2023-01-29T23:12:20.557689Z",
     "shell.execute_reply": "2023-01-29T23:12:20.556341Z"
    },
    "papermill": {
     "duration": 0.501554,
     "end_time": "2023-01-29T23:12:20.560435",
     "exception": false,
     "start_time": "2023-01-29T23:12:20.058881",
     "status": "completed"
    },
    "tags": []
   },
   "outputs": [
    {
     "data": {
      "text/plain": [
       "<seaborn.axisgrid.FacetGrid at 0x7fb5b48dc850>"
      ]
     },
     "execution_count": 53,
     "metadata": {},
     "output_type": "execute_result"
    },
    {
     "data": {
      "image/png": "[encoded data removed]",
      "text/plain": [
       "<Figure size 455.125x360 with 1 Axes>"
      ]
     },
     "metadata": {
      "needs_background": "light"
     },
     "output_type": "display_data"
    }
   ],
   "source": [
    "sns.catplot(data=data, x=\"Kidhome\", y=\"Income\", kind=\"box\", hue=\"Age_Group\")"
   ]
  },
  {
   "cell_type": "code",
   "execution_count": 54,
   "id": "68955e33",
   "metadata": {
    "execution": {
     "iopub.execute_input": "2023-01-29T23:12:20.626592Z",
     "iopub.status.busy": "2023-01-29T23:12:20.626163Z",
     "iopub.status.idle": "2023-01-29T23:12:21.096650Z",
     "shell.execute_reply": "2023-01-29T23:12:21.095182Z"
    },
    "papermill": {
     "duration": 0.506539,
     "end_time": "2023-01-29T23:12:21.099232",
     "exception": false,
     "start_time": "2023-01-29T23:12:20.592693",
     "status": "completed"
    },
    "tags": []
   },
   "outputs": [
    {
     "data": {
      "text/plain": [
       "<seaborn.axisgrid.FacetGrid at 0x7fb5b469e890>"
      ]
     },
     "execution_count": 54,
     "metadata": {},
     "output_type": "execute_result"
    },
    {
     "data": {
      "image/png": "[encoded data removed]",
      "text/plain": [
       "<Figure size 455.125x360 with 1 Axes>"
      ]
     },
     "metadata": {
      "needs_background": "light"
     },
     "output_type": "display_data"
    }
   ],
   "source": [
    "sns.catplot(data=data, x=\"Teenhome\", y=\"Income\", kind=\"box\", hue=\"Age_Group\")"
   ]
  },
  {
   "cell_type": "code",
   "execution_count": 55,
   "id": "6805912f",
   "metadata": {
    "execution": {
     "iopub.execute_input": "2023-01-29T23:12:21.164013Z",
     "iopub.status.busy": "2023-01-29T23:12:21.163600Z",
     "iopub.status.idle": "2023-01-29T23:12:21.183035Z",
     "shell.execute_reply": "2023-01-29T23:12:21.181821Z"
    },
    "papermill": {
     "duration": 0.055058,
     "end_time": "2023-01-29T23:12:21.185879",
     "exception": false,
     "start_time": "2023-01-29T23:12:21.130821",
     "status": "completed"
    },
    "tags": []
   },
   "outputs": [],
   "source": [
    "correlation = data[['Income','Kidhome','Teenhome','Recency','MntWines','MntFruits','MntMeatProducts','MntFishProducts','MntSweetProducts','MntGoldProds','NumDealsPurchases','NumWebPurchases','NumCatalogPurchases','NumStorePurchases','NumWebVisitsMonth','AcceptedCmp1','AcceptedCmp2','AcceptedCmp3','AcceptedCmp4','AcceptedCmp5','Complain','Z_CostContact','Z_Revenue','Response','Year_Customer']].corr()\n",
    "mask = np.triu(np.ones_like(correlation, dtype=bool))\n",
    "cmap = sns.diverging_palette(230, 20, as_cmap=True)"
   ]
  },
  {
   "cell_type": "code",
   "execution_count": 56,
   "id": "f8cadbca",
   "metadata": {
    "execution": {
     "iopub.execute_input": "2023-01-29T23:12:21.251519Z",
     "iopub.status.busy": "2023-01-29T23:12:21.251017Z",
     "iopub.status.idle": "2023-01-29T23:12:21.294881Z",
     "shell.execute_reply": "2023-01-29T23:12:21.293425Z"
    },
    "papermill": {
     "duration": 0.079703,
     "end_time": "2023-01-29T23:12:21.297369",
     "exception": false,
     "start_time": "2023-01-29T23:12:21.217666",
     "status": "completed"
    },
    "tags": []
   },
   "outputs": [
    {
     "data": {
      "text/html": [
       "<div>\n",
       "<style scoped>\n",
       "    .dataframe tbody tr th:only-of-type {\n",
       "        vertical-align: middle;\n",
       "    }\n",
       "\n",
       "    .dataframe tbody tr th {\n",
       "        vertical-align: top;\n",
       "    }\n",
       "\n",
       "    .dataframe thead th {\n",
       "        text-align: right;\n",
       "    }\n",
       "</style>\n",
       "<table border=\"1\" class=\"dataframe\">\n",
       "  <thead>\n",
       "    <tr style=\"text-align: right;\">\n",
       "      <th></th>\n",
       "      <th>Income</th>\n",
       "      <th>Teenhome</th>\n",
       "      <th>Recency</th>\n",
       "      <th>MntWines</th>\n",
       "      <th>MntFruits</th>\n",
       "      <th>MntMeatProducts</th>\n",
       "      <th>MntFishProducts</th>\n",
       "      <th>MntSweetProducts</th>\n",
       "      <th>MntGoldProds</th>\n",
       "      <th>NumDealsPurchases</th>\n",
       "      <th>NumWebPurchases</th>\n",
       "      <th>NumCatalogPurchases</th>\n",
       "      <th>NumStorePurchases</th>\n",
       "      <th>NumWebVisitsMonth</th>\n",
       "      <th>AcceptedCmp1</th>\n",
       "      <th>AcceptedCmp2</th>\n",
       "      <th>AcceptedCmp3</th>\n",
       "      <th>AcceptedCmp4</th>\n",
       "      <th>AcceptedCmp5</th>\n",
       "      <th>Complain</th>\n",
       "      <th>Z_CostContact</th>\n",
       "      <th>Z_Revenue</th>\n",
       "      <th>Year_Customer</th>\n",
       "    </tr>\n",
       "  </thead>\n",
       "  <tbody>\n",
       "    <tr>\n",
       "      <th>Income</th>\n",
       "      <td>1.000000</td>\n",
       "      <td>0.043315</td>\n",
       "      <td>0.005751</td>\n",
       "      <td>0.730488</td>\n",
       "      <td>0.537308</td>\n",
       "      <td>0.702962</td>\n",
       "      <td>0.551700</td>\n",
       "      <td>0.555804</td>\n",
       "      <td>0.416601</td>\n",
       "      <td>-0.132274</td>\n",
       "      <td>0.503996</td>\n",
       "      <td>0.709892</td>\n",
       "      <td>0.687222</td>\n",
       "      <td>-0.648688</td>\n",
       "      <td>0.344307</td>\n",
       "      <td>0.110337</td>\n",
       "      <td>-0.009827</td>\n",
       "      <td>0.233570</td>\n",
       "      <td>0.415731</td>\n",
       "      <td>-0.027487</td>\n",
       "      <td>NaN</td>\n",
       "      <td>NaN</td>\n",
       "      <td>-0.026643</td>\n",
       "    </tr>\n",
       "    <tr>\n",
       "      <th>Teenhome</th>\n",
       "      <td>0.043315</td>\n",
       "      <td>1.000000</td>\n",
       "      <td>0.015081</td>\n",
       "      <td>0.002574</td>\n",
       "      <td>-0.175405</td>\n",
       "      <td>-0.266533</td>\n",
       "      <td>-0.204112</td>\n",
       "      <td>-0.163670</td>\n",
       "      <td>-0.017061</td>\n",
       "      <td>0.394087</td>\n",
       "      <td>0.160016</td>\n",
       "      <td>-0.112388</td>\n",
       "      <td>0.047762</td>\n",
       "      <td>0.127261</td>\n",
       "      <td>-0.144613</td>\n",
       "      <td>-0.015782</td>\n",
       "      <td>-0.044880</td>\n",
       "      <td>0.038024</td>\n",
       "      <td>-0.189853</td>\n",
       "      <td>0.007680</td>\n",
       "      <td>NaN</td>\n",
       "      <td>NaN</td>\n",
       "      <td>0.009624</td>\n",
       "    </tr>\n",
       "    <tr>\n",
       "      <th>Recency</th>\n",
       "      <td>0.005751</td>\n",
       "      <td>0.015081</td>\n",
       "      <td>1.000000</td>\n",
       "      <td>0.015893</td>\n",
       "      <td>-0.006496</td>\n",
       "      <td>0.024914</td>\n",
       "      <td>-0.000503</td>\n",
       "      <td>0.024253</td>\n",
       "      <td>0.017742</td>\n",
       "      <td>0.003293</td>\n",
       "      <td>-0.003759</td>\n",
       "      <td>0.027927</td>\n",
       "      <td>-0.000054</td>\n",
       "      <td>-0.015885</td>\n",
       "      <td>-0.022356</td>\n",
       "      <td>-0.001652</td>\n",
       "      <td>-0.032374</td>\n",
       "      <td>0.017063</td>\n",
       "      <td>-0.000826</td>\n",
       "      <td>0.005556</td>\n",
       "      <td>NaN</td>\n",
       "      <td>NaN</td>\n",
       "      <td>0.030068</td>\n",
       "    </tr>\n",
       "    <tr>\n",
       "      <th>MntWines</th>\n",
       "      <td>0.730488</td>\n",
       "      <td>0.002574</td>\n",
       "      <td>0.015893</td>\n",
       "      <td>1.000000</td>\n",
       "      <td>0.385099</td>\n",
       "      <td>0.593812</td>\n",
       "      <td>0.397438</td>\n",
       "      <td>0.388620</td>\n",
       "      <td>0.391241</td>\n",
       "      <td>0.011871</td>\n",
       "      <td>0.552457</td>\n",
       "      <td>0.674181</td>\n",
       "      <td>0.639187</td>\n",
       "      <td>-0.330285</td>\n",
       "      <td>0.351736</td>\n",
       "      <td>0.206305</td>\n",
       "      <td>0.062323</td>\n",
       "      <td>0.373214</td>\n",
       "      <td>0.473449</td>\n",
       "      <td>-0.036759</td>\n",
       "      <td>NaN</td>\n",
       "      <td>NaN</td>\n",
       "      <td>0.153334</td>\n",
       "    </tr>\n",
       "    <tr>\n",
       "      <th>MntFruits</th>\n",
       "      <td>0.537308</td>\n",
       "      <td>-0.175405</td>\n",
       "      <td>-0.006496</td>\n",
       "      <td>0.385099</td>\n",
       "      <td>1.000000</td>\n",
       "      <td>0.568126</td>\n",
       "      <td>0.591294</td>\n",
       "      <td>0.571033</td>\n",
       "      <td>0.390309</td>\n",
       "      <td>-0.135086</td>\n",
       "      <td>0.302917</td>\n",
       "      <td>0.512070</td>\n",
       "      <td>0.459131</td>\n",
       "      <td>-0.422855</td>\n",
       "      <td>0.189470</td>\n",
       "      <td>-0.010159</td>\n",
       "      <td>0.015356</td>\n",
       "      <td>0.006095</td>\n",
       "      <td>0.206221</td>\n",
       "      <td>-0.003137</td>\n",
       "      <td>NaN</td>\n",
       "      <td>NaN</td>\n",
       "      <td>0.053836</td>\n",
       "    </tr>\n",
       "    <tr>\n",
       "      <th>MntMeatProducts</th>\n",
       "      <td>0.702962</td>\n",
       "      <td>-0.266533</td>\n",
       "      <td>0.024914</td>\n",
       "      <td>0.593812</td>\n",
       "      <td>0.568126</td>\n",
       "      <td>1.000000</td>\n",
       "      <td>0.596466</td>\n",
       "      <td>0.557186</td>\n",
       "      <td>0.376120</td>\n",
       "      <td>-0.165029</td>\n",
       "      <td>0.331455</td>\n",
       "      <td>0.715405</td>\n",
       "      <td>0.517434</td>\n",
       "      <td>-0.543350</td>\n",
       "      <td>0.326876</td>\n",
       "      <td>0.045800</td>\n",
       "      <td>0.022357</td>\n",
       "      <td>0.096694</td>\n",
       "      <td>0.390933</td>\n",
       "      <td>-0.021012</td>\n",
       "      <td>NaN</td>\n",
       "      <td>NaN</td>\n",
       "      <td>0.081105</td>\n",
       "    </tr>\n",
       "    <tr>\n",
       "      <th>MntFishProducts</th>\n",
       "      <td>0.551700</td>\n",
       "      <td>-0.204112</td>\n",
       "      <td>-0.000503</td>\n",
       "      <td>0.397438</td>\n",
       "      <td>0.591294</td>\n",
       "      <td>0.596466</td>\n",
       "      <td>1.000000</td>\n",
       "      <td>0.585017</td>\n",
       "      <td>0.420445</td>\n",
       "      <td>-0.144093</td>\n",
       "      <td>0.301464</td>\n",
       "      <td>0.561307</td>\n",
       "      <td>0.458258</td>\n",
       "      <td>-0.450959</td>\n",
       "      <td>0.257973</td>\n",
       "      <td>0.002277</td>\n",
       "      <td>0.000655</td>\n",
       "      <td>0.016008</td>\n",
       "      <td>0.190713</td>\n",
       "      <td>-0.019248</td>\n",
       "      <td>NaN</td>\n",
       "      <td>NaN</td>\n",
       "      <td>0.067086</td>\n",
       "    </tr>\n",
       "    <tr>\n",
       "      <th>MntSweetProducts</th>\n",
       "      <td>0.555804</td>\n",
       "      <td>-0.163670</td>\n",
       "      <td>0.024253</td>\n",
       "      <td>0.388620</td>\n",
       "      <td>0.571033</td>\n",
       "      <td>0.557186</td>\n",
       "      <td>0.585017</td>\n",
       "      <td>1.000000</td>\n",
       "      <td>0.356650</td>\n",
       "      <td>-0.120998</td>\n",
       "      <td>0.333726</td>\n",
       "      <td>0.524366</td>\n",
       "      <td>0.454103</td>\n",
       "      <td>-0.429376</td>\n",
       "      <td>0.243925</td>\n",
       "      <td>0.009789</td>\n",
       "      <td>0.001848</td>\n",
       "      <td>0.028365</td>\n",
       "      <td>0.257221</td>\n",
       "      <td>-0.020893</td>\n",
       "      <td>NaN</td>\n",
       "      <td>NaN</td>\n",
       "      <td>0.072718</td>\n",
       "    </tr>\n",
       "    <tr>\n",
       "      <th>MntGoldProds</th>\n",
       "      <td>0.416601</td>\n",
       "      <td>-0.017061</td>\n",
       "      <td>0.017742</td>\n",
       "      <td>0.391241</td>\n",
       "      <td>0.390309</td>\n",
       "      <td>0.376120</td>\n",
       "      <td>0.420445</td>\n",
       "      <td>0.356650</td>\n",
       "      <td>1.000000</td>\n",
       "      <td>0.058394</td>\n",
       "      <td>0.409105</td>\n",
       "      <td>0.468427</td>\n",
       "      <td>0.389523</td>\n",
       "      <td>-0.250001</td>\n",
       "      <td>0.165148</td>\n",
       "      <td>0.051248</td>\n",
       "      <td>0.127422</td>\n",
       "      <td>0.024391</td>\n",
       "      <td>0.171316</td>\n",
       "      <td>-0.030362</td>\n",
       "      <td>NaN</td>\n",
       "      <td>NaN</td>\n",
       "      <td>0.142909</td>\n",
       "    </tr>\n",
       "    <tr>\n",
       "      <th>NumDealsPurchases</th>\n",
       "      <td>-0.132274</td>\n",
       "      <td>0.394087</td>\n",
       "      <td>0.003293</td>\n",
       "      <td>0.011871</td>\n",
       "      <td>-0.135086</td>\n",
       "      <td>-0.165029</td>\n",
       "      <td>-0.144093</td>\n",
       "      <td>-0.120998</td>\n",
       "      <td>0.058394</td>\n",
       "      <td>1.000000</td>\n",
       "      <td>0.250645</td>\n",
       "      <td>-0.056678</td>\n",
       "      <td>0.073004</td>\n",
       "      <td>0.362293</td>\n",
       "      <td>-0.128349</td>\n",
       "      <td>-0.038331</td>\n",
       "      <td>-0.022098</td>\n",
       "      <td>0.017854</td>\n",
       "      <td>-0.186039</td>\n",
       "      <td>0.004352</td>\n",
       "      <td>NaN</td>\n",
       "      <td>NaN</td>\n",
       "      <td>0.188527</td>\n",
       "    </tr>\n",
       "    <tr>\n",
       "      <th>NumWebPurchases</th>\n",
       "      <td>0.503996</td>\n",
       "      <td>0.160016</td>\n",
       "      <td>-0.003759</td>\n",
       "      <td>0.552457</td>\n",
       "      <td>0.302917</td>\n",
       "      <td>0.331455</td>\n",
       "      <td>0.301464</td>\n",
       "      <td>0.333726</td>\n",
       "      <td>0.409105</td>\n",
       "      <td>0.250645</td>\n",
       "      <td>1.000000</td>\n",
       "      <td>0.423782</td>\n",
       "      <td>0.512705</td>\n",
       "      <td>-0.064355</td>\n",
       "      <td>0.159741</td>\n",
       "      <td>0.034524</td>\n",
       "      <td>0.044076</td>\n",
       "      <td>0.162729</td>\n",
       "      <td>0.141786</td>\n",
       "      <td>-0.013923</td>\n",
       "      <td>NaN</td>\n",
       "      <td>NaN</td>\n",
       "      <td>0.167320</td>\n",
       "    </tr>\n",
       "    <tr>\n",
       "      <th>NumCatalogPurchases</th>\n",
       "      <td>0.709892</td>\n",
       "      <td>-0.112388</td>\n",
       "      <td>0.027927</td>\n",
       "      <td>0.674181</td>\n",
       "      <td>0.512070</td>\n",
       "      <td>0.715405</td>\n",
       "      <td>0.561307</td>\n",
       "      <td>0.524366</td>\n",
       "      <td>0.468427</td>\n",
       "      <td>-0.056678</td>\n",
       "      <td>0.423782</td>\n",
       "      <td>1.000000</td>\n",
       "      <td>0.561793</td>\n",
       "      <td>-0.529244</td>\n",
       "      <td>0.323423</td>\n",
       "      <td>0.106080</td>\n",
       "      <td>0.113639</td>\n",
       "      <td>0.149972</td>\n",
       "      <td>0.336805</td>\n",
       "      <td>-0.018682</td>\n",
       "      <td>NaN</td>\n",
       "      <td>NaN</td>\n",
       "      <td>0.086309</td>\n",
       "    </tr>\n",
       "    <tr>\n",
       "      <th>NumStorePurchases</th>\n",
       "      <td>0.687222</td>\n",
       "      <td>0.047762</td>\n",
       "      <td>-0.000054</td>\n",
       "      <td>0.639187</td>\n",
       "      <td>0.459131</td>\n",
       "      <td>0.517434</td>\n",
       "      <td>0.458258</td>\n",
       "      <td>0.454103</td>\n",
       "      <td>0.389523</td>\n",
       "      <td>0.073004</td>\n",
       "      <td>0.512705</td>\n",
       "      <td>0.561793</td>\n",
       "      <td>1.000000</td>\n",
       "      <td>-0.450209</td>\n",
       "      <td>0.177757</td>\n",
       "      <td>0.084880</td>\n",
       "      <td>-0.069597</td>\n",
       "      <td>0.176966</td>\n",
       "      <td>0.213691</td>\n",
       "      <td>-0.012560</td>\n",
       "      <td>NaN</td>\n",
       "      <td>NaN</td>\n",
       "      <td>0.095251</td>\n",
       "    </tr>\n",
       "    <tr>\n",
       "      <th>NumWebVisitsMonth</th>\n",
       "      <td>-0.648688</td>\n",
       "      <td>0.127261</td>\n",
       "      <td>-0.015885</td>\n",
       "      <td>-0.330285</td>\n",
       "      <td>-0.422855</td>\n",
       "      <td>-0.543350</td>\n",
       "      <td>-0.450959</td>\n",
       "      <td>-0.429376</td>\n",
       "      <td>-0.250001</td>\n",
       "      <td>0.362293</td>\n",
       "      <td>-0.064355</td>\n",
       "      <td>-0.529244</td>\n",
       "      <td>-0.450209</td>\n",
       "      <td>1.000000</td>\n",
       "      <td>-0.195904</td>\n",
       "      <td>-0.008291</td>\n",
       "      <td>0.060251</td>\n",
       "      <td>-0.031021</td>\n",
       "      <td>-0.277983</td>\n",
       "      <td>0.020395</td>\n",
       "      <td>NaN</td>\n",
       "      <td>NaN</td>\n",
       "      <td>0.254319</td>\n",
       "    </tr>\n",
       "    <tr>\n",
       "      <th>AcceptedCmp1</th>\n",
       "      <td>0.344307</td>\n",
       "      <td>-0.144613</td>\n",
       "      <td>-0.022356</td>\n",
       "      <td>0.351736</td>\n",
       "      <td>0.189470</td>\n",
       "      <td>0.326876</td>\n",
       "      <td>0.257973</td>\n",
       "      <td>0.243925</td>\n",
       "      <td>0.165148</td>\n",
       "      <td>-0.128349</td>\n",
       "      <td>0.159741</td>\n",
       "      <td>0.323423</td>\n",
       "      <td>0.177757</td>\n",
       "      <td>-0.195904</td>\n",
       "      <td>1.000000</td>\n",
       "      <td>0.177245</td>\n",
       "      <td>0.096704</td>\n",
       "      <td>0.243649</td>\n",
       "      <td>0.405507</td>\n",
       "      <td>-0.025089</td>\n",
       "      <td>NaN</td>\n",
       "      <td>NaN</td>\n",
       "      <td>-0.040897</td>\n",
       "    </tr>\n",
       "    <tr>\n",
       "      <th>AcceptedCmp2</th>\n",
       "      <td>0.110337</td>\n",
       "      <td>-0.015782</td>\n",
       "      <td>-0.001652</td>\n",
       "      <td>0.206305</td>\n",
       "      <td>-0.010159</td>\n",
       "      <td>0.045800</td>\n",
       "      <td>0.002277</td>\n",
       "      <td>0.009789</td>\n",
       "      <td>0.051248</td>\n",
       "      <td>-0.038331</td>\n",
       "      <td>0.034524</td>\n",
       "      <td>0.106080</td>\n",
       "      <td>0.084880</td>\n",
       "      <td>-0.008291</td>\n",
       "      <td>0.177245</td>\n",
       "      <td>1.000000</td>\n",
       "      <td>0.071867</td>\n",
       "      <td>0.294891</td>\n",
       "      <td>0.223621</td>\n",
       "      <td>-0.011272</td>\n",
       "      <td>NaN</td>\n",
       "      <td>NaN</td>\n",
       "      <td>-0.000958</td>\n",
       "    </tr>\n",
       "    <tr>\n",
       "      <th>AcceptedCmp3</th>\n",
       "      <td>-0.009827</td>\n",
       "      <td>-0.044880</td>\n",
       "      <td>-0.032374</td>\n",
       "      <td>0.062323</td>\n",
       "      <td>0.015356</td>\n",
       "      <td>0.022357</td>\n",
       "      <td>0.000655</td>\n",
       "      <td>0.001848</td>\n",
       "      <td>0.127422</td>\n",
       "      <td>-0.022098</td>\n",
       "      <td>0.044076</td>\n",
       "      <td>0.113639</td>\n",
       "      <td>-0.069597</td>\n",
       "      <td>0.060251</td>\n",
       "      <td>0.096704</td>\n",
       "      <td>0.071867</td>\n",
       "      <td>1.000000</td>\n",
       "      <td>-0.080097</td>\n",
       "      <td>0.081817</td>\n",
       "      <td>0.009644</td>\n",
       "      <td>NaN</td>\n",
       "      <td>NaN</td>\n",
       "      <td>-0.008907</td>\n",
       "    </tr>\n",
       "    <tr>\n",
       "      <th>AcceptedCmp4</th>\n",
       "      <td>0.233570</td>\n",
       "      <td>0.038024</td>\n",
       "      <td>0.017063</td>\n",
       "      <td>0.373214</td>\n",
       "      <td>0.006095</td>\n",
       "      <td>0.096694</td>\n",
       "      <td>0.016008</td>\n",
       "      <td>0.028365</td>\n",
       "      <td>0.024391</td>\n",
       "      <td>0.017854</td>\n",
       "      <td>0.162729</td>\n",
       "      <td>0.149972</td>\n",
       "      <td>0.176966</td>\n",
       "      <td>-0.031021</td>\n",
       "      <td>0.243649</td>\n",
       "      <td>0.294891</td>\n",
       "      <td>-0.080097</td>\n",
       "      <td>1.000000</td>\n",
       "      <td>0.313644</td>\n",
       "      <td>-0.027210</td>\n",
       "      <td>NaN</td>\n",
       "      <td>NaN</td>\n",
       "      <td>0.008977</td>\n",
       "    </tr>\n",
       "    <tr>\n",
       "      <th>AcceptedCmp5</th>\n",
       "      <td>0.415731</td>\n",
       "      <td>-0.189853</td>\n",
       "      <td>-0.000826</td>\n",
       "      <td>0.473449</td>\n",
       "      <td>0.206221</td>\n",
       "      <td>0.390933</td>\n",
       "      <td>0.190713</td>\n",
       "      <td>0.257221</td>\n",
       "      <td>0.171316</td>\n",
       "      <td>-0.186039</td>\n",
       "      <td>0.141786</td>\n",
       "      <td>0.336805</td>\n",
       "      <td>0.213691</td>\n",
       "      <td>-0.277983</td>\n",
       "      <td>0.405507</td>\n",
       "      <td>0.223621</td>\n",
       "      <td>0.081817</td>\n",
       "      <td>0.313644</td>\n",
       "      <td>1.000000</td>\n",
       "      <td>-0.008407</td>\n",
       "      <td>NaN</td>\n",
       "      <td>NaN</td>\n",
       "      <td>-0.024440</td>\n",
       "    </tr>\n",
       "    <tr>\n",
       "      <th>Complain</th>\n",
       "      <td>-0.027487</td>\n",
       "      <td>0.007680</td>\n",
       "      <td>0.005556</td>\n",
       "      <td>-0.036759</td>\n",
       "      <td>-0.003137</td>\n",
       "      <td>-0.021012</td>\n",
       "      <td>-0.019248</td>\n",
       "      <td>-0.020893</td>\n",
       "      <td>-0.030362</td>\n",
       "      <td>0.004352</td>\n",
       "      <td>-0.013923</td>\n",
       "      <td>-0.018682</td>\n",
       "      <td>-0.012560</td>\n",
       "      <td>0.020395</td>\n",
       "      <td>-0.025089</td>\n",
       "      <td>-0.011272</td>\n",
       "      <td>0.009644</td>\n",
       "      <td>-0.027210</td>\n",
       "      <td>-0.008407</td>\n",
       "      <td>1.000000</td>\n",
       "      <td>NaN</td>\n",
       "      <td>NaN</td>\n",
       "      <td>0.024867</td>\n",
       "    </tr>\n",
       "    <tr>\n",
       "      <th>Z_CostContact</th>\n",
       "      <td>NaN</td>\n",
       "      <td>NaN</td>\n",
       "      <td>NaN</td>\n",
       "      <td>NaN</td>\n",
       "      <td>NaN</td>\n",
       "      <td>NaN</td>\n",
       "      <td>NaN</td>\n",
       "      <td>NaN</td>\n",
       "      <td>NaN</td>\n",
       "      <td>NaN</td>\n",
       "      <td>NaN</td>\n",
       "      <td>NaN</td>\n",
       "      <td>NaN</td>\n",
       "      <td>NaN</td>\n",
       "      <td>NaN</td>\n",
       "      <td>NaN</td>\n",
       "      <td>NaN</td>\n",
       "      <td>NaN</td>\n",
       "      <td>NaN</td>\n",
       "      <td>NaN</td>\n",
       "      <td>NaN</td>\n",
       "      <td>NaN</td>\n",
       "      <td>NaN</td>\n",
       "    </tr>\n",
       "    <tr>\n",
       "      <th>Z_Revenue</th>\n",
       "      <td>NaN</td>\n",
       "      <td>NaN</td>\n",
       "      <td>NaN</td>\n",
       "      <td>NaN</td>\n",
       "      <td>NaN</td>\n",
       "      <td>NaN</td>\n",
       "      <td>NaN</td>\n",
       "      <td>NaN</td>\n",
       "      <td>NaN</td>\n",
       "      <td>NaN</td>\n",
       "      <td>NaN</td>\n",
       "      <td>NaN</td>\n",
       "      <td>NaN</td>\n",
       "      <td>NaN</td>\n",
       "      <td>NaN</td>\n",
       "      <td>NaN</td>\n",
       "      <td>NaN</td>\n",
       "      <td>NaN</td>\n",
       "      <td>NaN</td>\n",
       "      <td>NaN</td>\n",
       "      <td>NaN</td>\n",
       "      <td>NaN</td>\n",
       "      <td>NaN</td>\n",
       "    </tr>\n",
       "    <tr>\n",
       "      <th>Year_Customer</th>\n",
       "      <td>-0.026643</td>\n",
       "      <td>0.009624</td>\n",
       "      <td>0.030068</td>\n",
       "      <td>0.153334</td>\n",
       "      <td>0.053836</td>\n",
       "      <td>0.081105</td>\n",
       "      <td>0.067086</td>\n",
       "      <td>0.072718</td>\n",
       "      <td>0.142909</td>\n",
       "      <td>0.188527</td>\n",
       "      <td>0.167320</td>\n",
       "      <td>0.086309</td>\n",
       "      <td>0.095251</td>\n",
       "      <td>0.254319</td>\n",
       "      <td>-0.040897</td>\n",
       "      <td>-0.000958</td>\n",
       "      <td>-0.008907</td>\n",
       "      <td>0.008977</td>\n",
       "      <td>-0.024440</td>\n",
       "      <td>0.024867</td>\n",
       "      <td>NaN</td>\n",
       "      <td>NaN</td>\n",
       "      <td>1.000000</td>\n",
       "    </tr>\n",
       "  </tbody>\n",
       "</table>\n",
       "</div>"
      ],
      "text/plain": [
       "                       Income  Teenhome   Recency  MntWines  MntFruits  \\\n",
       "Income               1.000000  0.043315  0.005751  0.730488   0.537308   \n",
       "Teenhome             0.043315  1.000000  0.015081  0.002574  -0.175405   \n",
       "Recency              0.005751  0.015081  1.000000  0.015893  -0.006496   \n",
       "MntWines             0.730488  0.002574  0.015893  1.000000   0.385099   \n",
       "MntFruits            0.537308 -0.175405 -0.006496  0.385099   1.000000   \n",
       "MntMeatProducts      0.702962 -0.266533  0.024914  0.593812   0.568126   \n",
       "MntFishProducts      0.551700 -0.204112 -0.000503  0.397438   0.591294   \n",
       "MntSweetProducts     0.555804 -0.163670  0.024253  0.388620   0.571033   \n",
       "MntGoldProds         0.416601 -0.017061  0.017742  0.391241   0.390309   \n",
       "NumDealsPurchases   -0.132274  0.394087  0.003293  0.011871  -0.135086   \n",
       "NumWebPurchases      0.503996  0.160016 -0.003759  0.552457   0.302917   \n",
       "NumCatalogPurchases  0.709892 -0.112388  0.027927  0.674181   0.512070   \n",
       "NumStorePurchases    0.687222  0.047762 -0.000054  0.639187   0.459131   \n",
       "NumWebVisitsMonth   -0.648688  0.127261 -0.015885 -0.330285  -0.422855   \n",
       "AcceptedCmp1         0.344307 -0.144613 -0.022356  0.351736   0.189470   \n",
       "AcceptedCmp2         0.110337 -0.015782 -0.001652  0.206305  -0.010159   \n",
       "AcceptedCmp3        -0.009827 -0.044880 -0.032374  0.062323   0.015356   \n",
       "AcceptedCmp4         0.233570  0.038024  0.017063  0.373214   0.006095   \n",
       "AcceptedCmp5         0.415731 -0.189853 -0.000826  0.473449   0.206221   \n",
       "Complain            -0.027487  0.007680  0.005556 -0.036759  -0.003137   \n",
       "Z_CostContact             NaN       NaN       NaN       NaN        NaN   \n",
       "Z_Revenue                 NaN       NaN       NaN       NaN        NaN   \n",
       "Year_Customer       -0.026643  0.009624  0.030068  0.153334   0.053836   \n",
       "\n",
       "                     MntMeatProducts  MntFishProducts  MntSweetProducts  \\\n",
       "Income                      0.702962         0.551700          0.555804   \n",
       "Teenhome                   -0.266533        -0.204112         -0.163670   \n",
       "Recency                     0.024914        -0.000503          0.024253   \n",
       "MntWines                    0.593812         0.397438          0.388620   \n",
       "MntFruits                   0.568126         0.591294          0.571033   \n",
       "MntMeatProducts             1.000000         0.596466          0.557186   \n",
       "MntFishProducts             0.596466         1.000000          0.585017   \n",
       "MntSweetProducts            0.557186         0.585017          1.000000   \n",
       "MntGoldProds                0.376120         0.420445          0.356650   \n",
       "NumDealsPurchases          -0.165029        -0.144093         -0.120998   \n",
       "NumWebPurchases             0.331455         0.301464          0.333726   \n",
       "NumCatalogPurchases         0.715405         0.561307          0.524366   \n",
       "NumStorePurchases           0.517434         0.458258          0.454103   \n",
       "NumWebVisitsMonth          -0.543350        -0.450959         -0.429376   \n",
       "AcceptedCmp1                0.326876         0.257973          0.243925   \n",
       "AcceptedCmp2                0.045800         0.002277          0.009789   \n",
       "AcceptedCmp3                0.022357         0.000655          0.001848   \n",
       "AcceptedCmp4                0.096694         0.016008          0.028365   \n",
       "AcceptedCmp5                0.390933         0.190713          0.257221   \n",
       "Complain                   -0.021012        -0.019248         -0.020893   \n",
       "Z_CostContact                    NaN              NaN               NaN   \n",
       "Z_Revenue                        NaN              NaN               NaN   \n",
       "Year_Customer               0.081105         0.067086          0.072718   \n",
       "\n",
       "                     MntGoldProds  NumDealsPurchases  NumWebPurchases  \\\n",
       "Income                   0.416601          -0.132274         0.503996   \n",
       "Teenhome                -0.017061           0.394087         0.160016   \n",
       "Recency                  0.017742           0.003293        -0.003759   \n",
       "MntWines                 0.391241           0.011871         0.552457   \n",
       "MntFruits                0.390309          -0.135086         0.302917   \n",
       "MntMeatProducts          0.376120          -0.165029         0.331455   \n",
       "MntFishProducts          0.420445          -0.144093         0.301464   \n",
       "MntSweetProducts         0.356650          -0.120998         0.333726   \n",
       "MntGoldProds             1.000000           0.058394         0.409105   \n",
       "NumDealsPurchases        0.058394           1.000000         0.250645   \n",
       "NumWebPurchases          0.409105           0.250645         1.000000   \n",
       "NumCatalogPurchases      0.468427          -0.056678         0.423782   \n",
       "NumStorePurchases        0.389523           0.073004         0.512705   \n",
       "NumWebVisitsMonth       -0.250001           0.362293        -0.064355   \n",
       "AcceptedCmp1             0.165148          -0.128349         0.159741   \n",
       "AcceptedCmp2             0.051248          -0.038331         0.034524   \n",
       "AcceptedCmp3             0.127422          -0.022098         0.044076   \n",
       "AcceptedCmp4             0.024391           0.017854         0.162729   \n",
       "AcceptedCmp5             0.171316          -0.186039         0.141786   \n",
       "Complain                -0.030362           0.004352        -0.013923   \n",
       "Z_CostContact                 NaN                NaN              NaN   \n",
       "Z_Revenue                     NaN                NaN              NaN   \n",
       "Year_Customer            0.142909           0.188527         0.167320   \n",
       "\n",
       "                     NumCatalogPurchases  NumStorePurchases  \\\n",
       "Income                          0.709892           0.687222   \n",
       "Teenhome                       -0.112388           0.047762   \n",
       "Recency                         0.027927          -0.000054   \n",
       "MntWines                        0.674181           0.639187   \n",
       "MntFruits                       0.512070           0.459131   \n",
       "MntMeatProducts                 0.715405           0.517434   \n",
       "MntFishProducts                 0.561307           0.458258   \n",
       "MntSweetProducts                0.524366           0.454103   \n",
       "MntGoldProds                    0.468427           0.389523   \n",
       "NumDealsPurchases              -0.056678           0.073004   \n",
       "NumWebPurchases                 0.423782           0.512705   \n",
       "NumCatalogPurchases             1.000000           0.561793   \n",
       "NumStorePurchases               0.561793           1.000000   \n",
       "NumWebVisitsMonth              -0.529244          -0.450209   \n",
       "AcceptedCmp1                    0.323423           0.177757   \n",
       "AcceptedCmp2                    0.106080           0.084880   \n",
       "AcceptedCmp3                    0.113639          -0.069597   \n",
       "AcceptedCmp4                    0.149972           0.176966   \n",
       "AcceptedCmp5                    0.336805           0.213691   \n",
       "Complain                       -0.018682          -0.012560   \n",
       "Z_CostContact                        NaN                NaN   \n",
       "Z_Revenue                            NaN                NaN   \n",
       "Year_Customer                   0.086309           0.095251   \n",
       "\n",
       "                     NumWebVisitsMonth  AcceptedCmp1  AcceptedCmp2  \\\n",
       "Income                       -0.648688      0.344307      0.110337   \n",
       "Teenhome                      0.127261     -0.144613     -0.015782   \n",
       "Recency                      -0.015885     -0.022356     -0.001652   \n",
       "MntWines                     -0.330285      0.351736      0.206305   \n",
       "MntFruits                    -0.422855      0.189470     -0.010159   \n",
       "MntMeatProducts              -0.543350      0.326876      0.045800   \n",
       "MntFishProducts              -0.450959      0.257973      0.002277   \n",
       "MntSweetProducts             -0.429376      0.243925      0.009789   \n",
       "MntGoldProds                 -0.250001      0.165148      0.051248   \n",
       "NumDealsPurchases             0.362293     -0.128349     -0.038331   \n",
       "NumWebPurchases              -0.064355      0.159741      0.034524   \n",
       "NumCatalogPurchases          -0.529244      0.323423      0.106080   \n",
       "NumStorePurchases            -0.450209      0.177757      0.084880   \n",
       "NumWebVisitsMonth             1.000000     -0.195904     -0.008291   \n",
       "AcceptedCmp1                 -0.195904      1.000000      0.177245   \n",
       "AcceptedCmp2                 -0.008291      0.177245      1.000000   \n",
       "AcceptedCmp3                  0.060251      0.096704      0.071867   \n",
       "AcceptedCmp4                 -0.031021      0.243649      0.294891   \n",
       "AcceptedCmp5                 -0.277983      0.405507      0.223621   \n",
       "Complain                      0.020395     -0.025089     -0.011272   \n",
       "Z_CostContact                      NaN           NaN           NaN   \n",
       "Z_Revenue                          NaN           NaN           NaN   \n",
       "Year_Customer                 0.254319     -0.040897     -0.000958   \n",
       "\n",
       "                     AcceptedCmp3  AcceptedCmp4  AcceptedCmp5  Complain  \\\n",
       "Income                  -0.009827      0.233570      0.415731 -0.027487   \n",
       "Teenhome                -0.044880      0.038024     -0.189853  0.007680   \n",
       "Recency                 -0.032374      0.017063     -0.000826  0.005556   \n",
       "MntWines                 0.062323      0.373214      0.473449 -0.036759   \n",
       "MntFruits                0.015356      0.006095      0.206221 -0.003137   \n",
       "MntMeatProducts          0.022357      0.096694      0.390933 -0.021012   \n",
       "MntFishProducts          0.000655      0.016008      0.190713 -0.019248   \n",
       "MntSweetProducts         0.001848      0.028365      0.257221 -0.020893   \n",
       "MntGoldProds             0.127422      0.024391      0.171316 -0.030362   \n",
       "NumDealsPurchases       -0.022098      0.017854     -0.186039  0.004352   \n",
       "NumWebPurchases          0.044076      0.162729      0.141786 -0.013923   \n",
       "NumCatalogPurchases      0.113639      0.149972      0.336805 -0.018682   \n",
       "NumStorePurchases       -0.069597      0.176966      0.213691 -0.012560   \n",
       "NumWebVisitsMonth        0.060251     -0.031021     -0.277983  0.020395   \n",
       "AcceptedCmp1             0.096704      0.243649      0.405507 -0.025089   \n",
       "AcceptedCmp2             0.071867      0.294891      0.223621 -0.011272   \n",
       "AcceptedCmp3             1.000000     -0.080097      0.081817  0.009644   \n",
       "AcceptedCmp4            -0.080097      1.000000      0.313644 -0.027210   \n",
       "AcceptedCmp5             0.081817      0.313644      1.000000 -0.008407   \n",
       "Complain                 0.009644     -0.027210     -0.008407  1.000000   \n",
       "Z_CostContact                 NaN           NaN           NaN       NaN   \n",
       "Z_Revenue                     NaN           NaN           NaN       NaN   \n",
       "Year_Customer           -0.008907      0.008977     -0.024440  0.024867   \n",
       "\n",
       "                     Z_CostContact  Z_Revenue  Year_Customer  \n",
       "Income                         NaN        NaN      -0.026643  \n",
       "Teenhome                       NaN        NaN       0.009624  \n",
       "Recency                        NaN        NaN       0.030068  \n",
       "MntWines                       NaN        NaN       0.153334  \n",
       "MntFruits                      NaN        NaN       0.053836  \n",
       "MntMeatProducts                NaN        NaN       0.081105  \n",
       "MntFishProducts                NaN        NaN       0.067086  \n",
       "MntSweetProducts               NaN        NaN       0.072718  \n",
       "MntGoldProds                   NaN        NaN       0.142909  \n",
       "NumDealsPurchases              NaN        NaN       0.188527  \n",
       "NumWebPurchases                NaN        NaN       0.167320  \n",
       "NumCatalogPurchases            NaN        NaN       0.086309  \n",
       "NumStorePurchases              NaN        NaN       0.095251  \n",
       "NumWebVisitsMonth              NaN        NaN       0.254319  \n",
       "AcceptedCmp1                   NaN        NaN      -0.040897  \n",
       "AcceptedCmp2                   NaN        NaN      -0.000958  \n",
       "AcceptedCmp3                   NaN        NaN      -0.008907  \n",
       "AcceptedCmp4                   NaN        NaN       0.008977  \n",
       "AcceptedCmp5                   NaN        NaN      -0.024440  \n",
       "Complain                       NaN        NaN       0.024867  \n",
       "Z_CostContact                  NaN        NaN            NaN  \n",
       "Z_Revenue                      NaN        NaN            NaN  \n",
       "Year_Customer                  NaN        NaN       1.000000  "
      ]
     },
     "execution_count": 56,
     "metadata": {},
     "output_type": "execute_result"
    }
   ],
   "source": [
    "correlation"
   ]
  },
  {
   "cell_type": "code",
   "execution_count": 57,
   "id": "dbcf27df",
   "metadata": {
    "execution": {
     "iopub.execute_input": "2023-01-29T23:12:21.365903Z",
     "iopub.status.busy": "2023-01-29T23:12:21.365437Z",
     "iopub.status.idle": "2023-01-29T23:12:21.905333Z",
     "shell.execute_reply": "2023-01-29T23:12:21.904105Z"
    },
    "papermill": {
     "duration": 0.57731,
     "end_time": "2023-01-29T23:12:21.907865",
     "exception": false,
     "start_time": "2023-01-29T23:12:21.330555",
     "status": "completed"
    },
    "tags": []
   },
   "outputs": [
    {
     "data": {
      "text/plain": [
       "<AxesSubplot:>"
      ]
     },
     "execution_count": 57,
     "metadata": {},
     "output_type": "execute_result"
    },
    {
     "data": {
      "image/png": "[encoded data removed]",
      "text/plain": [
       "<Figure size 432x288 with 2 Axes>"
      ]
     },
     "metadata": {
      "needs_background": "light"
     },
     "output_type": "display_data"
    }
   ],
   "source": [
    "sns.heatmap(correlation, mask=mask, cmap=cmap, vmax=.3, center=0,\n",
    "            square=True, linewidths=.5, cbar_kws={\"shrink\": .5})"
   ]
  },
  {
   "cell_type": "code",
   "execution_count": 58,
   "id": "87b268ce",
   "metadata": {
    "execution": {
     "iopub.execute_input": "2023-01-29T23:12:21.977294Z",
     "iopub.status.busy": "2023-01-29T23:12:21.976487Z",
     "iopub.status.idle": "2023-01-29T23:12:22.125085Z",
     "shell.execute_reply": "2023-01-29T23:12:22.123890Z"
    },
    "papermill": {
     "duration": 0.186923,
     "end_time": "2023-01-29T23:12:22.128289",
     "exception": false,
     "start_time": "2023-01-29T23:12:21.941366",
     "status": "completed"
    },
    "tags": []
   },
   "outputs": [],
   "source": [
    "from sklearn.neighbors import KNeighborsClassifier\n",
    "from sklearn.model_selection import train_test_split\n",
    "from sklearn import metrics"
   ]
  },
  {
   "cell_type": "code",
   "execution_count": 59,
   "id": "11ee37ac",
   "metadata": {
    "execution": {
     "iopub.execute_input": "2023-01-29T23:12:22.198785Z",
     "iopub.status.busy": "2023-01-29T23:12:22.197666Z",
     "iopub.status.idle": "2023-01-29T23:12:22.205213Z",
     "shell.execute_reply": "2023-01-29T23:12:22.204107Z"
    },
    "papermill": {
     "duration": 0.045828,
     "end_time": "2023-01-29T23:12:22.207864",
     "exception": false,
     "start_time": "2023-01-29T23:12:22.162036",
     "status": "completed"
    },
    "tags": []
   },
   "outputs": [],
   "source": [
    "train, test = train_test_split(data, test_size = 0.3)"
   ]
  },
  {
   "cell_type": "code",
   "execution_count": 60,
   "id": "563a0eed",
   "metadata": {
    "execution": {
     "iopub.execute_input": "2023-01-29T23:12:22.278159Z",
     "iopub.status.busy": "2023-01-29T23:12:22.277363Z",
     "iopub.status.idle": "2023-01-29T23:12:22.285113Z",
     "shell.execute_reply": "2023-01-29T23:12:22.283799Z"
    },
    "papermill": {
     "duration": 0.046239,
     "end_time": "2023-01-29T23:12:22.287931",
     "exception": false,
     "start_time": "2023-01-29T23:12:22.241692",
     "status": "completed"
    },
    "tags": []
   },
   "outputs": [],
   "source": [
    "train_X = train[['Income','Kidhome','Teenhome']]\n",
    "train_y = train.Response\n",
    "test_X = test[['Income','Kidhome','Teenhome']]\n",
    "test_y = test.Response"
   ]
  },
  {
   "cell_type": "code",
   "execution_count": 61,
   "id": "e231cd4d",
   "metadata": {
    "execution": {
     "iopub.execute_input": "2023-01-29T23:12:22.357398Z",
     "iopub.status.busy": "2023-01-29T23:12:22.356978Z",
     "iopub.status.idle": "2023-01-29T23:12:22.584977Z",
     "shell.execute_reply": "2023-01-29T23:12:22.583899Z"
    },
    "papermill": {
     "duration": 0.266014,
     "end_time": "2023-01-29T23:12:22.587791",
     "exception": false,
     "start_time": "2023-01-29T23:12:22.321777",
     "status": "completed"
    },
    "tags": []
   },
   "outputs": [],
   "source": [
    "neighborList = []\n",
    "accuracyList = []\n",
    "aucList = []\n",
    "for i in range(1,10):\n",
    "    model = KNeighborsClassifier(n_neighbors=i)\n",
    "    model.fit(train_X,train_y)\n",
    "    prediction=model.predict(test_X)\n",
    "    accuracy = metrics.accuracy_score(prediction,test_y)*100\n",
    "    auc = roc_auc_score(prediction, test_y)\n",
    "    neighborList.append(i)\n",
    "    accuracyList.append(accuracy)\n",
    "    aucList.append(auc)"
   ]
  },
  {
   "cell_type": "code",
   "execution_count": 62,
   "id": "7b509a48",
   "metadata": {
    "execution": {
     "iopub.execute_input": "2023-01-29T23:12:22.657813Z",
     "iopub.status.busy": "2023-01-29T23:12:22.657418Z",
     "iopub.status.idle": "2023-01-29T23:12:22.907603Z",
     "shell.execute_reply": "2023-01-29T23:12:22.906430Z"
    },
    "papermill": {
     "duration": 0.288607,
     "end_time": "2023-01-29T23:12:22.910138",
     "exception": false,
     "start_time": "2023-01-29T23:12:22.621531",
     "status": "completed"
    },
    "tags": []
   },
   "outputs": [
    {
     "data": {
      "text/plain": [
       "<AxesSubplot:>"
      ]
     },
     "execution_count": 62,
     "metadata": {},
     "output_type": "execute_result"
    },
    {
     "data": {
      "image/png": "[encoded data removed]",
      "text/plain": [
       "<Figure size 432x288 with 1 Axes>"
      ]
     },
     "metadata": {
      "needs_background": "light"
     },
     "output_type": "display_data"
    }
   ],
   "source": [
    "sns.lineplot(x=neighborList, y=accuracyList)"
   ]
  },
  {
   "cell_type": "code",
   "execution_count": 63,
   "id": "76e3872f",
   "metadata": {
    "execution": {
     "iopub.execute_input": "2023-01-29T23:12:23.001155Z",
     "iopub.status.busy": "2023-01-29T23:12:23.000361Z",
     "iopub.status.idle": "2023-01-29T23:12:23.242548Z",
     "shell.execute_reply": "2023-01-29T23:12:23.241443Z"
    },
    "papermill": {
     "duration": 0.294363,
     "end_time": "2023-01-29T23:12:23.244991",
     "exception": false,
     "start_time": "2023-01-29T23:12:22.950628",
     "status": "completed"
    },
    "tags": []
   },
   "outputs": [
    {
     "data": {
      "text/plain": [
       "<AxesSubplot:>"
      ]
     },
     "execution_count": 63,
     "metadata": {},
     "output_type": "execute_result"
    },
    {
     "data": {
      "image/png": "[encoded data removed]",
      "text/plain": [
       "<Figure size 432x288 with 1 Axes>"
      ]
     },
     "metadata": {
      "needs_background": "light"
     },
     "output_type": "display_data"
    }
   ],
   "source": [
    "sns.lineplot(x=neighborList, y=aucList)"
   ]
  }
 ],
 "metadata": {
  "kernelspec": {
   "display_name": "Python 3",
   "language": "python",
   "name": "python3"
  },
  "language_info": {
   "codemirror_mode": {
    "name": "ipython",
    "version": 3
   },
   "file_extension": ".py",
   "mimetype": "text/x-python",
   "name": "python",
   "nbconvert_exporter": "python",
   "pygments_lexer": "ipython3",
   "version": "3.7.12"
  },
  "papermill": {
   "default_parameters": {},
   "duration": 28.236205,
   "end_time": "2023-01-29T23:12:24.302339",
   "environment_variables": {},
   "exception": null,
   "input_path": "__notebook__.ipynb",
   "output_path": "__notebook__.ipynb",
   "parameters": {},
   "start_time": "2023-01-29T23:11:56.066134",
   "version": "2.3.4"
  }
 },
 "nbformat": 4,
 "nbformat_minor": 5
}
