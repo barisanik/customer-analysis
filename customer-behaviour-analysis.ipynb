{
 "cells": [
  {
   "cell_type": "markdown",
   "id": "95cd942d",
   "metadata": {
    "papermill": {
     "duration": 0.017709,
     "end_time": "2023-01-29T22:58:49.217094",
     "exception": false,
     "start_time": "2023-01-29T22:58:49.199385",
     "status": "completed"
    },
    "tags": []
   },
   "source": [
    "<h1>Attributes</h1>\n",
    "<p>\n",
    "    <b>People</b>\n",
    "<hr>\n",
    "<b>ID:</b> Customer's unique identifier<br>\n",
    "<b>Year_Birth:</b> Customer's birth year<br>\n",
    "<b>Education:</b> Customer's education level<br>\n",
    "<b>Marital_Status:</b> Customer's marital status<br>\n",
    "<b>Income:</b> Customer's yearly household income<br>\n",
    "<b>Kidhome:</b> Number of children in customer's household<br>\n",
    "<b>Teenhome:</b> Number of teenagers in customer's household<br>\n",
    "<b>Dt_Customer:</b> Date of customer's enrollment with the company<br>\n",
    "<b>Recency:</b> Number of days since customer's last purchase<br>\n",
    "<b>Complain:</b> 1 if the customer complained in the last 2 years, 0 otherwise\n",
    "<br><br>\n",
    "    <b>Products</b>\n",
    "<hr>\n",
    "<b>MntWines:</b> Amount spent on wine in last 2 years<br>\n",
    "<b>MntFruits:</b> Amount spent on fruits in last 2 years<br>\n",
    "<b>MntMeatProducts:</b> Amount spent on meat in last 2 years<br>\n",
    "<b>MntFishProducts:</b> Amount spent on fish in last 2 years<br>\n",
    "<b>MntSweetProducts:</b> Amount spent on sweets in last 2 years<br>\n",
    "<b>MntGoldProds:</b> Amount spent on gold in last 2 years\n",
    "<br><br>\n",
    "    <b>Promotion</b>\n",
    "<hr>\n",
    "<b>NumDealsPurchases:</b> Number of purchases made with a discount<br>\n",
    "<b>AcceptedCmp1:</b> 1 if customer accepted the offer in the 1st campaign, 0 otherwise<br>\n",
    "<b>AcceptedCmp2:</b> 1 if customer accepted the offer in the 2nd campaign, 0 otherwise<br>\n",
    "<b>AcceptedCmp3:</b> 1 if customer accepted the offer in the 3rd campaign, 0 otherwise<br>\n",
    "<b>AcceptedCmp4:</b> 1 if customer accepted the offer in the 4th campaign, 0 otherwise<br>\n",
    "<b>AcceptedCmp5:</b> 1 if customer accepted the offer in the 5th campaign, 0 otherwise<br>\n",
    "<b>Response:</b> 1 if customer accepted the offer in the last campaign, 0 otherwise\n",
    "<br><br>\n",
    "    <b>Place</b>\n",
    "<hr>\n",
    "<b>NumWebPurchases:</b> Number of purchases made through the company’s website<br>\n",
    "<b>NumCatalogPurchases:</b> Number of purchases made using a catalogue<br>\n",
    "<b>NumStorePurchases:</b> Number of purchases made directly in stores<br>\n",
    "<b>NumWebVisitsMonth:</b> Number of visits to company’s website in the last month<br>\n",
    "</p>"
   ]
  },
  {
   "cell_type": "code",
   "execution_count": 1,
   "id": "48d9f908",
   "metadata": {
    "execution": {
     "iopub.execute_input": "2023-01-29T22:58:49.253879Z",
     "iopub.status.busy": "2023-01-29T22:58:49.253426Z",
     "iopub.status.idle": "2023-01-29T22:58:50.143898Z",
     "shell.execute_reply": "2023-01-29T22:58:50.143019Z"
    },
    "papermill": {
     "duration": 0.911639,
     "end_time": "2023-01-29T22:58:50.146205",
     "exception": false,
     "start_time": "2023-01-29T22:58:49.234566",
     "status": "completed"
    },
    "tags": []
   },
   "outputs": [],
   "source": [
    "import pandas as pd\n",
    "import warnings \n",
    "import seaborn as sns\n",
    "import numpy as np\n",
    "import matplotlib.pyplot as plt\n",
    "from sklearn.metrics import roc_auc_score\n",
    "warnings.filterwarnings('ignore')\n",
    "pd.set_option('display.max_columns', None)"
   ]
  },
  {
   "cell_type": "markdown",
   "id": "adce1f18",
   "metadata": {
    "papermill": {
     "duration": 0.016224,
     "end_time": "2023-01-29T22:58:50.179465",
     "exception": false,
     "start_time": "2023-01-29T22:58:50.163241",
     "status": "completed"
    },
    "tags": []
   },
   "source": [
    "# Table of Contents\n",
    "\n",
    "* [1. Pre-Processing](#1)\n",
    "* [2. Visualization and Exploratory Analysis](#2)\n"
   ]
  },
  {
   "cell_type": "markdown",
   "id": "21a3e928",
   "metadata": {
    "papermill": {
     "duration": 0.016406,
     "end_time": "2023-01-29T22:58:50.212367",
     "exception": false,
     "start_time": "2023-01-29T22:58:50.195961",
     "status": "completed"
    },
    "tags": []
   },
   "source": [
    "# <p id = \"1\" style=\"font-family:arial;background-color:#2A93D5;color:#FFFFFF;font-size: 150%;text-align:center;border-radius: 0px 15px 15px 0px;border-style: solid;border-color: #2483bf;\">1.PRE-PROCESSING</p>\n",
    "[Click to return Table of Contents](#0)"
   ]
  },
  {
   "cell_type": "code",
   "execution_count": 2,
   "id": "e00e9931",
   "metadata": {
    "execution": {
     "iopub.execute_input": "2023-01-29T22:58:50.247198Z",
     "iopub.status.busy": "2023-01-29T22:58:50.246686Z",
     "iopub.status.idle": "2023-01-29T22:58:50.301133Z",
     "shell.execute_reply": "2023-01-29T22:58:50.300314Z"
    },
    "papermill": {
     "duration": 0.074394,
     "end_time": "2023-01-29T22:58:50.303195",
     "exception": false,
     "start_time": "2023-01-29T22:58:50.228801",
     "status": "completed"
    },
    "tags": []
   },
   "outputs": [
    {
     "data": {
      "text/html": [
       "<div>\n",
       "<style scoped>\n",
       "    .dataframe tbody tr th:only-of-type {\n",
       "        vertical-align: middle;\n",
       "    }\n",
       "\n",
       "    .dataframe tbody tr th {\n",
       "        vertical-align: top;\n",
       "    }\n",
       "\n",
       "    .dataframe thead th {\n",
       "        text-align: right;\n",
       "    }\n",
       "</style>\n",
       "<table border=\"1\" class=\"dataframe\">\n",
       "  <thead>\n",
       "    <tr style=\"text-align: right;\">\n",
       "      <th></th>\n",
       "      <th>ID</th>\n",
       "      <th>Year_Birth</th>\n",
       "      <th>Education</th>\n",
       "      <th>Marital_Status</th>\n",
       "      <th>Income</th>\n",
       "      <th>Kidhome</th>\n",
       "      <th>Teenhome</th>\n",
       "      <th>Dt_Customer</th>\n",
       "      <th>Recency</th>\n",
       "      <th>MntWines</th>\n",
       "      <th>MntFruits</th>\n",
       "      <th>MntMeatProducts</th>\n",
       "      <th>MntFishProducts</th>\n",
       "      <th>MntSweetProducts</th>\n",
       "      <th>MntGoldProds</th>\n",
       "      <th>NumDealsPurchases</th>\n",
       "      <th>NumWebPurchases</th>\n",
       "      <th>NumCatalogPurchases</th>\n",
       "      <th>NumStorePurchases</th>\n",
       "      <th>NumWebVisitsMonth</th>\n",
       "      <th>AcceptedCmp3</th>\n",
       "      <th>AcceptedCmp4</th>\n",
       "      <th>AcceptedCmp5</th>\n",
       "      <th>AcceptedCmp1</th>\n",
       "      <th>AcceptedCmp2</th>\n",
       "      <th>Complain</th>\n",
       "      <th>Z_CostContact</th>\n",
       "      <th>Z_Revenue</th>\n",
       "      <th>Response</th>\n",
       "    </tr>\n",
       "  </thead>\n",
       "  <tbody>\n",
       "    <tr>\n",
       "      <th>0</th>\n",
       "      <td>5524</td>\n",
       "      <td>1957</td>\n",
       "      <td>Graduation</td>\n",
       "      <td>Single</td>\n",
       "      <td>58138.0</td>\n",
       "      <td>0</td>\n",
       "      <td>0</td>\n",
       "      <td>04-09-2012</td>\n",
       "      <td>58</td>\n",
       "      <td>635</td>\n",
       "      <td>88</td>\n",
       "      <td>546</td>\n",
       "      <td>172</td>\n",
       "      <td>88</td>\n",
       "      <td>88</td>\n",
       "      <td>3</td>\n",
       "      <td>8</td>\n",
       "      <td>10</td>\n",
       "      <td>4</td>\n",
       "      <td>7</td>\n",
       "      <td>0</td>\n",
       "      <td>0</td>\n",
       "      <td>0</td>\n",
       "      <td>0</td>\n",
       "      <td>0</td>\n",
       "      <td>0</td>\n",
       "      <td>3</td>\n",
       "      <td>11</td>\n",
       "      <td>1</td>\n",
       "    </tr>\n",
       "    <tr>\n",
       "      <th>1</th>\n",
       "      <td>2174</td>\n",
       "      <td>1954</td>\n",
       "      <td>Graduation</td>\n",
       "      <td>Single</td>\n",
       "      <td>46344.0</td>\n",
       "      <td>1</td>\n",
       "      <td>1</td>\n",
       "      <td>08-03-2014</td>\n",
       "      <td>38</td>\n",
       "      <td>11</td>\n",
       "      <td>1</td>\n",
       "      <td>6</td>\n",
       "      <td>2</td>\n",
       "      <td>1</td>\n",
       "      <td>6</td>\n",
       "      <td>2</td>\n",
       "      <td>1</td>\n",
       "      <td>1</td>\n",
       "      <td>2</td>\n",
       "      <td>5</td>\n",
       "      <td>0</td>\n",
       "      <td>0</td>\n",
       "      <td>0</td>\n",
       "      <td>0</td>\n",
       "      <td>0</td>\n",
       "      <td>0</td>\n",
       "      <td>3</td>\n",
       "      <td>11</td>\n",
       "      <td>0</td>\n",
       "    </tr>\n",
       "    <tr>\n",
       "      <th>2</th>\n",
       "      <td>4141</td>\n",
       "      <td>1965</td>\n",
       "      <td>Graduation</td>\n",
       "      <td>Together</td>\n",
       "      <td>71613.0</td>\n",
       "      <td>0</td>\n",
       "      <td>0</td>\n",
       "      <td>21-08-2013</td>\n",
       "      <td>26</td>\n",
       "      <td>426</td>\n",
       "      <td>49</td>\n",
       "      <td>127</td>\n",
       "      <td>111</td>\n",
       "      <td>21</td>\n",
       "      <td>42</td>\n",
       "      <td>1</td>\n",
       "      <td>8</td>\n",
       "      <td>2</td>\n",
       "      <td>10</td>\n",
       "      <td>4</td>\n",
       "      <td>0</td>\n",
       "      <td>0</td>\n",
       "      <td>0</td>\n",
       "      <td>0</td>\n",
       "      <td>0</td>\n",
       "      <td>0</td>\n",
       "      <td>3</td>\n",
       "      <td>11</td>\n",
       "      <td>0</td>\n",
       "    </tr>\n",
       "    <tr>\n",
       "      <th>3</th>\n",
       "      <td>6182</td>\n",
       "      <td>1984</td>\n",
       "      <td>Graduation</td>\n",
       "      <td>Together</td>\n",
       "      <td>26646.0</td>\n",
       "      <td>1</td>\n",
       "      <td>0</td>\n",
       "      <td>10-02-2014</td>\n",
       "      <td>26</td>\n",
       "      <td>11</td>\n",
       "      <td>4</td>\n",
       "      <td>20</td>\n",
       "      <td>10</td>\n",
       "      <td>3</td>\n",
       "      <td>5</td>\n",
       "      <td>2</td>\n",
       "      <td>2</td>\n",
       "      <td>0</td>\n",
       "      <td>4</td>\n",
       "      <td>6</td>\n",
       "      <td>0</td>\n",
       "      <td>0</td>\n",
       "      <td>0</td>\n",
       "      <td>0</td>\n",
       "      <td>0</td>\n",
       "      <td>0</td>\n",
       "      <td>3</td>\n",
       "      <td>11</td>\n",
       "      <td>0</td>\n",
       "    </tr>\n",
       "    <tr>\n",
       "      <th>4</th>\n",
       "      <td>5324</td>\n",
       "      <td>1981</td>\n",
       "      <td>PhD</td>\n",
       "      <td>Married</td>\n",
       "      <td>58293.0</td>\n",
       "      <td>1</td>\n",
       "      <td>0</td>\n",
       "      <td>19-01-2014</td>\n",
       "      <td>94</td>\n",
       "      <td>173</td>\n",
       "      <td>43</td>\n",
       "      <td>118</td>\n",
       "      <td>46</td>\n",
       "      <td>27</td>\n",
       "      <td>15</td>\n",
       "      <td>5</td>\n",
       "      <td>5</td>\n",
       "      <td>3</td>\n",
       "      <td>6</td>\n",
       "      <td>5</td>\n",
       "      <td>0</td>\n",
       "      <td>0</td>\n",
       "      <td>0</td>\n",
       "      <td>0</td>\n",
       "      <td>0</td>\n",
       "      <td>0</td>\n",
       "      <td>3</td>\n",
       "      <td>11</td>\n",
       "      <td>0</td>\n",
       "    </tr>\n",
       "  </tbody>\n",
       "</table>\n",
       "</div>"
      ],
      "text/plain": [
       "     ID  Year_Birth   Education Marital_Status   Income  Kidhome  Teenhome  \\\n",
       "0  5524        1957  Graduation         Single  58138.0        0         0   \n",
       "1  2174        1954  Graduation         Single  46344.0        1         1   \n",
       "2  4141        1965  Graduation       Together  71613.0        0         0   \n",
       "3  6182        1984  Graduation       Together  26646.0        1         0   \n",
       "4  5324        1981         PhD        Married  58293.0        1         0   \n",
       "\n",
       "  Dt_Customer  Recency  MntWines  MntFruits  MntMeatProducts  MntFishProducts  \\\n",
       "0  04-09-2012       58       635         88              546              172   \n",
       "1  08-03-2014       38        11          1                6                2   \n",
       "2  21-08-2013       26       426         49              127              111   \n",
       "3  10-02-2014       26        11          4               20               10   \n",
       "4  19-01-2014       94       173         43              118               46   \n",
       "\n",
       "   MntSweetProducts  MntGoldProds  NumDealsPurchases  NumWebPurchases  \\\n",
       "0                88            88                  3                8   \n",
       "1                 1             6                  2                1   \n",
       "2                21            42                  1                8   \n",
       "3                 3             5                  2                2   \n",
       "4                27            15                  5                5   \n",
       "\n",
       "   NumCatalogPurchases  NumStorePurchases  NumWebVisitsMonth  AcceptedCmp3  \\\n",
       "0                   10                  4                  7             0   \n",
       "1                    1                  2                  5             0   \n",
       "2                    2                 10                  4             0   \n",
       "3                    0                  4                  6             0   \n",
       "4                    3                  6                  5             0   \n",
       "\n",
       "   AcceptedCmp4  AcceptedCmp5  AcceptedCmp1  AcceptedCmp2  Complain  \\\n",
       "0             0             0             0             0         0   \n",
       "1             0             0             0             0         0   \n",
       "2             0             0             0             0         0   \n",
       "3             0             0             0             0         0   \n",
       "4             0             0             0             0         0   \n",
       "\n",
       "   Z_CostContact  Z_Revenue  Response  \n",
       "0              3         11         1  \n",
       "1              3         11         0  \n",
       "2              3         11         0  \n",
       "3              3         11         0  \n",
       "4              3         11         0  "
      ]
     },
     "execution_count": 2,
     "metadata": {},
     "output_type": "execute_result"
    }
   ],
   "source": [
    "data = pd.read_csv('../input/customer-personality-analysis/marketing_campaign.csv', sep='\\t')\n",
    "data.head()"
   ]
  },
  {
   "cell_type": "code",
   "execution_count": 3,
   "id": "9a397ad9",
   "metadata": {
    "execution": {
     "iopub.execute_input": "2023-01-29T22:58:50.338852Z",
     "iopub.status.busy": "2023-01-29T22:58:50.338391Z",
     "iopub.status.idle": "2023-01-29T22:58:50.359164Z",
     "shell.execute_reply": "2023-01-29T22:58:50.357856Z"
    },
    "papermill": {
     "duration": 0.040809,
     "end_time": "2023-01-29T22:58:50.361255",
     "exception": false,
     "start_time": "2023-01-29T22:58:50.320446",
     "status": "completed"
    },
    "tags": []
   },
   "outputs": [
    {
     "name": "stdout",
     "output_type": "stream",
     "text": [
      "<class 'pandas.core.frame.DataFrame'>\n",
      "RangeIndex: 2240 entries, 0 to 2239\n",
      "Data columns (total 29 columns):\n",
      " #   Column               Non-Null Count  Dtype  \n",
      "---  ------               --------------  -----  \n",
      " 0   ID                   2240 non-null   int64  \n",
      " 1   Year_Birth           2240 non-null   int64  \n",
      " 2   Education            2240 non-null   object \n",
      " 3   Marital_Status       2240 non-null   object \n",
      " 4   Income               2216 non-null   float64\n",
      " 5   Kidhome              2240 non-null   int64  \n",
      " 6   Teenhome             2240 non-null   int64  \n",
      " 7   Dt_Customer          2240 non-null   object \n",
      " 8   Recency              2240 non-null   int64  \n",
      " 9   MntWines             2240 non-null   int64  \n",
      " 10  MntFruits            2240 non-null   int64  \n",
      " 11  MntMeatProducts      2240 non-null   int64  \n",
      " 12  MntFishProducts      2240 non-null   int64  \n",
      " 13  MntSweetProducts     2240 non-null   int64  \n",
      " 14  MntGoldProds         2240 non-null   int64  \n",
      " 15  NumDealsPurchases    2240 non-null   int64  \n",
      " 16  NumWebPurchases      2240 non-null   int64  \n",
      " 17  NumCatalogPurchases  2240 non-null   int64  \n",
      " 18  NumStorePurchases    2240 non-null   int64  \n",
      " 19  NumWebVisitsMonth    2240 non-null   int64  \n",
      " 20  AcceptedCmp3         2240 non-null   int64  \n",
      " 21  AcceptedCmp4         2240 non-null   int64  \n",
      " 22  AcceptedCmp5         2240 non-null   int64  \n",
      " 23  AcceptedCmp1         2240 non-null   int64  \n",
      " 24  AcceptedCmp2         2240 non-null   int64  \n",
      " 25  Complain             2240 non-null   int64  \n",
      " 26  Z_CostContact        2240 non-null   int64  \n",
      " 27  Z_Revenue            2240 non-null   int64  \n",
      " 28  Response             2240 non-null   int64  \n",
      "dtypes: float64(1), int64(25), object(3)\n",
      "memory usage: 507.6+ KB\n"
     ]
    }
   ],
   "source": [
    "data.info()"
   ]
  },
  {
   "cell_type": "markdown",
   "id": "ae28c89a",
   "metadata": {
    "papermill": {
     "duration": 0.016736,
     "end_time": "2023-01-29T22:58:50.395881",
     "exception": false,
     "start_time": "2023-01-29T22:58:50.379145",
     "status": "completed"
    },
    "tags": []
   },
   "source": [
    "**Checks the null distribution between columns:**"
   ]
  },
  {
   "cell_type": "code",
   "execution_count": 4,
   "id": "db5d1f59",
   "metadata": {
    "execution": {
     "iopub.execute_input": "2023-01-29T22:58:50.433150Z",
     "iopub.status.busy": "2023-01-29T22:58:50.432844Z",
     "iopub.status.idle": "2023-01-29T22:58:50.439793Z",
     "shell.execute_reply": "2023-01-29T22:58:50.439232Z"
    },
    "papermill": {
     "duration": 0.026601,
     "end_time": "2023-01-29T22:58:50.441509",
     "exception": false,
     "start_time": "2023-01-29T22:58:50.414908",
     "status": "completed"
    },
    "tags": []
   },
   "outputs": [
    {
     "data": {
      "text/plain": [
       "ID                      0\n",
       "Year_Birth              0\n",
       "Education               0\n",
       "Marital_Status          0\n",
       "Income                 24\n",
       "Kidhome                 0\n",
       "Teenhome                0\n",
       "Dt_Customer             0\n",
       "Recency                 0\n",
       "MntWines                0\n",
       "MntFruits               0\n",
       "MntMeatProducts         0\n",
       "MntFishProducts         0\n",
       "MntSweetProducts        0\n",
       "MntGoldProds            0\n",
       "NumDealsPurchases       0\n",
       "NumWebPurchases         0\n",
       "NumCatalogPurchases     0\n",
       "NumStorePurchases       0\n",
       "NumWebVisitsMonth       0\n",
       "AcceptedCmp3            0\n",
       "AcceptedCmp4            0\n",
       "AcceptedCmp5            0\n",
       "AcceptedCmp1            0\n",
       "AcceptedCmp2            0\n",
       "Complain                0\n",
       "Z_CostContact           0\n",
       "Z_Revenue               0\n",
       "Response                0\n",
       "dtype: int64"
      ]
     },
     "execution_count": 4,
     "metadata": {},
     "output_type": "execute_result"
    }
   ],
   "source": [
    "data.isna().sum()"
   ]
  },
  {
   "cell_type": "markdown",
   "id": "afbf0eda",
   "metadata": {
    "papermill": {
     "duration": 0.017103,
     "end_time": "2023-01-29T22:58:50.475493",
     "exception": false,
     "start_time": "2023-01-29T22:58:50.458390",
     "status": "completed"
    },
    "tags": []
   },
   "source": [
    "**Drops the rows with null values:**"
   ]
  },
  {
   "cell_type": "code",
   "execution_count": 5,
   "id": "9453789f",
   "metadata": {
    "execution": {
     "iopub.execute_input": "2023-01-29T22:58:50.512807Z",
     "iopub.status.busy": "2023-01-29T22:58:50.512298Z",
     "iopub.status.idle": "2023-01-29T22:58:50.518502Z",
     "shell.execute_reply": "2023-01-29T22:58:50.517916Z"
    },
    "papermill": {
     "duration": 0.0267,
     "end_time": "2023-01-29T22:58:50.520033",
     "exception": false,
     "start_time": "2023-01-29T22:58:50.493333",
     "status": "completed"
    },
    "tags": []
   },
   "outputs": [],
   "source": [
    "data.drop(index=(data[data['Income'].isna()].index), axis = 0, inplace=True)"
   ]
  },
  {
   "cell_type": "markdown",
   "id": "d101e05b",
   "metadata": {
    "papermill": {
     "duration": 0.017007,
     "end_time": "2023-01-29T22:58:50.554522",
     "exception": false,
     "start_time": "2023-01-29T22:58:50.537515",
     "status": "completed"
    },
    "tags": []
   },
   "source": [
    "**Conversion of column type:**"
   ]
  },
  {
   "cell_type": "code",
   "execution_count": 6,
   "id": "22408d5e",
   "metadata": {
    "execution": {
     "iopub.execute_input": "2023-01-29T22:58:50.590150Z",
     "iopub.status.busy": "2023-01-29T22:58:50.589834Z",
     "iopub.status.idle": "2023-01-29T22:58:50.599628Z",
     "shell.execute_reply": "2023-01-29T22:58:50.599060Z"
    },
    "papermill": {
     "duration": 0.029274,
     "end_time": "2023-01-29T22:58:50.601077",
     "exception": false,
     "start_time": "2023-01-29T22:58:50.571803",
     "status": "completed"
    },
    "tags": []
   },
   "outputs": [],
   "source": [
    "from pandas.api.types import CategoricalDtype\n",
    "education_ordered= CategoricalDtype(categories=['Basic','2n Cycle','Graduation', 'Master', 'PhD'], ordered=True)\n",
    "data['Education'] = data['Education'].astype(education_ordered)\n",
    "data['Dt_Customer'] = pd.to_datetime(data['Dt_Customer'])"
   ]
  },
  {
   "cell_type": "markdown",
   "id": "100a4e6c",
   "metadata": {
    "papermill": {
     "duration": 0.017097,
     "end_time": "2023-01-29T22:58:50.635476",
     "exception": false,
     "start_time": "2023-01-29T22:58:50.618379",
     "status": "completed"
    },
    "tags": []
   },
   "source": [
    "**Calculating the year and day difference with Dt_Customer column.**"
   ]
  },
  {
   "cell_type": "code",
   "execution_count": 7,
   "id": "f181dd4c",
   "metadata": {
    "execution": {
     "iopub.execute_input": "2023-01-29T22:58:50.672695Z",
     "iopub.status.busy": "2023-01-29T22:58:50.672171Z",
     "iopub.status.idle": "2023-01-29T22:58:50.675537Z",
     "shell.execute_reply": "2023-01-29T22:58:50.674980Z"
    },
    "papermill": {
     "duration": 0.023971,
     "end_time": "2023-01-29T22:58:50.677118",
     "exception": false,
     "start_time": "2023-01-29T22:58:50.653147",
     "status": "completed"
    },
    "tags": []
   },
   "outputs": [],
   "source": [
    "from datetime import datetime\n",
    "currentYear = datetime.now().year"
   ]
  },
  {
   "cell_type": "code",
   "execution_count": 8,
   "id": "2b8d10f6",
   "metadata": {
    "execution": {
     "iopub.execute_input": "2023-01-29T22:58:50.713536Z",
     "iopub.status.busy": "2023-01-29T22:58:50.713038Z",
     "iopub.status.idle": "2023-01-29T22:58:50.746076Z",
     "shell.execute_reply": "2023-01-29T22:58:50.745234Z"
    },
    "papermill": {
     "duration": 0.053343,
     "end_time": "2023-01-29T22:58:50.748133",
     "exception": false,
     "start_time": "2023-01-29T22:58:50.694790",
     "status": "completed"
    },
    "tags": []
   },
   "outputs": [],
   "source": [
    "data['Year_Customer'] = data['Dt_Customer'].dt.year.apply(lambda x : currentYear - x)\n",
    "data['DayDiff_Customer'] = data['Dt_Customer'].apply(lambda x : datetime.now() - x)\n",
    "data['DayDiff_Customer'] = data['DayDiff_Customer'].dt.days\n",
    "data.drop(['Dt_Customer'], axis = 1, inplace = True)"
   ]
  },
  {
   "cell_type": "markdown",
   "id": "8612b8d8",
   "metadata": {
    "papermill": {
     "duration": 0.017597,
     "end_time": "2023-01-29T22:58:50.783214",
     "exception": false,
     "start_time": "2023-01-29T22:58:50.765617",
     "status": "completed"
    },
    "tags": []
   },
   "source": [
    "<hr>\n",
    "\n",
    "# Age Variable"
   ]
  },
  {
   "cell_type": "markdown",
   "id": "181c1d09",
   "metadata": {
    "papermill": {
     "duration": 0.017282,
     "end_time": "2023-01-29T22:58:50.818124",
     "exception": false,
     "start_time": "2023-01-29T22:58:50.800842",
     "status": "completed"
    },
    "tags": []
   },
   "source": [
    "**Calculates the age of every customer and drops the Year_Birth column:**"
   ]
  },
  {
   "cell_type": "code",
   "execution_count": 9,
   "id": "4fe12544",
   "metadata": {
    "execution": {
     "iopub.execute_input": "2023-01-29T22:58:50.853988Z",
     "iopub.status.busy": "2023-01-29T22:58:50.853664Z",
     "iopub.status.idle": "2023-01-29T22:58:50.873946Z",
     "shell.execute_reply": "2023-01-29T22:58:50.873388Z"
    },
    "papermill": {
     "duration": 0.040093,
     "end_time": "2023-01-29T22:58:50.875447",
     "exception": false,
     "start_time": "2023-01-29T22:58:50.835354",
     "status": "completed"
    },
    "tags": []
   },
   "outputs": [
    {
     "data": {
      "text/html": [
       "<div>\n",
       "<style scoped>\n",
       "    .dataframe tbody tr th:only-of-type {\n",
       "        vertical-align: middle;\n",
       "    }\n",
       "\n",
       "    .dataframe tbody tr th {\n",
       "        vertical-align: top;\n",
       "    }\n",
       "\n",
       "    .dataframe thead th {\n",
       "        text-align: right;\n",
       "    }\n",
       "</style>\n",
       "<table border=\"1\" class=\"dataframe\">\n",
       "  <thead>\n",
       "    <tr style=\"text-align: right;\">\n",
       "      <th></th>\n",
       "      <th>ID</th>\n",
       "      <th>Education</th>\n",
       "      <th>Marital_Status</th>\n",
       "      <th>Income</th>\n",
       "      <th>Kidhome</th>\n",
       "      <th>Teenhome</th>\n",
       "      <th>Recency</th>\n",
       "      <th>MntWines</th>\n",
       "      <th>MntFruits</th>\n",
       "      <th>MntMeatProducts</th>\n",
       "      <th>MntFishProducts</th>\n",
       "      <th>MntSweetProducts</th>\n",
       "      <th>MntGoldProds</th>\n",
       "      <th>NumDealsPurchases</th>\n",
       "      <th>NumWebPurchases</th>\n",
       "      <th>NumCatalogPurchases</th>\n",
       "      <th>NumStorePurchases</th>\n",
       "      <th>NumWebVisitsMonth</th>\n",
       "      <th>AcceptedCmp3</th>\n",
       "      <th>AcceptedCmp4</th>\n",
       "      <th>AcceptedCmp5</th>\n",
       "      <th>AcceptedCmp1</th>\n",
       "      <th>AcceptedCmp2</th>\n",
       "      <th>Complain</th>\n",
       "      <th>Z_CostContact</th>\n",
       "      <th>Z_Revenue</th>\n",
       "      <th>Response</th>\n",
       "      <th>Year_Customer</th>\n",
       "      <th>DayDiff_Customer</th>\n",
       "      <th>Age</th>\n",
       "    </tr>\n",
       "  </thead>\n",
       "  <tbody>\n",
       "    <tr>\n",
       "      <th>0</th>\n",
       "      <td>5524</td>\n",
       "      <td>Graduation</td>\n",
       "      <td>Single</td>\n",
       "      <td>58138.0</td>\n",
       "      <td>0</td>\n",
       "      <td>0</td>\n",
       "      <td>58</td>\n",
       "      <td>635</td>\n",
       "      <td>88</td>\n",
       "      <td>546</td>\n",
       "      <td>172</td>\n",
       "      <td>88</td>\n",
       "      <td>88</td>\n",
       "      <td>3</td>\n",
       "      <td>8</td>\n",
       "      <td>10</td>\n",
       "      <td>4</td>\n",
       "      <td>7</td>\n",
       "      <td>0</td>\n",
       "      <td>0</td>\n",
       "      <td>0</td>\n",
       "      <td>0</td>\n",
       "      <td>0</td>\n",
       "      <td>0</td>\n",
       "      <td>3</td>\n",
       "      <td>11</td>\n",
       "      <td>1</td>\n",
       "      <td>11</td>\n",
       "      <td>3947</td>\n",
       "      <td>66</td>\n",
       "    </tr>\n",
       "    <tr>\n",
       "      <th>1</th>\n",
       "      <td>2174</td>\n",
       "      <td>Graduation</td>\n",
       "      <td>Single</td>\n",
       "      <td>46344.0</td>\n",
       "      <td>1</td>\n",
       "      <td>1</td>\n",
       "      <td>38</td>\n",
       "      <td>11</td>\n",
       "      <td>1</td>\n",
       "      <td>6</td>\n",
       "      <td>2</td>\n",
       "      <td>1</td>\n",
       "      <td>6</td>\n",
       "      <td>2</td>\n",
       "      <td>1</td>\n",
       "      <td>1</td>\n",
       "      <td>2</td>\n",
       "      <td>5</td>\n",
       "      <td>0</td>\n",
       "      <td>0</td>\n",
       "      <td>0</td>\n",
       "      <td>0</td>\n",
       "      <td>0</td>\n",
       "      <td>0</td>\n",
       "      <td>3</td>\n",
       "      <td>11</td>\n",
       "      <td>0</td>\n",
       "      <td>9</td>\n",
       "      <td>3101</td>\n",
       "      <td>69</td>\n",
       "    </tr>\n",
       "    <tr>\n",
       "      <th>2</th>\n",
       "      <td>4141</td>\n",
       "      <td>Graduation</td>\n",
       "      <td>Together</td>\n",
       "      <td>71613.0</td>\n",
       "      <td>0</td>\n",
       "      <td>0</td>\n",
       "      <td>26</td>\n",
       "      <td>426</td>\n",
       "      <td>49</td>\n",
       "      <td>127</td>\n",
       "      <td>111</td>\n",
       "      <td>21</td>\n",
       "      <td>42</td>\n",
       "      <td>1</td>\n",
       "      <td>8</td>\n",
       "      <td>2</td>\n",
       "      <td>10</td>\n",
       "      <td>4</td>\n",
       "      <td>0</td>\n",
       "      <td>0</td>\n",
       "      <td>0</td>\n",
       "      <td>0</td>\n",
       "      <td>0</td>\n",
       "      <td>0</td>\n",
       "      <td>3</td>\n",
       "      <td>11</td>\n",
       "      <td>0</td>\n",
       "      <td>10</td>\n",
       "      <td>3448</td>\n",
       "      <td>58</td>\n",
       "    </tr>\n",
       "    <tr>\n",
       "      <th>3</th>\n",
       "      <td>6182</td>\n",
       "      <td>Graduation</td>\n",
       "      <td>Together</td>\n",
       "      <td>26646.0</td>\n",
       "      <td>1</td>\n",
       "      <td>0</td>\n",
       "      <td>26</td>\n",
       "      <td>11</td>\n",
       "      <td>4</td>\n",
       "      <td>20</td>\n",
       "      <td>10</td>\n",
       "      <td>3</td>\n",
       "      <td>5</td>\n",
       "      <td>2</td>\n",
       "      <td>2</td>\n",
       "      <td>0</td>\n",
       "      <td>4</td>\n",
       "      <td>6</td>\n",
       "      <td>0</td>\n",
       "      <td>0</td>\n",
       "      <td>0</td>\n",
       "      <td>0</td>\n",
       "      <td>0</td>\n",
       "      <td>0</td>\n",
       "      <td>3</td>\n",
       "      <td>11</td>\n",
       "      <td>0</td>\n",
       "      <td>9</td>\n",
       "      <td>3041</td>\n",
       "      <td>39</td>\n",
       "    </tr>\n",
       "    <tr>\n",
       "      <th>4</th>\n",
       "      <td>5324</td>\n",
       "      <td>PhD</td>\n",
       "      <td>Married</td>\n",
       "      <td>58293.0</td>\n",
       "      <td>1</td>\n",
       "      <td>0</td>\n",
       "      <td>94</td>\n",
       "      <td>173</td>\n",
       "      <td>43</td>\n",
       "      <td>118</td>\n",
       "      <td>46</td>\n",
       "      <td>27</td>\n",
       "      <td>15</td>\n",
       "      <td>5</td>\n",
       "      <td>5</td>\n",
       "      <td>3</td>\n",
       "      <td>6</td>\n",
       "      <td>5</td>\n",
       "      <td>0</td>\n",
       "      <td>0</td>\n",
       "      <td>0</td>\n",
       "      <td>0</td>\n",
       "      <td>0</td>\n",
       "      <td>0</td>\n",
       "      <td>3</td>\n",
       "      <td>11</td>\n",
       "      <td>0</td>\n",
       "      <td>9</td>\n",
       "      <td>3297</td>\n",
       "      <td>42</td>\n",
       "    </tr>\n",
       "  </tbody>\n",
       "</table>\n",
       "</div>"
      ],
      "text/plain": [
       "     ID   Education Marital_Status   Income  Kidhome  Teenhome  Recency  \\\n",
       "0  5524  Graduation         Single  58138.0        0         0       58   \n",
       "1  2174  Graduation         Single  46344.0        1         1       38   \n",
       "2  4141  Graduation       Together  71613.0        0         0       26   \n",
       "3  6182  Graduation       Together  26646.0        1         0       26   \n",
       "4  5324         PhD        Married  58293.0        1         0       94   \n",
       "\n",
       "   MntWines  MntFruits  MntMeatProducts  MntFishProducts  MntSweetProducts  \\\n",
       "0       635         88              546              172                88   \n",
       "1        11          1                6                2                 1   \n",
       "2       426         49              127              111                21   \n",
       "3        11          4               20               10                 3   \n",
       "4       173         43              118               46                27   \n",
       "\n",
       "   MntGoldProds  NumDealsPurchases  NumWebPurchases  NumCatalogPurchases  \\\n",
       "0            88                  3                8                   10   \n",
       "1             6                  2                1                    1   \n",
       "2            42                  1                8                    2   \n",
       "3             5                  2                2                    0   \n",
       "4            15                  5                5                    3   \n",
       "\n",
       "   NumStorePurchases  NumWebVisitsMonth  AcceptedCmp3  AcceptedCmp4  \\\n",
       "0                  4                  7             0             0   \n",
       "1                  2                  5             0             0   \n",
       "2                 10                  4             0             0   \n",
       "3                  4                  6             0             0   \n",
       "4                  6                  5             0             0   \n",
       "\n",
       "   AcceptedCmp5  AcceptedCmp1  AcceptedCmp2  Complain  Z_CostContact  \\\n",
       "0             0             0             0         0              3   \n",
       "1             0             0             0         0              3   \n",
       "2             0             0             0         0              3   \n",
       "3             0             0             0         0              3   \n",
       "4             0             0             0         0              3   \n",
       "\n",
       "   Z_Revenue  Response  Year_Customer  DayDiff_Customer  Age  \n",
       "0         11         1             11              3947   66  \n",
       "1         11         0              9              3101   69  \n",
       "2         11         0             10              3448   58  \n",
       "3         11         0              9              3041   39  \n",
       "4         11         0              9              3297   42  "
      ]
     },
     "execution_count": 9,
     "metadata": {},
     "output_type": "execute_result"
    }
   ],
   "source": [
    "data['Age'] = data['Year_Birth'].apply(lambda x : currentYear - x)\n",
    "# Drops the Year_Birth column\n",
    "data.drop(['Year_Birth'], axis = 1, inplace = True)\n",
    "data.head()"
   ]
  },
  {
   "cell_type": "markdown",
   "id": "7c5c1d50",
   "metadata": {
    "papermill": {
     "duration": 0.017263,
     "end_time": "2023-01-29T22:58:50.910431",
     "exception": false,
     "start_time": "2023-01-29T22:58:50.893168",
     "status": "completed"
    },
    "tags": []
   },
   "source": [
    "**The distribution of Age variable:**"
   ]
  },
  {
   "cell_type": "code",
   "execution_count": 10,
   "id": "4fb8baa0",
   "metadata": {
    "execution": {
     "iopub.execute_input": "2023-01-29T22:58:50.946655Z",
     "iopub.status.busy": "2023-01-29T22:58:50.946335Z",
     "iopub.status.idle": "2023-01-29T22:58:51.135083Z",
     "shell.execute_reply": "2023-01-29T22:58:51.134259Z"
    },
    "papermill": {
     "duration": 0.209004,
     "end_time": "2023-01-29T22:58:51.136813",
     "exception": false,
     "start_time": "2023-01-29T22:58:50.927809",
     "status": "completed"
    },
    "tags": []
   },
   "outputs": [
    {
     "data": {
      "text/plain": [
       "<AxesSubplot:xlabel='Age', ylabel='Count'>"
      ]
     },
     "execution_count": 10,
     "metadata": {},
     "output_type": "execute_result"
    },
    {
     "data": {
      "image/png": "[encoded data removed]",
      "text/plain": [
       "<Figure size 432x288 with 1 Axes>"
      ]
     },
     "metadata": {
      "needs_background": "light"
     },
     "output_type": "display_data"
    }
   ],
   "source": [
    "sns.histplot(data['Age'], bins=10)"
   ]
  },
  {
   "cell_type": "markdown",
   "id": "2d7e3e37",
   "metadata": {
    "papermill": {
     "duration": 0.018952,
     "end_time": "2023-01-29T22:58:51.174214",
     "exception": false,
     "start_time": "2023-01-29T22:58:51.155262",
     "status": "completed"
    },
    "tags": []
   },
   "source": [
    "**The age distribution rounds around 50. There are some outliers above 100.**"
   ]
  },
  {
   "cell_type": "code",
   "execution_count": 11,
   "id": "05f6552e",
   "metadata": {
    "execution": {
     "iopub.execute_input": "2023-01-29T22:58:51.211065Z",
     "iopub.status.busy": "2023-01-29T22:58:51.210724Z",
     "iopub.status.idle": "2023-01-29T22:58:51.217290Z",
     "shell.execute_reply": "2023-01-29T22:58:51.216753Z"
    },
    "papermill": {
     "duration": 0.026795,
     "end_time": "2023-01-29T22:58:51.218793",
     "exception": false,
     "start_time": "2023-01-29T22:58:51.191998",
     "status": "completed"
    },
    "tags": []
   },
   "outputs": [
    {
     "data": {
      "text/plain": [
       "130"
      ]
     },
     "execution_count": 11,
     "metadata": {},
     "output_type": "execute_result"
    }
   ],
   "source": [
    "data['Age'].max()"
   ]
  },
  {
   "cell_type": "code",
   "execution_count": 12,
   "id": "55eadb0c",
   "metadata": {
    "execution": {
     "iopub.execute_input": "2023-01-29T22:58:51.257405Z",
     "iopub.status.busy": "2023-01-29T22:58:51.256521Z",
     "iopub.status.idle": "2023-01-29T22:58:51.274476Z",
     "shell.execute_reply": "2023-01-29T22:58:51.273685Z"
    },
    "papermill": {
     "duration": 0.038839,
     "end_time": "2023-01-29T22:58:51.276312",
     "exception": false,
     "start_time": "2023-01-29T22:58:51.237473",
     "status": "completed"
    },
    "tags": []
   },
   "outputs": [
    {
     "data": {
      "text/html": [
       "<div>\n",
       "<style scoped>\n",
       "    .dataframe tbody tr th:only-of-type {\n",
       "        vertical-align: middle;\n",
       "    }\n",
       "\n",
       "    .dataframe tbody tr th {\n",
       "        vertical-align: top;\n",
       "    }\n",
       "\n",
       "    .dataframe thead th {\n",
       "        text-align: right;\n",
       "    }\n",
       "</style>\n",
       "<table border=\"1\" class=\"dataframe\">\n",
       "  <thead>\n",
       "    <tr style=\"text-align: right;\">\n",
       "      <th></th>\n",
       "      <th>ID</th>\n",
       "      <th>Education</th>\n",
       "      <th>Marital_Status</th>\n",
       "      <th>Income</th>\n",
       "      <th>Kidhome</th>\n",
       "      <th>Teenhome</th>\n",
       "      <th>Recency</th>\n",
       "      <th>MntWines</th>\n",
       "      <th>MntFruits</th>\n",
       "      <th>MntMeatProducts</th>\n",
       "      <th>MntFishProducts</th>\n",
       "      <th>MntSweetProducts</th>\n",
       "      <th>MntGoldProds</th>\n",
       "      <th>NumDealsPurchases</th>\n",
       "      <th>NumWebPurchases</th>\n",
       "      <th>NumCatalogPurchases</th>\n",
       "      <th>NumStorePurchases</th>\n",
       "      <th>NumWebVisitsMonth</th>\n",
       "      <th>AcceptedCmp3</th>\n",
       "      <th>AcceptedCmp4</th>\n",
       "      <th>AcceptedCmp5</th>\n",
       "      <th>AcceptedCmp1</th>\n",
       "      <th>AcceptedCmp2</th>\n",
       "      <th>Complain</th>\n",
       "      <th>Z_CostContact</th>\n",
       "      <th>Z_Revenue</th>\n",
       "      <th>Response</th>\n",
       "      <th>Year_Customer</th>\n",
       "      <th>DayDiff_Customer</th>\n",
       "      <th>Age</th>\n",
       "    </tr>\n",
       "  </thead>\n",
       "  <tbody>\n",
       "    <tr>\n",
       "      <th>192</th>\n",
       "      <td>7829</td>\n",
       "      <td>2n Cycle</td>\n",
       "      <td>Divorced</td>\n",
       "      <td>36640.0</td>\n",
       "      <td>1</td>\n",
       "      <td>0</td>\n",
       "      <td>99</td>\n",
       "      <td>15</td>\n",
       "      <td>6</td>\n",
       "      <td>8</td>\n",
       "      <td>7</td>\n",
       "      <td>4</td>\n",
       "      <td>25</td>\n",
       "      <td>1</td>\n",
       "      <td>2</td>\n",
       "      <td>1</td>\n",
       "      <td>2</td>\n",
       "      <td>5</td>\n",
       "      <td>0</td>\n",
       "      <td>0</td>\n",
       "      <td>0</td>\n",
       "      <td>0</td>\n",
       "      <td>0</td>\n",
       "      <td>1</td>\n",
       "      <td>3</td>\n",
       "      <td>11</td>\n",
       "      <td>0</td>\n",
       "      <td>10</td>\n",
       "      <td>3412</td>\n",
       "      <td>123</td>\n",
       "    </tr>\n",
       "    <tr>\n",
       "      <th>239</th>\n",
       "      <td>11004</td>\n",
       "      <td>2n Cycle</td>\n",
       "      <td>Single</td>\n",
       "      <td>60182.0</td>\n",
       "      <td>0</td>\n",
       "      <td>1</td>\n",
       "      <td>23</td>\n",
       "      <td>8</td>\n",
       "      <td>0</td>\n",
       "      <td>5</td>\n",
       "      <td>7</td>\n",
       "      <td>0</td>\n",
       "      <td>2</td>\n",
       "      <td>1</td>\n",
       "      <td>1</td>\n",
       "      <td>0</td>\n",
       "      <td>2</td>\n",
       "      <td>4</td>\n",
       "      <td>0</td>\n",
       "      <td>0</td>\n",
       "      <td>0</td>\n",
       "      <td>0</td>\n",
       "      <td>0</td>\n",
       "      <td>0</td>\n",
       "      <td>3</td>\n",
       "      <td>11</td>\n",
       "      <td>0</td>\n",
       "      <td>9</td>\n",
       "      <td>3179</td>\n",
       "      <td>130</td>\n",
       "    </tr>\n",
       "    <tr>\n",
       "      <th>339</th>\n",
       "      <td>1150</td>\n",
       "      <td>PhD</td>\n",
       "      <td>Together</td>\n",
       "      <td>83532.0</td>\n",
       "      <td>0</td>\n",
       "      <td>0</td>\n",
       "      <td>36</td>\n",
       "      <td>755</td>\n",
       "      <td>144</td>\n",
       "      <td>562</td>\n",
       "      <td>104</td>\n",
       "      <td>64</td>\n",
       "      <td>224</td>\n",
       "      <td>1</td>\n",
       "      <td>4</td>\n",
       "      <td>6</td>\n",
       "      <td>4</td>\n",
       "      <td>1</td>\n",
       "      <td>0</td>\n",
       "      <td>0</td>\n",
       "      <td>1</td>\n",
       "      <td>0</td>\n",
       "      <td>0</td>\n",
       "      <td>0</td>\n",
       "      <td>3</td>\n",
       "      <td>11</td>\n",
       "      <td>0</td>\n",
       "      <td>10</td>\n",
       "      <td>3412</td>\n",
       "      <td>124</td>\n",
       "    </tr>\n",
       "  </tbody>\n",
       "</table>\n",
       "</div>"
      ],
      "text/plain": [
       "        ID Education Marital_Status   Income  Kidhome  Teenhome  Recency  \\\n",
       "192   7829  2n Cycle       Divorced  36640.0        1         0       99   \n",
       "239  11004  2n Cycle         Single  60182.0        0         1       23   \n",
       "339   1150       PhD       Together  83532.0        0         0       36   \n",
       "\n",
       "     MntWines  MntFruits  MntMeatProducts  MntFishProducts  MntSweetProducts  \\\n",
       "192        15          6                8                7                 4   \n",
       "239         8          0                5                7                 0   \n",
       "339       755        144              562              104                64   \n",
       "\n",
       "     MntGoldProds  NumDealsPurchases  NumWebPurchases  NumCatalogPurchases  \\\n",
       "192            25                  1                2                    1   \n",
       "239             2                  1                1                    0   \n",
       "339           224                  1                4                    6   \n",
       "\n",
       "     NumStorePurchases  NumWebVisitsMonth  AcceptedCmp3  AcceptedCmp4  \\\n",
       "192                  2                  5             0             0   \n",
       "239                  2                  4             0             0   \n",
       "339                  4                  1             0             0   \n",
       "\n",
       "     AcceptedCmp5  AcceptedCmp1  AcceptedCmp2  Complain  Z_CostContact  \\\n",
       "192             0             0             0         1              3   \n",
       "239             0             0             0         0              3   \n",
       "339             1             0             0         0              3   \n",
       "\n",
       "     Z_Revenue  Response  Year_Customer  DayDiff_Customer  Age  \n",
       "192         11         0             10              3412  123  \n",
       "239         11         0              9              3179  130  \n",
       "339         11         0             10              3412  124  "
      ]
     },
     "execution_count": 12,
     "metadata": {},
     "output_type": "execute_result"
    }
   ],
   "source": [
    "data[data['Age'] > 100]"
   ]
  },
  {
   "cell_type": "markdown",
   "id": "249bd4e6",
   "metadata": {
    "papermill": {
     "duration": 0.017468,
     "end_time": "2023-01-29T22:58:51.311951",
     "exception": false,
     "start_time": "2023-01-29T22:58:51.294483",
     "status": "completed"
    },
    "tags": []
   },
   "source": [
    "**Because of that the age group does not frequent, it could be removed from dataset to make the feature model work well.**\n",
    "\n",
    "**The code below drops the customers which is over the age of 100:**"
   ]
  },
  {
   "cell_type": "code",
   "execution_count": 13,
   "id": "97ede980",
   "metadata": {
    "execution": {
     "iopub.execute_input": "2023-01-29T22:58:51.348916Z",
     "iopub.status.busy": "2023-01-29T22:58:51.348432Z",
     "iopub.status.idle": "2023-01-29T22:58:51.353864Z",
     "shell.execute_reply": "2023-01-29T22:58:51.353319Z"
    },
    "papermill": {
     "duration": 0.025869,
     "end_time": "2023-01-29T22:58:51.355462",
     "exception": false,
     "start_time": "2023-01-29T22:58:51.329593",
     "status": "completed"
    },
    "tags": []
   },
   "outputs": [],
   "source": [
    "data.drop(index=(data[data['Age'] > 100].index), axis = 0, inplace=True)"
   ]
  },
  {
   "cell_type": "markdown",
   "id": "bc95372c",
   "metadata": {
    "papermill": {
     "duration": 0.017389,
     "end_time": "2023-01-29T22:58:51.390589",
     "exception": false,
     "start_time": "2023-01-29T22:58:51.373200",
     "status": "completed"
    },
    "tags": []
   },
   "source": [
    "**Setting ticks for X axis of age distribution histogram:**"
   ]
  },
  {
   "cell_type": "code",
   "execution_count": 14,
   "id": "119e6c89",
   "metadata": {
    "execution": {
     "iopub.execute_input": "2023-01-29T22:58:51.427662Z",
     "iopub.status.busy": "2023-01-29T22:58:51.427146Z",
     "iopub.status.idle": "2023-01-29T22:58:51.433104Z",
     "shell.execute_reply": "2023-01-29T22:58:51.432407Z"
    },
    "papermill": {
     "duration": 0.026503,
     "end_time": "2023-01-29T22:58:51.434710",
     "exception": false,
     "start_time": "2023-01-29T22:58:51.408207",
     "status": "completed"
    },
    "tags": []
   },
   "outputs": [
    {
     "data": {
      "text/plain": [
       "25"
      ]
     },
     "execution_count": 14,
     "metadata": {},
     "output_type": "execute_result"
    }
   ],
   "source": [
    "minAgeTick = int(data['Age'].min() - (data['Age'].min() % 5))\n",
    "minAgeTick"
   ]
  },
  {
   "cell_type": "code",
   "execution_count": 15,
   "id": "176d514a",
   "metadata": {
    "execution": {
     "iopub.execute_input": "2023-01-29T22:58:51.472158Z",
     "iopub.status.busy": "2023-01-29T22:58:51.471716Z",
     "iopub.status.idle": "2023-01-29T22:58:51.477191Z",
     "shell.execute_reply": "2023-01-29T22:58:51.476610Z"
    },
    "papermill": {
     "duration": 0.026128,
     "end_time": "2023-01-29T22:58:51.478785",
     "exception": false,
     "start_time": "2023-01-29T22:58:51.452657",
     "status": "completed"
    },
    "tags": []
   },
   "outputs": [
    {
     "data": {
      "text/plain": [
       "85"
      ]
     },
     "execution_count": 15,
     "metadata": {},
     "output_type": "execute_result"
    }
   ],
   "source": [
    "maxAgeTick = int(((data['Age'].max() // 5) + 1) * 5)\n",
    "maxAgeTick"
   ]
  },
  {
   "cell_type": "code",
   "execution_count": 16,
   "id": "e270ba7e",
   "metadata": {
    "execution": {
     "iopub.execute_input": "2023-01-29T22:58:51.516067Z",
     "iopub.status.busy": "2023-01-29T22:58:51.515638Z",
     "iopub.status.idle": "2023-01-29T22:58:51.520920Z",
     "shell.execute_reply": "2023-01-29T22:58:51.520328Z"
    },
    "papermill": {
     "duration": 0.025777,
     "end_time": "2023-01-29T22:58:51.522523",
     "exception": false,
     "start_time": "2023-01-29T22:58:51.496746",
     "status": "completed"
    },
    "tags": []
   },
   "outputs": [
    {
     "data": {
      "text/plain": [
       "[25, 30, 35, 40, 45, 50, 55, 60, 65, 70, 75, 80, 85]"
      ]
     },
     "execution_count": 16,
     "metadata": {},
     "output_type": "execute_result"
    }
   ],
   "source": [
    "ticks = list(range(minAgeTick,maxAgeTick+1, 5))\n",
    "ticks"
   ]
  },
  {
   "cell_type": "markdown",
   "id": "3d796b44",
   "metadata": {
    "papermill": {
     "duration": 0.017893,
     "end_time": "2023-01-29T22:58:51.558568",
     "exception": false,
     "start_time": "2023-01-29T22:58:51.540675",
     "status": "completed"
    },
    "tags": []
   },
   "source": [
    "**Histogram of the Age Variable**"
   ]
  },
  {
   "cell_type": "code",
   "execution_count": 17,
   "id": "c2080a8f",
   "metadata": {
    "execution": {
     "iopub.execute_input": "2023-01-29T22:58:51.596142Z",
     "iopub.status.busy": "2023-01-29T22:58:51.595825Z",
     "iopub.status.idle": "2023-01-29T22:58:51.764727Z",
     "shell.execute_reply": "2023-01-29T22:58:51.763676Z"
    },
    "papermill": {
     "duration": 0.18986,
     "end_time": "2023-01-29T22:58:51.766458",
     "exception": false,
     "start_time": "2023-01-29T22:58:51.576598",
     "status": "completed"
    },
    "tags": []
   },
   "outputs": [
    {
     "data": {
      "text/plain": [
       "[<matplotlib.axis.XTick at 0x7f411ae308d0>,\n",
       " <matplotlib.axis.XTick at 0x7f4118d883d0>,\n",
       " <matplotlib.axis.XTick at 0x7f4118c40410>,\n",
       " <matplotlib.axis.XTick at 0x7f4118beb310>,\n",
       " <matplotlib.axis.XTick at 0x7f4118beb350>,\n",
       " <matplotlib.axis.XTick at 0x7f4118bf4210>,\n",
       " <matplotlib.axis.XTick at 0x7f4118bf4250>,\n",
       " <matplotlib.axis.XTick at 0x7f4118bfc090>,\n",
       " <matplotlib.axis.XTick at 0x7f411b5edf50>,\n",
       " <matplotlib.axis.XTick at 0x7f4118c40c50>,\n",
       " <matplotlib.axis.XTick at 0x7f4118c11990>,\n",
       " <matplotlib.axis.XTick at 0x7f4118c11210>,\n",
       " <matplotlib.axis.XTick at 0x7f4118bf4e10>]"
      ]
     },
     "execution_count": 17,
     "metadata": {},
     "output_type": "execute_result"
    },
    {
     "data": {
      "image/png": "[encoded data removed]",
      "text/plain": [
       "<Figure size 432x288 with 1 Axes>"
      ]
     },
     "metadata": {
      "needs_background": "light"
     },
     "output_type": "display_data"
    }
   ],
   "source": [
    "histogram_plot = sns.histplot(data['Age'],bins=10)\n",
    "histogram_plot.set_xticks(ticks)"
   ]
  },
  {
   "cell_type": "markdown",
   "id": "98a2d363",
   "metadata": {
    "papermill": {
     "duration": 0.018108,
     "end_time": "2023-01-29T22:58:51.803162",
     "exception": false,
     "start_time": "2023-01-29T22:58:51.785054",
     "status": "completed"
    },
    "tags": []
   },
   "source": [
    "**The histogram is more clear for observation now.**\n",
    "<hr>\n",
    "\n",
    "# Age Groups\n",
    "\n",
    "**Setting the age groups based on a function.**"
   ]
  },
  {
   "cell_type": "code",
   "execution_count": 18,
   "id": "9f4d8d88",
   "metadata": {
    "execution": {
     "iopub.execute_input": "2023-01-29T22:58:51.840979Z",
     "iopub.status.busy": "2023-01-29T22:58:51.840642Z",
     "iopub.status.idle": "2023-01-29T22:58:51.845435Z",
     "shell.execute_reply": "2023-01-29T22:58:51.844622Z"
    },
    "papermill": {
     "duration": 0.025705,
     "end_time": "2023-01-29T22:58:51.847055",
     "exception": false,
     "start_time": "2023-01-29T22:58:51.821350",
     "status": "completed"
    },
    "tags": []
   },
   "outputs": [],
   "source": [
    "def age_group(age):\n",
    "    if age <= 25:\n",
    "        age_group = 'Young Adult'\n",
    "    elif (age > 25) & (age <= 64):\n",
    "        age_group = 'Adult'\n",
    "    else:\n",
    "        age_group = 'Elder'\n",
    "    return age_group"
   ]
  },
  {
   "cell_type": "code",
   "execution_count": 19,
   "id": "3fb07eab",
   "metadata": {
    "execution": {
     "iopub.execute_input": "2023-01-29T22:58:51.885772Z",
     "iopub.status.busy": "2023-01-29T22:58:51.885093Z",
     "iopub.status.idle": "2023-01-29T22:58:51.893534Z",
     "shell.execute_reply": "2023-01-29T22:58:51.892670Z"
    },
    "papermill": {
     "duration": 0.029793,
     "end_time": "2023-01-29T22:58:51.895323",
     "exception": false,
     "start_time": "2023-01-29T22:58:51.865530",
     "status": "completed"
    },
    "tags": []
   },
   "outputs": [],
   "source": [
    "data['Age_Group'] = data['Age'].apply(lambda x: age_group(x))\n",
    "age_group_ordered = CategoricalDtype(categories=['Young Adult','Adult', 'Elder'], ordered=True)\n",
    "data['Age_Group'] = data['Age_Group'].astype(age_group_ordered)"
   ]
  },
  {
   "cell_type": "markdown",
   "id": "44f19a2e",
   "metadata": {
    "papermill": {
     "duration": 0.018259,
     "end_time": "2023-01-29T22:58:51.932189",
     "exception": false,
     "start_time": "2023-01-29T22:58:51.913930",
     "status": "completed"
    },
    "tags": []
   },
   "source": [
    "<hr>\n",
    "\n",
    "# Income Variable and Creation of Income Groups\n",
    "\n",
    "<b>Setting the income groups based on a function.</b>"
   ]
  },
  {
   "cell_type": "code",
   "execution_count": 20,
   "id": "6af0da72",
   "metadata": {
    "execution": {
     "iopub.execute_input": "2023-01-29T22:58:51.970886Z",
     "iopub.status.busy": "2023-01-29T22:58:51.970411Z",
     "iopub.status.idle": "2023-01-29T22:58:51.980648Z",
     "shell.execute_reply": "2023-01-29T22:58:51.979996Z"
    },
    "papermill": {
     "duration": 0.031575,
     "end_time": "2023-01-29T22:58:51.982143",
     "exception": false,
     "start_time": "2023-01-29T22:58:51.950568",
     "status": "completed"
    },
    "tags": []
   },
   "outputs": [
    {
     "data": {
      "text/plain": [
       "count      2213.000000\n",
       "mean      52236.581563\n",
       "std       25178.603047\n",
       "min        1730.000000\n",
       "25%       35246.000000\n",
       "50%       51373.000000\n",
       "75%       68487.000000\n",
       "max      666666.000000\n",
       "Name: Income, dtype: float64"
      ]
     },
     "execution_count": 20,
     "metadata": {},
     "output_type": "execute_result"
    }
   ],
   "source": [
    "data['Income'].describe()"
   ]
  },
  {
   "cell_type": "code",
   "execution_count": 21,
   "id": "5fa40457",
   "metadata": {
    "execution": {
     "iopub.execute_input": "2023-01-29T22:58:52.020609Z",
     "iopub.status.busy": "2023-01-29T22:58:52.020079Z",
     "iopub.status.idle": "2023-01-29T22:58:52.370782Z",
     "shell.execute_reply": "2023-01-29T22:58:52.370131Z"
    },
    "papermill": {
     "duration": 0.37188,
     "end_time": "2023-01-29T22:58:52.372369",
     "exception": false,
     "start_time": "2023-01-29T22:58:52.000489",
     "status": "completed"
    },
    "tags": []
   },
   "outputs": [
    {
     "data": {
      "text/plain": [
       "<AxesSubplot:xlabel='Income', ylabel='Count'>"
      ]
     },
     "execution_count": 21,
     "metadata": {},
     "output_type": "execute_result"
    },
    {
     "data": {
      "image/png": "[encoded data removed]",
      "text/plain": [
       "<Figure size 432x288 with 1 Axes>"
      ]
     },
     "metadata": {
      "needs_background": "light"
     },
     "output_type": "display_data"
    }
   ],
   "source": [
    "sns.histplot(data['Income'])"
   ]
  },
  {
   "cell_type": "markdown",
   "id": "d70a2fdc",
   "metadata": {
    "papermill": {
     "duration": 0.01836,
     "end_time": "2023-01-29T22:58:52.409714",
     "exception": false,
     "start_time": "2023-01-29T22:58:52.391354",
     "status": "completed"
    },
    "tags": []
   },
   "source": [
    "**Detecting outliers**"
   ]
  },
  {
   "cell_type": "code",
   "execution_count": 22,
   "id": "50ef6b94",
   "metadata": {
    "execution": {
     "iopub.execute_input": "2023-01-29T22:58:52.448758Z",
     "iopub.status.busy": "2023-01-29T22:58:52.448244Z",
     "iopub.status.idle": "2023-01-29T22:58:52.453871Z",
     "shell.execute_reply": "2023-01-29T22:58:52.453316Z"
    },
    "papermill": {
     "duration": 0.027006,
     "end_time": "2023-01-29T22:58:52.455370",
     "exception": false,
     "start_time": "2023-01-29T22:58:52.428364",
     "status": "completed"
    },
    "tags": []
   },
   "outputs": [
    {
     "data": {
      "text/plain": [
       "118348.5"
      ]
     },
     "execution_count": 22,
     "metadata": {},
     "output_type": "execute_result"
    }
   ],
   "source": [
    "q1, q3 = np.percentile(data[\"Income\"],[25,75])\n",
    "interquartile_range = q3 - q1\n",
    "higher_treshold = q3 + (interquartile_range * 1.5)\n",
    "higher_treshold"
   ]
  },
  {
   "cell_type": "code",
   "execution_count": 23,
   "id": "19f544da",
   "metadata": {
    "execution": {
     "iopub.execute_input": "2023-01-29T22:58:52.494549Z",
     "iopub.status.busy": "2023-01-29T22:58:52.493834Z",
     "iopub.status.idle": "2023-01-29T22:58:52.516207Z",
     "shell.execute_reply": "2023-01-29T22:58:52.515117Z"
    },
    "papermill": {
     "duration": 0.043993,
     "end_time": "2023-01-29T22:58:52.518104",
     "exception": false,
     "start_time": "2023-01-29T22:58:52.474111",
     "status": "completed"
    },
    "tags": []
   },
   "outputs": [
    {
     "data": {
      "text/html": [
       "<div>\n",
       "<style scoped>\n",
       "    .dataframe tbody tr th:only-of-type {\n",
       "        vertical-align: middle;\n",
       "    }\n",
       "\n",
       "    .dataframe tbody tr th {\n",
       "        vertical-align: top;\n",
       "    }\n",
       "\n",
       "    .dataframe thead th {\n",
       "        text-align: right;\n",
       "    }\n",
       "</style>\n",
       "<table border=\"1\" class=\"dataframe\">\n",
       "  <thead>\n",
       "    <tr style=\"text-align: right;\">\n",
       "      <th></th>\n",
       "      <th>ID</th>\n",
       "      <th>Education</th>\n",
       "      <th>Marital_Status</th>\n",
       "      <th>Income</th>\n",
       "      <th>Kidhome</th>\n",
       "      <th>Teenhome</th>\n",
       "      <th>Recency</th>\n",
       "      <th>MntWines</th>\n",
       "      <th>MntFruits</th>\n",
       "      <th>MntMeatProducts</th>\n",
       "      <th>MntFishProducts</th>\n",
       "      <th>MntSweetProducts</th>\n",
       "      <th>MntGoldProds</th>\n",
       "      <th>NumDealsPurchases</th>\n",
       "      <th>NumWebPurchases</th>\n",
       "      <th>NumCatalogPurchases</th>\n",
       "      <th>NumStorePurchases</th>\n",
       "      <th>NumWebVisitsMonth</th>\n",
       "      <th>AcceptedCmp3</th>\n",
       "      <th>AcceptedCmp4</th>\n",
       "      <th>AcceptedCmp5</th>\n",
       "      <th>AcceptedCmp1</th>\n",
       "      <th>AcceptedCmp2</th>\n",
       "      <th>Complain</th>\n",
       "      <th>Z_CostContact</th>\n",
       "      <th>Z_Revenue</th>\n",
       "      <th>Response</th>\n",
       "      <th>Year_Customer</th>\n",
       "      <th>DayDiff_Customer</th>\n",
       "      <th>Age</th>\n",
       "      <th>Age_Group</th>\n",
       "    </tr>\n",
       "  </thead>\n",
       "  <tbody>\n",
       "    <tr>\n",
       "      <th>164</th>\n",
       "      <td>8475</td>\n",
       "      <td>PhD</td>\n",
       "      <td>Married</td>\n",
       "      <td>157243.0</td>\n",
       "      <td>0</td>\n",
       "      <td>1</td>\n",
       "      <td>98</td>\n",
       "      <td>20</td>\n",
       "      <td>2</td>\n",
       "      <td>1582</td>\n",
       "      <td>1</td>\n",
       "      <td>2</td>\n",
       "      <td>1</td>\n",
       "      <td>15</td>\n",
       "      <td>0</td>\n",
       "      <td>22</td>\n",
       "      <td>0</td>\n",
       "      <td>0</td>\n",
       "      <td>0</td>\n",
       "      <td>0</td>\n",
       "      <td>0</td>\n",
       "      <td>0</td>\n",
       "      <td>0</td>\n",
       "      <td>0</td>\n",
       "      <td>3</td>\n",
       "      <td>11</td>\n",
       "      <td>0</td>\n",
       "      <td>9</td>\n",
       "      <td>3313</td>\n",
       "      <td>50</td>\n",
       "      <td>Adult</td>\n",
       "    </tr>\n",
       "    <tr>\n",
       "      <th>617</th>\n",
       "      <td>1503</td>\n",
       "      <td>PhD</td>\n",
       "      <td>Together</td>\n",
       "      <td>162397.0</td>\n",
       "      <td>1</td>\n",
       "      <td>1</td>\n",
       "      <td>31</td>\n",
       "      <td>85</td>\n",
       "      <td>1</td>\n",
       "      <td>16</td>\n",
       "      <td>2</td>\n",
       "      <td>1</td>\n",
       "      <td>2</td>\n",
       "      <td>0</td>\n",
       "      <td>0</td>\n",
       "      <td>0</td>\n",
       "      <td>1</td>\n",
       "      <td>1</td>\n",
       "      <td>0</td>\n",
       "      <td>0</td>\n",
       "      <td>0</td>\n",
       "      <td>0</td>\n",
       "      <td>0</td>\n",
       "      <td>0</td>\n",
       "      <td>3</td>\n",
       "      <td>11</td>\n",
       "      <td>0</td>\n",
       "      <td>10</td>\n",
       "      <td>3616</td>\n",
       "      <td>47</td>\n",
       "      <td>Adult</td>\n",
       "    </tr>\n",
       "    <tr>\n",
       "      <th>655</th>\n",
       "      <td>5555</td>\n",
       "      <td>Graduation</td>\n",
       "      <td>Divorced</td>\n",
       "      <td>153924.0</td>\n",
       "      <td>0</td>\n",
       "      <td>0</td>\n",
       "      <td>81</td>\n",
       "      <td>1</td>\n",
       "      <td>1</td>\n",
       "      <td>1</td>\n",
       "      <td>1</td>\n",
       "      <td>1</td>\n",
       "      <td>1</td>\n",
       "      <td>0</td>\n",
       "      <td>0</td>\n",
       "      <td>0</td>\n",
       "      <td>0</td>\n",
       "      <td>0</td>\n",
       "      <td>0</td>\n",
       "      <td>0</td>\n",
       "      <td>0</td>\n",
       "      <td>0</td>\n",
       "      <td>0</td>\n",
       "      <td>0</td>\n",
       "      <td>3</td>\n",
       "      <td>11</td>\n",
       "      <td>0</td>\n",
       "      <td>9</td>\n",
       "      <td>3133</td>\n",
       "      <td>48</td>\n",
       "      <td>Adult</td>\n",
       "    </tr>\n",
       "    <tr>\n",
       "      <th>687</th>\n",
       "      <td>1501</td>\n",
       "      <td>PhD</td>\n",
       "      <td>Married</td>\n",
       "      <td>160803.0</td>\n",
       "      <td>0</td>\n",
       "      <td>0</td>\n",
       "      <td>21</td>\n",
       "      <td>55</td>\n",
       "      <td>16</td>\n",
       "      <td>1622</td>\n",
       "      <td>17</td>\n",
       "      <td>3</td>\n",
       "      <td>4</td>\n",
       "      <td>15</td>\n",
       "      <td>0</td>\n",
       "      <td>28</td>\n",
       "      <td>1</td>\n",
       "      <td>0</td>\n",
       "      <td>0</td>\n",
       "      <td>0</td>\n",
       "      <td>0</td>\n",
       "      <td>0</td>\n",
       "      <td>0</td>\n",
       "      <td>0</td>\n",
       "      <td>3</td>\n",
       "      <td>11</td>\n",
       "      <td>0</td>\n",
       "      <td>11</td>\n",
       "      <td>3948</td>\n",
       "      <td>41</td>\n",
       "      <td>Adult</td>\n",
       "    </tr>\n",
       "    <tr>\n",
       "      <th>1300</th>\n",
       "      <td>5336</td>\n",
       "      <td>Master</td>\n",
       "      <td>Together</td>\n",
       "      <td>157733.0</td>\n",
       "      <td>1</td>\n",
       "      <td>0</td>\n",
       "      <td>37</td>\n",
       "      <td>39</td>\n",
       "      <td>1</td>\n",
       "      <td>9</td>\n",
       "      <td>2</td>\n",
       "      <td>0</td>\n",
       "      <td>8</td>\n",
       "      <td>0</td>\n",
       "      <td>1</td>\n",
       "      <td>0</td>\n",
       "      <td>1</td>\n",
       "      <td>1</td>\n",
       "      <td>0</td>\n",
       "      <td>0</td>\n",
       "      <td>0</td>\n",
       "      <td>0</td>\n",
       "      <td>0</td>\n",
       "      <td>0</td>\n",
       "      <td>3</td>\n",
       "      <td>11</td>\n",
       "      <td>0</td>\n",
       "      <td>10</td>\n",
       "      <td>3585</td>\n",
       "      <td>52</td>\n",
       "      <td>Adult</td>\n",
       "    </tr>\n",
       "    <tr>\n",
       "      <th>1653</th>\n",
       "      <td>4931</td>\n",
       "      <td>Graduation</td>\n",
       "      <td>Together</td>\n",
       "      <td>157146.0</td>\n",
       "      <td>0</td>\n",
       "      <td>0</td>\n",
       "      <td>13</td>\n",
       "      <td>1</td>\n",
       "      <td>0</td>\n",
       "      <td>1725</td>\n",
       "      <td>2</td>\n",
       "      <td>1</td>\n",
       "      <td>1</td>\n",
       "      <td>0</td>\n",
       "      <td>0</td>\n",
       "      <td>28</td>\n",
       "      <td>0</td>\n",
       "      <td>1</td>\n",
       "      <td>0</td>\n",
       "      <td>0</td>\n",
       "      <td>0</td>\n",
       "      <td>0</td>\n",
       "      <td>0</td>\n",
       "      <td>0</td>\n",
       "      <td>3</td>\n",
       "      <td>11</td>\n",
       "      <td>0</td>\n",
       "      <td>10</td>\n",
       "      <td>3562</td>\n",
       "      <td>46</td>\n",
       "      <td>Adult</td>\n",
       "    </tr>\n",
       "    <tr>\n",
       "      <th>2132</th>\n",
       "      <td>11181</td>\n",
       "      <td>PhD</td>\n",
       "      <td>Married</td>\n",
       "      <td>156924.0</td>\n",
       "      <td>0</td>\n",
       "      <td>0</td>\n",
       "      <td>85</td>\n",
       "      <td>2</td>\n",
       "      <td>1</td>\n",
       "      <td>2</td>\n",
       "      <td>1</td>\n",
       "      <td>1</td>\n",
       "      <td>1</td>\n",
       "      <td>0</td>\n",
       "      <td>0</td>\n",
       "      <td>0</td>\n",
       "      <td>0</td>\n",
       "      <td>0</td>\n",
       "      <td>0</td>\n",
       "      <td>0</td>\n",
       "      <td>0</td>\n",
       "      <td>0</td>\n",
       "      <td>0</td>\n",
       "      <td>0</td>\n",
       "      <td>3</td>\n",
       "      <td>11</td>\n",
       "      <td>0</td>\n",
       "      <td>10</td>\n",
       "      <td>3440</td>\n",
       "      <td>74</td>\n",
       "      <td>Elder</td>\n",
       "    </tr>\n",
       "    <tr>\n",
       "      <th>2233</th>\n",
       "      <td>9432</td>\n",
       "      <td>Graduation</td>\n",
       "      <td>Together</td>\n",
       "      <td>666666.0</td>\n",
       "      <td>1</td>\n",
       "      <td>0</td>\n",
       "      <td>23</td>\n",
       "      <td>9</td>\n",
       "      <td>14</td>\n",
       "      <td>18</td>\n",
       "      <td>8</td>\n",
       "      <td>1</td>\n",
       "      <td>12</td>\n",
       "      <td>4</td>\n",
       "      <td>3</td>\n",
       "      <td>1</td>\n",
       "      <td>3</td>\n",
       "      <td>6</td>\n",
       "      <td>0</td>\n",
       "      <td>0</td>\n",
       "      <td>0</td>\n",
       "      <td>0</td>\n",
       "      <td>0</td>\n",
       "      <td>0</td>\n",
       "      <td>3</td>\n",
       "      <td>11</td>\n",
       "      <td>0</td>\n",
       "      <td>10</td>\n",
       "      <td>3644</td>\n",
       "      <td>46</td>\n",
       "      <td>Adult</td>\n",
       "    </tr>\n",
       "  </tbody>\n",
       "</table>\n",
       "</div>"
      ],
      "text/plain": [
       "         ID   Education Marital_Status    Income  Kidhome  Teenhome  Recency  \\\n",
       "164    8475         PhD        Married  157243.0        0         1       98   \n",
       "617    1503         PhD       Together  162397.0        1         1       31   \n",
       "655    5555  Graduation       Divorced  153924.0        0         0       81   \n",
       "687    1501         PhD        Married  160803.0        0         0       21   \n",
       "1300   5336      Master       Together  157733.0        1         0       37   \n",
       "1653   4931  Graduation       Together  157146.0        0         0       13   \n",
       "2132  11181         PhD        Married  156924.0        0         0       85   \n",
       "2233   9432  Graduation       Together  666666.0        1         0       23   \n",
       "\n",
       "      MntWines  MntFruits  MntMeatProducts  MntFishProducts  MntSweetProducts  \\\n",
       "164         20          2             1582                1                 2   \n",
       "617         85          1               16                2                 1   \n",
       "655          1          1                1                1                 1   \n",
       "687         55         16             1622               17                 3   \n",
       "1300        39          1                9                2                 0   \n",
       "1653         1          0             1725                2                 1   \n",
       "2132         2          1                2                1                 1   \n",
       "2233         9         14               18                8                 1   \n",
       "\n",
       "      MntGoldProds  NumDealsPurchases  NumWebPurchases  NumCatalogPurchases  \\\n",
       "164              1                 15                0                   22   \n",
       "617              2                  0                0                    0   \n",
       "655              1                  0                0                    0   \n",
       "687              4                 15                0                   28   \n",
       "1300             8                  0                1                    0   \n",
       "1653             1                  0                0                   28   \n",
       "2132             1                  0                0                    0   \n",
       "2233            12                  4                3                    1   \n",
       "\n",
       "      NumStorePurchases  NumWebVisitsMonth  AcceptedCmp3  AcceptedCmp4  \\\n",
       "164                   0                  0             0             0   \n",
       "617                   1                  1             0             0   \n",
       "655                   0                  0             0             0   \n",
       "687                   1                  0             0             0   \n",
       "1300                  1                  1             0             0   \n",
       "1653                  0                  1             0             0   \n",
       "2132                  0                  0             0             0   \n",
       "2233                  3                  6             0             0   \n",
       "\n",
       "      AcceptedCmp5  AcceptedCmp1  AcceptedCmp2  Complain  Z_CostContact  \\\n",
       "164              0             0             0         0              3   \n",
       "617              0             0             0         0              3   \n",
       "655              0             0             0         0              3   \n",
       "687              0             0             0         0              3   \n",
       "1300             0             0             0         0              3   \n",
       "1653             0             0             0         0              3   \n",
       "2132             0             0             0         0              3   \n",
       "2233             0             0             0         0              3   \n",
       "\n",
       "      Z_Revenue  Response  Year_Customer  DayDiff_Customer  Age Age_Group  \n",
       "164          11         0              9              3313   50     Adult  \n",
       "617          11         0             10              3616   47     Adult  \n",
       "655          11         0              9              3133   48     Adult  \n",
       "687          11         0             11              3948   41     Adult  \n",
       "1300         11         0             10              3585   52     Adult  \n",
       "1653         11         0             10              3562   46     Adult  \n",
       "2132         11         0             10              3440   74     Elder  \n",
       "2233         11         0             10              3644   46     Adult  "
      ]
     },
     "execution_count": 23,
     "metadata": {},
     "output_type": "execute_result"
    }
   ],
   "source": [
    "data[data['Income'] > higher_treshold]"
   ]
  },
  {
   "cell_type": "code",
   "execution_count": 24,
   "id": "ee5c38a8",
   "metadata": {
    "execution": {
     "iopub.execute_input": "2023-01-29T22:58:52.559815Z",
     "iopub.status.busy": "2023-01-29T22:58:52.559108Z",
     "iopub.status.idle": "2023-01-29T22:58:52.564401Z",
     "shell.execute_reply": "2023-01-29T22:58:52.563836Z"
    },
    "papermill": {
     "duration": 0.027316,
     "end_time": "2023-01-29T22:58:52.565887",
     "exception": false,
     "start_time": "2023-01-29T22:58:52.538571",
     "status": "completed"
    },
    "tags": []
   },
   "outputs": [],
   "source": [
    "data.drop(index=(data[data['Income'] > higher_treshold].index), axis = 0, inplace=True)"
   ]
  },
  {
   "cell_type": "code",
   "execution_count": 25,
   "id": "1b8ef07f",
   "metadata": {
    "execution": {
     "iopub.execute_input": "2023-01-29T22:58:52.606376Z",
     "iopub.status.busy": "2023-01-29T22:58:52.605948Z",
     "iopub.status.idle": "2023-01-29T22:58:52.792425Z",
     "shell.execute_reply": "2023-01-29T22:58:52.791794Z"
    },
    "papermill": {
     "duration": 0.208418,
     "end_time": "2023-01-29T22:58:52.793978",
     "exception": false,
     "start_time": "2023-01-29T22:58:52.585560",
     "status": "completed"
    },
    "tags": []
   },
   "outputs": [
    {
     "data": {
      "text/plain": [
       "<AxesSubplot:xlabel='Income', ylabel='Count'>"
      ]
     },
     "execution_count": 25,
     "metadata": {},
     "output_type": "execute_result"
    },
    {
     "data": {
      "image/png": "[encoded data removed]",
      "text/plain": [
       "<Figure size 432x288 with 1 Axes>"
      ]
     },
     "metadata": {
      "needs_background": "light"
     },
     "output_type": "display_data"
    }
   ],
   "source": [
    "sns.histplot(data['Income'])"
   ]
  },
  {
   "cell_type": "markdown",
   "id": "06b1ac2e",
   "metadata": {
    "papermill": {
     "duration": 0.020141,
     "end_time": "2023-01-29T22:58:52.834591",
     "exception": false,
     "start_time": "2023-01-29T22:58:52.814450",
     "status": "completed"
    },
    "tags": []
   },
   "source": [
    "The distribution of data looks more normal distribution."
   ]
  },
  {
   "cell_type": "code",
   "execution_count": 26,
   "id": "0d021fe8",
   "metadata": {
    "execution": {
     "iopub.execute_input": "2023-01-29T22:58:52.876263Z",
     "iopub.status.busy": "2023-01-29T22:58:52.875920Z",
     "iopub.status.idle": "2023-01-29T22:58:52.881299Z",
     "shell.execute_reply": "2023-01-29T22:58:52.880263Z"
    },
    "papermill": {
     "duration": 0.028395,
     "end_time": "2023-01-29T22:58:52.883095",
     "exception": false,
     "start_time": "2023-01-29T22:58:52.854700",
     "status": "completed"
    },
    "tags": []
   },
   "outputs": [],
   "source": [
    "income_median = np.median(data['Income'])\n",
    "income_std = np.std(data['Income'])"
   ]
  },
  {
   "cell_type": "code",
   "execution_count": 27,
   "id": "b861abcf",
   "metadata": {
    "execution": {
     "iopub.execute_input": "2023-01-29T22:58:52.923556Z",
     "iopub.status.busy": "2023-01-29T22:58:52.923178Z",
     "iopub.status.idle": "2023-01-29T22:58:52.928457Z",
     "shell.execute_reply": "2023-01-29T22:58:52.927417Z"
    },
    "papermill": {
     "duration": 0.02755,
     "end_time": "2023-01-29T22:58:52.930190",
     "exception": false,
     "start_time": "2023-01-29T22:58:52.902640",
     "status": "completed"
    },
    "tags": []
   },
   "outputs": [],
   "source": [
    "q1, q3 = np.percentile(data[\"Income\"],[25,75])"
   ]
  },
  {
   "cell_type": "code",
   "execution_count": 28,
   "id": "8341aa1d",
   "metadata": {
    "execution": {
     "iopub.execute_input": "2023-01-29T22:58:52.974852Z",
     "iopub.status.busy": "2023-01-29T22:58:52.973945Z",
     "iopub.status.idle": "2023-01-29T22:58:52.979721Z",
     "shell.execute_reply": "2023-01-29T22:58:52.979063Z"
    },
    "papermill": {
     "duration": 0.031377,
     "end_time": "2023-01-29T22:58:52.981567",
     "exception": false,
     "start_time": "2023-01-29T22:58:52.950190",
     "status": "completed"
    },
    "tags": []
   },
   "outputs": [],
   "source": [
    "def income_group(income):\n",
    "    if income <= q1:\n",
    "        income_group = 'Low'\n",
    "    elif (income > q1) & (income <= q3):\n",
    "        income_group = 'Middle'\n",
    "    else:\n",
    "        income_group = 'High'\n",
    "    return income_group"
   ]
  },
  {
   "cell_type": "code",
   "execution_count": 29,
   "id": "6db6f334",
   "metadata": {
    "execution": {
     "iopub.execute_input": "2023-01-29T22:58:53.033193Z",
     "iopub.status.busy": "2023-01-29T22:58:53.032659Z",
     "iopub.status.idle": "2023-01-29T22:58:53.040048Z",
     "shell.execute_reply": "2023-01-29T22:58:53.039502Z"
    },
    "papermill": {
     "duration": 0.033691,
     "end_time": "2023-01-29T22:58:53.041553",
     "exception": false,
     "start_time": "2023-01-29T22:58:53.007862",
     "status": "completed"
    },
    "tags": []
   },
   "outputs": [],
   "source": [
    "data['Income_Group'] = data['Income'].apply(lambda x: income_group(x))\n",
    "income_group_ordered = CategoricalDtype(categories=['Low','Middle', 'High'], ordered=True)\n",
    "data['Income_Group'] = data['Income_Group'].astype(income_group_ordered)"
   ]
  },
  {
   "cell_type": "code",
   "execution_count": 30,
   "id": "e1275eb9",
   "metadata": {
    "execution": {
     "iopub.execute_input": "2023-01-29T22:58:53.083088Z",
     "iopub.status.busy": "2023-01-29T22:58:53.082191Z",
     "iopub.status.idle": "2023-01-29T22:58:53.109671Z",
     "shell.execute_reply": "2023-01-29T22:58:53.109067Z"
    },
    "papermill": {
     "duration": 0.049715,
     "end_time": "2023-01-29T22:58:53.111171",
     "exception": false,
     "start_time": "2023-01-29T22:58:53.061456",
     "status": "completed"
    },
    "tags": []
   },
   "outputs": [
    {
     "data": {
      "text/html": [
       "<div>\n",
       "<style scoped>\n",
       "    .dataframe tbody tr th:only-of-type {\n",
       "        vertical-align: middle;\n",
       "    }\n",
       "\n",
       "    .dataframe tbody tr th {\n",
       "        vertical-align: top;\n",
       "    }\n",
       "\n",
       "    .dataframe thead th {\n",
       "        text-align: right;\n",
       "    }\n",
       "</style>\n",
       "<table border=\"1\" class=\"dataframe\">\n",
       "  <thead>\n",
       "    <tr style=\"text-align: right;\">\n",
       "      <th></th>\n",
       "      <th>ID</th>\n",
       "      <th>Education</th>\n",
       "      <th>Marital_Status</th>\n",
       "      <th>Income</th>\n",
       "      <th>Kidhome</th>\n",
       "      <th>Teenhome</th>\n",
       "      <th>Recency</th>\n",
       "      <th>MntWines</th>\n",
       "      <th>MntFruits</th>\n",
       "      <th>MntMeatProducts</th>\n",
       "      <th>MntFishProducts</th>\n",
       "      <th>MntSweetProducts</th>\n",
       "      <th>MntGoldProds</th>\n",
       "      <th>NumDealsPurchases</th>\n",
       "      <th>NumWebPurchases</th>\n",
       "      <th>NumCatalogPurchases</th>\n",
       "      <th>NumStorePurchases</th>\n",
       "      <th>NumWebVisitsMonth</th>\n",
       "      <th>AcceptedCmp3</th>\n",
       "      <th>AcceptedCmp4</th>\n",
       "      <th>AcceptedCmp5</th>\n",
       "      <th>AcceptedCmp1</th>\n",
       "      <th>AcceptedCmp2</th>\n",
       "      <th>Complain</th>\n",
       "      <th>Z_CostContact</th>\n",
       "      <th>Z_Revenue</th>\n",
       "      <th>Response</th>\n",
       "      <th>Year_Customer</th>\n",
       "      <th>DayDiff_Customer</th>\n",
       "      <th>Age</th>\n",
       "      <th>Age_Group</th>\n",
       "      <th>Income_Group</th>\n",
       "    </tr>\n",
       "  </thead>\n",
       "  <tbody>\n",
       "    <tr>\n",
       "      <th>2</th>\n",
       "      <td>4141</td>\n",
       "      <td>Graduation</td>\n",
       "      <td>Together</td>\n",
       "      <td>71613.0</td>\n",
       "      <td>0</td>\n",
       "      <td>0</td>\n",
       "      <td>26</td>\n",
       "      <td>426</td>\n",
       "      <td>49</td>\n",
       "      <td>127</td>\n",
       "      <td>111</td>\n",
       "      <td>21</td>\n",
       "      <td>42</td>\n",
       "      <td>1</td>\n",
       "      <td>8</td>\n",
       "      <td>2</td>\n",
       "      <td>10</td>\n",
       "      <td>4</td>\n",
       "      <td>0</td>\n",
       "      <td>0</td>\n",
       "      <td>0</td>\n",
       "      <td>0</td>\n",
       "      <td>0</td>\n",
       "      <td>0</td>\n",
       "      <td>3</td>\n",
       "      <td>11</td>\n",
       "      <td>0</td>\n",
       "      <td>10</td>\n",
       "      <td>3448</td>\n",
       "      <td>58</td>\n",
       "      <td>Adult</td>\n",
       "      <td>High</td>\n",
       "    </tr>\n",
       "    <tr>\n",
       "      <th>15</th>\n",
       "      <td>2114</td>\n",
       "      <td>PhD</td>\n",
       "      <td>Single</td>\n",
       "      <td>82800.0</td>\n",
       "      <td>0</td>\n",
       "      <td>0</td>\n",
       "      <td>23</td>\n",
       "      <td>1006</td>\n",
       "      <td>22</td>\n",
       "      <td>115</td>\n",
       "      <td>59</td>\n",
       "      <td>68</td>\n",
       "      <td>45</td>\n",
       "      <td>1</td>\n",
       "      <td>7</td>\n",
       "      <td>6</td>\n",
       "      <td>12</td>\n",
       "      <td>3</td>\n",
       "      <td>0</td>\n",
       "      <td>0</td>\n",
       "      <td>1</td>\n",
       "      <td>1</td>\n",
       "      <td>0</td>\n",
       "      <td>0</td>\n",
       "      <td>3</td>\n",
       "      <td>11</td>\n",
       "      <td>1</td>\n",
       "      <td>11</td>\n",
       "      <td>3718</td>\n",
       "      <td>77</td>\n",
       "      <td>Elder</td>\n",
       "      <td>High</td>\n",
       "    </tr>\n",
       "    <tr>\n",
       "      <th>18</th>\n",
       "      <td>6565</td>\n",
       "      <td>Master</td>\n",
       "      <td>Married</td>\n",
       "      <td>76995.0</td>\n",
       "      <td>0</td>\n",
       "      <td>1</td>\n",
       "      <td>91</td>\n",
       "      <td>1012</td>\n",
       "      <td>80</td>\n",
       "      <td>498</td>\n",
       "      <td>0</td>\n",
       "      <td>16</td>\n",
       "      <td>176</td>\n",
       "      <td>2</td>\n",
       "      <td>11</td>\n",
       "      <td>4</td>\n",
       "      <td>9</td>\n",
       "      <td>5</td>\n",
       "      <td>0</td>\n",
       "      <td>0</td>\n",
       "      <td>0</td>\n",
       "      <td>1</td>\n",
       "      <td>0</td>\n",
       "      <td>0</td>\n",
       "      <td>3</td>\n",
       "      <td>11</td>\n",
       "      <td>0</td>\n",
       "      <td>10</td>\n",
       "      <td>3594</td>\n",
       "      <td>74</td>\n",
       "      <td>Elder</td>\n",
       "      <td>High</td>\n",
       "    </tr>\n",
       "    <tr>\n",
       "      <th>29</th>\n",
       "      <td>1966</td>\n",
       "      <td>PhD</td>\n",
       "      <td>Married</td>\n",
       "      <td>84618.0</td>\n",
       "      <td>0</td>\n",
       "      <td>0</td>\n",
       "      <td>96</td>\n",
       "      <td>684</td>\n",
       "      <td>100</td>\n",
       "      <td>801</td>\n",
       "      <td>21</td>\n",
       "      <td>66</td>\n",
       "      <td>0</td>\n",
       "      <td>1</td>\n",
       "      <td>6</td>\n",
       "      <td>9</td>\n",
       "      <td>10</td>\n",
       "      <td>2</td>\n",
       "      <td>0</td>\n",
       "      <td>0</td>\n",
       "      <td>1</td>\n",
       "      <td>0</td>\n",
       "      <td>0</td>\n",
       "      <td>0</td>\n",
       "      <td>3</td>\n",
       "      <td>11</td>\n",
       "      <td>0</td>\n",
       "      <td>10</td>\n",
       "      <td>3355</td>\n",
       "      <td>58</td>\n",
       "      <td>Adult</td>\n",
       "      <td>High</td>\n",
       "    </tr>\n",
       "    <tr>\n",
       "      <th>34</th>\n",
       "      <td>8755</td>\n",
       "      <td>Master</td>\n",
       "      <td>Married</td>\n",
       "      <td>68657.0</td>\n",
       "      <td>0</td>\n",
       "      <td>0</td>\n",
       "      <td>4</td>\n",
       "      <td>482</td>\n",
       "      <td>34</td>\n",
       "      <td>471</td>\n",
       "      <td>119</td>\n",
       "      <td>68</td>\n",
       "      <td>22</td>\n",
       "      <td>1</td>\n",
       "      <td>3</td>\n",
       "      <td>5</td>\n",
       "      <td>9</td>\n",
       "      <td>7</td>\n",
       "      <td>0</td>\n",
       "      <td>0</td>\n",
       "      <td>0</td>\n",
       "      <td>0</td>\n",
       "      <td>0</td>\n",
       "      <td>0</td>\n",
       "      <td>3</td>\n",
       "      <td>11</td>\n",
       "      <td>0</td>\n",
       "      <td>10</td>\n",
       "      <td>3630</td>\n",
       "      <td>77</td>\n",
       "      <td>Elder</td>\n",
       "      <td>High</td>\n",
       "    </tr>\n",
       "    <tr>\n",
       "      <th>...</th>\n",
       "      <td>...</td>\n",
       "      <td>...</td>\n",
       "      <td>...</td>\n",
       "      <td>...</td>\n",
       "      <td>...</td>\n",
       "      <td>...</td>\n",
       "      <td>...</td>\n",
       "      <td>...</td>\n",
       "      <td>...</td>\n",
       "      <td>...</td>\n",
       "      <td>...</td>\n",
       "      <td>...</td>\n",
       "      <td>...</td>\n",
       "      <td>...</td>\n",
       "      <td>...</td>\n",
       "      <td>...</td>\n",
       "      <td>...</td>\n",
       "      <td>...</td>\n",
       "      <td>...</td>\n",
       "      <td>...</td>\n",
       "      <td>...</td>\n",
       "      <td>...</td>\n",
       "      <td>...</td>\n",
       "      <td>...</td>\n",
       "      <td>...</td>\n",
       "      <td>...</td>\n",
       "      <td>...</td>\n",
       "      <td>...</td>\n",
       "      <td>...</td>\n",
       "      <td>...</td>\n",
       "      <td>...</td>\n",
       "      <td>...</td>\n",
       "    </tr>\n",
       "    <tr>\n",
       "      <th>2211</th>\n",
       "      <td>10469</td>\n",
       "      <td>Graduation</td>\n",
       "      <td>Together</td>\n",
       "      <td>88325.0</td>\n",
       "      <td>0</td>\n",
       "      <td>0</td>\n",
       "      <td>42</td>\n",
       "      <td>519</td>\n",
       "      <td>71</td>\n",
       "      <td>860</td>\n",
       "      <td>93</td>\n",
       "      <td>27</td>\n",
       "      <td>53</td>\n",
       "      <td>1</td>\n",
       "      <td>6</td>\n",
       "      <td>2</td>\n",
       "      <td>9</td>\n",
       "      <td>2</td>\n",
       "      <td>0</td>\n",
       "      <td>0</td>\n",
       "      <td>0</td>\n",
       "      <td>0</td>\n",
       "      <td>0</td>\n",
       "      <td>0</td>\n",
       "      <td>3</td>\n",
       "      <td>11</td>\n",
       "      <td>0</td>\n",
       "      <td>9</td>\n",
       "      <td>3194</td>\n",
       "      <td>42</td>\n",
       "      <td>Adult</td>\n",
       "      <td>High</td>\n",
       "    </tr>\n",
       "    <tr>\n",
       "      <th>2213</th>\n",
       "      <td>3661</td>\n",
       "      <td>2n Cycle</td>\n",
       "      <td>Single</td>\n",
       "      <td>80617.0</td>\n",
       "      <td>0</td>\n",
       "      <td>0</td>\n",
       "      <td>42</td>\n",
       "      <td>594</td>\n",
       "      <td>51</td>\n",
       "      <td>631</td>\n",
       "      <td>72</td>\n",
       "      <td>55</td>\n",
       "      <td>32</td>\n",
       "      <td>1</td>\n",
       "      <td>4</td>\n",
       "      <td>6</td>\n",
       "      <td>8</td>\n",
       "      <td>2</td>\n",
       "      <td>0</td>\n",
       "      <td>0</td>\n",
       "      <td>0</td>\n",
       "      <td>0</td>\n",
       "      <td>0</td>\n",
       "      <td>0</td>\n",
       "      <td>3</td>\n",
       "      <td>11</td>\n",
       "      <td>0</td>\n",
       "      <td>11</td>\n",
       "      <td>3702</td>\n",
       "      <td>28</td>\n",
       "      <td>Adult</td>\n",
       "      <td>High</td>\n",
       "    </tr>\n",
       "    <tr>\n",
       "      <th>2217</th>\n",
       "      <td>9589</td>\n",
       "      <td>PhD</td>\n",
       "      <td>Widow</td>\n",
       "      <td>82032.0</td>\n",
       "      <td>0</td>\n",
       "      <td>0</td>\n",
       "      <td>54</td>\n",
       "      <td>332</td>\n",
       "      <td>194</td>\n",
       "      <td>377</td>\n",
       "      <td>149</td>\n",
       "      <td>125</td>\n",
       "      <td>57</td>\n",
       "      <td>0</td>\n",
       "      <td>4</td>\n",
       "      <td>6</td>\n",
       "      <td>7</td>\n",
       "      <td>1</td>\n",
       "      <td>0</td>\n",
       "      <td>0</td>\n",
       "      <td>0</td>\n",
       "      <td>0</td>\n",
       "      <td>0</td>\n",
       "      <td>0</td>\n",
       "      <td>3</td>\n",
       "      <td>11</td>\n",
       "      <td>0</td>\n",
       "      <td>9</td>\n",
       "      <td>3192</td>\n",
       "      <td>75</td>\n",
       "      <td>Elder</td>\n",
       "      <td>High</td>\n",
       "    </tr>\n",
       "    <tr>\n",
       "      <th>2221</th>\n",
       "      <td>7366</td>\n",
       "      <td>Master</td>\n",
       "      <td>Single</td>\n",
       "      <td>75777.0</td>\n",
       "      <td>0</td>\n",
       "      <td>0</td>\n",
       "      <td>12</td>\n",
       "      <td>712</td>\n",
       "      <td>26</td>\n",
       "      <td>538</td>\n",
       "      <td>69</td>\n",
       "      <td>13</td>\n",
       "      <td>80</td>\n",
       "      <td>1</td>\n",
       "      <td>3</td>\n",
       "      <td>6</td>\n",
       "      <td>11</td>\n",
       "      <td>1</td>\n",
       "      <td>0</td>\n",
       "      <td>1</td>\n",
       "      <td>1</td>\n",
       "      <td>0</td>\n",
       "      <td>0</td>\n",
       "      <td>0</td>\n",
       "      <td>3</td>\n",
       "      <td>11</td>\n",
       "      <td>1</td>\n",
       "      <td>10</td>\n",
       "      <td>3584</td>\n",
       "      <td>41</td>\n",
       "      <td>Adult</td>\n",
       "      <td>High</td>\n",
       "    </tr>\n",
       "    <tr>\n",
       "      <th>2238</th>\n",
       "      <td>8235</td>\n",
       "      <td>Master</td>\n",
       "      <td>Together</td>\n",
       "      <td>69245.0</td>\n",
       "      <td>0</td>\n",
       "      <td>1</td>\n",
       "      <td>8</td>\n",
       "      <td>428</td>\n",
       "      <td>30</td>\n",
       "      <td>214</td>\n",
       "      <td>80</td>\n",
       "      <td>30</td>\n",
       "      <td>61</td>\n",
       "      <td>2</td>\n",
       "      <td>6</td>\n",
       "      <td>5</td>\n",
       "      <td>10</td>\n",
       "      <td>3</td>\n",
       "      <td>0</td>\n",
       "      <td>0</td>\n",
       "      <td>0</td>\n",
       "      <td>0</td>\n",
       "      <td>0</td>\n",
       "      <td>0</td>\n",
       "      <td>3</td>\n",
       "      <td>11</td>\n",
       "      <td>0</td>\n",
       "      <td>9</td>\n",
       "      <td>3292</td>\n",
       "      <td>67</td>\n",
       "      <td>Elder</td>\n",
       "      <td>High</td>\n",
       "    </tr>\n",
       "  </tbody>\n",
       "</table>\n",
       "<p>551 rows × 32 columns</p>\n",
       "</div>"
      ],
      "text/plain": [
       "         ID   Education Marital_Status   Income  Kidhome  Teenhome  Recency  \\\n",
       "2      4141  Graduation       Together  71613.0        0         0       26   \n",
       "15     2114         PhD         Single  82800.0        0         0       23   \n",
       "18     6565      Master        Married  76995.0        0         1       91   \n",
       "29     1966         PhD        Married  84618.0        0         0       96   \n",
       "34     8755      Master        Married  68657.0        0         0        4   \n",
       "...     ...         ...            ...      ...      ...       ...      ...   \n",
       "2211  10469  Graduation       Together  88325.0        0         0       42   \n",
       "2213   3661    2n Cycle         Single  80617.0        0         0       42   \n",
       "2217   9589         PhD          Widow  82032.0        0         0       54   \n",
       "2221   7366      Master         Single  75777.0        0         0       12   \n",
       "2238   8235      Master       Together  69245.0        0         1        8   \n",
       "\n",
       "      MntWines  MntFruits  MntMeatProducts  MntFishProducts  MntSweetProducts  \\\n",
       "2          426         49              127              111                21   \n",
       "15        1006         22              115               59                68   \n",
       "18        1012         80              498                0                16   \n",
       "29         684        100              801               21                66   \n",
       "34         482         34              471              119                68   \n",
       "...        ...        ...              ...              ...               ...   \n",
       "2211       519         71              860               93                27   \n",
       "2213       594         51              631               72                55   \n",
       "2217       332        194              377              149               125   \n",
       "2221       712         26              538               69                13   \n",
       "2238       428         30              214               80                30   \n",
       "\n",
       "      MntGoldProds  NumDealsPurchases  NumWebPurchases  NumCatalogPurchases  \\\n",
       "2               42                  1                8                    2   \n",
       "15              45                  1                7                    6   \n",
       "18             176                  2               11                    4   \n",
       "29               0                  1                6                    9   \n",
       "34              22                  1                3                    5   \n",
       "...            ...                ...              ...                  ...   \n",
       "2211            53                  1                6                    2   \n",
       "2213            32                  1                4                    6   \n",
       "2217            57                  0                4                    6   \n",
       "2221            80                  1                3                    6   \n",
       "2238            61                  2                6                    5   \n",
       "\n",
       "      NumStorePurchases  NumWebVisitsMonth  AcceptedCmp3  AcceptedCmp4  \\\n",
       "2                    10                  4             0             0   \n",
       "15                   12                  3             0             0   \n",
       "18                    9                  5             0             0   \n",
       "29                   10                  2             0             0   \n",
       "34                    9                  7             0             0   \n",
       "...                 ...                ...           ...           ...   \n",
       "2211                  9                  2             0             0   \n",
       "2213                  8                  2             0             0   \n",
       "2217                  7                  1             0             0   \n",
       "2221                 11                  1             0             1   \n",
       "2238                 10                  3             0             0   \n",
       "\n",
       "      AcceptedCmp5  AcceptedCmp1  AcceptedCmp2  Complain  Z_CostContact  \\\n",
       "2                0             0             0         0              3   \n",
       "15               1             1             0         0              3   \n",
       "18               0             1             0         0              3   \n",
       "29               1             0             0         0              3   \n",
       "34               0             0             0         0              3   \n",
       "...            ...           ...           ...       ...            ...   \n",
       "2211             0             0             0         0              3   \n",
       "2213             0             0             0         0              3   \n",
       "2217             0             0             0         0              3   \n",
       "2221             1             0             0         0              3   \n",
       "2238             0             0             0         0              3   \n",
       "\n",
       "      Z_Revenue  Response  Year_Customer  DayDiff_Customer  Age Age_Group  \\\n",
       "2            11         0             10              3448   58     Adult   \n",
       "15           11         1             11              3718   77     Elder   \n",
       "18           11         0             10              3594   74     Elder   \n",
       "29           11         0             10              3355   58     Adult   \n",
       "34           11         0             10              3630   77     Elder   \n",
       "...         ...       ...            ...               ...  ...       ...   \n",
       "2211         11         0              9              3194   42     Adult   \n",
       "2213         11         0             11              3702   28     Adult   \n",
       "2217         11         0              9              3192   75     Elder   \n",
       "2221         11         1             10              3584   41     Adult   \n",
       "2238         11         0              9              3292   67     Elder   \n",
       "\n",
       "     Income_Group  \n",
       "2            High  \n",
       "15           High  \n",
       "18           High  \n",
       "29           High  \n",
       "34           High  \n",
       "...           ...  \n",
       "2211         High  \n",
       "2213         High  \n",
       "2217         High  \n",
       "2221         High  \n",
       "2238         High  \n",
       "\n",
       "[551 rows x 32 columns]"
      ]
     },
     "execution_count": 30,
     "metadata": {},
     "output_type": "execute_result"
    }
   ],
   "source": [
    "data[data[\"Income_Group\"] == \"High\"]"
   ]
  },
  {
   "cell_type": "markdown",
   "id": "6f1bed09",
   "metadata": {
    "papermill": {
     "duration": 0.021022,
     "end_time": "2023-01-29T22:58:53.152881",
     "exception": false,
     "start_time": "2023-01-29T22:58:53.131859",
     "status": "completed"
    },
    "tags": []
   },
   "source": [
    "# Marital Status Variable"
   ]
  },
  {
   "cell_type": "code",
   "execution_count": 31,
   "id": "2c00fea8",
   "metadata": {
    "execution": {
     "iopub.execute_input": "2023-01-29T22:58:53.197295Z",
     "iopub.status.busy": "2023-01-29T22:58:53.196758Z",
     "iopub.status.idle": "2023-01-29T22:58:53.203044Z",
     "shell.execute_reply": "2023-01-29T22:58:53.202495Z"
    },
    "papermill": {
     "duration": 0.029806,
     "end_time": "2023-01-29T22:58:53.204527",
     "exception": false,
     "start_time": "2023-01-29T22:58:53.174721",
     "status": "completed"
    },
    "tags": []
   },
   "outputs": [
    {
     "data": {
      "text/plain": [
       "Married     854\n",
       "Together    568\n",
       "Single      470\n",
       "Divorced    230\n",
       "Widow        76\n",
       "Alone         3\n",
       "Absurd        2\n",
       "YOLO          2\n",
       "Name: Marital_Status, dtype: int64"
      ]
     },
     "execution_count": 31,
     "metadata": {},
     "output_type": "execute_result"
    }
   ],
   "source": [
    "data['Marital_Status'].value_counts()"
   ]
  },
  {
   "cell_type": "markdown",
   "id": "e07c8d90",
   "metadata": {
    "papermill": {
     "duration": 0.020075,
     "end_time": "2023-01-29T22:58:53.244841",
     "exception": false,
     "start_time": "2023-01-29T22:58:53.224766",
     "status": "completed"
    },
    "tags": []
   },
   "source": [
    "**There are some categories which has very low value.\n",
    "Drops the non-freqent categories:**"
   ]
  },
  {
   "cell_type": "code",
   "execution_count": 32,
   "id": "4b2fe30f",
   "metadata": {
    "execution": {
     "iopub.execute_input": "2023-01-29T22:58:53.287012Z",
     "iopub.status.busy": "2023-01-29T22:58:53.286527Z",
     "iopub.status.idle": "2023-01-29T22:58:53.295914Z",
     "shell.execute_reply": "2023-01-29T22:58:53.295125Z"
    },
    "papermill": {
     "duration": 0.03214,
     "end_time": "2023-01-29T22:58:53.297517",
     "exception": false,
     "start_time": "2023-01-29T22:58:53.265377",
     "status": "completed"
    },
    "tags": []
   },
   "outputs": [],
   "source": [
    "data.drop(index=(data[data['Marital_Status'] == 'Alone'].index), axis = 0, inplace = True)\n",
    "data.drop(index=(data[data['Marital_Status'] == 'Absurd'].index), axis = 0, inplace = True)\n",
    "data.drop(index=(data[data['Marital_Status'] == 'YOLO'].index), axis = 0, inplace = True)"
   ]
  },
  {
   "cell_type": "markdown",
   "id": "5b161e34",
   "metadata": {
    "papermill": {
     "duration": 0.019651,
     "end_time": "2023-01-29T22:58:53.337020",
     "exception": false,
     "start_time": "2023-01-29T22:58:53.317369",
     "status": "completed"
    },
    "tags": []
   },
   "source": [
    "# Kidhome Variable"
   ]
  },
  {
   "cell_type": "code",
   "execution_count": 33,
   "id": "01c42eff",
   "metadata": {
    "execution": {
     "iopub.execute_input": "2023-01-29T22:58:53.378348Z",
     "iopub.status.busy": "2023-01-29T22:58:53.377989Z",
     "iopub.status.idle": "2023-01-29T22:58:53.383889Z",
     "shell.execute_reply": "2023-01-29T22:58:53.383109Z"
    },
    "papermill": {
     "duration": 0.028647,
     "end_time": "2023-01-29T22:58:53.385537",
     "exception": false,
     "start_time": "2023-01-29T22:58:53.356890",
     "status": "completed"
    },
    "tags": []
   },
   "outputs": [],
   "source": [
    "kidhome_category = CategoricalDtype(categories=[0,1,2], ordered = False)\n",
    "data['Kidhome'] = data['Kidhome'].astype(kidhome_category)"
   ]
  },
  {
   "cell_type": "markdown",
   "id": "90244685",
   "metadata": {
    "papermill": {
     "duration": 0.019586,
     "end_time": "2023-01-29T22:58:53.424943",
     "exception": false,
     "start_time": "2023-01-29T22:58:53.405357",
     "status": "completed"
    },
    "tags": []
   },
   "source": [
    "# Response Variable"
   ]
  },
  {
   "cell_type": "code",
   "execution_count": 34,
   "id": "3553cc3b",
   "metadata": {
    "execution": {
     "iopub.execute_input": "2023-01-29T22:58:53.466324Z",
     "iopub.status.busy": "2023-01-29T22:58:53.465968Z",
     "iopub.status.idle": "2023-01-29T22:58:53.474171Z",
     "shell.execute_reply": "2023-01-29T22:58:53.473441Z"
    },
    "papermill": {
     "duration": 0.030931,
     "end_time": "2023-01-29T22:58:53.475687",
     "exception": false,
     "start_time": "2023-01-29T22:58:53.444756",
     "status": "completed"
    },
    "tags": []
   },
   "outputs": [
    {
     "data": {
      "text/plain": [
       "0       1\n",
       "1       0\n",
       "2       0\n",
       "3       0\n",
       "4       0\n",
       "       ..\n",
       "2235    0\n",
       "2236    0\n",
       "2237    0\n",
       "2238    0\n",
       "2239    1\n",
       "Name: Response, Length: 2198, dtype: category\n",
       "Categories (2, int64): [0, 1]"
      ]
     },
     "execution_count": 34,
     "metadata": {},
     "output_type": "execute_result"
    }
   ],
   "source": [
    "data['Response'] = data['Response'].astype(\"category\")\n",
    "data['Response']"
   ]
  },
  {
   "cell_type": "markdown",
   "id": "91318b88",
   "metadata": {
    "papermill": {
     "duration": 0.019918,
     "end_time": "2023-01-29T22:58:53.515690",
     "exception": false,
     "start_time": "2023-01-29T22:58:53.495772",
     "status": "completed"
    },
    "tags": []
   },
   "source": [
    "# <p id = \"2\" style=\"font-family:arial;background-color:#2A93D5;color:#FFFFFF;font-size: 150%;text-align:center;border-radius: 0px 15px 15px 0px;border-style: solid;border-color: #2483bf;\">2.VISUALIZATION and EXPLORATORY ANALYSIS</p>\n",
    "[Click to return Table of Contents](#0)"
   ]
  },
  {
   "cell_type": "markdown",
   "id": "b7cf4b8c",
   "metadata": {
    "papermill": {
     "duration": 0.020043,
     "end_time": "2023-01-29T22:58:53.555831",
     "exception": false,
     "start_time": "2023-01-29T22:58:53.535788",
     "status": "completed"
    },
    "tags": []
   },
   "source": [
    "<p style=\"text-align:center; font-size:125%;\"><b>The Age Distribution</b></p>"
   ]
  },
  {
   "cell_type": "code",
   "execution_count": 35,
   "id": "255870ee",
   "metadata": {
    "execution": {
     "iopub.execute_input": "2023-01-29T22:58:53.597597Z",
     "iopub.status.busy": "2023-01-29T22:58:53.597224Z",
     "iopub.status.idle": "2023-01-29T22:58:53.790533Z",
     "shell.execute_reply": "2023-01-29T22:58:53.789629Z"
    },
    "papermill": {
     "duration": 0.216641,
     "end_time": "2023-01-29T22:58:53.792530",
     "exception": false,
     "start_time": "2023-01-29T22:58:53.575889",
     "status": "completed"
    },
    "tags": []
   },
   "outputs": [
    {
     "data": {
      "text/plain": [
       "[<matplotlib.axis.XTick at 0x7f411893fa50>,\n",
       " <matplotlib.axis.XTick at 0x7f4118bb0b90>,\n",
       " <matplotlib.axis.XTick at 0x7f41188ab090>,\n",
       " <matplotlib.axis.XTick at 0x7f41188c8390>,\n",
       " <matplotlib.axis.XTick at 0x7f41188c8050>,\n",
       " <matplotlib.axis.XTick at 0x7f41188d1110>,\n",
       " <matplotlib.axis.XTick at 0x7f41188c8910>,\n",
       " <matplotlib.axis.XTick at 0x7f41188d1650>,\n",
       " <matplotlib.axis.XTick at 0x7f41188ecc90>,\n",
       " <matplotlib.axis.XTick at 0x7f41188a1650>,\n",
       " <matplotlib.axis.XTick at 0x7f41188a1f10>,\n",
       " <matplotlib.axis.XTick at 0x7f4118871850>,\n",
       " <matplotlib.axis.XTick at 0x7f411887a190>]"
      ]
     },
     "execution_count": 35,
     "metadata": {},
     "output_type": "execute_result"
    },
    {
     "data": {
      "image/png": "[encoded data removed]",
      "text/plain": [
       "<Figure size 432x288 with 1 Axes>"
      ]
     },
     "metadata": {
      "needs_background": "light"
     },
     "output_type": "display_data"
    }
   ],
   "source": [
    "histogram_plot = sns.histplot(data['Age'],bins=10)\n",
    "histogram_plot.set_xticks(ticks)"
   ]
  },
  {
   "cell_type": "code",
   "execution_count": 36,
   "id": "ed840440",
   "metadata": {
    "execution": {
     "iopub.execute_input": "2023-01-29T22:58:53.836721Z",
     "iopub.status.busy": "2023-01-29T22:58:53.836406Z",
     "iopub.status.idle": "2023-01-29T22:58:53.976326Z",
     "shell.execute_reply": "2023-01-29T22:58:53.975590Z"
    },
    "papermill": {
     "duration": 0.164737,
     "end_time": "2023-01-29T22:58:53.978671",
     "exception": false,
     "start_time": "2023-01-29T22:58:53.813934",
     "status": "completed"
    },
    "tags": []
   },
   "outputs": [
    {
     "data": {
      "image/png": "[encoded data removed]",
      "text/plain": [
       "<Figure size 432x288 with 1 Axes>"
      ]
     },
     "metadata": {
      "needs_background": "light"
     },
     "output_type": "display_data"
    }
   ],
   "source": [
    "ax = sns.countplot(data=data, x=\"Age_Group\")\n",
    "for container in ax.containers:\n",
    "    ax.bar_label(container)"
   ]
  },
  {
   "cell_type": "markdown",
   "id": "1414f8bf",
   "metadata": {
    "papermill": {
     "duration": 0.020601,
     "end_time": "2023-01-29T22:58:54.022828",
     "exception": false,
     "start_time": "2023-01-29T22:58:54.002227",
     "status": "completed"
    },
    "tags": []
   },
   "source": [
    "Percents of each age group:"
   ]
  },
  {
   "cell_type": "code",
   "execution_count": 37,
   "id": "b84f1f23",
   "metadata": {
    "execution": {
     "iopub.execute_input": "2023-01-29T22:58:54.066617Z",
     "iopub.status.busy": "2023-01-29T22:58:54.066226Z",
     "iopub.status.idle": "2023-01-29T22:58:54.075637Z",
     "shell.execute_reply": "2023-01-29T22:58:54.074765Z"
    },
    "papermill": {
     "duration": 0.033232,
     "end_time": "2023-01-29T22:58:54.077349",
     "exception": false,
     "start_time": "2023-01-29T22:58:54.044117",
     "status": "completed"
    },
    "tags": []
   },
   "outputs": [
    {
     "data": {
      "text/plain": [
       "Adult          77.0\n",
       "Elder          23.0\n",
       "Young Adult     0.0\n",
       "Name: Age_Group, dtype: float64"
      ]
     },
     "execution_count": 37,
     "metadata": {},
     "output_type": "execute_result"
    }
   ],
   "source": [
    "round((data['Age_Group'].value_counts(normalize=True) * 100),0)"
   ]
  },
  {
   "cell_type": "markdown",
   "id": "836c9f9c",
   "metadata": {
    "papermill": {
     "duration": 0.020788,
     "end_time": "2023-01-29T22:58:54.119596",
     "exception": false,
     "start_time": "2023-01-29T22:58:54.098808",
     "status": "completed"
    },
    "tags": []
   },
   "source": [
    "There are no customers from the young adult group. It may be because of that the age variable's calculation is based on the current year."
   ]
  },
  {
   "cell_type": "markdown",
   "id": "c68f66d8",
   "metadata": {
    "papermill": {
     "duration": 0.020907,
     "end_time": "2023-01-29T22:58:54.161606",
     "exception": false,
     "start_time": "2023-01-29T22:58:54.140699",
     "status": "completed"
    },
    "tags": []
   },
   "source": [
    "<p style=\"text-align:center; font-size:125%;\"><b>Kidhome and Teenhome Distribution</b></p>\n",
    "<hr>"
   ]
  },
  {
   "cell_type": "code",
   "execution_count": 38,
   "id": "2808e9c3",
   "metadata": {
    "execution": {
     "iopub.execute_input": "2023-01-29T22:58:54.205993Z",
     "iopub.status.busy": "2023-01-29T22:58:54.205643Z",
     "iopub.status.idle": "2023-01-29T22:58:54.405203Z",
     "shell.execute_reply": "2023-01-29T22:58:54.404148Z"
    },
    "papermill": {
     "duration": 0.224151,
     "end_time": "2023-01-29T22:58:54.407247",
     "exception": false,
     "start_time": "2023-01-29T22:58:54.183096",
     "status": "completed"
    },
    "tags": []
   },
   "outputs": [
    {
     "data": {
      "image/png": "[encoded data removed]",
      "text/plain": [
       "<Figure size 432x288 with 1 Axes>"
      ]
     },
     "metadata": {
      "needs_background": "light"
     },
     "output_type": "display_data"
    }
   ],
   "source": [
    "ax = sns.countplot(data=data, x=\"Kidhome\", hue=\"Age_Group\")\n",
    "smt = [(data[data['Kidhome'] == 0].count()[0]), (data[data['Kidhome'] == 1].count()[0]), (data[data['Kidhome'] == 2].count()[0])]\n",
    "for container in ax.containers:\n",
    "    ax.bar_label(container)"
   ]
  },
  {
   "cell_type": "code",
   "execution_count": 39,
   "id": "eb75bb0c",
   "metadata": {
    "execution": {
     "iopub.execute_input": "2023-01-29T22:58:54.451904Z",
     "iopub.status.busy": "2023-01-29T22:58:54.451583Z",
     "iopub.status.idle": "2023-01-29T22:58:54.536369Z",
     "shell.execute_reply": "2023-01-29T22:58:54.535490Z"
    },
    "papermill": {
     "duration": 0.109229,
     "end_time": "2023-01-29T22:58:54.538312",
     "exception": false,
     "start_time": "2023-01-29T22:58:54.429083",
     "status": "completed"
    },
    "tags": []
   },
   "outputs": [
    {
     "data": {
      "text/plain": [
       "([<matplotlib.patches.Wedge at 0x7f41186e7990>,\n",
       "  <matplotlib.patches.Wedge at 0x7f41186f51d0>,\n",
       "  <matplotlib.patches.Wedge at 0x7f41186f5a10>],\n",
       " [Text(-0.269231850666863, 1.0665431123899756, '0'),\n",
       "  Text(0.19857809836969287, -1.0819273260473075, '1'),\n",
       "  Text(1.0976233586695343, -0.07227006643840023, '2')],\n",
       " [Text(-0.1468537367273798, 0.5817507885763503, '57.9%'),\n",
       "  Text(0.10831532638346883, -0.5901421778439858, '40.0%'),\n",
       "  Text(0.5987036501833823, -0.0394200362391274, '2.1%')])"
      ]
     },
     "execution_count": 39,
     "metadata": {},
     "output_type": "execute_result"
    },
    {
     "data": {
      "image/png": "[encoded data removed]",
      "text/plain": [
       "<Figure size 432x288 with 1 Axes>"
      ]
     },
     "metadata": {},
     "output_type": "display_data"
    }
   ],
   "source": [
    "percentage_distribution = round((data['Kidhome'].value_counts(normalize=True) * 100),0)\n",
    "plt.pie(data['Kidhome'].value_counts(), labels = [\"0\", \"1\", \"2\"], autopct='%1.1f%%')"
   ]
  },
  {
   "cell_type": "markdown",
   "id": "2aa3851e",
   "metadata": {
    "papermill": {
     "duration": 0.027767,
     "end_time": "2023-01-29T22:58:54.594002",
     "exception": false,
     "start_time": "2023-01-29T22:58:54.566235",
     "status": "completed"
    },
    "tags": []
   },
   "source": [
    "The vast majority of customers do not have a kid in their home. The group with the most kids in the house is the adult group."
   ]
  },
  {
   "cell_type": "markdown",
   "id": "c57c3e58",
   "metadata": {
    "papermill": {
     "duration": 0.024153,
     "end_time": "2023-01-29T22:58:54.646393",
     "exception": false,
     "start_time": "2023-01-29T22:58:54.622240",
     "status": "completed"
    },
    "tags": []
   },
   "source": [
    "<hr><hr>"
   ]
  },
  {
   "cell_type": "code",
   "execution_count": 40,
   "id": "4f76f917",
   "metadata": {
    "execution": {
     "iopub.execute_input": "2023-01-29T22:58:54.691039Z",
     "iopub.status.busy": "2023-01-29T22:58:54.690165Z",
     "iopub.status.idle": "2023-01-29T22:58:54.889900Z",
     "shell.execute_reply": "2023-01-29T22:58:54.889232Z"
    },
    "papermill": {
     "duration": 0.223848,
     "end_time": "2023-01-29T22:58:54.891430",
     "exception": false,
     "start_time": "2023-01-29T22:58:54.667582",
     "status": "completed"
    },
    "tags": []
   },
   "outputs": [
    {
     "data": {
      "image/png": "[encoded data removed]",
      "text/plain": [
       "<Figure size 432x288 with 1 Axes>"
      ]
     },
     "metadata": {
      "needs_background": "light"
     },
     "output_type": "display_data"
    }
   ],
   "source": [
    "ax = sns.countplot(data=data, x=\"Teenhome\", hue=\"Age_Group\")\n",
    "for container in ax.containers:\n",
    "    ax.bar_label(container)"
   ]
  },
  {
   "cell_type": "code",
   "execution_count": 41,
   "id": "8c00e8e3",
   "metadata": {
    "execution": {
     "iopub.execute_input": "2023-01-29T22:58:54.936861Z",
     "iopub.status.busy": "2023-01-29T22:58:54.935840Z",
     "iopub.status.idle": "2023-01-29T22:58:55.016395Z",
     "shell.execute_reply": "2023-01-29T22:58:55.015670Z"
    },
    "papermill": {
     "duration": 0.105039,
     "end_time": "2023-01-29T22:58:55.018257",
     "exception": false,
     "start_time": "2023-01-29T22:58:54.913218",
     "status": "completed"
    },
    "tags": []
   },
   "outputs": [
    {
     "data": {
      "text/plain": [
       "([<matplotlib.patches.Wedge at 0x7f41185ed2d0>,\n",
       "  <matplotlib.patches.Wedge at 0x7f41185eda50>,\n",
       "  <matplotlib.patches.Wedge at 0x7f41185fa2d0>],\n",
       " [Text(-0.058145233806401846, 1.0984621667520458, '0'),\n",
       "  Text(-0.02200974166161712, -1.099779783080226, '1'),\n",
       "  Text(1.097078834338265, -0.08011261602890049, '2')],\n",
       " [Text(-0.03171558207621918, 0.5991611818647521, '51.7%'),\n",
       "  Text(-0.012005313633609337, -0.5998798816801232, '46.0%'),\n",
       "  Text(0.5984066369117808, -0.04369779056121844, '2.3%')])"
      ]
     },
     "execution_count": 41,
     "metadata": {},
     "output_type": "execute_result"
    },
    {
     "data": {
      "image/png": "[encoded data removed]",
      "text/plain": [
       "<Figure size 432x288 with 1 Axes>"
      ]
     },
     "metadata": {},
     "output_type": "display_data"
    }
   ],
   "source": [
    "percentage_distribution = round((data['Teenhome'].value_counts(normalize=True) * 100),0)\n",
    "plt.pie(data['Teenhome'].value_counts(), labels = [\"0\", \"1\", \"2\"], autopct='%1.1f%%')"
   ]
  },
  {
   "cell_type": "markdown",
   "id": "474d540f",
   "metadata": {
    "papermill": {
     "duration": 0.028409,
     "end_time": "2023-01-29T22:58:55.075577",
     "exception": false,
     "start_time": "2023-01-29T22:58:55.047168",
     "status": "completed"
    },
    "tags": []
   },
   "source": [
    "Almost half of customers do not have a teen in their home. The group with the most teen in the house is the adult group. Visibly, members of the elder age group mostly live with a teen.\n",
    "<hr>\n",
    "<hr>"
   ]
  },
  {
   "cell_type": "markdown",
   "id": "d8918aa5",
   "metadata": {
    "papermill": {
     "duration": 0.024651,
     "end_time": "2023-01-29T22:58:55.128697",
     "exception": false,
     "start_time": "2023-01-29T22:58:55.104046",
     "status": "completed"
    },
    "tags": []
   },
   "source": [
    "<p style=\"text-align:center; font-size:125%;\"><b>Education</b></p>\n",
    "<hr>"
   ]
  },
  {
   "cell_type": "code",
   "execution_count": 42,
   "id": "75493e71",
   "metadata": {
    "execution": {
     "iopub.execute_input": "2023-01-29T22:58:55.176184Z",
     "iopub.status.busy": "2023-01-29T22:58:55.175647Z",
     "iopub.status.idle": "2023-01-29T22:58:55.321827Z",
     "shell.execute_reply": "2023-01-29T22:58:55.321082Z"
    },
    "papermill": {
     "duration": 0.171453,
     "end_time": "2023-01-29T22:58:55.323679",
     "exception": false,
     "start_time": "2023-01-29T22:58:55.152226",
     "status": "completed"
    },
    "tags": []
   },
   "outputs": [
    {
     "data": {
      "image/png": "[encoded data removed]",
      "text/plain": [
       "<Figure size 432x288 with 1 Axes>"
      ]
     },
     "metadata": {
      "needs_background": "light"
     },
     "output_type": "display_data"
    }
   ],
   "source": [
    "ax = sns.countplot(data=data, x=\"Education\")\n",
    "for container in ax.containers:\n",
    "    ax.bar_label(container)"
   ]
  },
  {
   "cell_type": "markdown",
   "id": "9ea11b21",
   "metadata": {
    "papermill": {
     "duration": 0.021451,
     "end_time": "2023-01-29T22:58:55.368656",
     "exception": false,
     "start_time": "2023-01-29T22:58:55.347205",
     "status": "completed"
    },
    "tags": []
   },
   "source": [
    "Percents of each education group:"
   ]
  },
  {
   "cell_type": "code",
   "execution_count": 43,
   "id": "ae782abf",
   "metadata": {
    "execution": {
     "iopub.execute_input": "2023-01-29T22:58:55.414658Z",
     "iopub.status.busy": "2023-01-29T22:58:55.414266Z",
     "iopub.status.idle": "2023-01-29T22:58:55.507122Z",
     "shell.execute_reply": "2023-01-29T22:58:55.506352Z"
    },
    "papermill": {
     "duration": 0.118621,
     "end_time": "2023-01-29T22:58:55.508941",
     "exception": false,
     "start_time": "2023-01-29T22:58:55.390320",
     "status": "completed"
    },
    "tags": []
   },
   "outputs": [
    {
     "data": {
      "text/plain": [
       "([<matplotlib.patches.Wedge at 0x7f411854f1d0>,\n",
       "  <matplotlib.patches.Wedge at 0x7f411854f990>,\n",
       "  <matplotlib.patches.Wedge at 0x7f411855e210>,\n",
       "  <matplotlib.patches.Wedge at 0x7f411854fed0>,\n",
       "  <matplotlib.patches.Wedge at 0x7f41184ec250>],\n",
       " [Text(-0.018865709194141076, 1.099838208563697, 'Graduation'),\n",
       "  Text(-0.8339399055689836, -0.7173173871443483, 'PhD'),\n",
       "  Text(0.35959446981695925, -1.03956328199733, 'Master'),\n",
       "  Text(0.9964580613638294, -0.46590914558853536, '2n Cycle'),\n",
       "  Text(1.0967252270294794, -0.08481613288247136, 'Basic')],\n",
       " [Text(-0.01029038683316786, 0.5999117501256529, '50.5%'),\n",
       "  Text(-0.4548763121285364, -0.3912640293514627, '21.5%'),\n",
       "  Text(0.19614243808197776, -0.567034517453089, '16.5%'),\n",
       "  Text(0.5435225789257251, -0.2541322612301102, '9.0%'),\n",
       "  Text(0.5982137601978977, -0.04626334520862074, '2.5%')])"
      ]
     },
     "execution_count": 43,
     "metadata": {},
     "output_type": "execute_result"
    },
    {
     "data": {
      "image/png": "[encoded data removed]",
      "text/plain": [
       "<Figure size 432x288 with 1 Axes>"
      ]
     },
     "metadata": {},
     "output_type": "display_data"
    }
   ],
   "source": [
    "percentage_distribution = round((data['Education'].value_counts(normalize=True) * 100),0)\n",
    "plt.pie(data['Education'].value_counts(), labels = (data['Education'].value_counts().index) ,autopct='%1.1f%%')"
   ]
  },
  {
   "cell_type": "code",
   "execution_count": 44,
   "id": "bf72901c",
   "metadata": {
    "execution": {
     "iopub.execute_input": "2023-01-29T22:58:55.570322Z",
     "iopub.status.busy": "2023-01-29T22:58:55.569647Z",
     "iopub.status.idle": "2023-01-29T22:58:55.578509Z",
     "shell.execute_reply": "2023-01-29T22:58:55.577821Z"
    },
    "papermill": {
     "duration": 0.041494,
     "end_time": "2023-01-29T22:58:55.580208",
     "exception": false,
     "start_time": "2023-01-29T22:58:55.538714",
     "status": "completed"
    },
    "tags": []
   },
   "outputs": [
    {
     "data": {
      "text/plain": [
       "Graduation    51.0\n",
       "PhD           22.0\n",
       "Master        16.0\n",
       "2n Cycle       9.0\n",
       "Basic          2.0\n",
       "Name: Education, dtype: float64"
      ]
     },
     "execution_count": 44,
     "metadata": {},
     "output_type": "execute_result"
    }
   ],
   "source": [
    "round((data['Education'].value_counts(normalize=True) * 100),0)"
   ]
  },
  {
   "cell_type": "markdown",
   "id": "ef87ad66",
   "metadata": {
    "papermill": {
     "duration": 0.022416,
     "end_time": "2023-01-29T22:58:55.630197",
     "exception": false,
     "start_time": "2023-01-29T22:58:55.607781",
     "status": "completed"
    },
    "tags": []
   },
   "source": [
    "The half of clients are at the graduate level. It is observed that the customers who have received PhD level education are at a level that cannot be underestimated."
   ]
  },
  {
   "cell_type": "markdown",
   "id": "acc8beb3",
   "metadata": {
    "papermill": {
     "duration": 0.022091,
     "end_time": "2023-01-29T22:58:55.674474",
     "exception": false,
     "start_time": "2023-01-29T22:58:55.652383",
     "status": "completed"
    },
    "tags": []
   },
   "source": [
    "<p style=\"text-align:center; font-size:125%;\"><b>Marital Status</b></p>"
   ]
  },
  {
   "cell_type": "code",
   "execution_count": 45,
   "id": "0f13c13a",
   "metadata": {
    "execution": {
     "iopub.execute_input": "2023-01-29T22:58:55.720890Z",
     "iopub.status.busy": "2023-01-29T22:58:55.720391Z",
     "iopub.status.idle": "2023-01-29T22:58:55.999181Z",
     "shell.execute_reply": "2023-01-29T22:58:55.998387Z"
    },
    "papermill": {
     "duration": 0.303709,
     "end_time": "2023-01-29T22:58:56.000775",
     "exception": false,
     "start_time": "2023-01-29T22:58:55.697066",
     "status": "completed"
    },
    "tags": []
   },
   "outputs": [
    {
     "data": {
      "image/png": "[encoded data removed]",
      "text/plain": [
       "<Figure size 432x288 with 1 Axes>"
      ]
     },
     "metadata": {
      "needs_background": "light"
     },
     "output_type": "display_data"
    }
   ],
   "source": [
    "ax = sns.countplot(data=data, x=\"Marital_Status\")\n",
    "for container in ax.containers:\n",
    "    ax.bar_label(container)"
   ]
  },
  {
   "cell_type": "markdown",
   "id": "98e5ab51",
   "metadata": {
    "papermill": {
     "duration": 0.022384,
     "end_time": "2023-01-29T22:58:56.046074",
     "exception": false,
     "start_time": "2023-01-29T22:58:56.023690",
     "status": "completed"
    },
    "tags": []
   },
   "source": [
    "Percents of each marital status group:"
   ]
  },
  {
   "cell_type": "code",
   "execution_count": 46,
   "id": "923f15e3",
   "metadata": {
    "execution": {
     "iopub.execute_input": "2023-01-29T22:58:56.094629Z",
     "iopub.status.busy": "2023-01-29T22:58:56.094031Z",
     "iopub.status.idle": "2023-01-29T22:58:56.101032Z",
     "shell.execute_reply": "2023-01-29T22:58:56.100485Z"
    },
    "papermill": {
     "duration": 0.033773,
     "end_time": "2023-01-29T22:58:56.102522",
     "exception": false,
     "start_time": "2023-01-29T22:58:56.068749",
     "status": "completed"
    },
    "tags": []
   },
   "outputs": [
    {
     "data": {
      "text/plain": [
       "Married     39.0\n",
       "Together    26.0\n",
       "Single      21.0\n",
       "Divorced    10.0\n",
       "Widow        3.0\n",
       "Name: Marital_Status, dtype: float64"
      ]
     },
     "execution_count": 46,
     "metadata": {},
     "output_type": "execute_result"
    }
   ],
   "source": [
    "round((data['Marital_Status'].value_counts(normalize=True) * 100),0)"
   ]
  },
  {
   "cell_type": "code",
   "execution_count": 47,
   "id": "16c8242b",
   "metadata": {
    "execution": {
     "iopub.execute_input": "2023-01-29T22:58:56.150215Z",
     "iopub.status.busy": "2023-01-29T22:58:56.149344Z",
     "iopub.status.idle": "2023-01-29T22:58:56.243561Z",
     "shell.execute_reply": "2023-01-29T22:58:56.242828Z"
    },
    "papermill": {
     "duration": 0.119473,
     "end_time": "2023-01-29T22:58:56.245137",
     "exception": false,
     "start_time": "2023-01-29T22:58:56.125664",
     "status": "completed"
    },
    "tags": []
   },
   "outputs": [
    {
     "data": {
      "text/plain": [
       "([<matplotlib.patches.Wedge at 0x7f41187e2b50>,\n",
       "  <matplotlib.patches.Wedge at 0x7f41187e20d0>,\n",
       "  <matplotlib.patches.Wedge at 0x7f41187fcad0>,\n",
       "  <matplotlib.patches.Wedge at 0x7f41187fc750>,\n",
       "  <matplotlib.patches.Wedge at 0x7f41187f6a10>],\n",
       " [Text(0.37737105027210194, 1.0332429967904602, 'Married'),\n",
       "  Text(-1.0931711756159788, -0.12237965845016482, 'Together'),\n",
       "  Text(0.026725136204632176, -1.0996753007569298, 'Single'),\n",
       "  Text(0.9400743439104327, -0.5711919361487605, 'Divorced'),\n",
       "  Text(1.0935165264635396, -0.11925437665391914, 'Widow')],\n",
       " [Text(0.20583875469387375, 0.5635870891584327, '38.9%'),\n",
       "  Text(-0.5962751866996248, -0.06675254097281717, '25.8%'),\n",
       "  Text(0.014577347020708458, -0.5998228913219616, '21.4%'),\n",
       "  Text(0.5127678239511451, -0.3115592378993239, '10.5%'),\n",
       "  Text(0.5964635598892034, -0.06504784181122862, '3.5%')])"
      ]
     },
     "execution_count": 47,
     "metadata": {},
     "output_type": "execute_result"
    },
    {
     "data": {
      "image/png": "[encoded data removed]",
      "text/plain": [
       "<Figure size 432x288 with 1 Axes>"
      ]
     },
     "metadata": {},
     "output_type": "display_data"
    }
   ],
   "source": [
    "percentage_distribution = round((data['Marital_Status'].value_counts(normalize=True) * 100),0)\n",
    "plt.pie(data['Marital_Status'].value_counts(), labels = (data['Marital_Status'].value_counts().index) ,autopct='%1.1f%%')"
   ]
  },
  {
   "cell_type": "code",
   "execution_count": 48,
   "id": "114e5beb",
   "metadata": {
    "execution": {
     "iopub.execute_input": "2023-01-29T22:58:56.308764Z",
     "iopub.status.busy": "2023-01-29T22:58:56.307824Z",
     "iopub.status.idle": "2023-01-29T22:58:56.687825Z",
     "shell.execute_reply": "2023-01-29T22:58:56.687020Z"
    },
    "papermill": {
     "duration": 0.413699,
     "end_time": "2023-01-29T22:58:56.690030",
     "exception": false,
     "start_time": "2023-01-29T22:58:56.276331",
     "status": "completed"
    },
    "tags": []
   },
   "outputs": [
    {
     "data": {
      "text/plain": [
       "<seaborn.axisgrid.FacetGrid at 0x7f4118774150>"
      ]
     },
     "execution_count": 48,
     "metadata": {},
     "output_type": "execute_result"
    },
    {
     "data": {
      "image/png": "[encoded data removed]",
      "text/plain": [
       "<Figure size 455.125x360 with 1 Axes>"
      ]
     },
     "metadata": {
      "needs_background": "light"
     },
     "output_type": "display_data"
    }
   ],
   "source": [
    "sns.catplot(data=data, x = \"Education\", y = \"NumWebVisitsMonth\", kind=\"box\", hue=\"Age_Group\")"
   ]
  },
  {
   "cell_type": "markdown",
   "id": "31070603",
   "metadata": {
    "papermill": {
     "duration": 0.023081,
     "end_time": "2023-01-29T22:58:56.737156",
     "exception": false,
     "start_time": "2023-01-29T22:58:56.714075",
     "status": "completed"
    },
    "tags": []
   },
   "source": [
    "In almost every age group, except for the level of Phd education, the elder group made fewer website visits than the adult group."
   ]
  },
  {
   "cell_type": "code",
   "execution_count": 49,
   "id": "e6102034",
   "metadata": {
    "execution": {
     "iopub.execute_input": "2023-01-29T22:58:56.785111Z",
     "iopub.status.busy": "2023-01-29T22:58:56.784770Z",
     "iopub.status.idle": "2023-01-29T22:58:57.167669Z",
     "shell.execute_reply": "2023-01-29T22:58:57.166692Z"
    },
    "papermill": {
     "duration": 0.408997,
     "end_time": "2023-01-29T22:58:57.169435",
     "exception": false,
     "start_time": "2023-01-29T22:58:56.760438",
     "status": "completed"
    },
    "tags": []
   },
   "outputs": [
    {
     "data": {
      "text/plain": [
       "<seaborn.axisgrid.FacetGrid at 0x7f4118830ed0>"
      ]
     },
     "execution_count": 49,
     "metadata": {},
     "output_type": "execute_result"
    },
    {
     "data": {
      "image/png": "[encoded data removed]",
      "text/plain": [
       "<Figure size 455.125x360 with 1 Axes>"
      ]
     },
     "metadata": {
      "needs_background": "light"
     },
     "output_type": "display_data"
    }
   ],
   "source": [
    "sns.catplot(data=data, x = \"Education\", y = \"NumWebPurchases\", kind=\"box\", hue=\"Age_Group\")"
   ]
  },
  {
   "cell_type": "markdown",
   "id": "10e09cea",
   "metadata": {
    "papermill": {
     "duration": 0.024122,
     "end_time": "2023-01-29T22:58:57.218966",
     "exception": false,
     "start_time": "2023-01-29T22:58:57.194844",
     "status": "completed"
    },
    "tags": []
   },
   "source": [
    "However, when the shopping rates are examined, it is observed that the **elder group generally makes more internet shopping**."
   ]
  },
  {
   "cell_type": "code",
   "execution_count": 50,
   "id": "f23a470c",
   "metadata": {
    "execution": {
     "iopub.execute_input": "2023-01-29T22:58:57.269894Z",
     "iopub.status.busy": "2023-01-29T22:58:57.269360Z",
     "iopub.status.idle": "2023-01-29T22:58:57.669707Z",
     "shell.execute_reply": "2023-01-29T22:58:57.668854Z"
    },
    "papermill": {
     "duration": 0.427906,
     "end_time": "2023-01-29T22:58:57.671458",
     "exception": false,
     "start_time": "2023-01-29T22:58:57.243552",
     "status": "completed"
    },
    "tags": []
   },
   "outputs": [
    {
     "data": {
      "text/plain": [
       "<matplotlib.legend.Legend at 0x7f41182c7890>"
      ]
     },
     "execution_count": 50,
     "metadata": {},
     "output_type": "execute_result"
    },
    {
     "data": {
      "image/png": "[encoded data removed]",
      "text/plain": [
       "<Figure size 432x288 with 1 Axes>"
      ]
     },
     "metadata": {
      "needs_background": "light"
     },
     "output_type": "display_data"
    }
   ],
   "source": [
    "fig, ax = plt.subplots()\n",
    "ax_1 = sns.lineplot(data=data, x=\"Education\", y=\"NumWebVisitsMonth\")\n",
    "ax_2 = sns.lineplot(data=data, x=\"Education\", y=\"NumWebPurchases\")\n",
    "plt.legend([\"NumWebVisitsMonth\",\"\",\"NumWebPurchases\",\"\"])"
   ]
  },
  {
   "cell_type": "markdown",
   "id": "4eed002f",
   "metadata": {
    "papermill": {
     "duration": 0.023839,
     "end_time": "2023-01-29T22:58:57.719776",
     "exception": false,
     "start_time": "2023-01-29T22:58:57.695937",
     "status": "completed"
    },
    "tags": []
   },
   "source": [
    "In the case of education, it is observed that the number of purchases is approaching with the website visits made in the process from basic to phd level. Accordingly, it is estimated that as the level of education increases, **the customer plans in advance what he/she will buy**. **As the level of education decreases, the number of non-shopping visits increases**."
   ]
  },
  {
   "cell_type": "code",
   "execution_count": 51,
   "id": "7f61ffc1",
   "metadata": {
    "execution": {
     "iopub.execute_input": "2023-01-29T22:58:57.770120Z",
     "iopub.status.busy": "2023-01-29T22:58:57.769763Z",
     "iopub.status.idle": "2023-01-29T22:58:57.964346Z",
     "shell.execute_reply": "2023-01-29T22:58:57.963529Z"
    },
    "papermill": {
     "duration": 0.221783,
     "end_time": "2023-01-29T22:58:57.966039",
     "exception": false,
     "start_time": "2023-01-29T22:58:57.744256",
     "status": "completed"
    },
    "tags": []
   },
   "outputs": [
    {
     "data": {
      "text/plain": [
       "<seaborn.axisgrid.FacetGrid at 0x7f41186aaa50>"
      ]
     },
     "execution_count": 51,
     "metadata": {},
     "output_type": "execute_result"
    },
    {
     "data": {
      "image/png": "[encoded data removed]",
      "text/plain": [
       "<Figure size 360x360 with 1 Axes>"
      ]
     },
     "metadata": {
      "needs_background": "light"
     },
     "output_type": "display_data"
    }
   ],
   "source": [
    "sns.catplot(data=data, x=\"Education\", y=\"Income\", kind=\"box\")"
   ]
  },
  {
   "cell_type": "code",
   "execution_count": 52,
   "id": "b9449e7e",
   "metadata": {
    "execution": {
     "iopub.execute_input": "2023-01-29T22:58:58.017436Z",
     "iopub.status.busy": "2023-01-29T22:58:58.016579Z",
     "iopub.status.idle": "2023-01-29T22:58:58.354337Z",
     "shell.execute_reply": "2023-01-29T22:58:58.353321Z"
    },
    "papermill": {
     "duration": 0.365402,
     "end_time": "2023-01-29T22:58:58.356161",
     "exception": false,
     "start_time": "2023-01-29T22:58:57.990759",
     "status": "completed"
    },
    "tags": []
   },
   "outputs": [
    {
     "data": {
      "text/plain": [
       "<seaborn.axisgrid.FacetGrid at 0x7f4118262810>"
      ]
     },
     "execution_count": 52,
     "metadata": {},
     "output_type": "execute_result"
    },
    {
     "data": {
      "image/png": "[encoded data removed]",
      "text/plain": [
       "<Figure size 455.125x360 with 1 Axes>"
      ]
     },
     "metadata": {
      "needs_background": "light"
     },
     "output_type": "display_data"
    }
   ],
   "source": [
    "sns.catplot(data=data, x=\"Education\", y=\"Income\", kind=\"box\", hue=\"Age_Group\")"
   ]
  },
  {
   "cell_type": "markdown",
   "id": "a27b38a7",
   "metadata": {
    "papermill": {
     "duration": 0.024449,
     "end_time": "2023-01-29T22:58:58.406089",
     "exception": false,
     "start_time": "2023-01-29T22:58:58.381640",
     "status": "completed"
    },
    "tags": []
   },
   "source": [
    "On an average basis, the income of the PhD group is higher than the other groups. It is observed that the income status of the Basic group is quite low compared to the other groups."
   ]
  },
  {
   "cell_type": "code",
   "execution_count": 53,
   "id": "fbae075d",
   "metadata": {
    "execution": {
     "iopub.execute_input": "2023-01-29T22:58:58.457190Z",
     "iopub.status.busy": "2023-01-29T22:58:58.456233Z",
     "iopub.status.idle": "2023-01-29T22:58:58.730027Z",
     "shell.execute_reply": "2023-01-29T22:58:58.729033Z"
    },
    "papermill": {
     "duration": 0.301784,
     "end_time": "2023-01-29T22:58:58.732421",
     "exception": false,
     "start_time": "2023-01-29T22:58:58.430637",
     "status": "completed"
    },
    "tags": []
   },
   "outputs": [
    {
     "data": {
      "text/plain": [
       "<seaborn.axisgrid.FacetGrid at 0x7f4117fe25d0>"
      ]
     },
     "execution_count": 53,
     "metadata": {},
     "output_type": "execute_result"
    },
    {
     "data": {
      "image/png": "[encoded data removed]",
      "text/plain": [
       "<Figure size 455.125x360 with 1 Axes>"
      ]
     },
     "metadata": {
      "needs_background": "light"
     },
     "output_type": "display_data"
    }
   ],
   "source": [
    "sns.catplot(data=data, x=\"Kidhome\", y=\"Income\", kind=\"box\", hue=\"Age_Group\")"
   ]
  },
  {
   "cell_type": "code",
   "execution_count": 54,
   "id": "b9a4d98f",
   "metadata": {
    "execution": {
     "iopub.execute_input": "2023-01-29T22:58:58.786565Z",
     "iopub.status.busy": "2023-01-29T22:58:58.785677Z",
     "iopub.status.idle": "2023-01-29T22:58:59.074060Z",
     "shell.execute_reply": "2023-01-29T22:58:59.073060Z"
    },
    "papermill": {
     "duration": 0.317325,
     "end_time": "2023-01-29T22:58:59.075989",
     "exception": false,
     "start_time": "2023-01-29T22:58:58.758664",
     "status": "completed"
    },
    "tags": []
   },
   "outputs": [
    {
     "data": {
      "text/plain": [
       "<seaborn.axisgrid.FacetGrid at 0x7f4117f1b450>"
      ]
     },
     "execution_count": 54,
     "metadata": {},
     "output_type": "execute_result"
    },
    {
     "data": {
      "image/png": "[encoded data removed]",
      "text/plain": [
       "<Figure size 455.125x360 with 1 Axes>"
      ]
     },
     "metadata": {
      "needs_background": "light"
     },
     "output_type": "display_data"
    }
   ],
   "source": [
    "sns.catplot(data=data, x=\"Teenhome\", y=\"Income\", kind=\"box\", hue=\"Age_Group\")"
   ]
  },
  {
   "cell_type": "code",
   "execution_count": 55,
   "id": "eeb0e779",
   "metadata": {
    "execution": {
     "iopub.execute_input": "2023-01-29T22:58:59.130042Z",
     "iopub.status.busy": "2023-01-29T22:58:59.129735Z",
     "iopub.status.idle": "2023-01-29T22:58:59.144015Z",
     "shell.execute_reply": "2023-01-29T22:58:59.143213Z"
    },
    "papermill": {
     "duration": 0.04377,
     "end_time": "2023-01-29T22:58:59.146223",
     "exception": false,
     "start_time": "2023-01-29T22:58:59.102453",
     "status": "completed"
    },
    "tags": []
   },
   "outputs": [],
   "source": [
    "correlation = data[['Income','Kidhome','Teenhome','Recency','MntWines','MntFruits','MntMeatProducts','MntFishProducts','MntSweetProducts','MntGoldProds','NumDealsPurchases','NumWebPurchases','NumCatalogPurchases','NumStorePurchases','NumWebVisitsMonth','AcceptedCmp1','AcceptedCmp2','AcceptedCmp3','AcceptedCmp4','AcceptedCmp5','Complain','Z_CostContact','Z_Revenue','Response','Year_Customer']].corr()\n",
    "mask = np.triu(np.ones_like(correlation, dtype=bool))\n",
    "cmap = sns.diverging_palette(230, 20, as_cmap=True)"
   ]
  },
  {
   "cell_type": "code",
   "execution_count": null,
   "id": "bd232c10",
   "metadata": {
    "papermill": {
     "duration": 0.025144,
     "end_time": "2023-01-29T22:58:59.197520",
     "exception": false,
     "start_time": "2023-01-29T22:58:59.172376",
     "status": "completed"
    },
    "tags": []
   },
   "outputs": [],
   "source": []
  },
  {
   "cell_type": "code",
   "execution_count": 56,
   "id": "da022061",
   "metadata": {
    "execution": {
     "iopub.execute_input": "2023-01-29T22:58:59.250050Z",
     "iopub.status.busy": "2023-01-29T22:58:59.249724Z",
     "iopub.status.idle": "2023-01-29T22:58:59.278228Z",
     "shell.execute_reply": "2023-01-29T22:58:59.277432Z"
    },
    "papermill": {
     "duration": 0.056987,
     "end_time": "2023-01-29T22:58:59.279939",
     "exception": false,
     "start_time": "2023-01-29T22:58:59.222952",
     "status": "completed"
    },
    "tags": []
   },
   "outputs": [
    {
     "data": {
      "text/html": [
       "<div>\n",
       "<style scoped>\n",
       "    .dataframe tbody tr th:only-of-type {\n",
       "        vertical-align: middle;\n",
       "    }\n",
       "\n",
       "    .dataframe tbody tr th {\n",
       "        vertical-align: top;\n",
       "    }\n",
       "\n",
       "    .dataframe thead th {\n",
       "        text-align: right;\n",
       "    }\n",
       "</style>\n",
       "<table border=\"1\" class=\"dataframe\">\n",
       "  <thead>\n",
       "    <tr style=\"text-align: right;\">\n",
       "      <th></th>\n",
       "      <th>ID</th>\n",
       "      <th>Education</th>\n",
       "      <th>Marital_Status</th>\n",
       "      <th>Income</th>\n",
       "      <th>Kidhome</th>\n",
       "      <th>Teenhome</th>\n",
       "      <th>Recency</th>\n",
       "      <th>MntWines</th>\n",
       "      <th>MntFruits</th>\n",
       "      <th>MntMeatProducts</th>\n",
       "      <th>MntFishProducts</th>\n",
       "      <th>MntSweetProducts</th>\n",
       "      <th>MntGoldProds</th>\n",
       "      <th>NumDealsPurchases</th>\n",
       "      <th>NumWebPurchases</th>\n",
       "      <th>NumCatalogPurchases</th>\n",
       "      <th>NumStorePurchases</th>\n",
       "      <th>NumWebVisitsMonth</th>\n",
       "      <th>AcceptedCmp3</th>\n",
       "      <th>AcceptedCmp4</th>\n",
       "      <th>AcceptedCmp5</th>\n",
       "      <th>AcceptedCmp1</th>\n",
       "      <th>AcceptedCmp2</th>\n",
       "      <th>Complain</th>\n",
       "      <th>Z_CostContact</th>\n",
       "      <th>Z_Revenue</th>\n",
       "      <th>Response</th>\n",
       "      <th>Year_Customer</th>\n",
       "      <th>DayDiff_Customer</th>\n",
       "      <th>Age</th>\n",
       "      <th>Age_Group</th>\n",
       "      <th>Income_Group</th>\n",
       "    </tr>\n",
       "  </thead>\n",
       "  <tbody>\n",
       "    <tr>\n",
       "      <th>0</th>\n",
       "      <td>5524</td>\n",
       "      <td>Graduation</td>\n",
       "      <td>Single</td>\n",
       "      <td>58138.0</td>\n",
       "      <td>0</td>\n",
       "      <td>0</td>\n",
       "      <td>58</td>\n",
       "      <td>635</td>\n",
       "      <td>88</td>\n",
       "      <td>546</td>\n",
       "      <td>172</td>\n",
       "      <td>88</td>\n",
       "      <td>88</td>\n",
       "      <td>3</td>\n",
       "      <td>8</td>\n",
       "      <td>10</td>\n",
       "      <td>4</td>\n",
       "      <td>7</td>\n",
       "      <td>0</td>\n",
       "      <td>0</td>\n",
       "      <td>0</td>\n",
       "      <td>0</td>\n",
       "      <td>0</td>\n",
       "      <td>0</td>\n",
       "      <td>3</td>\n",
       "      <td>11</td>\n",
       "      <td>1</td>\n",
       "      <td>11</td>\n",
       "      <td>3947</td>\n",
       "      <td>66</td>\n",
       "      <td>Elder</td>\n",
       "      <td>Middle</td>\n",
       "    </tr>\n",
       "    <tr>\n",
       "      <th>1</th>\n",
       "      <td>2174</td>\n",
       "      <td>Graduation</td>\n",
       "      <td>Single</td>\n",
       "      <td>46344.0</td>\n",
       "      <td>1</td>\n",
       "      <td>1</td>\n",
       "      <td>38</td>\n",
       "      <td>11</td>\n",
       "      <td>1</td>\n",
       "      <td>6</td>\n",
       "      <td>2</td>\n",
       "      <td>1</td>\n",
       "      <td>6</td>\n",
       "      <td>2</td>\n",
       "      <td>1</td>\n",
       "      <td>1</td>\n",
       "      <td>2</td>\n",
       "      <td>5</td>\n",
       "      <td>0</td>\n",
       "      <td>0</td>\n",
       "      <td>0</td>\n",
       "      <td>0</td>\n",
       "      <td>0</td>\n",
       "      <td>0</td>\n",
       "      <td>3</td>\n",
       "      <td>11</td>\n",
       "      <td>0</td>\n",
       "      <td>9</td>\n",
       "      <td>3101</td>\n",
       "      <td>69</td>\n",
       "      <td>Elder</td>\n",
       "      <td>Middle</td>\n",
       "    </tr>\n",
       "    <tr>\n",
       "      <th>2</th>\n",
       "      <td>4141</td>\n",
       "      <td>Graduation</td>\n",
       "      <td>Together</td>\n",
       "      <td>71613.0</td>\n",
       "      <td>0</td>\n",
       "      <td>0</td>\n",
       "      <td>26</td>\n",
       "      <td>426</td>\n",
       "      <td>49</td>\n",
       "      <td>127</td>\n",
       "      <td>111</td>\n",
       "      <td>21</td>\n",
       "      <td>42</td>\n",
       "      <td>1</td>\n",
       "      <td>8</td>\n",
       "      <td>2</td>\n",
       "      <td>10</td>\n",
       "      <td>4</td>\n",
       "      <td>0</td>\n",
       "      <td>0</td>\n",
       "      <td>0</td>\n",
       "      <td>0</td>\n",
       "      <td>0</td>\n",
       "      <td>0</td>\n",
       "      <td>3</td>\n",
       "      <td>11</td>\n",
       "      <td>0</td>\n",
       "      <td>10</td>\n",
       "      <td>3448</td>\n",
       "      <td>58</td>\n",
       "      <td>Adult</td>\n",
       "      <td>High</td>\n",
       "    </tr>\n",
       "    <tr>\n",
       "      <th>3</th>\n",
       "      <td>6182</td>\n",
       "      <td>Graduation</td>\n",
       "      <td>Together</td>\n",
       "      <td>26646.0</td>\n",
       "      <td>1</td>\n",
       "      <td>0</td>\n",
       "      <td>26</td>\n",
       "      <td>11</td>\n",
       "      <td>4</td>\n",
       "      <td>20</td>\n",
       "      <td>10</td>\n",
       "      <td>3</td>\n",
       "      <td>5</td>\n",
       "      <td>2</td>\n",
       "      <td>2</td>\n",
       "      <td>0</td>\n",
       "      <td>4</td>\n",
       "      <td>6</td>\n",
       "      <td>0</td>\n",
       "      <td>0</td>\n",
       "      <td>0</td>\n",
       "      <td>0</td>\n",
       "      <td>0</td>\n",
       "      <td>0</td>\n",
       "      <td>3</td>\n",
       "      <td>11</td>\n",
       "      <td>0</td>\n",
       "      <td>9</td>\n",
       "      <td>3041</td>\n",
       "      <td>39</td>\n",
       "      <td>Adult</td>\n",
       "      <td>Low</td>\n",
       "    </tr>\n",
       "    <tr>\n",
       "      <th>4</th>\n",
       "      <td>5324</td>\n",
       "      <td>PhD</td>\n",
       "      <td>Married</td>\n",
       "      <td>58293.0</td>\n",
       "      <td>1</td>\n",
       "      <td>0</td>\n",
       "      <td>94</td>\n",
       "      <td>173</td>\n",
       "      <td>43</td>\n",
       "      <td>118</td>\n",
       "      <td>46</td>\n",
       "      <td>27</td>\n",
       "      <td>15</td>\n",
       "      <td>5</td>\n",
       "      <td>5</td>\n",
       "      <td>3</td>\n",
       "      <td>6</td>\n",
       "      <td>5</td>\n",
       "      <td>0</td>\n",
       "      <td>0</td>\n",
       "      <td>0</td>\n",
       "      <td>0</td>\n",
       "      <td>0</td>\n",
       "      <td>0</td>\n",
       "      <td>3</td>\n",
       "      <td>11</td>\n",
       "      <td>0</td>\n",
       "      <td>9</td>\n",
       "      <td>3297</td>\n",
       "      <td>42</td>\n",
       "      <td>Adult</td>\n",
       "      <td>Middle</td>\n",
       "    </tr>\n",
       "    <tr>\n",
       "      <th>...</th>\n",
       "      <td>...</td>\n",
       "      <td>...</td>\n",
       "      <td>...</td>\n",
       "      <td>...</td>\n",
       "      <td>...</td>\n",
       "      <td>...</td>\n",
       "      <td>...</td>\n",
       "      <td>...</td>\n",
       "      <td>...</td>\n",
       "      <td>...</td>\n",
       "      <td>...</td>\n",
       "      <td>...</td>\n",
       "      <td>...</td>\n",
       "      <td>...</td>\n",
       "      <td>...</td>\n",
       "      <td>...</td>\n",
       "      <td>...</td>\n",
       "      <td>...</td>\n",
       "      <td>...</td>\n",
       "      <td>...</td>\n",
       "      <td>...</td>\n",
       "      <td>...</td>\n",
       "      <td>...</td>\n",
       "      <td>...</td>\n",
       "      <td>...</td>\n",
       "      <td>...</td>\n",
       "      <td>...</td>\n",
       "      <td>...</td>\n",
       "      <td>...</td>\n",
       "      <td>...</td>\n",
       "      <td>...</td>\n",
       "      <td>...</td>\n",
       "    </tr>\n",
       "    <tr>\n",
       "      <th>2235</th>\n",
       "      <td>10870</td>\n",
       "      <td>Graduation</td>\n",
       "      <td>Married</td>\n",
       "      <td>61223.0</td>\n",
       "      <td>0</td>\n",
       "      <td>1</td>\n",
       "      <td>46</td>\n",
       "      <td>709</td>\n",
       "      <td>43</td>\n",
       "      <td>182</td>\n",
       "      <td>42</td>\n",
       "      <td>118</td>\n",
       "      <td>247</td>\n",
       "      <td>2</td>\n",
       "      <td>9</td>\n",
       "      <td>3</td>\n",
       "      <td>4</td>\n",
       "      <td>5</td>\n",
       "      <td>0</td>\n",
       "      <td>0</td>\n",
       "      <td>0</td>\n",
       "      <td>0</td>\n",
       "      <td>0</td>\n",
       "      <td>0</td>\n",
       "      <td>3</td>\n",
       "      <td>11</td>\n",
       "      <td>0</td>\n",
       "      <td>10</td>\n",
       "      <td>3517</td>\n",
       "      <td>56</td>\n",
       "      <td>Adult</td>\n",
       "      <td>Middle</td>\n",
       "    </tr>\n",
       "    <tr>\n",
       "      <th>2236</th>\n",
       "      <td>4001</td>\n",
       "      <td>PhD</td>\n",
       "      <td>Together</td>\n",
       "      <td>64014.0</td>\n",
       "      <td>2</td>\n",
       "      <td>1</td>\n",
       "      <td>56</td>\n",
       "      <td>406</td>\n",
       "      <td>0</td>\n",
       "      <td>30</td>\n",
       "      <td>0</td>\n",
       "      <td>0</td>\n",
       "      <td>8</td>\n",
       "      <td>7</td>\n",
       "      <td>8</td>\n",
       "      <td>2</td>\n",
       "      <td>5</td>\n",
       "      <td>7</td>\n",
       "      <td>0</td>\n",
       "      <td>0</td>\n",
       "      <td>0</td>\n",
       "      <td>1</td>\n",
       "      <td>0</td>\n",
       "      <td>0</td>\n",
       "      <td>3</td>\n",
       "      <td>11</td>\n",
       "      <td>0</td>\n",
       "      <td>9</td>\n",
       "      <td>3037</td>\n",
       "      <td>77</td>\n",
       "      <td>Elder</td>\n",
       "      <td>Middle</td>\n",
       "    </tr>\n",
       "    <tr>\n",
       "      <th>2237</th>\n",
       "      <td>7270</td>\n",
       "      <td>Graduation</td>\n",
       "      <td>Divorced</td>\n",
       "      <td>56981.0</td>\n",
       "      <td>0</td>\n",
       "      <td>0</td>\n",
       "      <td>91</td>\n",
       "      <td>908</td>\n",
       "      <td>48</td>\n",
       "      <td>217</td>\n",
       "      <td>32</td>\n",
       "      <td>12</td>\n",
       "      <td>24</td>\n",
       "      <td>1</td>\n",
       "      <td>2</td>\n",
       "      <td>3</td>\n",
       "      <td>13</td>\n",
       "      <td>6</td>\n",
       "      <td>0</td>\n",
       "      <td>1</td>\n",
       "      <td>0</td>\n",
       "      <td>0</td>\n",
       "      <td>0</td>\n",
       "      <td>0</td>\n",
       "      <td>3</td>\n",
       "      <td>11</td>\n",
       "      <td>0</td>\n",
       "      <td>9</td>\n",
       "      <td>3291</td>\n",
       "      <td>42</td>\n",
       "      <td>Adult</td>\n",
       "      <td>Middle</td>\n",
       "    </tr>\n",
       "    <tr>\n",
       "      <th>2238</th>\n",
       "      <td>8235</td>\n",
       "      <td>Master</td>\n",
       "      <td>Together</td>\n",
       "      <td>69245.0</td>\n",
       "      <td>0</td>\n",
       "      <td>1</td>\n",
       "      <td>8</td>\n",
       "      <td>428</td>\n",
       "      <td>30</td>\n",
       "      <td>214</td>\n",
       "      <td>80</td>\n",
       "      <td>30</td>\n",
       "      <td>61</td>\n",
       "      <td>2</td>\n",
       "      <td>6</td>\n",
       "      <td>5</td>\n",
       "      <td>10</td>\n",
       "      <td>3</td>\n",
       "      <td>0</td>\n",
       "      <td>0</td>\n",
       "      <td>0</td>\n",
       "      <td>0</td>\n",
       "      <td>0</td>\n",
       "      <td>0</td>\n",
       "      <td>3</td>\n",
       "      <td>11</td>\n",
       "      <td>0</td>\n",
       "      <td>9</td>\n",
       "      <td>3292</td>\n",
       "      <td>67</td>\n",
       "      <td>Elder</td>\n",
       "      <td>High</td>\n",
       "    </tr>\n",
       "    <tr>\n",
       "      <th>2239</th>\n",
       "      <td>9405</td>\n",
       "      <td>PhD</td>\n",
       "      <td>Married</td>\n",
       "      <td>52869.0</td>\n",
       "      <td>1</td>\n",
       "      <td>1</td>\n",
       "      <td>40</td>\n",
       "      <td>84</td>\n",
       "      <td>3</td>\n",
       "      <td>61</td>\n",
       "      <td>2</td>\n",
       "      <td>1</td>\n",
       "      <td>21</td>\n",
       "      <td>3</td>\n",
       "      <td>3</td>\n",
       "      <td>1</td>\n",
       "      <td>4</td>\n",
       "      <td>7</td>\n",
       "      <td>0</td>\n",
       "      <td>0</td>\n",
       "      <td>0</td>\n",
       "      <td>0</td>\n",
       "      <td>0</td>\n",
       "      <td>0</td>\n",
       "      <td>3</td>\n",
       "      <td>11</td>\n",
       "      <td>1</td>\n",
       "      <td>11</td>\n",
       "      <td>3758</td>\n",
       "      <td>69</td>\n",
       "      <td>Elder</td>\n",
       "      <td>Middle</td>\n",
       "    </tr>\n",
       "  </tbody>\n",
       "</table>\n",
       "<p>2198 rows × 32 columns</p>\n",
       "</div>"
      ],
      "text/plain": [
       "         ID   Education Marital_Status   Income Kidhome  Teenhome  Recency  \\\n",
       "0      5524  Graduation         Single  58138.0       0         0       58   \n",
       "1      2174  Graduation         Single  46344.0       1         1       38   \n",
       "2      4141  Graduation       Together  71613.0       0         0       26   \n",
       "3      6182  Graduation       Together  26646.0       1         0       26   \n",
       "4      5324         PhD        Married  58293.0       1         0       94   \n",
       "...     ...         ...            ...      ...     ...       ...      ...   \n",
       "2235  10870  Graduation        Married  61223.0       0         1       46   \n",
       "2236   4001         PhD       Together  64014.0       2         1       56   \n",
       "2237   7270  Graduation       Divorced  56981.0       0         0       91   \n",
       "2238   8235      Master       Together  69245.0       0         1        8   \n",
       "2239   9405         PhD        Married  52869.0       1         1       40   \n",
       "\n",
       "      MntWines  MntFruits  MntMeatProducts  MntFishProducts  MntSweetProducts  \\\n",
       "0          635         88              546              172                88   \n",
       "1           11          1                6                2                 1   \n",
       "2          426         49              127              111                21   \n",
       "3           11          4               20               10                 3   \n",
       "4          173         43              118               46                27   \n",
       "...        ...        ...              ...              ...               ...   \n",
       "2235       709         43              182               42               118   \n",
       "2236       406          0               30                0                 0   \n",
       "2237       908         48              217               32                12   \n",
       "2238       428         30              214               80                30   \n",
       "2239        84          3               61                2                 1   \n",
       "\n",
       "      MntGoldProds  NumDealsPurchases  NumWebPurchases  NumCatalogPurchases  \\\n",
       "0               88                  3                8                   10   \n",
       "1                6                  2                1                    1   \n",
       "2               42                  1                8                    2   \n",
       "3                5                  2                2                    0   \n",
       "4               15                  5                5                    3   \n",
       "...            ...                ...              ...                  ...   \n",
       "2235           247                  2                9                    3   \n",
       "2236             8                  7                8                    2   \n",
       "2237            24                  1                2                    3   \n",
       "2238            61                  2                6                    5   \n",
       "2239            21                  3                3                    1   \n",
       "\n",
       "      NumStorePurchases  NumWebVisitsMonth  AcceptedCmp3  AcceptedCmp4  \\\n",
       "0                     4                  7             0             0   \n",
       "1                     2                  5             0             0   \n",
       "2                    10                  4             0             0   \n",
       "3                     4                  6             0             0   \n",
       "4                     6                  5             0             0   \n",
       "...                 ...                ...           ...           ...   \n",
       "2235                  4                  5             0             0   \n",
       "2236                  5                  7             0             0   \n",
       "2237                 13                  6             0             1   \n",
       "2238                 10                  3             0             0   \n",
       "2239                  4                  7             0             0   \n",
       "\n",
       "      AcceptedCmp5  AcceptedCmp1  AcceptedCmp2  Complain  Z_CostContact  \\\n",
       "0                0             0             0         0              3   \n",
       "1                0             0             0         0              3   \n",
       "2                0             0             0         0              3   \n",
       "3                0             0             0         0              3   \n",
       "4                0             0             0         0              3   \n",
       "...            ...           ...           ...       ...            ...   \n",
       "2235             0             0             0         0              3   \n",
       "2236             0             1             0         0              3   \n",
       "2237             0             0             0         0              3   \n",
       "2238             0             0             0         0              3   \n",
       "2239             0             0             0         0              3   \n",
       "\n",
       "      Z_Revenue Response  Year_Customer  DayDiff_Customer  Age Age_Group  \\\n",
       "0            11        1             11              3947   66     Elder   \n",
       "1            11        0              9              3101   69     Elder   \n",
       "2            11        0             10              3448   58     Adult   \n",
       "3            11        0              9              3041   39     Adult   \n",
       "4            11        0              9              3297   42     Adult   \n",
       "...         ...      ...            ...               ...  ...       ...   \n",
       "2235         11        0             10              3517   56     Adult   \n",
       "2236         11        0              9              3037   77     Elder   \n",
       "2237         11        0              9              3291   42     Adult   \n",
       "2238         11        0              9              3292   67     Elder   \n",
       "2239         11        1             11              3758   69     Elder   \n",
       "\n",
       "     Income_Group  \n",
       "0          Middle  \n",
       "1          Middle  \n",
       "2            High  \n",
       "3             Low  \n",
       "4          Middle  \n",
       "...           ...  \n",
       "2235       Middle  \n",
       "2236       Middle  \n",
       "2237       Middle  \n",
       "2238         High  \n",
       "2239       Middle  \n",
       "\n",
       "[2198 rows x 32 columns]"
      ]
     },
     "execution_count": 56,
     "metadata": {},
     "output_type": "execute_result"
    }
   ],
   "source": [
    "data"
   ]
  },
  {
   "cell_type": "code",
   "execution_count": 57,
   "id": "5f0048f5",
   "metadata": {
    "execution": {
     "iopub.execute_input": "2023-01-29T22:58:59.334638Z",
     "iopub.status.busy": "2023-01-29T22:58:59.334293Z",
     "iopub.status.idle": "2023-01-29T22:58:59.666383Z",
     "shell.execute_reply": "2023-01-29T22:58:59.665435Z"
    },
    "papermill": {
     "duration": 0.361706,
     "end_time": "2023-01-29T22:58:59.668219",
     "exception": false,
     "start_time": "2023-01-29T22:58:59.306513",
     "status": "completed"
    },
    "tags": []
   },
   "outputs": [
    {
     "data": {
      "text/plain": [
       "<AxesSubplot:>"
      ]
     },
     "execution_count": 57,
     "metadata": {},
     "output_type": "execute_result"
    },
    {
     "data": {
      "image/png": "[encoded data removed]",
      "text/plain": [
       "<Figure size 432x288 with 2 Axes>"
      ]
     },
     "metadata": {
      "needs_background": "light"
     },
     "output_type": "display_data"
    }
   ],
   "source": [
    "sns.heatmap(correlation, mask=mask, cmap=cmap, vmax=.3, center=0,\n",
    "            square=True, linewidths=.5, cbar_kws={\"shrink\": .5})"
   ]
  },
  {
   "cell_type": "code",
   "execution_count": 58,
   "id": "3ad854a8",
   "metadata": {
    "execution": {
     "iopub.execute_input": "2023-01-29T22:58:59.726768Z",
     "iopub.status.busy": "2023-01-29T22:58:59.726129Z",
     "iopub.status.idle": "2023-01-29T22:58:59.824055Z",
     "shell.execute_reply": "2023-01-29T22:58:59.823149Z"
    },
    "papermill": {
     "duration": 0.131053,
     "end_time": "2023-01-29T22:58:59.826487",
     "exception": false,
     "start_time": "2023-01-29T22:58:59.695434",
     "status": "completed"
    },
    "tags": []
   },
   "outputs": [],
   "source": [
    "from sklearn.neighbors import KNeighborsClassifier\n",
    "from sklearn.model_selection import train_test_split\n",
    "from sklearn import metrics"
   ]
  },
  {
   "cell_type": "code",
   "execution_count": 59,
   "id": "567abcc3",
   "metadata": {
    "execution": {
     "iopub.execute_input": "2023-01-29T22:58:59.882574Z",
     "iopub.status.busy": "2023-01-29T22:58:59.882222Z",
     "iopub.status.idle": "2023-01-29T22:58:59.889029Z",
     "shell.execute_reply": "2023-01-29T22:58:59.888190Z"
    },
    "papermill": {
     "duration": 0.036845,
     "end_time": "2023-01-29T22:58:59.890829",
     "exception": false,
     "start_time": "2023-01-29T22:58:59.853984",
     "status": "completed"
    },
    "tags": []
   },
   "outputs": [],
   "source": [
    "train, test = train_test_split(data, test_size = 0.3)"
   ]
  },
  {
   "cell_type": "code",
   "execution_count": 60,
   "id": "e18648b2",
   "metadata": {
    "execution": {
     "iopub.execute_input": "2023-01-29T22:58:59.945897Z",
     "iopub.status.busy": "2023-01-29T22:58:59.945592Z",
     "iopub.status.idle": "2023-01-29T22:58:59.952079Z",
     "shell.execute_reply": "2023-01-29T22:58:59.951003Z"
    },
    "papermill": {
     "duration": 0.036169,
     "end_time": "2023-01-29T22:58:59.953876",
     "exception": false,
     "start_time": "2023-01-29T22:58:59.917707",
     "status": "completed"
    },
    "tags": []
   },
   "outputs": [],
   "source": [
    "train_X = train[['Income','Kidhome','Teenhome']]\n",
    "train_y = train.Response\n",
    "test_X = test[['Income','Kidhome','Teenhome']]\n",
    "test_y = test.Response"
   ]
  },
  {
   "cell_type": "code",
   "execution_count": 61,
   "id": "67477011",
   "metadata": {
    "execution": {
     "iopub.execute_input": "2023-01-29T22:59:00.008745Z",
     "iopub.status.busy": "2023-01-29T22:59:00.008435Z",
     "iopub.status.idle": "2023-01-29T22:59:00.183792Z",
     "shell.execute_reply": "2023-01-29T22:59:00.182915Z"
    },
    "papermill": {
     "duration": 0.20528,
     "end_time": "2023-01-29T22:59:00.185947",
     "exception": false,
     "start_time": "2023-01-29T22:58:59.980667",
     "status": "completed"
    },
    "tags": []
   },
   "outputs": [],
   "source": [
    "neighborList = []\n",
    "accuracyList = []\n",
    "aucList = []\n",
    "for i in range(1,10):\n",
    "    model = KNeighborsClassifier(n_neighbors=i)\n",
    "    model.fit(train_X,train_y)\n",
    "    prediction=model.predict(test_X)\n",
    "    accuracy = metrics.accuracy_score(prediction,test_y)*100\n",
    "    auc = roc_auc_score(prediction, test_y)\n",
    "    neighborList.append(i)\n",
    "    accuracyList.append(accuracy)\n",
    "    aucList.append(auc)"
   ]
  },
  {
   "cell_type": "code",
   "execution_count": 62,
   "id": "eb8bdbe2",
   "metadata": {
    "execution": {
     "iopub.execute_input": "2023-01-29T22:59:00.241441Z",
     "iopub.status.busy": "2023-01-29T22:59:00.241112Z",
     "iopub.status.idle": "2023-01-29T22:59:00.405444Z",
     "shell.execute_reply": "2023-01-29T22:59:00.404562Z"
    },
    "papermill": {
     "duration": 0.193956,
     "end_time": "2023-01-29T22:59:00.407162",
     "exception": false,
     "start_time": "2023-01-29T22:59:00.213206",
     "status": "completed"
    },
    "tags": []
   },
   "outputs": [
    {
     "data": {
      "text/plain": [
       "<AxesSubplot:>"
      ]
     },
     "execution_count": 62,
     "metadata": {},
     "output_type": "execute_result"
    },
    {
     "data": {
      "image/png": "[encoded data removed]",
      "text/plain": [
       "<Figure size 432x288 with 1 Axes>"
      ]
     },
     "metadata": {
      "needs_background": "light"
     },
     "output_type": "display_data"
    }
   ],
   "source": [
    "sns.lineplot(x=neighborList, y=accuracyList)"
   ]
  },
  {
   "cell_type": "code",
   "execution_count": 63,
   "id": "70d4a179",
   "metadata": {
    "execution": {
     "iopub.execute_input": "2023-01-29T22:59:00.463085Z",
     "iopub.status.busy": "2023-01-29T22:59:00.462760Z",
     "iopub.status.idle": "2023-01-29T22:59:00.623259Z",
     "shell.execute_reply": "2023-01-29T22:59:00.622312Z"
    },
    "papermill": {
     "duration": 0.190616,
     "end_time": "2023-01-29T22:59:00.624981",
     "exception": false,
     "start_time": "2023-01-29T22:59:00.434365",
     "status": "completed"
    },
    "tags": []
   },
   "outputs": [
    {
     "data": {
      "text/plain": [
       "<AxesSubplot:>"
      ]
     },
     "execution_count": 63,
     "metadata": {},
     "output_type": "execute_result"
    },
    {
     "data": {
      "image/png": "[encoded data removed]",
      "text/plain": [
       "<Figure size 432x288 with 1 Axes>"
      ]
     },
     "metadata": {
      "needs_background": "light"
     },
     "output_type": "display_data"
    }
   ],
   "source": [
    "sns.lineplot(x=neighborList, y=aucList)"
   ]
  }
 ],
 "metadata": {
  "kernelspec": {
   "display_name": "Python 3",
   "language": "python",
   "name": "python3"
  },
  "language_info": {
   "codemirror_mode": {
    "name": "ipython",
    "version": 3
   },
   "file_extension": ".py",
   "mimetype": "text/x-python",
   "name": "python",
   "nbconvert_exporter": "python",
   "pygments_lexer": "ipython3",
   "version": "3.7.12"
  },
  "papermill": {
   "default_parameters": {},
   "duration": 19.566622,
   "end_time": "2023-01-29T22:59:01.476429",
   "environment_variables": {},
   "exception": null,
   "input_path": "__notebook__.ipynb",
   "output_path": "__notebook__.ipynb",
   "parameters": {},
   "start_time": "2023-01-29T22:58:41.909807",
   "version": "2.3.4"
  }
 },
 "nbformat": 4,
 "nbformat_minor": 5
}
