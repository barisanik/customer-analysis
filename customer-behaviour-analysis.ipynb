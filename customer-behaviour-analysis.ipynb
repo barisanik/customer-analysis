{
 "cells": [
  {
   "cell_type": "code",
   "execution_count": 1,
   "id": "90f50306",
   "metadata": {
    "_cell_guid": "b1076dfc-b9ad-4769-8c92-a6c4dae69d19",
    "_uuid": "8f2839f25d086af736a60e9eeb907d3b93b6e0e5",
    "execution": {
     "iopub.execute_input": "2023-01-21T13:46:35.878909Z",
     "iopub.status.busy": "2023-01-21T13:46:35.878337Z",
     "iopub.status.idle": "2023-01-21T13:46:37.464354Z",
     "shell.execute_reply": "2023-01-21T13:46:37.462565Z"
    },
    "papermill": {
     "duration": 1.609199,
     "end_time": "2023-01-21T13:46:37.468117",
     "exception": false,
     "start_time": "2023-01-21T13:46:35.858918",
     "status": "completed"
    },
    "tags": []
   },
   "outputs": [],
   "source": [
    "import pandas as pd\n",
    "import warnings \n",
    "import seaborn as sns\n",
    "import numpy as np\n",
    "import matplotlib as plt\n",
    "warnings.filterwarnings('ignore')\n",
    "pd.set_option('display.max_columns', None)"
   ]
  },
  {
   "cell_type": "markdown",
   "id": "02715657",
   "metadata": {
    "papermill": {
     "duration": 0.014758,
     "end_time": "2023-01-21T13:46:37.497538",
     "exception": false,
     "start_time": "2023-01-21T13:46:37.482780",
     "status": "completed"
    },
    "tags": []
   },
   "source": [
    "<p id = 0></p>"
   ]
  },
  {
   "cell_type": "markdown",
   "id": "16a7ecdc",
   "metadata": {
    "papermill": {
     "duration": 0.013432,
     "end_time": "2023-01-21T13:46:37.524685",
     "exception": false,
     "start_time": "2023-01-21T13:46:37.511253",
     "status": "completed"
    },
    "tags": []
   },
   "source": [
    "# Table of Contents\n",
    "\n",
    "* [1. Pre-Processing](#1)\n",
    "* [2. Visualization and Exploratory Analysis](#2)\n"
   ]
  },
  {
   "cell_type": "markdown",
   "id": "0ed93d72",
   "metadata": {
    "papermill": {
     "duration": 0.012615,
     "end_time": "2023-01-21T13:46:37.549679",
     "exception": false,
     "start_time": "2023-01-21T13:46:37.537064",
     "status": "completed"
    },
    "tags": []
   },
   "source": [
    "# <p id = \"1\" style=\"font-family:arial;background-color:#2A93D5;color:#FFFFFF;font-size: 150%;text-align:center;border-radius: 0px 15px 15px 0px;border-style: solid;border-color: #2483bf;\">1.PRE-PROCESSING</p>\n",
    "[Click to return Table of Contents](#0)"
   ]
  },
  {
   "cell_type": "code",
   "execution_count": 2,
   "id": "1b2e44b4",
   "metadata": {
    "execution": {
     "iopub.execute_input": "2023-01-21T13:46:37.578046Z",
     "iopub.status.busy": "2023-01-21T13:46:37.577592Z",
     "iopub.status.idle": "2023-01-21T13:46:37.645300Z",
     "shell.execute_reply": "2023-01-21T13:46:37.643004Z"
    },
    "papermill": {
     "duration": 0.086306,
     "end_time": "2023-01-21T13:46:37.649593",
     "exception": false,
     "start_time": "2023-01-21T13:46:37.563287",
     "status": "completed"
    },
    "tags": []
   },
   "outputs": [
    {
     "data": {
      "text/html": [
       "<div>\n",
       "<style scoped>\n",
       "    .dataframe tbody tr th:only-of-type {\n",
       "        vertical-align: middle;\n",
       "    }\n",
       "\n",
       "    .dataframe tbody tr th {\n",
       "        vertical-align: top;\n",
       "    }\n",
       "\n",
       "    .dataframe thead th {\n",
       "        text-align: right;\n",
       "    }\n",
       "</style>\n",
       "<table border=\"1\" class=\"dataframe\">\n",
       "  <thead>\n",
       "    <tr style=\"text-align: right;\">\n",
       "      <th></th>\n",
       "      <th>ID</th>\n",
       "      <th>Year_Birth</th>\n",
       "      <th>Education</th>\n",
       "      <th>Marital_Status</th>\n",
       "      <th>Income</th>\n",
       "      <th>Kidhome</th>\n",
       "      <th>Teenhome</th>\n",
       "      <th>Dt_Customer</th>\n",
       "      <th>Recency</th>\n",
       "      <th>MntWines</th>\n",
       "      <th>MntFruits</th>\n",
       "      <th>MntMeatProducts</th>\n",
       "      <th>MntFishProducts</th>\n",
       "      <th>MntSweetProducts</th>\n",
       "      <th>MntGoldProds</th>\n",
       "      <th>NumDealsPurchases</th>\n",
       "      <th>NumWebPurchases</th>\n",
       "      <th>NumCatalogPurchases</th>\n",
       "      <th>NumStorePurchases</th>\n",
       "      <th>NumWebVisitsMonth</th>\n",
       "      <th>AcceptedCmp3</th>\n",
       "      <th>AcceptedCmp4</th>\n",
       "      <th>AcceptedCmp5</th>\n",
       "      <th>AcceptedCmp1</th>\n",
       "      <th>AcceptedCmp2</th>\n",
       "      <th>Complain</th>\n",
       "      <th>Z_CostContact</th>\n",
       "      <th>Z_Revenue</th>\n",
       "      <th>Response</th>\n",
       "    </tr>\n",
       "  </thead>\n",
       "  <tbody>\n",
       "    <tr>\n",
       "      <th>0</th>\n",
       "      <td>5524</td>\n",
       "      <td>1957</td>\n",
       "      <td>Graduation</td>\n",
       "      <td>Single</td>\n",
       "      <td>58138.0</td>\n",
       "      <td>0</td>\n",
       "      <td>0</td>\n",
       "      <td>04-09-2012</td>\n",
       "      <td>58</td>\n",
       "      <td>635</td>\n",
       "      <td>88</td>\n",
       "      <td>546</td>\n",
       "      <td>172</td>\n",
       "      <td>88</td>\n",
       "      <td>88</td>\n",
       "      <td>3</td>\n",
       "      <td>8</td>\n",
       "      <td>10</td>\n",
       "      <td>4</td>\n",
       "      <td>7</td>\n",
       "      <td>0</td>\n",
       "      <td>0</td>\n",
       "      <td>0</td>\n",
       "      <td>0</td>\n",
       "      <td>0</td>\n",
       "      <td>0</td>\n",
       "      <td>3</td>\n",
       "      <td>11</td>\n",
       "      <td>1</td>\n",
       "    </tr>\n",
       "    <tr>\n",
       "      <th>1</th>\n",
       "      <td>2174</td>\n",
       "      <td>1954</td>\n",
       "      <td>Graduation</td>\n",
       "      <td>Single</td>\n",
       "      <td>46344.0</td>\n",
       "      <td>1</td>\n",
       "      <td>1</td>\n",
       "      <td>08-03-2014</td>\n",
       "      <td>38</td>\n",
       "      <td>11</td>\n",
       "      <td>1</td>\n",
       "      <td>6</td>\n",
       "      <td>2</td>\n",
       "      <td>1</td>\n",
       "      <td>6</td>\n",
       "      <td>2</td>\n",
       "      <td>1</td>\n",
       "      <td>1</td>\n",
       "      <td>2</td>\n",
       "      <td>5</td>\n",
       "      <td>0</td>\n",
       "      <td>0</td>\n",
       "      <td>0</td>\n",
       "      <td>0</td>\n",
       "      <td>0</td>\n",
       "      <td>0</td>\n",
       "      <td>3</td>\n",
       "      <td>11</td>\n",
       "      <td>0</td>\n",
       "    </tr>\n",
       "    <tr>\n",
       "      <th>2</th>\n",
       "      <td>4141</td>\n",
       "      <td>1965</td>\n",
       "      <td>Graduation</td>\n",
       "      <td>Together</td>\n",
       "      <td>71613.0</td>\n",
       "      <td>0</td>\n",
       "      <td>0</td>\n",
       "      <td>21-08-2013</td>\n",
       "      <td>26</td>\n",
       "      <td>426</td>\n",
       "      <td>49</td>\n",
       "      <td>127</td>\n",
       "      <td>111</td>\n",
       "      <td>21</td>\n",
       "      <td>42</td>\n",
       "      <td>1</td>\n",
       "      <td>8</td>\n",
       "      <td>2</td>\n",
       "      <td>10</td>\n",
       "      <td>4</td>\n",
       "      <td>0</td>\n",
       "      <td>0</td>\n",
       "      <td>0</td>\n",
       "      <td>0</td>\n",
       "      <td>0</td>\n",
       "      <td>0</td>\n",
       "      <td>3</td>\n",
       "      <td>11</td>\n",
       "      <td>0</td>\n",
       "    </tr>\n",
       "    <tr>\n",
       "      <th>3</th>\n",
       "      <td>6182</td>\n",
       "      <td>1984</td>\n",
       "      <td>Graduation</td>\n",
       "      <td>Together</td>\n",
       "      <td>26646.0</td>\n",
       "      <td>1</td>\n",
       "      <td>0</td>\n",
       "      <td>10-02-2014</td>\n",
       "      <td>26</td>\n",
       "      <td>11</td>\n",
       "      <td>4</td>\n",
       "      <td>20</td>\n",
       "      <td>10</td>\n",
       "      <td>3</td>\n",
       "      <td>5</td>\n",
       "      <td>2</td>\n",
       "      <td>2</td>\n",
       "      <td>0</td>\n",
       "      <td>4</td>\n",
       "      <td>6</td>\n",
       "      <td>0</td>\n",
       "      <td>0</td>\n",
       "      <td>0</td>\n",
       "      <td>0</td>\n",
       "      <td>0</td>\n",
       "      <td>0</td>\n",
       "      <td>3</td>\n",
       "      <td>11</td>\n",
       "      <td>0</td>\n",
       "    </tr>\n",
       "    <tr>\n",
       "      <th>4</th>\n",
       "      <td>5324</td>\n",
       "      <td>1981</td>\n",
       "      <td>PhD</td>\n",
       "      <td>Married</td>\n",
       "      <td>58293.0</td>\n",
       "      <td>1</td>\n",
       "      <td>0</td>\n",
       "      <td>19-01-2014</td>\n",
       "      <td>94</td>\n",
       "      <td>173</td>\n",
       "      <td>43</td>\n",
       "      <td>118</td>\n",
       "      <td>46</td>\n",
       "      <td>27</td>\n",
       "      <td>15</td>\n",
       "      <td>5</td>\n",
       "      <td>5</td>\n",
       "      <td>3</td>\n",
       "      <td>6</td>\n",
       "      <td>5</td>\n",
       "      <td>0</td>\n",
       "      <td>0</td>\n",
       "      <td>0</td>\n",
       "      <td>0</td>\n",
       "      <td>0</td>\n",
       "      <td>0</td>\n",
       "      <td>3</td>\n",
       "      <td>11</td>\n",
       "      <td>0</td>\n",
       "    </tr>\n",
       "  </tbody>\n",
       "</table>\n",
       "</div>"
      ],
      "text/plain": [
       "     ID  Year_Birth   Education Marital_Status   Income  Kidhome  Teenhome  \\\n",
       "0  5524        1957  Graduation         Single  58138.0        0         0   \n",
       "1  2174        1954  Graduation         Single  46344.0        1         1   \n",
       "2  4141        1965  Graduation       Together  71613.0        0         0   \n",
       "3  6182        1984  Graduation       Together  26646.0        1         0   \n",
       "4  5324        1981         PhD        Married  58293.0        1         0   \n",
       "\n",
       "  Dt_Customer  Recency  MntWines  MntFruits  MntMeatProducts  MntFishProducts  \\\n",
       "0  04-09-2012       58       635         88              546              172   \n",
       "1  08-03-2014       38        11          1                6                2   \n",
       "2  21-08-2013       26       426         49              127              111   \n",
       "3  10-02-2014       26        11          4               20               10   \n",
       "4  19-01-2014       94       173         43              118               46   \n",
       "\n",
       "   MntSweetProducts  MntGoldProds  NumDealsPurchases  NumWebPurchases  \\\n",
       "0                88            88                  3                8   \n",
       "1                 1             6                  2                1   \n",
       "2                21            42                  1                8   \n",
       "3                 3             5                  2                2   \n",
       "4                27            15                  5                5   \n",
       "\n",
       "   NumCatalogPurchases  NumStorePurchases  NumWebVisitsMonth  AcceptedCmp3  \\\n",
       "0                   10                  4                  7             0   \n",
       "1                    1                  2                  5             0   \n",
       "2                    2                 10                  4             0   \n",
       "3                    0                  4                  6             0   \n",
       "4                    3                  6                  5             0   \n",
       "\n",
       "   AcceptedCmp4  AcceptedCmp5  AcceptedCmp1  AcceptedCmp2  Complain  \\\n",
       "0             0             0             0             0         0   \n",
       "1             0             0             0             0         0   \n",
       "2             0             0             0             0         0   \n",
       "3             0             0             0             0         0   \n",
       "4             0             0             0             0         0   \n",
       "\n",
       "   Z_CostContact  Z_Revenue  Response  \n",
       "0              3         11         1  \n",
       "1              3         11         0  \n",
       "2              3         11         0  \n",
       "3              3         11         0  \n",
       "4              3         11         0  "
      ]
     },
     "execution_count": 2,
     "metadata": {},
     "output_type": "execute_result"
    }
   ],
   "source": [
    "data = pd.read_csv('../input/customer-personality-analysis/marketing_campaign.csv', sep='\\t')\n",
    "data.head()"
   ]
  },
  {
   "cell_type": "code",
   "execution_count": 3,
   "id": "ab2e989f",
   "metadata": {
    "execution": {
     "iopub.execute_input": "2023-01-21T13:46:37.678995Z",
     "iopub.status.busy": "2023-01-21T13:46:37.678490Z",
     "iopub.status.idle": "2023-01-21T13:46:37.713655Z",
     "shell.execute_reply": "2023-01-21T13:46:37.712307Z"
    },
    "papermill": {
     "duration": 0.053032,
     "end_time": "2023-01-21T13:46:37.716971",
     "exception": false,
     "start_time": "2023-01-21T13:46:37.663939",
     "status": "completed"
    },
    "tags": []
   },
   "outputs": [
    {
     "name": "stdout",
     "output_type": "stream",
     "text": [
      "<class 'pandas.core.frame.DataFrame'>\n",
      "RangeIndex: 2240 entries, 0 to 2239\n",
      "Data columns (total 29 columns):\n",
      " #   Column               Non-Null Count  Dtype  \n",
      "---  ------               --------------  -----  \n",
      " 0   ID                   2240 non-null   int64  \n",
      " 1   Year_Birth           2240 non-null   int64  \n",
      " 2   Education            2240 non-null   object \n",
      " 3   Marital_Status       2240 non-null   object \n",
      " 4   Income               2216 non-null   float64\n",
      " 5   Kidhome              2240 non-null   int64  \n",
      " 6   Teenhome             2240 non-null   int64  \n",
      " 7   Dt_Customer          2240 non-null   object \n",
      " 8   Recency              2240 non-null   int64  \n",
      " 9   MntWines             2240 non-null   int64  \n",
      " 10  MntFruits            2240 non-null   int64  \n",
      " 11  MntMeatProducts      2240 non-null   int64  \n",
      " 12  MntFishProducts      2240 non-null   int64  \n",
      " 13  MntSweetProducts     2240 non-null   int64  \n",
      " 14  MntGoldProds         2240 non-null   int64  \n",
      " 15  NumDealsPurchases    2240 non-null   int64  \n",
      " 16  NumWebPurchases      2240 non-null   int64  \n",
      " 17  NumCatalogPurchases  2240 non-null   int64  \n",
      " 18  NumStorePurchases    2240 non-null   int64  \n",
      " 19  NumWebVisitsMonth    2240 non-null   int64  \n",
      " 20  AcceptedCmp3         2240 non-null   int64  \n",
      " 21  AcceptedCmp4         2240 non-null   int64  \n",
      " 22  AcceptedCmp5         2240 non-null   int64  \n",
      " 23  AcceptedCmp1         2240 non-null   int64  \n",
      " 24  AcceptedCmp2         2240 non-null   int64  \n",
      " 25  Complain             2240 non-null   int64  \n",
      " 26  Z_CostContact        2240 non-null   int64  \n",
      " 27  Z_Revenue            2240 non-null   int64  \n",
      " 28  Response             2240 non-null   int64  \n",
      "dtypes: float64(1), int64(25), object(3)\n",
      "memory usage: 507.6+ KB\n"
     ]
    }
   ],
   "source": [
    "data.info()"
   ]
  },
  {
   "cell_type": "markdown",
   "id": "30b20eed",
   "metadata": {
    "papermill": {
     "duration": 0.013348,
     "end_time": "2023-01-21T13:46:37.742716",
     "exception": false,
     "start_time": "2023-01-21T13:46:37.729368",
     "status": "completed"
    },
    "tags": []
   },
   "source": [
    "**Checks the null distribution between columns:**"
   ]
  },
  {
   "cell_type": "code",
   "execution_count": 4,
   "id": "cda0149c",
   "metadata": {
    "execution": {
     "iopub.execute_input": "2023-01-21T13:46:37.775211Z",
     "iopub.status.busy": "2023-01-21T13:46:37.774812Z",
     "iopub.status.idle": "2023-01-21T13:46:37.787307Z",
     "shell.execute_reply": "2023-01-21T13:46:37.785678Z"
    },
    "papermill": {
     "duration": 0.032942,
     "end_time": "2023-01-21T13:46:37.791017",
     "exception": false,
     "start_time": "2023-01-21T13:46:37.758075",
     "status": "completed"
    },
    "tags": []
   },
   "outputs": [
    {
     "data": {
      "text/plain": [
       "ID                      0\n",
       "Year_Birth              0\n",
       "Education               0\n",
       "Marital_Status          0\n",
       "Income                 24\n",
       "Kidhome                 0\n",
       "Teenhome                0\n",
       "Dt_Customer             0\n",
       "Recency                 0\n",
       "MntWines                0\n",
       "MntFruits               0\n",
       "MntMeatProducts         0\n",
       "MntFishProducts         0\n",
       "MntSweetProducts        0\n",
       "MntGoldProds            0\n",
       "NumDealsPurchases       0\n",
       "NumWebPurchases         0\n",
       "NumCatalogPurchases     0\n",
       "NumStorePurchases       0\n",
       "NumWebVisitsMonth       0\n",
       "AcceptedCmp3            0\n",
       "AcceptedCmp4            0\n",
       "AcceptedCmp5            0\n",
       "AcceptedCmp1            0\n",
       "AcceptedCmp2            0\n",
       "Complain                0\n",
       "Z_CostContact           0\n",
       "Z_Revenue               0\n",
       "Response                0\n",
       "dtype: int64"
      ]
     },
     "execution_count": 4,
     "metadata": {},
     "output_type": "execute_result"
    }
   ],
   "source": [
    "data.isna().sum()"
   ]
  },
  {
   "cell_type": "markdown",
   "id": "91bceecd",
   "metadata": {
    "papermill": {
     "duration": 0.014288,
     "end_time": "2023-01-21T13:46:37.819879",
     "exception": false,
     "start_time": "2023-01-21T13:46:37.805591",
     "status": "completed"
    },
    "tags": []
   },
   "source": [
    "**Drops the rows with null values:**"
   ]
  },
  {
   "cell_type": "code",
   "execution_count": 5,
   "id": "7f343390",
   "metadata": {
    "execution": {
     "iopub.execute_input": "2023-01-21T13:46:37.850801Z",
     "iopub.status.busy": "2023-01-21T13:46:37.850170Z",
     "iopub.status.idle": "2023-01-21T13:46:37.861809Z",
     "shell.execute_reply": "2023-01-21T13:46:37.860074Z"
    },
    "papermill": {
     "duration": 0.030915,
     "end_time": "2023-01-21T13:46:37.865548",
     "exception": false,
     "start_time": "2023-01-21T13:46:37.834633",
     "status": "completed"
    },
    "tags": []
   },
   "outputs": [],
   "source": [
    "data.drop(index=(data[data['Income'].isna()].index), axis = 0, inplace=True)"
   ]
  },
  {
   "cell_type": "markdown",
   "id": "7967ca51",
   "metadata": {
    "papermill": {
     "duration": 0.01446,
     "end_time": "2023-01-21T13:46:37.894048",
     "exception": false,
     "start_time": "2023-01-21T13:46:37.879588",
     "status": "completed"
    },
    "tags": []
   },
   "source": [
    "**Conversion of column type:**"
   ]
  },
  {
   "cell_type": "code",
   "execution_count": 6,
   "id": "d2c5f01f",
   "metadata": {
    "execution": {
     "iopub.execute_input": "2023-01-21T13:46:37.930505Z",
     "iopub.status.busy": "2023-01-21T13:46:37.930087Z",
     "iopub.status.idle": "2023-01-21T13:46:37.946006Z",
     "shell.execute_reply": "2023-01-21T13:46:37.944247Z"
    },
    "papermill": {
     "duration": 0.035699,
     "end_time": "2023-01-21T13:46:37.948867",
     "exception": false,
     "start_time": "2023-01-21T13:46:37.913168",
     "status": "completed"
    },
    "tags": []
   },
   "outputs": [],
   "source": [
    "from pandas.api.types import CategoricalDtype\n",
    "education_ordered= CategoricalDtype(categories=['Basic','2n Cycle','Graduation', 'Master', 'PhD'], ordered=True)\n",
    "data['Education'] = data['Education'].astype(education_ordered)\n",
    "data['Dt_Customer'] = pd.to_datetime(data['Dt_Customer'])"
   ]
  },
  {
   "cell_type": "markdown",
   "id": "b18223a4",
   "metadata": {
    "papermill": {
     "duration": 0.013087,
     "end_time": "2023-01-21T13:46:37.975432",
     "exception": false,
     "start_time": "2023-01-21T13:46:37.962345",
     "status": "completed"
    },
    "tags": []
   },
   "source": [
    "**Calculating the year and day difference with Dt_Customer column.**"
   ]
  },
  {
   "cell_type": "code",
   "execution_count": 7,
   "id": "a43800dd",
   "metadata": {
    "execution": {
     "iopub.execute_input": "2023-01-21T13:46:38.005551Z",
     "iopub.status.busy": "2023-01-21T13:46:38.005052Z",
     "iopub.status.idle": "2023-01-21T13:46:38.013369Z",
     "shell.execute_reply": "2023-01-21T13:46:38.012244Z"
    },
    "papermill": {
     "duration": 0.026624,
     "end_time": "2023-01-21T13:46:38.016881",
     "exception": false,
     "start_time": "2023-01-21T13:46:37.990257",
     "status": "completed"
    },
    "tags": []
   },
   "outputs": [],
   "source": [
    "from datetime import datetime\n",
    "currentYear = datetime.now().year"
   ]
  },
  {
   "cell_type": "code",
   "execution_count": 8,
   "id": "9300c4d0",
   "metadata": {
    "execution": {
     "iopub.execute_input": "2023-01-21T13:46:38.051428Z",
     "iopub.status.busy": "2023-01-21T13:46:38.050988Z",
     "iopub.status.idle": "2023-01-21T13:46:38.110166Z",
     "shell.execute_reply": "2023-01-21T13:46:38.108554Z"
    },
    "papermill": {
     "duration": 0.079883,
     "end_time": "2023-01-21T13:46:38.113652",
     "exception": false,
     "start_time": "2023-01-21T13:46:38.033769",
     "status": "completed"
    },
    "tags": []
   },
   "outputs": [],
   "source": [
    "data['Year_Customer'] = data['Dt_Customer'].dt.year.apply(lambda x : currentYear - x)\n",
    "data['DayDiff_Customer'] = data['Dt_Customer'].apply(lambda x : datetime.now() - x)\n",
    "data['DayDiff_Customer'] = data['DayDiff_Customer'].dt.days\n",
    "data.drop(['Dt_Customer'], axis = 1, inplace = True)"
   ]
  },
  {
   "cell_type": "markdown",
   "id": "33724e04",
   "metadata": {
    "papermill": {
     "duration": 0.013453,
     "end_time": "2023-01-21T13:46:38.140506",
     "exception": false,
     "start_time": "2023-01-21T13:46:38.127053",
     "status": "completed"
    },
    "tags": []
   },
   "source": [
    "# Age Variable"
   ]
  },
  {
   "cell_type": "markdown",
   "id": "9ca7e66e",
   "metadata": {
    "papermill": {
     "duration": 0.014195,
     "end_time": "2023-01-21T13:46:38.169858",
     "exception": false,
     "start_time": "2023-01-21T13:46:38.155663",
     "status": "completed"
    },
    "tags": []
   },
   "source": [
    "**Calculates the age of every customer and drops the Year_Birth column:**"
   ]
  },
  {
   "cell_type": "code",
   "execution_count": 9,
   "id": "b29cde5c",
   "metadata": {
    "execution": {
     "iopub.execute_input": "2023-01-21T13:46:38.201518Z",
     "iopub.status.busy": "2023-01-21T13:46:38.200679Z",
     "iopub.status.idle": "2023-01-21T13:46:38.232314Z",
     "shell.execute_reply": "2023-01-21T13:46:38.230984Z"
    },
    "papermill": {
     "duration": 0.049706,
     "end_time": "2023-01-21T13:46:38.235382",
     "exception": false,
     "start_time": "2023-01-21T13:46:38.185676",
     "status": "completed"
    },
    "tags": []
   },
   "outputs": [
    {
     "data": {
      "text/html": [
       "<div>\n",
       "<style scoped>\n",
       "    .dataframe tbody tr th:only-of-type {\n",
       "        vertical-align: middle;\n",
       "    }\n",
       "\n",
       "    .dataframe tbody tr th {\n",
       "        vertical-align: top;\n",
       "    }\n",
       "\n",
       "    .dataframe thead th {\n",
       "        text-align: right;\n",
       "    }\n",
       "</style>\n",
       "<table border=\"1\" class=\"dataframe\">\n",
       "  <thead>\n",
       "    <tr style=\"text-align: right;\">\n",
       "      <th></th>\n",
       "      <th>ID</th>\n",
       "      <th>Education</th>\n",
       "      <th>Marital_Status</th>\n",
       "      <th>Income</th>\n",
       "      <th>Kidhome</th>\n",
       "      <th>Teenhome</th>\n",
       "      <th>Recency</th>\n",
       "      <th>MntWines</th>\n",
       "      <th>MntFruits</th>\n",
       "      <th>MntMeatProducts</th>\n",
       "      <th>MntFishProducts</th>\n",
       "      <th>MntSweetProducts</th>\n",
       "      <th>MntGoldProds</th>\n",
       "      <th>NumDealsPurchases</th>\n",
       "      <th>NumWebPurchases</th>\n",
       "      <th>NumCatalogPurchases</th>\n",
       "      <th>NumStorePurchases</th>\n",
       "      <th>NumWebVisitsMonth</th>\n",
       "      <th>AcceptedCmp3</th>\n",
       "      <th>AcceptedCmp4</th>\n",
       "      <th>AcceptedCmp5</th>\n",
       "      <th>AcceptedCmp1</th>\n",
       "      <th>AcceptedCmp2</th>\n",
       "      <th>Complain</th>\n",
       "      <th>Z_CostContact</th>\n",
       "      <th>Z_Revenue</th>\n",
       "      <th>Response</th>\n",
       "      <th>Year_Customer</th>\n",
       "      <th>DayDiff_Customer</th>\n",
       "      <th>Age</th>\n",
       "    </tr>\n",
       "  </thead>\n",
       "  <tbody>\n",
       "    <tr>\n",
       "      <th>0</th>\n",
       "      <td>5524</td>\n",
       "      <td>Graduation</td>\n",
       "      <td>Single</td>\n",
       "      <td>58138.0</td>\n",
       "      <td>0</td>\n",
       "      <td>0</td>\n",
       "      <td>58</td>\n",
       "      <td>635</td>\n",
       "      <td>88</td>\n",
       "      <td>546</td>\n",
       "      <td>172</td>\n",
       "      <td>88</td>\n",
       "      <td>88</td>\n",
       "      <td>3</td>\n",
       "      <td>8</td>\n",
       "      <td>10</td>\n",
       "      <td>4</td>\n",
       "      <td>7</td>\n",
       "      <td>0</td>\n",
       "      <td>0</td>\n",
       "      <td>0</td>\n",
       "      <td>0</td>\n",
       "      <td>0</td>\n",
       "      <td>0</td>\n",
       "      <td>3</td>\n",
       "      <td>11</td>\n",
       "      <td>1</td>\n",
       "      <td>11</td>\n",
       "      <td>3939</td>\n",
       "      <td>66</td>\n",
       "    </tr>\n",
       "    <tr>\n",
       "      <th>1</th>\n",
       "      <td>2174</td>\n",
       "      <td>Graduation</td>\n",
       "      <td>Single</td>\n",
       "      <td>46344.0</td>\n",
       "      <td>1</td>\n",
       "      <td>1</td>\n",
       "      <td>38</td>\n",
       "      <td>11</td>\n",
       "      <td>1</td>\n",
       "      <td>6</td>\n",
       "      <td>2</td>\n",
       "      <td>1</td>\n",
       "      <td>6</td>\n",
       "      <td>2</td>\n",
       "      <td>1</td>\n",
       "      <td>1</td>\n",
       "      <td>2</td>\n",
       "      <td>5</td>\n",
       "      <td>0</td>\n",
       "      <td>0</td>\n",
       "      <td>0</td>\n",
       "      <td>0</td>\n",
       "      <td>0</td>\n",
       "      <td>0</td>\n",
       "      <td>3</td>\n",
       "      <td>11</td>\n",
       "      <td>0</td>\n",
       "      <td>9</td>\n",
       "      <td>3093</td>\n",
       "      <td>69</td>\n",
       "    </tr>\n",
       "    <tr>\n",
       "      <th>2</th>\n",
       "      <td>4141</td>\n",
       "      <td>Graduation</td>\n",
       "      <td>Together</td>\n",
       "      <td>71613.0</td>\n",
       "      <td>0</td>\n",
       "      <td>0</td>\n",
       "      <td>26</td>\n",
       "      <td>426</td>\n",
       "      <td>49</td>\n",
       "      <td>127</td>\n",
       "      <td>111</td>\n",
       "      <td>21</td>\n",
       "      <td>42</td>\n",
       "      <td>1</td>\n",
       "      <td>8</td>\n",
       "      <td>2</td>\n",
       "      <td>10</td>\n",
       "      <td>4</td>\n",
       "      <td>0</td>\n",
       "      <td>0</td>\n",
       "      <td>0</td>\n",
       "      <td>0</td>\n",
       "      <td>0</td>\n",
       "      <td>0</td>\n",
       "      <td>3</td>\n",
       "      <td>11</td>\n",
       "      <td>0</td>\n",
       "      <td>10</td>\n",
       "      <td>3440</td>\n",
       "      <td>58</td>\n",
       "    </tr>\n",
       "    <tr>\n",
       "      <th>3</th>\n",
       "      <td>6182</td>\n",
       "      <td>Graduation</td>\n",
       "      <td>Together</td>\n",
       "      <td>26646.0</td>\n",
       "      <td>1</td>\n",
       "      <td>0</td>\n",
       "      <td>26</td>\n",
       "      <td>11</td>\n",
       "      <td>4</td>\n",
       "      <td>20</td>\n",
       "      <td>10</td>\n",
       "      <td>3</td>\n",
       "      <td>5</td>\n",
       "      <td>2</td>\n",
       "      <td>2</td>\n",
       "      <td>0</td>\n",
       "      <td>4</td>\n",
       "      <td>6</td>\n",
       "      <td>0</td>\n",
       "      <td>0</td>\n",
       "      <td>0</td>\n",
       "      <td>0</td>\n",
       "      <td>0</td>\n",
       "      <td>0</td>\n",
       "      <td>3</td>\n",
       "      <td>11</td>\n",
       "      <td>0</td>\n",
       "      <td>9</td>\n",
       "      <td>3033</td>\n",
       "      <td>39</td>\n",
       "    </tr>\n",
       "    <tr>\n",
       "      <th>4</th>\n",
       "      <td>5324</td>\n",
       "      <td>PhD</td>\n",
       "      <td>Married</td>\n",
       "      <td>58293.0</td>\n",
       "      <td>1</td>\n",
       "      <td>0</td>\n",
       "      <td>94</td>\n",
       "      <td>173</td>\n",
       "      <td>43</td>\n",
       "      <td>118</td>\n",
       "      <td>46</td>\n",
       "      <td>27</td>\n",
       "      <td>15</td>\n",
       "      <td>5</td>\n",
       "      <td>5</td>\n",
       "      <td>3</td>\n",
       "      <td>6</td>\n",
       "      <td>5</td>\n",
       "      <td>0</td>\n",
       "      <td>0</td>\n",
       "      <td>0</td>\n",
       "      <td>0</td>\n",
       "      <td>0</td>\n",
       "      <td>0</td>\n",
       "      <td>3</td>\n",
       "      <td>11</td>\n",
       "      <td>0</td>\n",
       "      <td>9</td>\n",
       "      <td>3289</td>\n",
       "      <td>42</td>\n",
       "    </tr>\n",
       "  </tbody>\n",
       "</table>\n",
       "</div>"
      ],
      "text/plain": [
       "     ID   Education Marital_Status   Income  Kidhome  Teenhome  Recency  \\\n",
       "0  5524  Graduation         Single  58138.0        0         0       58   \n",
       "1  2174  Graduation         Single  46344.0        1         1       38   \n",
       "2  4141  Graduation       Together  71613.0        0         0       26   \n",
       "3  6182  Graduation       Together  26646.0        1         0       26   \n",
       "4  5324         PhD        Married  58293.0        1         0       94   \n",
       "\n",
       "   MntWines  MntFruits  MntMeatProducts  MntFishProducts  MntSweetProducts  \\\n",
       "0       635         88              546              172                88   \n",
       "1        11          1                6                2                 1   \n",
       "2       426         49              127              111                21   \n",
       "3        11          4               20               10                 3   \n",
       "4       173         43              118               46                27   \n",
       "\n",
       "   MntGoldProds  NumDealsPurchases  NumWebPurchases  NumCatalogPurchases  \\\n",
       "0            88                  3                8                   10   \n",
       "1             6                  2                1                    1   \n",
       "2            42                  1                8                    2   \n",
       "3             5                  2                2                    0   \n",
       "4            15                  5                5                    3   \n",
       "\n",
       "   NumStorePurchases  NumWebVisitsMonth  AcceptedCmp3  AcceptedCmp4  \\\n",
       "0                  4                  7             0             0   \n",
       "1                  2                  5             0             0   \n",
       "2                 10                  4             0             0   \n",
       "3                  4                  6             0             0   \n",
       "4                  6                  5             0             0   \n",
       "\n",
       "   AcceptedCmp5  AcceptedCmp1  AcceptedCmp2  Complain  Z_CostContact  \\\n",
       "0             0             0             0         0              3   \n",
       "1             0             0             0         0              3   \n",
       "2             0             0             0         0              3   \n",
       "3             0             0             0         0              3   \n",
       "4             0             0             0         0              3   \n",
       "\n",
       "   Z_Revenue  Response  Year_Customer  DayDiff_Customer  Age  \n",
       "0         11         1             11              3939   66  \n",
       "1         11         0              9              3093   69  \n",
       "2         11         0             10              3440   58  \n",
       "3         11         0              9              3033   39  \n",
       "4         11         0              9              3289   42  "
      ]
     },
     "execution_count": 9,
     "metadata": {},
     "output_type": "execute_result"
    }
   ],
   "source": [
    "data['Age'] = data['Year_Birth'].apply(lambda x : currentYear - x)\n",
    "# Drops the Year_Birth column\n",
    "data.drop(['Year_Birth'], axis = 1, inplace = True)\n",
    "data.head()"
   ]
  },
  {
   "cell_type": "markdown",
   "id": "7b3936f4",
   "metadata": {
    "papermill": {
     "duration": 0.013088,
     "end_time": "2023-01-21T13:46:38.264345",
     "exception": false,
     "start_time": "2023-01-21T13:46:38.251257",
     "status": "completed"
    },
    "tags": []
   },
   "source": [
    "**The distribution of Age variable:**"
   ]
  },
  {
   "cell_type": "code",
   "execution_count": 10,
   "id": "40176e7b",
   "metadata": {
    "execution": {
     "iopub.execute_input": "2023-01-21T13:46:38.294878Z",
     "iopub.status.busy": "2023-01-21T13:46:38.293223Z",
     "iopub.status.idle": "2023-01-21T13:46:38.656443Z",
     "shell.execute_reply": "2023-01-21T13:46:38.654484Z"
    },
    "papermill": {
     "duration": 0.383008,
     "end_time": "2023-01-21T13:46:38.660036",
     "exception": false,
     "start_time": "2023-01-21T13:46:38.277028",
     "status": "completed"
    },
    "tags": []
   },
   "outputs": [
    {
     "data": {
      "text/plain": [
       "<AxesSubplot:xlabel='Age', ylabel='Count'>"
      ]
     },
     "execution_count": 10,
     "metadata": {},
     "output_type": "execute_result"
    },
    {
     "data": {
      "image/png": "[encoded data removed]",
      "text/plain": [
       "<Figure size 432x288 with 1 Axes>"
      ]
     },
     "metadata": {
      "needs_background": "light"
     },
     "output_type": "display_data"
    }
   ],
   "source": [
    "sns.histplot(data['Age'], bins=10)"
   ]
  },
  {
   "cell_type": "markdown",
   "id": "73b6d31a",
   "metadata": {
    "papermill": {
     "duration": 0.013821,
     "end_time": "2023-01-21T13:46:38.689941",
     "exception": false,
     "start_time": "2023-01-21T13:46:38.676120",
     "status": "completed"
    },
    "tags": []
   },
   "source": [
    "**The age distribution rounds around 50. There are some outliers above 100.**"
   ]
  },
  {
   "cell_type": "code",
   "execution_count": 11,
   "id": "5d0da881",
   "metadata": {
    "execution": {
     "iopub.execute_input": "2023-01-21T13:46:38.719385Z",
     "iopub.status.busy": "2023-01-21T13:46:38.718940Z",
     "iopub.status.idle": "2023-01-21T13:46:38.728144Z",
     "shell.execute_reply": "2023-01-21T13:46:38.726312Z"
    },
    "papermill": {
     "duration": 0.028173,
     "end_time": "2023-01-21T13:46:38.731414",
     "exception": false,
     "start_time": "2023-01-21T13:46:38.703241",
     "status": "completed"
    },
    "tags": []
   },
   "outputs": [
    {
     "data": {
      "text/plain": [
       "130"
      ]
     },
     "execution_count": 11,
     "metadata": {},
     "output_type": "execute_result"
    }
   ],
   "source": [
    "data['Age'].max()"
   ]
  },
  {
   "cell_type": "code",
   "execution_count": 12,
   "id": "3ce3338c",
   "metadata": {
    "execution": {
     "iopub.execute_input": "2023-01-21T13:46:38.764820Z",
     "iopub.status.busy": "2023-01-21T13:46:38.764231Z",
     "iopub.status.idle": "2023-01-21T13:46:38.790840Z",
     "shell.execute_reply": "2023-01-21T13:46:38.789542Z"
    },
    "papermill": {
     "duration": 0.047963,
     "end_time": "2023-01-21T13:46:38.794634",
     "exception": false,
     "start_time": "2023-01-21T13:46:38.746671",
     "status": "completed"
    },
    "tags": []
   },
   "outputs": [
    {
     "data": {
      "text/html": [
       "<div>\n",
       "<style scoped>\n",
       "    .dataframe tbody tr th:only-of-type {\n",
       "        vertical-align: middle;\n",
       "    }\n",
       "\n",
       "    .dataframe tbody tr th {\n",
       "        vertical-align: top;\n",
       "    }\n",
       "\n",
       "    .dataframe thead th {\n",
       "        text-align: right;\n",
       "    }\n",
       "</style>\n",
       "<table border=\"1\" class=\"dataframe\">\n",
       "  <thead>\n",
       "    <tr style=\"text-align: right;\">\n",
       "      <th></th>\n",
       "      <th>ID</th>\n",
       "      <th>Education</th>\n",
       "      <th>Marital_Status</th>\n",
       "      <th>Income</th>\n",
       "      <th>Kidhome</th>\n",
       "      <th>Teenhome</th>\n",
       "      <th>Recency</th>\n",
       "      <th>MntWines</th>\n",
       "      <th>MntFruits</th>\n",
       "      <th>MntMeatProducts</th>\n",
       "      <th>MntFishProducts</th>\n",
       "      <th>MntSweetProducts</th>\n",
       "      <th>MntGoldProds</th>\n",
       "      <th>NumDealsPurchases</th>\n",
       "      <th>NumWebPurchases</th>\n",
       "      <th>NumCatalogPurchases</th>\n",
       "      <th>NumStorePurchases</th>\n",
       "      <th>NumWebVisitsMonth</th>\n",
       "      <th>AcceptedCmp3</th>\n",
       "      <th>AcceptedCmp4</th>\n",
       "      <th>AcceptedCmp5</th>\n",
       "      <th>AcceptedCmp1</th>\n",
       "      <th>AcceptedCmp2</th>\n",
       "      <th>Complain</th>\n",
       "      <th>Z_CostContact</th>\n",
       "      <th>Z_Revenue</th>\n",
       "      <th>Response</th>\n",
       "      <th>Year_Customer</th>\n",
       "      <th>DayDiff_Customer</th>\n",
       "      <th>Age</th>\n",
       "    </tr>\n",
       "  </thead>\n",
       "  <tbody>\n",
       "    <tr>\n",
       "      <th>192</th>\n",
       "      <td>7829</td>\n",
       "      <td>2n Cycle</td>\n",
       "      <td>Divorced</td>\n",
       "      <td>36640.0</td>\n",
       "      <td>1</td>\n",
       "      <td>0</td>\n",
       "      <td>99</td>\n",
       "      <td>15</td>\n",
       "      <td>6</td>\n",
       "      <td>8</td>\n",
       "      <td>7</td>\n",
       "      <td>4</td>\n",
       "      <td>25</td>\n",
       "      <td>1</td>\n",
       "      <td>2</td>\n",
       "      <td>1</td>\n",
       "      <td>2</td>\n",
       "      <td>5</td>\n",
       "      <td>0</td>\n",
       "      <td>0</td>\n",
       "      <td>0</td>\n",
       "      <td>0</td>\n",
       "      <td>0</td>\n",
       "      <td>1</td>\n",
       "      <td>3</td>\n",
       "      <td>11</td>\n",
       "      <td>0</td>\n",
       "      <td>10</td>\n",
       "      <td>3404</td>\n",
       "      <td>123</td>\n",
       "    </tr>\n",
       "    <tr>\n",
       "      <th>239</th>\n",
       "      <td>11004</td>\n",
       "      <td>2n Cycle</td>\n",
       "      <td>Single</td>\n",
       "      <td>60182.0</td>\n",
       "      <td>0</td>\n",
       "      <td>1</td>\n",
       "      <td>23</td>\n",
       "      <td>8</td>\n",
       "      <td>0</td>\n",
       "      <td>5</td>\n",
       "      <td>7</td>\n",
       "      <td>0</td>\n",
       "      <td>2</td>\n",
       "      <td>1</td>\n",
       "      <td>1</td>\n",
       "      <td>0</td>\n",
       "      <td>2</td>\n",
       "      <td>4</td>\n",
       "      <td>0</td>\n",
       "      <td>0</td>\n",
       "      <td>0</td>\n",
       "      <td>0</td>\n",
       "      <td>0</td>\n",
       "      <td>0</td>\n",
       "      <td>3</td>\n",
       "      <td>11</td>\n",
       "      <td>0</td>\n",
       "      <td>9</td>\n",
       "      <td>3171</td>\n",
       "      <td>130</td>\n",
       "    </tr>\n",
       "    <tr>\n",
       "      <th>339</th>\n",
       "      <td>1150</td>\n",
       "      <td>PhD</td>\n",
       "      <td>Together</td>\n",
       "      <td>83532.0</td>\n",
       "      <td>0</td>\n",
       "      <td>0</td>\n",
       "      <td>36</td>\n",
       "      <td>755</td>\n",
       "      <td>144</td>\n",
       "      <td>562</td>\n",
       "      <td>104</td>\n",
       "      <td>64</td>\n",
       "      <td>224</td>\n",
       "      <td>1</td>\n",
       "      <td>4</td>\n",
       "      <td>6</td>\n",
       "      <td>4</td>\n",
       "      <td>1</td>\n",
       "      <td>0</td>\n",
       "      <td>0</td>\n",
       "      <td>1</td>\n",
       "      <td>0</td>\n",
       "      <td>0</td>\n",
       "      <td>0</td>\n",
       "      <td>3</td>\n",
       "      <td>11</td>\n",
       "      <td>0</td>\n",
       "      <td>10</td>\n",
       "      <td>3404</td>\n",
       "      <td>124</td>\n",
       "    </tr>\n",
       "  </tbody>\n",
       "</table>\n",
       "</div>"
      ],
      "text/plain": [
       "        ID Education Marital_Status   Income  Kidhome  Teenhome  Recency  \\\n",
       "192   7829  2n Cycle       Divorced  36640.0        1         0       99   \n",
       "239  11004  2n Cycle         Single  60182.0        0         1       23   \n",
       "339   1150       PhD       Together  83532.0        0         0       36   \n",
       "\n",
       "     MntWines  MntFruits  MntMeatProducts  MntFishProducts  MntSweetProducts  \\\n",
       "192        15          6                8                7                 4   \n",
       "239         8          0                5                7                 0   \n",
       "339       755        144              562              104                64   \n",
       "\n",
       "     MntGoldProds  NumDealsPurchases  NumWebPurchases  NumCatalogPurchases  \\\n",
       "192            25                  1                2                    1   \n",
       "239             2                  1                1                    0   \n",
       "339           224                  1                4                    6   \n",
       "\n",
       "     NumStorePurchases  NumWebVisitsMonth  AcceptedCmp3  AcceptedCmp4  \\\n",
       "192                  2                  5             0             0   \n",
       "239                  2                  4             0             0   \n",
       "339                  4                  1             0             0   \n",
       "\n",
       "     AcceptedCmp5  AcceptedCmp1  AcceptedCmp2  Complain  Z_CostContact  \\\n",
       "192             0             0             0         1              3   \n",
       "239             0             0             0         0              3   \n",
       "339             1             0             0         0              3   \n",
       "\n",
       "     Z_Revenue  Response  Year_Customer  DayDiff_Customer  Age  \n",
       "192         11         0             10              3404  123  \n",
       "239         11         0              9              3171  130  \n",
       "339         11         0             10              3404  124  "
      ]
     },
     "execution_count": 12,
     "metadata": {},
     "output_type": "execute_result"
    }
   ],
   "source": [
    "data[data['Age'] > 100]"
   ]
  },
  {
   "cell_type": "markdown",
   "id": "9dd635b8",
   "metadata": {
    "papermill": {
     "duration": 0.014928,
     "end_time": "2023-01-21T13:46:38.824305",
     "exception": false,
     "start_time": "2023-01-21T13:46:38.809377",
     "status": "completed"
    },
    "tags": []
   },
   "source": [
    "**Because of that the age group does not frequent, it could be removed from dataset to make the feature model work well.**\n",
    "\n",
    "**The code below drops the customers which is over the age of 100:**"
   ]
  },
  {
   "cell_type": "code",
   "execution_count": 13,
   "id": "be8a6773",
   "metadata": {
    "execution": {
     "iopub.execute_input": "2023-01-21T13:46:38.857776Z",
     "iopub.status.busy": "2023-01-21T13:46:38.856381Z",
     "iopub.status.idle": "2023-01-21T13:46:38.866684Z",
     "shell.execute_reply": "2023-01-21T13:46:38.864661Z"
    },
    "papermill": {
     "duration": 0.030532,
     "end_time": "2023-01-21T13:46:38.869822",
     "exception": false,
     "start_time": "2023-01-21T13:46:38.839290",
     "status": "completed"
    },
    "tags": []
   },
   "outputs": [],
   "source": [
    "data.drop(index=(data[data['Age'] > 100].index), axis = 0, inplace=True)"
   ]
  },
  {
   "cell_type": "markdown",
   "id": "6c0d5ea8",
   "metadata": {
    "papermill": {
     "duration": 0.014059,
     "end_time": "2023-01-21T13:46:38.899256",
     "exception": false,
     "start_time": "2023-01-21T13:46:38.885197",
     "status": "completed"
    },
    "tags": []
   },
   "source": [
    "**Setting ticks for X axis of age distribution histogram:**"
   ]
  },
  {
   "cell_type": "code",
   "execution_count": 14,
   "id": "efd581c3",
   "metadata": {
    "execution": {
     "iopub.execute_input": "2023-01-21T13:46:38.930957Z",
     "iopub.status.busy": "2023-01-21T13:46:38.929428Z",
     "iopub.status.idle": "2023-01-21T13:46:38.940006Z",
     "shell.execute_reply": "2023-01-21T13:46:38.938295Z"
    },
    "papermill": {
     "duration": 0.030671,
     "end_time": "2023-01-21T13:46:38.944456",
     "exception": false,
     "start_time": "2023-01-21T13:46:38.913785",
     "status": "completed"
    },
    "tags": []
   },
   "outputs": [
    {
     "data": {
      "text/plain": [
       "25"
      ]
     },
     "execution_count": 14,
     "metadata": {},
     "output_type": "execute_result"
    }
   ],
   "source": [
    "minAgeTick = int(data['Age'].min() - (data['Age'].min() % 5))\n",
    "minAgeTick"
   ]
  },
  {
   "cell_type": "code",
   "execution_count": 15,
   "id": "8059bb75",
   "metadata": {
    "execution": {
     "iopub.execute_input": "2023-01-21T13:46:38.975524Z",
     "iopub.status.busy": "2023-01-21T13:46:38.975124Z",
     "iopub.status.idle": "2023-01-21T13:46:38.983941Z",
     "shell.execute_reply": "2023-01-21T13:46:38.982862Z"
    },
    "papermill": {
     "duration": 0.028687,
     "end_time": "2023-01-21T13:46:38.987136",
     "exception": false,
     "start_time": "2023-01-21T13:46:38.958449",
     "status": "completed"
    },
    "tags": []
   },
   "outputs": [
    {
     "data": {
      "text/plain": [
       "85"
      ]
     },
     "execution_count": 15,
     "metadata": {},
     "output_type": "execute_result"
    }
   ],
   "source": [
    "maxAgeTick = int(((data['Age'].max() // 5) + 1) * 5)\n",
    "maxAgeTick"
   ]
  },
  {
   "cell_type": "code",
   "execution_count": 16,
   "id": "bac505ba",
   "metadata": {
    "execution": {
     "iopub.execute_input": "2023-01-21T13:46:39.018827Z",
     "iopub.status.busy": "2023-01-21T13:46:39.018341Z",
     "iopub.status.idle": "2023-01-21T13:46:39.027304Z",
     "shell.execute_reply": "2023-01-21T13:46:39.026042Z"
    },
    "papermill": {
     "duration": 0.028006,
     "end_time": "2023-01-21T13:46:39.029786",
     "exception": false,
     "start_time": "2023-01-21T13:46:39.001780",
     "status": "completed"
    },
    "tags": []
   },
   "outputs": [
    {
     "data": {
      "text/plain": [
       "[25, 30, 35, 40, 45, 50, 55, 60, 65, 70, 75, 80, 85]"
      ]
     },
     "execution_count": 16,
     "metadata": {},
     "output_type": "execute_result"
    }
   ],
   "source": [
    "ticks = list(range(minAgeTick,maxAgeTick+1, 5))\n",
    "ticks"
   ]
  },
  {
   "cell_type": "markdown",
   "id": "c2c99d2d",
   "metadata": {
    "papermill": {
     "duration": 0.014631,
     "end_time": "2023-01-21T13:46:39.063514",
     "exception": false,
     "start_time": "2023-01-21T13:46:39.048883",
     "status": "completed"
    },
    "tags": []
   },
   "source": [
    "**Histogram of the Age Variable**"
   ]
  },
  {
   "cell_type": "code",
   "execution_count": 17,
   "id": "12b5b1a1",
   "metadata": {
    "execution": {
     "iopub.execute_input": "2023-01-21T13:46:39.098757Z",
     "iopub.status.busy": "2023-01-21T13:46:39.098308Z",
     "iopub.status.idle": "2023-01-21T13:46:39.423953Z",
     "shell.execute_reply": "2023-01-21T13:46:39.422282Z"
    },
    "papermill": {
     "duration": 0.347683,
     "end_time": "2023-01-21T13:46:39.427810",
     "exception": false,
     "start_time": "2023-01-21T13:46:39.080127",
     "status": "completed"
    },
    "tags": []
   },
   "outputs": [
    {
     "data": {
      "text/plain": [
       "[<matplotlib.axis.XTick at 0x7f3f208fbf90>,\n",
       " <matplotlib.axis.XTick at 0x7f3f208fb1d0>,\n",
       " <matplotlib.axis.XTick at 0x7f3f1e5fc890>,\n",
       " <matplotlib.axis.XTick at 0x7f3f1e5b5350>,\n",
       " <matplotlib.axis.XTick at 0x7f3f1e5b5790>,\n",
       " <matplotlib.axis.XTick at 0x7f3f1e5be1d0>,\n",
       " <matplotlib.axis.XTick at 0x7f3f1e5be610>,\n",
       " <matplotlib.axis.XTick at 0x7f3f1e5bef10>,\n",
       " <matplotlib.axis.XTick at 0x7f3f1e6f97d0>,\n",
       " <matplotlib.axis.XTick at 0x7f3f1e609e50>,\n",
       " <matplotlib.axis.XTick at 0x7f3f1e5daf90>,\n",
       " <matplotlib.axis.XTick at 0x7f3f1e5d31d0>,\n",
       " <matplotlib.axis.XTick at 0x7f3f1e5d3090>]"
      ]
     },
     "execution_count": 17,
     "metadata": {},
     "output_type": "execute_result"
    },
    {
     "data": {
      "image/png": "[encoded data removed]",
      "text/plain": [
       "<Figure size 432x288 with 1 Axes>"
      ]
     },
     "metadata": {
      "needs_background": "light"
     },
     "output_type": "display_data"
    }
   ],
   "source": [
    "histogram_plot = sns.histplot(data['Age'],bins=10)\n",
    "histogram_plot.set_xticks(ticks)"
   ]
  },
  {
   "cell_type": "markdown",
   "id": "7ba7fdf0",
   "metadata": {
    "papermill": {
     "duration": 0.014689,
     "end_time": "2023-01-21T13:46:39.459216",
     "exception": false,
     "start_time": "2023-01-21T13:46:39.444527",
     "status": "completed"
    },
    "tags": []
   },
   "source": [
    "**The histogram is more clear for observation now.**\n",
    "<hr>\n",
    "\n",
    "**Setting the age groups based on a function.**"
   ]
  },
  {
   "cell_type": "code",
   "execution_count": 18,
   "id": "eb8f2d52",
   "metadata": {
    "execution": {
     "iopub.execute_input": "2023-01-21T13:46:39.493475Z",
     "iopub.status.busy": "2023-01-21T13:46:39.493013Z",
     "iopub.status.idle": "2023-01-21T13:46:39.499185Z",
     "shell.execute_reply": "2023-01-21T13:46:39.498190Z"
    },
    "papermill": {
     "duration": 0.026408,
     "end_time": "2023-01-21T13:46:39.501443",
     "exception": false,
     "start_time": "2023-01-21T13:46:39.475035",
     "status": "completed"
    },
    "tags": []
   },
   "outputs": [],
   "source": [
    "def age_group(age):\n",
    "    if age <= 25:\n",
    "        age_group = 'Young Adult'\n",
    "    elif (age > 25) & (age <= 64):\n",
    "        age_group = 'Adult'\n",
    "    else:\n",
    "        age_group = 'Elder'\n",
    "    return age_group"
   ]
  },
  {
   "cell_type": "code",
   "execution_count": 19,
   "id": "c06ab38a",
   "metadata": {
    "execution": {
     "iopub.execute_input": "2023-01-21T13:46:39.531667Z",
     "iopub.status.busy": "2023-01-21T13:46:39.530976Z",
     "iopub.status.idle": "2023-01-21T13:46:39.540406Z",
     "shell.execute_reply": "2023-01-21T13:46:39.539049Z"
    },
    "papermill": {
     "duration": 0.028024,
     "end_time": "2023-01-21T13:46:39.543461",
     "exception": false,
     "start_time": "2023-01-21T13:46:39.515437",
     "status": "completed"
    },
    "tags": []
   },
   "outputs": [],
   "source": [
    "data['Age_Group'] = data['Age'].apply(lambda x: age_group(x))\n",
    "age_group_ordered = CategoricalDtype(categories=['Young Adult','Adult', 'Elder'], ordered=True)\n",
    "data['Age_Group'] = data['Age_Group'].astype(age_group_ordered)"
   ]
  },
  {
   "cell_type": "markdown",
   "id": "19897ee2",
   "metadata": {
    "papermill": {
     "duration": 0.015058,
     "end_time": "2023-01-21T13:46:39.572906",
     "exception": false,
     "start_time": "2023-01-21T13:46:39.557848",
     "status": "completed"
    },
    "tags": []
   },
   "source": [
    "# Marital Status Variable"
   ]
  },
  {
   "cell_type": "code",
   "execution_count": 20,
   "id": "3ea36cdf",
   "metadata": {
    "execution": {
     "iopub.execute_input": "2023-01-21T13:46:39.607400Z",
     "iopub.status.busy": "2023-01-21T13:46:39.606647Z",
     "iopub.status.idle": "2023-01-21T13:46:39.616504Z",
     "shell.execute_reply": "2023-01-21T13:46:39.615104Z"
    },
    "papermill": {
     "duration": 0.03049,
     "end_time": "2023-01-21T13:46:39.619794",
     "exception": false,
     "start_time": "2023-01-21T13:46:39.589304",
     "status": "completed"
    },
    "tags": []
   },
   "outputs": [
    {
     "data": {
      "text/plain": [
       "Married     857\n",
       "Together    572\n",
       "Single      470\n",
       "Divorced    231\n",
       "Widow        76\n",
       "Alone         3\n",
       "Absurd        2\n",
       "YOLO          2\n",
       "Name: Marital_Status, dtype: int64"
      ]
     },
     "execution_count": 20,
     "metadata": {},
     "output_type": "execute_result"
    }
   ],
   "source": [
    "data['Marital_Status'].value_counts()"
   ]
  },
  {
   "cell_type": "markdown",
   "id": "d75e4998",
   "metadata": {
    "papermill": {
     "duration": 0.014993,
     "end_time": "2023-01-21T13:46:39.652460",
     "exception": false,
     "start_time": "2023-01-21T13:46:39.637467",
     "status": "completed"
    },
    "tags": []
   },
   "source": [
    "**There are some categories which has very low value.\n",
    "Drops the non-freqent categories:**"
   ]
  },
  {
   "cell_type": "code",
   "execution_count": 21,
   "id": "604d2f1a",
   "metadata": {
    "execution": {
     "iopub.execute_input": "2023-01-21T13:46:39.688540Z",
     "iopub.status.busy": "2023-01-21T13:46:39.688089Z",
     "iopub.status.idle": "2023-01-21T13:46:39.703880Z",
     "shell.execute_reply": "2023-01-21T13:46:39.702426Z"
    },
    "papermill": {
     "duration": 0.036981,
     "end_time": "2023-01-21T13:46:39.706880",
     "exception": false,
     "start_time": "2023-01-21T13:46:39.669899",
     "status": "completed"
    },
    "tags": []
   },
   "outputs": [],
   "source": [
    "data.drop(index=(data[data['Marital_Status'] == 'Alone'].index), axis = 0, inplace = True)\n",
    "data.drop(index=(data[data['Marital_Status'] == 'Absurd'].index), axis = 0, inplace = True)\n",
    "data.drop(index=(data[data['Marital_Status'] == 'YOLO'].index), axis = 0, inplace = True)"
   ]
  },
  {
   "cell_type": "markdown",
   "id": "a0256978",
   "metadata": {
    "papermill": {
     "duration": 0.01593,
     "end_time": "2023-01-21T13:46:39.740526",
     "exception": false,
     "start_time": "2023-01-21T13:46:39.724596",
     "status": "completed"
    },
    "tags": []
   },
   "source": [
    "# <p id = \"2\" style=\"font-family:arial;background-color:#2A93D5;color:#FFFFFF;font-size: 150%;text-align:center;border-radius: 0px 15px 15px 0px;border-style: solid;border-color: #2483bf;\">2.VISUALIZATION and EXPLORATORY ANALYSIS</p>\n",
    "[Click to return Table of Contents](#0)"
   ]
  },
  {
   "cell_type": "markdown",
   "id": "801bec14",
   "metadata": {
    "papermill": {
     "duration": 0.015686,
     "end_time": "2023-01-21T13:46:39.772268",
     "exception": false,
     "start_time": "2023-01-21T13:46:39.756582",
     "status": "completed"
    },
    "tags": []
   },
   "source": [
    "<p style=\"text-align:center; font-size:125%;\"><b>The Age Distribution</b></p>"
   ]
  },
  {
   "cell_type": "code",
   "execution_count": 22,
   "id": "09410430",
   "metadata": {
    "execution": {
     "iopub.execute_input": "2023-01-21T13:46:39.807296Z",
     "iopub.status.busy": "2023-01-21T13:46:39.806833Z",
     "iopub.status.idle": "2023-01-21T13:46:40.159078Z",
     "shell.execute_reply": "2023-01-21T13:46:40.157180Z"
    },
    "papermill": {
     "duration": 0.372263,
     "end_time": "2023-01-21T13:46:40.162256",
     "exception": false,
     "start_time": "2023-01-21T13:46:39.789993",
     "status": "completed"
    },
    "tags": []
   },
   "outputs": [
    {
     "data": {
      "text/plain": [
       "[<matplotlib.axis.XTick at 0x7f3f1e64a850>,\n",
       " <matplotlib.axis.XTick at 0x7f3f1e57b810>,\n",
       " <matplotlib.axis.XTick at 0x7f3f1e54aa90>,\n",
       " <matplotlib.axis.XTick at 0x7f3f1e565bd0>,\n",
       " <matplotlib.axis.XTick at 0x7f3f1e4f3690>,\n",
       " <matplotlib.axis.XTick at 0x7f3f1e565510>,\n",
       " <matplotlib.axis.XTick at 0x7f3f1e4f37d0>,\n",
       " <matplotlib.axis.XTick at 0x7f3f1e4fc610>,\n",
       " <matplotlib.axis.XTick at 0x7f3f1e63ead0>,\n",
       " <matplotlib.axis.XTick at 0x7f3f1e54a3d0>,\n",
       " <matplotlib.axis.XTick at 0x7f3f1e54a390>,\n",
       " <matplotlib.axis.XTick at 0x7f3f1e51a890>,\n",
       " <matplotlib.axis.XTick at 0x7f3f1e522090>]"
      ]
     },
     "execution_count": 22,
     "metadata": {},
     "output_type": "execute_result"
    },
    {
     "data": {
      "image/png": "[encoded data removed]",
      "text/plain": [
       "<Figure size 432x288 with 1 Axes>"
      ]
     },
     "metadata": {
      "needs_background": "light"
     },
     "output_type": "display_data"
    }
   ],
   "source": [
    "histogram_plot = sns.histplot(data['Age'],bins=10)\n",
    "histogram_plot.set_xticks(ticks)"
   ]
  },
  {
   "cell_type": "code",
   "execution_count": 23,
   "id": "ca4626e9",
   "metadata": {
    "execution": {
     "iopub.execute_input": "2023-01-21T13:46:40.197780Z",
     "iopub.status.busy": "2023-01-21T13:46:40.197298Z",
     "iopub.status.idle": "2023-01-21T13:46:40.444304Z",
     "shell.execute_reply": "2023-01-21T13:46:40.442744Z"
    },
    "papermill": {
     "duration": 0.268698,
     "end_time": "2023-01-21T13:46:40.446959",
     "exception": false,
     "start_time": "2023-01-21T13:46:40.178261",
     "status": "completed"
    },
    "tags": []
   },
   "outputs": [
    {
     "data": {
      "image/png": "[encoded data removed]",
      "text/plain": [
       "<Figure size 432x288 with 1 Axes>"
      ]
     },
     "metadata": {
      "needs_background": "light"
     },
     "output_type": "display_data"
    }
   ],
   "source": [
    "ax = sns.countplot(data=data, x=\"Age_Group\")\n",
    "for container in ax.containers:\n",
    "    ax.bar_label(container)"
   ]
  },
  {
   "cell_type": "markdown",
   "id": "be72c74f",
   "metadata": {
    "papermill": {
     "duration": 0.016737,
     "end_time": "2023-01-21T13:46:40.479254",
     "exception": false,
     "start_time": "2023-01-21T13:46:40.462517",
     "status": "completed"
    },
    "tags": []
   },
   "source": [
    "There are no customers from the young adult group."
   ]
  },
  {
   "cell_type": "code",
   "execution_count": 24,
   "id": "9bb7ccfd",
   "metadata": {
    "execution": {
     "iopub.execute_input": "2023-01-21T13:46:40.512678Z",
     "iopub.status.busy": "2023-01-21T13:46:40.512012Z",
     "iopub.status.idle": "2023-01-21T13:46:40.819927Z",
     "shell.execute_reply": "2023-01-21T13:46:40.818713Z"
    },
    "papermill": {
     "duration": 0.327531,
     "end_time": "2023-01-21T13:46:40.822535",
     "exception": false,
     "start_time": "2023-01-21T13:46:40.495004",
     "status": "completed"
    },
    "tags": []
   },
   "outputs": [
    {
     "data": {
      "image/png": "[encoded data removed]",
      "text/plain": [
       "<Figure size 432x288 with 1 Axes>"
      ]
     },
     "metadata": {
      "needs_background": "light"
     },
     "output_type": "display_data"
    }
   ],
   "source": [
    "ax = sns.countplot(data=data, x=\"Kidhome\", hue=\"Age_Group\")\n",
    "for container in ax.containers:\n",
    "    ax.bar_label(container)"
   ]
  },
  {
   "cell_type": "code",
   "execution_count": 25,
   "id": "d6c74835",
   "metadata": {
    "execution": {
     "iopub.execute_input": "2023-01-21T13:46:40.855182Z",
     "iopub.status.busy": "2023-01-21T13:46:40.853914Z",
     "iopub.status.idle": "2023-01-21T13:46:41.143089Z",
     "shell.execute_reply": "2023-01-21T13:46:41.141908Z"
    },
    "papermill": {
     "duration": 0.308849,
     "end_time": "2023-01-21T13:46:41.146151",
     "exception": false,
     "start_time": "2023-01-21T13:46:40.837302",
     "status": "completed"
    },
    "tags": []
   },
   "outputs": [
    {
     "data": {
      "image/png": "[encoded data removed]",
      "text/plain": [
       "<Figure size 432x288 with 1 Axes>"
      ]
     },
     "metadata": {
      "needs_background": "light"
     },
     "output_type": "display_data"
    }
   ],
   "source": [
    "ax = sns.countplot(data=data, x=\"Teenhome\", hue=\"Age_Group\")\n",
    "for container in ax.containers:\n",
    "    ax.bar_label(container)"
   ]
  },
  {
   "cell_type": "markdown",
   "id": "1d8add22",
   "metadata": {
    "papermill": {
     "duration": 0.015491,
     "end_time": "2023-01-21T13:46:41.178941",
     "exception": false,
     "start_time": "2023-01-21T13:46:41.163450",
     "status": "completed"
    },
    "tags": []
   },
   "source": [
    "Percents of each age group:"
   ]
  },
  {
   "cell_type": "code",
   "execution_count": 26,
   "id": "4abb31fd",
   "metadata": {
    "execution": {
     "iopub.execute_input": "2023-01-21T13:46:41.211870Z",
     "iopub.status.busy": "2023-01-21T13:46:41.211164Z",
     "iopub.status.idle": "2023-01-21T13:46:41.220722Z",
     "shell.execute_reply": "2023-01-21T13:46:41.219755Z"
    },
    "papermill": {
     "duration": 0.029026,
     "end_time": "2023-01-21T13:46:41.223082",
     "exception": false,
     "start_time": "2023-01-21T13:46:41.194056",
     "status": "completed"
    },
    "tags": []
   },
   "outputs": [
    {
     "data": {
      "text/plain": [
       "Adult          77.0\n",
       "Elder          23.0\n",
       "Young Adult     0.0\n",
       "Name: Age_Group, dtype: float64"
      ]
     },
     "execution_count": 26,
     "metadata": {},
     "output_type": "execute_result"
    }
   ],
   "source": [
    "round((data['Age_Group'].value_counts(normalize=True) * 100),0)"
   ]
  },
  {
   "cell_type": "markdown",
   "id": "9ab9141b",
   "metadata": {
    "papermill": {
     "duration": 0.017346,
     "end_time": "2023-01-21T13:46:41.257341",
     "exception": false,
     "start_time": "2023-01-21T13:46:41.239995",
     "status": "completed"
    },
    "tags": []
   },
   "source": [
    "<p style=\"text-align:center; font-size:125%;\"><b>Education</b></p>"
   ]
  },
  {
   "cell_type": "code",
   "execution_count": 27,
   "id": "0291daf3",
   "metadata": {
    "execution": {
     "iopub.execute_input": "2023-01-21T13:46:41.307013Z",
     "iopub.status.busy": "2023-01-21T13:46:41.305964Z",
     "iopub.status.idle": "2023-01-21T13:46:41.519163Z",
     "shell.execute_reply": "2023-01-21T13:46:41.518289Z"
    },
    "papermill": {
     "duration": 0.240817,
     "end_time": "2023-01-21T13:46:41.521680",
     "exception": false,
     "start_time": "2023-01-21T13:46:41.280863",
     "status": "completed"
    },
    "tags": []
   },
   "outputs": [
    {
     "data": {
      "image/png": "[encoded data removed]",
      "text/plain": [
       "<Figure size 432x288 with 1 Axes>"
      ]
     },
     "metadata": {
      "needs_background": "light"
     },
     "output_type": "display_data"
    }
   ],
   "source": [
    "ax = sns.countplot(data=data, x=\"Education\")\n",
    "for container in ax.containers:\n",
    "    ax.bar_label(container)"
   ]
  },
  {
   "cell_type": "markdown",
   "id": "bc31ff0d",
   "metadata": {
    "papermill": {
     "duration": 0.015373,
     "end_time": "2023-01-21T13:46:41.552963",
     "exception": false,
     "start_time": "2023-01-21T13:46:41.537590",
     "status": "completed"
    },
    "tags": []
   },
   "source": [
    "Percents of each education group:"
   ]
  },
  {
   "cell_type": "code",
   "execution_count": 28,
   "id": "2d42747c",
   "metadata": {
    "execution": {
     "iopub.execute_input": "2023-01-21T13:46:41.585858Z",
     "iopub.status.busy": "2023-01-21T13:46:41.585153Z",
     "iopub.status.idle": "2023-01-21T13:46:41.596221Z",
     "shell.execute_reply": "2023-01-21T13:46:41.594806Z"
    },
    "papermill": {
     "duration": 0.030969,
     "end_time": "2023-01-21T13:46:41.599350",
     "exception": false,
     "start_time": "2023-01-21T13:46:41.568381",
     "status": "completed"
    },
    "tags": []
   },
   "outputs": [
    {
     "data": {
      "text/plain": [
       "Graduation    50.0\n",
       "PhD           22.0\n",
       "Master        16.0\n",
       "2n Cycle       9.0\n",
       "Basic          2.0\n",
       "Name: Education, dtype: float64"
      ]
     },
     "execution_count": 28,
     "metadata": {},
     "output_type": "execute_result"
    }
   ],
   "source": [
    "round((data['Education'].value_counts(normalize=True) * 100),0)"
   ]
  },
  {
   "cell_type": "markdown",
   "id": "8abf86df",
   "metadata": {
    "papermill": {
     "duration": 0.01615,
     "end_time": "2023-01-21T13:46:41.632763",
     "exception": false,
     "start_time": "2023-01-21T13:46:41.616613",
     "status": "completed"
    },
    "tags": []
   },
   "source": [
    "<p style=\"text-align:center; font-size:125%;\"><b>Marital Status</b></p>"
   ]
  },
  {
   "cell_type": "code",
   "execution_count": 29,
   "id": "a731cdb3",
   "metadata": {
    "execution": {
     "iopub.execute_input": "2023-01-21T13:46:41.665818Z",
     "iopub.status.busy": "2023-01-21T13:46:41.665328Z",
     "iopub.status.idle": "2023-01-21T13:46:41.875176Z",
     "shell.execute_reply": "2023-01-21T13:46:41.874105Z"
    },
    "papermill": {
     "duration": 0.229813,
     "end_time": "2023-01-21T13:46:41.878042",
     "exception": false,
     "start_time": "2023-01-21T13:46:41.648229",
     "status": "completed"
    },
    "tags": []
   },
   "outputs": [
    {
     "data": {
      "image/png": "[encoded data removed]",
      "text/plain": [
       "<Figure size 432x288 with 1 Axes>"
      ]
     },
     "metadata": {
      "needs_background": "light"
     },
     "output_type": "display_data"
    }
   ],
   "source": [
    "ax = sns.countplot(data=data, x=\"Marital_Status\")\n",
    "for container in ax.containers:\n",
    "    ax.bar_label(container)"
   ]
  },
  {
   "cell_type": "markdown",
   "id": "323d0c7c",
   "metadata": {
    "papermill": {
     "duration": 0.018257,
     "end_time": "2023-01-21T13:46:41.912755",
     "exception": false,
     "start_time": "2023-01-21T13:46:41.894498",
     "status": "completed"
    },
    "tags": []
   },
   "source": [
    "Percents of each marital status group:"
   ]
  },
  {
   "cell_type": "code",
   "execution_count": 30,
   "id": "ca8f961d",
   "metadata": {
    "execution": {
     "iopub.execute_input": "2023-01-21T13:46:41.946594Z",
     "iopub.status.busy": "2023-01-21T13:46:41.946134Z",
     "iopub.status.idle": "2023-01-21T13:46:41.958119Z",
     "shell.execute_reply": "2023-01-21T13:46:41.956812Z"
    },
    "papermill": {
     "duration": 0.032288,
     "end_time": "2023-01-21T13:46:41.960848",
     "exception": false,
     "start_time": "2023-01-21T13:46:41.928560",
     "status": "completed"
    },
    "tags": []
   },
   "outputs": [
    {
     "data": {
      "text/plain": [
       "Married     39.0\n",
       "Together    26.0\n",
       "Single      21.0\n",
       "Divorced    10.0\n",
       "Widow        3.0\n",
       "Name: Marital_Status, dtype: float64"
      ]
     },
     "execution_count": 30,
     "metadata": {},
     "output_type": "execute_result"
    }
   ],
   "source": [
    "round((data['Marital_Status'].value_counts(normalize=True) * 100),0)"
   ]
  },
  {
   "cell_type": "code",
   "execution_count": 31,
   "id": "7279b5b5",
   "metadata": {
    "execution": {
     "iopub.execute_input": "2023-01-21T13:46:41.997177Z",
     "iopub.status.busy": "2023-01-21T13:46:41.996682Z",
     "iopub.status.idle": "2023-01-21T13:46:42.336064Z",
     "shell.execute_reply": "2023-01-21T13:46:42.334683Z"
    },
    "papermill": {
     "duration": 0.36133,
     "end_time": "2023-01-21T13:46:42.338891",
     "exception": false,
     "start_time": "2023-01-21T13:46:41.977561",
     "status": "completed"
    },
    "tags": []
   },
   "outputs": [
    {
     "data": {
      "text/plain": [
       "<seaborn.axisgrid.FacetGrid at 0x7f3f1e271ed0>"
      ]
     },
     "execution_count": 31,
     "metadata": {},
     "output_type": "execute_result"
    },
    {
     "data": {
      "image/png": "[encoded data removed]",
      "text/plain": [
       "<Figure size 360x360 with 1 Axes>"
      ]
     },
     "metadata": {
      "needs_background": "light"
     },
     "output_type": "display_data"
    }
   ],
   "source": [
    "sns.catplot(data=data, x = \"Education\", y = \"NumWebVisitsMonth\", kind=\"box\")"
   ]
  },
  {
   "cell_type": "code",
   "execution_count": null,
   "id": "78763d39",
   "metadata": {
    "papermill": {
     "duration": 0.015458,
     "end_time": "2023-01-21T13:46:42.371259",
     "exception": false,
     "start_time": "2023-01-21T13:46:42.355801",
     "status": "completed"
    },
    "tags": []
   },
   "outputs": [],
   "source": []
  }
 ],
 "metadata": {
  "kernelspec": {
   "display_name": "Python 3",
   "language": "python",
   "name": "python3"
  },
  "language_info": {
   "codemirror_mode": {
    "name": "ipython",
    "version": 3
   },
   "file_extension": ".py",
   "mimetype": "text/x-python",
   "name": "python",
   "nbconvert_exporter": "python",
   "pygments_lexer": "ipython3",
   "version": "3.7.12"
  },
  "papermill": {
   "default_parameters": {},
   "duration": 20.521004,
   "end_time": "2023-01-21T13:46:43.210395",
   "environment_variables": {},
   "exception": null,
   "input_path": "__notebook__.ipynb",
   "output_path": "__notebook__.ipynb",
   "parameters": {},
   "start_time": "2023-01-21T13:46:22.689391",
   "version": "2.3.4"
  }
 },
 "nbformat": 4,
 "nbformat_minor": 5
}
