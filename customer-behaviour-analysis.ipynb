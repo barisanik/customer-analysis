{
 "cells": [
  {
   "cell_type": "markdown",
   "id": "6bfdea27",
   "metadata": {
    "papermill": {
     "duration": 0.01901,
     "end_time": "2023-01-24T17:52:24.913847",
     "exception": false,
     "start_time": "2023-01-24T17:52:24.894837",
     "status": "completed"
    },
    "tags": []
   },
   "source": [
    "<h1>Attributes</h1>\n",
    "<p>\n",
    "    <b>People</b>\n",
    "<hr>\n",
    "<b>ID:</b> Customer's unique identifier<br>\n",
    "<b>Year_Birth:</b> Customer's birth year<br>\n",
    "<b>Education:</b> Customer's education level<br>\n",
    "<b>Marital_Status:</b> Customer's marital status<br>\n",
    "<b>Income:</b> Customer's yearly household income<br>\n",
    "<b>Kidhome:</b> Number of children in customer's household<br>\n",
    "<b>Teenhome:</b> Number of teenagers in customer's household<br>\n",
    "<b>Dt_Customer:</b> Date of customer's enrollment with the company<br>\n",
    "<b>Recency:</b> Number of days since customer's last purchase<br>\n",
    "<b>Complain:</b> 1 if the customer complained in the last 2 years, 0 otherwise\n",
    "<br><br>\n",
    "    <b>Products</b>\n",
    "<hr>\n",
    "<b>MntWines:</b> Amount spent on wine in last 2 years<br>\n",
    "<b>MntFruits:</b> Amount spent on fruits in last 2 years<br>\n",
    "<b>MntMeatProducts:</b> Amount spent on meat in last 2 years<br>\n",
    "<b>MntFishProducts:</b> Amount spent on fish in last 2 years<br>\n",
    "<b>MntSweetProducts:</b> Amount spent on sweets in last 2 years<br>\n",
    "<b>MntGoldProds:</b> Amount spent on gold in last 2 years\n",
    "<br><br>\n",
    "    <b>Promotion</b>\n",
    "<hr>\n",
    "<b>NumDealsPurchases:</b> Number of purchases made with a discount<br>\n",
    "<b>AcceptedCmp1:</b> 1 if customer accepted the offer in the 1st campaign, 0 otherwise<br>\n",
    "<b>AcceptedCmp2:</b> 1 if customer accepted the offer in the 2nd campaign, 0 otherwise<br>\n",
    "<b>AcceptedCmp3:</b> 1 if customer accepted the offer in the 3rd campaign, 0 otherwise<br>\n",
    "<b>AcceptedCmp4:</b> 1 if customer accepted the offer in the 4th campaign, 0 otherwise<br>\n",
    "<b>AcceptedCmp5:</b> 1 if customer accepted the offer in the 5th campaign, 0 otherwise<br>\n",
    "<b>Response:</b> 1 if customer accepted the offer in the last campaign, 0 otherwise\n",
    "<br><br>\n",
    "    <b>Place</b>\n",
    "<hr>\n",
    "<b>NumWebPurchases:</b> Number of purchases made through the company’s website<br>\n",
    "<b>NumCatalogPurchases:</b> Number of purchases made using a catalogue<br>\n",
    "<b>NumStorePurchases:</b> Number of purchases made directly in stores<br>\n",
    "<b>NumWebVisitsMonth:</b> Number of visits to company’s website in the last month<br>\n",
    "</p>"
   ]
  },
  {
   "cell_type": "code",
   "execution_count": 1,
   "id": "2d3b9625",
   "metadata": {
    "execution": {
     "iopub.execute_input": "2023-01-24T17:52:24.948520Z",
     "iopub.status.busy": "2023-01-24T17:52:24.947716Z",
     "iopub.status.idle": "2023-01-24T17:52:26.132514Z",
     "shell.execute_reply": "2023-01-24T17:52:26.131169Z"
    },
    "papermill": {
     "duration": 1.20626,
     "end_time": "2023-01-24T17:52:26.135414",
     "exception": false,
     "start_time": "2023-01-24T17:52:24.929154",
     "status": "completed"
    },
    "tags": []
   },
   "outputs": [],
   "source": [
    "import pandas as pd\n",
    "import warnings \n",
    "import seaborn as sns\n",
    "import numpy as np\n",
    "import matplotlib.pyplot as plt\n",
    "warnings.filterwarnings('ignore')\n",
    "pd.set_option('display.max_columns', None)"
   ]
  },
  {
   "cell_type": "markdown",
   "id": "e3b71dc2",
   "metadata": {
    "papermill": {
     "duration": 0.014815,
     "end_time": "2023-01-24T17:52:26.165470",
     "exception": false,
     "start_time": "2023-01-24T17:52:26.150655",
     "status": "completed"
    },
    "tags": []
   },
   "source": [
    "# Table of Contents\n",
    "\n",
    "* [1. Pre-Processing](#1)\n",
    "* [2. Visualization and Exploratory Analysis](#2)\n"
   ]
  },
  {
   "cell_type": "markdown",
   "id": "a88ce726",
   "metadata": {
    "papermill": {
     "duration": 0.014675,
     "end_time": "2023-01-24T17:52:26.195225",
     "exception": false,
     "start_time": "2023-01-24T17:52:26.180550",
     "status": "completed"
    },
    "tags": []
   },
   "source": [
    "# <p id = \"1\" style=\"font-family:arial;background-color:#2A93D5;color:#FFFFFF;font-size: 150%;text-align:center;border-radius: 0px 15px 15px 0px;border-style: solid;border-color: #2483bf;\">1.PRE-PROCESSING</p>\n",
    "[Click to return Table of Contents](#0)"
   ]
  },
  {
   "cell_type": "code",
   "execution_count": 2,
   "id": "fd5cb164",
   "metadata": {
    "execution": {
     "iopub.execute_input": "2023-01-24T17:52:26.228245Z",
     "iopub.status.busy": "2023-01-24T17:52:26.227202Z",
     "iopub.status.idle": "2023-01-24T17:52:26.288067Z",
     "shell.execute_reply": "2023-01-24T17:52:26.286740Z"
    },
    "papermill": {
     "duration": 0.080473,
     "end_time": "2023-01-24T17:52:26.290750",
     "exception": false,
     "start_time": "2023-01-24T17:52:26.210277",
     "status": "completed"
    },
    "tags": []
   },
   "outputs": [
    {
     "data": {
      "text/html": [
       "<div>\n",
       "<style scoped>\n",
       "    .dataframe tbody tr th:only-of-type {\n",
       "        vertical-align: middle;\n",
       "    }\n",
       "\n",
       "    .dataframe tbody tr th {\n",
       "        vertical-align: top;\n",
       "    }\n",
       "\n",
       "    .dataframe thead th {\n",
       "        text-align: right;\n",
       "    }\n",
       "</style>\n",
       "<table border=\"1\" class=\"dataframe\">\n",
       "  <thead>\n",
       "    <tr style=\"text-align: right;\">\n",
       "      <th></th>\n",
       "      <th>ID</th>\n",
       "      <th>Year_Birth</th>\n",
       "      <th>Education</th>\n",
       "      <th>Marital_Status</th>\n",
       "      <th>Income</th>\n",
       "      <th>Kidhome</th>\n",
       "      <th>Teenhome</th>\n",
       "      <th>Dt_Customer</th>\n",
       "      <th>Recency</th>\n",
       "      <th>MntWines</th>\n",
       "      <th>MntFruits</th>\n",
       "      <th>MntMeatProducts</th>\n",
       "      <th>MntFishProducts</th>\n",
       "      <th>MntSweetProducts</th>\n",
       "      <th>MntGoldProds</th>\n",
       "      <th>NumDealsPurchases</th>\n",
       "      <th>NumWebPurchases</th>\n",
       "      <th>NumCatalogPurchases</th>\n",
       "      <th>NumStorePurchases</th>\n",
       "      <th>NumWebVisitsMonth</th>\n",
       "      <th>AcceptedCmp3</th>\n",
       "      <th>AcceptedCmp4</th>\n",
       "      <th>AcceptedCmp5</th>\n",
       "      <th>AcceptedCmp1</th>\n",
       "      <th>AcceptedCmp2</th>\n",
       "      <th>Complain</th>\n",
       "      <th>Z_CostContact</th>\n",
       "      <th>Z_Revenue</th>\n",
       "      <th>Response</th>\n",
       "    </tr>\n",
       "  </thead>\n",
       "  <tbody>\n",
       "    <tr>\n",
       "      <th>0</th>\n",
       "      <td>5524</td>\n",
       "      <td>1957</td>\n",
       "      <td>Graduation</td>\n",
       "      <td>Single</td>\n",
       "      <td>58138.0</td>\n",
       "      <td>0</td>\n",
       "      <td>0</td>\n",
       "      <td>04-09-2012</td>\n",
       "      <td>58</td>\n",
       "      <td>635</td>\n",
       "      <td>88</td>\n",
       "      <td>546</td>\n",
       "      <td>172</td>\n",
       "      <td>88</td>\n",
       "      <td>88</td>\n",
       "      <td>3</td>\n",
       "      <td>8</td>\n",
       "      <td>10</td>\n",
       "      <td>4</td>\n",
       "      <td>7</td>\n",
       "      <td>0</td>\n",
       "      <td>0</td>\n",
       "      <td>0</td>\n",
       "      <td>0</td>\n",
       "      <td>0</td>\n",
       "      <td>0</td>\n",
       "      <td>3</td>\n",
       "      <td>11</td>\n",
       "      <td>1</td>\n",
       "    </tr>\n",
       "    <tr>\n",
       "      <th>1</th>\n",
       "      <td>2174</td>\n",
       "      <td>1954</td>\n",
       "      <td>Graduation</td>\n",
       "      <td>Single</td>\n",
       "      <td>46344.0</td>\n",
       "      <td>1</td>\n",
       "      <td>1</td>\n",
       "      <td>08-03-2014</td>\n",
       "      <td>38</td>\n",
       "      <td>11</td>\n",
       "      <td>1</td>\n",
       "      <td>6</td>\n",
       "      <td>2</td>\n",
       "      <td>1</td>\n",
       "      <td>6</td>\n",
       "      <td>2</td>\n",
       "      <td>1</td>\n",
       "      <td>1</td>\n",
       "      <td>2</td>\n",
       "      <td>5</td>\n",
       "      <td>0</td>\n",
       "      <td>0</td>\n",
       "      <td>0</td>\n",
       "      <td>0</td>\n",
       "      <td>0</td>\n",
       "      <td>0</td>\n",
       "      <td>3</td>\n",
       "      <td>11</td>\n",
       "      <td>0</td>\n",
       "    </tr>\n",
       "    <tr>\n",
       "      <th>2</th>\n",
       "      <td>4141</td>\n",
       "      <td>1965</td>\n",
       "      <td>Graduation</td>\n",
       "      <td>Together</td>\n",
       "      <td>71613.0</td>\n",
       "      <td>0</td>\n",
       "      <td>0</td>\n",
       "      <td>21-08-2013</td>\n",
       "      <td>26</td>\n",
       "      <td>426</td>\n",
       "      <td>49</td>\n",
       "      <td>127</td>\n",
       "      <td>111</td>\n",
       "      <td>21</td>\n",
       "      <td>42</td>\n",
       "      <td>1</td>\n",
       "      <td>8</td>\n",
       "      <td>2</td>\n",
       "      <td>10</td>\n",
       "      <td>4</td>\n",
       "      <td>0</td>\n",
       "      <td>0</td>\n",
       "      <td>0</td>\n",
       "      <td>0</td>\n",
       "      <td>0</td>\n",
       "      <td>0</td>\n",
       "      <td>3</td>\n",
       "      <td>11</td>\n",
       "      <td>0</td>\n",
       "    </tr>\n",
       "    <tr>\n",
       "      <th>3</th>\n",
       "      <td>6182</td>\n",
       "      <td>1984</td>\n",
       "      <td>Graduation</td>\n",
       "      <td>Together</td>\n",
       "      <td>26646.0</td>\n",
       "      <td>1</td>\n",
       "      <td>0</td>\n",
       "      <td>10-02-2014</td>\n",
       "      <td>26</td>\n",
       "      <td>11</td>\n",
       "      <td>4</td>\n",
       "      <td>20</td>\n",
       "      <td>10</td>\n",
       "      <td>3</td>\n",
       "      <td>5</td>\n",
       "      <td>2</td>\n",
       "      <td>2</td>\n",
       "      <td>0</td>\n",
       "      <td>4</td>\n",
       "      <td>6</td>\n",
       "      <td>0</td>\n",
       "      <td>0</td>\n",
       "      <td>0</td>\n",
       "      <td>0</td>\n",
       "      <td>0</td>\n",
       "      <td>0</td>\n",
       "      <td>3</td>\n",
       "      <td>11</td>\n",
       "      <td>0</td>\n",
       "    </tr>\n",
       "    <tr>\n",
       "      <th>4</th>\n",
       "      <td>5324</td>\n",
       "      <td>1981</td>\n",
       "      <td>PhD</td>\n",
       "      <td>Married</td>\n",
       "      <td>58293.0</td>\n",
       "      <td>1</td>\n",
       "      <td>0</td>\n",
       "      <td>19-01-2014</td>\n",
       "      <td>94</td>\n",
       "      <td>173</td>\n",
       "      <td>43</td>\n",
       "      <td>118</td>\n",
       "      <td>46</td>\n",
       "      <td>27</td>\n",
       "      <td>15</td>\n",
       "      <td>5</td>\n",
       "      <td>5</td>\n",
       "      <td>3</td>\n",
       "      <td>6</td>\n",
       "      <td>5</td>\n",
       "      <td>0</td>\n",
       "      <td>0</td>\n",
       "      <td>0</td>\n",
       "      <td>0</td>\n",
       "      <td>0</td>\n",
       "      <td>0</td>\n",
       "      <td>3</td>\n",
       "      <td>11</td>\n",
       "      <td>0</td>\n",
       "    </tr>\n",
       "  </tbody>\n",
       "</table>\n",
       "</div>"
      ],
      "text/plain": [
       "     ID  Year_Birth   Education Marital_Status   Income  Kidhome  Teenhome  \\\n",
       "0  5524        1957  Graduation         Single  58138.0        0         0   \n",
       "1  2174        1954  Graduation         Single  46344.0        1         1   \n",
       "2  4141        1965  Graduation       Together  71613.0        0         0   \n",
       "3  6182        1984  Graduation       Together  26646.0        1         0   \n",
       "4  5324        1981         PhD        Married  58293.0        1         0   \n",
       "\n",
       "  Dt_Customer  Recency  MntWines  MntFruits  MntMeatProducts  MntFishProducts  \\\n",
       "0  04-09-2012       58       635         88              546              172   \n",
       "1  08-03-2014       38        11          1                6                2   \n",
       "2  21-08-2013       26       426         49              127              111   \n",
       "3  10-02-2014       26        11          4               20               10   \n",
       "4  19-01-2014       94       173         43              118               46   \n",
       "\n",
       "   MntSweetProducts  MntGoldProds  NumDealsPurchases  NumWebPurchases  \\\n",
       "0                88            88                  3                8   \n",
       "1                 1             6                  2                1   \n",
       "2                21            42                  1                8   \n",
       "3                 3             5                  2                2   \n",
       "4                27            15                  5                5   \n",
       "\n",
       "   NumCatalogPurchases  NumStorePurchases  NumWebVisitsMonth  AcceptedCmp3  \\\n",
       "0                   10                  4                  7             0   \n",
       "1                    1                  2                  5             0   \n",
       "2                    2                 10                  4             0   \n",
       "3                    0                  4                  6             0   \n",
       "4                    3                  6                  5             0   \n",
       "\n",
       "   AcceptedCmp4  AcceptedCmp5  AcceptedCmp1  AcceptedCmp2  Complain  \\\n",
       "0             0             0             0             0         0   \n",
       "1             0             0             0             0         0   \n",
       "2             0             0             0             0         0   \n",
       "3             0             0             0             0         0   \n",
       "4             0             0             0             0         0   \n",
       "\n",
       "   Z_CostContact  Z_Revenue  Response  \n",
       "0              3         11         1  \n",
       "1              3         11         0  \n",
       "2              3         11         0  \n",
       "3              3         11         0  \n",
       "4              3         11         0  "
      ]
     },
     "execution_count": 2,
     "metadata": {},
     "output_type": "execute_result"
    }
   ],
   "source": [
    "data = pd.read_csv('../input/customer-personality-analysis/marketing_campaign.csv', sep='\\t')\n",
    "data.head()"
   ]
  },
  {
   "cell_type": "code",
   "execution_count": 3,
   "id": "bd9aba48",
   "metadata": {
    "execution": {
     "iopub.execute_input": "2023-01-24T17:52:26.324102Z",
     "iopub.status.busy": "2023-01-24T17:52:26.323615Z",
     "iopub.status.idle": "2023-01-24T17:52:26.355522Z",
     "shell.execute_reply": "2023-01-24T17:52:26.353972Z"
    },
    "papermill": {
     "duration": 0.052729,
     "end_time": "2023-01-24T17:52:26.359237",
     "exception": false,
     "start_time": "2023-01-24T17:52:26.306508",
     "status": "completed"
    },
    "tags": []
   },
   "outputs": [
    {
     "name": "stdout",
     "output_type": "stream",
     "text": [
      "<class 'pandas.core.frame.DataFrame'>\n",
      "RangeIndex: 2240 entries, 0 to 2239\n",
      "Data columns (total 29 columns):\n",
      " #   Column               Non-Null Count  Dtype  \n",
      "---  ------               --------------  -----  \n",
      " 0   ID                   2240 non-null   int64  \n",
      " 1   Year_Birth           2240 non-null   int64  \n",
      " 2   Education            2240 non-null   object \n",
      " 3   Marital_Status       2240 non-null   object \n",
      " 4   Income               2216 non-null   float64\n",
      " 5   Kidhome              2240 non-null   int64  \n",
      " 6   Teenhome             2240 non-null   int64  \n",
      " 7   Dt_Customer          2240 non-null   object \n",
      " 8   Recency              2240 non-null   int64  \n",
      " 9   MntWines             2240 non-null   int64  \n",
      " 10  MntFruits            2240 non-null   int64  \n",
      " 11  MntMeatProducts      2240 non-null   int64  \n",
      " 12  MntFishProducts      2240 non-null   int64  \n",
      " 13  MntSweetProducts     2240 non-null   int64  \n",
      " 14  MntGoldProds         2240 non-null   int64  \n",
      " 15  NumDealsPurchases    2240 non-null   int64  \n",
      " 16  NumWebPurchases      2240 non-null   int64  \n",
      " 17  NumCatalogPurchases  2240 non-null   int64  \n",
      " 18  NumStorePurchases    2240 non-null   int64  \n",
      " 19  NumWebVisitsMonth    2240 non-null   int64  \n",
      " 20  AcceptedCmp3         2240 non-null   int64  \n",
      " 21  AcceptedCmp4         2240 non-null   int64  \n",
      " 22  AcceptedCmp5         2240 non-null   int64  \n",
      " 23  AcceptedCmp1         2240 non-null   int64  \n",
      " 24  AcceptedCmp2         2240 non-null   int64  \n",
      " 25  Complain             2240 non-null   int64  \n",
      " 26  Z_CostContact        2240 non-null   int64  \n",
      " 27  Z_Revenue            2240 non-null   int64  \n",
      " 28  Response             2240 non-null   int64  \n",
      "dtypes: float64(1), int64(25), object(3)\n",
      "memory usage: 507.6+ KB\n"
     ]
    }
   ],
   "source": [
    "data.info()"
   ]
  },
  {
   "cell_type": "markdown",
   "id": "82ba5fc6",
   "metadata": {
    "papermill": {
     "duration": 0.016247,
     "end_time": "2023-01-24T17:52:26.392569",
     "exception": false,
     "start_time": "2023-01-24T17:52:26.376322",
     "status": "completed"
    },
    "tags": []
   },
   "source": [
    "**Checks the null distribution between columns:**"
   ]
  },
  {
   "cell_type": "code",
   "execution_count": 4,
   "id": "2383bf9f",
   "metadata": {
    "execution": {
     "iopub.execute_input": "2023-01-24T17:52:26.428887Z",
     "iopub.status.busy": "2023-01-24T17:52:26.428083Z",
     "iopub.status.idle": "2023-01-24T17:52:26.440401Z",
     "shell.execute_reply": "2023-01-24T17:52:26.439026Z"
    },
    "papermill": {
     "duration": 0.033491,
     "end_time": "2023-01-24T17:52:26.443025",
     "exception": false,
     "start_time": "2023-01-24T17:52:26.409534",
     "status": "completed"
    },
    "tags": []
   },
   "outputs": [
    {
     "data": {
      "text/plain": [
       "ID                      0\n",
       "Year_Birth              0\n",
       "Education               0\n",
       "Marital_Status          0\n",
       "Income                 24\n",
       "Kidhome                 0\n",
       "Teenhome                0\n",
       "Dt_Customer             0\n",
       "Recency                 0\n",
       "MntWines                0\n",
       "MntFruits               0\n",
       "MntMeatProducts         0\n",
       "MntFishProducts         0\n",
       "MntSweetProducts        0\n",
       "MntGoldProds            0\n",
       "NumDealsPurchases       0\n",
       "NumWebPurchases         0\n",
       "NumCatalogPurchases     0\n",
       "NumStorePurchases       0\n",
       "NumWebVisitsMonth       0\n",
       "AcceptedCmp3            0\n",
       "AcceptedCmp4            0\n",
       "AcceptedCmp5            0\n",
       "AcceptedCmp1            0\n",
       "AcceptedCmp2            0\n",
       "Complain                0\n",
       "Z_CostContact           0\n",
       "Z_Revenue               0\n",
       "Response                0\n",
       "dtype: int64"
      ]
     },
     "execution_count": 4,
     "metadata": {},
     "output_type": "execute_result"
    }
   ],
   "source": [
    "data.isna().sum()"
   ]
  },
  {
   "cell_type": "markdown",
   "id": "8cbd9f78",
   "metadata": {
    "papermill": {
     "duration": 0.015752,
     "end_time": "2023-01-24T17:52:26.474835",
     "exception": false,
     "start_time": "2023-01-24T17:52:26.459083",
     "status": "completed"
    },
    "tags": []
   },
   "source": [
    "**Drops the rows with null values:**"
   ]
  },
  {
   "cell_type": "code",
   "execution_count": 5,
   "id": "c4746199",
   "metadata": {
    "execution": {
     "iopub.execute_input": "2023-01-24T17:52:26.509856Z",
     "iopub.status.busy": "2023-01-24T17:52:26.509440Z",
     "iopub.status.idle": "2023-01-24T17:52:26.519585Z",
     "shell.execute_reply": "2023-01-24T17:52:26.518423Z"
    },
    "papermill": {
     "duration": 0.031405,
     "end_time": "2023-01-24T17:52:26.522139",
     "exception": false,
     "start_time": "2023-01-24T17:52:26.490734",
     "status": "completed"
    },
    "tags": []
   },
   "outputs": [],
   "source": [
    "data.drop(index=(data[data['Income'].isna()].index), axis = 0, inplace=True)"
   ]
  },
  {
   "cell_type": "markdown",
   "id": "20b256bc",
   "metadata": {
    "papermill": {
     "duration": 0.016812,
     "end_time": "2023-01-24T17:52:26.555592",
     "exception": false,
     "start_time": "2023-01-24T17:52:26.538780",
     "status": "completed"
    },
    "tags": []
   },
   "source": [
    "**Conversion of column type:**"
   ]
  },
  {
   "cell_type": "code",
   "execution_count": 6,
   "id": "c835633a",
   "metadata": {
    "execution": {
     "iopub.execute_input": "2023-01-24T17:52:26.589221Z",
     "iopub.status.busy": "2023-01-24T17:52:26.588493Z",
     "iopub.status.idle": "2023-01-24T17:52:26.601547Z",
     "shell.execute_reply": "2023-01-24T17:52:26.600632Z"
    },
    "papermill": {
     "duration": 0.03271,
     "end_time": "2023-01-24T17:52:26.604180",
     "exception": false,
     "start_time": "2023-01-24T17:52:26.571470",
     "status": "completed"
    },
    "tags": []
   },
   "outputs": [],
   "source": [
    "from pandas.api.types import CategoricalDtype\n",
    "education_ordered= CategoricalDtype(categories=['Basic','2n Cycle','Graduation', 'Master', 'PhD'], ordered=True)\n",
    "data['Education'] = data['Education'].astype(education_ordered)\n",
    "data['Dt_Customer'] = pd.to_datetime(data['Dt_Customer'])"
   ]
  },
  {
   "cell_type": "markdown",
   "id": "c4a2a1a2",
   "metadata": {
    "papermill": {
     "duration": 0.016422,
     "end_time": "2023-01-24T17:52:26.636842",
     "exception": false,
     "start_time": "2023-01-24T17:52:26.620420",
     "status": "completed"
    },
    "tags": []
   },
   "source": [
    "**Calculating the year and day difference with Dt_Customer column.**"
   ]
  },
  {
   "cell_type": "code",
   "execution_count": 7,
   "id": "a519770b",
   "metadata": {
    "execution": {
     "iopub.execute_input": "2023-01-24T17:52:26.672000Z",
     "iopub.status.busy": "2023-01-24T17:52:26.670866Z",
     "iopub.status.idle": "2023-01-24T17:52:26.676364Z",
     "shell.execute_reply": "2023-01-24T17:52:26.675487Z"
    },
    "papermill": {
     "duration": 0.025283,
     "end_time": "2023-01-24T17:52:26.678714",
     "exception": false,
     "start_time": "2023-01-24T17:52:26.653431",
     "status": "completed"
    },
    "tags": []
   },
   "outputs": [],
   "source": [
    "from datetime import datetime\n",
    "currentYear = datetime.now().year"
   ]
  },
  {
   "cell_type": "code",
   "execution_count": 8,
   "id": "c9e834a5",
   "metadata": {
    "execution": {
     "iopub.execute_input": "2023-01-24T17:52:26.713920Z",
     "iopub.status.busy": "2023-01-24T17:52:26.712518Z",
     "iopub.status.idle": "2023-01-24T17:52:26.760596Z",
     "shell.execute_reply": "2023-01-24T17:52:26.759407Z"
    },
    "papermill": {
     "duration": 0.068112,
     "end_time": "2023-01-24T17:52:26.763355",
     "exception": false,
     "start_time": "2023-01-24T17:52:26.695243",
     "status": "completed"
    },
    "tags": []
   },
   "outputs": [],
   "source": [
    "data['Year_Customer'] = data['Dt_Customer'].dt.year.apply(lambda x : currentYear - x)\n",
    "data['DayDiff_Customer'] = data['Dt_Customer'].apply(lambda x : datetime.now() - x)\n",
    "data['DayDiff_Customer'] = data['DayDiff_Customer'].dt.days\n",
    "data.drop(['Dt_Customer'], axis = 1, inplace = True)"
   ]
  },
  {
   "cell_type": "markdown",
   "id": "5acf9924",
   "metadata": {
    "papermill": {
     "duration": 0.01581,
     "end_time": "2023-01-24T17:52:26.795411",
     "exception": false,
     "start_time": "2023-01-24T17:52:26.779601",
     "status": "completed"
    },
    "tags": []
   },
   "source": [
    "# Age Variable"
   ]
  },
  {
   "cell_type": "markdown",
   "id": "00dcb1db",
   "metadata": {
    "papermill": {
     "duration": 0.018152,
     "end_time": "2023-01-24T17:52:26.830512",
     "exception": false,
     "start_time": "2023-01-24T17:52:26.812360",
     "status": "completed"
    },
    "tags": []
   },
   "source": [
    "**Calculates the age of every customer and drops the Year_Birth column:**"
   ]
  },
  {
   "cell_type": "code",
   "execution_count": 9,
   "id": "f0067b9f",
   "metadata": {
    "execution": {
     "iopub.execute_input": "2023-01-24T17:52:26.865854Z",
     "iopub.status.busy": "2023-01-24T17:52:26.865437Z",
     "iopub.status.idle": "2023-01-24T17:52:26.892661Z",
     "shell.execute_reply": "2023-01-24T17:52:26.891436Z"
    },
    "papermill": {
     "duration": 0.047618,
     "end_time": "2023-01-24T17:52:26.895307",
     "exception": false,
     "start_time": "2023-01-24T17:52:26.847689",
     "status": "completed"
    },
    "tags": []
   },
   "outputs": [
    {
     "data": {
      "text/html": [
       "<div>\n",
       "<style scoped>\n",
       "    .dataframe tbody tr th:only-of-type {\n",
       "        vertical-align: middle;\n",
       "    }\n",
       "\n",
       "    .dataframe tbody tr th {\n",
       "        vertical-align: top;\n",
       "    }\n",
       "\n",
       "    .dataframe thead th {\n",
       "        text-align: right;\n",
       "    }\n",
       "</style>\n",
       "<table border=\"1\" class=\"dataframe\">\n",
       "  <thead>\n",
       "    <tr style=\"text-align: right;\">\n",
       "      <th></th>\n",
       "      <th>ID</th>\n",
       "      <th>Education</th>\n",
       "      <th>Marital_Status</th>\n",
       "      <th>Income</th>\n",
       "      <th>Kidhome</th>\n",
       "      <th>Teenhome</th>\n",
       "      <th>Recency</th>\n",
       "      <th>MntWines</th>\n",
       "      <th>MntFruits</th>\n",
       "      <th>MntMeatProducts</th>\n",
       "      <th>MntFishProducts</th>\n",
       "      <th>MntSweetProducts</th>\n",
       "      <th>MntGoldProds</th>\n",
       "      <th>NumDealsPurchases</th>\n",
       "      <th>NumWebPurchases</th>\n",
       "      <th>NumCatalogPurchases</th>\n",
       "      <th>NumStorePurchases</th>\n",
       "      <th>NumWebVisitsMonth</th>\n",
       "      <th>AcceptedCmp3</th>\n",
       "      <th>AcceptedCmp4</th>\n",
       "      <th>AcceptedCmp5</th>\n",
       "      <th>AcceptedCmp1</th>\n",
       "      <th>AcceptedCmp2</th>\n",
       "      <th>Complain</th>\n",
       "      <th>Z_CostContact</th>\n",
       "      <th>Z_Revenue</th>\n",
       "      <th>Response</th>\n",
       "      <th>Year_Customer</th>\n",
       "      <th>DayDiff_Customer</th>\n",
       "      <th>Age</th>\n",
       "    </tr>\n",
       "  </thead>\n",
       "  <tbody>\n",
       "    <tr>\n",
       "      <th>0</th>\n",
       "      <td>5524</td>\n",
       "      <td>Graduation</td>\n",
       "      <td>Single</td>\n",
       "      <td>58138.0</td>\n",
       "      <td>0</td>\n",
       "      <td>0</td>\n",
       "      <td>58</td>\n",
       "      <td>635</td>\n",
       "      <td>88</td>\n",
       "      <td>546</td>\n",
       "      <td>172</td>\n",
       "      <td>88</td>\n",
       "      <td>88</td>\n",
       "      <td>3</td>\n",
       "      <td>8</td>\n",
       "      <td>10</td>\n",
       "      <td>4</td>\n",
       "      <td>7</td>\n",
       "      <td>0</td>\n",
       "      <td>0</td>\n",
       "      <td>0</td>\n",
       "      <td>0</td>\n",
       "      <td>0</td>\n",
       "      <td>0</td>\n",
       "      <td>3</td>\n",
       "      <td>11</td>\n",
       "      <td>1</td>\n",
       "      <td>11</td>\n",
       "      <td>3942</td>\n",
       "      <td>66</td>\n",
       "    </tr>\n",
       "    <tr>\n",
       "      <th>1</th>\n",
       "      <td>2174</td>\n",
       "      <td>Graduation</td>\n",
       "      <td>Single</td>\n",
       "      <td>46344.0</td>\n",
       "      <td>1</td>\n",
       "      <td>1</td>\n",
       "      <td>38</td>\n",
       "      <td>11</td>\n",
       "      <td>1</td>\n",
       "      <td>6</td>\n",
       "      <td>2</td>\n",
       "      <td>1</td>\n",
       "      <td>6</td>\n",
       "      <td>2</td>\n",
       "      <td>1</td>\n",
       "      <td>1</td>\n",
       "      <td>2</td>\n",
       "      <td>5</td>\n",
       "      <td>0</td>\n",
       "      <td>0</td>\n",
       "      <td>0</td>\n",
       "      <td>0</td>\n",
       "      <td>0</td>\n",
       "      <td>0</td>\n",
       "      <td>3</td>\n",
       "      <td>11</td>\n",
       "      <td>0</td>\n",
       "      <td>9</td>\n",
       "      <td>3096</td>\n",
       "      <td>69</td>\n",
       "    </tr>\n",
       "    <tr>\n",
       "      <th>2</th>\n",
       "      <td>4141</td>\n",
       "      <td>Graduation</td>\n",
       "      <td>Together</td>\n",
       "      <td>71613.0</td>\n",
       "      <td>0</td>\n",
       "      <td>0</td>\n",
       "      <td>26</td>\n",
       "      <td>426</td>\n",
       "      <td>49</td>\n",
       "      <td>127</td>\n",
       "      <td>111</td>\n",
       "      <td>21</td>\n",
       "      <td>42</td>\n",
       "      <td>1</td>\n",
       "      <td>8</td>\n",
       "      <td>2</td>\n",
       "      <td>10</td>\n",
       "      <td>4</td>\n",
       "      <td>0</td>\n",
       "      <td>0</td>\n",
       "      <td>0</td>\n",
       "      <td>0</td>\n",
       "      <td>0</td>\n",
       "      <td>0</td>\n",
       "      <td>3</td>\n",
       "      <td>11</td>\n",
       "      <td>0</td>\n",
       "      <td>10</td>\n",
       "      <td>3443</td>\n",
       "      <td>58</td>\n",
       "    </tr>\n",
       "    <tr>\n",
       "      <th>3</th>\n",
       "      <td>6182</td>\n",
       "      <td>Graduation</td>\n",
       "      <td>Together</td>\n",
       "      <td>26646.0</td>\n",
       "      <td>1</td>\n",
       "      <td>0</td>\n",
       "      <td>26</td>\n",
       "      <td>11</td>\n",
       "      <td>4</td>\n",
       "      <td>20</td>\n",
       "      <td>10</td>\n",
       "      <td>3</td>\n",
       "      <td>5</td>\n",
       "      <td>2</td>\n",
       "      <td>2</td>\n",
       "      <td>0</td>\n",
       "      <td>4</td>\n",
       "      <td>6</td>\n",
       "      <td>0</td>\n",
       "      <td>0</td>\n",
       "      <td>0</td>\n",
       "      <td>0</td>\n",
       "      <td>0</td>\n",
       "      <td>0</td>\n",
       "      <td>3</td>\n",
       "      <td>11</td>\n",
       "      <td>0</td>\n",
       "      <td>9</td>\n",
       "      <td>3036</td>\n",
       "      <td>39</td>\n",
       "    </tr>\n",
       "    <tr>\n",
       "      <th>4</th>\n",
       "      <td>5324</td>\n",
       "      <td>PhD</td>\n",
       "      <td>Married</td>\n",
       "      <td>58293.0</td>\n",
       "      <td>1</td>\n",
       "      <td>0</td>\n",
       "      <td>94</td>\n",
       "      <td>173</td>\n",
       "      <td>43</td>\n",
       "      <td>118</td>\n",
       "      <td>46</td>\n",
       "      <td>27</td>\n",
       "      <td>15</td>\n",
       "      <td>5</td>\n",
       "      <td>5</td>\n",
       "      <td>3</td>\n",
       "      <td>6</td>\n",
       "      <td>5</td>\n",
       "      <td>0</td>\n",
       "      <td>0</td>\n",
       "      <td>0</td>\n",
       "      <td>0</td>\n",
       "      <td>0</td>\n",
       "      <td>0</td>\n",
       "      <td>3</td>\n",
       "      <td>11</td>\n",
       "      <td>0</td>\n",
       "      <td>9</td>\n",
       "      <td>3292</td>\n",
       "      <td>42</td>\n",
       "    </tr>\n",
       "  </tbody>\n",
       "</table>\n",
       "</div>"
      ],
      "text/plain": [
       "     ID   Education Marital_Status   Income  Kidhome  Teenhome  Recency  \\\n",
       "0  5524  Graduation         Single  58138.0        0         0       58   \n",
       "1  2174  Graduation         Single  46344.0        1         1       38   \n",
       "2  4141  Graduation       Together  71613.0        0         0       26   \n",
       "3  6182  Graduation       Together  26646.0        1         0       26   \n",
       "4  5324         PhD        Married  58293.0        1         0       94   \n",
       "\n",
       "   MntWines  MntFruits  MntMeatProducts  MntFishProducts  MntSweetProducts  \\\n",
       "0       635         88              546              172                88   \n",
       "1        11          1                6                2                 1   \n",
       "2       426         49              127              111                21   \n",
       "3        11          4               20               10                 3   \n",
       "4       173         43              118               46                27   \n",
       "\n",
       "   MntGoldProds  NumDealsPurchases  NumWebPurchases  NumCatalogPurchases  \\\n",
       "0            88                  3                8                   10   \n",
       "1             6                  2                1                    1   \n",
       "2            42                  1                8                    2   \n",
       "3             5                  2                2                    0   \n",
       "4            15                  5                5                    3   \n",
       "\n",
       "   NumStorePurchases  NumWebVisitsMonth  AcceptedCmp3  AcceptedCmp4  \\\n",
       "0                  4                  7             0             0   \n",
       "1                  2                  5             0             0   \n",
       "2                 10                  4             0             0   \n",
       "3                  4                  6             0             0   \n",
       "4                  6                  5             0             0   \n",
       "\n",
       "   AcceptedCmp5  AcceptedCmp1  AcceptedCmp2  Complain  Z_CostContact  \\\n",
       "0             0             0             0         0              3   \n",
       "1             0             0             0         0              3   \n",
       "2             0             0             0         0              3   \n",
       "3             0             0             0         0              3   \n",
       "4             0             0             0         0              3   \n",
       "\n",
       "   Z_Revenue  Response  Year_Customer  DayDiff_Customer  Age  \n",
       "0         11         1             11              3942   66  \n",
       "1         11         0              9              3096   69  \n",
       "2         11         0             10              3443   58  \n",
       "3         11         0              9              3036   39  \n",
       "4         11         0              9              3292   42  "
      ]
     },
     "execution_count": 9,
     "metadata": {},
     "output_type": "execute_result"
    }
   ],
   "source": [
    "data['Age'] = data['Year_Birth'].apply(lambda x : currentYear - x)\n",
    "# Drops the Year_Birth column\n",
    "data.drop(['Year_Birth'], axis = 1, inplace = True)\n",
    "data.head()"
   ]
  },
  {
   "cell_type": "markdown",
   "id": "d9418063",
   "metadata": {
    "papermill": {
     "duration": 0.015827,
     "end_time": "2023-01-24T17:52:26.927484",
     "exception": false,
     "start_time": "2023-01-24T17:52:26.911657",
     "status": "completed"
    },
    "tags": []
   },
   "source": [
    "**The distribution of Age variable:**"
   ]
  },
  {
   "cell_type": "code",
   "execution_count": 10,
   "id": "141319c7",
   "metadata": {
    "execution": {
     "iopub.execute_input": "2023-01-24T17:52:26.961854Z",
     "iopub.status.busy": "2023-01-24T17:52:26.961427Z",
     "iopub.status.idle": "2023-01-24T17:52:27.237712Z",
     "shell.execute_reply": "2023-01-24T17:52:27.236766Z"
    },
    "papermill": {
     "duration": 0.296411,
     "end_time": "2023-01-24T17:52:27.240166",
     "exception": false,
     "start_time": "2023-01-24T17:52:26.943755",
     "status": "completed"
    },
    "tags": []
   },
   "outputs": [
    {
     "data": {
      "text/plain": [
       "<AxesSubplot:xlabel='Age', ylabel='Count'>"
      ]
     },
     "execution_count": 10,
     "metadata": {},
     "output_type": "execute_result"
    },
    {
     "data": {
      "image/png": "[encoded data removed]",
      "text/plain": [
       "<Figure size 432x288 with 1 Axes>"
      ]
     },
     "metadata": {
      "needs_background": "light"
     },
     "output_type": "display_data"
    }
   ],
   "source": [
    "sns.histplot(data['Age'], bins=10)"
   ]
  },
  {
   "cell_type": "markdown",
   "id": "b2f1fdae",
   "metadata": {
    "papermill": {
     "duration": 0.016153,
     "end_time": "2023-01-24T17:52:27.273189",
     "exception": false,
     "start_time": "2023-01-24T17:52:27.257036",
     "status": "completed"
    },
    "tags": []
   },
   "source": [
    "**The age distribution rounds around 50. There are some outliers above 100.**"
   ]
  },
  {
   "cell_type": "code",
   "execution_count": 11,
   "id": "cd828110",
   "metadata": {
    "execution": {
     "iopub.execute_input": "2023-01-24T17:52:27.308125Z",
     "iopub.status.busy": "2023-01-24T17:52:27.307474Z",
     "iopub.status.idle": "2023-01-24T17:52:27.313732Z",
     "shell.execute_reply": "2023-01-24T17:52:27.312765Z"
    },
    "papermill": {
     "duration": 0.02631,
     "end_time": "2023-01-24T17:52:27.315869",
     "exception": false,
     "start_time": "2023-01-24T17:52:27.289559",
     "status": "completed"
    },
    "tags": []
   },
   "outputs": [
    {
     "data": {
      "text/plain": [
       "130"
      ]
     },
     "execution_count": 11,
     "metadata": {},
     "output_type": "execute_result"
    }
   ],
   "source": [
    "data['Age'].max()"
   ]
  },
  {
   "cell_type": "code",
   "execution_count": 12,
   "id": "cbd27b05",
   "metadata": {
    "execution": {
     "iopub.execute_input": "2023-01-24T17:52:27.352110Z",
     "iopub.status.busy": "2023-01-24T17:52:27.351435Z",
     "iopub.status.idle": "2023-01-24T17:52:27.372387Z",
     "shell.execute_reply": "2023-01-24T17:52:27.371483Z"
    },
    "papermill": {
     "duration": 0.041684,
     "end_time": "2023-01-24T17:52:27.374719",
     "exception": false,
     "start_time": "2023-01-24T17:52:27.333035",
     "status": "completed"
    },
    "tags": []
   },
   "outputs": [
    {
     "data": {
      "text/html": [
       "<div>\n",
       "<style scoped>\n",
       "    .dataframe tbody tr th:only-of-type {\n",
       "        vertical-align: middle;\n",
       "    }\n",
       "\n",
       "    .dataframe tbody tr th {\n",
       "        vertical-align: top;\n",
       "    }\n",
       "\n",
       "    .dataframe thead th {\n",
       "        text-align: right;\n",
       "    }\n",
       "</style>\n",
       "<table border=\"1\" class=\"dataframe\">\n",
       "  <thead>\n",
       "    <tr style=\"text-align: right;\">\n",
       "      <th></th>\n",
       "      <th>ID</th>\n",
       "      <th>Education</th>\n",
       "      <th>Marital_Status</th>\n",
       "      <th>Income</th>\n",
       "      <th>Kidhome</th>\n",
       "      <th>Teenhome</th>\n",
       "      <th>Recency</th>\n",
       "      <th>MntWines</th>\n",
       "      <th>MntFruits</th>\n",
       "      <th>MntMeatProducts</th>\n",
       "      <th>MntFishProducts</th>\n",
       "      <th>MntSweetProducts</th>\n",
       "      <th>MntGoldProds</th>\n",
       "      <th>NumDealsPurchases</th>\n",
       "      <th>NumWebPurchases</th>\n",
       "      <th>NumCatalogPurchases</th>\n",
       "      <th>NumStorePurchases</th>\n",
       "      <th>NumWebVisitsMonth</th>\n",
       "      <th>AcceptedCmp3</th>\n",
       "      <th>AcceptedCmp4</th>\n",
       "      <th>AcceptedCmp5</th>\n",
       "      <th>AcceptedCmp1</th>\n",
       "      <th>AcceptedCmp2</th>\n",
       "      <th>Complain</th>\n",
       "      <th>Z_CostContact</th>\n",
       "      <th>Z_Revenue</th>\n",
       "      <th>Response</th>\n",
       "      <th>Year_Customer</th>\n",
       "      <th>DayDiff_Customer</th>\n",
       "      <th>Age</th>\n",
       "    </tr>\n",
       "  </thead>\n",
       "  <tbody>\n",
       "    <tr>\n",
       "      <th>192</th>\n",
       "      <td>7829</td>\n",
       "      <td>2n Cycle</td>\n",
       "      <td>Divorced</td>\n",
       "      <td>36640.0</td>\n",
       "      <td>1</td>\n",
       "      <td>0</td>\n",
       "      <td>99</td>\n",
       "      <td>15</td>\n",
       "      <td>6</td>\n",
       "      <td>8</td>\n",
       "      <td>7</td>\n",
       "      <td>4</td>\n",
       "      <td>25</td>\n",
       "      <td>1</td>\n",
       "      <td>2</td>\n",
       "      <td>1</td>\n",
       "      <td>2</td>\n",
       "      <td>5</td>\n",
       "      <td>0</td>\n",
       "      <td>0</td>\n",
       "      <td>0</td>\n",
       "      <td>0</td>\n",
       "      <td>0</td>\n",
       "      <td>1</td>\n",
       "      <td>3</td>\n",
       "      <td>11</td>\n",
       "      <td>0</td>\n",
       "      <td>10</td>\n",
       "      <td>3407</td>\n",
       "      <td>123</td>\n",
       "    </tr>\n",
       "    <tr>\n",
       "      <th>239</th>\n",
       "      <td>11004</td>\n",
       "      <td>2n Cycle</td>\n",
       "      <td>Single</td>\n",
       "      <td>60182.0</td>\n",
       "      <td>0</td>\n",
       "      <td>1</td>\n",
       "      <td>23</td>\n",
       "      <td>8</td>\n",
       "      <td>0</td>\n",
       "      <td>5</td>\n",
       "      <td>7</td>\n",
       "      <td>0</td>\n",
       "      <td>2</td>\n",
       "      <td>1</td>\n",
       "      <td>1</td>\n",
       "      <td>0</td>\n",
       "      <td>2</td>\n",
       "      <td>4</td>\n",
       "      <td>0</td>\n",
       "      <td>0</td>\n",
       "      <td>0</td>\n",
       "      <td>0</td>\n",
       "      <td>0</td>\n",
       "      <td>0</td>\n",
       "      <td>3</td>\n",
       "      <td>11</td>\n",
       "      <td>0</td>\n",
       "      <td>9</td>\n",
       "      <td>3174</td>\n",
       "      <td>130</td>\n",
       "    </tr>\n",
       "    <tr>\n",
       "      <th>339</th>\n",
       "      <td>1150</td>\n",
       "      <td>PhD</td>\n",
       "      <td>Together</td>\n",
       "      <td>83532.0</td>\n",
       "      <td>0</td>\n",
       "      <td>0</td>\n",
       "      <td>36</td>\n",
       "      <td>755</td>\n",
       "      <td>144</td>\n",
       "      <td>562</td>\n",
       "      <td>104</td>\n",
       "      <td>64</td>\n",
       "      <td>224</td>\n",
       "      <td>1</td>\n",
       "      <td>4</td>\n",
       "      <td>6</td>\n",
       "      <td>4</td>\n",
       "      <td>1</td>\n",
       "      <td>0</td>\n",
       "      <td>0</td>\n",
       "      <td>1</td>\n",
       "      <td>0</td>\n",
       "      <td>0</td>\n",
       "      <td>0</td>\n",
       "      <td>3</td>\n",
       "      <td>11</td>\n",
       "      <td>0</td>\n",
       "      <td>10</td>\n",
       "      <td>3407</td>\n",
       "      <td>124</td>\n",
       "    </tr>\n",
       "  </tbody>\n",
       "</table>\n",
       "</div>"
      ],
      "text/plain": [
       "        ID Education Marital_Status   Income  Kidhome  Teenhome  Recency  \\\n",
       "192   7829  2n Cycle       Divorced  36640.0        1         0       99   \n",
       "239  11004  2n Cycle         Single  60182.0        0         1       23   \n",
       "339   1150       PhD       Together  83532.0        0         0       36   \n",
       "\n",
       "     MntWines  MntFruits  MntMeatProducts  MntFishProducts  MntSweetProducts  \\\n",
       "192        15          6                8                7                 4   \n",
       "239         8          0                5                7                 0   \n",
       "339       755        144              562              104                64   \n",
       "\n",
       "     MntGoldProds  NumDealsPurchases  NumWebPurchases  NumCatalogPurchases  \\\n",
       "192            25                  1                2                    1   \n",
       "239             2                  1                1                    0   \n",
       "339           224                  1                4                    6   \n",
       "\n",
       "     NumStorePurchases  NumWebVisitsMonth  AcceptedCmp3  AcceptedCmp4  \\\n",
       "192                  2                  5             0             0   \n",
       "239                  2                  4             0             0   \n",
       "339                  4                  1             0             0   \n",
       "\n",
       "     AcceptedCmp5  AcceptedCmp1  AcceptedCmp2  Complain  Z_CostContact  \\\n",
       "192             0             0             0         1              3   \n",
       "239             0             0             0         0              3   \n",
       "339             1             0             0         0              3   \n",
       "\n",
       "     Z_Revenue  Response  Year_Customer  DayDiff_Customer  Age  \n",
       "192         11         0             10              3407  123  \n",
       "239         11         0              9              3174  130  \n",
       "339         11         0             10              3407  124  "
      ]
     },
     "execution_count": 12,
     "metadata": {},
     "output_type": "execute_result"
    }
   ],
   "source": [
    "data[data['Age'] > 100]"
   ]
  },
  {
   "cell_type": "markdown",
   "id": "acc26955",
   "metadata": {
    "papermill": {
     "duration": 0.016479,
     "end_time": "2023-01-24T17:52:27.408432",
     "exception": false,
     "start_time": "2023-01-24T17:52:27.391953",
     "status": "completed"
    },
    "tags": []
   },
   "source": [
    "**Because of that the age group does not frequent, it could be removed from dataset to make the feature model work well.**\n",
    "\n",
    "**The code below drops the customers which is over the age of 100:**"
   ]
  },
  {
   "cell_type": "code",
   "execution_count": 13,
   "id": "94dc8ee1",
   "metadata": {
    "execution": {
     "iopub.execute_input": "2023-01-24T17:52:27.444472Z",
     "iopub.status.busy": "2023-01-24T17:52:27.443602Z",
     "iopub.status.idle": "2023-01-24T17:52:27.450705Z",
     "shell.execute_reply": "2023-01-24T17:52:27.449875Z"
    },
    "papermill": {
     "duration": 0.027674,
     "end_time": "2023-01-24T17:52:27.453098",
     "exception": false,
     "start_time": "2023-01-24T17:52:27.425424",
     "status": "completed"
    },
    "tags": []
   },
   "outputs": [],
   "source": [
    "data.drop(index=(data[data['Age'] > 100].index), axis = 0, inplace=True)"
   ]
  },
  {
   "cell_type": "markdown",
   "id": "a816d41a",
   "metadata": {
    "papermill": {
     "duration": 0.016473,
     "end_time": "2023-01-24T17:52:27.486559",
     "exception": false,
     "start_time": "2023-01-24T17:52:27.470086",
     "status": "completed"
    },
    "tags": []
   },
   "source": [
    "**Setting ticks for X axis of age distribution histogram:**"
   ]
  },
  {
   "cell_type": "code",
   "execution_count": 14,
   "id": "96d8d0ec",
   "metadata": {
    "execution": {
     "iopub.execute_input": "2023-01-24T17:52:27.522878Z",
     "iopub.status.busy": "2023-01-24T17:52:27.521860Z",
     "iopub.status.idle": "2023-01-24T17:52:27.530322Z",
     "shell.execute_reply": "2023-01-24T17:52:27.529121Z"
    },
    "papermill": {
     "duration": 0.029036,
     "end_time": "2023-01-24T17:52:27.532531",
     "exception": false,
     "start_time": "2023-01-24T17:52:27.503495",
     "status": "completed"
    },
    "tags": []
   },
   "outputs": [
    {
     "data": {
      "text/plain": [
       "25"
      ]
     },
     "execution_count": 14,
     "metadata": {},
     "output_type": "execute_result"
    }
   ],
   "source": [
    "minAgeTick = int(data['Age'].min() - (data['Age'].min() % 5))\n",
    "minAgeTick"
   ]
  },
  {
   "cell_type": "code",
   "execution_count": 15,
   "id": "9ff1eea1",
   "metadata": {
    "execution": {
     "iopub.execute_input": "2023-01-24T17:52:27.568535Z",
     "iopub.status.busy": "2023-01-24T17:52:27.567611Z",
     "iopub.status.idle": "2023-01-24T17:52:27.575407Z",
     "shell.execute_reply": "2023-01-24T17:52:27.574392Z"
    },
    "papermill": {
     "duration": 0.028162,
     "end_time": "2023-01-24T17:52:27.577654",
     "exception": false,
     "start_time": "2023-01-24T17:52:27.549492",
     "status": "completed"
    },
    "tags": []
   },
   "outputs": [
    {
     "data": {
      "text/plain": [
       "85"
      ]
     },
     "execution_count": 15,
     "metadata": {},
     "output_type": "execute_result"
    }
   ],
   "source": [
    "maxAgeTick = int(((data['Age'].max() // 5) + 1) * 5)\n",
    "maxAgeTick"
   ]
  },
  {
   "cell_type": "code",
   "execution_count": 16,
   "id": "697b15a8",
   "metadata": {
    "execution": {
     "iopub.execute_input": "2023-01-24T17:52:27.618925Z",
     "iopub.status.busy": "2023-01-24T17:52:27.617489Z",
     "iopub.status.idle": "2023-01-24T17:52:27.627781Z",
     "shell.execute_reply": "2023-01-24T17:52:27.626905Z"
    },
    "papermill": {
     "duration": 0.036046,
     "end_time": "2023-01-24T17:52:27.631239",
     "exception": false,
     "start_time": "2023-01-24T17:52:27.595193",
     "status": "completed"
    },
    "tags": []
   },
   "outputs": [
    {
     "data": {
      "text/plain": [
       "[25, 30, 35, 40, 45, 50, 55, 60, 65, 70, 75, 80, 85]"
      ]
     },
     "execution_count": 16,
     "metadata": {},
     "output_type": "execute_result"
    }
   ],
   "source": [
    "ticks = list(range(minAgeTick,maxAgeTick+1, 5))\n",
    "ticks"
   ]
  },
  {
   "cell_type": "markdown",
   "id": "58df91da",
   "metadata": {
    "papermill": {
     "duration": 0.020821,
     "end_time": "2023-01-24T17:52:27.671002",
     "exception": false,
     "start_time": "2023-01-24T17:52:27.650181",
     "status": "completed"
    },
    "tags": []
   },
   "source": [
    "**Histogram of the Age Variable**"
   ]
  },
  {
   "cell_type": "code",
   "execution_count": 17,
   "id": "c343eae7",
   "metadata": {
    "execution": {
     "iopub.execute_input": "2023-01-24T17:52:27.707090Z",
     "iopub.status.busy": "2023-01-24T17:52:27.706639Z",
     "iopub.status.idle": "2023-01-24T17:52:27.996162Z",
     "shell.execute_reply": "2023-01-24T17:52:27.994931Z"
    },
    "papermill": {
     "duration": 0.310946,
     "end_time": "2023-01-24T17:52:27.999079",
     "exception": false,
     "start_time": "2023-01-24T17:52:27.688133",
     "status": "completed"
    },
    "tags": []
   },
   "outputs": [
    {
     "data": {
      "text/plain": [
       "[<matplotlib.axis.XTick at 0x7f0ad2173ad0>,\n",
       " <matplotlib.axis.XTick at 0x7f0ad2173f90>,\n",
       " <matplotlib.axis.XTick at 0x7f0acfe87290>,\n",
       " <matplotlib.axis.XTick at 0x7f0acfe31310>,\n",
       " <matplotlib.axis.XTick at 0x7f0acfe31250>,\n",
       " <matplotlib.axis.XTick at 0x7f0acfe39150>,\n",
       " <matplotlib.axis.XTick at 0x7f0acfe39090>,\n",
       " <matplotlib.axis.XTick at 0x7f0acfe39990>,\n",
       " <matplotlib.axis.XTick at 0x7f0acff9a090>,\n",
       " <matplotlib.axis.XTick at 0x7f0acfe87e90>,\n",
       " <matplotlib.axis.XTick at 0x7f0acfe87590>,\n",
       " <matplotlib.axis.XTick at 0x7f0acfe4e290>,\n",
       " <matplotlib.axis.XTick at 0x7f0acfe4e190>]"
      ]
     },
     "execution_count": 17,
     "metadata": {},
     "output_type": "execute_result"
    },
    {
     "data": {
      "image/png": "[encoded data removed]",
      "text/plain": [
       "<Figure size 432x288 with 1 Axes>"
      ]
     },
     "metadata": {
      "needs_background": "light"
     },
     "output_type": "display_data"
    }
   ],
   "source": [
    "histogram_plot = sns.histplot(data['Age'],bins=10)\n",
    "histogram_plot.set_xticks(ticks)"
   ]
  },
  {
   "cell_type": "markdown",
   "id": "f8508ca8",
   "metadata": {
    "papermill": {
     "duration": 0.018271,
     "end_time": "2023-01-24T17:52:28.035534",
     "exception": false,
     "start_time": "2023-01-24T17:52:28.017263",
     "status": "completed"
    },
    "tags": []
   },
   "source": [
    "**The histogram is more clear for observation now.**\n",
    "<hr>\n",
    "\n",
    "**Setting the age groups based on a function.**"
   ]
  },
  {
   "cell_type": "code",
   "execution_count": 18,
   "id": "aea17363",
   "metadata": {
    "execution": {
     "iopub.execute_input": "2023-01-24T17:52:28.073817Z",
     "iopub.status.busy": "2023-01-24T17:52:28.073346Z",
     "iopub.status.idle": "2023-01-24T17:52:28.079833Z",
     "shell.execute_reply": "2023-01-24T17:52:28.078642Z"
    },
    "papermill": {
     "duration": 0.028888,
     "end_time": "2023-01-24T17:52:28.082333",
     "exception": false,
     "start_time": "2023-01-24T17:52:28.053445",
     "status": "completed"
    },
    "tags": []
   },
   "outputs": [],
   "source": [
    "def age_group(age):\n",
    "    if age <= 25:\n",
    "        age_group = 'Young Adult'\n",
    "    elif (age > 25) & (age <= 64):\n",
    "        age_group = 'Adult'\n",
    "    else:\n",
    "        age_group = 'Elder'\n",
    "    return age_group"
   ]
  },
  {
   "cell_type": "code",
   "execution_count": 19,
   "id": "a1a0521e",
   "metadata": {
    "execution": {
     "iopub.execute_input": "2023-01-24T17:52:28.120428Z",
     "iopub.status.busy": "2023-01-24T17:52:28.120018Z",
     "iopub.status.idle": "2023-01-24T17:52:28.130433Z",
     "shell.execute_reply": "2023-01-24T17:52:28.129352Z"
    },
    "papermill": {
     "duration": 0.032412,
     "end_time": "2023-01-24T17:52:28.132889",
     "exception": false,
     "start_time": "2023-01-24T17:52:28.100477",
     "status": "completed"
    },
    "tags": []
   },
   "outputs": [],
   "source": [
    "data['Age_Group'] = data['Age'].apply(lambda x: age_group(x))\n",
    "age_group_ordered = CategoricalDtype(categories=['Young Adult','Adult', 'Elder'], ordered=True)\n",
    "data['Age_Group'] = data['Age_Group'].astype(age_group_ordered)"
   ]
  },
  {
   "cell_type": "markdown",
   "id": "e74b9d4e",
   "metadata": {
    "papermill": {
     "duration": 0.017317,
     "end_time": "2023-01-24T17:52:28.168119",
     "exception": false,
     "start_time": "2023-01-24T17:52:28.150802",
     "status": "completed"
    },
    "tags": []
   },
   "source": [
    "# Marital Status Variable"
   ]
  },
  {
   "cell_type": "code",
   "execution_count": 20,
   "id": "45d4f659",
   "metadata": {
    "execution": {
     "iopub.execute_input": "2023-01-24T17:52:28.205043Z",
     "iopub.status.busy": "2023-01-24T17:52:28.204587Z",
     "iopub.status.idle": "2023-01-24T17:52:28.213550Z",
     "shell.execute_reply": "2023-01-24T17:52:28.212377Z"
    },
    "papermill": {
     "duration": 0.030202,
     "end_time": "2023-01-24T17:52:28.215952",
     "exception": false,
     "start_time": "2023-01-24T17:52:28.185750",
     "status": "completed"
    },
    "tags": []
   },
   "outputs": [
    {
     "data": {
      "text/plain": [
       "Married     857\n",
       "Together    572\n",
       "Single      470\n",
       "Divorced    231\n",
       "Widow        76\n",
       "Alone         3\n",
       "Absurd        2\n",
       "YOLO          2\n",
       "Name: Marital_Status, dtype: int64"
      ]
     },
     "execution_count": 20,
     "metadata": {},
     "output_type": "execute_result"
    }
   ],
   "source": [
    "data['Marital_Status'].value_counts()"
   ]
  },
  {
   "cell_type": "markdown",
   "id": "af76adbd",
   "metadata": {
    "papermill": {
     "duration": 0.017047,
     "end_time": "2023-01-24T17:52:28.250584",
     "exception": false,
     "start_time": "2023-01-24T17:52:28.233537",
     "status": "completed"
    },
    "tags": []
   },
   "source": [
    "**There are some categories which has very low value.\n",
    "Drops the non-freqent categories:**"
   ]
  },
  {
   "cell_type": "code",
   "execution_count": 21,
   "id": "b340e80e",
   "metadata": {
    "execution": {
     "iopub.execute_input": "2023-01-24T17:52:28.287133Z",
     "iopub.status.busy": "2023-01-24T17:52:28.286673Z",
     "iopub.status.idle": "2023-01-24T17:52:28.299501Z",
     "shell.execute_reply": "2023-01-24T17:52:28.298469Z"
    },
    "papermill": {
     "duration": 0.034381,
     "end_time": "2023-01-24T17:52:28.302155",
     "exception": false,
     "start_time": "2023-01-24T17:52:28.267774",
     "status": "completed"
    },
    "tags": []
   },
   "outputs": [],
   "source": [
    "data.drop(index=(data[data['Marital_Status'] == 'Alone'].index), axis = 0, inplace = True)\n",
    "data.drop(index=(data[data['Marital_Status'] == 'Absurd'].index), axis = 0, inplace = True)\n",
    "data.drop(index=(data[data['Marital_Status'] == 'YOLO'].index), axis = 0, inplace = True)"
   ]
  },
  {
   "cell_type": "markdown",
   "id": "fb9b56c4",
   "metadata": {
    "papermill": {
     "duration": 0.017226,
     "end_time": "2023-01-24T17:52:28.336869",
     "exception": false,
     "start_time": "2023-01-24T17:52:28.319643",
     "status": "completed"
    },
    "tags": []
   },
   "source": [
    "# Kidhome Variable"
   ]
  },
  {
   "cell_type": "code",
   "execution_count": 22,
   "id": "ff894874",
   "metadata": {
    "execution": {
     "iopub.execute_input": "2023-01-24T17:52:28.373287Z",
     "iopub.status.busy": "2023-01-24T17:52:28.372855Z",
     "iopub.status.idle": "2023-01-24T17:52:28.379705Z",
     "shell.execute_reply": "2023-01-24T17:52:28.378730Z"
    },
    "papermill": {
     "duration": 0.027968,
     "end_time": "2023-01-24T17:52:28.382217",
     "exception": false,
     "start_time": "2023-01-24T17:52:28.354249",
     "status": "completed"
    },
    "tags": []
   },
   "outputs": [],
   "source": [
    "kidhome_category = CategoricalDtype(categories=[0,1,2], ordered = False)\n",
    "data['Kidhome'] = data['Kidhome'].astype(kidhome_category)"
   ]
  },
  {
   "cell_type": "markdown",
   "id": "9affa391",
   "metadata": {
    "papermill": {
     "duration": 0.01718,
     "end_time": "2023-01-24T17:52:28.417104",
     "exception": false,
     "start_time": "2023-01-24T17:52:28.399924",
     "status": "completed"
    },
    "tags": []
   },
   "source": [
    "# <p id = \"2\" style=\"font-family:arial;background-color:#2A93D5;color:#FFFFFF;font-size: 150%;text-align:center;border-radius: 0px 15px 15px 0px;border-style: solid;border-color: #2483bf;\">2.VISUALIZATION and EXPLORATORY ANALYSIS</p>\n",
    "[Click to return Table of Contents](#0)"
   ]
  },
  {
   "cell_type": "markdown",
   "id": "e52f2891",
   "metadata": {
    "papermill": {
     "duration": 0.017591,
     "end_time": "2023-01-24T17:52:28.452842",
     "exception": false,
     "start_time": "2023-01-24T17:52:28.435251",
     "status": "completed"
    },
    "tags": []
   },
   "source": [
    "<p style=\"text-align:center; font-size:125%;\"><b>The Age Distribution</b></p>"
   ]
  },
  {
   "cell_type": "code",
   "execution_count": 23,
   "id": "46b87903",
   "metadata": {
    "execution": {
     "iopub.execute_input": "2023-01-24T17:52:28.490226Z",
     "iopub.status.busy": "2023-01-24T17:52:28.489583Z",
     "iopub.status.idle": "2023-01-24T17:52:28.737415Z",
     "shell.execute_reply": "2023-01-24T17:52:28.736444Z"
    },
    "papermill": {
     "duration": 0.269247,
     "end_time": "2023-01-24T17:52:28.739797",
     "exception": false,
     "start_time": "2023-01-24T17:52:28.470550",
     "status": "completed"
    },
    "tags": []
   },
   "outputs": [
    {
     "data": {
      "text/plain": [
       "[<matplotlib.axis.XTick at 0x7f0acfe00050>,\n",
       " <matplotlib.axis.XTick at 0x7f0acfec9290>,\n",
       " <matplotlib.axis.XTick at 0x7f0acfdd1290>,\n",
       " <matplotlib.axis.XTick at 0x7f0acfdbc450>,\n",
       " <matplotlib.axis.XTick at 0x7f0acfd700d0>,\n",
       " <matplotlib.axis.XTick at 0x7f0acfd70e10>,\n",
       " <matplotlib.axis.XTick at 0x7f0acfddec10>,\n",
       " <matplotlib.axis.XTick at 0x7f0acfd780d0>,\n",
       " <matplotlib.axis.XTick at 0x7f0acfdf8f50>,\n",
       " <matplotlib.axis.XTick at 0x7f0acfdc9990>,\n",
       " <matplotlib.axis.XTick at 0x7f0acfdc9510>,\n",
       " <matplotlib.axis.XTick at 0x7f0acfd94bd0>,\n",
       " <matplotlib.axis.XTick at 0x7f0acfd9e550>]"
      ]
     },
     "execution_count": 23,
     "metadata": {},
     "output_type": "execute_result"
    },
    {
     "data": {
      "image/png": "[encoded data removed]",
      "text/plain": [
       "<Figure size 432x288 with 1 Axes>"
      ]
     },
     "metadata": {
      "needs_background": "light"
     },
     "output_type": "display_data"
    }
   ],
   "source": [
    "histogram_plot = sns.histplot(data['Age'],bins=10)\n",
    "histogram_plot.set_xticks(ticks)"
   ]
  },
  {
   "cell_type": "code",
   "execution_count": 24,
   "id": "4906b0ca",
   "metadata": {
    "execution": {
     "iopub.execute_input": "2023-01-24T17:52:28.777729Z",
     "iopub.status.busy": "2023-01-24T17:52:28.776486Z",
     "iopub.status.idle": "2023-01-24T17:52:28.998661Z",
     "shell.execute_reply": "2023-01-24T17:52:28.997486Z"
    },
    "papermill": {
     "duration": 0.243782,
     "end_time": "2023-01-24T17:52:29.001279",
     "exception": false,
     "start_time": "2023-01-24T17:52:28.757497",
     "status": "completed"
    },
    "tags": []
   },
   "outputs": [
    {
     "data": {
      "image/png": "[encoded data removed]",
      "text/plain": [
       "<Figure size 432x288 with 1 Axes>"
      ]
     },
     "metadata": {
      "needs_background": "light"
     },
     "output_type": "display_data"
    }
   ],
   "source": [
    "ax = sns.countplot(data=data, x=\"Age_Group\")\n",
    "for container in ax.containers:\n",
    "    ax.bar_label(container)"
   ]
  },
  {
   "cell_type": "markdown",
   "id": "891e67bc",
   "metadata": {
    "papermill": {
     "duration": 0.017858,
     "end_time": "2023-01-24T17:52:29.037511",
     "exception": false,
     "start_time": "2023-01-24T17:52:29.019653",
     "status": "completed"
    },
    "tags": []
   },
   "source": [
    "Percents of each age group:"
   ]
  },
  {
   "cell_type": "code",
   "execution_count": 25,
   "id": "b43a7ecc",
   "metadata": {
    "execution": {
     "iopub.execute_input": "2023-01-24T17:52:29.075959Z",
     "iopub.status.busy": "2023-01-24T17:52:29.075560Z",
     "iopub.status.idle": "2023-01-24T17:52:29.085995Z",
     "shell.execute_reply": "2023-01-24T17:52:29.084801Z"
    },
    "papermill": {
     "duration": 0.032716,
     "end_time": "2023-01-24T17:52:29.088434",
     "exception": false,
     "start_time": "2023-01-24T17:52:29.055718",
     "status": "completed"
    },
    "tags": []
   },
   "outputs": [
    {
     "data": {
      "text/plain": [
       "Adult          77.0\n",
       "Elder          23.0\n",
       "Young Adult     0.0\n",
       "Name: Age_Group, dtype: float64"
      ]
     },
     "execution_count": 25,
     "metadata": {},
     "output_type": "execute_result"
    }
   ],
   "source": [
    "round((data['Age_Group'].value_counts(normalize=True) * 100),0)"
   ]
  },
  {
   "cell_type": "markdown",
   "id": "fa99d972",
   "metadata": {
    "papermill": {
     "duration": 0.019691,
     "end_time": "2023-01-24T17:52:29.126878",
     "exception": false,
     "start_time": "2023-01-24T17:52:29.107187",
     "status": "completed"
    },
    "tags": []
   },
   "source": [
    "There are no customers from the young adult group. It may be because of that the age variable's calculation is based on the current year."
   ]
  },
  {
   "cell_type": "markdown",
   "id": "65e8f0e9",
   "metadata": {
    "papermill": {
     "duration": 0.018164,
     "end_time": "2023-01-24T17:52:29.163545",
     "exception": false,
     "start_time": "2023-01-24T17:52:29.145381",
     "status": "completed"
    },
    "tags": []
   },
   "source": [
    "<p style=\"text-align:center; font-size:125%;\"><b>Kidhome and Teenhome Distribution</b></p>\n",
    "<hr>"
   ]
  },
  {
   "cell_type": "code",
   "execution_count": 26,
   "id": "5943b4c6",
   "metadata": {
    "execution": {
     "iopub.execute_input": "2023-01-24T17:52:29.202794Z",
     "iopub.status.busy": "2023-01-24T17:52:29.201943Z",
     "iopub.status.idle": "2023-01-24T17:52:29.487564Z",
     "shell.execute_reply": "2023-01-24T17:52:29.486610Z"
    },
    "papermill": {
     "duration": 0.308668,
     "end_time": "2023-01-24T17:52:29.490635",
     "exception": false,
     "start_time": "2023-01-24T17:52:29.181967",
     "status": "completed"
    },
    "tags": []
   },
   "outputs": [
    {
     "data": {
      "image/png": "[encoded data removed]",
      "text/plain": [
       "<Figure size 432x288 with 1 Axes>"
      ]
     },
     "metadata": {
      "needs_background": "light"
     },
     "output_type": "display_data"
    }
   ],
   "source": [
    "ax = sns.countplot(data=data, x=\"Kidhome\", hue=\"Age_Group\")\n",
    "smt = [(data[data['Kidhome'] == 0].count()[0]), (data[data['Kidhome'] == 1].count()[0]), (data[data['Kidhome'] == 2].count()[0])]\n",
    "for container in ax.containers:\n",
    "    ax.bar_label(container)"
   ]
  },
  {
   "cell_type": "code",
   "execution_count": 27,
   "id": "23650fdd",
   "metadata": {
    "execution": {
     "iopub.execute_input": "2023-01-24T17:52:29.531531Z",
     "iopub.status.busy": "2023-01-24T17:52:29.530907Z",
     "iopub.status.idle": "2023-01-24T17:52:29.657483Z",
     "shell.execute_reply": "2023-01-24T17:52:29.655146Z"
    },
    "papermill": {
     "duration": 0.15472,
     "end_time": "2023-01-24T17:52:29.665390",
     "exception": false,
     "start_time": "2023-01-24T17:52:29.510670",
     "status": "completed"
    },
    "tags": []
   },
   "outputs": [
    {
     "data": {
      "text/plain": [
       "([<matplotlib.patches.Wedge at 0x7f0acfc18850>,\n",
       "  <matplotlib.patches.Wedge at 0x7f0acfc26110>,\n",
       "  <matplotlib.patches.Wedge at 0x7f0acfc26950>],\n",
       " [Text(-0.26979420768196666, 1.0664009965773944, '0'),\n",
       "  Text(0.19940634849911165, -1.0817749803809715, '1'),\n",
       "  Text(1.0976405370720521, -0.07200868958797423, '2')],\n",
       " [Text(-0.14716047691743636, 0.5816732708603969, '57.9%'),\n",
       "  Text(0.10876709918133362, -0.5900590802078025, '40.0%'),\n",
       "  Text(0.5987130202211193, -0.03927746704798594, '2.1%')])"
      ]
     },
     "execution_count": 27,
     "metadata": {},
     "output_type": "execute_result"
    },
    {
     "data": {
      "image/png": "[encoded data removed]",
      "text/plain": [
       "<Figure size 432x288 with 1 Axes>"
      ]
     },
     "metadata": {},
     "output_type": "display_data"
    }
   ],
   "source": [
    "percentage_distribution = round((data['Kidhome'].value_counts(normalize=True) * 100),0)\n",
    "plt.pie(data['Kidhome'].value_counts(), labels = [\"0\", \"1\", \"2\"], autopct='%1.1f%%')"
   ]
  },
  {
   "cell_type": "markdown",
   "id": "a8fcb786",
   "metadata": {
    "papermill": {
     "duration": 0.037279,
     "end_time": "2023-01-24T17:52:29.752079",
     "exception": false,
     "start_time": "2023-01-24T17:52:29.714800",
     "status": "completed"
    },
    "tags": []
   },
   "source": [
    "The vast majority of customers do not have a kid in their home. The group with the most kids in the house is the adult group."
   ]
  },
  {
   "cell_type": "markdown",
   "id": "82e9de2e",
   "metadata": {
    "papermill": {
     "duration": 0.018365,
     "end_time": "2023-01-24T17:52:29.789021",
     "exception": false,
     "start_time": "2023-01-24T17:52:29.770656",
     "status": "completed"
    },
    "tags": []
   },
   "source": [
    "<hr><hr>"
   ]
  },
  {
   "cell_type": "code",
   "execution_count": 28,
   "id": "c1852b5f",
   "metadata": {
    "execution": {
     "iopub.execute_input": "2023-01-24T17:52:29.828347Z",
     "iopub.status.busy": "2023-01-24T17:52:29.827898Z",
     "iopub.status.idle": "2023-01-24T17:52:30.105428Z",
     "shell.execute_reply": "2023-01-24T17:52:30.104515Z"
    },
    "papermill": {
     "duration": 0.299924,
     "end_time": "2023-01-24T17:52:30.107718",
     "exception": false,
     "start_time": "2023-01-24T17:52:29.807794",
     "status": "completed"
    },
    "tags": []
   },
   "outputs": [
    {
     "data": {
      "image/png": "[encoded data removed]",
      "text/plain": [
       "<Figure size 432x288 with 1 Axes>"
      ]
     },
     "metadata": {
      "needs_background": "light"
     },
     "output_type": "display_data"
    }
   ],
   "source": [
    "ax = sns.countplot(data=data, x=\"Teenhome\", hue=\"Age_Group\")\n",
    "for container in ax.containers:\n",
    "    ax.bar_label(container)"
   ]
  },
  {
   "cell_type": "code",
   "execution_count": 29,
   "id": "297a305a",
   "metadata": {
    "execution": {
     "iopub.execute_input": "2023-01-24T17:52:30.150230Z",
     "iopub.status.busy": "2023-01-24T17:52:30.149813Z",
     "iopub.status.idle": "2023-01-24T17:52:30.255036Z",
     "shell.execute_reply": "2023-01-24T17:52:30.253625Z"
    },
    "papermill": {
     "duration": 0.131522,
     "end_time": "2023-01-24T17:52:30.259091",
     "exception": false,
     "start_time": "2023-01-24T17:52:30.127569",
     "status": "completed"
    },
    "tags": []
   },
   "outputs": [
    {
     "data": {
      "text/plain": [
       "([<matplotlib.patches.Wedge at 0x7f0acfb10d90>,\n",
       "  <matplotlib.patches.Wedge at 0x7f0acfb1f6d0>,\n",
       "  <matplotlib.patches.Wedge at 0x7f0acfb1ff10>],\n",
       " [Text(-0.061062956348323406, 1.0983038356311075, '0'),\n",
       "  Text(-0.018797540181427343, -1.0998393757649922, '1'),\n",
       "  Text(1.0970999676472566, -0.07982268467289819, '2')],\n",
       " [Text(-0.03330706709908549, 0.5990748194351495, '51.8%'),\n",
       "  Text(-0.010253203735324005, -0.5999123867809047, '45.9%'),\n",
       "  Text(0.5984181641712307, -0.04353964618521718, '2.3%')])"
      ]
     },
     "execution_count": 29,
     "metadata": {},
     "output_type": "execute_result"
    },
    {
     "data": {
      "image/png": "[encoded data removed]",
      "text/plain": [
       "<Figure size 432x288 with 1 Axes>"
      ]
     },
     "metadata": {},
     "output_type": "display_data"
    }
   ],
   "source": [
    "percentage_distribution = round((data['Teenhome'].value_counts(normalize=True) * 100),0)\n",
    "plt.pie(data['Teenhome'].value_counts(), labels = [\"0\", \"1\", \"2\"], autopct='%1.1f%%')"
   ]
  },
  {
   "cell_type": "markdown",
   "id": "1097e819",
   "metadata": {
    "papermill": {
     "duration": 0.038324,
     "end_time": "2023-01-24T17:52:30.349164",
     "exception": false,
     "start_time": "2023-01-24T17:52:30.310840",
     "status": "completed"
    },
    "tags": []
   },
   "source": [
    "Almost half of customers do not have a teen in their home. The group with the most teen in the house is the adult group. Visibly, members of the elder age group mostly live with a teen.\n",
    "<hr>\n",
    "<hr>"
   ]
  },
  {
   "cell_type": "markdown",
   "id": "6ce85ebf",
   "metadata": {
    "papermill": {
     "duration": 0.019511,
     "end_time": "2023-01-24T17:52:30.388272",
     "exception": false,
     "start_time": "2023-01-24T17:52:30.368761",
     "status": "completed"
    },
    "tags": []
   },
   "source": [
    "<p style=\"text-align:center; font-size:125%;\"><b>Education</b></p>\n",
    "<hr>"
   ]
  },
  {
   "cell_type": "code",
   "execution_count": 30,
   "id": "e50035bb",
   "metadata": {
    "execution": {
     "iopub.execute_input": "2023-01-24T17:52:30.430141Z",
     "iopub.status.busy": "2023-01-24T17:52:30.429715Z",
     "iopub.status.idle": "2023-01-24T17:52:30.659879Z",
     "shell.execute_reply": "2023-01-24T17:52:30.658886Z"
    },
    "papermill": {
     "duration": 0.254247,
     "end_time": "2023-01-24T17:52:30.662047",
     "exception": false,
     "start_time": "2023-01-24T17:52:30.407800",
     "status": "completed"
    },
    "tags": []
   },
   "outputs": [
    {
     "data": {
      "image/png": "[encoded data removed]",
      "text/plain": [
       "<Figure size 432x288 with 1 Axes>"
      ]
     },
     "metadata": {
      "needs_background": "light"
     },
     "output_type": "display_data"
    }
   ],
   "source": [
    "ax = sns.countplot(data=data, x=\"Education\")\n",
    "for container in ax.containers:\n",
    "    ax.bar_label(container)"
   ]
  },
  {
   "cell_type": "markdown",
   "id": "39f10f51",
   "metadata": {
    "papermill": {
     "duration": 0.025938,
     "end_time": "2023-01-24T17:52:30.719073",
     "exception": false,
     "start_time": "2023-01-24T17:52:30.693135",
     "status": "completed"
    },
    "tags": []
   },
   "source": [
    "Percents of each education group:"
   ]
  },
  {
   "cell_type": "code",
   "execution_count": 31,
   "id": "92e176f1",
   "metadata": {
    "execution": {
     "iopub.execute_input": "2023-01-24T17:52:30.764157Z",
     "iopub.status.busy": "2023-01-24T17:52:30.763530Z",
     "iopub.status.idle": "2023-01-24T17:52:30.895874Z",
     "shell.execute_reply": "2023-01-24T17:52:30.894307Z"
    },
    "papermill": {
     "duration": 0.159033,
     "end_time": "2023-01-24T17:52:30.900884",
     "exception": false,
     "start_time": "2023-01-24T17:52:30.741851",
     "status": "completed"
    },
    "tags": []
   },
   "outputs": [
    {
     "data": {
      "text/plain": [
       "([<matplotlib.patches.Wedge at 0x7f0acf9f7dd0>,\n",
       "  <matplotlib.patches.Wedge at 0x7f0acfa04690>,\n",
       "  <matplotlib.patches.Wedge at 0x7f0acfa04ed0>,\n",
       "  <matplotlib.patches.Wedge at 0x7f0acfa04bd0>,\n",
       "  <matplotlib.patches.Wedge at 0x7f0acfa13f10>],\n",
       " [Text(-0.017231075163365837, 1.0998650326511497, 'Graduation'),\n",
       "  Text(-0.8337445394981248, -0.7175444535755677, 'PhD'),\n",
       "  Text(0.3627789041994461, -1.038456290205731, 'Master'),\n",
       "  Text(0.9971959091763344, -0.4643278138578216, '2n Cycle'),\n",
       "  Text(1.0967489476033019, -0.08450885119944564, 'Basic')],\n",
       " [Text(-0.00939876827092682, 0.5999263814460816, '50.5%'),\n",
       "  Text(-0.4547697488171589, -0.39138788376849143, '21.6%'),\n",
       "  Text(0.19787940229060694, -0.5664307037485805, '16.5%'),\n",
       "  Text(0.5439250413689096, -0.25326971664972087, '9.0%'),\n",
       "  Text(0.5982266986927101, -0.04609573701787944, '2.4%')])"
      ]
     },
     "execution_count": 31,
     "metadata": {},
     "output_type": "execute_result"
    },
    {
     "data": {
      "image/png": "[encoded data removed]",
      "text/plain": [
       "<Figure size 432x288 with 1 Axes>"
      ]
     },
     "metadata": {},
     "output_type": "display_data"
    }
   ],
   "source": [
    "percentage_distribution = round((data['Education'].value_counts(normalize=True) * 100),0)\n",
    "plt.pie(data['Education'].value_counts(), labels = (data['Education'].value_counts().index) ,autopct='%1.1f%%')"
   ]
  },
  {
   "cell_type": "code",
   "execution_count": 32,
   "id": "bb921250",
   "metadata": {
    "execution": {
     "iopub.execute_input": "2023-01-24T17:52:30.987649Z",
     "iopub.status.busy": "2023-01-24T17:52:30.986895Z",
     "iopub.status.idle": "2023-01-24T17:52:30.996632Z",
     "shell.execute_reply": "2023-01-24T17:52:30.995561Z"
    },
    "papermill": {
     "duration": 0.044708,
     "end_time": "2023-01-24T17:52:30.999049",
     "exception": false,
     "start_time": "2023-01-24T17:52:30.954341",
     "status": "completed"
    },
    "tags": []
   },
   "outputs": [
    {
     "data": {
      "text/plain": [
       "Graduation    50.0\n",
       "PhD           22.0\n",
       "Master        16.0\n",
       "2n Cycle       9.0\n",
       "Basic          2.0\n",
       "Name: Education, dtype: float64"
      ]
     },
     "execution_count": 32,
     "metadata": {},
     "output_type": "execute_result"
    }
   ],
   "source": [
    "round((data['Education'].value_counts(normalize=True) * 100),0)"
   ]
  },
  {
   "cell_type": "markdown",
   "id": "71c04e09",
   "metadata": {
    "papermill": {
     "duration": 0.020218,
     "end_time": "2023-01-24T17:52:31.040584",
     "exception": false,
     "start_time": "2023-01-24T17:52:31.020366",
     "status": "completed"
    },
    "tags": []
   },
   "source": [
    "The half of clients are at the graduate level. It is observed that the customers who have received PhD level education are at a level that cannot be underestimated."
   ]
  },
  {
   "cell_type": "markdown",
   "id": "3369622f",
   "metadata": {
    "papermill": {
     "duration": 0.019839,
     "end_time": "2023-01-24T17:52:31.080871",
     "exception": false,
     "start_time": "2023-01-24T17:52:31.061032",
     "status": "completed"
    },
    "tags": []
   },
   "source": [
    "<p style=\"text-align:center; font-size:125%;\"><b>Marital Status</b></p>"
   ]
  },
  {
   "cell_type": "code",
   "execution_count": 33,
   "id": "03029192",
   "metadata": {
    "execution": {
     "iopub.execute_input": "2023-01-24T17:52:31.123133Z",
     "iopub.status.busy": "2023-01-24T17:52:31.122683Z",
     "iopub.status.idle": "2023-01-24T17:52:31.368071Z",
     "shell.execute_reply": "2023-01-24T17:52:31.366823Z"
    },
    "papermill": {
     "duration": 0.26955,
     "end_time": "2023-01-24T17:52:31.370750",
     "exception": false,
     "start_time": "2023-01-24T17:52:31.101200",
     "status": "completed"
    },
    "tags": []
   },
   "outputs": [
    {
     "data": {
      "image/png": "[encoded data removed]",
      "text/plain": [
       "<Figure size 432x288 with 1 Axes>"
      ]
     },
     "metadata": {
      "needs_background": "light"
     },
     "output_type": "display_data"
    }
   ],
   "source": [
    "ax = sns.countplot(data=data, x=\"Marital_Status\")\n",
    "for container in ax.containers:\n",
    "    ax.bar_label(container)"
   ]
  },
  {
   "cell_type": "markdown",
   "id": "015a9ec9",
   "metadata": {
    "papermill": {
     "duration": 0.020462,
     "end_time": "2023-01-24T17:52:31.412126",
     "exception": false,
     "start_time": "2023-01-24T17:52:31.391664",
     "status": "completed"
    },
    "tags": []
   },
   "source": [
    "Percents of each marital status group:"
   ]
  },
  {
   "cell_type": "code",
   "execution_count": 34,
   "id": "b2f2bb98",
   "metadata": {
    "execution": {
     "iopub.execute_input": "2023-01-24T17:52:31.455542Z",
     "iopub.status.busy": "2023-01-24T17:52:31.455112Z",
     "iopub.status.idle": "2023-01-24T17:52:31.465256Z",
     "shell.execute_reply": "2023-01-24T17:52:31.464263Z"
    },
    "papermill": {
     "duration": 0.034715,
     "end_time": "2023-01-24T17:52:31.467604",
     "exception": false,
     "start_time": "2023-01-24T17:52:31.432889",
     "status": "completed"
    },
    "tags": []
   },
   "outputs": [
    {
     "data": {
      "text/plain": [
       "Married     39.0\n",
       "Together    26.0\n",
       "Single      21.0\n",
       "Divorced    10.0\n",
       "Widow        3.0\n",
       "Name: Marital_Status, dtype: float64"
      ]
     },
     "execution_count": 34,
     "metadata": {},
     "output_type": "execute_result"
    }
   ],
   "source": [
    "round((data['Marital_Status'].value_counts(normalize=True) * 100),0)"
   ]
  },
  {
   "cell_type": "code",
   "execution_count": 35,
   "id": "6ff16918",
   "metadata": {
    "execution": {
     "iopub.execute_input": "2023-01-24T17:52:31.511557Z",
     "iopub.status.busy": "2023-01-24T17:52:31.510880Z",
     "iopub.status.idle": "2023-01-24T17:52:31.642372Z",
     "shell.execute_reply": "2023-01-24T17:52:31.641041Z"
    },
    "papermill": {
     "duration": 0.158309,
     "end_time": "2023-01-24T17:52:31.646836",
     "exception": false,
     "start_time": "2023-01-24T17:52:31.488527",
     "status": "completed"
    },
    "tags": []
   },
   "outputs": [
    {
     "data": {
      "text/plain": [
       "([<matplotlib.patches.Wedge at 0x7f0acf8fe610>,\n",
       "  <matplotlib.patches.Wedge at 0x7f0acf8fee50>,\n",
       "  <matplotlib.patches.Wedge at 0x7f0acf90d6d0>,\n",
       "  <matplotlib.patches.Wedge at 0x7f0acf90d3d0>,\n",
       "  <matplotlib.patches.Wedge at 0x7f0acf91c710>],\n",
       " [Text(0.37753037523245636, 1.03318479265659, 'Married'),\n",
       "  Text(-1.0928688227981687, -0.12505093424579103, 'Together'),\n",
       "  Text(0.029760262822058476, -1.0995973475580787, 'Single'),\n",
       "  Text(0.9403917293001457, -0.5706692522502697, 'Divorced'),\n",
       "  Text(1.0935634200367697, -0.11882359343785129, 'Widow')],\n",
       " [Text(0.20592565921770345, 0.563555341449049, '38.8%'),\n",
       "  Text(-0.5961102669808191, -0.06820960049770419, '25.9%'),\n",
       "  Text(0.016232870630213714, -0.5997803713953156, '21.3%'),\n",
       "  Text(0.5129409432546248, -0.3112741375910561, '10.5%'),\n",
       "  Text(0.5964891382018743, -0.06481286914791888, '3.4%')])"
      ]
     },
     "execution_count": 35,
     "metadata": {},
     "output_type": "execute_result"
    },
    {
     "data": {
      "image/png": "[encoded data removed]",
      "text/plain": [
       "<Figure size 432x288 with 1 Axes>"
      ]
     },
     "metadata": {},
     "output_type": "display_data"
    }
   ],
   "source": [
    "percentage_distribution = round((data['Marital_Status'].value_counts(normalize=True) * 100),0)\n",
    "plt.pie(data['Marital_Status'].value_counts(), labels = (data['Marital_Status'].value_counts().index) ,autopct='%1.1f%%')"
   ]
  },
  {
   "cell_type": "code",
   "execution_count": 36,
   "id": "27b5d1ae",
   "metadata": {
    "execution": {
     "iopub.execute_input": "2023-01-24T17:52:31.736115Z",
     "iopub.status.busy": "2023-01-24T17:52:31.735640Z",
     "iopub.status.idle": "2023-01-24T17:52:32.307670Z",
     "shell.execute_reply": "2023-01-24T17:52:32.306167Z"
    },
    "papermill": {
     "duration": 0.603639,
     "end_time": "2023-01-24T17:52:32.310860",
     "exception": false,
     "start_time": "2023-01-24T17:52:31.707221",
     "status": "completed"
    },
    "tags": []
   },
   "outputs": [
    {
     "data": {
      "text/plain": [
       "<seaborn.axisgrid.FacetGrid at 0x7f0acfa20290>"
      ]
     },
     "execution_count": 36,
     "metadata": {},
     "output_type": "execute_result"
    },
    {
     "data": {
      "image/png": "[encoded data removed]",
      "text/plain": [
       "<Figure size 455.125x360 with 1 Axes>"
      ]
     },
     "metadata": {
      "needs_background": "light"
     },
     "output_type": "display_data"
    }
   ],
   "source": [
    "sns.catplot(data=data, x = \"Education\", y = \"NumWebVisitsMonth\", kind=\"box\", hue=\"Age_Group\")"
   ]
  },
  {
   "cell_type": "markdown",
   "id": "fb0421a2",
   "metadata": {
    "papermill": {
     "duration": 0.021635,
     "end_time": "2023-01-24T17:52:32.354710",
     "exception": false,
     "start_time": "2023-01-24T17:52:32.333075",
     "status": "completed"
    },
    "tags": []
   },
   "source": [
    "In almost every age group, except for the level of Phd education, the elder group made fewer website visits than the adult group."
   ]
  },
  {
   "cell_type": "code",
   "execution_count": 37,
   "id": "f40c7462",
   "metadata": {
    "execution": {
     "iopub.execute_input": "2023-01-24T17:52:32.401652Z",
     "iopub.status.busy": "2023-01-24T17:52:32.401213Z",
     "iopub.status.idle": "2023-01-24T17:52:33.075388Z",
     "shell.execute_reply": "2023-01-24T17:52:33.074248Z"
    },
    "papermill": {
     "duration": 0.700701,
     "end_time": "2023-01-24T17:52:33.077723",
     "exception": false,
     "start_time": "2023-01-24T17:52:32.377022",
     "status": "completed"
    },
    "tags": []
   },
   "outputs": [
    {
     "data": {
      "text/plain": [
       "<seaborn.axisgrid.FacetGrid at 0x7f0acf8ba390>"
      ]
     },
     "execution_count": 37,
     "metadata": {},
     "output_type": "execute_result"
    },
    {
     "data": {
      "image/png": "[encoded data removed]",
      "text/plain": [
       "<Figure size 455.125x360 with 1 Axes>"
      ]
     },
     "metadata": {
      "needs_background": "light"
     },
     "output_type": "display_data"
    }
   ],
   "source": [
    "sns.catplot(data=data, x = \"Education\", y = \"NumWebPurchases\", kind=\"box\", hue=\"Age_Group\")"
   ]
  },
  {
   "cell_type": "markdown",
   "id": "1aefc47c",
   "metadata": {
    "papermill": {
     "duration": 0.021864,
     "end_time": "2023-01-24T17:52:33.122203",
     "exception": false,
     "start_time": "2023-01-24T17:52:33.100339",
     "status": "completed"
    },
    "tags": []
   },
   "source": [
    "However, when the shopping rates are examined, it is observed that the **elder group generally makes more internet shopping**."
   ]
  },
  {
   "cell_type": "code",
   "execution_count": 38,
   "id": "f97667b0",
   "metadata": {
    "execution": {
     "iopub.execute_input": "2023-01-24T17:52:33.169910Z",
     "iopub.status.busy": "2023-01-24T17:52:33.169477Z",
     "iopub.status.idle": "2023-01-24T17:52:33.714274Z",
     "shell.execute_reply": "2023-01-24T17:52:33.713038Z"
    },
    "papermill": {
     "duration": 0.571708,
     "end_time": "2023-01-24T17:52:33.716840",
     "exception": false,
     "start_time": "2023-01-24T17:52:33.145132",
     "status": "completed"
    },
    "tags": []
   },
   "outputs": [
    {
     "data": {
      "text/plain": [
       "<matplotlib.legend.Legend at 0x7f0acff39d10>"
      ]
     },
     "execution_count": 38,
     "metadata": {},
     "output_type": "execute_result"
    },
    {
     "data": {
      "image/png": "[encoded data removed]",
      "text/plain": [
       "<Figure size 432x288 with 1 Axes>"
      ]
     },
     "metadata": {
      "needs_background": "light"
     },
     "output_type": "display_data"
    }
   ],
   "source": [
    "fig, ax = plt.subplots()\n",
    "ax_1 = sns.lineplot(data=data, x=\"Education\", y=\"NumWebVisitsMonth\")\n",
    "ax_2 = sns.lineplot(data=data, x=\"Education\", y=\"NumWebPurchases\")\n",
    "plt.legend([\"NumWebVisitsMonth\",\"\",\"NumWebPurchases\",\"\"])"
   ]
  },
  {
   "cell_type": "markdown",
   "id": "5cdd42a8",
   "metadata": {
    "papermill": {
     "duration": 0.022525,
     "end_time": "2023-01-24T17:52:33.764635",
     "exception": false,
     "start_time": "2023-01-24T17:52:33.742110",
     "status": "completed"
    },
    "tags": []
   },
   "source": [
    "In the case of education, it is observed that the number of purchases is approaching with the website visits made in the process from basic to phd level. Accordingly, it is estimated that as the level of education increases, **the customer plans in advance what he/she will buy**. **As the level of education decreases, the number of non-shopping visits increases**."
   ]
  },
  {
   "cell_type": "code",
   "execution_count": 39,
   "id": "341e6877",
   "metadata": {
    "execution": {
     "iopub.execute_input": "2023-01-24T17:52:33.813272Z",
     "iopub.status.busy": "2023-01-24T17:52:33.812827Z",
     "iopub.status.idle": "2023-01-24T17:52:34.160714Z",
     "shell.execute_reply": "2023-01-24T17:52:34.159442Z"
    },
    "papermill": {
     "duration": 0.375628,
     "end_time": "2023-01-24T17:52:34.163154",
     "exception": false,
     "start_time": "2023-01-24T17:52:33.787526",
     "status": "completed"
    },
    "tags": []
   },
   "outputs": [
    {
     "data": {
      "text/plain": [
       "<seaborn.axisgrid.FacetGrid at 0x7f0acfac8850>"
      ]
     },
     "execution_count": 39,
     "metadata": {},
     "output_type": "execute_result"
    },
    {
     "data": {
      "image/png": "[encoded data removed]",
      "text/plain": [
       "<Figure size 360x360 with 1 Axes>"
      ]
     },
     "metadata": {
      "needs_background": "light"
     },
     "output_type": "display_data"
    }
   ],
   "source": [
    "sns.catplot(data=data, x=\"Education\", y=\"Income\", kind=\"box\")"
   ]
  },
  {
   "cell_type": "code",
   "execution_count": 40,
   "id": "bb5ccb82",
   "metadata": {
    "execution": {
     "iopub.execute_input": "2023-01-24T17:52:34.212096Z",
     "iopub.status.busy": "2023-01-24T17:52:34.211672Z",
     "iopub.status.idle": "2023-01-24T17:52:34.233930Z",
     "shell.execute_reply": "2023-01-24T17:52:34.232847Z"
    },
    "papermill": {
     "duration": 0.049126,
     "end_time": "2023-01-24T17:52:34.236059",
     "exception": false,
     "start_time": "2023-01-24T17:52:34.186933",
     "status": "completed"
    },
    "tags": []
   },
   "outputs": [
    {
     "data": {
      "text/html": [
       "<div>\n",
       "<style scoped>\n",
       "    .dataframe tbody tr th:only-of-type {\n",
       "        vertical-align: middle;\n",
       "    }\n",
       "\n",
       "    .dataframe tbody tr th {\n",
       "        vertical-align: top;\n",
       "    }\n",
       "\n",
       "    .dataframe thead th {\n",
       "        text-align: right;\n",
       "    }\n",
       "</style>\n",
       "<table border=\"1\" class=\"dataframe\">\n",
       "  <thead>\n",
       "    <tr style=\"text-align: right;\">\n",
       "      <th></th>\n",
       "      <th>ID</th>\n",
       "      <th>Education</th>\n",
       "      <th>Marital_Status</th>\n",
       "      <th>Income</th>\n",
       "      <th>Kidhome</th>\n",
       "      <th>Teenhome</th>\n",
       "      <th>Recency</th>\n",
       "      <th>MntWines</th>\n",
       "      <th>MntFruits</th>\n",
       "      <th>MntMeatProducts</th>\n",
       "      <th>MntFishProducts</th>\n",
       "      <th>MntSweetProducts</th>\n",
       "      <th>MntGoldProds</th>\n",
       "      <th>NumDealsPurchases</th>\n",
       "      <th>NumWebPurchases</th>\n",
       "      <th>NumCatalogPurchases</th>\n",
       "      <th>NumStorePurchases</th>\n",
       "      <th>NumWebVisitsMonth</th>\n",
       "      <th>AcceptedCmp3</th>\n",
       "      <th>AcceptedCmp4</th>\n",
       "      <th>AcceptedCmp5</th>\n",
       "      <th>AcceptedCmp1</th>\n",
       "      <th>AcceptedCmp2</th>\n",
       "      <th>Complain</th>\n",
       "      <th>Z_CostContact</th>\n",
       "      <th>Z_Revenue</th>\n",
       "      <th>Response</th>\n",
       "      <th>Year_Customer</th>\n",
       "      <th>DayDiff_Customer</th>\n",
       "      <th>Age</th>\n",
       "      <th>Age_Group</th>\n",
       "    </tr>\n",
       "  </thead>\n",
       "  <tbody>\n",
       "    <tr>\n",
       "      <th>2233</th>\n",
       "      <td>9432</td>\n",
       "      <td>Graduation</td>\n",
       "      <td>Together</td>\n",
       "      <td>666666.0</td>\n",
       "      <td>1</td>\n",
       "      <td>0</td>\n",
       "      <td>23</td>\n",
       "      <td>9</td>\n",
       "      <td>14</td>\n",
       "      <td>18</td>\n",
       "      <td>8</td>\n",
       "      <td>1</td>\n",
       "      <td>12</td>\n",
       "      <td>4</td>\n",
       "      <td>3</td>\n",
       "      <td>1</td>\n",
       "      <td>3</td>\n",
       "      <td>6</td>\n",
       "      <td>0</td>\n",
       "      <td>0</td>\n",
       "      <td>0</td>\n",
       "      <td>0</td>\n",
       "      <td>0</td>\n",
       "      <td>0</td>\n",
       "      <td>3</td>\n",
       "      <td>11</td>\n",
       "      <td>0</td>\n",
       "      <td>10</td>\n",
       "      <td>3639</td>\n",
       "      <td>46</td>\n",
       "      <td>Adult</td>\n",
       "    </tr>\n",
       "  </tbody>\n",
       "</table>\n",
       "</div>"
      ],
      "text/plain": [
       "        ID   Education Marital_Status    Income Kidhome  Teenhome  Recency  \\\n",
       "2233  9432  Graduation       Together  666666.0       1         0       23   \n",
       "\n",
       "      MntWines  MntFruits  MntMeatProducts  MntFishProducts  MntSweetProducts  \\\n",
       "2233         9         14               18                8                 1   \n",
       "\n",
       "      MntGoldProds  NumDealsPurchases  NumWebPurchases  NumCatalogPurchases  \\\n",
       "2233            12                  4                3                    1   \n",
       "\n",
       "      NumStorePurchases  NumWebVisitsMonth  AcceptedCmp3  AcceptedCmp4  \\\n",
       "2233                  3                  6             0             0   \n",
       "\n",
       "      AcceptedCmp5  AcceptedCmp1  AcceptedCmp2  Complain  Z_CostContact  \\\n",
       "2233             0             0             0         0              3   \n",
       "\n",
       "      Z_Revenue  Response  Year_Customer  DayDiff_Customer  Age Age_Group  \n",
       "2233         11         0             10              3639   46     Adult  "
      ]
     },
     "execution_count": 40,
     "metadata": {},
     "output_type": "execute_result"
    }
   ],
   "source": [
    "data[data['Income'] > 300000]"
   ]
  },
  {
   "cell_type": "code",
   "execution_count": 41,
   "id": "b46df8dc",
   "metadata": {
    "execution": {
     "iopub.execute_input": "2023-01-24T17:52:34.284523Z",
     "iopub.status.busy": "2023-01-24T17:52:34.284130Z",
     "iopub.status.idle": "2023-01-24T17:52:34.291898Z",
     "shell.execute_reply": "2023-01-24T17:52:34.291066Z"
    },
    "papermill": {
     "duration": 0.034838,
     "end_time": "2023-01-24T17:52:34.294155",
     "exception": false,
     "start_time": "2023-01-24T17:52:34.259317",
     "status": "completed"
    },
    "tags": []
   },
   "outputs": [],
   "source": [
    "data.drop(index = data[data['Income'] > 300000].index, inplace=True)"
   ]
  },
  {
   "cell_type": "markdown",
   "id": "df480b9a",
   "metadata": {
    "papermill": {
     "duration": 0.023397,
     "end_time": "2023-01-24T17:52:34.341004",
     "exception": false,
     "start_time": "2023-01-24T17:52:34.317607",
     "status": "completed"
    },
    "tags": []
   },
   "source": [
    "A record that contains an outlier value was deleted to better examine the income status."
   ]
  },
  {
   "cell_type": "code",
   "execution_count": 42,
   "id": "1489f4da",
   "metadata": {
    "execution": {
     "iopub.execute_input": "2023-01-24T17:52:34.390582Z",
     "iopub.status.busy": "2023-01-24T17:52:34.389698Z",
     "iopub.status.idle": "2023-01-24T17:52:34.754086Z",
     "shell.execute_reply": "2023-01-24T17:52:34.752646Z"
    },
    "papermill": {
     "duration": 0.392279,
     "end_time": "2023-01-24T17:52:34.756995",
     "exception": false,
     "start_time": "2023-01-24T17:52:34.364716",
     "status": "completed"
    },
    "tags": []
   },
   "outputs": [
    {
     "data": {
      "text/plain": [
       "<seaborn.axisgrid.FacetGrid at 0x7f0acff9afd0>"
      ]
     },
     "execution_count": 42,
     "metadata": {},
     "output_type": "execute_result"
    },
    {
     "data": {
      "image/png": "[encoded data removed]",
      "text/plain": [
       "<Figure size 360x360 with 1 Axes>"
      ]
     },
     "metadata": {
      "needs_background": "light"
     },
     "output_type": "display_data"
    }
   ],
   "source": [
    "sns.catplot(data=data, x=\"Education\", y=\"Income\", kind=\"box\")"
   ]
  },
  {
   "cell_type": "code",
   "execution_count": 43,
   "id": "77002854",
   "metadata": {
    "execution": {
     "iopub.execute_input": "2023-01-24T17:52:34.807114Z",
     "iopub.status.busy": "2023-01-24T17:52:34.806648Z",
     "iopub.status.idle": "2023-01-24T17:52:35.362788Z",
     "shell.execute_reply": "2023-01-24T17:52:35.361508Z"
    },
    "papermill": {
     "duration": 0.584121,
     "end_time": "2023-01-24T17:52:35.365392",
     "exception": false,
     "start_time": "2023-01-24T17:52:34.781271",
     "status": "completed"
    },
    "tags": []
   },
   "outputs": [
    {
     "data": {
      "text/plain": [
       "<seaborn.axisgrid.FacetGrid at 0x7f0acf5b5fd0>"
      ]
     },
     "execution_count": 43,
     "metadata": {},
     "output_type": "execute_result"
    },
    {
     "data": {
      "image/png": "[encoded data removed]",
      "text/plain": [
       "<Figure size 455.125x360 with 1 Axes>"
      ]
     },
     "metadata": {
      "needs_background": "light"
     },
     "output_type": "display_data"
    }
   ],
   "source": [
    "sns.catplot(data=data, x=\"Education\", y=\"Income\", kind=\"box\", hue=\"Age_Group\")"
   ]
  },
  {
   "cell_type": "markdown",
   "id": "73a65516",
   "metadata": {
    "papermill": {
     "duration": 0.025543,
     "end_time": "2023-01-24T17:52:35.416160",
     "exception": false,
     "start_time": "2023-01-24T17:52:35.390617",
     "status": "completed"
    },
    "tags": []
   },
   "source": [
    "On an average basis, the income of the PhD group is higher than the other groups. It is observed that the income status of the Basic group is quite low compared to the other groups."
   ]
  }
 ],
 "metadata": {
  "kernelspec": {
   "display_name": "Python 3",
   "language": "python",
   "name": "python3"
  },
  "language_info": {
   "codemirror_mode": {
    "name": "ipython",
    "version": 3
   },
   "file_extension": ".py",
   "mimetype": "text/x-python",
   "name": "python",
   "nbconvert_exporter": "python",
   "pygments_lexer": "ipython3",
   "version": "3.7.12"
  },
  "papermill": {
   "default_parameters": {},
   "duration": 20.487278,
   "end_time": "2023-01-24T17:52:36.264528",
   "environment_variables": {},
   "exception": null,
   "input_path": "__notebook__.ipynb",
   "output_path": "__notebook__.ipynb",
   "parameters": {},
   "start_time": "2023-01-24T17:52:15.777250",
   "version": "2.3.4"
  }
 },
 "nbformat": 4,
 "nbformat_minor": 5
}
