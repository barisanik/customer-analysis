{
 "cells": [
  {
   "cell_type": "markdown",
   "id": "acb74f25",
   "metadata": {
    "papermill": {
     "duration": 0.016209,
     "end_time": "2023-01-26T23:06:26.302043",
     "exception": false,
     "start_time": "2023-01-26T23:06:26.285834",
     "status": "completed"
    },
    "tags": []
   },
   "source": [
    "<h1>Attributes</h1>\n",
    "<p>\n",
    "    <b>People</b>\n",
    "<hr>\n",
    "<b>ID:</b> Customer's unique identifier<br>\n",
    "<b>Year_Birth:</b> Customer's birth year<br>\n",
    "<b>Education:</b> Customer's education level<br>\n",
    "<b>Marital_Status:</b> Customer's marital status<br>\n",
    "<b>Income:</b> Customer's yearly household income<br>\n",
    "<b>Kidhome:</b> Number of children in customer's household<br>\n",
    "<b>Teenhome:</b> Number of teenagers in customer's household<br>\n",
    "<b>Dt_Customer:</b> Date of customer's enrollment with the company<br>\n",
    "<b>Recency:</b> Number of days since customer's last purchase<br>\n",
    "<b>Complain:</b> 1 if the customer complained in the last 2 years, 0 otherwise\n",
    "<br><br>\n",
    "    <b>Products</b>\n",
    "<hr>\n",
    "<b>MntWines:</b> Amount spent on wine in last 2 years<br>\n",
    "<b>MntFruits:</b> Amount spent on fruits in last 2 years<br>\n",
    "<b>MntMeatProducts:</b> Amount spent on meat in last 2 years<br>\n",
    "<b>MntFishProducts:</b> Amount spent on fish in last 2 years<br>\n",
    "<b>MntSweetProducts:</b> Amount spent on sweets in last 2 years<br>\n",
    "<b>MntGoldProds:</b> Amount spent on gold in last 2 years\n",
    "<br><br>\n",
    "    <b>Promotion</b>\n",
    "<hr>\n",
    "<b>NumDealsPurchases:</b> Number of purchases made with a discount<br>\n",
    "<b>AcceptedCmp1:</b> 1 if customer accepted the offer in the 1st campaign, 0 otherwise<br>\n",
    "<b>AcceptedCmp2:</b> 1 if customer accepted the offer in the 2nd campaign, 0 otherwise<br>\n",
    "<b>AcceptedCmp3:</b> 1 if customer accepted the offer in the 3rd campaign, 0 otherwise<br>\n",
    "<b>AcceptedCmp4:</b> 1 if customer accepted the offer in the 4th campaign, 0 otherwise<br>\n",
    "<b>AcceptedCmp5:</b> 1 if customer accepted the offer in the 5th campaign, 0 otherwise<br>\n",
    "<b>Response:</b> 1 if customer accepted the offer in the last campaign, 0 otherwise\n",
    "<br><br>\n",
    "    <b>Place</b>\n",
    "<hr>\n",
    "<b>NumWebPurchases:</b> Number of purchases made through the company’s website<br>\n",
    "<b>NumCatalogPurchases:</b> Number of purchases made using a catalogue<br>\n",
    "<b>NumStorePurchases:</b> Number of purchases made directly in stores<br>\n",
    "<b>NumWebVisitsMonth:</b> Number of visits to company’s website in the last month<br>\n",
    "</p>"
   ]
  },
  {
   "cell_type": "code",
   "execution_count": 1,
   "id": "ebf7f84e",
   "metadata": {
    "execution": {
     "iopub.execute_input": "2023-01-26T23:06:26.334891Z",
     "iopub.status.busy": "2023-01-26T23:06:26.334342Z",
     "iopub.status.idle": "2023-01-26T23:06:27.547448Z",
     "shell.execute_reply": "2023-01-26T23:06:27.545346Z"
    },
    "papermill": {
     "duration": 1.232605,
     "end_time": "2023-01-26T23:06:27.550417",
     "exception": false,
     "start_time": "2023-01-26T23:06:26.317812",
     "status": "completed"
    },
    "tags": []
   },
   "outputs": [],
   "source": [
    "import pandas as pd\n",
    "import warnings \n",
    "import seaborn as sns\n",
    "import numpy as np\n",
    "import matplotlib.pyplot as plt\n",
    "warnings.filterwarnings('ignore')\n",
    "pd.set_option('display.max_columns', None)"
   ]
  },
  {
   "cell_type": "markdown",
   "id": "c03d8c11",
   "metadata": {
    "papermill": {
     "duration": 0.015413,
     "end_time": "2023-01-26T23:06:27.581666",
     "exception": false,
     "start_time": "2023-01-26T23:06:27.566253",
     "status": "completed"
    },
    "tags": []
   },
   "source": [
    "# Table of Contents\n",
    "\n",
    "* [1. Pre-Processing](#1)\n",
    "* [2. Visualization and Exploratory Analysis](#2)\n"
   ]
  },
  {
   "cell_type": "markdown",
   "id": "05a68e97",
   "metadata": {
    "papermill": {
     "duration": 0.015598,
     "end_time": "2023-01-26T23:06:27.613110",
     "exception": false,
     "start_time": "2023-01-26T23:06:27.597512",
     "status": "completed"
    },
    "tags": []
   },
   "source": [
    "# <p id = \"1\" style=\"font-family:arial;background-color:#2A93D5;color:#FFFFFF;font-size: 150%;text-align:center;border-radius: 0px 15px 15px 0px;border-style: solid;border-color: #2483bf;\">1.PRE-PROCESSING</p>\n",
    "[Click to return Table of Contents](#0)"
   ]
  },
  {
   "cell_type": "code",
   "execution_count": 2,
   "id": "9a6f52fa",
   "metadata": {
    "execution": {
     "iopub.execute_input": "2023-01-26T23:06:27.647076Z",
     "iopub.status.busy": "2023-01-26T23:06:27.646712Z",
     "iopub.status.idle": "2023-01-26T23:06:27.709332Z",
     "shell.execute_reply": "2023-01-26T23:06:27.708442Z"
    },
    "papermill": {
     "duration": 0.082426,
     "end_time": "2023-01-26T23:06:27.711937",
     "exception": false,
     "start_time": "2023-01-26T23:06:27.629511",
     "status": "completed"
    },
    "tags": []
   },
   "outputs": [
    {
     "data": {
      "text/html": [
       "<div>\n",
       "<style scoped>\n",
       "    .dataframe tbody tr th:only-of-type {\n",
       "        vertical-align: middle;\n",
       "    }\n",
       "\n",
       "    .dataframe tbody tr th {\n",
       "        vertical-align: top;\n",
       "    }\n",
       "\n",
       "    .dataframe thead th {\n",
       "        text-align: right;\n",
       "    }\n",
       "</style>\n",
       "<table border=\"1\" class=\"dataframe\">\n",
       "  <thead>\n",
       "    <tr style=\"text-align: right;\">\n",
       "      <th></th>\n",
       "      <th>ID</th>\n",
       "      <th>Year_Birth</th>\n",
       "      <th>Education</th>\n",
       "      <th>Marital_Status</th>\n",
       "      <th>Income</th>\n",
       "      <th>Kidhome</th>\n",
       "      <th>Teenhome</th>\n",
       "      <th>Dt_Customer</th>\n",
       "      <th>Recency</th>\n",
       "      <th>MntWines</th>\n",
       "      <th>MntFruits</th>\n",
       "      <th>MntMeatProducts</th>\n",
       "      <th>MntFishProducts</th>\n",
       "      <th>MntSweetProducts</th>\n",
       "      <th>MntGoldProds</th>\n",
       "      <th>NumDealsPurchases</th>\n",
       "      <th>NumWebPurchases</th>\n",
       "      <th>NumCatalogPurchases</th>\n",
       "      <th>NumStorePurchases</th>\n",
       "      <th>NumWebVisitsMonth</th>\n",
       "      <th>AcceptedCmp3</th>\n",
       "      <th>AcceptedCmp4</th>\n",
       "      <th>AcceptedCmp5</th>\n",
       "      <th>AcceptedCmp1</th>\n",
       "      <th>AcceptedCmp2</th>\n",
       "      <th>Complain</th>\n",
       "      <th>Z_CostContact</th>\n",
       "      <th>Z_Revenue</th>\n",
       "      <th>Response</th>\n",
       "    </tr>\n",
       "  </thead>\n",
       "  <tbody>\n",
       "    <tr>\n",
       "      <th>0</th>\n",
       "      <td>5524</td>\n",
       "      <td>1957</td>\n",
       "      <td>Graduation</td>\n",
       "      <td>Single</td>\n",
       "      <td>58138.0</td>\n",
       "      <td>0</td>\n",
       "      <td>0</td>\n",
       "      <td>04-09-2012</td>\n",
       "      <td>58</td>\n",
       "      <td>635</td>\n",
       "      <td>88</td>\n",
       "      <td>546</td>\n",
       "      <td>172</td>\n",
       "      <td>88</td>\n",
       "      <td>88</td>\n",
       "      <td>3</td>\n",
       "      <td>8</td>\n",
       "      <td>10</td>\n",
       "      <td>4</td>\n",
       "      <td>7</td>\n",
       "      <td>0</td>\n",
       "      <td>0</td>\n",
       "      <td>0</td>\n",
       "      <td>0</td>\n",
       "      <td>0</td>\n",
       "      <td>0</td>\n",
       "      <td>3</td>\n",
       "      <td>11</td>\n",
       "      <td>1</td>\n",
       "    </tr>\n",
       "    <tr>\n",
       "      <th>1</th>\n",
       "      <td>2174</td>\n",
       "      <td>1954</td>\n",
       "      <td>Graduation</td>\n",
       "      <td>Single</td>\n",
       "      <td>46344.0</td>\n",
       "      <td>1</td>\n",
       "      <td>1</td>\n",
       "      <td>08-03-2014</td>\n",
       "      <td>38</td>\n",
       "      <td>11</td>\n",
       "      <td>1</td>\n",
       "      <td>6</td>\n",
       "      <td>2</td>\n",
       "      <td>1</td>\n",
       "      <td>6</td>\n",
       "      <td>2</td>\n",
       "      <td>1</td>\n",
       "      <td>1</td>\n",
       "      <td>2</td>\n",
       "      <td>5</td>\n",
       "      <td>0</td>\n",
       "      <td>0</td>\n",
       "      <td>0</td>\n",
       "      <td>0</td>\n",
       "      <td>0</td>\n",
       "      <td>0</td>\n",
       "      <td>3</td>\n",
       "      <td>11</td>\n",
       "      <td>0</td>\n",
       "    </tr>\n",
       "    <tr>\n",
       "      <th>2</th>\n",
       "      <td>4141</td>\n",
       "      <td>1965</td>\n",
       "      <td>Graduation</td>\n",
       "      <td>Together</td>\n",
       "      <td>71613.0</td>\n",
       "      <td>0</td>\n",
       "      <td>0</td>\n",
       "      <td>21-08-2013</td>\n",
       "      <td>26</td>\n",
       "      <td>426</td>\n",
       "      <td>49</td>\n",
       "      <td>127</td>\n",
       "      <td>111</td>\n",
       "      <td>21</td>\n",
       "      <td>42</td>\n",
       "      <td>1</td>\n",
       "      <td>8</td>\n",
       "      <td>2</td>\n",
       "      <td>10</td>\n",
       "      <td>4</td>\n",
       "      <td>0</td>\n",
       "      <td>0</td>\n",
       "      <td>0</td>\n",
       "      <td>0</td>\n",
       "      <td>0</td>\n",
       "      <td>0</td>\n",
       "      <td>3</td>\n",
       "      <td>11</td>\n",
       "      <td>0</td>\n",
       "    </tr>\n",
       "    <tr>\n",
       "      <th>3</th>\n",
       "      <td>6182</td>\n",
       "      <td>1984</td>\n",
       "      <td>Graduation</td>\n",
       "      <td>Together</td>\n",
       "      <td>26646.0</td>\n",
       "      <td>1</td>\n",
       "      <td>0</td>\n",
       "      <td>10-02-2014</td>\n",
       "      <td>26</td>\n",
       "      <td>11</td>\n",
       "      <td>4</td>\n",
       "      <td>20</td>\n",
       "      <td>10</td>\n",
       "      <td>3</td>\n",
       "      <td>5</td>\n",
       "      <td>2</td>\n",
       "      <td>2</td>\n",
       "      <td>0</td>\n",
       "      <td>4</td>\n",
       "      <td>6</td>\n",
       "      <td>0</td>\n",
       "      <td>0</td>\n",
       "      <td>0</td>\n",
       "      <td>0</td>\n",
       "      <td>0</td>\n",
       "      <td>0</td>\n",
       "      <td>3</td>\n",
       "      <td>11</td>\n",
       "      <td>0</td>\n",
       "    </tr>\n",
       "    <tr>\n",
       "      <th>4</th>\n",
       "      <td>5324</td>\n",
       "      <td>1981</td>\n",
       "      <td>PhD</td>\n",
       "      <td>Married</td>\n",
       "      <td>58293.0</td>\n",
       "      <td>1</td>\n",
       "      <td>0</td>\n",
       "      <td>19-01-2014</td>\n",
       "      <td>94</td>\n",
       "      <td>173</td>\n",
       "      <td>43</td>\n",
       "      <td>118</td>\n",
       "      <td>46</td>\n",
       "      <td>27</td>\n",
       "      <td>15</td>\n",
       "      <td>5</td>\n",
       "      <td>5</td>\n",
       "      <td>3</td>\n",
       "      <td>6</td>\n",
       "      <td>5</td>\n",
       "      <td>0</td>\n",
       "      <td>0</td>\n",
       "      <td>0</td>\n",
       "      <td>0</td>\n",
       "      <td>0</td>\n",
       "      <td>0</td>\n",
       "      <td>3</td>\n",
       "      <td>11</td>\n",
       "      <td>0</td>\n",
       "    </tr>\n",
       "  </tbody>\n",
       "</table>\n",
       "</div>"
      ],
      "text/plain": [
       "     ID  Year_Birth   Education Marital_Status   Income  Kidhome  Teenhome  \\\n",
       "0  5524        1957  Graduation         Single  58138.0        0         0   \n",
       "1  2174        1954  Graduation         Single  46344.0        1         1   \n",
       "2  4141        1965  Graduation       Together  71613.0        0         0   \n",
       "3  6182        1984  Graduation       Together  26646.0        1         0   \n",
       "4  5324        1981         PhD        Married  58293.0        1         0   \n",
       "\n",
       "  Dt_Customer  Recency  MntWines  MntFruits  MntMeatProducts  MntFishProducts  \\\n",
       "0  04-09-2012       58       635         88              546              172   \n",
       "1  08-03-2014       38        11          1                6                2   \n",
       "2  21-08-2013       26       426         49              127              111   \n",
       "3  10-02-2014       26        11          4               20               10   \n",
       "4  19-01-2014       94       173         43              118               46   \n",
       "\n",
       "   MntSweetProducts  MntGoldProds  NumDealsPurchases  NumWebPurchases  \\\n",
       "0                88            88                  3                8   \n",
       "1                 1             6                  2                1   \n",
       "2                21            42                  1                8   \n",
       "3                 3             5                  2                2   \n",
       "4                27            15                  5                5   \n",
       "\n",
       "   NumCatalogPurchases  NumStorePurchases  NumWebVisitsMonth  AcceptedCmp3  \\\n",
       "0                   10                  4                  7             0   \n",
       "1                    1                  2                  5             0   \n",
       "2                    2                 10                  4             0   \n",
       "3                    0                  4                  6             0   \n",
       "4                    3                  6                  5             0   \n",
       "\n",
       "   AcceptedCmp4  AcceptedCmp5  AcceptedCmp1  AcceptedCmp2  Complain  \\\n",
       "0             0             0             0             0         0   \n",
       "1             0             0             0             0         0   \n",
       "2             0             0             0             0         0   \n",
       "3             0             0             0             0         0   \n",
       "4             0             0             0             0         0   \n",
       "\n",
       "   Z_CostContact  Z_Revenue  Response  \n",
       "0              3         11         1  \n",
       "1              3         11         0  \n",
       "2              3         11         0  \n",
       "3              3         11         0  \n",
       "4              3         11         0  "
      ]
     },
     "execution_count": 2,
     "metadata": {},
     "output_type": "execute_result"
    }
   ],
   "source": [
    "data = pd.read_csv('../input/customer-personality-analysis/marketing_campaign.csv', sep='\\t')\n",
    "data.head()"
   ]
  },
  {
   "cell_type": "code",
   "execution_count": 3,
   "id": "43aa830f",
   "metadata": {
    "execution": {
     "iopub.execute_input": "2023-01-26T23:06:27.746202Z",
     "iopub.status.busy": "2023-01-26T23:06:27.745673Z",
     "iopub.status.idle": "2023-01-26T23:06:27.773837Z",
     "shell.execute_reply": "2023-01-26T23:06:27.772934Z"
    },
    "papermill": {
     "duration": 0.047661,
     "end_time": "2023-01-26T23:06:27.775730",
     "exception": false,
     "start_time": "2023-01-26T23:06:27.728069",
     "status": "completed"
    },
    "tags": []
   },
   "outputs": [
    {
     "name": "stdout",
     "output_type": "stream",
     "text": [
      "<class 'pandas.core.frame.DataFrame'>\n",
      "RangeIndex: 2240 entries, 0 to 2239\n",
      "Data columns (total 29 columns):\n",
      " #   Column               Non-Null Count  Dtype  \n",
      "---  ------               --------------  -----  \n",
      " 0   ID                   2240 non-null   int64  \n",
      " 1   Year_Birth           2240 non-null   int64  \n",
      " 2   Education            2240 non-null   object \n",
      " 3   Marital_Status       2240 non-null   object \n",
      " 4   Income               2216 non-null   float64\n",
      " 5   Kidhome              2240 non-null   int64  \n",
      " 6   Teenhome             2240 non-null   int64  \n",
      " 7   Dt_Customer          2240 non-null   object \n",
      " 8   Recency              2240 non-null   int64  \n",
      " 9   MntWines             2240 non-null   int64  \n",
      " 10  MntFruits            2240 non-null   int64  \n",
      " 11  MntMeatProducts      2240 non-null   int64  \n",
      " 12  MntFishProducts      2240 non-null   int64  \n",
      " 13  MntSweetProducts     2240 non-null   int64  \n",
      " 14  MntGoldProds         2240 non-null   int64  \n",
      " 15  NumDealsPurchases    2240 non-null   int64  \n",
      " 16  NumWebPurchases      2240 non-null   int64  \n",
      " 17  NumCatalogPurchases  2240 non-null   int64  \n",
      " 18  NumStorePurchases    2240 non-null   int64  \n",
      " 19  NumWebVisitsMonth    2240 non-null   int64  \n",
      " 20  AcceptedCmp3         2240 non-null   int64  \n",
      " 21  AcceptedCmp4         2240 non-null   int64  \n",
      " 22  AcceptedCmp5         2240 non-null   int64  \n",
      " 23  AcceptedCmp1         2240 non-null   int64  \n",
      " 24  AcceptedCmp2         2240 non-null   int64  \n",
      " 25  Complain             2240 non-null   int64  \n",
      " 26  Z_CostContact        2240 non-null   int64  \n",
      " 27  Z_Revenue            2240 non-null   int64  \n",
      " 28  Response             2240 non-null   int64  \n",
      "dtypes: float64(1), int64(25), object(3)\n",
      "memory usage: 507.6+ KB\n"
     ]
    }
   ],
   "source": [
    "data.info()"
   ]
  },
  {
   "cell_type": "markdown",
   "id": "b5429555",
   "metadata": {
    "papermill": {
     "duration": 0.015472,
     "end_time": "2023-01-26T23:06:27.806844",
     "exception": false,
     "start_time": "2023-01-26T23:06:27.791372",
     "status": "completed"
    },
    "tags": []
   },
   "source": [
    "**Checks the null distribution between columns:**"
   ]
  },
  {
   "cell_type": "code",
   "execution_count": 4,
   "id": "2484c3ff",
   "metadata": {
    "execution": {
     "iopub.execute_input": "2023-01-26T23:06:27.840192Z",
     "iopub.status.busy": "2023-01-26T23:06:27.839653Z",
     "iopub.status.idle": "2023-01-26T23:06:27.848000Z",
     "shell.execute_reply": "2023-01-26T23:06:27.847161Z"
    },
    "papermill": {
     "duration": 0.02737,
     "end_time": "2023-01-26T23:06:27.849715",
     "exception": false,
     "start_time": "2023-01-26T23:06:27.822345",
     "status": "completed"
    },
    "tags": []
   },
   "outputs": [
    {
     "data": {
      "text/plain": [
       "ID                      0\n",
       "Year_Birth              0\n",
       "Education               0\n",
       "Marital_Status          0\n",
       "Income                 24\n",
       "Kidhome                 0\n",
       "Teenhome                0\n",
       "Dt_Customer             0\n",
       "Recency                 0\n",
       "MntWines                0\n",
       "MntFruits               0\n",
       "MntMeatProducts         0\n",
       "MntFishProducts         0\n",
       "MntSweetProducts        0\n",
       "MntGoldProds            0\n",
       "NumDealsPurchases       0\n",
       "NumWebPurchases         0\n",
       "NumCatalogPurchases     0\n",
       "NumStorePurchases       0\n",
       "NumWebVisitsMonth       0\n",
       "AcceptedCmp3            0\n",
       "AcceptedCmp4            0\n",
       "AcceptedCmp5            0\n",
       "AcceptedCmp1            0\n",
       "AcceptedCmp2            0\n",
       "Complain                0\n",
       "Z_CostContact           0\n",
       "Z_Revenue               0\n",
       "Response                0\n",
       "dtype: int64"
      ]
     },
     "execution_count": 4,
     "metadata": {},
     "output_type": "execute_result"
    }
   ],
   "source": [
    "data.isna().sum()"
   ]
  },
  {
   "cell_type": "markdown",
   "id": "dc26b715",
   "metadata": {
    "papermill": {
     "duration": 0.015457,
     "end_time": "2023-01-26T23:06:27.880722",
     "exception": false,
     "start_time": "2023-01-26T23:06:27.865265",
     "status": "completed"
    },
    "tags": []
   },
   "source": [
    "**Drops the rows with null values:**"
   ]
  },
  {
   "cell_type": "code",
   "execution_count": 5,
   "id": "5b52b536",
   "metadata": {
    "execution": {
     "iopub.execute_input": "2023-01-26T23:06:27.914498Z",
     "iopub.status.busy": "2023-01-26T23:06:27.914000Z",
     "iopub.status.idle": "2023-01-26T23:06:27.922313Z",
     "shell.execute_reply": "2023-01-26T23:06:27.921166Z"
    },
    "papermill": {
     "duration": 0.027857,
     "end_time": "2023-01-26T23:06:27.924616",
     "exception": false,
     "start_time": "2023-01-26T23:06:27.896759",
     "status": "completed"
    },
    "tags": []
   },
   "outputs": [],
   "source": [
    "data.drop(index=(data[data['Income'].isna()].index), axis = 0, inplace=True)"
   ]
  },
  {
   "cell_type": "markdown",
   "id": "e80ca6b2",
   "metadata": {
    "papermill": {
     "duration": 0.014985,
     "end_time": "2023-01-26T23:06:27.954972",
     "exception": false,
     "start_time": "2023-01-26T23:06:27.939987",
     "status": "completed"
    },
    "tags": []
   },
   "source": [
    "**Conversion of column type:**"
   ]
  },
  {
   "cell_type": "code",
   "execution_count": 6,
   "id": "02cc3c52",
   "metadata": {
    "execution": {
     "iopub.execute_input": "2023-01-26T23:06:27.988096Z",
     "iopub.status.busy": "2023-01-26T23:06:27.987543Z",
     "iopub.status.idle": "2023-01-26T23:06:27.998374Z",
     "shell.execute_reply": "2023-01-26T23:06:27.997639Z"
    },
    "papermill": {
     "duration": 0.030324,
     "end_time": "2023-01-26T23:06:28.000566",
     "exception": false,
     "start_time": "2023-01-26T23:06:27.970242",
     "status": "completed"
    },
    "tags": []
   },
   "outputs": [],
   "source": [
    "from pandas.api.types import CategoricalDtype\n",
    "education_ordered= CategoricalDtype(categories=['Basic','2n Cycle','Graduation', 'Master', 'PhD'], ordered=True)\n",
    "data['Education'] = data['Education'].astype(education_ordered)\n",
    "data['Dt_Customer'] = pd.to_datetime(data['Dt_Customer'])"
   ]
  },
  {
   "cell_type": "markdown",
   "id": "7ce97858",
   "metadata": {
    "papermill": {
     "duration": 0.020679,
     "end_time": "2023-01-26T23:06:28.036924",
     "exception": false,
     "start_time": "2023-01-26T23:06:28.016245",
     "status": "completed"
    },
    "tags": []
   },
   "source": [
    "**Calculating the year and day difference with Dt_Customer column.**"
   ]
  },
  {
   "cell_type": "code",
   "execution_count": 7,
   "id": "3da8f222",
   "metadata": {
    "execution": {
     "iopub.execute_input": "2023-01-26T23:06:28.074653Z",
     "iopub.status.busy": "2023-01-26T23:06:28.074262Z",
     "iopub.status.idle": "2023-01-26T23:06:28.078640Z",
     "shell.execute_reply": "2023-01-26T23:06:28.077878Z"
    },
    "papermill": {
     "duration": 0.023248,
     "end_time": "2023-01-26T23:06:28.080273",
     "exception": false,
     "start_time": "2023-01-26T23:06:28.057025",
     "status": "completed"
    },
    "tags": []
   },
   "outputs": [],
   "source": [
    "from datetime import datetime\n",
    "currentYear = datetime.now().year"
   ]
  },
  {
   "cell_type": "code",
   "execution_count": 8,
   "id": "0755e5da",
   "metadata": {
    "execution": {
     "iopub.execute_input": "2023-01-26T23:06:28.113107Z",
     "iopub.status.busy": "2023-01-26T23:06:28.112466Z",
     "iopub.status.idle": "2023-01-26T23:06:28.151514Z",
     "shell.execute_reply": "2023-01-26T23:06:28.150836Z"
    },
    "papermill": {
     "duration": 0.057929,
     "end_time": "2023-01-26T23:06:28.153809",
     "exception": false,
     "start_time": "2023-01-26T23:06:28.095880",
     "status": "completed"
    },
    "tags": []
   },
   "outputs": [],
   "source": [
    "data['Year_Customer'] = data['Dt_Customer'].dt.year.apply(lambda x : currentYear - x)\n",
    "data['DayDiff_Customer'] = data['Dt_Customer'].apply(lambda x : datetime.now() - x)\n",
    "data['DayDiff_Customer'] = data['DayDiff_Customer'].dt.days\n",
    "data.drop(['Dt_Customer'], axis = 1, inplace = True)"
   ]
  },
  {
   "cell_type": "markdown",
   "id": "b442d2f1",
   "metadata": {
    "papermill": {
     "duration": 0.015195,
     "end_time": "2023-01-26T23:06:28.184419",
     "exception": false,
     "start_time": "2023-01-26T23:06:28.169224",
     "status": "completed"
    },
    "tags": []
   },
   "source": [
    "<hr>\n",
    "\n",
    "# Age Variable"
   ]
  },
  {
   "cell_type": "markdown",
   "id": "a44ee19f",
   "metadata": {
    "papermill": {
     "duration": 0.01494,
     "end_time": "2023-01-26T23:06:28.214749",
     "exception": false,
     "start_time": "2023-01-26T23:06:28.199809",
     "status": "completed"
    },
    "tags": []
   },
   "source": [
    "**Calculates the age of every customer and drops the Year_Birth column:**"
   ]
  },
  {
   "cell_type": "code",
   "execution_count": 9,
   "id": "fb94e996",
   "metadata": {
    "execution": {
     "iopub.execute_input": "2023-01-26T23:06:28.247307Z",
     "iopub.status.busy": "2023-01-26T23:06:28.246676Z",
     "iopub.status.idle": "2023-01-26T23:06:28.271436Z",
     "shell.execute_reply": "2023-01-26T23:06:28.269936Z"
    },
    "papermill": {
     "duration": 0.043874,
     "end_time": "2023-01-26T23:06:28.273916",
     "exception": false,
     "start_time": "2023-01-26T23:06:28.230042",
     "status": "completed"
    },
    "tags": []
   },
   "outputs": [
    {
     "data": {
      "text/html": [
       "<div>\n",
       "<style scoped>\n",
       "    .dataframe tbody tr th:only-of-type {\n",
       "        vertical-align: middle;\n",
       "    }\n",
       "\n",
       "    .dataframe tbody tr th {\n",
       "        vertical-align: top;\n",
       "    }\n",
       "\n",
       "    .dataframe thead th {\n",
       "        text-align: right;\n",
       "    }\n",
       "</style>\n",
       "<table border=\"1\" class=\"dataframe\">\n",
       "  <thead>\n",
       "    <tr style=\"text-align: right;\">\n",
       "      <th></th>\n",
       "      <th>ID</th>\n",
       "      <th>Education</th>\n",
       "      <th>Marital_Status</th>\n",
       "      <th>Income</th>\n",
       "      <th>Kidhome</th>\n",
       "      <th>Teenhome</th>\n",
       "      <th>Recency</th>\n",
       "      <th>MntWines</th>\n",
       "      <th>MntFruits</th>\n",
       "      <th>MntMeatProducts</th>\n",
       "      <th>MntFishProducts</th>\n",
       "      <th>MntSweetProducts</th>\n",
       "      <th>MntGoldProds</th>\n",
       "      <th>NumDealsPurchases</th>\n",
       "      <th>NumWebPurchases</th>\n",
       "      <th>NumCatalogPurchases</th>\n",
       "      <th>NumStorePurchases</th>\n",
       "      <th>NumWebVisitsMonth</th>\n",
       "      <th>AcceptedCmp3</th>\n",
       "      <th>AcceptedCmp4</th>\n",
       "      <th>AcceptedCmp5</th>\n",
       "      <th>AcceptedCmp1</th>\n",
       "      <th>AcceptedCmp2</th>\n",
       "      <th>Complain</th>\n",
       "      <th>Z_CostContact</th>\n",
       "      <th>Z_Revenue</th>\n",
       "      <th>Response</th>\n",
       "      <th>Year_Customer</th>\n",
       "      <th>DayDiff_Customer</th>\n",
       "      <th>Age</th>\n",
       "    </tr>\n",
       "  </thead>\n",
       "  <tbody>\n",
       "    <tr>\n",
       "      <th>0</th>\n",
       "      <td>5524</td>\n",
       "      <td>Graduation</td>\n",
       "      <td>Single</td>\n",
       "      <td>58138.0</td>\n",
       "      <td>0</td>\n",
       "      <td>0</td>\n",
       "      <td>58</td>\n",
       "      <td>635</td>\n",
       "      <td>88</td>\n",
       "      <td>546</td>\n",
       "      <td>172</td>\n",
       "      <td>88</td>\n",
       "      <td>88</td>\n",
       "      <td>3</td>\n",
       "      <td>8</td>\n",
       "      <td>10</td>\n",
       "      <td>4</td>\n",
       "      <td>7</td>\n",
       "      <td>0</td>\n",
       "      <td>0</td>\n",
       "      <td>0</td>\n",
       "      <td>0</td>\n",
       "      <td>0</td>\n",
       "      <td>0</td>\n",
       "      <td>3</td>\n",
       "      <td>11</td>\n",
       "      <td>1</td>\n",
       "      <td>11</td>\n",
       "      <td>3944</td>\n",
       "      <td>66</td>\n",
       "    </tr>\n",
       "    <tr>\n",
       "      <th>1</th>\n",
       "      <td>2174</td>\n",
       "      <td>Graduation</td>\n",
       "      <td>Single</td>\n",
       "      <td>46344.0</td>\n",
       "      <td>1</td>\n",
       "      <td>1</td>\n",
       "      <td>38</td>\n",
       "      <td>11</td>\n",
       "      <td>1</td>\n",
       "      <td>6</td>\n",
       "      <td>2</td>\n",
       "      <td>1</td>\n",
       "      <td>6</td>\n",
       "      <td>2</td>\n",
       "      <td>1</td>\n",
       "      <td>1</td>\n",
       "      <td>2</td>\n",
       "      <td>5</td>\n",
       "      <td>0</td>\n",
       "      <td>0</td>\n",
       "      <td>0</td>\n",
       "      <td>0</td>\n",
       "      <td>0</td>\n",
       "      <td>0</td>\n",
       "      <td>3</td>\n",
       "      <td>11</td>\n",
       "      <td>0</td>\n",
       "      <td>9</td>\n",
       "      <td>3098</td>\n",
       "      <td>69</td>\n",
       "    </tr>\n",
       "    <tr>\n",
       "      <th>2</th>\n",
       "      <td>4141</td>\n",
       "      <td>Graduation</td>\n",
       "      <td>Together</td>\n",
       "      <td>71613.0</td>\n",
       "      <td>0</td>\n",
       "      <td>0</td>\n",
       "      <td>26</td>\n",
       "      <td>426</td>\n",
       "      <td>49</td>\n",
       "      <td>127</td>\n",
       "      <td>111</td>\n",
       "      <td>21</td>\n",
       "      <td>42</td>\n",
       "      <td>1</td>\n",
       "      <td>8</td>\n",
       "      <td>2</td>\n",
       "      <td>10</td>\n",
       "      <td>4</td>\n",
       "      <td>0</td>\n",
       "      <td>0</td>\n",
       "      <td>0</td>\n",
       "      <td>0</td>\n",
       "      <td>0</td>\n",
       "      <td>0</td>\n",
       "      <td>3</td>\n",
       "      <td>11</td>\n",
       "      <td>0</td>\n",
       "      <td>10</td>\n",
       "      <td>3445</td>\n",
       "      <td>58</td>\n",
       "    </tr>\n",
       "    <tr>\n",
       "      <th>3</th>\n",
       "      <td>6182</td>\n",
       "      <td>Graduation</td>\n",
       "      <td>Together</td>\n",
       "      <td>26646.0</td>\n",
       "      <td>1</td>\n",
       "      <td>0</td>\n",
       "      <td>26</td>\n",
       "      <td>11</td>\n",
       "      <td>4</td>\n",
       "      <td>20</td>\n",
       "      <td>10</td>\n",
       "      <td>3</td>\n",
       "      <td>5</td>\n",
       "      <td>2</td>\n",
       "      <td>2</td>\n",
       "      <td>0</td>\n",
       "      <td>4</td>\n",
       "      <td>6</td>\n",
       "      <td>0</td>\n",
       "      <td>0</td>\n",
       "      <td>0</td>\n",
       "      <td>0</td>\n",
       "      <td>0</td>\n",
       "      <td>0</td>\n",
       "      <td>3</td>\n",
       "      <td>11</td>\n",
       "      <td>0</td>\n",
       "      <td>9</td>\n",
       "      <td>3038</td>\n",
       "      <td>39</td>\n",
       "    </tr>\n",
       "    <tr>\n",
       "      <th>4</th>\n",
       "      <td>5324</td>\n",
       "      <td>PhD</td>\n",
       "      <td>Married</td>\n",
       "      <td>58293.0</td>\n",
       "      <td>1</td>\n",
       "      <td>0</td>\n",
       "      <td>94</td>\n",
       "      <td>173</td>\n",
       "      <td>43</td>\n",
       "      <td>118</td>\n",
       "      <td>46</td>\n",
       "      <td>27</td>\n",
       "      <td>15</td>\n",
       "      <td>5</td>\n",
       "      <td>5</td>\n",
       "      <td>3</td>\n",
       "      <td>6</td>\n",
       "      <td>5</td>\n",
       "      <td>0</td>\n",
       "      <td>0</td>\n",
       "      <td>0</td>\n",
       "      <td>0</td>\n",
       "      <td>0</td>\n",
       "      <td>0</td>\n",
       "      <td>3</td>\n",
       "      <td>11</td>\n",
       "      <td>0</td>\n",
       "      <td>9</td>\n",
       "      <td>3294</td>\n",
       "      <td>42</td>\n",
       "    </tr>\n",
       "  </tbody>\n",
       "</table>\n",
       "</div>"
      ],
      "text/plain": [
       "     ID   Education Marital_Status   Income  Kidhome  Teenhome  Recency  \\\n",
       "0  5524  Graduation         Single  58138.0        0         0       58   \n",
       "1  2174  Graduation         Single  46344.0        1         1       38   \n",
       "2  4141  Graduation       Together  71613.0        0         0       26   \n",
       "3  6182  Graduation       Together  26646.0        1         0       26   \n",
       "4  5324         PhD        Married  58293.0        1         0       94   \n",
       "\n",
       "   MntWines  MntFruits  MntMeatProducts  MntFishProducts  MntSweetProducts  \\\n",
       "0       635         88              546              172                88   \n",
       "1        11          1                6                2                 1   \n",
       "2       426         49              127              111                21   \n",
       "3        11          4               20               10                 3   \n",
       "4       173         43              118               46                27   \n",
       "\n",
       "   MntGoldProds  NumDealsPurchases  NumWebPurchases  NumCatalogPurchases  \\\n",
       "0            88                  3                8                   10   \n",
       "1             6                  2                1                    1   \n",
       "2            42                  1                8                    2   \n",
       "3             5                  2                2                    0   \n",
       "4            15                  5                5                    3   \n",
       "\n",
       "   NumStorePurchases  NumWebVisitsMonth  AcceptedCmp3  AcceptedCmp4  \\\n",
       "0                  4                  7             0             0   \n",
       "1                  2                  5             0             0   \n",
       "2                 10                  4             0             0   \n",
       "3                  4                  6             0             0   \n",
       "4                  6                  5             0             0   \n",
       "\n",
       "   AcceptedCmp5  AcceptedCmp1  AcceptedCmp2  Complain  Z_CostContact  \\\n",
       "0             0             0             0         0              3   \n",
       "1             0             0             0         0              3   \n",
       "2             0             0             0         0              3   \n",
       "3             0             0             0         0              3   \n",
       "4             0             0             0         0              3   \n",
       "\n",
       "   Z_Revenue  Response  Year_Customer  DayDiff_Customer  Age  \n",
       "0         11         1             11              3944   66  \n",
       "1         11         0              9              3098   69  \n",
       "2         11         0             10              3445   58  \n",
       "3         11         0              9              3038   39  \n",
       "4         11         0              9              3294   42  "
      ]
     },
     "execution_count": 9,
     "metadata": {},
     "output_type": "execute_result"
    }
   ],
   "source": [
    "data['Age'] = data['Year_Birth'].apply(lambda x : currentYear - x)\n",
    "# Drops the Year_Birth column\n",
    "data.drop(['Year_Birth'], axis = 1, inplace = True)\n",
    "data.head()"
   ]
  },
  {
   "cell_type": "markdown",
   "id": "38c0e94f",
   "metadata": {
    "papermill": {
     "duration": 0.015931,
     "end_time": "2023-01-26T23:06:28.306003",
     "exception": false,
     "start_time": "2023-01-26T23:06:28.290072",
     "status": "completed"
    },
    "tags": []
   },
   "source": [
    "**The distribution of Age variable:**"
   ]
  },
  {
   "cell_type": "code",
   "execution_count": 10,
   "id": "6d26b65e",
   "metadata": {
    "execution": {
     "iopub.execute_input": "2023-01-26T23:06:28.340790Z",
     "iopub.status.busy": "2023-01-26T23:06:28.339484Z",
     "iopub.status.idle": "2023-01-26T23:06:28.556279Z",
     "shell.execute_reply": "2023-01-26T23:06:28.554422Z"
    },
    "papermill": {
     "duration": 0.237246,
     "end_time": "2023-01-26T23:06:28.559328",
     "exception": false,
     "start_time": "2023-01-26T23:06:28.322082",
     "status": "completed"
    },
    "tags": []
   },
   "outputs": [
    {
     "data": {
      "text/plain": [
       "<AxesSubplot:xlabel='Age', ylabel='Count'>"
      ]
     },
     "execution_count": 10,
     "metadata": {},
     "output_type": "execute_result"
    },
    {
     "data": {
      "image/png": "[encoded data removed]",
      "text/plain": [
       "<Figure size 432x288 with 1 Axes>"
      ]
     },
     "metadata": {
      "needs_background": "light"
     },
     "output_type": "display_data"
    }
   ],
   "source": [
    "sns.histplot(data['Age'], bins=10)"
   ]
  },
  {
   "cell_type": "markdown",
   "id": "d3ee04a5",
   "metadata": {
    "papermill": {
     "duration": 0.015647,
     "end_time": "2023-01-26T23:06:28.591150",
     "exception": false,
     "start_time": "2023-01-26T23:06:28.575503",
     "status": "completed"
    },
    "tags": []
   },
   "source": [
    "**The age distribution rounds around 50. There are some outliers above 100.**"
   ]
  },
  {
   "cell_type": "code",
   "execution_count": 11,
   "id": "921e1859",
   "metadata": {
    "execution": {
     "iopub.execute_input": "2023-01-26T23:06:28.628307Z",
     "iopub.status.busy": "2023-01-26T23:06:28.627919Z",
     "iopub.status.idle": "2023-01-26T23:06:28.636758Z",
     "shell.execute_reply": "2023-01-26T23:06:28.635602Z"
    },
    "papermill": {
     "duration": 0.030611,
     "end_time": "2023-01-26T23:06:28.639230",
     "exception": false,
     "start_time": "2023-01-26T23:06:28.608619",
     "status": "completed"
    },
    "tags": []
   },
   "outputs": [
    {
     "data": {
      "text/plain": [
       "130"
      ]
     },
     "execution_count": 11,
     "metadata": {},
     "output_type": "execute_result"
    }
   ],
   "source": [
    "data['Age'].max()"
   ]
  },
  {
   "cell_type": "code",
   "execution_count": 12,
   "id": "243c8d23",
   "metadata": {
    "execution": {
     "iopub.execute_input": "2023-01-26T23:06:28.677785Z",
     "iopub.status.busy": "2023-01-26T23:06:28.676406Z",
     "iopub.status.idle": "2023-01-26T23:06:28.699404Z",
     "shell.execute_reply": "2023-01-26T23:06:28.697436Z"
    },
    "papermill": {
     "duration": 0.045111,
     "end_time": "2023-01-26T23:06:28.702219",
     "exception": false,
     "start_time": "2023-01-26T23:06:28.657108",
     "status": "completed"
    },
    "tags": []
   },
   "outputs": [
    {
     "data": {
      "text/html": [
       "<div>\n",
       "<style scoped>\n",
       "    .dataframe tbody tr th:only-of-type {\n",
       "        vertical-align: middle;\n",
       "    }\n",
       "\n",
       "    .dataframe tbody tr th {\n",
       "        vertical-align: top;\n",
       "    }\n",
       "\n",
       "    .dataframe thead th {\n",
       "        text-align: right;\n",
       "    }\n",
       "</style>\n",
       "<table border=\"1\" class=\"dataframe\">\n",
       "  <thead>\n",
       "    <tr style=\"text-align: right;\">\n",
       "      <th></th>\n",
       "      <th>ID</th>\n",
       "      <th>Education</th>\n",
       "      <th>Marital_Status</th>\n",
       "      <th>Income</th>\n",
       "      <th>Kidhome</th>\n",
       "      <th>Teenhome</th>\n",
       "      <th>Recency</th>\n",
       "      <th>MntWines</th>\n",
       "      <th>MntFruits</th>\n",
       "      <th>MntMeatProducts</th>\n",
       "      <th>MntFishProducts</th>\n",
       "      <th>MntSweetProducts</th>\n",
       "      <th>MntGoldProds</th>\n",
       "      <th>NumDealsPurchases</th>\n",
       "      <th>NumWebPurchases</th>\n",
       "      <th>NumCatalogPurchases</th>\n",
       "      <th>NumStorePurchases</th>\n",
       "      <th>NumWebVisitsMonth</th>\n",
       "      <th>AcceptedCmp3</th>\n",
       "      <th>AcceptedCmp4</th>\n",
       "      <th>AcceptedCmp5</th>\n",
       "      <th>AcceptedCmp1</th>\n",
       "      <th>AcceptedCmp2</th>\n",
       "      <th>Complain</th>\n",
       "      <th>Z_CostContact</th>\n",
       "      <th>Z_Revenue</th>\n",
       "      <th>Response</th>\n",
       "      <th>Year_Customer</th>\n",
       "      <th>DayDiff_Customer</th>\n",
       "      <th>Age</th>\n",
       "    </tr>\n",
       "  </thead>\n",
       "  <tbody>\n",
       "    <tr>\n",
       "      <th>192</th>\n",
       "      <td>7829</td>\n",
       "      <td>2n Cycle</td>\n",
       "      <td>Divorced</td>\n",
       "      <td>36640.0</td>\n",
       "      <td>1</td>\n",
       "      <td>0</td>\n",
       "      <td>99</td>\n",
       "      <td>15</td>\n",
       "      <td>6</td>\n",
       "      <td>8</td>\n",
       "      <td>7</td>\n",
       "      <td>4</td>\n",
       "      <td>25</td>\n",
       "      <td>1</td>\n",
       "      <td>2</td>\n",
       "      <td>1</td>\n",
       "      <td>2</td>\n",
       "      <td>5</td>\n",
       "      <td>0</td>\n",
       "      <td>0</td>\n",
       "      <td>0</td>\n",
       "      <td>0</td>\n",
       "      <td>0</td>\n",
       "      <td>1</td>\n",
       "      <td>3</td>\n",
       "      <td>11</td>\n",
       "      <td>0</td>\n",
       "      <td>10</td>\n",
       "      <td>3409</td>\n",
       "      <td>123</td>\n",
       "    </tr>\n",
       "    <tr>\n",
       "      <th>239</th>\n",
       "      <td>11004</td>\n",
       "      <td>2n Cycle</td>\n",
       "      <td>Single</td>\n",
       "      <td>60182.0</td>\n",
       "      <td>0</td>\n",
       "      <td>1</td>\n",
       "      <td>23</td>\n",
       "      <td>8</td>\n",
       "      <td>0</td>\n",
       "      <td>5</td>\n",
       "      <td>7</td>\n",
       "      <td>0</td>\n",
       "      <td>2</td>\n",
       "      <td>1</td>\n",
       "      <td>1</td>\n",
       "      <td>0</td>\n",
       "      <td>2</td>\n",
       "      <td>4</td>\n",
       "      <td>0</td>\n",
       "      <td>0</td>\n",
       "      <td>0</td>\n",
       "      <td>0</td>\n",
       "      <td>0</td>\n",
       "      <td>0</td>\n",
       "      <td>3</td>\n",
       "      <td>11</td>\n",
       "      <td>0</td>\n",
       "      <td>9</td>\n",
       "      <td>3176</td>\n",
       "      <td>130</td>\n",
       "    </tr>\n",
       "    <tr>\n",
       "      <th>339</th>\n",
       "      <td>1150</td>\n",
       "      <td>PhD</td>\n",
       "      <td>Together</td>\n",
       "      <td>83532.0</td>\n",
       "      <td>0</td>\n",
       "      <td>0</td>\n",
       "      <td>36</td>\n",
       "      <td>755</td>\n",
       "      <td>144</td>\n",
       "      <td>562</td>\n",
       "      <td>104</td>\n",
       "      <td>64</td>\n",
       "      <td>224</td>\n",
       "      <td>1</td>\n",
       "      <td>4</td>\n",
       "      <td>6</td>\n",
       "      <td>4</td>\n",
       "      <td>1</td>\n",
       "      <td>0</td>\n",
       "      <td>0</td>\n",
       "      <td>1</td>\n",
       "      <td>0</td>\n",
       "      <td>0</td>\n",
       "      <td>0</td>\n",
       "      <td>3</td>\n",
       "      <td>11</td>\n",
       "      <td>0</td>\n",
       "      <td>10</td>\n",
       "      <td>3409</td>\n",
       "      <td>124</td>\n",
       "    </tr>\n",
       "  </tbody>\n",
       "</table>\n",
       "</div>"
      ],
      "text/plain": [
       "        ID Education Marital_Status   Income  Kidhome  Teenhome  Recency  \\\n",
       "192   7829  2n Cycle       Divorced  36640.0        1         0       99   \n",
       "239  11004  2n Cycle         Single  60182.0        0         1       23   \n",
       "339   1150       PhD       Together  83532.0        0         0       36   \n",
       "\n",
       "     MntWines  MntFruits  MntMeatProducts  MntFishProducts  MntSweetProducts  \\\n",
       "192        15          6                8                7                 4   \n",
       "239         8          0                5                7                 0   \n",
       "339       755        144              562              104                64   \n",
       "\n",
       "     MntGoldProds  NumDealsPurchases  NumWebPurchases  NumCatalogPurchases  \\\n",
       "192            25                  1                2                    1   \n",
       "239             2                  1                1                    0   \n",
       "339           224                  1                4                    6   \n",
       "\n",
       "     NumStorePurchases  NumWebVisitsMonth  AcceptedCmp3  AcceptedCmp4  \\\n",
       "192                  2                  5             0             0   \n",
       "239                  2                  4             0             0   \n",
       "339                  4                  1             0             0   \n",
       "\n",
       "     AcceptedCmp5  AcceptedCmp1  AcceptedCmp2  Complain  Z_CostContact  \\\n",
       "192             0             0             0         1              3   \n",
       "239             0             0             0         0              3   \n",
       "339             1             0             0         0              3   \n",
       "\n",
       "     Z_Revenue  Response  Year_Customer  DayDiff_Customer  Age  \n",
       "192         11         0             10              3409  123  \n",
       "239         11         0              9              3176  130  \n",
       "339         11         0             10              3409  124  "
      ]
     },
     "execution_count": 12,
     "metadata": {},
     "output_type": "execute_result"
    }
   ],
   "source": [
    "data[data['Age'] > 100]"
   ]
  },
  {
   "cell_type": "markdown",
   "id": "c2eb46ce",
   "metadata": {
    "papermill": {
     "duration": 0.017257,
     "end_time": "2023-01-26T23:06:28.737132",
     "exception": false,
     "start_time": "2023-01-26T23:06:28.719875",
     "status": "completed"
    },
    "tags": []
   },
   "source": [
    "**Because of that the age group does not frequent, it could be removed from dataset to make the feature model work well.**\n",
    "\n",
    "**The code below drops the customers which is over the age of 100:**"
   ]
  },
  {
   "cell_type": "code",
   "execution_count": 13,
   "id": "bc445956",
   "metadata": {
    "execution": {
     "iopub.execute_input": "2023-01-26T23:06:28.774688Z",
     "iopub.status.busy": "2023-01-26T23:06:28.774100Z",
     "iopub.status.idle": "2023-01-26T23:06:28.779738Z",
     "shell.execute_reply": "2023-01-26T23:06:28.779007Z"
    },
    "papermill": {
     "duration": 0.02873,
     "end_time": "2023-01-26T23:06:28.782132",
     "exception": false,
     "start_time": "2023-01-26T23:06:28.753402",
     "status": "completed"
    },
    "tags": []
   },
   "outputs": [],
   "source": [
    "data.drop(index=(data[data['Age'] > 100].index), axis = 0, inplace=True)"
   ]
  },
  {
   "cell_type": "markdown",
   "id": "ece752e0",
   "metadata": {
    "papermill": {
     "duration": 0.017476,
     "end_time": "2023-01-26T23:06:28.816640",
     "exception": false,
     "start_time": "2023-01-26T23:06:28.799164",
     "status": "completed"
    },
    "tags": []
   },
   "source": [
    "**Setting ticks for X axis of age distribution histogram:**"
   ]
  },
  {
   "cell_type": "code",
   "execution_count": 14,
   "id": "4249b190",
   "metadata": {
    "execution": {
     "iopub.execute_input": "2023-01-26T23:06:28.852008Z",
     "iopub.status.busy": "2023-01-26T23:06:28.851671Z",
     "iopub.status.idle": "2023-01-26T23:06:28.859746Z",
     "shell.execute_reply": "2023-01-26T23:06:28.858839Z"
    },
    "papermill": {
     "duration": 0.028122,
     "end_time": "2023-01-26T23:06:28.861569",
     "exception": false,
     "start_time": "2023-01-26T23:06:28.833447",
     "status": "completed"
    },
    "tags": []
   },
   "outputs": [
    {
     "data": {
      "text/plain": [
       "25"
      ]
     },
     "execution_count": 14,
     "metadata": {},
     "output_type": "execute_result"
    }
   ],
   "source": [
    "minAgeTick = int(data['Age'].min() - (data['Age'].min() % 5))\n",
    "minAgeTick"
   ]
  },
  {
   "cell_type": "code",
   "execution_count": 15,
   "id": "03baf595",
   "metadata": {
    "execution": {
     "iopub.execute_input": "2023-01-26T23:06:28.899415Z",
     "iopub.status.busy": "2023-01-26T23:06:28.898819Z",
     "iopub.status.idle": "2023-01-26T23:06:28.907185Z",
     "shell.execute_reply": "2023-01-26T23:06:28.904715Z"
    },
    "papermill": {
     "duration": 0.031463,
     "end_time": "2023-01-26T23:06:28.910424",
     "exception": false,
     "start_time": "2023-01-26T23:06:28.878961",
     "status": "completed"
    },
    "tags": []
   },
   "outputs": [
    {
     "data": {
      "text/plain": [
       "85"
      ]
     },
     "execution_count": 15,
     "metadata": {},
     "output_type": "execute_result"
    }
   ],
   "source": [
    "maxAgeTick = int(((data['Age'].max() // 5) + 1) * 5)\n",
    "maxAgeTick"
   ]
  },
  {
   "cell_type": "code",
   "execution_count": 16,
   "id": "4a7f170e",
   "metadata": {
    "execution": {
     "iopub.execute_input": "2023-01-26T23:06:28.946800Z",
     "iopub.status.busy": "2023-01-26T23:06:28.946042Z",
     "iopub.status.idle": "2023-01-26T23:06:28.953887Z",
     "shell.execute_reply": "2023-01-26T23:06:28.952746Z"
    },
    "papermill": {
     "duration": 0.027909,
     "end_time": "2023-01-26T23:06:28.955847",
     "exception": false,
     "start_time": "2023-01-26T23:06:28.927938",
     "status": "completed"
    },
    "tags": []
   },
   "outputs": [
    {
     "data": {
      "text/plain": [
       "[25, 30, 35, 40, 45, 50, 55, 60, 65, 70, 75, 80, 85]"
      ]
     },
     "execution_count": 16,
     "metadata": {},
     "output_type": "execute_result"
    }
   ],
   "source": [
    "ticks = list(range(minAgeTick,maxAgeTick+1, 5))\n",
    "ticks"
   ]
  },
  {
   "cell_type": "markdown",
   "id": "61b81dbf",
   "metadata": {
    "papermill": {
     "duration": 0.017215,
     "end_time": "2023-01-26T23:06:28.991255",
     "exception": false,
     "start_time": "2023-01-26T23:06:28.974040",
     "status": "completed"
    },
    "tags": []
   },
   "source": [
    "**Histogram of the Age Variable**"
   ]
  },
  {
   "cell_type": "code",
   "execution_count": 17,
   "id": "eb1560d1",
   "metadata": {
    "execution": {
     "iopub.execute_input": "2023-01-26T23:06:29.029436Z",
     "iopub.status.busy": "2023-01-26T23:06:29.027866Z",
     "iopub.status.idle": "2023-01-26T23:06:29.220873Z",
     "shell.execute_reply": "2023-01-26T23:06:29.219346Z"
    },
    "papermill": {
     "duration": 0.214495,
     "end_time": "2023-01-26T23:06:29.224005",
     "exception": false,
     "start_time": "2023-01-26T23:06:29.009510",
     "status": "completed"
    },
    "tags": []
   },
   "outputs": [
    {
     "data": {
      "text/plain": [
       "[<matplotlib.axis.XTick at 0x7f1fc52ca110>,\n",
       " <matplotlib.axis.XTick at 0x7f1fc525ae50>,\n",
       " <matplotlib.axis.XTick at 0x7f1fc51b6c90>,\n",
       " <matplotlib.axis.XTick at 0x7f1fc5161290>,\n",
       " <matplotlib.axis.XTick at 0x7f1fc5161310>,\n",
       " <matplotlib.axis.XTick at 0x7f1fc516a050>,\n",
       " <matplotlib.axis.XTick at 0x7f1fc516a6d0>,\n",
       " <matplotlib.axis.XTick at 0x7f1fc516a890>,\n",
       " <matplotlib.axis.XTick at 0x7f1fc53042d0>,\n",
       " <matplotlib.axis.XTick at 0x7f1fc51b6690>,\n",
       " <matplotlib.axis.XTick at 0x7f1fc517f690>,\n",
       " <matplotlib.axis.XTick at 0x7f1fc5161350>,\n",
       " <matplotlib.axis.XTick at 0x7f1fc5185750>]"
      ]
     },
     "execution_count": 17,
     "metadata": {},
     "output_type": "execute_result"
    },
    {
     "data": {
      "image/png": "[encoded data removed]",
      "text/plain": [
       "<Figure size 432x288 with 1 Axes>"
      ]
     },
     "metadata": {
      "needs_background": "light"
     },
     "output_type": "display_data"
    }
   ],
   "source": [
    "histogram_plot = sns.histplot(data['Age'],bins=10)\n",
    "histogram_plot.set_xticks(ticks)"
   ]
  },
  {
   "cell_type": "markdown",
   "id": "0f4b53fc",
   "metadata": {
    "papermill": {
     "duration": 0.017163,
     "end_time": "2023-01-26T23:06:29.258483",
     "exception": false,
     "start_time": "2023-01-26T23:06:29.241320",
     "status": "completed"
    },
    "tags": []
   },
   "source": [
    "**The histogram is more clear for observation now.**\n",
    "<hr>\n",
    "\n",
    "# Age Groups\n",
    "\n",
    "**Setting the age groups based on a function.**"
   ]
  },
  {
   "cell_type": "code",
   "execution_count": 18,
   "id": "fa8d6b58",
   "metadata": {
    "execution": {
     "iopub.execute_input": "2023-01-26T23:06:29.295061Z",
     "iopub.status.busy": "2023-01-26T23:06:29.294495Z",
     "iopub.status.idle": "2023-01-26T23:06:29.301622Z",
     "shell.execute_reply": "2023-01-26T23:06:29.300008Z"
    },
    "papermill": {
     "duration": 0.028694,
     "end_time": "2023-01-26T23:06:29.304473",
     "exception": false,
     "start_time": "2023-01-26T23:06:29.275779",
     "status": "completed"
    },
    "tags": []
   },
   "outputs": [],
   "source": [
    "def age_group(age):\n",
    "    if age <= 25:\n",
    "        age_group = 'Young Adult'\n",
    "    elif (age > 25) & (age <= 64):\n",
    "        age_group = 'Adult'\n",
    "    else:\n",
    "        age_group = 'Elder'\n",
    "    return age_group"
   ]
  },
  {
   "cell_type": "code",
   "execution_count": 19,
   "id": "f6f36f3f",
   "metadata": {
    "execution": {
     "iopub.execute_input": "2023-01-26T23:06:29.341844Z",
     "iopub.status.busy": "2023-01-26T23:06:29.341463Z",
     "iopub.status.idle": "2023-01-26T23:06:29.352911Z",
     "shell.execute_reply": "2023-01-26T23:06:29.350931Z"
    },
    "papermill": {
     "duration": 0.033172,
     "end_time": "2023-01-26T23:06:29.355616",
     "exception": false,
     "start_time": "2023-01-26T23:06:29.322444",
     "status": "completed"
    },
    "tags": []
   },
   "outputs": [],
   "source": [
    "data['Age_Group'] = data['Age'].apply(lambda x: age_group(x))\n",
    "age_group_ordered = CategoricalDtype(categories=['Young Adult','Adult', 'Elder'], ordered=True)\n",
    "data['Age_Group'] = data['Age_Group'].astype(age_group_ordered)"
   ]
  },
  {
   "cell_type": "markdown",
   "id": "fb2c1fea",
   "metadata": {
    "papermill": {
     "duration": 0.017522,
     "end_time": "2023-01-26T23:06:29.390701",
     "exception": false,
     "start_time": "2023-01-26T23:06:29.373179",
     "status": "completed"
    },
    "tags": []
   },
   "source": [
    "<hr>\n",
    "\n",
    "# Income Variable and Creation of Income Groups\n",
    "\n",
    "<b>Setting the income groups based on a function.</b>"
   ]
  },
  {
   "cell_type": "code",
   "execution_count": 20,
   "id": "0e9c49ec",
   "metadata": {
    "execution": {
     "iopub.execute_input": "2023-01-26T23:06:29.428717Z",
     "iopub.status.busy": "2023-01-26T23:06:29.428042Z",
     "iopub.status.idle": "2023-01-26T23:06:29.442302Z",
     "shell.execute_reply": "2023-01-26T23:06:29.440465Z"
    },
    "papermill": {
     "duration": 0.036656,
     "end_time": "2023-01-26T23:06:29.445147",
     "exception": false,
     "start_time": "2023-01-26T23:06:29.408491",
     "status": "completed"
    },
    "tags": []
   },
   "outputs": [
    {
     "data": {
      "text/plain": [
       "count      2213.000000\n",
       "mean      52236.581563\n",
       "std       25178.603047\n",
       "min        1730.000000\n",
       "25%       35246.000000\n",
       "50%       51373.000000\n",
       "75%       68487.000000\n",
       "max      666666.000000\n",
       "Name: Income, dtype: float64"
      ]
     },
     "execution_count": 20,
     "metadata": {},
     "output_type": "execute_result"
    }
   ],
   "source": [
    "data['Income'].describe()"
   ]
  },
  {
   "cell_type": "code",
   "execution_count": 21,
   "id": "ef0c255b",
   "metadata": {
    "execution": {
     "iopub.execute_input": "2023-01-26T23:06:29.481338Z",
     "iopub.status.busy": "2023-01-26T23:06:29.480984Z",
     "iopub.status.idle": "2023-01-26T23:06:29.852718Z",
     "shell.execute_reply": "2023-01-26T23:06:29.851833Z"
    },
    "papermill": {
     "duration": 0.392453,
     "end_time": "2023-01-26T23:06:29.855095",
     "exception": false,
     "start_time": "2023-01-26T23:06:29.462642",
     "status": "completed"
    },
    "tags": []
   },
   "outputs": [
    {
     "data": {
      "text/plain": [
       "<AxesSubplot:xlabel='Income', ylabel='Count'>"
      ]
     },
     "execution_count": 21,
     "metadata": {},
     "output_type": "execute_result"
    },
    {
     "data": {
      "image/png": "[encoded data removed]",
      "text/plain": [
       "<Figure size 432x288 with 1 Axes>"
      ]
     },
     "metadata": {
      "needs_background": "light"
     },
     "output_type": "display_data"
    }
   ],
   "source": [
    "sns.histplot(data['Income'])"
   ]
  },
  {
   "cell_type": "markdown",
   "id": "f44e50c5",
   "metadata": {
    "papermill": {
     "duration": 0.018403,
     "end_time": "2023-01-26T23:06:29.892040",
     "exception": false,
     "start_time": "2023-01-26T23:06:29.873637",
     "status": "completed"
    },
    "tags": []
   },
   "source": [
    "**Detecting outliers**"
   ]
  },
  {
   "cell_type": "code",
   "execution_count": 22,
   "id": "4d4c4964",
   "metadata": {
    "execution": {
     "iopub.execute_input": "2023-01-26T23:06:29.931182Z",
     "iopub.status.busy": "2023-01-26T23:06:29.930567Z",
     "iopub.status.idle": "2023-01-26T23:06:29.936767Z",
     "shell.execute_reply": "2023-01-26T23:06:29.936104Z"
    },
    "papermill": {
     "duration": 0.027668,
     "end_time": "2023-01-26T23:06:29.938435",
     "exception": false,
     "start_time": "2023-01-26T23:06:29.910767",
     "status": "completed"
    },
    "tags": []
   },
   "outputs": [
    {
     "data": {
      "text/plain": [
       "118348.5"
      ]
     },
     "execution_count": 22,
     "metadata": {},
     "output_type": "execute_result"
    }
   ],
   "source": [
    "q1, q3 = np.percentile(data[\"Income\"],[25,75])\n",
    "interquartile_range = q3 - q1\n",
    "higher_treshold = q3 + (interquartile_range * 1.5)\n",
    "higher_treshold"
   ]
  },
  {
   "cell_type": "code",
   "execution_count": 23,
   "id": "f8377875",
   "metadata": {
    "execution": {
     "iopub.execute_input": "2023-01-26T23:06:29.977473Z",
     "iopub.status.busy": "2023-01-26T23:06:29.976919Z",
     "iopub.status.idle": "2023-01-26T23:06:29.998566Z",
     "shell.execute_reply": "2023-01-26T23:06:29.997637Z"
    },
    "papermill": {
     "duration": 0.044789,
     "end_time": "2023-01-26T23:06:30.001238",
     "exception": false,
     "start_time": "2023-01-26T23:06:29.956449",
     "status": "completed"
    },
    "tags": []
   },
   "outputs": [
    {
     "data": {
      "text/html": [
       "<div>\n",
       "<style scoped>\n",
       "    .dataframe tbody tr th:only-of-type {\n",
       "        vertical-align: middle;\n",
       "    }\n",
       "\n",
       "    .dataframe tbody tr th {\n",
       "        vertical-align: top;\n",
       "    }\n",
       "\n",
       "    .dataframe thead th {\n",
       "        text-align: right;\n",
       "    }\n",
       "</style>\n",
       "<table border=\"1\" class=\"dataframe\">\n",
       "  <thead>\n",
       "    <tr style=\"text-align: right;\">\n",
       "      <th></th>\n",
       "      <th>ID</th>\n",
       "      <th>Education</th>\n",
       "      <th>Marital_Status</th>\n",
       "      <th>Income</th>\n",
       "      <th>Kidhome</th>\n",
       "      <th>Teenhome</th>\n",
       "      <th>Recency</th>\n",
       "      <th>MntWines</th>\n",
       "      <th>MntFruits</th>\n",
       "      <th>MntMeatProducts</th>\n",
       "      <th>MntFishProducts</th>\n",
       "      <th>MntSweetProducts</th>\n",
       "      <th>MntGoldProds</th>\n",
       "      <th>NumDealsPurchases</th>\n",
       "      <th>NumWebPurchases</th>\n",
       "      <th>NumCatalogPurchases</th>\n",
       "      <th>NumStorePurchases</th>\n",
       "      <th>NumWebVisitsMonth</th>\n",
       "      <th>AcceptedCmp3</th>\n",
       "      <th>AcceptedCmp4</th>\n",
       "      <th>AcceptedCmp5</th>\n",
       "      <th>AcceptedCmp1</th>\n",
       "      <th>AcceptedCmp2</th>\n",
       "      <th>Complain</th>\n",
       "      <th>Z_CostContact</th>\n",
       "      <th>Z_Revenue</th>\n",
       "      <th>Response</th>\n",
       "      <th>Year_Customer</th>\n",
       "      <th>DayDiff_Customer</th>\n",
       "      <th>Age</th>\n",
       "      <th>Age_Group</th>\n",
       "    </tr>\n",
       "  </thead>\n",
       "  <tbody>\n",
       "    <tr>\n",
       "      <th>164</th>\n",
       "      <td>8475</td>\n",
       "      <td>PhD</td>\n",
       "      <td>Married</td>\n",
       "      <td>157243.0</td>\n",
       "      <td>0</td>\n",
       "      <td>1</td>\n",
       "      <td>98</td>\n",
       "      <td>20</td>\n",
       "      <td>2</td>\n",
       "      <td>1582</td>\n",
       "      <td>1</td>\n",
       "      <td>2</td>\n",
       "      <td>1</td>\n",
       "      <td>15</td>\n",
       "      <td>0</td>\n",
       "      <td>22</td>\n",
       "      <td>0</td>\n",
       "      <td>0</td>\n",
       "      <td>0</td>\n",
       "      <td>0</td>\n",
       "      <td>0</td>\n",
       "      <td>0</td>\n",
       "      <td>0</td>\n",
       "      <td>0</td>\n",
       "      <td>3</td>\n",
       "      <td>11</td>\n",
       "      <td>0</td>\n",
       "      <td>9</td>\n",
       "      <td>3310</td>\n",
       "      <td>50</td>\n",
       "      <td>Adult</td>\n",
       "    </tr>\n",
       "    <tr>\n",
       "      <th>617</th>\n",
       "      <td>1503</td>\n",
       "      <td>PhD</td>\n",
       "      <td>Together</td>\n",
       "      <td>162397.0</td>\n",
       "      <td>1</td>\n",
       "      <td>1</td>\n",
       "      <td>31</td>\n",
       "      <td>85</td>\n",
       "      <td>1</td>\n",
       "      <td>16</td>\n",
       "      <td>2</td>\n",
       "      <td>1</td>\n",
       "      <td>2</td>\n",
       "      <td>0</td>\n",
       "      <td>0</td>\n",
       "      <td>0</td>\n",
       "      <td>1</td>\n",
       "      <td>1</td>\n",
       "      <td>0</td>\n",
       "      <td>0</td>\n",
       "      <td>0</td>\n",
       "      <td>0</td>\n",
       "      <td>0</td>\n",
       "      <td>0</td>\n",
       "      <td>3</td>\n",
       "      <td>11</td>\n",
       "      <td>0</td>\n",
       "      <td>10</td>\n",
       "      <td>3613</td>\n",
       "      <td>47</td>\n",
       "      <td>Adult</td>\n",
       "    </tr>\n",
       "    <tr>\n",
       "      <th>655</th>\n",
       "      <td>5555</td>\n",
       "      <td>Graduation</td>\n",
       "      <td>Divorced</td>\n",
       "      <td>153924.0</td>\n",
       "      <td>0</td>\n",
       "      <td>0</td>\n",
       "      <td>81</td>\n",
       "      <td>1</td>\n",
       "      <td>1</td>\n",
       "      <td>1</td>\n",
       "      <td>1</td>\n",
       "      <td>1</td>\n",
       "      <td>1</td>\n",
       "      <td>0</td>\n",
       "      <td>0</td>\n",
       "      <td>0</td>\n",
       "      <td>0</td>\n",
       "      <td>0</td>\n",
       "      <td>0</td>\n",
       "      <td>0</td>\n",
       "      <td>0</td>\n",
       "      <td>0</td>\n",
       "      <td>0</td>\n",
       "      <td>0</td>\n",
       "      <td>3</td>\n",
       "      <td>11</td>\n",
       "      <td>0</td>\n",
       "      <td>9</td>\n",
       "      <td>3130</td>\n",
       "      <td>48</td>\n",
       "      <td>Adult</td>\n",
       "    </tr>\n",
       "    <tr>\n",
       "      <th>687</th>\n",
       "      <td>1501</td>\n",
       "      <td>PhD</td>\n",
       "      <td>Married</td>\n",
       "      <td>160803.0</td>\n",
       "      <td>0</td>\n",
       "      <td>0</td>\n",
       "      <td>21</td>\n",
       "      <td>55</td>\n",
       "      <td>16</td>\n",
       "      <td>1622</td>\n",
       "      <td>17</td>\n",
       "      <td>3</td>\n",
       "      <td>4</td>\n",
       "      <td>15</td>\n",
       "      <td>0</td>\n",
       "      <td>28</td>\n",
       "      <td>1</td>\n",
       "      <td>0</td>\n",
       "      <td>0</td>\n",
       "      <td>0</td>\n",
       "      <td>0</td>\n",
       "      <td>0</td>\n",
       "      <td>0</td>\n",
       "      <td>0</td>\n",
       "      <td>3</td>\n",
       "      <td>11</td>\n",
       "      <td>0</td>\n",
       "      <td>11</td>\n",
       "      <td>3945</td>\n",
       "      <td>41</td>\n",
       "      <td>Adult</td>\n",
       "    </tr>\n",
       "    <tr>\n",
       "      <th>1300</th>\n",
       "      <td>5336</td>\n",
       "      <td>Master</td>\n",
       "      <td>Together</td>\n",
       "      <td>157733.0</td>\n",
       "      <td>1</td>\n",
       "      <td>0</td>\n",
       "      <td>37</td>\n",
       "      <td>39</td>\n",
       "      <td>1</td>\n",
       "      <td>9</td>\n",
       "      <td>2</td>\n",
       "      <td>0</td>\n",
       "      <td>8</td>\n",
       "      <td>0</td>\n",
       "      <td>1</td>\n",
       "      <td>0</td>\n",
       "      <td>1</td>\n",
       "      <td>1</td>\n",
       "      <td>0</td>\n",
       "      <td>0</td>\n",
       "      <td>0</td>\n",
       "      <td>0</td>\n",
       "      <td>0</td>\n",
       "      <td>0</td>\n",
       "      <td>3</td>\n",
       "      <td>11</td>\n",
       "      <td>0</td>\n",
       "      <td>10</td>\n",
       "      <td>3582</td>\n",
       "      <td>52</td>\n",
       "      <td>Adult</td>\n",
       "    </tr>\n",
       "    <tr>\n",
       "      <th>1653</th>\n",
       "      <td>4931</td>\n",
       "      <td>Graduation</td>\n",
       "      <td>Together</td>\n",
       "      <td>157146.0</td>\n",
       "      <td>0</td>\n",
       "      <td>0</td>\n",
       "      <td>13</td>\n",
       "      <td>1</td>\n",
       "      <td>0</td>\n",
       "      <td>1725</td>\n",
       "      <td>2</td>\n",
       "      <td>1</td>\n",
       "      <td>1</td>\n",
       "      <td>0</td>\n",
       "      <td>0</td>\n",
       "      <td>28</td>\n",
       "      <td>0</td>\n",
       "      <td>1</td>\n",
       "      <td>0</td>\n",
       "      <td>0</td>\n",
       "      <td>0</td>\n",
       "      <td>0</td>\n",
       "      <td>0</td>\n",
       "      <td>0</td>\n",
       "      <td>3</td>\n",
       "      <td>11</td>\n",
       "      <td>0</td>\n",
       "      <td>10</td>\n",
       "      <td>3559</td>\n",
       "      <td>46</td>\n",
       "      <td>Adult</td>\n",
       "    </tr>\n",
       "    <tr>\n",
       "      <th>2132</th>\n",
       "      <td>11181</td>\n",
       "      <td>PhD</td>\n",
       "      <td>Married</td>\n",
       "      <td>156924.0</td>\n",
       "      <td>0</td>\n",
       "      <td>0</td>\n",
       "      <td>85</td>\n",
       "      <td>2</td>\n",
       "      <td>1</td>\n",
       "      <td>2</td>\n",
       "      <td>1</td>\n",
       "      <td>1</td>\n",
       "      <td>1</td>\n",
       "      <td>0</td>\n",
       "      <td>0</td>\n",
       "      <td>0</td>\n",
       "      <td>0</td>\n",
       "      <td>0</td>\n",
       "      <td>0</td>\n",
       "      <td>0</td>\n",
       "      <td>0</td>\n",
       "      <td>0</td>\n",
       "      <td>0</td>\n",
       "      <td>0</td>\n",
       "      <td>3</td>\n",
       "      <td>11</td>\n",
       "      <td>0</td>\n",
       "      <td>10</td>\n",
       "      <td>3437</td>\n",
       "      <td>74</td>\n",
       "      <td>Elder</td>\n",
       "    </tr>\n",
       "    <tr>\n",
       "      <th>2233</th>\n",
       "      <td>9432</td>\n",
       "      <td>Graduation</td>\n",
       "      <td>Together</td>\n",
       "      <td>666666.0</td>\n",
       "      <td>1</td>\n",
       "      <td>0</td>\n",
       "      <td>23</td>\n",
       "      <td>9</td>\n",
       "      <td>14</td>\n",
       "      <td>18</td>\n",
       "      <td>8</td>\n",
       "      <td>1</td>\n",
       "      <td>12</td>\n",
       "      <td>4</td>\n",
       "      <td>3</td>\n",
       "      <td>1</td>\n",
       "      <td>3</td>\n",
       "      <td>6</td>\n",
       "      <td>0</td>\n",
       "      <td>0</td>\n",
       "      <td>0</td>\n",
       "      <td>0</td>\n",
       "      <td>0</td>\n",
       "      <td>0</td>\n",
       "      <td>3</td>\n",
       "      <td>11</td>\n",
       "      <td>0</td>\n",
       "      <td>10</td>\n",
       "      <td>3641</td>\n",
       "      <td>46</td>\n",
       "      <td>Adult</td>\n",
       "    </tr>\n",
       "  </tbody>\n",
       "</table>\n",
       "</div>"
      ],
      "text/plain": [
       "         ID   Education Marital_Status    Income  Kidhome  Teenhome  Recency  \\\n",
       "164    8475         PhD        Married  157243.0        0         1       98   \n",
       "617    1503         PhD       Together  162397.0        1         1       31   \n",
       "655    5555  Graduation       Divorced  153924.0        0         0       81   \n",
       "687    1501         PhD        Married  160803.0        0         0       21   \n",
       "1300   5336      Master       Together  157733.0        1         0       37   \n",
       "1653   4931  Graduation       Together  157146.0        0         0       13   \n",
       "2132  11181         PhD        Married  156924.0        0         0       85   \n",
       "2233   9432  Graduation       Together  666666.0        1         0       23   \n",
       "\n",
       "      MntWines  MntFruits  MntMeatProducts  MntFishProducts  MntSweetProducts  \\\n",
       "164         20          2             1582                1                 2   \n",
       "617         85          1               16                2                 1   \n",
       "655          1          1                1                1                 1   \n",
       "687         55         16             1622               17                 3   \n",
       "1300        39          1                9                2                 0   \n",
       "1653         1          0             1725                2                 1   \n",
       "2132         2          1                2                1                 1   \n",
       "2233         9         14               18                8                 1   \n",
       "\n",
       "      MntGoldProds  NumDealsPurchases  NumWebPurchases  NumCatalogPurchases  \\\n",
       "164              1                 15                0                   22   \n",
       "617              2                  0                0                    0   \n",
       "655              1                  0                0                    0   \n",
       "687              4                 15                0                   28   \n",
       "1300             8                  0                1                    0   \n",
       "1653             1                  0                0                   28   \n",
       "2132             1                  0                0                    0   \n",
       "2233            12                  4                3                    1   \n",
       "\n",
       "      NumStorePurchases  NumWebVisitsMonth  AcceptedCmp3  AcceptedCmp4  \\\n",
       "164                   0                  0             0             0   \n",
       "617                   1                  1             0             0   \n",
       "655                   0                  0             0             0   \n",
       "687                   1                  0             0             0   \n",
       "1300                  1                  1             0             0   \n",
       "1653                  0                  1             0             0   \n",
       "2132                  0                  0             0             0   \n",
       "2233                  3                  6             0             0   \n",
       "\n",
       "      AcceptedCmp5  AcceptedCmp1  AcceptedCmp2  Complain  Z_CostContact  \\\n",
       "164              0             0             0         0              3   \n",
       "617              0             0             0         0              3   \n",
       "655              0             0             0         0              3   \n",
       "687              0             0             0         0              3   \n",
       "1300             0             0             0         0              3   \n",
       "1653             0             0             0         0              3   \n",
       "2132             0             0             0         0              3   \n",
       "2233             0             0             0         0              3   \n",
       "\n",
       "      Z_Revenue  Response  Year_Customer  DayDiff_Customer  Age Age_Group  \n",
       "164          11         0              9              3310   50     Adult  \n",
       "617          11         0             10              3613   47     Adult  \n",
       "655          11         0              9              3130   48     Adult  \n",
       "687          11         0             11              3945   41     Adult  \n",
       "1300         11         0             10              3582   52     Adult  \n",
       "1653         11         0             10              3559   46     Adult  \n",
       "2132         11         0             10              3437   74     Elder  \n",
       "2233         11         0             10              3641   46     Adult  "
      ]
     },
     "execution_count": 23,
     "metadata": {},
     "output_type": "execute_result"
    }
   ],
   "source": [
    "data[data['Income'] > higher_treshold]"
   ]
  },
  {
   "cell_type": "code",
   "execution_count": 24,
   "id": "8fff4887",
   "metadata": {
    "execution": {
     "iopub.execute_input": "2023-01-26T23:06:30.041506Z",
     "iopub.status.busy": "2023-01-26T23:06:30.041116Z",
     "iopub.status.idle": "2023-01-26T23:06:30.048008Z",
     "shell.execute_reply": "2023-01-26T23:06:30.046911Z"
    },
    "papermill": {
     "duration": 0.029673,
     "end_time": "2023-01-26T23:06:30.050466",
     "exception": false,
     "start_time": "2023-01-26T23:06:30.020793",
     "status": "completed"
    },
    "tags": []
   },
   "outputs": [],
   "source": [
    "data.drop(index=(data[data['Income'] > higher_treshold].index), axis = 0, inplace=True)"
   ]
  },
  {
   "cell_type": "code",
   "execution_count": 25,
   "id": "c70585e3",
   "metadata": {
    "execution": {
     "iopub.execute_input": "2023-01-26T23:06:30.090505Z",
     "iopub.status.busy": "2023-01-26T23:06:30.089946Z",
     "iopub.status.idle": "2023-01-26T23:06:30.283495Z",
     "shell.execute_reply": "2023-01-26T23:06:30.282337Z"
    },
    "papermill": {
     "duration": 0.215942,
     "end_time": "2023-01-26T23:06:30.285901",
     "exception": false,
     "start_time": "2023-01-26T23:06:30.069959",
     "status": "completed"
    },
    "tags": []
   },
   "outputs": [
    {
     "data": {
      "text/plain": [
       "<AxesSubplot:xlabel='Income', ylabel='Count'>"
      ]
     },
     "execution_count": 25,
     "metadata": {},
     "output_type": "execute_result"
    },
    {
     "data": {
      "image/png": "[encoded data removed]",
      "text/plain": [
       "<Figure size 432x288 with 1 Axes>"
      ]
     },
     "metadata": {
      "needs_background": "light"
     },
     "output_type": "display_data"
    }
   ],
   "source": [
    "sns.histplot(data['Income'])"
   ]
  },
  {
   "cell_type": "markdown",
   "id": "222396dd",
   "metadata": {
    "papermill": {
     "duration": 0.019469,
     "end_time": "2023-01-26T23:06:30.326399",
     "exception": false,
     "start_time": "2023-01-26T23:06:30.306930",
     "status": "completed"
    },
    "tags": []
   },
   "source": [
    "The distribution of data looks more normal distribution."
   ]
  },
  {
   "cell_type": "code",
   "execution_count": 26,
   "id": "69af6d05",
   "metadata": {
    "execution": {
     "iopub.execute_input": "2023-01-26T23:06:30.373556Z",
     "iopub.status.busy": "2023-01-26T23:06:30.373156Z",
     "iopub.status.idle": "2023-01-26T23:06:30.381117Z",
     "shell.execute_reply": "2023-01-26T23:06:30.379367Z"
    },
    "papermill": {
     "duration": 0.03459,
     "end_time": "2023-01-26T23:06:30.384210",
     "exception": false,
     "start_time": "2023-01-26T23:06:30.349620",
     "status": "completed"
    },
    "tags": []
   },
   "outputs": [],
   "source": [
    "income_median = np.median(data['Income'])\n",
    "income_std = np.std(data['Income'])"
   ]
  },
  {
   "cell_type": "code",
   "execution_count": 27,
   "id": "48be318b",
   "metadata": {
    "execution": {
     "iopub.execute_input": "2023-01-26T23:06:30.427822Z",
     "iopub.status.busy": "2023-01-26T23:06:30.427078Z",
     "iopub.status.idle": "2023-01-26T23:06:30.432458Z",
     "shell.execute_reply": "2023-01-26T23:06:30.431629Z"
    },
    "papermill": {
     "duration": 0.031949,
     "end_time": "2023-01-26T23:06:30.434703",
     "exception": false,
     "start_time": "2023-01-26T23:06:30.402754",
     "status": "completed"
    },
    "tags": []
   },
   "outputs": [],
   "source": [
    "q1, q3 = np.percentile(data[\"Income\"],[25,75])"
   ]
  },
  {
   "cell_type": "code",
   "execution_count": 28,
   "id": "d54cec5f",
   "metadata": {
    "execution": {
     "iopub.execute_input": "2023-01-26T23:06:30.475620Z",
     "iopub.status.busy": "2023-01-26T23:06:30.474856Z",
     "iopub.status.idle": "2023-01-26T23:06:30.480470Z",
     "shell.execute_reply": "2023-01-26T23:06:30.479612Z"
    },
    "papermill": {
     "duration": 0.028962,
     "end_time": "2023-01-26T23:06:30.483098",
     "exception": false,
     "start_time": "2023-01-26T23:06:30.454136",
     "status": "completed"
    },
    "tags": []
   },
   "outputs": [],
   "source": [
    "def income_group(income):\n",
    "    if income <= q1:\n",
    "        income_group = 'Low'\n",
    "    elif (income > q1) & (income <= q3):\n",
    "        income_group = 'Middle'\n",
    "    else:\n",
    "        income_group = 'High'\n",
    "    return income_group"
   ]
  },
  {
   "cell_type": "code",
   "execution_count": 29,
   "id": "c66ad942",
   "metadata": {
    "execution": {
     "iopub.execute_input": "2023-01-26T23:06:30.532339Z",
     "iopub.status.busy": "2023-01-26T23:06:30.531734Z",
     "iopub.status.idle": "2023-01-26T23:06:30.539904Z",
     "shell.execute_reply": "2023-01-26T23:06:30.538954Z"
    },
    "papermill": {
     "duration": 0.039958,
     "end_time": "2023-01-26T23:06:30.542465",
     "exception": false,
     "start_time": "2023-01-26T23:06:30.502507",
     "status": "completed"
    },
    "tags": []
   },
   "outputs": [],
   "source": [
    "data['Income_Group'] = data['Income'].apply(lambda x: income_group(x))\n",
    "income_group_ordered = CategoricalDtype(categories=['Low','Middle', 'High'], ordered=True)\n",
    "data['Income_Group'] = data['Income_Group'].astype(income_group_ordered)"
   ]
  },
  {
   "cell_type": "code",
   "execution_count": 30,
   "id": "929e99e7",
   "metadata": {
    "execution": {
     "iopub.execute_input": "2023-01-26T23:06:30.588493Z",
     "iopub.status.busy": "2023-01-26T23:06:30.588161Z",
     "iopub.status.idle": "2023-01-26T23:06:30.619046Z",
     "shell.execute_reply": "2023-01-26T23:06:30.617763Z"
    },
    "papermill": {
     "duration": 0.054296,
     "end_time": "2023-01-26T23:06:30.621800",
     "exception": false,
     "start_time": "2023-01-26T23:06:30.567504",
     "status": "completed"
    },
    "tags": []
   },
   "outputs": [
    {
     "data": {
      "text/html": [
       "<div>\n",
       "<style scoped>\n",
       "    .dataframe tbody tr th:only-of-type {\n",
       "        vertical-align: middle;\n",
       "    }\n",
       "\n",
       "    .dataframe tbody tr th {\n",
       "        vertical-align: top;\n",
       "    }\n",
       "\n",
       "    .dataframe thead th {\n",
       "        text-align: right;\n",
       "    }\n",
       "</style>\n",
       "<table border=\"1\" class=\"dataframe\">\n",
       "  <thead>\n",
       "    <tr style=\"text-align: right;\">\n",
       "      <th></th>\n",
       "      <th>ID</th>\n",
       "      <th>Education</th>\n",
       "      <th>Marital_Status</th>\n",
       "      <th>Income</th>\n",
       "      <th>Kidhome</th>\n",
       "      <th>Teenhome</th>\n",
       "      <th>Recency</th>\n",
       "      <th>MntWines</th>\n",
       "      <th>MntFruits</th>\n",
       "      <th>MntMeatProducts</th>\n",
       "      <th>MntFishProducts</th>\n",
       "      <th>MntSweetProducts</th>\n",
       "      <th>MntGoldProds</th>\n",
       "      <th>NumDealsPurchases</th>\n",
       "      <th>NumWebPurchases</th>\n",
       "      <th>NumCatalogPurchases</th>\n",
       "      <th>NumStorePurchases</th>\n",
       "      <th>NumWebVisitsMonth</th>\n",
       "      <th>AcceptedCmp3</th>\n",
       "      <th>AcceptedCmp4</th>\n",
       "      <th>AcceptedCmp5</th>\n",
       "      <th>AcceptedCmp1</th>\n",
       "      <th>AcceptedCmp2</th>\n",
       "      <th>Complain</th>\n",
       "      <th>Z_CostContact</th>\n",
       "      <th>Z_Revenue</th>\n",
       "      <th>Response</th>\n",
       "      <th>Year_Customer</th>\n",
       "      <th>DayDiff_Customer</th>\n",
       "      <th>Age</th>\n",
       "      <th>Age_Group</th>\n",
       "      <th>Income_Group</th>\n",
       "    </tr>\n",
       "  </thead>\n",
       "  <tbody>\n",
       "    <tr>\n",
       "      <th>2</th>\n",
       "      <td>4141</td>\n",
       "      <td>Graduation</td>\n",
       "      <td>Together</td>\n",
       "      <td>71613.0</td>\n",
       "      <td>0</td>\n",
       "      <td>0</td>\n",
       "      <td>26</td>\n",
       "      <td>426</td>\n",
       "      <td>49</td>\n",
       "      <td>127</td>\n",
       "      <td>111</td>\n",
       "      <td>21</td>\n",
       "      <td>42</td>\n",
       "      <td>1</td>\n",
       "      <td>8</td>\n",
       "      <td>2</td>\n",
       "      <td>10</td>\n",
       "      <td>4</td>\n",
       "      <td>0</td>\n",
       "      <td>0</td>\n",
       "      <td>0</td>\n",
       "      <td>0</td>\n",
       "      <td>0</td>\n",
       "      <td>0</td>\n",
       "      <td>3</td>\n",
       "      <td>11</td>\n",
       "      <td>0</td>\n",
       "      <td>10</td>\n",
       "      <td>3445</td>\n",
       "      <td>58</td>\n",
       "      <td>Adult</td>\n",
       "      <td>High</td>\n",
       "    </tr>\n",
       "    <tr>\n",
       "      <th>15</th>\n",
       "      <td>2114</td>\n",
       "      <td>PhD</td>\n",
       "      <td>Single</td>\n",
       "      <td>82800.0</td>\n",
       "      <td>0</td>\n",
       "      <td>0</td>\n",
       "      <td>23</td>\n",
       "      <td>1006</td>\n",
       "      <td>22</td>\n",
       "      <td>115</td>\n",
       "      <td>59</td>\n",
       "      <td>68</td>\n",
       "      <td>45</td>\n",
       "      <td>1</td>\n",
       "      <td>7</td>\n",
       "      <td>6</td>\n",
       "      <td>12</td>\n",
       "      <td>3</td>\n",
       "      <td>0</td>\n",
       "      <td>0</td>\n",
       "      <td>1</td>\n",
       "      <td>1</td>\n",
       "      <td>0</td>\n",
       "      <td>0</td>\n",
       "      <td>3</td>\n",
       "      <td>11</td>\n",
       "      <td>1</td>\n",
       "      <td>11</td>\n",
       "      <td>3715</td>\n",
       "      <td>77</td>\n",
       "      <td>Elder</td>\n",
       "      <td>High</td>\n",
       "    </tr>\n",
       "    <tr>\n",
       "      <th>18</th>\n",
       "      <td>6565</td>\n",
       "      <td>Master</td>\n",
       "      <td>Married</td>\n",
       "      <td>76995.0</td>\n",
       "      <td>0</td>\n",
       "      <td>1</td>\n",
       "      <td>91</td>\n",
       "      <td>1012</td>\n",
       "      <td>80</td>\n",
       "      <td>498</td>\n",
       "      <td>0</td>\n",
       "      <td>16</td>\n",
       "      <td>176</td>\n",
       "      <td>2</td>\n",
       "      <td>11</td>\n",
       "      <td>4</td>\n",
       "      <td>9</td>\n",
       "      <td>5</td>\n",
       "      <td>0</td>\n",
       "      <td>0</td>\n",
       "      <td>0</td>\n",
       "      <td>1</td>\n",
       "      <td>0</td>\n",
       "      <td>0</td>\n",
       "      <td>3</td>\n",
       "      <td>11</td>\n",
       "      <td>0</td>\n",
       "      <td>10</td>\n",
       "      <td>3591</td>\n",
       "      <td>74</td>\n",
       "      <td>Elder</td>\n",
       "      <td>High</td>\n",
       "    </tr>\n",
       "    <tr>\n",
       "      <th>29</th>\n",
       "      <td>1966</td>\n",
       "      <td>PhD</td>\n",
       "      <td>Married</td>\n",
       "      <td>84618.0</td>\n",
       "      <td>0</td>\n",
       "      <td>0</td>\n",
       "      <td>96</td>\n",
       "      <td>684</td>\n",
       "      <td>100</td>\n",
       "      <td>801</td>\n",
       "      <td>21</td>\n",
       "      <td>66</td>\n",
       "      <td>0</td>\n",
       "      <td>1</td>\n",
       "      <td>6</td>\n",
       "      <td>9</td>\n",
       "      <td>10</td>\n",
       "      <td>2</td>\n",
       "      <td>0</td>\n",
       "      <td>0</td>\n",
       "      <td>1</td>\n",
       "      <td>0</td>\n",
       "      <td>0</td>\n",
       "      <td>0</td>\n",
       "      <td>3</td>\n",
       "      <td>11</td>\n",
       "      <td>0</td>\n",
       "      <td>10</td>\n",
       "      <td>3352</td>\n",
       "      <td>58</td>\n",
       "      <td>Adult</td>\n",
       "      <td>High</td>\n",
       "    </tr>\n",
       "    <tr>\n",
       "      <th>34</th>\n",
       "      <td>8755</td>\n",
       "      <td>Master</td>\n",
       "      <td>Married</td>\n",
       "      <td>68657.0</td>\n",
       "      <td>0</td>\n",
       "      <td>0</td>\n",
       "      <td>4</td>\n",
       "      <td>482</td>\n",
       "      <td>34</td>\n",
       "      <td>471</td>\n",
       "      <td>119</td>\n",
       "      <td>68</td>\n",
       "      <td>22</td>\n",
       "      <td>1</td>\n",
       "      <td>3</td>\n",
       "      <td>5</td>\n",
       "      <td>9</td>\n",
       "      <td>7</td>\n",
       "      <td>0</td>\n",
       "      <td>0</td>\n",
       "      <td>0</td>\n",
       "      <td>0</td>\n",
       "      <td>0</td>\n",
       "      <td>0</td>\n",
       "      <td>3</td>\n",
       "      <td>11</td>\n",
       "      <td>0</td>\n",
       "      <td>10</td>\n",
       "      <td>3627</td>\n",
       "      <td>77</td>\n",
       "      <td>Elder</td>\n",
       "      <td>High</td>\n",
       "    </tr>\n",
       "    <tr>\n",
       "      <th>...</th>\n",
       "      <td>...</td>\n",
       "      <td>...</td>\n",
       "      <td>...</td>\n",
       "      <td>...</td>\n",
       "      <td>...</td>\n",
       "      <td>...</td>\n",
       "      <td>...</td>\n",
       "      <td>...</td>\n",
       "      <td>...</td>\n",
       "      <td>...</td>\n",
       "      <td>...</td>\n",
       "      <td>...</td>\n",
       "      <td>...</td>\n",
       "      <td>...</td>\n",
       "      <td>...</td>\n",
       "      <td>...</td>\n",
       "      <td>...</td>\n",
       "      <td>...</td>\n",
       "      <td>...</td>\n",
       "      <td>...</td>\n",
       "      <td>...</td>\n",
       "      <td>...</td>\n",
       "      <td>...</td>\n",
       "      <td>...</td>\n",
       "      <td>...</td>\n",
       "      <td>...</td>\n",
       "      <td>...</td>\n",
       "      <td>...</td>\n",
       "      <td>...</td>\n",
       "      <td>...</td>\n",
       "      <td>...</td>\n",
       "      <td>...</td>\n",
       "    </tr>\n",
       "    <tr>\n",
       "      <th>2211</th>\n",
       "      <td>10469</td>\n",
       "      <td>Graduation</td>\n",
       "      <td>Together</td>\n",
       "      <td>88325.0</td>\n",
       "      <td>0</td>\n",
       "      <td>0</td>\n",
       "      <td>42</td>\n",
       "      <td>519</td>\n",
       "      <td>71</td>\n",
       "      <td>860</td>\n",
       "      <td>93</td>\n",
       "      <td>27</td>\n",
       "      <td>53</td>\n",
       "      <td>1</td>\n",
       "      <td>6</td>\n",
       "      <td>2</td>\n",
       "      <td>9</td>\n",
       "      <td>2</td>\n",
       "      <td>0</td>\n",
       "      <td>0</td>\n",
       "      <td>0</td>\n",
       "      <td>0</td>\n",
       "      <td>0</td>\n",
       "      <td>0</td>\n",
       "      <td>3</td>\n",
       "      <td>11</td>\n",
       "      <td>0</td>\n",
       "      <td>9</td>\n",
       "      <td>3191</td>\n",
       "      <td>42</td>\n",
       "      <td>Adult</td>\n",
       "      <td>High</td>\n",
       "    </tr>\n",
       "    <tr>\n",
       "      <th>2213</th>\n",
       "      <td>3661</td>\n",
       "      <td>2n Cycle</td>\n",
       "      <td>Single</td>\n",
       "      <td>80617.0</td>\n",
       "      <td>0</td>\n",
       "      <td>0</td>\n",
       "      <td>42</td>\n",
       "      <td>594</td>\n",
       "      <td>51</td>\n",
       "      <td>631</td>\n",
       "      <td>72</td>\n",
       "      <td>55</td>\n",
       "      <td>32</td>\n",
       "      <td>1</td>\n",
       "      <td>4</td>\n",
       "      <td>6</td>\n",
       "      <td>8</td>\n",
       "      <td>2</td>\n",
       "      <td>0</td>\n",
       "      <td>0</td>\n",
       "      <td>0</td>\n",
       "      <td>0</td>\n",
       "      <td>0</td>\n",
       "      <td>0</td>\n",
       "      <td>3</td>\n",
       "      <td>11</td>\n",
       "      <td>0</td>\n",
       "      <td>11</td>\n",
       "      <td>3699</td>\n",
       "      <td>28</td>\n",
       "      <td>Adult</td>\n",
       "      <td>High</td>\n",
       "    </tr>\n",
       "    <tr>\n",
       "      <th>2217</th>\n",
       "      <td>9589</td>\n",
       "      <td>PhD</td>\n",
       "      <td>Widow</td>\n",
       "      <td>82032.0</td>\n",
       "      <td>0</td>\n",
       "      <td>0</td>\n",
       "      <td>54</td>\n",
       "      <td>332</td>\n",
       "      <td>194</td>\n",
       "      <td>377</td>\n",
       "      <td>149</td>\n",
       "      <td>125</td>\n",
       "      <td>57</td>\n",
       "      <td>0</td>\n",
       "      <td>4</td>\n",
       "      <td>6</td>\n",
       "      <td>7</td>\n",
       "      <td>1</td>\n",
       "      <td>0</td>\n",
       "      <td>0</td>\n",
       "      <td>0</td>\n",
       "      <td>0</td>\n",
       "      <td>0</td>\n",
       "      <td>0</td>\n",
       "      <td>3</td>\n",
       "      <td>11</td>\n",
       "      <td>0</td>\n",
       "      <td>9</td>\n",
       "      <td>3189</td>\n",
       "      <td>75</td>\n",
       "      <td>Elder</td>\n",
       "      <td>High</td>\n",
       "    </tr>\n",
       "    <tr>\n",
       "      <th>2221</th>\n",
       "      <td>7366</td>\n",
       "      <td>Master</td>\n",
       "      <td>Single</td>\n",
       "      <td>75777.0</td>\n",
       "      <td>0</td>\n",
       "      <td>0</td>\n",
       "      <td>12</td>\n",
       "      <td>712</td>\n",
       "      <td>26</td>\n",
       "      <td>538</td>\n",
       "      <td>69</td>\n",
       "      <td>13</td>\n",
       "      <td>80</td>\n",
       "      <td>1</td>\n",
       "      <td>3</td>\n",
       "      <td>6</td>\n",
       "      <td>11</td>\n",
       "      <td>1</td>\n",
       "      <td>0</td>\n",
       "      <td>1</td>\n",
       "      <td>1</td>\n",
       "      <td>0</td>\n",
       "      <td>0</td>\n",
       "      <td>0</td>\n",
       "      <td>3</td>\n",
       "      <td>11</td>\n",
       "      <td>1</td>\n",
       "      <td>10</td>\n",
       "      <td>3581</td>\n",
       "      <td>41</td>\n",
       "      <td>Adult</td>\n",
       "      <td>High</td>\n",
       "    </tr>\n",
       "    <tr>\n",
       "      <th>2238</th>\n",
       "      <td>8235</td>\n",
       "      <td>Master</td>\n",
       "      <td>Together</td>\n",
       "      <td>69245.0</td>\n",
       "      <td>0</td>\n",
       "      <td>1</td>\n",
       "      <td>8</td>\n",
       "      <td>428</td>\n",
       "      <td>30</td>\n",
       "      <td>214</td>\n",
       "      <td>80</td>\n",
       "      <td>30</td>\n",
       "      <td>61</td>\n",
       "      <td>2</td>\n",
       "      <td>6</td>\n",
       "      <td>5</td>\n",
       "      <td>10</td>\n",
       "      <td>3</td>\n",
       "      <td>0</td>\n",
       "      <td>0</td>\n",
       "      <td>0</td>\n",
       "      <td>0</td>\n",
       "      <td>0</td>\n",
       "      <td>0</td>\n",
       "      <td>3</td>\n",
       "      <td>11</td>\n",
       "      <td>0</td>\n",
       "      <td>9</td>\n",
       "      <td>3289</td>\n",
       "      <td>67</td>\n",
       "      <td>Elder</td>\n",
       "      <td>High</td>\n",
       "    </tr>\n",
       "  </tbody>\n",
       "</table>\n",
       "<p>551 rows × 32 columns</p>\n",
       "</div>"
      ],
      "text/plain": [
       "         ID   Education Marital_Status   Income  Kidhome  Teenhome  Recency  \\\n",
       "2      4141  Graduation       Together  71613.0        0         0       26   \n",
       "15     2114         PhD         Single  82800.0        0         0       23   \n",
       "18     6565      Master        Married  76995.0        0         1       91   \n",
       "29     1966         PhD        Married  84618.0        0         0       96   \n",
       "34     8755      Master        Married  68657.0        0         0        4   \n",
       "...     ...         ...            ...      ...      ...       ...      ...   \n",
       "2211  10469  Graduation       Together  88325.0        0         0       42   \n",
       "2213   3661    2n Cycle         Single  80617.0        0         0       42   \n",
       "2217   9589         PhD          Widow  82032.0        0         0       54   \n",
       "2221   7366      Master         Single  75777.0        0         0       12   \n",
       "2238   8235      Master       Together  69245.0        0         1        8   \n",
       "\n",
       "      MntWines  MntFruits  MntMeatProducts  MntFishProducts  MntSweetProducts  \\\n",
       "2          426         49              127              111                21   \n",
       "15        1006         22              115               59                68   \n",
       "18        1012         80              498                0                16   \n",
       "29         684        100              801               21                66   \n",
       "34         482         34              471              119                68   \n",
       "...        ...        ...              ...              ...               ...   \n",
       "2211       519         71              860               93                27   \n",
       "2213       594         51              631               72                55   \n",
       "2217       332        194              377              149               125   \n",
       "2221       712         26              538               69                13   \n",
       "2238       428         30              214               80                30   \n",
       "\n",
       "      MntGoldProds  NumDealsPurchases  NumWebPurchases  NumCatalogPurchases  \\\n",
       "2               42                  1                8                    2   \n",
       "15              45                  1                7                    6   \n",
       "18             176                  2               11                    4   \n",
       "29               0                  1                6                    9   \n",
       "34              22                  1                3                    5   \n",
       "...            ...                ...              ...                  ...   \n",
       "2211            53                  1                6                    2   \n",
       "2213            32                  1                4                    6   \n",
       "2217            57                  0                4                    6   \n",
       "2221            80                  1                3                    6   \n",
       "2238            61                  2                6                    5   \n",
       "\n",
       "      NumStorePurchases  NumWebVisitsMonth  AcceptedCmp3  AcceptedCmp4  \\\n",
       "2                    10                  4             0             0   \n",
       "15                   12                  3             0             0   \n",
       "18                    9                  5             0             0   \n",
       "29                   10                  2             0             0   \n",
       "34                    9                  7             0             0   \n",
       "...                 ...                ...           ...           ...   \n",
       "2211                  9                  2             0             0   \n",
       "2213                  8                  2             0             0   \n",
       "2217                  7                  1             0             0   \n",
       "2221                 11                  1             0             1   \n",
       "2238                 10                  3             0             0   \n",
       "\n",
       "      AcceptedCmp5  AcceptedCmp1  AcceptedCmp2  Complain  Z_CostContact  \\\n",
       "2                0             0             0         0              3   \n",
       "15               1             1             0         0              3   \n",
       "18               0             1             0         0              3   \n",
       "29               1             0             0         0              3   \n",
       "34               0             0             0         0              3   \n",
       "...            ...           ...           ...       ...            ...   \n",
       "2211             0             0             0         0              3   \n",
       "2213             0             0             0         0              3   \n",
       "2217             0             0             0         0              3   \n",
       "2221             1             0             0         0              3   \n",
       "2238             0             0             0         0              3   \n",
       "\n",
       "      Z_Revenue  Response  Year_Customer  DayDiff_Customer  Age Age_Group  \\\n",
       "2            11         0             10              3445   58     Adult   \n",
       "15           11         1             11              3715   77     Elder   \n",
       "18           11         0             10              3591   74     Elder   \n",
       "29           11         0             10              3352   58     Adult   \n",
       "34           11         0             10              3627   77     Elder   \n",
       "...         ...       ...            ...               ...  ...       ...   \n",
       "2211         11         0              9              3191   42     Adult   \n",
       "2213         11         0             11              3699   28     Adult   \n",
       "2217         11         0              9              3189   75     Elder   \n",
       "2221         11         1             10              3581   41     Adult   \n",
       "2238         11         0              9              3289   67     Elder   \n",
       "\n",
       "     Income_Group  \n",
       "2            High  \n",
       "15           High  \n",
       "18           High  \n",
       "29           High  \n",
       "34           High  \n",
       "...           ...  \n",
       "2211         High  \n",
       "2213         High  \n",
       "2217         High  \n",
       "2221         High  \n",
       "2238         High  \n",
       "\n",
       "[551 rows x 32 columns]"
      ]
     },
     "execution_count": 30,
     "metadata": {},
     "output_type": "execute_result"
    }
   ],
   "source": [
    "data[data[\"Income_Group\"] == \"High\"]"
   ]
  },
  {
   "cell_type": "markdown",
   "id": "b6f67ef4",
   "metadata": {
    "papermill": {
     "duration": 0.022717,
     "end_time": "2023-01-26T23:06:30.672473",
     "exception": false,
     "start_time": "2023-01-26T23:06:30.649756",
     "status": "completed"
    },
    "tags": []
   },
   "source": [
    "# Marital Status Variable"
   ]
  },
  {
   "cell_type": "code",
   "execution_count": 31,
   "id": "d46d3543",
   "metadata": {
    "execution": {
     "iopub.execute_input": "2023-01-26T23:06:30.718991Z",
     "iopub.status.busy": "2023-01-26T23:06:30.718270Z",
     "iopub.status.idle": "2023-01-26T23:06:30.726009Z",
     "shell.execute_reply": "2023-01-26T23:06:30.725271Z"
    },
    "papermill": {
     "duration": 0.032905,
     "end_time": "2023-01-26T23:06:30.728110",
     "exception": false,
     "start_time": "2023-01-26T23:06:30.695205",
     "status": "completed"
    },
    "tags": []
   },
   "outputs": [
    {
     "data": {
      "text/plain": [
       "Married     854\n",
       "Together    568\n",
       "Single      470\n",
       "Divorced    230\n",
       "Widow        76\n",
       "Alone         3\n",
       "Absurd        2\n",
       "YOLO          2\n",
       "Name: Marital_Status, dtype: int64"
      ]
     },
     "execution_count": 31,
     "metadata": {},
     "output_type": "execute_result"
    }
   ],
   "source": [
    "data['Marital_Status'].value_counts()"
   ]
  },
  {
   "cell_type": "markdown",
   "id": "0d40e9cd",
   "metadata": {
    "papermill": {
     "duration": 0.018683,
     "end_time": "2023-01-26T23:06:30.768379",
     "exception": false,
     "start_time": "2023-01-26T23:06:30.749696",
     "status": "completed"
    },
    "tags": []
   },
   "source": [
    "**There are some categories which has very low value.\n",
    "Drops the non-freqent categories:**"
   ]
  },
  {
   "cell_type": "code",
   "execution_count": 32,
   "id": "0522f0de",
   "metadata": {
    "execution": {
     "iopub.execute_input": "2023-01-26T23:06:30.808785Z",
     "iopub.status.busy": "2023-01-26T23:06:30.808418Z",
     "iopub.status.idle": "2023-01-26T23:06:30.822848Z",
     "shell.execute_reply": "2023-01-26T23:06:30.821370Z"
    },
    "papermill": {
     "duration": 0.037555,
     "end_time": "2023-01-26T23:06:30.825547",
     "exception": false,
     "start_time": "2023-01-26T23:06:30.787992",
     "status": "completed"
    },
    "tags": []
   },
   "outputs": [],
   "source": [
    "data.drop(index=(data[data['Marital_Status'] == 'Alone'].index), axis = 0, inplace = True)\n",
    "data.drop(index=(data[data['Marital_Status'] == 'Absurd'].index), axis = 0, inplace = True)\n",
    "data.drop(index=(data[data['Marital_Status'] == 'YOLO'].index), axis = 0, inplace = True)"
   ]
  },
  {
   "cell_type": "markdown",
   "id": "d2b6dc6d",
   "metadata": {
    "papermill": {
     "duration": 0.019369,
     "end_time": "2023-01-26T23:06:30.864831",
     "exception": false,
     "start_time": "2023-01-26T23:06:30.845462",
     "status": "completed"
    },
    "tags": []
   },
   "source": [
    "# Kidhome Variable"
   ]
  },
  {
   "cell_type": "code",
   "execution_count": 33,
   "id": "370af559",
   "metadata": {
    "execution": {
     "iopub.execute_input": "2023-01-26T23:06:30.907175Z",
     "iopub.status.busy": "2023-01-26T23:06:30.906802Z",
     "iopub.status.idle": "2023-01-26T23:06:30.914459Z",
     "shell.execute_reply": "2023-01-26T23:06:30.913090Z"
    },
    "papermill": {
     "duration": 0.031698,
     "end_time": "2023-01-26T23:06:30.916538",
     "exception": false,
     "start_time": "2023-01-26T23:06:30.884840",
     "status": "completed"
    },
    "tags": []
   },
   "outputs": [],
   "source": [
    "kidhome_category = CategoricalDtype(categories=[0,1,2], ordered = False)\n",
    "data['Kidhome'] = data['Kidhome'].astype(kidhome_category)"
   ]
  },
  {
   "cell_type": "markdown",
   "id": "aa8ea350",
   "metadata": {
    "papermill": {
     "duration": 0.019411,
     "end_time": "2023-01-26T23:06:30.955689",
     "exception": false,
     "start_time": "2023-01-26T23:06:30.936278",
     "status": "completed"
    },
    "tags": []
   },
   "source": [
    "# <p id = \"2\" style=\"font-family:arial;background-color:#2A93D5;color:#FFFFFF;font-size: 150%;text-align:center;border-radius: 0px 15px 15px 0px;border-style: solid;border-color: #2483bf;\">2.VISUALIZATION and EXPLORATORY ANALYSIS</p>\n",
    "[Click to return Table of Contents](#0)"
   ]
  },
  {
   "cell_type": "markdown",
   "id": "88f20e8e",
   "metadata": {
    "papermill": {
     "duration": 0.019012,
     "end_time": "2023-01-26T23:06:30.994788",
     "exception": false,
     "start_time": "2023-01-26T23:06:30.975776",
     "status": "completed"
    },
    "tags": []
   },
   "source": [
    "<p style=\"text-align:center; font-size:125%;\"><b>The Age Distribution</b></p>"
   ]
  },
  {
   "cell_type": "code",
   "execution_count": 34,
   "id": "d180d402",
   "metadata": {
    "execution": {
     "iopub.execute_input": "2023-01-26T23:06:31.036403Z",
     "iopub.status.busy": "2023-01-26T23:06:31.036039Z",
     "iopub.status.idle": "2023-01-26T23:06:31.230080Z",
     "shell.execute_reply": "2023-01-26T23:06:31.228674Z"
    },
    "papermill": {
     "duration": 0.216908,
     "end_time": "2023-01-26T23:06:31.232185",
     "exception": false,
     "start_time": "2023-01-26T23:06:31.015277",
     "status": "completed"
    },
    "tags": []
   },
   "outputs": [
    {
     "data": {
      "text/plain": [
       "[<matplotlib.axis.XTick at 0x7f1fc4e5dcd0>,\n",
       " <matplotlib.axis.XTick at 0x7f1fc4e5ddd0>,\n",
       " <matplotlib.axis.XTick at 0x7f1fc4e19910>,\n",
       " <matplotlib.axis.XTick at 0x7f1fc4e32810>,\n",
       " <matplotlib.axis.XTick at 0x7f1fc4e3f050>,\n",
       " <matplotlib.axis.XTick at 0x7f1fc4e3f950>,\n",
       " <matplotlib.axis.XTick at 0x7f1fc4e3fb10>,\n",
       " <matplotlib.axis.XTick at 0x7f1fc4e3f510>,\n",
       " <matplotlib.axis.XTick at 0x7f1fc4e5dd50>,\n",
       " <matplotlib.axis.XTick at 0x7f1fc4e3f350>,\n",
       " <matplotlib.axis.XTick at 0x7f1fc4f43cd0>,\n",
       " <matplotlib.axis.XTick at 0x7f1fc4de6350>,\n",
       " <matplotlib.axis.XTick at 0x7f1fc4de6c50>]"
      ]
     },
     "execution_count": 34,
     "metadata": {},
     "output_type": "execute_result"
    },
    {
     "data": {
      "image/png": "[encoded data removed]",
      "text/plain": [
       "<Figure size 432x288 with 1 Axes>"
      ]
     },
     "metadata": {
      "needs_background": "light"
     },
     "output_type": "display_data"
    }
   ],
   "source": [
    "histogram_plot = sns.histplot(data['Age'],bins=10)\n",
    "histogram_plot.set_xticks(ticks)"
   ]
  },
  {
   "cell_type": "code",
   "execution_count": 35,
   "id": "22fb8cdc",
   "metadata": {
    "execution": {
     "iopub.execute_input": "2023-01-26T23:06:31.274214Z",
     "iopub.status.busy": "2023-01-26T23:06:31.273843Z",
     "iopub.status.idle": "2023-01-26T23:06:31.399193Z",
     "shell.execute_reply": "2023-01-26T23:06:31.397481Z"
    },
    "papermill": {
     "duration": 0.149757,
     "end_time": "2023-01-26T23:06:31.402253",
     "exception": false,
     "start_time": "2023-01-26T23:06:31.252496",
     "status": "completed"
    },
    "tags": []
   },
   "outputs": [
    {
     "data": {
      "image/png": "[encoded data removed]",
      "text/plain": [
       "<Figure size 432x288 with 1 Axes>"
      ]
     },
     "metadata": {
      "needs_background": "light"
     },
     "output_type": "display_data"
    }
   ],
   "source": [
    "ax = sns.countplot(data=data, x=\"Age_Group\")\n",
    "for container in ax.containers:\n",
    "    ax.bar_label(container)"
   ]
  },
  {
   "cell_type": "markdown",
   "id": "aa06416b",
   "metadata": {
    "papermill": {
     "duration": 0.019985,
     "end_time": "2023-01-26T23:06:31.442507",
     "exception": false,
     "start_time": "2023-01-26T23:06:31.422522",
     "status": "completed"
    },
    "tags": []
   },
   "source": [
    "Percents of each age group:"
   ]
  },
  {
   "cell_type": "code",
   "execution_count": 36,
   "id": "a5ded7cb",
   "metadata": {
    "execution": {
     "iopub.execute_input": "2023-01-26T23:06:31.483985Z",
     "iopub.status.busy": "2023-01-26T23:06:31.483669Z",
     "iopub.status.idle": "2023-01-26T23:06:31.494850Z",
     "shell.execute_reply": "2023-01-26T23:06:31.493784Z"
    },
    "papermill": {
     "duration": 0.034043,
     "end_time": "2023-01-26T23:06:31.496681",
     "exception": false,
     "start_time": "2023-01-26T23:06:31.462638",
     "status": "completed"
    },
    "tags": []
   },
   "outputs": [
    {
     "data": {
      "text/plain": [
       "Adult          77.0\n",
       "Elder          23.0\n",
       "Young Adult     0.0\n",
       "Name: Age_Group, dtype: float64"
      ]
     },
     "execution_count": 36,
     "metadata": {},
     "output_type": "execute_result"
    }
   ],
   "source": [
    "round((data['Age_Group'].value_counts(normalize=True) * 100),0)"
   ]
  },
  {
   "cell_type": "markdown",
   "id": "734a7831",
   "metadata": {
    "papermill": {
     "duration": 0.019609,
     "end_time": "2023-01-26T23:06:31.536132",
     "exception": false,
     "start_time": "2023-01-26T23:06:31.516523",
     "status": "completed"
    },
    "tags": []
   },
   "source": [
    "There are no customers from the young adult group. It may be because of that the age variable's calculation is based on the current year."
   ]
  },
  {
   "cell_type": "markdown",
   "id": "1b5214c9",
   "metadata": {
    "papermill": {
     "duration": 0.019668,
     "end_time": "2023-01-26T23:06:31.576016",
     "exception": false,
     "start_time": "2023-01-26T23:06:31.556348",
     "status": "completed"
    },
    "tags": []
   },
   "source": [
    "<p style=\"text-align:center; font-size:125%;\"><b>Kidhome and Teenhome Distribution</b></p>\n",
    "<hr>"
   ]
  },
  {
   "cell_type": "code",
   "execution_count": 37,
   "id": "320e19ab",
   "metadata": {
    "execution": {
     "iopub.execute_input": "2023-01-26T23:06:31.617856Z",
     "iopub.status.busy": "2023-01-26T23:06:31.617490Z",
     "iopub.status.idle": "2023-01-26T23:06:31.800441Z",
     "shell.execute_reply": "2023-01-26T23:06:31.799616Z"
    },
    "papermill": {
     "duration": 0.205849,
     "end_time": "2023-01-26T23:06:31.802172",
     "exception": false,
     "start_time": "2023-01-26T23:06:31.596323",
     "status": "completed"
    },
    "tags": []
   },
   "outputs": [
    {
     "data": {
      "image/png": "[encoded data removed]",
      "text/plain": [
       "<Figure size 432x288 with 1 Axes>"
      ]
     },
     "metadata": {
      "needs_background": "light"
     },
     "output_type": "display_data"
    }
   ],
   "source": [
    "ax = sns.countplot(data=data, x=\"Kidhome\", hue=\"Age_Group\")\n",
    "smt = [(data[data['Kidhome'] == 0].count()[0]), (data[data['Kidhome'] == 1].count()[0]), (data[data['Kidhome'] == 2].count()[0])]\n",
    "for container in ax.containers:\n",
    "    ax.bar_label(container)"
   ]
  },
  {
   "cell_type": "code",
   "execution_count": 38,
   "id": "dba002a1",
   "metadata": {
    "execution": {
     "iopub.execute_input": "2023-01-26T23:06:31.842763Z",
     "iopub.status.busy": "2023-01-26T23:06:31.842085Z",
     "iopub.status.idle": "2023-01-26T23:06:31.927060Z",
     "shell.execute_reply": "2023-01-26T23:06:31.925941Z"
    },
    "papermill": {
     "duration": 0.107793,
     "end_time": "2023-01-26T23:06:31.929289",
     "exception": false,
     "start_time": "2023-01-26T23:06:31.821496",
     "status": "completed"
    },
    "tags": []
   },
   "outputs": [
    {
     "data": {
      "text/plain": [
       "([<matplotlib.patches.Wedge at 0x7f1fc4c5e1d0>,\n",
       "  <matplotlib.patches.Wedge at 0x7f1fc4c5ea90>,\n",
       "  <matplotlib.patches.Wedge at 0x7f1fc4c6d310>],\n",
       " [Text(-0.269231850666863, 1.0665431123899756, '0'),\n",
       "  Text(0.19857809836969287, -1.0819273260473075, '1'),\n",
       "  Text(1.0976233586695343, -0.07227006643840023, '2')],\n",
       " [Text(-0.1468537367273798, 0.5817507885763503, '57.9%'),\n",
       "  Text(0.10831532638346883, -0.5901421778439858, '40.0%'),\n",
       "  Text(0.5987036501833823, -0.0394200362391274, '2.1%')])"
      ]
     },
     "execution_count": 38,
     "metadata": {},
     "output_type": "execute_result"
    },
    {
     "data": {
      "image/png": "[encoded data removed]",
      "text/plain": [
       "<Figure size 432x288 with 1 Axes>"
      ]
     },
     "metadata": {},
     "output_type": "display_data"
    }
   ],
   "source": [
    "percentage_distribution = round((data['Kidhome'].value_counts(normalize=True) * 100),0)\n",
    "plt.pie(data['Kidhome'].value_counts(), labels = [\"0\", \"1\", \"2\"], autopct='%1.1f%%')"
   ]
  },
  {
   "cell_type": "markdown",
   "id": "7c0800ca",
   "metadata": {
    "papermill": {
     "duration": 0.030571,
     "end_time": "2023-01-26T23:06:31.988674",
     "exception": false,
     "start_time": "2023-01-26T23:06:31.958103",
     "status": "completed"
    },
    "tags": []
   },
   "source": [
    "The vast majority of customers do not have a kid in their home. The group with the most kids in the house is the adult group."
   ]
  },
  {
   "cell_type": "markdown",
   "id": "cb983f94",
   "metadata": {
    "papermill": {
     "duration": 0.023301,
     "end_time": "2023-01-26T23:06:32.040309",
     "exception": false,
     "start_time": "2023-01-26T23:06:32.017008",
     "status": "completed"
    },
    "tags": []
   },
   "source": [
    "<hr><hr>"
   ]
  },
  {
   "cell_type": "code",
   "execution_count": 39,
   "id": "afaf94ab",
   "metadata": {
    "execution": {
     "iopub.execute_input": "2023-01-26T23:06:32.084028Z",
     "iopub.status.busy": "2023-01-26T23:06:32.083128Z",
     "iopub.status.idle": "2023-01-26T23:06:32.288389Z",
     "shell.execute_reply": "2023-01-26T23:06:32.287239Z"
    },
    "papermill": {
     "duration": 0.229574,
     "end_time": "2023-01-26T23:06:32.290108",
     "exception": false,
     "start_time": "2023-01-26T23:06:32.060534",
     "status": "completed"
    },
    "tags": []
   },
   "outputs": [
    {
     "data": {
      "image/png": "[encoded data removed]",
      "text/plain": [
       "<Figure size 432x288 with 1 Axes>"
      ]
     },
     "metadata": {
      "needs_background": "light"
     },
     "output_type": "display_data"
    }
   ],
   "source": [
    "ax = sns.countplot(data=data, x=\"Teenhome\", hue=\"Age_Group\")\n",
    "for container in ax.containers:\n",
    "    ax.bar_label(container)"
   ]
  },
  {
   "cell_type": "code",
   "execution_count": 40,
   "id": "d605b52a",
   "metadata": {
    "execution": {
     "iopub.execute_input": "2023-01-26T23:06:32.331476Z",
     "iopub.status.busy": "2023-01-26T23:06:32.330886Z",
     "iopub.status.idle": "2023-01-26T23:06:32.403950Z",
     "shell.execute_reply": "2023-01-26T23:06:32.403122Z"
    },
    "papermill": {
     "duration": 0.096292,
     "end_time": "2023-01-26T23:06:32.406052",
     "exception": false,
     "start_time": "2023-01-26T23:06:32.309760",
     "status": "completed"
    },
    "tags": []
   },
   "outputs": [
    {
     "data": {
      "text/plain": [
       "([<matplotlib.patches.Wedge at 0x7f1fc4bc9510>,\n",
       "  <matplotlib.patches.Wedge at 0x7f1fc4b640d0>,\n",
       "  <matplotlib.patches.Wedge at 0x7f1fc4b64910>],\n",
       " [Text(-0.058145233806401846, 1.0984621667520458, '0'),\n",
       "  Text(-0.02200974166161712, -1.099779783080226, '1'),\n",
       "  Text(1.097078834338265, -0.08011261602890049, '2')],\n",
       " [Text(-0.03171558207621918, 0.5991611818647521, '51.7%'),\n",
       "  Text(-0.012005313633609337, -0.5998798816801232, '46.0%'),\n",
       "  Text(0.5984066369117808, -0.04369779056121844, '2.3%')])"
      ]
     },
     "execution_count": 40,
     "metadata": {},
     "output_type": "execute_result"
    },
    {
     "data": {
      "image/png": "[encoded data removed]",
      "text/plain": [
       "<Figure size 432x288 with 1 Axes>"
      ]
     },
     "metadata": {},
     "output_type": "display_data"
    }
   ],
   "source": [
    "percentage_distribution = round((data['Teenhome'].value_counts(normalize=True) * 100),0)\n",
    "plt.pie(data['Teenhome'].value_counts(), labels = [\"0\", \"1\", \"2\"], autopct='%1.1f%%')"
   ]
  },
  {
   "cell_type": "markdown",
   "id": "7ea9d5f3",
   "metadata": {
    "papermill": {
     "duration": 0.027731,
     "end_time": "2023-01-26T23:06:32.461967",
     "exception": false,
     "start_time": "2023-01-26T23:06:32.434236",
     "status": "completed"
    },
    "tags": []
   },
   "source": [
    "Almost half of customers do not have a teen in their home. The group with the most teen in the house is the adult group. Visibly, members of the elder age group mostly live with a teen.\n",
    "<hr>\n",
    "<hr>"
   ]
  },
  {
   "cell_type": "markdown",
   "id": "c0b1312b",
   "metadata": {
    "papermill": {
     "duration": 0.025152,
     "end_time": "2023-01-26T23:06:32.516214",
     "exception": false,
     "start_time": "2023-01-26T23:06:32.491062",
     "status": "completed"
    },
    "tags": []
   },
   "source": [
    "<p style=\"text-align:center; font-size:125%;\"><b>Education</b></p>\n",
    "<hr>"
   ]
  },
  {
   "cell_type": "code",
   "execution_count": 41,
   "id": "18dafd09",
   "metadata": {
    "execution": {
     "iopub.execute_input": "2023-01-26T23:06:32.561784Z",
     "iopub.status.busy": "2023-01-26T23:06:32.561317Z",
     "iopub.status.idle": "2023-01-26T23:06:32.721266Z",
     "shell.execute_reply": "2023-01-26T23:06:32.719813Z"
    },
    "papermill": {
     "duration": 0.186443,
     "end_time": "2023-01-26T23:06:32.723968",
     "exception": false,
     "start_time": "2023-01-26T23:06:32.537525",
     "status": "completed"
    },
    "tags": []
   },
   "outputs": [
    {
     "data": {
      "image/png": "[encoded data removed]",
      "text/plain": [
       "<Figure size 432x288 with 1 Axes>"
      ]
     },
     "metadata": {
      "needs_background": "light"
     },
     "output_type": "display_data"
    }
   ],
   "source": [
    "ax = sns.countplot(data=data, x=\"Education\")\n",
    "for container in ax.containers:\n",
    "    ax.bar_label(container)"
   ]
  },
  {
   "cell_type": "markdown",
   "id": "57bbaef8",
   "metadata": {
    "papermill": {
     "duration": 0.022191,
     "end_time": "2023-01-26T23:06:32.767513",
     "exception": false,
     "start_time": "2023-01-26T23:06:32.745322",
     "status": "completed"
    },
    "tags": []
   },
   "source": [
    "Percents of each education group:"
   ]
  },
  {
   "cell_type": "code",
   "execution_count": 42,
   "id": "4e1a37aa",
   "metadata": {
    "execution": {
     "iopub.execute_input": "2023-01-26T23:06:32.813006Z",
     "iopub.status.busy": "2023-01-26T23:06:32.812353Z",
     "iopub.status.idle": "2023-01-26T23:06:32.910239Z",
     "shell.execute_reply": "2023-01-26T23:06:32.909103Z"
    },
    "papermill": {
     "duration": 0.124217,
     "end_time": "2023-01-26T23:06:32.913388",
     "exception": false,
     "start_time": "2023-01-26T23:06:32.789171",
     "status": "completed"
    },
    "tags": []
   },
   "outputs": [
    {
     "data": {
      "text/plain": [
       "([<matplotlib.patches.Wedge at 0x7f1fc4a9f990>,\n",
       "  <matplotlib.patches.Wedge at 0x7f1fc4ac8210>,\n",
       "  <matplotlib.patches.Wedge at 0x7f1fc4ac8a50>,\n",
       "  <matplotlib.patches.Wedge at 0x7f1fc4ac8750>,\n",
       "  <matplotlib.patches.Wedge at 0x7f1fc4ad6a90>],\n",
       " [Text(-0.018865709194141076, 1.099838208563697, 'Graduation'),\n",
       "  Text(-0.8339399055689836, -0.7173173871443483, 'PhD'),\n",
       "  Text(0.35959446981695925, -1.03956328199733, 'Master'),\n",
       "  Text(0.9964580613638294, -0.46590914558853536, '2n Cycle'),\n",
       "  Text(1.0967252270294794, -0.08481613288247136, 'Basic')],\n",
       " [Text(-0.01029038683316786, 0.5999117501256529, '50.5%'),\n",
       "  Text(-0.4548763121285364, -0.3912640293514627, '21.5%'),\n",
       "  Text(0.19614243808197776, -0.567034517453089, '16.5%'),\n",
       "  Text(0.5435225789257251, -0.2541322612301102, '9.0%'),\n",
       "  Text(0.5982137601978977, -0.04626334520862074, '2.5%')])"
      ]
     },
     "execution_count": 42,
     "metadata": {},
     "output_type": "execute_result"
    },
    {
     "data": {
      "image/png": "[encoded data removed]",
      "text/plain": [
       "<Figure size 432x288 with 1 Axes>"
      ]
     },
     "metadata": {},
     "output_type": "display_data"
    }
   ],
   "source": [
    "percentage_distribution = round((data['Education'].value_counts(normalize=True) * 100),0)\n",
    "plt.pie(data['Education'].value_counts(), labels = (data['Education'].value_counts().index) ,autopct='%1.1f%%')"
   ]
  },
  {
   "cell_type": "code",
   "execution_count": 43,
   "id": "c7f13de3",
   "metadata": {
    "execution": {
     "iopub.execute_input": "2023-01-26T23:06:32.974146Z",
     "iopub.status.busy": "2023-01-26T23:06:32.973532Z",
     "iopub.status.idle": "2023-01-26T23:06:32.983137Z",
     "shell.execute_reply": "2023-01-26T23:06:32.982415Z"
    },
    "papermill": {
     "duration": 0.042717,
     "end_time": "2023-01-26T23:06:32.984928",
     "exception": false,
     "start_time": "2023-01-26T23:06:32.942211",
     "status": "completed"
    },
    "tags": []
   },
   "outputs": [
    {
     "data": {
      "text/plain": [
       "Graduation    51.0\n",
       "PhD           22.0\n",
       "Master        16.0\n",
       "2n Cycle       9.0\n",
       "Basic          2.0\n",
       "Name: Education, dtype: float64"
      ]
     },
     "execution_count": 43,
     "metadata": {},
     "output_type": "execute_result"
    }
   ],
   "source": [
    "round((data['Education'].value_counts(normalize=True) * 100),0)"
   ]
  },
  {
   "cell_type": "markdown",
   "id": "534f1033",
   "metadata": {
    "papermill": {
     "duration": 0.020903,
     "end_time": "2023-01-26T23:06:33.032152",
     "exception": false,
     "start_time": "2023-01-26T23:06:33.011249",
     "status": "completed"
    },
    "tags": []
   },
   "source": [
    "The half of clients are at the graduate level. It is observed that the customers who have received PhD level education are at a level that cannot be underestimated."
   ]
  },
  {
   "cell_type": "markdown",
   "id": "97d78ed8",
   "metadata": {
    "papermill": {
     "duration": 0.02141,
     "end_time": "2023-01-26T23:06:33.075055",
     "exception": false,
     "start_time": "2023-01-26T23:06:33.053645",
     "status": "completed"
    },
    "tags": []
   },
   "source": [
    "<p style=\"text-align:center; font-size:125%;\"><b>Marital Status</b></p>"
   ]
  },
  {
   "cell_type": "code",
   "execution_count": 44,
   "id": "b1f0ce1f",
   "metadata": {
    "execution": {
     "iopub.execute_input": "2023-01-26T23:06:33.119768Z",
     "iopub.status.busy": "2023-01-26T23:06:33.119295Z",
     "iopub.status.idle": "2023-01-26T23:06:33.298470Z",
     "shell.execute_reply": "2023-01-26T23:06:33.296552Z"
    },
    "papermill": {
     "duration": 0.204817,
     "end_time": "2023-01-26T23:06:33.301074",
     "exception": false,
     "start_time": "2023-01-26T23:06:33.096257",
     "status": "completed"
    },
    "tags": []
   },
   "outputs": [
    {
     "data": {
      "image/png": "[encoded data removed]",
      "text/plain": [
       "<Figure size 432x288 with 1 Axes>"
      ]
     },
     "metadata": {
      "needs_background": "light"
     },
     "output_type": "display_data"
    }
   ],
   "source": [
    "ax = sns.countplot(data=data, x=\"Marital_Status\")\n",
    "for container in ax.containers:\n",
    "    ax.bar_label(container)"
   ]
  },
  {
   "cell_type": "markdown",
   "id": "79625c75",
   "metadata": {
    "papermill": {
     "duration": 0.0216,
     "end_time": "2023-01-26T23:06:33.344324",
     "exception": false,
     "start_time": "2023-01-26T23:06:33.322724",
     "status": "completed"
    },
    "tags": []
   },
   "source": [
    "Percents of each marital status group:"
   ]
  },
  {
   "cell_type": "code",
   "execution_count": 45,
   "id": "27189997",
   "metadata": {
    "execution": {
     "iopub.execute_input": "2023-01-26T23:06:33.402767Z",
     "iopub.status.busy": "2023-01-26T23:06:33.402321Z",
     "iopub.status.idle": "2023-01-26T23:06:33.412018Z",
     "shell.execute_reply": "2023-01-26T23:06:33.410884Z"
    },
    "papermill": {
     "duration": 0.043527,
     "end_time": "2023-01-26T23:06:33.414251",
     "exception": false,
     "start_time": "2023-01-26T23:06:33.370724",
     "status": "completed"
    },
    "tags": []
   },
   "outputs": [
    {
     "data": {
      "text/plain": [
       "Married     39.0\n",
       "Together    26.0\n",
       "Single      21.0\n",
       "Divorced    10.0\n",
       "Widow        3.0\n",
       "Name: Marital_Status, dtype: float64"
      ]
     },
     "execution_count": 45,
     "metadata": {},
     "output_type": "execute_result"
    }
   ],
   "source": [
    "round((data['Marital_Status'].value_counts(normalize=True) * 100),0)"
   ]
  },
  {
   "cell_type": "code",
   "execution_count": 46,
   "id": "48466f16",
   "metadata": {
    "execution": {
     "iopub.execute_input": "2023-01-26T23:06:33.470694Z",
     "iopub.status.busy": "2023-01-26T23:06:33.470264Z",
     "iopub.status.idle": "2023-01-26T23:06:33.753228Z",
     "shell.execute_reply": "2023-01-26T23:06:33.752440Z"
    },
    "papermill": {
     "duration": 0.31425,
     "end_time": "2023-01-26T23:06:33.755495",
     "exception": false,
     "start_time": "2023-01-26T23:06:33.441245",
     "status": "completed"
    },
    "tags": []
   },
   "outputs": [
    {
     "data": {
      "text/plain": [
       "([<matplotlib.patches.Wedge at 0x7f1fc4aec510>,\n",
       "  <matplotlib.patches.Wedge at 0x7f1fc4b20510>,\n",
       "  <matplotlib.patches.Wedge at 0x7f1fc4b20250>,\n",
       "  <matplotlib.patches.Wedge at 0x7f1fc4b20e10>,\n",
       "  <matplotlib.patches.Wedge at 0x7f1fc4b17f50>],\n",
       " [Text(0.37737105027210194, 1.0332429967904602, 'Married'),\n",
       "  Text(-1.0931711756159788, -0.12237965845016482, 'Together'),\n",
       "  Text(0.026725136204632176, -1.0996753007569298, 'Single'),\n",
       "  Text(0.9400743439104327, -0.5711919361487605, 'Divorced'),\n",
       "  Text(1.0935165264635396, -0.11925437665391914, 'Widow')],\n",
       " [Text(0.20583875469387375, 0.5635870891584327, '38.9%'),\n",
       "  Text(-0.5962751866996248, -0.06675254097281717, '25.8%'),\n",
       "  Text(0.014577347020708458, -0.5998228913219616, '21.4%'),\n",
       "  Text(0.5127678239511451, -0.3115592378993239, '10.5%'),\n",
       "  Text(0.5964635598892034, -0.06504784181122862, '3.5%')])"
      ]
     },
     "execution_count": 46,
     "metadata": {},
     "output_type": "execute_result"
    },
    {
     "data": {
      "image/png": "[encoded data removed]",
      "text/plain": [
       "<Figure size 432x288 with 1 Axes>"
      ]
     },
     "metadata": {},
     "output_type": "display_data"
    }
   ],
   "source": [
    "percentage_distribution = round((data['Marital_Status'].value_counts(normalize=True) * 100),0)\n",
    "plt.pie(data['Marital_Status'].value_counts(), labels = (data['Marital_Status'].value_counts().index) ,autopct='%1.1f%%')"
   ]
  },
  {
   "cell_type": "code",
   "execution_count": 47,
   "id": "1185fb6e",
   "metadata": {
    "execution": {
     "iopub.execute_input": "2023-01-26T23:06:33.820791Z",
     "iopub.status.busy": "2023-01-26T23:06:33.819968Z",
     "iopub.status.idle": "2023-01-26T23:06:34.231239Z",
     "shell.execute_reply": "2023-01-26T23:06:34.230622Z"
    },
    "papermill": {
     "duration": 0.444823,
     "end_time": "2023-01-26T23:06:34.232838",
     "exception": false,
     "start_time": "2023-01-26T23:06:33.788015",
     "status": "completed"
    },
    "tags": []
   },
   "outputs": [
    {
     "data": {
      "text/plain": [
       "<seaborn.axisgrid.FacetGrid at 0x7f1fc51d3b50>"
      ]
     },
     "execution_count": 47,
     "metadata": {},
     "output_type": "execute_result"
    },
    {
     "data": {
      "image/png": "[encoded data removed]",
      "text/plain": [
       "<Figure size 455.125x360 with 1 Axes>"
      ]
     },
     "metadata": {
      "needs_background": "light"
     },
     "output_type": "display_data"
    }
   ],
   "source": [
    "sns.catplot(data=data, x = \"Education\", y = \"NumWebVisitsMonth\", kind=\"box\", hue=\"Age_Group\")"
   ]
  },
  {
   "cell_type": "markdown",
   "id": "72c3bc25",
   "metadata": {
    "papermill": {
     "duration": 0.021786,
     "end_time": "2023-01-26T23:06:34.276965",
     "exception": false,
     "start_time": "2023-01-26T23:06:34.255179",
     "status": "completed"
    },
    "tags": []
   },
   "source": [
    "In almost every age group, except for the level of Phd education, the elder group made fewer website visits than the adult group."
   ]
  },
  {
   "cell_type": "code",
   "execution_count": 48,
   "id": "2f95765f",
   "metadata": {
    "execution": {
     "iopub.execute_input": "2023-01-26T23:06:34.323444Z",
     "iopub.status.busy": "2023-01-26T23:06:34.322794Z",
     "iopub.status.idle": "2023-01-26T23:06:34.709224Z",
     "shell.execute_reply": "2023-01-26T23:06:34.708100Z"
    },
    "papermill": {
     "duration": 0.412643,
     "end_time": "2023-01-26T23:06:34.711873",
     "exception": false,
     "start_time": "2023-01-26T23:06:34.299230",
     "status": "completed"
    },
    "tags": []
   },
   "outputs": [
    {
     "data": {
      "text/plain": [
       "<seaborn.axisgrid.FacetGrid at 0x7f1fc4a4c850>"
      ]
     },
     "execution_count": 48,
     "metadata": {},
     "output_type": "execute_result"
    },
    {
     "data": {
      "image/png": "[encoded data removed]",
      "text/plain": [
       "<Figure size 455.125x360 with 1 Axes>"
      ]
     },
     "metadata": {
      "needs_background": "light"
     },
     "output_type": "display_data"
    }
   ],
   "source": [
    "sns.catplot(data=data, x = \"Education\", y = \"NumWebPurchases\", kind=\"box\", hue=\"Age_Group\")"
   ]
  },
  {
   "cell_type": "markdown",
   "id": "6caa02e9",
   "metadata": {
    "papermill": {
     "duration": 0.022377,
     "end_time": "2023-01-26T23:06:34.757280",
     "exception": false,
     "start_time": "2023-01-26T23:06:34.734903",
     "status": "completed"
    },
    "tags": []
   },
   "source": [
    "However, when the shopping rates are examined, it is observed that the **elder group generally makes more internet shopping**."
   ]
  },
  {
   "cell_type": "code",
   "execution_count": 49,
   "id": "724ce3e3",
   "metadata": {
    "execution": {
     "iopub.execute_input": "2023-01-26T23:06:34.805189Z",
     "iopub.status.busy": "2023-01-26T23:06:34.804298Z",
     "iopub.status.idle": "2023-01-26T23:06:35.248933Z",
     "shell.execute_reply": "2023-01-26T23:06:35.247145Z"
    },
    "papermill": {
     "duration": 0.471513,
     "end_time": "2023-01-26T23:06:35.251869",
     "exception": false,
     "start_time": "2023-01-26T23:06:34.780356",
     "status": "completed"
    },
    "tags": []
   },
   "outputs": [
    {
     "data": {
      "text/plain": [
       "<matplotlib.legend.Legend at 0x7f1fc7677f90>"
      ]
     },
     "execution_count": 49,
     "metadata": {},
     "output_type": "execute_result"
    },
    {
     "data": {
      "image/png": "[encoded data removed]",
      "text/plain": [
       "<Figure size 432x288 with 1 Axes>"
      ]
     },
     "metadata": {
      "needs_background": "light"
     },
     "output_type": "display_data"
    }
   ],
   "source": [
    "fig, ax = plt.subplots()\n",
    "ax_1 = sns.lineplot(data=data, x=\"Education\", y=\"NumWebVisitsMonth\")\n",
    "ax_2 = sns.lineplot(data=data, x=\"Education\", y=\"NumWebPurchases\")\n",
    "plt.legend([\"NumWebVisitsMonth\",\"\",\"NumWebPurchases\",\"\"])"
   ]
  },
  {
   "cell_type": "markdown",
   "id": "31bbb1ba",
   "metadata": {
    "papermill": {
     "duration": 0.024706,
     "end_time": "2023-01-26T23:06:35.301519",
     "exception": false,
     "start_time": "2023-01-26T23:06:35.276813",
     "status": "completed"
    },
    "tags": []
   },
   "source": [
    "In the case of education, it is observed that the number of purchases is approaching with the website visits made in the process from basic to phd level. Accordingly, it is estimated that as the level of education increases, **the customer plans in advance what he/she will buy**. **As the level of education decreases, the number of non-shopping visits increases**."
   ]
  },
  {
   "cell_type": "code",
   "execution_count": 50,
   "id": "a28c2b85",
   "metadata": {
    "execution": {
     "iopub.execute_input": "2023-01-26T23:06:35.352208Z",
     "iopub.status.busy": "2023-01-26T23:06:35.351092Z",
     "iopub.status.idle": "2023-01-26T23:06:35.592010Z",
     "shell.execute_reply": "2023-01-26T23:06:35.591258Z"
    },
    "papermill": {
     "duration": 0.268431,
     "end_time": "2023-01-26T23:06:35.593781",
     "exception": false,
     "start_time": "2023-01-26T23:06:35.325350",
     "status": "completed"
    },
    "tags": []
   },
   "outputs": [
    {
     "data": {
      "text/plain": [
       "<seaborn.axisgrid.FacetGrid at 0x7f1fc485c690>"
      ]
     },
     "execution_count": 50,
     "metadata": {},
     "output_type": "execute_result"
    },
    {
     "data": {
      "image/png": "[encoded data removed]",
      "text/plain": [
       "<Figure size 360x360 with 1 Axes>"
      ]
     },
     "metadata": {
      "needs_background": "light"
     },
     "output_type": "display_data"
    }
   ],
   "source": [
    "sns.catplot(data=data, x=\"Education\", y=\"Income\", kind=\"box\")"
   ]
  },
  {
   "cell_type": "code",
   "execution_count": 51,
   "id": "0a4507df",
   "metadata": {
    "execution": {
     "iopub.execute_input": "2023-01-26T23:06:35.646482Z",
     "iopub.status.busy": "2023-01-26T23:06:35.645345Z",
     "iopub.status.idle": "2023-01-26T23:06:36.043416Z",
     "shell.execute_reply": "2023-01-26T23:06:36.042375Z"
    },
    "papermill": {
     "duration": 0.427075,
     "end_time": "2023-01-26T23:06:36.045865",
     "exception": false,
     "start_time": "2023-01-26T23:06:35.618790",
     "status": "completed"
    },
    "tags": []
   },
   "outputs": [
    {
     "data": {
      "text/plain": [
       "<seaborn.axisgrid.FacetGrid at 0x7f1fc477f8d0>"
      ]
     },
     "execution_count": 51,
     "metadata": {},
     "output_type": "execute_result"
    },
    {
     "data": {
      "image/png": "[encoded data removed]",
      "text/plain": [
       "<Figure size 455.125x360 with 1 Axes>"
      ]
     },
     "metadata": {
      "needs_background": "light"
     },
     "output_type": "display_data"
    }
   ],
   "source": [
    "sns.catplot(data=data, x=\"Education\", y=\"Income\", kind=\"box\", hue=\"Age_Group\")"
   ]
  },
  {
   "cell_type": "markdown",
   "id": "c261c1b3",
   "metadata": {
    "papermill": {
     "duration": 0.024406,
     "end_time": "2023-01-26T23:06:36.094706",
     "exception": false,
     "start_time": "2023-01-26T23:06:36.070300",
     "status": "completed"
    },
    "tags": []
   },
   "source": [
    "On an average basis, the income of the PhD group is higher than the other groups. It is observed that the income status of the Basic group is quite low compared to the other groups."
   ]
  },
  {
   "cell_type": "code",
   "execution_count": 52,
   "id": "f9a5ac94",
   "metadata": {
    "execution": {
     "iopub.execute_input": "2023-01-26T23:06:36.144421Z",
     "iopub.status.busy": "2023-01-26T23:06:36.144066Z",
     "iopub.status.idle": "2023-01-26T23:06:36.500788Z",
     "shell.execute_reply": "2023-01-26T23:06:36.499266Z"
    },
    "papermill": {
     "duration": 0.384218,
     "end_time": "2023-01-26T23:06:36.503236",
     "exception": false,
     "start_time": "2023-01-26T23:06:36.119018",
     "status": "completed"
    },
    "tags": []
   },
   "outputs": [
    {
     "data": {
      "text/plain": [
       "<seaborn.axisgrid.FacetGrid at 0x7f1fc45da4d0>"
      ]
     },
     "execution_count": 52,
     "metadata": {},
     "output_type": "execute_result"
    },
    {
     "data": {
      "image/png": "[encoded data removed]",
      "text/plain": [
       "<Figure size 455.125x360 with 1 Axes>"
      ]
     },
     "metadata": {
      "needs_background": "light"
     },
     "output_type": "display_data"
    }
   ],
   "source": [
    "sns.catplot(data=data, x=\"Kidhome\", y=\"Income\", kind=\"box\", hue=\"Age_Group\")"
   ]
  },
  {
   "cell_type": "code",
   "execution_count": 53,
   "id": "932a8b75",
   "metadata": {
    "execution": {
     "iopub.execute_input": "2023-01-26T23:06:36.560207Z",
     "iopub.status.busy": "2023-01-26T23:06:36.559569Z",
     "iopub.status.idle": "2023-01-26T23:06:36.885827Z",
     "shell.execute_reply": "2023-01-26T23:06:36.884683Z"
    },
    "papermill": {
     "duration": 0.359238,
     "end_time": "2023-01-26T23:06:36.888347",
     "exception": false,
     "start_time": "2023-01-26T23:06:36.529109",
     "status": "completed"
    },
    "tags": []
   },
   "outputs": [
    {
     "data": {
      "text/plain": [
       "<seaborn.axisgrid.FacetGrid at 0x7f1fc45b3650>"
      ]
     },
     "execution_count": 53,
     "metadata": {},
     "output_type": "execute_result"
    },
    {
     "data": {
      "image/png": "[encoded data removed]",
      "text/plain": [
       "<Figure size 455.125x360 with 1 Axes>"
      ]
     },
     "metadata": {
      "needs_background": "light"
     },
     "output_type": "display_data"
    }
   ],
   "source": [
    "sns.catplot(data=data, x=\"Teenhome\", y=\"Income\", kind=\"box\", hue=\"Age_Group\")"
   ]
  }
 ],
 "metadata": {
  "kernelspec": {
   "display_name": "Python 3",
   "language": "python",
   "name": "python3"
  },
  "language_info": {
   "codemirror_mode": {
    "name": "ipython",
    "version": 3
   },
   "file_extension": ".py",
   "mimetype": "text/x-python",
   "name": "python",
   "nbconvert_exporter": "python",
   "pygments_lexer": "ipython3",
   "version": "3.7.12"
  },
  "papermill": {
   "default_parameters": {},
   "duration": 21.33387,
   "end_time": "2023-01-26T23:06:38.037647",
   "environment_variables": {},
   "exception": null,
   "input_path": "__notebook__.ipynb",
   "output_path": "__notebook__.ipynb",
   "parameters": {},
   "start_time": "2023-01-26T23:06:16.703777",
   "version": "2.3.4"
  }
 },
 "nbformat": 4,
 "nbformat_minor": 5
}
