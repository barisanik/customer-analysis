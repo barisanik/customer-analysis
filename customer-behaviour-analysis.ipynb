{
 "cells": [
  {
   "cell_type": "code",
   "execution_count": 1,
   "id": "d2aab46e",
   "metadata": {
    "_cell_guid": "b1076dfc-b9ad-4769-8c92-a6c4dae69d19",
    "_uuid": "8f2839f25d086af736a60e9eeb907d3b93b6e0e5",
    "execution": {
     "iopub.execute_input": "2023-01-24T00:49:49.649714Z",
     "iopub.status.busy": "2023-01-24T00:49:49.649076Z",
     "iopub.status.idle": "2023-01-24T00:49:50.689854Z",
     "shell.execute_reply": "2023-01-24T00:49:50.688628Z"
    },
    "papermill": {
     "duration": 1.063553,
     "end_time": "2023-01-24T00:49:50.692875",
     "exception": false,
     "start_time": "2023-01-24T00:49:49.629322",
     "status": "completed"
    },
    "tags": []
   },
   "outputs": [],
   "source": [
    "import pandas as pd\n",
    "import warnings \n",
    "import seaborn as sns\n",
    "import numpy as np\n",
    "import matplotlib.pyplot as plt\n",
    "warnings.filterwarnings('ignore')\n",
    "pd.set_option('display.max_columns', None)"
   ]
  },
  {
   "cell_type": "markdown",
   "id": "bb47991d",
   "metadata": {
    "papermill": {
     "duration": 0.013595,
     "end_time": "2023-01-24T00:49:50.720812",
     "exception": false,
     "start_time": "2023-01-24T00:49:50.707217",
     "status": "completed"
    },
    "tags": []
   },
   "source": [
    "<p id = 0></p>"
   ]
  },
  {
   "cell_type": "markdown",
   "id": "006dcde7",
   "metadata": {
    "papermill": {
     "duration": 0.013265,
     "end_time": "2023-01-24T00:49:50.747864",
     "exception": false,
     "start_time": "2023-01-24T00:49:50.734599",
     "status": "completed"
    },
    "tags": []
   },
   "source": [
    "# Table of Contents\n",
    "\n",
    "* [1. Pre-Processing](#1)\n",
    "* [2. Visualization and Exploratory Analysis](#2)\n"
   ]
  },
  {
   "cell_type": "markdown",
   "id": "660264cb",
   "metadata": {
    "papermill": {
     "duration": 0.014011,
     "end_time": "2023-01-24T00:49:50.775508",
     "exception": false,
     "start_time": "2023-01-24T00:49:50.761497",
     "status": "completed"
    },
    "tags": []
   },
   "source": [
    "# <p id = \"1\" style=\"font-family:arial;background-color:#2A93D5;color:#FFFFFF;font-size: 150%;text-align:center;border-radius: 0px 15px 15px 0px;border-style: solid;border-color: #2483bf;\">1.PRE-PROCESSING</p>\n",
    "[Click to return Table of Contents](#0)"
   ]
  },
  {
   "cell_type": "code",
   "execution_count": 2,
   "id": "c815003e",
   "metadata": {
    "execution": {
     "iopub.execute_input": "2023-01-24T00:49:50.804601Z",
     "iopub.status.busy": "2023-01-24T00:49:50.804161Z",
     "iopub.status.idle": "2023-01-24T00:49:50.864060Z",
     "shell.execute_reply": "2023-01-24T00:49:50.862950Z"
    },
    "papermill": {
     "duration": 0.077394,
     "end_time": "2023-01-24T00:49:50.866594",
     "exception": false,
     "start_time": "2023-01-24T00:49:50.789200",
     "status": "completed"
    },
    "tags": []
   },
   "outputs": [
    {
     "data": {
      "text/html": [
       "<div>\n",
       "<style scoped>\n",
       "    .dataframe tbody tr th:only-of-type {\n",
       "        vertical-align: middle;\n",
       "    }\n",
       "\n",
       "    .dataframe tbody tr th {\n",
       "        vertical-align: top;\n",
       "    }\n",
       "\n",
       "    .dataframe thead th {\n",
       "        text-align: right;\n",
       "    }\n",
       "</style>\n",
       "<table border=\"1\" class=\"dataframe\">\n",
       "  <thead>\n",
       "    <tr style=\"text-align: right;\">\n",
       "      <th></th>\n",
       "      <th>ID</th>\n",
       "      <th>Year_Birth</th>\n",
       "      <th>Education</th>\n",
       "      <th>Marital_Status</th>\n",
       "      <th>Income</th>\n",
       "      <th>Kidhome</th>\n",
       "      <th>Teenhome</th>\n",
       "      <th>Dt_Customer</th>\n",
       "      <th>Recency</th>\n",
       "      <th>MntWines</th>\n",
       "      <th>MntFruits</th>\n",
       "      <th>MntMeatProducts</th>\n",
       "      <th>MntFishProducts</th>\n",
       "      <th>MntSweetProducts</th>\n",
       "      <th>MntGoldProds</th>\n",
       "      <th>NumDealsPurchases</th>\n",
       "      <th>NumWebPurchases</th>\n",
       "      <th>NumCatalogPurchases</th>\n",
       "      <th>NumStorePurchases</th>\n",
       "      <th>NumWebVisitsMonth</th>\n",
       "      <th>AcceptedCmp3</th>\n",
       "      <th>AcceptedCmp4</th>\n",
       "      <th>AcceptedCmp5</th>\n",
       "      <th>AcceptedCmp1</th>\n",
       "      <th>AcceptedCmp2</th>\n",
       "      <th>Complain</th>\n",
       "      <th>Z_CostContact</th>\n",
       "      <th>Z_Revenue</th>\n",
       "      <th>Response</th>\n",
       "    </tr>\n",
       "  </thead>\n",
       "  <tbody>\n",
       "    <tr>\n",
       "      <th>0</th>\n",
       "      <td>5524</td>\n",
       "      <td>1957</td>\n",
       "      <td>Graduation</td>\n",
       "      <td>Single</td>\n",
       "      <td>58138.0</td>\n",
       "      <td>0</td>\n",
       "      <td>0</td>\n",
       "      <td>04-09-2012</td>\n",
       "      <td>58</td>\n",
       "      <td>635</td>\n",
       "      <td>88</td>\n",
       "      <td>546</td>\n",
       "      <td>172</td>\n",
       "      <td>88</td>\n",
       "      <td>88</td>\n",
       "      <td>3</td>\n",
       "      <td>8</td>\n",
       "      <td>10</td>\n",
       "      <td>4</td>\n",
       "      <td>7</td>\n",
       "      <td>0</td>\n",
       "      <td>0</td>\n",
       "      <td>0</td>\n",
       "      <td>0</td>\n",
       "      <td>0</td>\n",
       "      <td>0</td>\n",
       "      <td>3</td>\n",
       "      <td>11</td>\n",
       "      <td>1</td>\n",
       "    </tr>\n",
       "    <tr>\n",
       "      <th>1</th>\n",
       "      <td>2174</td>\n",
       "      <td>1954</td>\n",
       "      <td>Graduation</td>\n",
       "      <td>Single</td>\n",
       "      <td>46344.0</td>\n",
       "      <td>1</td>\n",
       "      <td>1</td>\n",
       "      <td>08-03-2014</td>\n",
       "      <td>38</td>\n",
       "      <td>11</td>\n",
       "      <td>1</td>\n",
       "      <td>6</td>\n",
       "      <td>2</td>\n",
       "      <td>1</td>\n",
       "      <td>6</td>\n",
       "      <td>2</td>\n",
       "      <td>1</td>\n",
       "      <td>1</td>\n",
       "      <td>2</td>\n",
       "      <td>5</td>\n",
       "      <td>0</td>\n",
       "      <td>0</td>\n",
       "      <td>0</td>\n",
       "      <td>0</td>\n",
       "      <td>0</td>\n",
       "      <td>0</td>\n",
       "      <td>3</td>\n",
       "      <td>11</td>\n",
       "      <td>0</td>\n",
       "    </tr>\n",
       "    <tr>\n",
       "      <th>2</th>\n",
       "      <td>4141</td>\n",
       "      <td>1965</td>\n",
       "      <td>Graduation</td>\n",
       "      <td>Together</td>\n",
       "      <td>71613.0</td>\n",
       "      <td>0</td>\n",
       "      <td>0</td>\n",
       "      <td>21-08-2013</td>\n",
       "      <td>26</td>\n",
       "      <td>426</td>\n",
       "      <td>49</td>\n",
       "      <td>127</td>\n",
       "      <td>111</td>\n",
       "      <td>21</td>\n",
       "      <td>42</td>\n",
       "      <td>1</td>\n",
       "      <td>8</td>\n",
       "      <td>2</td>\n",
       "      <td>10</td>\n",
       "      <td>4</td>\n",
       "      <td>0</td>\n",
       "      <td>0</td>\n",
       "      <td>0</td>\n",
       "      <td>0</td>\n",
       "      <td>0</td>\n",
       "      <td>0</td>\n",
       "      <td>3</td>\n",
       "      <td>11</td>\n",
       "      <td>0</td>\n",
       "    </tr>\n",
       "    <tr>\n",
       "      <th>3</th>\n",
       "      <td>6182</td>\n",
       "      <td>1984</td>\n",
       "      <td>Graduation</td>\n",
       "      <td>Together</td>\n",
       "      <td>26646.0</td>\n",
       "      <td>1</td>\n",
       "      <td>0</td>\n",
       "      <td>10-02-2014</td>\n",
       "      <td>26</td>\n",
       "      <td>11</td>\n",
       "      <td>4</td>\n",
       "      <td>20</td>\n",
       "      <td>10</td>\n",
       "      <td>3</td>\n",
       "      <td>5</td>\n",
       "      <td>2</td>\n",
       "      <td>2</td>\n",
       "      <td>0</td>\n",
       "      <td>4</td>\n",
       "      <td>6</td>\n",
       "      <td>0</td>\n",
       "      <td>0</td>\n",
       "      <td>0</td>\n",
       "      <td>0</td>\n",
       "      <td>0</td>\n",
       "      <td>0</td>\n",
       "      <td>3</td>\n",
       "      <td>11</td>\n",
       "      <td>0</td>\n",
       "    </tr>\n",
       "    <tr>\n",
       "      <th>4</th>\n",
       "      <td>5324</td>\n",
       "      <td>1981</td>\n",
       "      <td>PhD</td>\n",
       "      <td>Married</td>\n",
       "      <td>58293.0</td>\n",
       "      <td>1</td>\n",
       "      <td>0</td>\n",
       "      <td>19-01-2014</td>\n",
       "      <td>94</td>\n",
       "      <td>173</td>\n",
       "      <td>43</td>\n",
       "      <td>118</td>\n",
       "      <td>46</td>\n",
       "      <td>27</td>\n",
       "      <td>15</td>\n",
       "      <td>5</td>\n",
       "      <td>5</td>\n",
       "      <td>3</td>\n",
       "      <td>6</td>\n",
       "      <td>5</td>\n",
       "      <td>0</td>\n",
       "      <td>0</td>\n",
       "      <td>0</td>\n",
       "      <td>0</td>\n",
       "      <td>0</td>\n",
       "      <td>0</td>\n",
       "      <td>3</td>\n",
       "      <td>11</td>\n",
       "      <td>0</td>\n",
       "    </tr>\n",
       "  </tbody>\n",
       "</table>\n",
       "</div>"
      ],
      "text/plain": [
       "     ID  Year_Birth   Education Marital_Status   Income  Kidhome  Teenhome  \\\n",
       "0  5524        1957  Graduation         Single  58138.0        0         0   \n",
       "1  2174        1954  Graduation         Single  46344.0        1         1   \n",
       "2  4141        1965  Graduation       Together  71613.0        0         0   \n",
       "3  6182        1984  Graduation       Together  26646.0        1         0   \n",
       "4  5324        1981         PhD        Married  58293.0        1         0   \n",
       "\n",
       "  Dt_Customer  Recency  MntWines  MntFruits  MntMeatProducts  MntFishProducts  \\\n",
       "0  04-09-2012       58       635         88              546              172   \n",
       "1  08-03-2014       38        11          1                6                2   \n",
       "2  21-08-2013       26       426         49              127              111   \n",
       "3  10-02-2014       26        11          4               20               10   \n",
       "4  19-01-2014       94       173         43              118               46   \n",
       "\n",
       "   MntSweetProducts  MntGoldProds  NumDealsPurchases  NumWebPurchases  \\\n",
       "0                88            88                  3                8   \n",
       "1                 1             6                  2                1   \n",
       "2                21            42                  1                8   \n",
       "3                 3             5                  2                2   \n",
       "4                27            15                  5                5   \n",
       "\n",
       "   NumCatalogPurchases  NumStorePurchases  NumWebVisitsMonth  AcceptedCmp3  \\\n",
       "0                   10                  4                  7             0   \n",
       "1                    1                  2                  5             0   \n",
       "2                    2                 10                  4             0   \n",
       "3                    0                  4                  6             0   \n",
       "4                    3                  6                  5             0   \n",
       "\n",
       "   AcceptedCmp4  AcceptedCmp5  AcceptedCmp1  AcceptedCmp2  Complain  \\\n",
       "0             0             0             0             0         0   \n",
       "1             0             0             0             0         0   \n",
       "2             0             0             0             0         0   \n",
       "3             0             0             0             0         0   \n",
       "4             0             0             0             0         0   \n",
       "\n",
       "   Z_CostContact  Z_Revenue  Response  \n",
       "0              3         11         1  \n",
       "1              3         11         0  \n",
       "2              3         11         0  \n",
       "3              3         11         0  \n",
       "4              3         11         0  "
      ]
     },
     "execution_count": 2,
     "metadata": {},
     "output_type": "execute_result"
    }
   ],
   "source": [
    "data = pd.read_csv('../input/customer-personality-analysis/marketing_campaign.csv', sep='\\t')\n",
    "data.head()"
   ]
  },
  {
   "cell_type": "code",
   "execution_count": 3,
   "id": "e3dd2cbc",
   "metadata": {
    "execution": {
     "iopub.execute_input": "2023-01-24T00:49:50.897944Z",
     "iopub.status.busy": "2023-01-24T00:49:50.897527Z",
     "iopub.status.idle": "2023-01-24T00:49:50.923067Z",
     "shell.execute_reply": "2023-01-24T00:49:50.921852Z"
    },
    "papermill": {
     "duration": 0.044502,
     "end_time": "2023-01-24T00:49:50.925918",
     "exception": false,
     "start_time": "2023-01-24T00:49:50.881416",
     "status": "completed"
    },
    "tags": []
   },
   "outputs": [
    {
     "name": "stdout",
     "output_type": "stream",
     "text": [
      "<class 'pandas.core.frame.DataFrame'>\n",
      "RangeIndex: 2240 entries, 0 to 2239\n",
      "Data columns (total 29 columns):\n",
      " #   Column               Non-Null Count  Dtype  \n",
      "---  ------               --------------  -----  \n",
      " 0   ID                   2240 non-null   int64  \n",
      " 1   Year_Birth           2240 non-null   int64  \n",
      " 2   Education            2240 non-null   object \n",
      " 3   Marital_Status       2240 non-null   object \n",
      " 4   Income               2216 non-null   float64\n",
      " 5   Kidhome              2240 non-null   int64  \n",
      " 6   Teenhome             2240 non-null   int64  \n",
      " 7   Dt_Customer          2240 non-null   object \n",
      " 8   Recency              2240 non-null   int64  \n",
      " 9   MntWines             2240 non-null   int64  \n",
      " 10  MntFruits            2240 non-null   int64  \n",
      " 11  MntMeatProducts      2240 non-null   int64  \n",
      " 12  MntFishProducts      2240 non-null   int64  \n",
      " 13  MntSweetProducts     2240 non-null   int64  \n",
      " 14  MntGoldProds         2240 non-null   int64  \n",
      " 15  NumDealsPurchases    2240 non-null   int64  \n",
      " 16  NumWebPurchases      2240 non-null   int64  \n",
      " 17  NumCatalogPurchases  2240 non-null   int64  \n",
      " 18  NumStorePurchases    2240 non-null   int64  \n",
      " 19  NumWebVisitsMonth    2240 non-null   int64  \n",
      " 20  AcceptedCmp3         2240 non-null   int64  \n",
      " 21  AcceptedCmp4         2240 non-null   int64  \n",
      " 22  AcceptedCmp5         2240 non-null   int64  \n",
      " 23  AcceptedCmp1         2240 non-null   int64  \n",
      " 24  AcceptedCmp2         2240 non-null   int64  \n",
      " 25  Complain             2240 non-null   int64  \n",
      " 26  Z_CostContact        2240 non-null   int64  \n",
      " 27  Z_Revenue            2240 non-null   int64  \n",
      " 28  Response             2240 non-null   int64  \n",
      "dtypes: float64(1), int64(25), object(3)\n",
      "memory usage: 507.6+ KB\n"
     ]
    }
   ],
   "source": [
    "data.info()"
   ]
  },
  {
   "cell_type": "markdown",
   "id": "80f9a3fc",
   "metadata": {
    "papermill": {
     "duration": 0.015309,
     "end_time": "2023-01-24T00:49:50.956900",
     "exception": false,
     "start_time": "2023-01-24T00:49:50.941591",
     "status": "completed"
    },
    "tags": []
   },
   "source": [
    "**Checks the null distribution between columns:**"
   ]
  },
  {
   "cell_type": "code",
   "execution_count": 4,
   "id": "a15d1f79",
   "metadata": {
    "execution": {
     "iopub.execute_input": "2023-01-24T00:49:50.987533Z",
     "iopub.status.busy": "2023-01-24T00:49:50.987075Z",
     "iopub.status.idle": "2023-01-24T00:49:50.996811Z",
     "shell.execute_reply": "2023-01-24T00:49:50.995978Z"
    },
    "papermill": {
     "duration": 0.027739,
     "end_time": "2023-01-24T00:49:50.999058",
     "exception": false,
     "start_time": "2023-01-24T00:49:50.971319",
     "status": "completed"
    },
    "tags": []
   },
   "outputs": [
    {
     "data": {
      "text/plain": [
       "ID                      0\n",
       "Year_Birth              0\n",
       "Education               0\n",
       "Marital_Status          0\n",
       "Income                 24\n",
       "Kidhome                 0\n",
       "Teenhome                0\n",
       "Dt_Customer             0\n",
       "Recency                 0\n",
       "MntWines                0\n",
       "MntFruits               0\n",
       "MntMeatProducts         0\n",
       "MntFishProducts         0\n",
       "MntSweetProducts        0\n",
       "MntGoldProds            0\n",
       "NumDealsPurchases       0\n",
       "NumWebPurchases         0\n",
       "NumCatalogPurchases     0\n",
       "NumStorePurchases       0\n",
       "NumWebVisitsMonth       0\n",
       "AcceptedCmp3            0\n",
       "AcceptedCmp4            0\n",
       "AcceptedCmp5            0\n",
       "AcceptedCmp1            0\n",
       "AcceptedCmp2            0\n",
       "Complain                0\n",
       "Z_CostContact           0\n",
       "Z_Revenue               0\n",
       "Response                0\n",
       "dtype: int64"
      ]
     },
     "execution_count": 4,
     "metadata": {},
     "output_type": "execute_result"
    }
   ],
   "source": [
    "data.isna().sum()"
   ]
  },
  {
   "cell_type": "markdown",
   "id": "53e0ee66",
   "metadata": {
    "papermill": {
     "duration": 0.014069,
     "end_time": "2023-01-24T00:49:51.027641",
     "exception": false,
     "start_time": "2023-01-24T00:49:51.013572",
     "status": "completed"
    },
    "tags": []
   },
   "source": [
    "**Drops the rows with null values:**"
   ]
  },
  {
   "cell_type": "code",
   "execution_count": 5,
   "id": "0da2d953",
   "metadata": {
    "execution": {
     "iopub.execute_input": "2023-01-24T00:49:51.058390Z",
     "iopub.status.busy": "2023-01-24T00:49:51.057961Z",
     "iopub.status.idle": "2023-01-24T00:49:51.066247Z",
     "shell.execute_reply": "2023-01-24T00:49:51.065369Z"
    },
    "papermill": {
     "duration": 0.026331,
     "end_time": "2023-01-24T00:49:51.068343",
     "exception": false,
     "start_time": "2023-01-24T00:49:51.042012",
     "status": "completed"
    },
    "tags": []
   },
   "outputs": [],
   "source": [
    "data.drop(index=(data[data['Income'].isna()].index), axis = 0, inplace=True)"
   ]
  },
  {
   "cell_type": "markdown",
   "id": "ba2822cc",
   "metadata": {
    "papermill": {
     "duration": 0.014932,
     "end_time": "2023-01-24T00:49:51.097816",
     "exception": false,
     "start_time": "2023-01-24T00:49:51.082884",
     "status": "completed"
    },
    "tags": []
   },
   "source": [
    "**Conversion of column type:**"
   ]
  },
  {
   "cell_type": "code",
   "execution_count": 6,
   "id": "545f9455",
   "metadata": {
    "execution": {
     "iopub.execute_input": "2023-01-24T00:49:51.128748Z",
     "iopub.status.busy": "2023-01-24T00:49:51.127776Z",
     "iopub.status.idle": "2023-01-24T00:49:51.139192Z",
     "shell.execute_reply": "2023-01-24T00:49:51.138317Z"
    },
    "papermill": {
     "duration": 0.029398,
     "end_time": "2023-01-24T00:49:51.141702",
     "exception": false,
     "start_time": "2023-01-24T00:49:51.112304",
     "status": "completed"
    },
    "tags": []
   },
   "outputs": [],
   "source": [
    "from pandas.api.types import CategoricalDtype\n",
    "education_ordered= CategoricalDtype(categories=['Basic','2n Cycle','Graduation', 'Master', 'PhD'], ordered=True)\n",
    "data['Education'] = data['Education'].astype(education_ordered)\n",
    "data['Dt_Customer'] = pd.to_datetime(data['Dt_Customer'])"
   ]
  },
  {
   "cell_type": "markdown",
   "id": "01f722cf",
   "metadata": {
    "papermill": {
     "duration": 0.014489,
     "end_time": "2023-01-24T00:49:51.171002",
     "exception": false,
     "start_time": "2023-01-24T00:49:51.156513",
     "status": "completed"
    },
    "tags": []
   },
   "source": [
    "**Calculating the year and day difference with Dt_Customer column.**"
   ]
  },
  {
   "cell_type": "code",
   "execution_count": 7,
   "id": "1404d78a",
   "metadata": {
    "execution": {
     "iopub.execute_input": "2023-01-24T00:49:51.202564Z",
     "iopub.status.busy": "2023-01-24T00:49:51.202127Z",
     "iopub.status.idle": "2023-01-24T00:49:51.207037Z",
     "shell.execute_reply": "2023-01-24T00:49:51.205965Z"
    },
    "papermill": {
     "duration": 0.023466,
     "end_time": "2023-01-24T00:49:51.209456",
     "exception": false,
     "start_time": "2023-01-24T00:49:51.185990",
     "status": "completed"
    },
    "tags": []
   },
   "outputs": [],
   "source": [
    "from datetime import datetime\n",
    "currentYear = datetime.now().year"
   ]
  },
  {
   "cell_type": "code",
   "execution_count": 8,
   "id": "14d96170",
   "metadata": {
    "execution": {
     "iopub.execute_input": "2023-01-24T00:49:51.240467Z",
     "iopub.status.busy": "2023-01-24T00:49:51.239785Z",
     "iopub.status.idle": "2023-01-24T00:49:51.286384Z",
     "shell.execute_reply": "2023-01-24T00:49:51.285234Z"
    },
    "papermill": {
     "duration": 0.065142,
     "end_time": "2023-01-24T00:49:51.289137",
     "exception": false,
     "start_time": "2023-01-24T00:49:51.223995",
     "status": "completed"
    },
    "tags": []
   },
   "outputs": [],
   "source": [
    "data['Year_Customer'] = data['Dt_Customer'].dt.year.apply(lambda x : currentYear - x)\n",
    "data['DayDiff_Customer'] = data['Dt_Customer'].apply(lambda x : datetime.now() - x)\n",
    "data['DayDiff_Customer'] = data['DayDiff_Customer'].dt.days\n",
    "data.drop(['Dt_Customer'], axis = 1, inplace = True)"
   ]
  },
  {
   "cell_type": "markdown",
   "id": "21772e3c",
   "metadata": {
    "papermill": {
     "duration": 0.014686,
     "end_time": "2023-01-24T00:49:51.318737",
     "exception": false,
     "start_time": "2023-01-24T00:49:51.304051",
     "status": "completed"
    },
    "tags": []
   },
   "source": [
    "# Age Variable"
   ]
  },
  {
   "cell_type": "markdown",
   "id": "2341e1da",
   "metadata": {
    "papermill": {
     "duration": 0.014253,
     "end_time": "2023-01-24T00:49:51.350419",
     "exception": false,
     "start_time": "2023-01-24T00:49:51.336166",
     "status": "completed"
    },
    "tags": []
   },
   "source": [
    "**Calculates the age of every customer and drops the Year_Birth column:**"
   ]
  },
  {
   "cell_type": "code",
   "execution_count": 9,
   "id": "fd964b70",
   "metadata": {
    "execution": {
     "iopub.execute_input": "2023-01-24T00:49:51.381431Z",
     "iopub.status.busy": "2023-01-24T00:49:51.380275Z",
     "iopub.status.idle": "2023-01-24T00:49:51.407076Z",
     "shell.execute_reply": "2023-01-24T00:49:51.405940Z"
    },
    "papermill": {
     "duration": 0.044775,
     "end_time": "2023-01-24T00:49:51.409568",
     "exception": false,
     "start_time": "2023-01-24T00:49:51.364793",
     "status": "completed"
    },
    "tags": []
   },
   "outputs": [
    {
     "data": {
      "text/html": [
       "<div>\n",
       "<style scoped>\n",
       "    .dataframe tbody tr th:only-of-type {\n",
       "        vertical-align: middle;\n",
       "    }\n",
       "\n",
       "    .dataframe tbody tr th {\n",
       "        vertical-align: top;\n",
       "    }\n",
       "\n",
       "    .dataframe thead th {\n",
       "        text-align: right;\n",
       "    }\n",
       "</style>\n",
       "<table border=\"1\" class=\"dataframe\">\n",
       "  <thead>\n",
       "    <tr style=\"text-align: right;\">\n",
       "      <th></th>\n",
       "      <th>ID</th>\n",
       "      <th>Education</th>\n",
       "      <th>Marital_Status</th>\n",
       "      <th>Income</th>\n",
       "      <th>Kidhome</th>\n",
       "      <th>Teenhome</th>\n",
       "      <th>Recency</th>\n",
       "      <th>MntWines</th>\n",
       "      <th>MntFruits</th>\n",
       "      <th>MntMeatProducts</th>\n",
       "      <th>MntFishProducts</th>\n",
       "      <th>MntSweetProducts</th>\n",
       "      <th>MntGoldProds</th>\n",
       "      <th>NumDealsPurchases</th>\n",
       "      <th>NumWebPurchases</th>\n",
       "      <th>NumCatalogPurchases</th>\n",
       "      <th>NumStorePurchases</th>\n",
       "      <th>NumWebVisitsMonth</th>\n",
       "      <th>AcceptedCmp3</th>\n",
       "      <th>AcceptedCmp4</th>\n",
       "      <th>AcceptedCmp5</th>\n",
       "      <th>AcceptedCmp1</th>\n",
       "      <th>AcceptedCmp2</th>\n",
       "      <th>Complain</th>\n",
       "      <th>Z_CostContact</th>\n",
       "      <th>Z_Revenue</th>\n",
       "      <th>Response</th>\n",
       "      <th>Year_Customer</th>\n",
       "      <th>DayDiff_Customer</th>\n",
       "      <th>Age</th>\n",
       "    </tr>\n",
       "  </thead>\n",
       "  <tbody>\n",
       "    <tr>\n",
       "      <th>0</th>\n",
       "      <td>5524</td>\n",
       "      <td>Graduation</td>\n",
       "      <td>Single</td>\n",
       "      <td>58138.0</td>\n",
       "      <td>0</td>\n",
       "      <td>0</td>\n",
       "      <td>58</td>\n",
       "      <td>635</td>\n",
       "      <td>88</td>\n",
       "      <td>546</td>\n",
       "      <td>172</td>\n",
       "      <td>88</td>\n",
       "      <td>88</td>\n",
       "      <td>3</td>\n",
       "      <td>8</td>\n",
       "      <td>10</td>\n",
       "      <td>4</td>\n",
       "      <td>7</td>\n",
       "      <td>0</td>\n",
       "      <td>0</td>\n",
       "      <td>0</td>\n",
       "      <td>0</td>\n",
       "      <td>0</td>\n",
       "      <td>0</td>\n",
       "      <td>3</td>\n",
       "      <td>11</td>\n",
       "      <td>1</td>\n",
       "      <td>11</td>\n",
       "      <td>3942</td>\n",
       "      <td>66</td>\n",
       "    </tr>\n",
       "    <tr>\n",
       "      <th>1</th>\n",
       "      <td>2174</td>\n",
       "      <td>Graduation</td>\n",
       "      <td>Single</td>\n",
       "      <td>46344.0</td>\n",
       "      <td>1</td>\n",
       "      <td>1</td>\n",
       "      <td>38</td>\n",
       "      <td>11</td>\n",
       "      <td>1</td>\n",
       "      <td>6</td>\n",
       "      <td>2</td>\n",
       "      <td>1</td>\n",
       "      <td>6</td>\n",
       "      <td>2</td>\n",
       "      <td>1</td>\n",
       "      <td>1</td>\n",
       "      <td>2</td>\n",
       "      <td>5</td>\n",
       "      <td>0</td>\n",
       "      <td>0</td>\n",
       "      <td>0</td>\n",
       "      <td>0</td>\n",
       "      <td>0</td>\n",
       "      <td>0</td>\n",
       "      <td>3</td>\n",
       "      <td>11</td>\n",
       "      <td>0</td>\n",
       "      <td>9</td>\n",
       "      <td>3096</td>\n",
       "      <td>69</td>\n",
       "    </tr>\n",
       "    <tr>\n",
       "      <th>2</th>\n",
       "      <td>4141</td>\n",
       "      <td>Graduation</td>\n",
       "      <td>Together</td>\n",
       "      <td>71613.0</td>\n",
       "      <td>0</td>\n",
       "      <td>0</td>\n",
       "      <td>26</td>\n",
       "      <td>426</td>\n",
       "      <td>49</td>\n",
       "      <td>127</td>\n",
       "      <td>111</td>\n",
       "      <td>21</td>\n",
       "      <td>42</td>\n",
       "      <td>1</td>\n",
       "      <td>8</td>\n",
       "      <td>2</td>\n",
       "      <td>10</td>\n",
       "      <td>4</td>\n",
       "      <td>0</td>\n",
       "      <td>0</td>\n",
       "      <td>0</td>\n",
       "      <td>0</td>\n",
       "      <td>0</td>\n",
       "      <td>0</td>\n",
       "      <td>3</td>\n",
       "      <td>11</td>\n",
       "      <td>0</td>\n",
       "      <td>10</td>\n",
       "      <td>3443</td>\n",
       "      <td>58</td>\n",
       "    </tr>\n",
       "    <tr>\n",
       "      <th>3</th>\n",
       "      <td>6182</td>\n",
       "      <td>Graduation</td>\n",
       "      <td>Together</td>\n",
       "      <td>26646.0</td>\n",
       "      <td>1</td>\n",
       "      <td>0</td>\n",
       "      <td>26</td>\n",
       "      <td>11</td>\n",
       "      <td>4</td>\n",
       "      <td>20</td>\n",
       "      <td>10</td>\n",
       "      <td>3</td>\n",
       "      <td>5</td>\n",
       "      <td>2</td>\n",
       "      <td>2</td>\n",
       "      <td>0</td>\n",
       "      <td>4</td>\n",
       "      <td>6</td>\n",
       "      <td>0</td>\n",
       "      <td>0</td>\n",
       "      <td>0</td>\n",
       "      <td>0</td>\n",
       "      <td>0</td>\n",
       "      <td>0</td>\n",
       "      <td>3</td>\n",
       "      <td>11</td>\n",
       "      <td>0</td>\n",
       "      <td>9</td>\n",
       "      <td>3036</td>\n",
       "      <td>39</td>\n",
       "    </tr>\n",
       "    <tr>\n",
       "      <th>4</th>\n",
       "      <td>5324</td>\n",
       "      <td>PhD</td>\n",
       "      <td>Married</td>\n",
       "      <td>58293.0</td>\n",
       "      <td>1</td>\n",
       "      <td>0</td>\n",
       "      <td>94</td>\n",
       "      <td>173</td>\n",
       "      <td>43</td>\n",
       "      <td>118</td>\n",
       "      <td>46</td>\n",
       "      <td>27</td>\n",
       "      <td>15</td>\n",
       "      <td>5</td>\n",
       "      <td>5</td>\n",
       "      <td>3</td>\n",
       "      <td>6</td>\n",
       "      <td>5</td>\n",
       "      <td>0</td>\n",
       "      <td>0</td>\n",
       "      <td>0</td>\n",
       "      <td>0</td>\n",
       "      <td>0</td>\n",
       "      <td>0</td>\n",
       "      <td>3</td>\n",
       "      <td>11</td>\n",
       "      <td>0</td>\n",
       "      <td>9</td>\n",
       "      <td>3292</td>\n",
       "      <td>42</td>\n",
       "    </tr>\n",
       "  </tbody>\n",
       "</table>\n",
       "</div>"
      ],
      "text/plain": [
       "     ID   Education Marital_Status   Income  Kidhome  Teenhome  Recency  \\\n",
       "0  5524  Graduation         Single  58138.0        0         0       58   \n",
       "1  2174  Graduation         Single  46344.0        1         1       38   \n",
       "2  4141  Graduation       Together  71613.0        0         0       26   \n",
       "3  6182  Graduation       Together  26646.0        1         0       26   \n",
       "4  5324         PhD        Married  58293.0        1         0       94   \n",
       "\n",
       "   MntWines  MntFruits  MntMeatProducts  MntFishProducts  MntSweetProducts  \\\n",
       "0       635         88              546              172                88   \n",
       "1        11          1                6                2                 1   \n",
       "2       426         49              127              111                21   \n",
       "3        11          4               20               10                 3   \n",
       "4       173         43              118               46                27   \n",
       "\n",
       "   MntGoldProds  NumDealsPurchases  NumWebPurchases  NumCatalogPurchases  \\\n",
       "0            88                  3                8                   10   \n",
       "1             6                  2                1                    1   \n",
       "2            42                  1                8                    2   \n",
       "3             5                  2                2                    0   \n",
       "4            15                  5                5                    3   \n",
       "\n",
       "   NumStorePurchases  NumWebVisitsMonth  AcceptedCmp3  AcceptedCmp4  \\\n",
       "0                  4                  7             0             0   \n",
       "1                  2                  5             0             0   \n",
       "2                 10                  4             0             0   \n",
       "3                  4                  6             0             0   \n",
       "4                  6                  5             0             0   \n",
       "\n",
       "   AcceptedCmp5  AcceptedCmp1  AcceptedCmp2  Complain  Z_CostContact  \\\n",
       "0             0             0             0         0              3   \n",
       "1             0             0             0         0              3   \n",
       "2             0             0             0         0              3   \n",
       "3             0             0             0         0              3   \n",
       "4             0             0             0         0              3   \n",
       "\n",
       "   Z_Revenue  Response  Year_Customer  DayDiff_Customer  Age  \n",
       "0         11         1             11              3942   66  \n",
       "1         11         0              9              3096   69  \n",
       "2         11         0             10              3443   58  \n",
       "3         11         0              9              3036   39  \n",
       "4         11         0              9              3292   42  "
      ]
     },
     "execution_count": 9,
     "metadata": {},
     "output_type": "execute_result"
    }
   ],
   "source": [
    "data['Age'] = data['Year_Birth'].apply(lambda x : currentYear - x)\n",
    "# Drops the Year_Birth column\n",
    "data.drop(['Year_Birth'], axis = 1, inplace = True)\n",
    "data.head()"
   ]
  },
  {
   "cell_type": "markdown",
   "id": "14887b76",
   "metadata": {
    "papermill": {
     "duration": 0.014774,
     "end_time": "2023-01-24T00:49:51.439693",
     "exception": false,
     "start_time": "2023-01-24T00:49:51.424919",
     "status": "completed"
    },
    "tags": []
   },
   "source": [
    "**The distribution of Age variable:**"
   ]
  },
  {
   "cell_type": "code",
   "execution_count": 10,
   "id": "f4118370",
   "metadata": {
    "execution": {
     "iopub.execute_input": "2023-01-24T00:49:51.471548Z",
     "iopub.status.busy": "2023-01-24T00:49:51.470524Z",
     "iopub.status.idle": "2023-01-24T00:49:51.698028Z",
     "shell.execute_reply": "2023-01-24T00:49:51.696834Z"
    },
    "papermill": {
     "duration": 0.246276,
     "end_time": "2023-01-24T00:49:51.700690",
     "exception": false,
     "start_time": "2023-01-24T00:49:51.454414",
     "status": "completed"
    },
    "tags": []
   },
   "outputs": [
    {
     "data": {
      "text/plain": [
       "<AxesSubplot:xlabel='Age', ylabel='Count'>"
      ]
     },
     "execution_count": 10,
     "metadata": {},
     "output_type": "execute_result"
    },
    {
     "data": {
      "image/png": "[encoded data removed]",
      "text/plain": [
       "<Figure size 432x288 with 1 Axes>"
      ]
     },
     "metadata": {
      "needs_background": "light"
     },
     "output_type": "display_data"
    }
   ],
   "source": [
    "sns.histplot(data['Age'], bins=10)"
   ]
  },
  {
   "cell_type": "markdown",
   "id": "2ffe8ce2",
   "metadata": {
    "papermill": {
     "duration": 0.015009,
     "end_time": "2023-01-24T00:49:51.731216",
     "exception": false,
     "start_time": "2023-01-24T00:49:51.716207",
     "status": "completed"
    },
    "tags": []
   },
   "source": [
    "**The age distribution rounds around 50. There are some outliers above 100.**"
   ]
  },
  {
   "cell_type": "code",
   "execution_count": 11,
   "id": "0d487ad8",
   "metadata": {
    "execution": {
     "iopub.execute_input": "2023-01-24T00:49:51.763854Z",
     "iopub.status.busy": "2023-01-24T00:49:51.763399Z",
     "iopub.status.idle": "2023-01-24T00:49:51.770345Z",
     "shell.execute_reply": "2023-01-24T00:49:51.769249Z"
    },
    "papermill": {
     "duration": 0.026006,
     "end_time": "2023-01-24T00:49:51.772617",
     "exception": false,
     "start_time": "2023-01-24T00:49:51.746611",
     "status": "completed"
    },
    "tags": []
   },
   "outputs": [
    {
     "data": {
      "text/plain": [
       "130"
      ]
     },
     "execution_count": 11,
     "metadata": {},
     "output_type": "execute_result"
    }
   ],
   "source": [
    "data['Age'].max()"
   ]
  },
  {
   "cell_type": "code",
   "execution_count": 12,
   "id": "dd726fd8",
   "metadata": {
    "execution": {
     "iopub.execute_input": "2023-01-24T00:49:51.805525Z",
     "iopub.status.busy": "2023-01-24T00:49:51.805088Z",
     "iopub.status.idle": "2023-01-24T00:49:51.827886Z",
     "shell.execute_reply": "2023-01-24T00:49:51.826709Z"
    },
    "papermill": {
     "duration": 0.041771,
     "end_time": "2023-01-24T00:49:51.830086",
     "exception": false,
     "start_time": "2023-01-24T00:49:51.788315",
     "status": "completed"
    },
    "tags": []
   },
   "outputs": [
    {
     "data": {
      "text/html": [
       "<div>\n",
       "<style scoped>\n",
       "    .dataframe tbody tr th:only-of-type {\n",
       "        vertical-align: middle;\n",
       "    }\n",
       "\n",
       "    .dataframe tbody tr th {\n",
       "        vertical-align: top;\n",
       "    }\n",
       "\n",
       "    .dataframe thead th {\n",
       "        text-align: right;\n",
       "    }\n",
       "</style>\n",
       "<table border=\"1\" class=\"dataframe\">\n",
       "  <thead>\n",
       "    <tr style=\"text-align: right;\">\n",
       "      <th></th>\n",
       "      <th>ID</th>\n",
       "      <th>Education</th>\n",
       "      <th>Marital_Status</th>\n",
       "      <th>Income</th>\n",
       "      <th>Kidhome</th>\n",
       "      <th>Teenhome</th>\n",
       "      <th>Recency</th>\n",
       "      <th>MntWines</th>\n",
       "      <th>MntFruits</th>\n",
       "      <th>MntMeatProducts</th>\n",
       "      <th>MntFishProducts</th>\n",
       "      <th>MntSweetProducts</th>\n",
       "      <th>MntGoldProds</th>\n",
       "      <th>NumDealsPurchases</th>\n",
       "      <th>NumWebPurchases</th>\n",
       "      <th>NumCatalogPurchases</th>\n",
       "      <th>NumStorePurchases</th>\n",
       "      <th>NumWebVisitsMonth</th>\n",
       "      <th>AcceptedCmp3</th>\n",
       "      <th>AcceptedCmp4</th>\n",
       "      <th>AcceptedCmp5</th>\n",
       "      <th>AcceptedCmp1</th>\n",
       "      <th>AcceptedCmp2</th>\n",
       "      <th>Complain</th>\n",
       "      <th>Z_CostContact</th>\n",
       "      <th>Z_Revenue</th>\n",
       "      <th>Response</th>\n",
       "      <th>Year_Customer</th>\n",
       "      <th>DayDiff_Customer</th>\n",
       "      <th>Age</th>\n",
       "    </tr>\n",
       "  </thead>\n",
       "  <tbody>\n",
       "    <tr>\n",
       "      <th>192</th>\n",
       "      <td>7829</td>\n",
       "      <td>2n Cycle</td>\n",
       "      <td>Divorced</td>\n",
       "      <td>36640.0</td>\n",
       "      <td>1</td>\n",
       "      <td>0</td>\n",
       "      <td>99</td>\n",
       "      <td>15</td>\n",
       "      <td>6</td>\n",
       "      <td>8</td>\n",
       "      <td>7</td>\n",
       "      <td>4</td>\n",
       "      <td>25</td>\n",
       "      <td>1</td>\n",
       "      <td>2</td>\n",
       "      <td>1</td>\n",
       "      <td>2</td>\n",
       "      <td>5</td>\n",
       "      <td>0</td>\n",
       "      <td>0</td>\n",
       "      <td>0</td>\n",
       "      <td>0</td>\n",
       "      <td>0</td>\n",
       "      <td>1</td>\n",
       "      <td>3</td>\n",
       "      <td>11</td>\n",
       "      <td>0</td>\n",
       "      <td>10</td>\n",
       "      <td>3407</td>\n",
       "      <td>123</td>\n",
       "    </tr>\n",
       "    <tr>\n",
       "      <th>239</th>\n",
       "      <td>11004</td>\n",
       "      <td>2n Cycle</td>\n",
       "      <td>Single</td>\n",
       "      <td>60182.0</td>\n",
       "      <td>0</td>\n",
       "      <td>1</td>\n",
       "      <td>23</td>\n",
       "      <td>8</td>\n",
       "      <td>0</td>\n",
       "      <td>5</td>\n",
       "      <td>7</td>\n",
       "      <td>0</td>\n",
       "      <td>2</td>\n",
       "      <td>1</td>\n",
       "      <td>1</td>\n",
       "      <td>0</td>\n",
       "      <td>2</td>\n",
       "      <td>4</td>\n",
       "      <td>0</td>\n",
       "      <td>0</td>\n",
       "      <td>0</td>\n",
       "      <td>0</td>\n",
       "      <td>0</td>\n",
       "      <td>0</td>\n",
       "      <td>3</td>\n",
       "      <td>11</td>\n",
       "      <td>0</td>\n",
       "      <td>9</td>\n",
       "      <td>3174</td>\n",
       "      <td>130</td>\n",
       "    </tr>\n",
       "    <tr>\n",
       "      <th>339</th>\n",
       "      <td>1150</td>\n",
       "      <td>PhD</td>\n",
       "      <td>Together</td>\n",
       "      <td>83532.0</td>\n",
       "      <td>0</td>\n",
       "      <td>0</td>\n",
       "      <td>36</td>\n",
       "      <td>755</td>\n",
       "      <td>144</td>\n",
       "      <td>562</td>\n",
       "      <td>104</td>\n",
       "      <td>64</td>\n",
       "      <td>224</td>\n",
       "      <td>1</td>\n",
       "      <td>4</td>\n",
       "      <td>6</td>\n",
       "      <td>4</td>\n",
       "      <td>1</td>\n",
       "      <td>0</td>\n",
       "      <td>0</td>\n",
       "      <td>1</td>\n",
       "      <td>0</td>\n",
       "      <td>0</td>\n",
       "      <td>0</td>\n",
       "      <td>3</td>\n",
       "      <td>11</td>\n",
       "      <td>0</td>\n",
       "      <td>10</td>\n",
       "      <td>3407</td>\n",
       "      <td>124</td>\n",
       "    </tr>\n",
       "  </tbody>\n",
       "</table>\n",
       "</div>"
      ],
      "text/plain": [
       "        ID Education Marital_Status   Income  Kidhome  Teenhome  Recency  \\\n",
       "192   7829  2n Cycle       Divorced  36640.0        1         0       99   \n",
       "239  11004  2n Cycle         Single  60182.0        0         1       23   \n",
       "339   1150       PhD       Together  83532.0        0         0       36   \n",
       "\n",
       "     MntWines  MntFruits  MntMeatProducts  MntFishProducts  MntSweetProducts  \\\n",
       "192        15          6                8                7                 4   \n",
       "239         8          0                5                7                 0   \n",
       "339       755        144              562              104                64   \n",
       "\n",
       "     MntGoldProds  NumDealsPurchases  NumWebPurchases  NumCatalogPurchases  \\\n",
       "192            25                  1                2                    1   \n",
       "239             2                  1                1                    0   \n",
       "339           224                  1                4                    6   \n",
       "\n",
       "     NumStorePurchases  NumWebVisitsMonth  AcceptedCmp3  AcceptedCmp4  \\\n",
       "192                  2                  5             0             0   \n",
       "239                  2                  4             0             0   \n",
       "339                  4                  1             0             0   \n",
       "\n",
       "     AcceptedCmp5  AcceptedCmp1  AcceptedCmp2  Complain  Z_CostContact  \\\n",
       "192             0             0             0         1              3   \n",
       "239             0             0             0         0              3   \n",
       "339             1             0             0         0              3   \n",
       "\n",
       "     Z_Revenue  Response  Year_Customer  DayDiff_Customer  Age  \n",
       "192         11         0             10              3407  123  \n",
       "239         11         0              9              3174  130  \n",
       "339         11         0             10              3407  124  "
      ]
     },
     "execution_count": 12,
     "metadata": {},
     "output_type": "execute_result"
    }
   ],
   "source": [
    "data[data['Age'] > 100]"
   ]
  },
  {
   "cell_type": "markdown",
   "id": "c7cddcb5",
   "metadata": {
    "papermill": {
     "duration": 0.015424,
     "end_time": "2023-01-24T00:49:51.861676",
     "exception": false,
     "start_time": "2023-01-24T00:49:51.846252",
     "status": "completed"
    },
    "tags": []
   },
   "source": [
    "**Because of that the age group does not frequent, it could be removed from dataset to make the feature model work well.**\n",
    "\n",
    "**The code below drops the customers which is over the age of 100:**"
   ]
  },
  {
   "cell_type": "code",
   "execution_count": 13,
   "id": "f8942458",
   "metadata": {
    "execution": {
     "iopub.execute_input": "2023-01-24T00:49:51.895279Z",
     "iopub.status.busy": "2023-01-24T00:49:51.894585Z",
     "iopub.status.idle": "2023-01-24T00:49:51.901937Z",
     "shell.execute_reply": "2023-01-24T00:49:51.901009Z"
    },
    "papermill": {
     "duration": 0.026986,
     "end_time": "2023-01-24T00:49:51.904337",
     "exception": false,
     "start_time": "2023-01-24T00:49:51.877351",
     "status": "completed"
    },
    "tags": []
   },
   "outputs": [],
   "source": [
    "data.drop(index=(data[data['Age'] > 100].index), axis = 0, inplace=True)"
   ]
  },
  {
   "cell_type": "markdown",
   "id": "ecb87ccd",
   "metadata": {
    "papermill": {
     "duration": 0.015469,
     "end_time": "2023-01-24T00:49:51.935751",
     "exception": false,
     "start_time": "2023-01-24T00:49:51.920282",
     "status": "completed"
    },
    "tags": []
   },
   "source": [
    "**Setting ticks for X axis of age distribution histogram:**"
   ]
  },
  {
   "cell_type": "code",
   "execution_count": 14,
   "id": "3bac1e05",
   "metadata": {
    "execution": {
     "iopub.execute_input": "2023-01-24T00:49:51.970431Z",
     "iopub.status.busy": "2023-01-24T00:49:51.969019Z",
     "iopub.status.idle": "2023-01-24T00:49:51.978007Z",
     "shell.execute_reply": "2023-01-24T00:49:51.976791Z"
    },
    "papermill": {
     "duration": 0.028844,
     "end_time": "2023-01-24T00:49:51.980341",
     "exception": false,
     "start_time": "2023-01-24T00:49:51.951497",
     "status": "completed"
    },
    "tags": []
   },
   "outputs": [
    {
     "data": {
      "text/plain": [
       "25"
      ]
     },
     "execution_count": 14,
     "metadata": {},
     "output_type": "execute_result"
    }
   ],
   "source": [
    "minAgeTick = int(data['Age'].min() - (data['Age'].min() % 5))\n",
    "minAgeTick"
   ]
  },
  {
   "cell_type": "code",
   "execution_count": 15,
   "id": "3a7a1c88",
   "metadata": {
    "execution": {
     "iopub.execute_input": "2023-01-24T00:49:52.013912Z",
     "iopub.status.busy": "2023-01-24T00:49:52.012991Z",
     "iopub.status.idle": "2023-01-24T00:49:52.020633Z",
     "shell.execute_reply": "2023-01-24T00:49:52.019480Z"
    },
    "papermill": {
     "duration": 0.026923,
     "end_time": "2023-01-24T00:49:52.022894",
     "exception": false,
     "start_time": "2023-01-24T00:49:51.995971",
     "status": "completed"
    },
    "tags": []
   },
   "outputs": [
    {
     "data": {
      "text/plain": [
       "85"
      ]
     },
     "execution_count": 15,
     "metadata": {},
     "output_type": "execute_result"
    }
   ],
   "source": [
    "maxAgeTick = int(((data['Age'].max() // 5) + 1) * 5)\n",
    "maxAgeTick"
   ]
  },
  {
   "cell_type": "code",
   "execution_count": 16,
   "id": "c3f6ce31",
   "metadata": {
    "execution": {
     "iopub.execute_input": "2023-01-24T00:49:52.057020Z",
     "iopub.status.busy": "2023-01-24T00:49:52.055927Z",
     "iopub.status.idle": "2023-01-24T00:49:52.063620Z",
     "shell.execute_reply": "2023-01-24T00:49:52.062661Z"
    },
    "papermill": {
     "duration": 0.026649,
     "end_time": "2023-01-24T00:49:52.065709",
     "exception": false,
     "start_time": "2023-01-24T00:49:52.039060",
     "status": "completed"
    },
    "tags": []
   },
   "outputs": [
    {
     "data": {
      "text/plain": [
       "[25, 30, 35, 40, 45, 50, 55, 60, 65, 70, 75, 80, 85]"
      ]
     },
     "execution_count": 16,
     "metadata": {},
     "output_type": "execute_result"
    }
   ],
   "source": [
    "ticks = list(range(minAgeTick,maxAgeTick+1, 5))\n",
    "ticks"
   ]
  },
  {
   "cell_type": "markdown",
   "id": "a19f9978",
   "metadata": {
    "papermill": {
     "duration": 0.015409,
     "end_time": "2023-01-24T00:49:52.096799",
     "exception": false,
     "start_time": "2023-01-24T00:49:52.081390",
     "status": "completed"
    },
    "tags": []
   },
   "source": [
    "**Histogram of the Age Variable**"
   ]
  },
  {
   "cell_type": "code",
   "execution_count": 17,
   "id": "461ee715",
   "metadata": {
    "execution": {
     "iopub.execute_input": "2023-01-24T00:49:52.131217Z",
     "iopub.status.busy": "2023-01-24T00:49:52.130543Z",
     "iopub.status.idle": "2023-01-24T00:49:52.350866Z",
     "shell.execute_reply": "2023-01-24T00:49:52.349678Z"
    },
    "papermill": {
     "duration": 0.240441,
     "end_time": "2023-01-24T00:49:52.353500",
     "exception": false,
     "start_time": "2023-01-24T00:49:52.113059",
     "status": "completed"
    },
    "tags": []
   },
   "outputs": [
    {
     "data": {
      "text/plain": [
       "[<matplotlib.axis.XTick at 0x7f5538c54f10>,\n",
       " <matplotlib.axis.XTick at 0x7f550483be90>,\n",
       " <matplotlib.axis.XTick at 0x7f5502589990>,\n",
       " <matplotlib.axis.XTick at 0x7f5502535190>,\n",
       " <matplotlib.axis.XTick at 0x7f5502535490>,\n",
       " <matplotlib.axis.XTick at 0x7f550253d050>,\n",
       " <matplotlib.axis.XTick at 0x7f550253d090>,\n",
       " <matplotlib.axis.XTick at 0x7f550253da10>,\n",
       " <matplotlib.axis.XTick at 0x7f55026a4cd0>,\n",
       " <matplotlib.axis.XTick at 0x7f5502589b90>,\n",
       " <matplotlib.axis.XTick at 0x7f5502589e10>,\n",
       " <matplotlib.axis.XTick at 0x7f5502552990>,\n",
       " <matplotlib.axis.XTick at 0x7f5502552110>]"
      ]
     },
     "execution_count": 17,
     "metadata": {},
     "output_type": "execute_result"
    },
    {
     "data": {
      "image/png": "[encoded data removed]",
      "text/plain": [
       "<Figure size 432x288 with 1 Axes>"
      ]
     },
     "metadata": {
      "needs_background": "light"
     },
     "output_type": "display_data"
    }
   ],
   "source": [
    "histogram_plot = sns.histplot(data['Age'],bins=10)\n",
    "histogram_plot.set_xticks(ticks)"
   ]
  },
  {
   "cell_type": "markdown",
   "id": "0817e05e",
   "metadata": {
    "papermill": {
     "duration": 0.019484,
     "end_time": "2023-01-24T00:49:52.395807",
     "exception": false,
     "start_time": "2023-01-24T00:49:52.376323",
     "status": "completed"
    },
    "tags": []
   },
   "source": [
    "**The histogram is more clear for observation now.**\n",
    "<hr>\n",
    "\n",
    "**Setting the age groups based on a function.**"
   ]
  },
  {
   "cell_type": "code",
   "execution_count": 18,
   "id": "c9ccc376",
   "metadata": {
    "execution": {
     "iopub.execute_input": "2023-01-24T00:49:52.433936Z",
     "iopub.status.busy": "2023-01-24T00:49:52.433528Z",
     "iopub.status.idle": "2023-01-24T00:49:52.439644Z",
     "shell.execute_reply": "2023-01-24T00:49:52.438495Z"
    },
    "papermill": {
     "duration": 0.028413,
     "end_time": "2023-01-24T00:49:52.442076",
     "exception": false,
     "start_time": "2023-01-24T00:49:52.413663",
     "status": "completed"
    },
    "tags": []
   },
   "outputs": [],
   "source": [
    "def age_group(age):\n",
    "    if age <= 25:\n",
    "        age_group = 'Young Adult'\n",
    "    elif (age > 25) & (age <= 64):\n",
    "        age_group = 'Adult'\n",
    "    else:\n",
    "        age_group = 'Elder'\n",
    "    return age_group"
   ]
  },
  {
   "cell_type": "code",
   "execution_count": 19,
   "id": "55c848fa",
   "metadata": {
    "execution": {
     "iopub.execute_input": "2023-01-24T00:49:52.477102Z",
     "iopub.status.busy": "2023-01-24T00:49:52.476058Z",
     "iopub.status.idle": "2023-01-24T00:49:52.486425Z",
     "shell.execute_reply": "2023-01-24T00:49:52.485505Z"
    },
    "papermill": {
     "duration": 0.030339,
     "end_time": "2023-01-24T00:49:52.488848",
     "exception": false,
     "start_time": "2023-01-24T00:49:52.458509",
     "status": "completed"
    },
    "tags": []
   },
   "outputs": [],
   "source": [
    "data['Age_Group'] = data['Age'].apply(lambda x: age_group(x))\n",
    "age_group_ordered = CategoricalDtype(categories=['Young Adult','Adult', 'Elder'], ordered=True)\n",
    "data['Age_Group'] = data['Age_Group'].astype(age_group_ordered)"
   ]
  },
  {
   "cell_type": "markdown",
   "id": "e2adf593",
   "metadata": {
    "papermill": {
     "duration": 0.015639,
     "end_time": "2023-01-24T00:49:52.520597",
     "exception": false,
     "start_time": "2023-01-24T00:49:52.504958",
     "status": "completed"
    },
    "tags": []
   },
   "source": [
    "# Marital Status Variable"
   ]
  },
  {
   "cell_type": "code",
   "execution_count": 20,
   "id": "509cbd9a",
   "metadata": {
    "execution": {
     "iopub.execute_input": "2023-01-24T00:49:52.555205Z",
     "iopub.status.busy": "2023-01-24T00:49:52.554395Z",
     "iopub.status.idle": "2023-01-24T00:49:52.563647Z",
     "shell.execute_reply": "2023-01-24T00:49:52.562594Z"
    },
    "papermill": {
     "duration": 0.0294,
     "end_time": "2023-01-24T00:49:52.565953",
     "exception": false,
     "start_time": "2023-01-24T00:49:52.536553",
     "status": "completed"
    },
    "tags": []
   },
   "outputs": [
    {
     "data": {
      "text/plain": [
       "Married     857\n",
       "Together    572\n",
       "Single      470\n",
       "Divorced    231\n",
       "Widow        76\n",
       "Alone         3\n",
       "Absurd        2\n",
       "YOLO          2\n",
       "Name: Marital_Status, dtype: int64"
      ]
     },
     "execution_count": 20,
     "metadata": {},
     "output_type": "execute_result"
    }
   ],
   "source": [
    "data['Marital_Status'].value_counts()"
   ]
  },
  {
   "cell_type": "markdown",
   "id": "78c2d127",
   "metadata": {
    "papermill": {
     "duration": 0.015833,
     "end_time": "2023-01-24T00:49:52.598096",
     "exception": false,
     "start_time": "2023-01-24T00:49:52.582263",
     "status": "completed"
    },
    "tags": []
   },
   "source": [
    "**There are some categories which has very low value.\n",
    "Drops the non-freqent categories:**"
   ]
  },
  {
   "cell_type": "code",
   "execution_count": 21,
   "id": "e3170837",
   "metadata": {
    "execution": {
     "iopub.execute_input": "2023-01-24T00:49:52.632507Z",
     "iopub.status.busy": "2023-01-24T00:49:52.631753Z",
     "iopub.status.idle": "2023-01-24T00:49:52.644048Z",
     "shell.execute_reply": "2023-01-24T00:49:52.643234Z"
    },
    "papermill": {
     "duration": 0.032038,
     "end_time": "2023-01-24T00:49:52.646435",
     "exception": false,
     "start_time": "2023-01-24T00:49:52.614397",
     "status": "completed"
    },
    "tags": []
   },
   "outputs": [],
   "source": [
    "data.drop(index=(data[data['Marital_Status'] == 'Alone'].index), axis = 0, inplace = True)\n",
    "data.drop(index=(data[data['Marital_Status'] == 'Absurd'].index), axis = 0, inplace = True)\n",
    "data.drop(index=(data[data['Marital_Status'] == 'YOLO'].index), axis = 0, inplace = True)"
   ]
  },
  {
   "cell_type": "markdown",
   "id": "5108d1ba",
   "metadata": {
    "papermill": {
     "duration": 0.015863,
     "end_time": "2023-01-24T00:49:52.678492",
     "exception": false,
     "start_time": "2023-01-24T00:49:52.662629",
     "status": "completed"
    },
    "tags": []
   },
   "source": [
    "# Kidhome Variable"
   ]
  },
  {
   "cell_type": "code",
   "execution_count": 22,
   "id": "5b64fe4c",
   "metadata": {
    "execution": {
     "iopub.execute_input": "2023-01-24T00:49:52.712991Z",
     "iopub.status.busy": "2023-01-24T00:49:52.711946Z",
     "iopub.status.idle": "2023-01-24T00:49:52.719391Z",
     "shell.execute_reply": "2023-01-24T00:49:52.718536Z"
    },
    "papermill": {
     "duration": 0.027194,
     "end_time": "2023-01-24T00:49:52.721740",
     "exception": false,
     "start_time": "2023-01-24T00:49:52.694546",
     "status": "completed"
    },
    "tags": []
   },
   "outputs": [],
   "source": [
    "kidhome_category = CategoricalDtype(categories=[0,1,2], ordered = False)\n",
    "data['Kidhome'] = data['Kidhome'].astype(kidhome_category)"
   ]
  },
  {
   "cell_type": "markdown",
   "id": "a99a68f9",
   "metadata": {
    "papermill": {
     "duration": 0.015799,
     "end_time": "2023-01-24T00:49:52.753769",
     "exception": false,
     "start_time": "2023-01-24T00:49:52.737970",
     "status": "completed"
    },
    "tags": []
   },
   "source": [
    "# <p id = \"2\" style=\"font-family:arial;background-color:#2A93D5;color:#FFFFFF;font-size: 150%;text-align:center;border-radius: 0px 15px 15px 0px;border-style: solid;border-color: #2483bf;\">2.VISUALIZATION and EXPLORATORY ANALYSIS</p>\n",
    "[Click to return Table of Contents](#0)"
   ]
  },
  {
   "cell_type": "markdown",
   "id": "a2732e4c",
   "metadata": {
    "papermill": {
     "duration": 0.015837,
     "end_time": "2023-01-24T00:49:52.785726",
     "exception": false,
     "start_time": "2023-01-24T00:49:52.769889",
     "status": "completed"
    },
    "tags": []
   },
   "source": [
    "<p style=\"text-align:center; font-size:125%;\"><b>The Age Distribution</b></p>"
   ]
  },
  {
   "cell_type": "code",
   "execution_count": 23,
   "id": "923bf085",
   "metadata": {
    "execution": {
     "iopub.execute_input": "2023-01-24T00:49:52.820436Z",
     "iopub.status.busy": "2023-01-24T00:49:52.819651Z",
     "iopub.status.idle": "2023-01-24T00:49:53.032114Z",
     "shell.execute_reply": "2023-01-24T00:49:53.030890Z"
    },
    "papermill": {
     "duration": 0.232392,
     "end_time": "2023-01-24T00:49:53.034533",
     "exception": false,
     "start_time": "2023-01-24T00:49:52.802141",
     "status": "completed"
    },
    "tags": []
   },
   "outputs": [
    {
     "data": {
      "text/plain": [
       "[<matplotlib.axis.XTick at 0x7f5502503290>,\n",
       " <matplotlib.axis.XTick at 0x7f55025032d0>,\n",
       " <matplotlib.axis.XTick at 0x7f55024cced0>,\n",
       " <matplotlib.axis.XTick at 0x7f5502475090>,\n",
       " <matplotlib.axis.XTick at 0x7f5502475350>,\n",
       " <matplotlib.axis.XTick at 0x7f5502475810>,\n",
       " <matplotlib.axis.XTick at 0x7f550247c0d0>,\n",
       " <matplotlib.axis.XTick at 0x7f550247c110>,\n",
       " <matplotlib.axis.XTick at 0x7f5502512a50>,\n",
       " <matplotlib.axis.XTick at 0x7f55024cc890>,\n",
       " <matplotlib.axis.XTick at 0x7f55024ccdd0>,\n",
       " <matplotlib.axis.XTick at 0x7f5502499d10>,\n",
       " <matplotlib.axis.XTick at 0x7f55024a3450>]"
      ]
     },
     "execution_count": 23,
     "metadata": {},
     "output_type": "execute_result"
    },
    {
     "data": {
      "image/png": "[encoded data removed]",
      "text/plain": [
       "<Figure size 432x288 with 1 Axes>"
      ]
     },
     "metadata": {
      "needs_background": "light"
     },
     "output_type": "display_data"
    }
   ],
   "source": [
    "histogram_plot = sns.histplot(data['Age'],bins=10)\n",
    "histogram_plot.set_xticks(ticks)"
   ]
  },
  {
   "cell_type": "code",
   "execution_count": 24,
   "id": "a825efda",
   "metadata": {
    "execution": {
     "iopub.execute_input": "2023-01-24T00:49:53.070596Z",
     "iopub.status.busy": "2023-01-24T00:49:53.069363Z",
     "iopub.status.idle": "2023-01-24T00:49:53.271065Z",
     "shell.execute_reply": "2023-01-24T00:49:53.269491Z"
    },
    "papermill": {
     "duration": 0.222748,
     "end_time": "2023-01-24T00:49:53.273913",
     "exception": false,
     "start_time": "2023-01-24T00:49:53.051165",
     "status": "completed"
    },
    "tags": []
   },
   "outputs": [
    {
     "data": {
      "image/png": "[encoded data removed]",
      "text/plain": [
       "<Figure size 432x288 with 1 Axes>"
      ]
     },
     "metadata": {
      "needs_background": "light"
     },
     "output_type": "display_data"
    }
   ],
   "source": [
    "ax = sns.countplot(data=data, x=\"Age_Group\")\n",
    "for container in ax.containers:\n",
    "    ax.bar_label(container)"
   ]
  },
  {
   "cell_type": "markdown",
   "id": "6e192f7c",
   "metadata": {
    "papermill": {
     "duration": 0.016768,
     "end_time": "2023-01-24T00:49:53.307802",
     "exception": false,
     "start_time": "2023-01-24T00:49:53.291034",
     "status": "completed"
    },
    "tags": []
   },
   "source": [
    "Percents of each age group:"
   ]
  },
  {
   "cell_type": "code",
   "execution_count": 25,
   "id": "21c30b51",
   "metadata": {
    "execution": {
     "iopub.execute_input": "2023-01-24T00:49:53.344508Z",
     "iopub.status.busy": "2023-01-24T00:49:53.344049Z",
     "iopub.status.idle": "2023-01-24T00:49:53.354697Z",
     "shell.execute_reply": "2023-01-24T00:49:53.353407Z"
    },
    "papermill": {
     "duration": 0.032169,
     "end_time": "2023-01-24T00:49:53.357272",
     "exception": false,
     "start_time": "2023-01-24T00:49:53.325103",
     "status": "completed"
    },
    "tags": []
   },
   "outputs": [
    {
     "data": {
      "text/plain": [
       "Adult          77.0\n",
       "Elder          23.0\n",
       "Young Adult     0.0\n",
       "Name: Age_Group, dtype: float64"
      ]
     },
     "execution_count": 25,
     "metadata": {},
     "output_type": "execute_result"
    }
   ],
   "source": [
    "round((data['Age_Group'].value_counts(normalize=True) * 100),0)"
   ]
  },
  {
   "cell_type": "markdown",
   "id": "7618237a",
   "metadata": {
    "papermill": {
     "duration": 0.016706,
     "end_time": "2023-01-24T00:49:53.391663",
     "exception": false,
     "start_time": "2023-01-24T00:49:53.374957",
     "status": "completed"
    },
    "tags": []
   },
   "source": [
    "There are no customers from the young adult group. It may be because of that the age variable's calculation is based on the current year."
   ]
  },
  {
   "cell_type": "markdown",
   "id": "8c84bc52",
   "metadata": {
    "papermill": {
     "duration": 0.017138,
     "end_time": "2023-01-24T00:49:53.425756",
     "exception": false,
     "start_time": "2023-01-24T00:49:53.408618",
     "status": "completed"
    },
    "tags": []
   },
   "source": [
    "<p style=\"text-align:center; font-size:125%;\"><b>Kidhome and Teenhome Distribution</b></p>\n",
    "<hr>"
   ]
  },
  {
   "cell_type": "code",
   "execution_count": 26,
   "id": "5cd95ced",
   "metadata": {
    "execution": {
     "iopub.execute_input": "2023-01-24T00:49:53.461710Z",
     "iopub.status.busy": "2023-01-24T00:49:53.461040Z",
     "iopub.status.idle": "2023-01-24T00:49:53.733297Z",
     "shell.execute_reply": "2023-01-24T00:49:53.731891Z"
    },
    "papermill": {
     "duration": 0.293137,
     "end_time": "2023-01-24T00:49:53.735752",
     "exception": false,
     "start_time": "2023-01-24T00:49:53.442615",
     "status": "completed"
    },
    "tags": []
   },
   "outputs": [
    {
     "data": {
      "image/png": "[encoded data removed]",
      "text/plain": [
       "<Figure size 432x288 with 1 Axes>"
      ]
     },
     "metadata": {
      "needs_background": "light"
     },
     "output_type": "display_data"
    }
   ],
   "source": [
    "ax = sns.countplot(data=data, x=\"Kidhome\", hue=\"Age_Group\")\n",
    "smt = [(data[data['Kidhome'] == 0].count()[0]), (data[data['Kidhome'] == 1].count()[0]), (data[data['Kidhome'] == 2].count()[0])]\n",
    "for container in ax.containers:\n",
    "    ax.bar_label(container)"
   ]
  },
  {
   "cell_type": "code",
   "execution_count": 27,
   "id": "c328371a",
   "metadata": {
    "execution": {
     "iopub.execute_input": "2023-01-24T00:49:53.772186Z",
     "iopub.status.busy": "2023-01-24T00:49:53.771775Z",
     "iopub.status.idle": "2023-01-24T00:49:53.885887Z",
     "shell.execute_reply": "2023-01-24T00:49:53.884115Z"
    },
    "papermill": {
     "duration": 0.137066,
     "end_time": "2023-01-24T00:49:53.890219",
     "exception": false,
     "start_time": "2023-01-24T00:49:53.753153",
     "status": "completed"
    },
    "tags": []
   },
   "outputs": [
    {
     "data": {
      "text/plain": [
       "([<matplotlib.patches.Wedge at 0x7f55023199d0>,\n",
       "  <matplotlib.patches.Wedge at 0x7f5502327390>,\n",
       "  <matplotlib.patches.Wedge at 0x7f5502327bd0>],\n",
       " [Text(-0.26979420768196666, 1.0664009965773944, '0'),\n",
       "  Text(0.19940634849911165, -1.0817749803809715, '1'),\n",
       "  Text(1.0976405370720521, -0.07200868958797423, '2')],\n",
       " [Text(-0.14716047691743636, 0.5816732708603969, '57.9%'),\n",
       "  Text(0.10876709918133362, -0.5900590802078025, '40.0%'),\n",
       "  Text(0.5987130202211193, -0.03927746704798594, '2.1%')])"
      ]
     },
     "execution_count": 27,
     "metadata": {},
     "output_type": "execute_result"
    },
    {
     "data": {
      "image/png": "[encoded data removed]",
      "text/plain": [
       "<Figure size 432x288 with 1 Axes>"
      ]
     },
     "metadata": {},
     "output_type": "display_data"
    }
   ],
   "source": [
    "percentage_distribution = round((data['Kidhome'].value_counts(normalize=True) * 100),0)\n",
    "plt.pie(data['Kidhome'].value_counts(), labels = [\"0\", \"1\", \"2\"], autopct='%1.1f%%')"
   ]
  },
  {
   "cell_type": "markdown",
   "id": "1aaf73ce",
   "metadata": {
    "papermill": {
     "duration": 0.028659,
     "end_time": "2023-01-24T00:49:53.948386",
     "exception": false,
     "start_time": "2023-01-24T00:49:53.919727",
     "status": "completed"
    },
    "tags": []
   },
   "source": [
    "The vast majority of customers do not have a kid in their home. The group with the most kids in the house is the adult group."
   ]
  },
  {
   "cell_type": "markdown",
   "id": "23b41e42",
   "metadata": {
    "papermill": {
     "duration": 0.017466,
     "end_time": "2023-01-24T00:49:53.994916",
     "exception": false,
     "start_time": "2023-01-24T00:49:53.977450",
     "status": "completed"
    },
    "tags": []
   },
   "source": [
    "<hr><hr>"
   ]
  },
  {
   "cell_type": "code",
   "execution_count": 28,
   "id": "a90bae63",
   "metadata": {
    "execution": {
     "iopub.execute_input": "2023-01-24T00:49:54.032383Z",
     "iopub.status.busy": "2023-01-24T00:49:54.031579Z",
     "iopub.status.idle": "2023-01-24T00:49:54.298959Z",
     "shell.execute_reply": "2023-01-24T00:49:54.298045Z"
    },
    "papermill": {
     "duration": 0.288622,
     "end_time": "2023-01-24T00:49:54.301269",
     "exception": false,
     "start_time": "2023-01-24T00:49:54.012647",
     "status": "completed"
    },
    "tags": []
   },
   "outputs": [
    {
     "data": {
      "image/png": "[encoded data removed]",
      "text/plain": [
       "<Figure size 432x288 with 1 Axes>"
      ]
     },
     "metadata": {
      "needs_background": "light"
     },
     "output_type": "display_data"
    }
   ],
   "source": [
    "ax = sns.countplot(data=data, x=\"Teenhome\", hue=\"Age_Group\")\n",
    "for container in ax.containers:\n",
    "    ax.bar_label(container)"
   ]
  },
  {
   "cell_type": "code",
   "execution_count": 29,
   "id": "500cf444",
   "metadata": {
    "execution": {
     "iopub.execute_input": "2023-01-24T00:49:54.339995Z",
     "iopub.status.busy": "2023-01-24T00:49:54.338866Z",
     "iopub.status.idle": "2023-01-24T00:49:54.436281Z",
     "shell.execute_reply": "2023-01-24T00:49:54.435014Z"
    },
    "papermill": {
     "duration": 0.119734,
     "end_time": "2023-01-24T00:49:54.439343",
     "exception": false,
     "start_time": "2023-01-24T00:49:54.319609",
     "status": "completed"
    },
    "tags": []
   },
   "outputs": [
    {
     "data": {
      "text/plain": [
       "([<matplotlib.patches.Wedge at 0x7f5502203e10>,\n",
       "  <matplotlib.patches.Wedge at 0x7f55022238d0>,\n",
       "  <matplotlib.patches.Wedge at 0x7f55021af150>],\n",
       " [Text(-0.061062956348323406, 1.0983038356311075, '0'),\n",
       "  Text(-0.018797540181427343, -1.0998393757649922, '1'),\n",
       "  Text(1.0970999676472566, -0.07982268467289819, '2')],\n",
       " [Text(-0.03330706709908549, 0.5990748194351495, '51.8%'),\n",
       "  Text(-0.010253203735324005, -0.5999123867809047, '45.9%'),\n",
       "  Text(0.5984181641712307, -0.04353964618521718, '2.3%')])"
      ]
     },
     "execution_count": 29,
     "metadata": {},
     "output_type": "execute_result"
    },
    {
     "data": {
      "image/png": "[encoded data removed]",
      "text/plain": [
       "<Figure size 432x288 with 1 Axes>"
      ]
     },
     "metadata": {},
     "output_type": "display_data"
    }
   ],
   "source": [
    "percentage_distribution = round((data['Teenhome'].value_counts(normalize=True) * 100),0)\n",
    "plt.pie(data['Teenhome'].value_counts(), labels = [\"0\", \"1\", \"2\"], autopct='%1.1f%%')"
   ]
  },
  {
   "cell_type": "markdown",
   "id": "1f029058",
   "metadata": {
    "papermill": {
     "duration": 0.029061,
     "end_time": "2023-01-24T00:49:54.498303",
     "exception": false,
     "start_time": "2023-01-24T00:49:54.469242",
     "status": "completed"
    },
    "tags": []
   },
   "source": [
    "Almost half of customers do not have a teen in their home. The group with the most teen in the house is the adult group. Visibly, members of the elder age group mostly live with a teen.\n",
    "<hr>\n",
    "<hr>"
   ]
  },
  {
   "cell_type": "markdown",
   "id": "59c35fda",
   "metadata": {
    "papermill": {
     "duration": 0.018561,
     "end_time": "2023-01-24T00:49:54.546376",
     "exception": false,
     "start_time": "2023-01-24T00:49:54.527815",
     "status": "completed"
    },
    "tags": []
   },
   "source": [
    "<p style=\"text-align:center; font-size:125%;\"><b>Education</b></p>\n",
    "<hr>"
   ]
  },
  {
   "cell_type": "code",
   "execution_count": 30,
   "id": "2de76085",
   "metadata": {
    "execution": {
     "iopub.execute_input": "2023-01-24T00:49:54.584344Z",
     "iopub.status.busy": "2023-01-24T00:49:54.583902Z",
     "iopub.status.idle": "2023-01-24T00:49:54.789699Z",
     "shell.execute_reply": "2023-01-24T00:49:54.788839Z"
    },
    "papermill": {
     "duration": 0.227789,
     "end_time": "2023-01-24T00:49:54.792278",
     "exception": false,
     "start_time": "2023-01-24T00:49:54.564489",
     "status": "completed"
    },
    "tags": []
   },
   "outputs": [
    {
     "data": {
      "image/png": "[encoded data removed]",
      "text/plain": [
       "<Figure size 432x288 with 1 Axes>"
      ]
     },
     "metadata": {
      "needs_background": "light"
     },
     "output_type": "display_data"
    }
   ],
   "source": [
    "ax = sns.countplot(data=data, x=\"Education\")\n",
    "for container in ax.containers:\n",
    "    ax.bar_label(container)"
   ]
  },
  {
   "cell_type": "markdown",
   "id": "b09fc54a",
   "metadata": {
    "papermill": {
     "duration": 0.019281,
     "end_time": "2023-01-24T00:49:54.831048",
     "exception": false,
     "start_time": "2023-01-24T00:49:54.811767",
     "status": "completed"
    },
    "tags": []
   },
   "source": [
    "Percents of each education group:"
   ]
  },
  {
   "cell_type": "code",
   "execution_count": 31,
   "id": "8a34fb44",
   "metadata": {
    "execution": {
     "iopub.execute_input": "2023-01-24T00:49:54.870773Z",
     "iopub.status.busy": "2023-01-24T00:49:54.869977Z",
     "iopub.status.idle": "2023-01-24T00:49:54.992720Z",
     "shell.execute_reply": "2023-01-24T00:49:54.991439Z"
    },
    "papermill": {
     "duration": 0.14622,
     "end_time": "2023-01-24T00:49:54.995992",
     "exception": false,
     "start_time": "2023-01-24T00:49:54.849772",
     "status": "completed"
    },
    "tags": []
   },
   "outputs": [
    {
     "data": {
      "text/plain": [
       "([<matplotlib.patches.Wedge at 0x7f55020fa450>,\n",
       "  <matplotlib.patches.Wedge at 0x7f5502107890>,\n",
       "  <matplotlib.patches.Wedge at 0x7f5502114110>,\n",
       "  <matplotlib.patches.Wedge at 0x7f5502107dd0>,\n",
       "  <matplotlib.patches.Wedge at 0x7f5502121150>],\n",
       " [Text(-0.017231075163365837, 1.0998650326511497, 'Graduation'),\n",
       "  Text(-0.8337445394981248, -0.7175444535755677, 'PhD'),\n",
       "  Text(0.3627789041994461, -1.038456290205731, 'Master'),\n",
       "  Text(0.9971959091763344, -0.4643278138578216, '2n Cycle'),\n",
       "  Text(1.0967489476033019, -0.08450885119944564, 'Basic')],\n",
       " [Text(-0.00939876827092682, 0.5999263814460816, '50.5%'),\n",
       "  Text(-0.4547697488171589, -0.39138788376849143, '21.6%'),\n",
       "  Text(0.19787940229060694, -0.5664307037485805, '16.5%'),\n",
       "  Text(0.5439250413689096, -0.25326971664972087, '9.0%'),\n",
       "  Text(0.5982266986927101, -0.04609573701787944, '2.4%')])"
      ]
     },
     "execution_count": 31,
     "metadata": {},
     "output_type": "execute_result"
    },
    {
     "data": {
      "image/png": "[encoded data removed]",
      "text/plain": [
       "<Figure size 432x288 with 1 Axes>"
      ]
     },
     "metadata": {},
     "output_type": "display_data"
    }
   ],
   "source": [
    "percentage_distribution = round((data['Education'].value_counts(normalize=True) * 100),0)\n",
    "plt.pie(data['Education'].value_counts(), labels = (data['Education'].value_counts().index) ,autopct='%1.1f%%')"
   ]
  },
  {
   "cell_type": "code",
   "execution_count": 32,
   "id": "025ce826",
   "metadata": {
    "execution": {
     "iopub.execute_input": "2023-01-24T00:49:55.062162Z",
     "iopub.status.busy": "2023-01-24T00:49:55.060912Z",
     "iopub.status.idle": "2023-01-24T00:49:55.075350Z",
     "shell.execute_reply": "2023-01-24T00:49:55.074011Z"
    },
    "papermill": {
     "duration": 0.049939,
     "end_time": "2023-01-24T00:49:55.077710",
     "exception": false,
     "start_time": "2023-01-24T00:49:55.027771",
     "status": "completed"
    },
    "tags": []
   },
   "outputs": [
    {
     "data": {
      "text/plain": [
       "Graduation    50.0\n",
       "PhD           22.0\n",
       "Master        16.0\n",
       "2n Cycle       9.0\n",
       "Basic          2.0\n",
       "Name: Education, dtype: float64"
      ]
     },
     "execution_count": 32,
     "metadata": {},
     "output_type": "execute_result"
    }
   ],
   "source": [
    "round((data['Education'].value_counts(normalize=True) * 100),0)"
   ]
  },
  {
   "cell_type": "markdown",
   "id": "78ac01ad",
   "metadata": {
    "papermill": {
     "duration": 0.01889,
     "end_time": "2023-01-24T00:49:55.115842",
     "exception": false,
     "start_time": "2023-01-24T00:49:55.096952",
     "status": "completed"
    },
    "tags": []
   },
   "source": [
    "The half of clients are at the graduate level. It is observed that the customers who have received PhD level education are at a level that cannot be underestimated."
   ]
  },
  {
   "cell_type": "markdown",
   "id": "b658eca5",
   "metadata": {
    "papermill": {
     "duration": 0.018881,
     "end_time": "2023-01-24T00:49:55.153858",
     "exception": false,
     "start_time": "2023-01-24T00:49:55.134977",
     "status": "completed"
    },
    "tags": []
   },
   "source": [
    "<p style=\"text-align:center; font-size:125%;\"><b>Marital Status</b></p>"
   ]
  },
  {
   "cell_type": "code",
   "execution_count": 33,
   "id": "1c9e7f1a",
   "metadata": {
    "execution": {
     "iopub.execute_input": "2023-01-24T00:49:55.194814Z",
     "iopub.status.busy": "2023-01-24T00:49:55.194075Z",
     "iopub.status.idle": "2023-01-24T00:49:55.417766Z",
     "shell.execute_reply": "2023-01-24T00:49:55.416618Z"
    },
    "papermill": {
     "duration": 0.246814,
     "end_time": "2023-01-24T00:49:55.420251",
     "exception": false,
     "start_time": "2023-01-24T00:49:55.173437",
     "status": "completed"
    },
    "tags": []
   },
   "outputs": [
    {
     "data": {
      "image/png": "[encoded data removed]",
      "text/plain": [
       "<Figure size 432x288 with 1 Axes>"
      ]
     },
     "metadata": {
      "needs_background": "light"
     },
     "output_type": "display_data"
    }
   ],
   "source": [
    "ax = sns.countplot(data=data, x=\"Marital_Status\")\n",
    "for container in ax.containers:\n",
    "    ax.bar_label(container)"
   ]
  },
  {
   "cell_type": "markdown",
   "id": "70f23aed",
   "metadata": {
    "papermill": {
     "duration": 0.019078,
     "end_time": "2023-01-24T00:49:55.460235",
     "exception": false,
     "start_time": "2023-01-24T00:49:55.441157",
     "status": "completed"
    },
    "tags": []
   },
   "source": [
    "Percents of each marital status group:"
   ]
  },
  {
   "cell_type": "code",
   "execution_count": 34,
   "id": "fc52e405",
   "metadata": {
    "execution": {
     "iopub.execute_input": "2023-01-24T00:49:55.501539Z",
     "iopub.status.busy": "2023-01-24T00:49:55.500542Z",
     "iopub.status.idle": "2023-01-24T00:49:55.511234Z",
     "shell.execute_reply": "2023-01-24T00:49:55.509846Z"
    },
    "papermill": {
     "duration": 0.034046,
     "end_time": "2023-01-24T00:49:55.513728",
     "exception": false,
     "start_time": "2023-01-24T00:49:55.479682",
     "status": "completed"
    },
    "tags": []
   },
   "outputs": [
    {
     "data": {
      "text/plain": [
       "Married     39.0\n",
       "Together    26.0\n",
       "Single      21.0\n",
       "Divorced    10.0\n",
       "Widow        3.0\n",
       "Name: Marital_Status, dtype: float64"
      ]
     },
     "execution_count": 34,
     "metadata": {},
     "output_type": "execute_result"
    }
   ],
   "source": [
    "round((data['Marital_Status'].value_counts(normalize=True) * 100),0)"
   ]
  },
  {
   "cell_type": "code",
   "execution_count": 35,
   "id": "b5e050a7",
   "metadata": {
    "execution": {
     "iopub.execute_input": "2023-01-24T00:49:55.555974Z",
     "iopub.status.busy": "2023-01-24T00:49:55.554922Z",
     "iopub.status.idle": "2023-01-24T00:49:55.683510Z",
     "shell.execute_reply": "2023-01-24T00:49:55.682250Z"
    },
    "papermill": {
     "duration": 0.153327,
     "end_time": "2023-01-24T00:49:55.686826",
     "exception": false,
     "start_time": "2023-01-24T00:49:55.533499",
     "status": "completed"
    },
    "tags": []
   },
   "outputs": [
    {
     "data": {
      "text/plain": [
       "([<matplotlib.patches.Wedge at 0x7f5501ffdb10>,\n",
       "  <matplotlib.patches.Wedge at 0x7f550200b310>,\n",
       "  <matplotlib.patches.Wedge at 0x7f550200bb50>,\n",
       "  <matplotlib.patches.Wedge at 0x7f550200b850>,\n",
       "  <matplotlib.patches.Wedge at 0x7f5502018b90>],\n",
       " [Text(0.37753037523245636, 1.03318479265659, 'Married'),\n",
       "  Text(-1.0928688227981687, -0.12505093424579103, 'Together'),\n",
       "  Text(0.029760262822058476, -1.0995973475580787, 'Single'),\n",
       "  Text(0.9403917293001457, -0.5706692522502697, 'Divorced'),\n",
       "  Text(1.0935634200367697, -0.11882359343785129, 'Widow')],\n",
       " [Text(0.20592565921770345, 0.563555341449049, '38.8%'),\n",
       "  Text(-0.5961102669808191, -0.06820960049770419, '25.9%'),\n",
       "  Text(0.016232870630213714, -0.5997803713953156, '21.3%'),\n",
       "  Text(0.5129409432546248, -0.3112741375910561, '10.5%'),\n",
       "  Text(0.5964891382018743, -0.06481286914791888, '3.4%')])"
      ]
     },
     "execution_count": 35,
     "metadata": {},
     "output_type": "execute_result"
    },
    {
     "data": {
      "image/png": "[encoded data removed]",
      "text/plain": [
       "<Figure size 432x288 with 1 Axes>"
      ]
     },
     "metadata": {},
     "output_type": "display_data"
    }
   ],
   "source": [
    "percentage_distribution = round((data['Marital_Status'].value_counts(normalize=True) * 100),0)\n",
    "plt.pie(data['Marital_Status'].value_counts(), labels = (data['Marital_Status'].value_counts().index) ,autopct='%1.1f%%')"
   ]
  },
  {
   "cell_type": "code",
   "execution_count": 36,
   "id": "65130b46",
   "metadata": {
    "execution": {
     "iopub.execute_input": "2023-01-24T00:49:55.757240Z",
     "iopub.status.busy": "2023-01-24T00:49:55.755669Z",
     "iopub.status.idle": "2023-01-24T00:49:56.278587Z",
     "shell.execute_reply": "2023-01-24T00:49:56.277431Z"
    },
    "papermill": {
     "duration": 0.560145,
     "end_time": "2023-01-24T00:49:56.281109",
     "exception": false,
     "start_time": "2023-01-24T00:49:55.720964",
     "status": "completed"
    },
    "tags": []
   },
   "outputs": [
    {
     "data": {
      "text/plain": [
       "<seaborn.axisgrid.FacetGrid at 0x7f550242fe50>"
      ]
     },
     "execution_count": 36,
     "metadata": {},
     "output_type": "execute_result"
    },
    {
     "data": {
      "image/png": "[encoded data removed]",
      "text/plain": [
       "<Figure size 455.125x360 with 1 Axes>"
      ]
     },
     "metadata": {
      "needs_background": "light"
     },
     "output_type": "display_data"
    }
   ],
   "source": [
    "sns.catplot(data=data, x = \"Education\", y = \"NumWebVisitsMonth\", kind=\"box\", hue=\"Age_Group\")"
   ]
  },
  {
   "cell_type": "markdown",
   "id": "de1b4dba",
   "metadata": {
    "papermill": {
     "duration": 0.020455,
     "end_time": "2023-01-24T00:49:56.322556",
     "exception": false,
     "start_time": "2023-01-24T00:49:56.302101",
     "status": "completed"
    },
    "tags": []
   },
   "source": [
    "In almost every age group, except for the level of Phd education, the elder group made fewer website visits than the adult group."
   ]
  },
  {
   "cell_type": "code",
   "execution_count": 37,
   "id": "4cb4c9ea",
   "metadata": {
    "execution": {
     "iopub.execute_input": "2023-01-24T00:49:56.367457Z",
     "iopub.status.busy": "2023-01-24T00:49:56.366043Z",
     "iopub.status.idle": "2023-01-24T00:49:57.024268Z",
     "shell.execute_reply": "2023-01-24T00:49:57.022966Z"
    },
    "papermill": {
     "duration": 0.682966,
     "end_time": "2023-01-24T00:49:57.026745",
     "exception": false,
     "start_time": "2023-01-24T00:49:56.343779",
     "status": "completed"
    },
    "tags": []
   },
   "outputs": [
    {
     "data": {
      "text/plain": [
       "<seaborn.axisgrid.FacetGrid at 0x7f5501f9e6d0>"
      ]
     },
     "execution_count": 37,
     "metadata": {},
     "output_type": "execute_result"
    },
    {
     "data": {
      "image/png": "[encoded data removed]",
      "text/plain": [
       "<Figure size 455.125x360 with 1 Axes>"
      ]
     },
     "metadata": {
      "needs_background": "light"
     },
     "output_type": "display_data"
    }
   ],
   "source": [
    "sns.catplot(data=data, x = \"Education\", y = \"NumWebPurchases\", kind=\"box\", hue=\"Age_Group\")"
   ]
  },
  {
   "cell_type": "markdown",
   "id": "8c0dc1ad",
   "metadata": {
    "papermill": {
     "duration": 0.021592,
     "end_time": "2023-01-24T00:49:57.070240",
     "exception": false,
     "start_time": "2023-01-24T00:49:57.048648",
     "status": "completed"
    },
    "tags": []
   },
   "source": [
    "However, when the shopping rates are examined, it is observed that the **elder group generally makes more internet shopping**."
   ]
  },
  {
   "cell_type": "code",
   "execution_count": 38,
   "id": "05c3bbda",
   "metadata": {
    "execution": {
     "iopub.execute_input": "2023-01-24T00:49:57.128765Z",
     "iopub.status.busy": "2023-01-24T00:49:57.127683Z",
     "iopub.status.idle": "2023-01-24T00:49:57.674064Z",
     "shell.execute_reply": "2023-01-24T00:49:57.673223Z"
    },
    "papermill": {
     "duration": 0.571127,
     "end_time": "2023-01-24T00:49:57.676506",
     "exception": false,
     "start_time": "2023-01-24T00:49:57.105379",
     "status": "completed"
    },
    "tags": []
   },
   "outputs": [
    {
     "data": {
      "text/plain": [
       "<matplotlib.legend.Legend at 0x7f5502037710>"
      ]
     },
     "execution_count": 38,
     "metadata": {},
     "output_type": "execute_result"
    },
    {
     "data": {
      "image/png": "[encoded data removed]",
      "text/plain": [
       "<Figure size 432x288 with 1 Axes>"
      ]
     },
     "metadata": {
      "needs_background": "light"
     },
     "output_type": "display_data"
    }
   ],
   "source": [
    "fig, ax = plt.subplots()\n",
    "ax_1 = sns.lineplot(data=data, x=\"Education\", y=\"NumWebVisitsMonth\")\n",
    "ax_2 = sns.lineplot(data=data, x=\"Education\", y=\"NumWebPurchases\")\n",
    "plt.legend([\"NumWebVisitsMonth\",\"\",\"NumWebPurchases\",\"\"])"
   ]
  },
  {
   "cell_type": "markdown",
   "id": "54246380",
   "metadata": {
    "papermill": {
     "duration": 0.020853,
     "end_time": "2023-01-24T00:49:57.718554",
     "exception": false,
     "start_time": "2023-01-24T00:49:57.697701",
     "status": "completed"
    },
    "tags": []
   },
   "source": [
    "In the case of education, it is observed that the number of purchases is approaching with the website visits made in the process from basic to phd level. Accordingly, it is estimated that as the level of education increases, **the customer plans in advance what he/she will buy**. **As the level of education decreases, the number of non-shopping visits increases**."
   ]
  }
 ],
 "metadata": {
  "kernelspec": {
   "display_name": "Python 3",
   "language": "python",
   "name": "python3"
  },
  "language_info": {
   "codemirror_mode": {
    "name": "ipython",
    "version": 3
   },
   "file_extension": ".py",
   "mimetype": "text/x-python",
   "name": "python",
   "nbconvert_exporter": "python",
   "pygments_lexer": "ipython3",
   "version": "3.7.12"
  },
  "papermill": {
   "default_parameters": {},
   "duration": 17.46843,
   "end_time": "2023-01-24T00:49:58.461214",
   "environment_variables": {},
   "exception": null,
   "input_path": "__notebook__.ipynb",
   "output_path": "__notebook__.ipynb",
   "parameters": {},
   "start_time": "2023-01-24T00:49:40.992784",
   "version": "2.3.4"
  }
 },
 "nbformat": 4,
 "nbformat_minor": 5
}
