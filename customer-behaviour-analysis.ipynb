{
 "cells": [
  {
   "cell_type": "code",
   "execution_count": 1,
   "id": "78aaee24",
   "metadata": {
    "_cell_guid": "b1076dfc-b9ad-4769-8c92-a6c4dae69d19",
    "_uuid": "8f2839f25d086af736a60e9eeb907d3b93b6e0e5",
    "execution": {
     "iopub.execute_input": "2023-01-20T11:11:36.091880Z",
     "iopub.status.busy": "2023-01-20T11:11:36.091107Z",
     "iopub.status.idle": "2023-01-20T11:11:37.139217Z",
     "shell.execute_reply": "2023-01-20T11:11:37.138003Z"
    },
    "papermill": {
     "duration": 1.066313,
     "end_time": "2023-01-20T11:11:37.142356",
     "exception": false,
     "start_time": "2023-01-20T11:11:36.076043",
     "status": "completed"
    },
    "tags": []
   },
   "outputs": [],
   "source": [
    "import pandas as pd\n",
    "import warnings \n",
    "import seaborn as sns\n",
    "import numpy as np\n",
    "import matplotlib as plt\n",
    "warnings.filterwarnings('ignore')\n",
    "pd.set_option('display.max_columns', None)"
   ]
  },
  {
   "cell_type": "markdown",
   "id": "15a3dbfb",
   "metadata": {
    "papermill": {
     "duration": 0.009533,
     "end_time": "2023-01-20T11:11:37.162357",
     "exception": false,
     "start_time": "2023-01-20T11:11:37.152824",
     "status": "completed"
    },
    "tags": []
   },
   "source": [
    "# Table of Contents\n",
    "\n",
    "* [1. Pre-Processing](#1)"
   ]
  },
  {
   "cell_type": "markdown",
   "id": "65238b53",
   "metadata": {
    "papermill": {
     "duration": 0.011377,
     "end_time": "2023-01-20T11:11:37.183622",
     "exception": false,
     "start_time": "2023-01-20T11:11:37.172245",
     "status": "completed"
    },
    "tags": []
   },
   "source": [
    "# <p id = \"1\" style=\"font-family:arial;background-color:#2A93D5;color:#FFFFFF;font-size: 150%;text-align:center;border-radius: 0px 15px 15px 0px;border-style: solid;border-color: #2483bf;\">1.PRE-PROCESSING</p>"
   ]
  },
  {
   "cell_type": "code",
   "execution_count": 2,
   "id": "dfd7969c",
   "metadata": {
    "execution": {
     "iopub.execute_input": "2023-01-20T11:11:37.206983Z",
     "iopub.status.busy": "2023-01-20T11:11:37.205981Z",
     "iopub.status.idle": "2023-01-20T11:11:37.279035Z",
     "shell.execute_reply": "2023-01-20T11:11:37.278118Z"
    },
    "papermill": {
     "duration": 0.087894,
     "end_time": "2023-01-20T11:11:37.281469",
     "exception": false,
     "start_time": "2023-01-20T11:11:37.193575",
     "status": "completed"
    },
    "tags": []
   },
   "outputs": [
    {
     "data": {
      "text/html": [
       "<div>\n",
       "<style scoped>\n",
       "    .dataframe tbody tr th:only-of-type {\n",
       "        vertical-align: middle;\n",
       "    }\n",
       "\n",
       "    .dataframe tbody tr th {\n",
       "        vertical-align: top;\n",
       "    }\n",
       "\n",
       "    .dataframe thead th {\n",
       "        text-align: right;\n",
       "    }\n",
       "</style>\n",
       "<table border=\"1\" class=\"dataframe\">\n",
       "  <thead>\n",
       "    <tr style=\"text-align: right;\">\n",
       "      <th></th>\n",
       "      <th>ID</th>\n",
       "      <th>Year_Birth</th>\n",
       "      <th>Education</th>\n",
       "      <th>Marital_Status</th>\n",
       "      <th>Income</th>\n",
       "      <th>Kidhome</th>\n",
       "      <th>Teenhome</th>\n",
       "      <th>Dt_Customer</th>\n",
       "      <th>Recency</th>\n",
       "      <th>MntWines</th>\n",
       "      <th>MntFruits</th>\n",
       "      <th>MntMeatProducts</th>\n",
       "      <th>MntFishProducts</th>\n",
       "      <th>MntSweetProducts</th>\n",
       "      <th>MntGoldProds</th>\n",
       "      <th>NumDealsPurchases</th>\n",
       "      <th>NumWebPurchases</th>\n",
       "      <th>NumCatalogPurchases</th>\n",
       "      <th>NumStorePurchases</th>\n",
       "      <th>NumWebVisitsMonth</th>\n",
       "      <th>AcceptedCmp3</th>\n",
       "      <th>AcceptedCmp4</th>\n",
       "      <th>AcceptedCmp5</th>\n",
       "      <th>AcceptedCmp1</th>\n",
       "      <th>AcceptedCmp2</th>\n",
       "      <th>Complain</th>\n",
       "      <th>Z_CostContact</th>\n",
       "      <th>Z_Revenue</th>\n",
       "      <th>Response</th>\n",
       "    </tr>\n",
       "  </thead>\n",
       "  <tbody>\n",
       "    <tr>\n",
       "      <th>0</th>\n",
       "      <td>5524</td>\n",
       "      <td>1957</td>\n",
       "      <td>Graduation</td>\n",
       "      <td>Single</td>\n",
       "      <td>58138.0</td>\n",
       "      <td>0</td>\n",
       "      <td>0</td>\n",
       "      <td>04-09-2012</td>\n",
       "      <td>58</td>\n",
       "      <td>635</td>\n",
       "      <td>88</td>\n",
       "      <td>546</td>\n",
       "      <td>172</td>\n",
       "      <td>88</td>\n",
       "      <td>88</td>\n",
       "      <td>3</td>\n",
       "      <td>8</td>\n",
       "      <td>10</td>\n",
       "      <td>4</td>\n",
       "      <td>7</td>\n",
       "      <td>0</td>\n",
       "      <td>0</td>\n",
       "      <td>0</td>\n",
       "      <td>0</td>\n",
       "      <td>0</td>\n",
       "      <td>0</td>\n",
       "      <td>3</td>\n",
       "      <td>11</td>\n",
       "      <td>1</td>\n",
       "    </tr>\n",
       "    <tr>\n",
       "      <th>1</th>\n",
       "      <td>2174</td>\n",
       "      <td>1954</td>\n",
       "      <td>Graduation</td>\n",
       "      <td>Single</td>\n",
       "      <td>46344.0</td>\n",
       "      <td>1</td>\n",
       "      <td>1</td>\n",
       "      <td>08-03-2014</td>\n",
       "      <td>38</td>\n",
       "      <td>11</td>\n",
       "      <td>1</td>\n",
       "      <td>6</td>\n",
       "      <td>2</td>\n",
       "      <td>1</td>\n",
       "      <td>6</td>\n",
       "      <td>2</td>\n",
       "      <td>1</td>\n",
       "      <td>1</td>\n",
       "      <td>2</td>\n",
       "      <td>5</td>\n",
       "      <td>0</td>\n",
       "      <td>0</td>\n",
       "      <td>0</td>\n",
       "      <td>0</td>\n",
       "      <td>0</td>\n",
       "      <td>0</td>\n",
       "      <td>3</td>\n",
       "      <td>11</td>\n",
       "      <td>0</td>\n",
       "    </tr>\n",
       "    <tr>\n",
       "      <th>2</th>\n",
       "      <td>4141</td>\n",
       "      <td>1965</td>\n",
       "      <td>Graduation</td>\n",
       "      <td>Together</td>\n",
       "      <td>71613.0</td>\n",
       "      <td>0</td>\n",
       "      <td>0</td>\n",
       "      <td>21-08-2013</td>\n",
       "      <td>26</td>\n",
       "      <td>426</td>\n",
       "      <td>49</td>\n",
       "      <td>127</td>\n",
       "      <td>111</td>\n",
       "      <td>21</td>\n",
       "      <td>42</td>\n",
       "      <td>1</td>\n",
       "      <td>8</td>\n",
       "      <td>2</td>\n",
       "      <td>10</td>\n",
       "      <td>4</td>\n",
       "      <td>0</td>\n",
       "      <td>0</td>\n",
       "      <td>0</td>\n",
       "      <td>0</td>\n",
       "      <td>0</td>\n",
       "      <td>0</td>\n",
       "      <td>3</td>\n",
       "      <td>11</td>\n",
       "      <td>0</td>\n",
       "    </tr>\n",
       "    <tr>\n",
       "      <th>3</th>\n",
       "      <td>6182</td>\n",
       "      <td>1984</td>\n",
       "      <td>Graduation</td>\n",
       "      <td>Together</td>\n",
       "      <td>26646.0</td>\n",
       "      <td>1</td>\n",
       "      <td>0</td>\n",
       "      <td>10-02-2014</td>\n",
       "      <td>26</td>\n",
       "      <td>11</td>\n",
       "      <td>4</td>\n",
       "      <td>20</td>\n",
       "      <td>10</td>\n",
       "      <td>3</td>\n",
       "      <td>5</td>\n",
       "      <td>2</td>\n",
       "      <td>2</td>\n",
       "      <td>0</td>\n",
       "      <td>4</td>\n",
       "      <td>6</td>\n",
       "      <td>0</td>\n",
       "      <td>0</td>\n",
       "      <td>0</td>\n",
       "      <td>0</td>\n",
       "      <td>0</td>\n",
       "      <td>0</td>\n",
       "      <td>3</td>\n",
       "      <td>11</td>\n",
       "      <td>0</td>\n",
       "    </tr>\n",
       "    <tr>\n",
       "      <th>4</th>\n",
       "      <td>5324</td>\n",
       "      <td>1981</td>\n",
       "      <td>PhD</td>\n",
       "      <td>Married</td>\n",
       "      <td>58293.0</td>\n",
       "      <td>1</td>\n",
       "      <td>0</td>\n",
       "      <td>19-01-2014</td>\n",
       "      <td>94</td>\n",
       "      <td>173</td>\n",
       "      <td>43</td>\n",
       "      <td>118</td>\n",
       "      <td>46</td>\n",
       "      <td>27</td>\n",
       "      <td>15</td>\n",
       "      <td>5</td>\n",
       "      <td>5</td>\n",
       "      <td>3</td>\n",
       "      <td>6</td>\n",
       "      <td>5</td>\n",
       "      <td>0</td>\n",
       "      <td>0</td>\n",
       "      <td>0</td>\n",
       "      <td>0</td>\n",
       "      <td>0</td>\n",
       "      <td>0</td>\n",
       "      <td>3</td>\n",
       "      <td>11</td>\n",
       "      <td>0</td>\n",
       "    </tr>\n",
       "  </tbody>\n",
       "</table>\n",
       "</div>"
      ],
      "text/plain": [
       "     ID  Year_Birth   Education Marital_Status   Income  Kidhome  Teenhome  \\\n",
       "0  5524        1957  Graduation         Single  58138.0        0         0   \n",
       "1  2174        1954  Graduation         Single  46344.0        1         1   \n",
       "2  4141        1965  Graduation       Together  71613.0        0         0   \n",
       "3  6182        1984  Graduation       Together  26646.0        1         0   \n",
       "4  5324        1981         PhD        Married  58293.0        1         0   \n",
       "\n",
       "  Dt_Customer  Recency  MntWines  MntFruits  MntMeatProducts  MntFishProducts  \\\n",
       "0  04-09-2012       58       635         88              546              172   \n",
       "1  08-03-2014       38        11          1                6                2   \n",
       "2  21-08-2013       26       426         49              127              111   \n",
       "3  10-02-2014       26        11          4               20               10   \n",
       "4  19-01-2014       94       173         43              118               46   \n",
       "\n",
       "   MntSweetProducts  MntGoldProds  NumDealsPurchases  NumWebPurchases  \\\n",
       "0                88            88                  3                8   \n",
       "1                 1             6                  2                1   \n",
       "2                21            42                  1                8   \n",
       "3                 3             5                  2                2   \n",
       "4                27            15                  5                5   \n",
       "\n",
       "   NumCatalogPurchases  NumStorePurchases  NumWebVisitsMonth  AcceptedCmp3  \\\n",
       "0                   10                  4                  7             0   \n",
       "1                    1                  2                  5             0   \n",
       "2                    2                 10                  4             0   \n",
       "3                    0                  4                  6             0   \n",
       "4                    3                  6                  5             0   \n",
       "\n",
       "   AcceptedCmp4  AcceptedCmp5  AcceptedCmp1  AcceptedCmp2  Complain  \\\n",
       "0             0             0             0             0         0   \n",
       "1             0             0             0             0         0   \n",
       "2             0             0             0             0         0   \n",
       "3             0             0             0             0         0   \n",
       "4             0             0             0             0         0   \n",
       "\n",
       "   Z_CostContact  Z_Revenue  Response  \n",
       "0              3         11         1  \n",
       "1              3         11         0  \n",
       "2              3         11         0  \n",
       "3              3         11         0  \n",
       "4              3         11         0  "
      ]
     },
     "execution_count": 2,
     "metadata": {},
     "output_type": "execute_result"
    }
   ],
   "source": [
    "data = pd.read_csv('../input/customer-personality-analysis/marketing_campaign.csv', sep='\\t')\n",
    "data.head()"
   ]
  },
  {
   "cell_type": "code",
   "execution_count": 3,
   "id": "c98f13df",
   "metadata": {
    "execution": {
     "iopub.execute_input": "2023-01-20T11:11:37.304441Z",
     "iopub.status.busy": "2023-01-20T11:11:37.303718Z",
     "iopub.status.idle": "2023-01-20T11:11:37.331604Z",
     "shell.execute_reply": "2023-01-20T11:11:37.330088Z"
    },
    "papermill": {
     "duration": 0.042679,
     "end_time": "2023-01-20T11:11:37.334736",
     "exception": false,
     "start_time": "2023-01-20T11:11:37.292057",
     "status": "completed"
    },
    "tags": []
   },
   "outputs": [
    {
     "name": "stdout",
     "output_type": "stream",
     "text": [
      "<class 'pandas.core.frame.DataFrame'>\n",
      "RangeIndex: 2240 entries, 0 to 2239\n",
      "Data columns (total 29 columns):\n",
      " #   Column               Non-Null Count  Dtype  \n",
      "---  ------               --------------  -----  \n",
      " 0   ID                   2240 non-null   int64  \n",
      " 1   Year_Birth           2240 non-null   int64  \n",
      " 2   Education            2240 non-null   object \n",
      " 3   Marital_Status       2240 non-null   object \n",
      " 4   Income               2216 non-null   float64\n",
      " 5   Kidhome              2240 non-null   int64  \n",
      " 6   Teenhome             2240 non-null   int64  \n",
      " 7   Dt_Customer          2240 non-null   object \n",
      " 8   Recency              2240 non-null   int64  \n",
      " 9   MntWines             2240 non-null   int64  \n",
      " 10  MntFruits            2240 non-null   int64  \n",
      " 11  MntMeatProducts      2240 non-null   int64  \n",
      " 12  MntFishProducts      2240 non-null   int64  \n",
      " 13  MntSweetProducts     2240 non-null   int64  \n",
      " 14  MntGoldProds         2240 non-null   int64  \n",
      " 15  NumDealsPurchases    2240 non-null   int64  \n",
      " 16  NumWebPurchases      2240 non-null   int64  \n",
      " 17  NumCatalogPurchases  2240 non-null   int64  \n",
      " 18  NumStorePurchases    2240 non-null   int64  \n",
      " 19  NumWebVisitsMonth    2240 non-null   int64  \n",
      " 20  AcceptedCmp3         2240 non-null   int64  \n",
      " 21  AcceptedCmp4         2240 non-null   int64  \n",
      " 22  AcceptedCmp5         2240 non-null   int64  \n",
      " 23  AcceptedCmp1         2240 non-null   int64  \n",
      " 24  AcceptedCmp2         2240 non-null   int64  \n",
      " 25  Complain             2240 non-null   int64  \n",
      " 26  Z_CostContact        2240 non-null   int64  \n",
      " 27  Z_Revenue            2240 non-null   int64  \n",
      " 28  Response             2240 non-null   int64  \n",
      "dtypes: float64(1), int64(25), object(3)\n",
      "memory usage: 507.6+ KB\n"
     ]
    }
   ],
   "source": [
    "data.info()"
   ]
  },
  {
   "cell_type": "markdown",
   "id": "e1367a0d",
   "metadata": {
    "papermill": {
     "duration": 0.010586,
     "end_time": "2023-01-20T11:11:37.355996",
     "exception": false,
     "start_time": "2023-01-20T11:11:37.345410",
     "status": "completed"
    },
    "tags": []
   },
   "source": [
    "**Checks the null distribution between columns:**"
   ]
  },
  {
   "cell_type": "code",
   "execution_count": 4,
   "id": "8242df6b",
   "metadata": {
    "execution": {
     "iopub.execute_input": "2023-01-20T11:11:37.378557Z",
     "iopub.status.busy": "2023-01-20T11:11:37.378120Z",
     "iopub.status.idle": "2023-01-20T11:11:37.389390Z",
     "shell.execute_reply": "2023-01-20T11:11:37.388283Z"
    },
    "papermill": {
     "duration": 0.025683,
     "end_time": "2023-01-20T11:11:37.392009",
     "exception": false,
     "start_time": "2023-01-20T11:11:37.366326",
     "status": "completed"
    },
    "tags": []
   },
   "outputs": [
    {
     "data": {
      "text/plain": [
       "ID                      0\n",
       "Year_Birth              0\n",
       "Education               0\n",
       "Marital_Status          0\n",
       "Income                 24\n",
       "Kidhome                 0\n",
       "Teenhome                0\n",
       "Dt_Customer             0\n",
       "Recency                 0\n",
       "MntWines                0\n",
       "MntFruits               0\n",
       "MntMeatProducts         0\n",
       "MntFishProducts         0\n",
       "MntSweetProducts        0\n",
       "MntGoldProds            0\n",
       "NumDealsPurchases       0\n",
       "NumWebPurchases         0\n",
       "NumCatalogPurchases     0\n",
       "NumStorePurchases       0\n",
       "NumWebVisitsMonth       0\n",
       "AcceptedCmp3            0\n",
       "AcceptedCmp4            0\n",
       "AcceptedCmp5            0\n",
       "AcceptedCmp1            0\n",
       "AcceptedCmp2            0\n",
       "Complain                0\n",
       "Z_CostContact           0\n",
       "Z_Revenue               0\n",
       "Response                0\n",
       "dtype: int64"
      ]
     },
     "execution_count": 4,
     "metadata": {},
     "output_type": "execute_result"
    }
   ],
   "source": [
    "data.isna().sum()"
   ]
  },
  {
   "cell_type": "markdown",
   "id": "a365db59",
   "metadata": {
    "papermill": {
     "duration": 0.010298,
     "end_time": "2023-01-20T11:11:37.413434",
     "exception": false,
     "start_time": "2023-01-20T11:11:37.403136",
     "status": "completed"
    },
    "tags": []
   },
   "source": [
    "**Drops the rows with null values:**"
   ]
  },
  {
   "cell_type": "code",
   "execution_count": 5,
   "id": "ec659c71",
   "metadata": {
    "execution": {
     "iopub.execute_input": "2023-01-20T11:11:37.436573Z",
     "iopub.status.busy": "2023-01-20T11:11:37.436127Z",
     "iopub.status.idle": "2023-01-20T11:11:37.445297Z",
     "shell.execute_reply": "2023-01-20T11:11:37.444286Z"
    },
    "papermill": {
     "duration": 0.023918,
     "end_time": "2023-01-20T11:11:37.448050",
     "exception": false,
     "start_time": "2023-01-20T11:11:37.424132",
     "status": "completed"
    },
    "tags": []
   },
   "outputs": [],
   "source": [
    "data.drop(index=(data[data['Income'].isna()].index), axis = 0, inplace=True)"
   ]
  },
  {
   "cell_type": "markdown",
   "id": "6933237a",
   "metadata": {
    "papermill": {
     "duration": 0.01037,
     "end_time": "2023-01-20T11:11:37.469555",
     "exception": false,
     "start_time": "2023-01-20T11:11:37.459185",
     "status": "completed"
    },
    "tags": []
   },
   "source": [
    "**Conversion of column type:**"
   ]
  },
  {
   "cell_type": "code",
   "execution_count": 6,
   "id": "b0cee683",
   "metadata": {
    "execution": {
     "iopub.execute_input": "2023-01-20T11:11:37.493192Z",
     "iopub.status.busy": "2023-01-20T11:11:37.492736Z",
     "iopub.status.idle": "2023-01-20T11:11:37.505410Z",
     "shell.execute_reply": "2023-01-20T11:11:37.504401Z"
    },
    "papermill": {
     "duration": 0.027448,
     "end_time": "2023-01-20T11:11:37.507974",
     "exception": false,
     "start_time": "2023-01-20T11:11:37.480526",
     "status": "completed"
    },
    "tags": []
   },
   "outputs": [],
   "source": [
    "data['Education'] = data['Education'].astype('category')\n",
    "data['Dt_Customer'] = pd.to_datetime(data['Dt_Customer'])"
   ]
  },
  {
   "cell_type": "markdown",
   "id": "80bc1244",
   "metadata": {
    "papermill": {
     "duration": 0.010428,
     "end_time": "2023-01-20T11:11:37.529048",
     "exception": false,
     "start_time": "2023-01-20T11:11:37.518620",
     "status": "completed"
    },
    "tags": []
   },
   "source": [
    "**Calculating the year and day difference with Dt_Customer column.**"
   ]
  },
  {
   "cell_type": "code",
   "execution_count": 7,
   "id": "9e8f6476",
   "metadata": {
    "execution": {
     "iopub.execute_input": "2023-01-20T11:11:37.552137Z",
     "iopub.status.busy": "2023-01-20T11:11:37.551729Z",
     "iopub.status.idle": "2023-01-20T11:11:37.557309Z",
     "shell.execute_reply": "2023-01-20T11:11:37.555927Z"
    },
    "papermill": {
     "duration": 0.020296,
     "end_time": "2023-01-20T11:11:37.560157",
     "exception": false,
     "start_time": "2023-01-20T11:11:37.539861",
     "status": "completed"
    },
    "tags": []
   },
   "outputs": [],
   "source": [
    "from datetime import datetime\n",
    "currentYear = datetime.now().year"
   ]
  },
  {
   "cell_type": "code",
   "execution_count": 8,
   "id": "d52065c0",
   "metadata": {
    "execution": {
     "iopub.execute_input": "2023-01-20T11:11:37.583381Z",
     "iopub.status.busy": "2023-01-20T11:11:37.582934Z",
     "iopub.status.idle": "2023-01-20T11:11:37.628289Z",
     "shell.execute_reply": "2023-01-20T11:11:37.627361Z"
    },
    "papermill": {
     "duration": 0.06009,
     "end_time": "2023-01-20T11:11:37.630913",
     "exception": false,
     "start_time": "2023-01-20T11:11:37.570823",
     "status": "completed"
    },
    "tags": []
   },
   "outputs": [],
   "source": [
    "data['Year_Customer'] = data['Dt_Customer'].dt.year.apply(lambda x : currentYear - x)\n",
    "data['DayDiff_Customer'] = data['Dt_Customer'].apply(lambda x : datetime.now() - x)\n",
    "data['DayDiff_Customer'] = data['DayDiff_Customer'].dt.days\n",
    "data.drop(['Dt_Customer'], axis = 1, inplace = True)"
   ]
  },
  {
   "cell_type": "markdown",
   "id": "058c9b84",
   "metadata": {
    "papermill": {
     "duration": 0.010434,
     "end_time": "2023-01-20T11:11:37.651952",
     "exception": false,
     "start_time": "2023-01-20T11:11:37.641518",
     "status": "completed"
    },
    "tags": []
   },
   "source": [
    "# Age Variable"
   ]
  },
  {
   "cell_type": "markdown",
   "id": "bb91ae2d",
   "metadata": {
    "papermill": {
     "duration": 0.010445,
     "end_time": "2023-01-20T11:11:37.673114",
     "exception": false,
     "start_time": "2023-01-20T11:11:37.662669",
     "status": "completed"
    },
    "tags": []
   },
   "source": [
    "**Calculates the age of every customer and drops the Year_Birth column:**"
   ]
  },
  {
   "cell_type": "code",
   "execution_count": 9,
   "id": "01465f26",
   "metadata": {
    "execution": {
     "iopub.execute_input": "2023-01-20T11:11:37.697427Z",
     "iopub.status.busy": "2023-01-20T11:11:37.696334Z",
     "iopub.status.idle": "2023-01-20T11:11:37.725097Z",
     "shell.execute_reply": "2023-01-20T11:11:37.723784Z"
    },
    "papermill": {
     "duration": 0.043907,
     "end_time": "2023-01-20T11:11:37.727661",
     "exception": false,
     "start_time": "2023-01-20T11:11:37.683754",
     "status": "completed"
    },
    "tags": []
   },
   "outputs": [
    {
     "data": {
      "text/html": [
       "<div>\n",
       "<style scoped>\n",
       "    .dataframe tbody tr th:only-of-type {\n",
       "        vertical-align: middle;\n",
       "    }\n",
       "\n",
       "    .dataframe tbody tr th {\n",
       "        vertical-align: top;\n",
       "    }\n",
       "\n",
       "    .dataframe thead th {\n",
       "        text-align: right;\n",
       "    }\n",
       "</style>\n",
       "<table border=\"1\" class=\"dataframe\">\n",
       "  <thead>\n",
       "    <tr style=\"text-align: right;\">\n",
       "      <th></th>\n",
       "      <th>ID</th>\n",
       "      <th>Education</th>\n",
       "      <th>Marital_Status</th>\n",
       "      <th>Income</th>\n",
       "      <th>Kidhome</th>\n",
       "      <th>Teenhome</th>\n",
       "      <th>Recency</th>\n",
       "      <th>MntWines</th>\n",
       "      <th>MntFruits</th>\n",
       "      <th>MntMeatProducts</th>\n",
       "      <th>MntFishProducts</th>\n",
       "      <th>MntSweetProducts</th>\n",
       "      <th>MntGoldProds</th>\n",
       "      <th>NumDealsPurchases</th>\n",
       "      <th>NumWebPurchases</th>\n",
       "      <th>NumCatalogPurchases</th>\n",
       "      <th>NumStorePurchases</th>\n",
       "      <th>NumWebVisitsMonth</th>\n",
       "      <th>AcceptedCmp3</th>\n",
       "      <th>AcceptedCmp4</th>\n",
       "      <th>AcceptedCmp5</th>\n",
       "      <th>AcceptedCmp1</th>\n",
       "      <th>AcceptedCmp2</th>\n",
       "      <th>Complain</th>\n",
       "      <th>Z_CostContact</th>\n",
       "      <th>Z_Revenue</th>\n",
       "      <th>Response</th>\n",
       "      <th>Year_Customer</th>\n",
       "      <th>DayDiff_Customer</th>\n",
       "      <th>Age</th>\n",
       "    </tr>\n",
       "  </thead>\n",
       "  <tbody>\n",
       "    <tr>\n",
       "      <th>0</th>\n",
       "      <td>5524</td>\n",
       "      <td>Graduation</td>\n",
       "      <td>Single</td>\n",
       "      <td>58138.0</td>\n",
       "      <td>0</td>\n",
       "      <td>0</td>\n",
       "      <td>58</td>\n",
       "      <td>635</td>\n",
       "      <td>88</td>\n",
       "      <td>546</td>\n",
       "      <td>172</td>\n",
       "      <td>88</td>\n",
       "      <td>88</td>\n",
       "      <td>3</td>\n",
       "      <td>8</td>\n",
       "      <td>10</td>\n",
       "      <td>4</td>\n",
       "      <td>7</td>\n",
       "      <td>0</td>\n",
       "      <td>0</td>\n",
       "      <td>0</td>\n",
       "      <td>0</td>\n",
       "      <td>0</td>\n",
       "      <td>0</td>\n",
       "      <td>3</td>\n",
       "      <td>11</td>\n",
       "      <td>1</td>\n",
       "      <td>11</td>\n",
       "      <td>3938</td>\n",
       "      <td>66</td>\n",
       "    </tr>\n",
       "    <tr>\n",
       "      <th>1</th>\n",
       "      <td>2174</td>\n",
       "      <td>Graduation</td>\n",
       "      <td>Single</td>\n",
       "      <td>46344.0</td>\n",
       "      <td>1</td>\n",
       "      <td>1</td>\n",
       "      <td>38</td>\n",
       "      <td>11</td>\n",
       "      <td>1</td>\n",
       "      <td>6</td>\n",
       "      <td>2</td>\n",
       "      <td>1</td>\n",
       "      <td>6</td>\n",
       "      <td>2</td>\n",
       "      <td>1</td>\n",
       "      <td>1</td>\n",
       "      <td>2</td>\n",
       "      <td>5</td>\n",
       "      <td>0</td>\n",
       "      <td>0</td>\n",
       "      <td>0</td>\n",
       "      <td>0</td>\n",
       "      <td>0</td>\n",
       "      <td>0</td>\n",
       "      <td>3</td>\n",
       "      <td>11</td>\n",
       "      <td>0</td>\n",
       "      <td>9</td>\n",
       "      <td>3092</td>\n",
       "      <td>69</td>\n",
       "    </tr>\n",
       "    <tr>\n",
       "      <th>2</th>\n",
       "      <td>4141</td>\n",
       "      <td>Graduation</td>\n",
       "      <td>Together</td>\n",
       "      <td>71613.0</td>\n",
       "      <td>0</td>\n",
       "      <td>0</td>\n",
       "      <td>26</td>\n",
       "      <td>426</td>\n",
       "      <td>49</td>\n",
       "      <td>127</td>\n",
       "      <td>111</td>\n",
       "      <td>21</td>\n",
       "      <td>42</td>\n",
       "      <td>1</td>\n",
       "      <td>8</td>\n",
       "      <td>2</td>\n",
       "      <td>10</td>\n",
       "      <td>4</td>\n",
       "      <td>0</td>\n",
       "      <td>0</td>\n",
       "      <td>0</td>\n",
       "      <td>0</td>\n",
       "      <td>0</td>\n",
       "      <td>0</td>\n",
       "      <td>3</td>\n",
       "      <td>11</td>\n",
       "      <td>0</td>\n",
       "      <td>10</td>\n",
       "      <td>3439</td>\n",
       "      <td>58</td>\n",
       "    </tr>\n",
       "    <tr>\n",
       "      <th>3</th>\n",
       "      <td>6182</td>\n",
       "      <td>Graduation</td>\n",
       "      <td>Together</td>\n",
       "      <td>26646.0</td>\n",
       "      <td>1</td>\n",
       "      <td>0</td>\n",
       "      <td>26</td>\n",
       "      <td>11</td>\n",
       "      <td>4</td>\n",
       "      <td>20</td>\n",
       "      <td>10</td>\n",
       "      <td>3</td>\n",
       "      <td>5</td>\n",
       "      <td>2</td>\n",
       "      <td>2</td>\n",
       "      <td>0</td>\n",
       "      <td>4</td>\n",
       "      <td>6</td>\n",
       "      <td>0</td>\n",
       "      <td>0</td>\n",
       "      <td>0</td>\n",
       "      <td>0</td>\n",
       "      <td>0</td>\n",
       "      <td>0</td>\n",
       "      <td>3</td>\n",
       "      <td>11</td>\n",
       "      <td>0</td>\n",
       "      <td>9</td>\n",
       "      <td>3032</td>\n",
       "      <td>39</td>\n",
       "    </tr>\n",
       "    <tr>\n",
       "      <th>4</th>\n",
       "      <td>5324</td>\n",
       "      <td>PhD</td>\n",
       "      <td>Married</td>\n",
       "      <td>58293.0</td>\n",
       "      <td>1</td>\n",
       "      <td>0</td>\n",
       "      <td>94</td>\n",
       "      <td>173</td>\n",
       "      <td>43</td>\n",
       "      <td>118</td>\n",
       "      <td>46</td>\n",
       "      <td>27</td>\n",
       "      <td>15</td>\n",
       "      <td>5</td>\n",
       "      <td>5</td>\n",
       "      <td>3</td>\n",
       "      <td>6</td>\n",
       "      <td>5</td>\n",
       "      <td>0</td>\n",
       "      <td>0</td>\n",
       "      <td>0</td>\n",
       "      <td>0</td>\n",
       "      <td>0</td>\n",
       "      <td>0</td>\n",
       "      <td>3</td>\n",
       "      <td>11</td>\n",
       "      <td>0</td>\n",
       "      <td>9</td>\n",
       "      <td>3288</td>\n",
       "      <td>42</td>\n",
       "    </tr>\n",
       "  </tbody>\n",
       "</table>\n",
       "</div>"
      ],
      "text/plain": [
       "     ID   Education Marital_Status   Income  Kidhome  Teenhome  Recency  \\\n",
       "0  5524  Graduation         Single  58138.0        0         0       58   \n",
       "1  2174  Graduation         Single  46344.0        1         1       38   \n",
       "2  4141  Graduation       Together  71613.0        0         0       26   \n",
       "3  6182  Graduation       Together  26646.0        1         0       26   \n",
       "4  5324         PhD        Married  58293.0        1         0       94   \n",
       "\n",
       "   MntWines  MntFruits  MntMeatProducts  MntFishProducts  MntSweetProducts  \\\n",
       "0       635         88              546              172                88   \n",
       "1        11          1                6                2                 1   \n",
       "2       426         49              127              111                21   \n",
       "3        11          4               20               10                 3   \n",
       "4       173         43              118               46                27   \n",
       "\n",
       "   MntGoldProds  NumDealsPurchases  NumWebPurchases  NumCatalogPurchases  \\\n",
       "0            88                  3                8                   10   \n",
       "1             6                  2                1                    1   \n",
       "2            42                  1                8                    2   \n",
       "3             5                  2                2                    0   \n",
       "4            15                  5                5                    3   \n",
       "\n",
       "   NumStorePurchases  NumWebVisitsMonth  AcceptedCmp3  AcceptedCmp4  \\\n",
       "0                  4                  7             0             0   \n",
       "1                  2                  5             0             0   \n",
       "2                 10                  4             0             0   \n",
       "3                  4                  6             0             0   \n",
       "4                  6                  5             0             0   \n",
       "\n",
       "   AcceptedCmp5  AcceptedCmp1  AcceptedCmp2  Complain  Z_CostContact  \\\n",
       "0             0             0             0         0              3   \n",
       "1             0             0             0         0              3   \n",
       "2             0             0             0         0              3   \n",
       "3             0             0             0         0              3   \n",
       "4             0             0             0         0              3   \n",
       "\n",
       "   Z_Revenue  Response  Year_Customer  DayDiff_Customer  Age  \n",
       "0         11         1             11              3938   66  \n",
       "1         11         0              9              3092   69  \n",
       "2         11         0             10              3439   58  \n",
       "3         11         0              9              3032   39  \n",
       "4         11         0              9              3288   42  "
      ]
     },
     "execution_count": 9,
     "metadata": {},
     "output_type": "execute_result"
    }
   ],
   "source": [
    "data['Age'] = data['Year_Birth'].apply(lambda x : currentYear - x)\n",
    "# Drops the Year_Birth column\n",
    "data.drop(['Year_Birth'], axis = 1, inplace = True)\n",
    "data.head()"
   ]
  },
  {
   "cell_type": "markdown",
   "id": "6306a645",
   "metadata": {
    "papermill": {
     "duration": 0.011325,
     "end_time": "2023-01-20T11:11:37.750645",
     "exception": false,
     "start_time": "2023-01-20T11:11:37.739320",
     "status": "completed"
    },
    "tags": []
   },
   "source": [
    "**The distribution of Age variable:**"
   ]
  },
  {
   "cell_type": "code",
   "execution_count": 10,
   "id": "ddbbd9d3",
   "metadata": {
    "execution": {
     "iopub.execute_input": "2023-01-20T11:11:37.775642Z",
     "iopub.status.busy": "2023-01-20T11:11:37.774959Z",
     "iopub.status.idle": "2023-01-20T11:11:38.059001Z",
     "shell.execute_reply": "2023-01-20T11:11:38.057781Z"
    },
    "papermill": {
     "duration": 0.29965,
     "end_time": "2023-01-20T11:11:38.061479",
     "exception": false,
     "start_time": "2023-01-20T11:11:37.761829",
     "status": "completed"
    },
    "tags": []
   },
   "outputs": [
    {
     "data": {
      "text/plain": [
       "<AxesSubplot:xlabel='Age', ylabel='Count'>"
      ]
     },
     "execution_count": 10,
     "metadata": {},
     "output_type": "execute_result"
    },
    {
     "data": {
      "image/png": "[encoded data removed]",
      "text/plain": [
       "<Figure size 432x288 with 1 Axes>"
      ]
     },
     "metadata": {
      "needs_background": "light"
     },
     "output_type": "display_data"
    }
   ],
   "source": [
    "sns.histplot(data['Age'], bins=10)"
   ]
  },
  {
   "cell_type": "markdown",
   "id": "061d0d1d",
   "metadata": {
    "papermill": {
     "duration": 0.011272,
     "end_time": "2023-01-20T11:11:38.084328",
     "exception": false,
     "start_time": "2023-01-20T11:11:38.073056",
     "status": "completed"
    },
    "tags": []
   },
   "source": [
    "**The age distribution rounds around 50. There are some outliers above 100.**"
   ]
  },
  {
   "cell_type": "code",
   "execution_count": 11,
   "id": "63c43dca",
   "metadata": {
    "execution": {
     "iopub.execute_input": "2023-01-20T11:11:38.109456Z",
     "iopub.status.busy": "2023-01-20T11:11:38.108599Z",
     "iopub.status.idle": "2023-01-20T11:11:38.116626Z",
     "shell.execute_reply": "2023-01-20T11:11:38.115645Z"
    },
    "papermill": {
     "duration": 0.02316,
     "end_time": "2023-01-20T11:11:38.118921",
     "exception": false,
     "start_time": "2023-01-20T11:11:38.095761",
     "status": "completed"
    },
    "tags": []
   },
   "outputs": [
    {
     "data": {
      "text/plain": [
       "130"
      ]
     },
     "execution_count": 11,
     "metadata": {},
     "output_type": "execute_result"
    }
   ],
   "source": [
    "data['Age'].max()"
   ]
  },
  {
   "cell_type": "code",
   "execution_count": 12,
   "id": "e0ccf34f",
   "metadata": {
    "execution": {
     "iopub.execute_input": "2023-01-20T11:11:38.144210Z",
     "iopub.status.busy": "2023-01-20T11:11:38.143496Z",
     "iopub.status.idle": "2023-01-20T11:11:38.165469Z",
     "shell.execute_reply": "2023-01-20T11:11:38.164190Z"
    },
    "papermill": {
     "duration": 0.037803,
     "end_time": "2023-01-20T11:11:38.168240",
     "exception": false,
     "start_time": "2023-01-20T11:11:38.130437",
     "status": "completed"
    },
    "tags": []
   },
   "outputs": [
    {
     "data": {
      "text/html": [
       "<div>\n",
       "<style scoped>\n",
       "    .dataframe tbody tr th:only-of-type {\n",
       "        vertical-align: middle;\n",
       "    }\n",
       "\n",
       "    .dataframe tbody tr th {\n",
       "        vertical-align: top;\n",
       "    }\n",
       "\n",
       "    .dataframe thead th {\n",
       "        text-align: right;\n",
       "    }\n",
       "</style>\n",
       "<table border=\"1\" class=\"dataframe\">\n",
       "  <thead>\n",
       "    <tr style=\"text-align: right;\">\n",
       "      <th></th>\n",
       "      <th>ID</th>\n",
       "      <th>Education</th>\n",
       "      <th>Marital_Status</th>\n",
       "      <th>Income</th>\n",
       "      <th>Kidhome</th>\n",
       "      <th>Teenhome</th>\n",
       "      <th>Recency</th>\n",
       "      <th>MntWines</th>\n",
       "      <th>MntFruits</th>\n",
       "      <th>MntMeatProducts</th>\n",
       "      <th>MntFishProducts</th>\n",
       "      <th>MntSweetProducts</th>\n",
       "      <th>MntGoldProds</th>\n",
       "      <th>NumDealsPurchases</th>\n",
       "      <th>NumWebPurchases</th>\n",
       "      <th>NumCatalogPurchases</th>\n",
       "      <th>NumStorePurchases</th>\n",
       "      <th>NumWebVisitsMonth</th>\n",
       "      <th>AcceptedCmp3</th>\n",
       "      <th>AcceptedCmp4</th>\n",
       "      <th>AcceptedCmp5</th>\n",
       "      <th>AcceptedCmp1</th>\n",
       "      <th>AcceptedCmp2</th>\n",
       "      <th>Complain</th>\n",
       "      <th>Z_CostContact</th>\n",
       "      <th>Z_Revenue</th>\n",
       "      <th>Response</th>\n",
       "      <th>Year_Customer</th>\n",
       "      <th>DayDiff_Customer</th>\n",
       "      <th>Age</th>\n",
       "    </tr>\n",
       "  </thead>\n",
       "  <tbody>\n",
       "    <tr>\n",
       "      <th>192</th>\n",
       "      <td>7829</td>\n",
       "      <td>2n Cycle</td>\n",
       "      <td>Divorced</td>\n",
       "      <td>36640.0</td>\n",
       "      <td>1</td>\n",
       "      <td>0</td>\n",
       "      <td>99</td>\n",
       "      <td>15</td>\n",
       "      <td>6</td>\n",
       "      <td>8</td>\n",
       "      <td>7</td>\n",
       "      <td>4</td>\n",
       "      <td>25</td>\n",
       "      <td>1</td>\n",
       "      <td>2</td>\n",
       "      <td>1</td>\n",
       "      <td>2</td>\n",
       "      <td>5</td>\n",
       "      <td>0</td>\n",
       "      <td>0</td>\n",
       "      <td>0</td>\n",
       "      <td>0</td>\n",
       "      <td>0</td>\n",
       "      <td>1</td>\n",
       "      <td>3</td>\n",
       "      <td>11</td>\n",
       "      <td>0</td>\n",
       "      <td>10</td>\n",
       "      <td>3403</td>\n",
       "      <td>123</td>\n",
       "    </tr>\n",
       "    <tr>\n",
       "      <th>239</th>\n",
       "      <td>11004</td>\n",
       "      <td>2n Cycle</td>\n",
       "      <td>Single</td>\n",
       "      <td>60182.0</td>\n",
       "      <td>0</td>\n",
       "      <td>1</td>\n",
       "      <td>23</td>\n",
       "      <td>8</td>\n",
       "      <td>0</td>\n",
       "      <td>5</td>\n",
       "      <td>7</td>\n",
       "      <td>0</td>\n",
       "      <td>2</td>\n",
       "      <td>1</td>\n",
       "      <td>1</td>\n",
       "      <td>0</td>\n",
       "      <td>2</td>\n",
       "      <td>4</td>\n",
       "      <td>0</td>\n",
       "      <td>0</td>\n",
       "      <td>0</td>\n",
       "      <td>0</td>\n",
       "      <td>0</td>\n",
       "      <td>0</td>\n",
       "      <td>3</td>\n",
       "      <td>11</td>\n",
       "      <td>0</td>\n",
       "      <td>9</td>\n",
       "      <td>3170</td>\n",
       "      <td>130</td>\n",
       "    </tr>\n",
       "    <tr>\n",
       "      <th>339</th>\n",
       "      <td>1150</td>\n",
       "      <td>PhD</td>\n",
       "      <td>Together</td>\n",
       "      <td>83532.0</td>\n",
       "      <td>0</td>\n",
       "      <td>0</td>\n",
       "      <td>36</td>\n",
       "      <td>755</td>\n",
       "      <td>144</td>\n",
       "      <td>562</td>\n",
       "      <td>104</td>\n",
       "      <td>64</td>\n",
       "      <td>224</td>\n",
       "      <td>1</td>\n",
       "      <td>4</td>\n",
       "      <td>6</td>\n",
       "      <td>4</td>\n",
       "      <td>1</td>\n",
       "      <td>0</td>\n",
       "      <td>0</td>\n",
       "      <td>1</td>\n",
       "      <td>0</td>\n",
       "      <td>0</td>\n",
       "      <td>0</td>\n",
       "      <td>3</td>\n",
       "      <td>11</td>\n",
       "      <td>0</td>\n",
       "      <td>10</td>\n",
       "      <td>3403</td>\n",
       "      <td>124</td>\n",
       "    </tr>\n",
       "  </tbody>\n",
       "</table>\n",
       "</div>"
      ],
      "text/plain": [
       "        ID Education Marital_Status   Income  Kidhome  Teenhome  Recency  \\\n",
       "192   7829  2n Cycle       Divorced  36640.0        1         0       99   \n",
       "239  11004  2n Cycle         Single  60182.0        0         1       23   \n",
       "339   1150       PhD       Together  83532.0        0         0       36   \n",
       "\n",
       "     MntWines  MntFruits  MntMeatProducts  MntFishProducts  MntSweetProducts  \\\n",
       "192        15          6                8                7                 4   \n",
       "239         8          0                5                7                 0   \n",
       "339       755        144              562              104                64   \n",
       "\n",
       "     MntGoldProds  NumDealsPurchases  NumWebPurchases  NumCatalogPurchases  \\\n",
       "192            25                  1                2                    1   \n",
       "239             2                  1                1                    0   \n",
       "339           224                  1                4                    6   \n",
       "\n",
       "     NumStorePurchases  NumWebVisitsMonth  AcceptedCmp3  AcceptedCmp4  \\\n",
       "192                  2                  5             0             0   \n",
       "239                  2                  4             0             0   \n",
       "339                  4                  1             0             0   \n",
       "\n",
       "     AcceptedCmp5  AcceptedCmp1  AcceptedCmp2  Complain  Z_CostContact  \\\n",
       "192             0             0             0         1              3   \n",
       "239             0             0             0         0              3   \n",
       "339             1             0             0         0              3   \n",
       "\n",
       "     Z_Revenue  Response  Year_Customer  DayDiff_Customer  Age  \n",
       "192         11         0             10              3403  123  \n",
       "239         11         0              9              3170  130  \n",
       "339         11         0             10              3403  124  "
      ]
     },
     "execution_count": 12,
     "metadata": {},
     "output_type": "execute_result"
    }
   ],
   "source": [
    "data[data['Age'] > 100]"
   ]
  },
  {
   "cell_type": "markdown",
   "id": "be639978",
   "metadata": {
    "papermill": {
     "duration": 0.011612,
     "end_time": "2023-01-20T11:11:38.191828",
     "exception": false,
     "start_time": "2023-01-20T11:11:38.180216",
     "status": "completed"
    },
    "tags": []
   },
   "source": [
    "**Because of that the age group does not frequent, it could be removed from dataset to make the feature model work well.**\n",
    "\n",
    "**The code below drops the customers which is over the age of 100:**"
   ]
  },
  {
   "cell_type": "code",
   "execution_count": 13,
   "id": "3a79e045",
   "metadata": {
    "execution": {
     "iopub.execute_input": "2023-01-20T11:11:38.220974Z",
     "iopub.status.busy": "2023-01-20T11:11:38.220268Z",
     "iopub.status.idle": "2023-01-20T11:11:38.227577Z",
     "shell.execute_reply": "2023-01-20T11:11:38.226214Z"
    },
    "papermill": {
     "duration": 0.023923,
     "end_time": "2023-01-20T11:11:38.230437",
     "exception": false,
     "start_time": "2023-01-20T11:11:38.206514",
     "status": "completed"
    },
    "tags": []
   },
   "outputs": [],
   "source": [
    "data.drop(index=(data[data['Age'] > 100].index), axis = 0, inplace=True)"
   ]
  },
  {
   "cell_type": "markdown",
   "id": "ec822cf6",
   "metadata": {
    "papermill": {
     "duration": 0.011871,
     "end_time": "2023-01-20T11:11:38.254462",
     "exception": false,
     "start_time": "2023-01-20T11:11:38.242591",
     "status": "completed"
    },
    "tags": []
   },
   "source": [
    "**Setting ticks for X axis of age distribution histogram:**"
   ]
  },
  {
   "cell_type": "code",
   "execution_count": 14,
   "id": "4b7ef912",
   "metadata": {
    "execution": {
     "iopub.execute_input": "2023-01-20T11:11:38.280895Z",
     "iopub.status.busy": "2023-01-20T11:11:38.279734Z",
     "iopub.status.idle": "2023-01-20T11:11:38.288222Z",
     "shell.execute_reply": "2023-01-20T11:11:38.287064Z"
    },
    "papermill": {
     "duration": 0.024089,
     "end_time": "2023-01-20T11:11:38.290507",
     "exception": false,
     "start_time": "2023-01-20T11:11:38.266418",
     "status": "completed"
    },
    "tags": []
   },
   "outputs": [
    {
     "data": {
      "text/plain": [
       "25"
      ]
     },
     "execution_count": 14,
     "metadata": {},
     "output_type": "execute_result"
    }
   ],
   "source": [
    "minAgeTick = int(data['Age'].min() - (data['Age'].min() % 5))\n",
    "minAgeTick"
   ]
  },
  {
   "cell_type": "code",
   "execution_count": 15,
   "id": "304f1beb",
   "metadata": {
    "execution": {
     "iopub.execute_input": "2023-01-20T11:11:38.316278Z",
     "iopub.status.busy": "2023-01-20T11:11:38.315851Z",
     "iopub.status.idle": "2023-01-20T11:11:38.323582Z",
     "shell.execute_reply": "2023-01-20T11:11:38.322474Z"
    },
    "papermill": {
     "duration": 0.023776,
     "end_time": "2023-01-20T11:11:38.326180",
     "exception": false,
     "start_time": "2023-01-20T11:11:38.302404",
     "status": "completed"
    },
    "tags": []
   },
   "outputs": [
    {
     "data": {
      "text/plain": [
       "85"
      ]
     },
     "execution_count": 15,
     "metadata": {},
     "output_type": "execute_result"
    }
   ],
   "source": [
    "maxAgeTick = int(((data['Age'].max() // 5) + 1) * 5)\n",
    "maxAgeTick"
   ]
  },
  {
   "cell_type": "code",
   "execution_count": 16,
   "id": "18d6b615",
   "metadata": {
    "execution": {
     "iopub.execute_input": "2023-01-20T11:11:38.352259Z",
     "iopub.status.busy": "2023-01-20T11:11:38.351857Z",
     "iopub.status.idle": "2023-01-20T11:11:38.359868Z",
     "shell.execute_reply": "2023-01-20T11:11:38.358750Z"
    },
    "papermill": {
     "duration": 0.024143,
     "end_time": "2023-01-20T11:11:38.362370",
     "exception": false,
     "start_time": "2023-01-20T11:11:38.338227",
     "status": "completed"
    },
    "tags": []
   },
   "outputs": [
    {
     "data": {
      "text/plain": [
       "[25, 30, 35, 40, 45, 50, 55, 60, 65, 70, 75, 80, 85]"
      ]
     },
     "execution_count": 16,
     "metadata": {},
     "output_type": "execute_result"
    }
   ],
   "source": [
    "ticks = list(range(minAgeTick,maxAgeTick+1, 5))\n",
    "ticks"
   ]
  },
  {
   "cell_type": "markdown",
   "id": "e15e0b6b",
   "metadata": {
    "papermill": {
     "duration": 0.011763,
     "end_time": "2023-01-20T11:11:38.386199",
     "exception": false,
     "start_time": "2023-01-20T11:11:38.374436",
     "status": "completed"
    },
    "tags": []
   },
   "source": [
    "**Histogram of the Age Variable**"
   ]
  },
  {
   "cell_type": "code",
   "execution_count": 17,
   "id": "c81447d0",
   "metadata": {
    "execution": {
     "iopub.execute_input": "2023-01-20T11:11:38.412430Z",
     "iopub.status.busy": "2023-01-20T11:11:38.411990Z",
     "iopub.status.idle": "2023-01-20T11:11:38.698262Z",
     "shell.execute_reply": "2023-01-20T11:11:38.697038Z"
    },
    "papermill": {
     "duration": 0.302819,
     "end_time": "2023-01-20T11:11:38.701159",
     "exception": false,
     "start_time": "2023-01-20T11:11:38.398340",
     "status": "completed"
    },
    "tags": []
   },
   "outputs": [
    {
     "data": {
      "text/plain": [
       "[<matplotlib.axis.XTick at 0x7f604435a210>,\n",
       " <matplotlib.axis.XTick at 0x7f60463dd910>,\n",
       " <matplotlib.axis.XTick at 0x7f604423ce10>,\n",
       " <matplotlib.axis.XTick at 0x7f6044295b10>,\n",
       " <matplotlib.axis.XTick at 0x7f60441e6190>,\n",
       " <matplotlib.axis.XTick at 0x7f60441e66d0>,\n",
       " <matplotlib.axis.XTick at 0x7f60441f0610>,\n",
       " <matplotlib.axis.XTick at 0x7f60441f0550>,\n",
       " <matplotlib.axis.XTick at 0x7f607a910650>,\n",
       " <matplotlib.axis.XTick at 0x7f604423c810>,\n",
       " <matplotlib.axis.XTick at 0x7f604423cd90>,\n",
       " <matplotlib.axis.XTick at 0x7f6044204d10>,\n",
       " <matplotlib.axis.XTick at 0x7f604420d910>]"
      ]
     },
     "execution_count": 17,
     "metadata": {},
     "output_type": "execute_result"
    },
    {
     "data": {
      "image/png": "[encoded data removed]",
      "text/plain": [
       "<Figure size 432x288 with 1 Axes>"
      ]
     },
     "metadata": {
      "needs_background": "light"
     },
     "output_type": "display_data"
    }
   ],
   "source": [
    "histogram_plot = sns.histplot(data['Age'],bins=10)\n",
    "histogram_plot.set_xticks(ticks)"
   ]
  },
  {
   "cell_type": "markdown",
   "id": "60a1ae90",
   "metadata": {
    "papermill": {
     "duration": 0.013006,
     "end_time": "2023-01-20T11:11:38.727278",
     "exception": false,
     "start_time": "2023-01-20T11:11:38.714272",
     "status": "completed"
    },
    "tags": []
   },
   "source": [
    "**The histogram is more clear for observation now.**"
   ]
  },
  {
   "cell_type": "code",
   "execution_count": 18,
   "id": "4e0450ec",
   "metadata": {
    "execution": {
     "iopub.execute_input": "2023-01-20T11:11:38.754842Z",
     "iopub.status.busy": "2023-01-20T11:11:38.754384Z",
     "iopub.status.idle": "2023-01-20T11:11:38.760785Z",
     "shell.execute_reply": "2023-01-20T11:11:38.759487Z"
    },
    "papermill": {
     "duration": 0.023174,
     "end_time": "2023-01-20T11:11:38.763384",
     "exception": false,
     "start_time": "2023-01-20T11:11:38.740210",
     "status": "completed"
    },
    "tags": []
   },
   "outputs": [],
   "source": [
    "def age_group(age):\n",
    "    if age <= 25:\n",
    "        age_group = 'Young Adult'\n",
    "    elif (age > 25) & (age <= 64):\n",
    "        age_group = 'Adult'\n",
    "    else:\n",
    "        age_group = 'Elder'\n",
    "    return age_group"
   ]
  },
  {
   "cell_type": "code",
   "execution_count": 19,
   "id": "2a399317",
   "metadata": {
    "execution": {
     "iopub.execute_input": "2023-01-20T11:11:38.791010Z",
     "iopub.status.busy": "2023-01-20T11:11:38.790565Z",
     "iopub.status.idle": "2023-01-20T11:11:38.798699Z",
     "shell.execute_reply": "2023-01-20T11:11:38.797572Z"
    },
    "papermill": {
     "duration": 0.025156,
     "end_time": "2023-01-20T11:11:38.801266",
     "exception": false,
     "start_time": "2023-01-20T11:11:38.776110",
     "status": "completed"
    },
    "tags": []
   },
   "outputs": [],
   "source": [
    "data['Age_Group'] = data['Age'].apply(lambda x: age_group(x))"
   ]
  },
  {
   "cell_type": "code",
   "execution_count": 20,
   "id": "bd798ef9",
   "metadata": {
    "execution": {
     "iopub.execute_input": "2023-01-20T11:11:38.828243Z",
     "iopub.status.busy": "2023-01-20T11:11:38.827822Z",
     "iopub.status.idle": "2023-01-20T11:11:39.032362Z",
     "shell.execute_reply": "2023-01-20T11:11:39.031265Z"
    },
    "papermill": {
     "duration": 0.221151,
     "end_time": "2023-01-20T11:11:39.035012",
     "exception": false,
     "start_time": "2023-01-20T11:11:38.813861",
     "status": "completed"
    },
    "tags": []
   },
   "outputs": [
    {
     "data": {
      "text/plain": [
       "<AxesSubplot:xlabel='Age_Group', ylabel='count'>"
      ]
     },
     "execution_count": 20,
     "metadata": {},
     "output_type": "execute_result"
    },
    {
     "data": {
      "image/png": "[encoded data removed]",
      "text/plain": [
       "<Figure size 432x288 with 1 Axes>"
      ]
     },
     "metadata": {
      "needs_background": "light"
     },
     "output_type": "display_data"
    }
   ],
   "source": [
    "sns.countplot(data=data, x=\"Age_Group\")"
   ]
  },
  {
   "cell_type": "code",
   "execution_count": 21,
   "id": "20f8e986",
   "metadata": {
    "execution": {
     "iopub.execute_input": "2023-01-20T11:11:39.063169Z",
     "iopub.status.busy": "2023-01-20T11:11:39.062265Z",
     "iopub.status.idle": "2023-01-20T11:11:39.072999Z",
     "shell.execute_reply": "2023-01-20T11:11:39.071644Z"
    },
    "papermill": {
     "duration": 0.027507,
     "end_time": "2023-01-20T11:11:39.075543",
     "exception": false,
     "start_time": "2023-01-20T11:11:39.048036",
     "status": "completed"
    },
    "tags": []
   },
   "outputs": [
    {
     "data": {
      "text/plain": [
       "Adult    77.0\n",
       "Elder    23.0\n",
       "Name: Age_Group, dtype: float64"
      ]
     },
     "execution_count": 21,
     "metadata": {},
     "output_type": "execute_result"
    }
   ],
   "source": [
    "round((data['Age_Group'].value_counts(normalize=True) * 100),0)"
   ]
  },
  {
   "cell_type": "markdown",
   "id": "fefa3971",
   "metadata": {
    "papermill": {
     "duration": 0.012914,
     "end_time": "2023-01-20T11:11:39.101718",
     "exception": false,
     "start_time": "2023-01-20T11:11:39.088804",
     "status": "completed"
    },
    "tags": []
   },
   "source": [
    "# Distribution of Education"
   ]
  },
  {
   "cell_type": "code",
   "execution_count": 22,
   "id": "3b25c1a9",
   "metadata": {
    "execution": {
     "iopub.execute_input": "2023-01-20T11:11:39.129239Z",
     "iopub.status.busy": "2023-01-20T11:11:39.128818Z",
     "iopub.status.idle": "2023-01-20T11:11:39.360499Z",
     "shell.execute_reply": "2023-01-20T11:11:39.359282Z"
    },
    "papermill": {
     "duration": 0.249137,
     "end_time": "2023-01-20T11:11:39.363675",
     "exception": false,
     "start_time": "2023-01-20T11:11:39.114538",
     "status": "completed"
    },
    "tags": []
   },
   "outputs": [
    {
     "data": {
      "text/plain": [
       "<AxesSubplot:xlabel='Education', ylabel='count'>"
      ]
     },
     "execution_count": 22,
     "metadata": {},
     "output_type": "execute_result"
    },
    {
     "data": {
      "image/png": "[encoded data removed]",
      "text/plain": [
       "<Figure size 432x288 with 1 Axes>"
      ]
     },
     "metadata": {
      "needs_background": "light"
     },
     "output_type": "display_data"
    }
   ],
   "source": [
    "sns.countplot(data=data, x=\"Education\", order=['Basic','2n Cycle','Graduation', 'Master', 'PhD'])"
   ]
  },
  {
   "cell_type": "markdown",
   "id": "23acd1b6",
   "metadata": {
    "papermill": {
     "duration": 0.013046,
     "end_time": "2023-01-20T11:11:39.390240",
     "exception": false,
     "start_time": "2023-01-20T11:11:39.377194",
     "status": "completed"
    },
    "tags": []
   },
   "source": [
    "# Percentage Distribution"
   ]
  },
  {
   "cell_type": "code",
   "execution_count": 23,
   "id": "aba248e2",
   "metadata": {
    "execution": {
     "iopub.execute_input": "2023-01-20T11:11:39.419045Z",
     "iopub.status.busy": "2023-01-20T11:11:39.418319Z",
     "iopub.status.idle": "2023-01-20T11:11:39.427952Z",
     "shell.execute_reply": "2023-01-20T11:11:39.427001Z"
    },
    "papermill": {
     "duration": 0.026703,
     "end_time": "2023-01-20T11:11:39.430240",
     "exception": false,
     "start_time": "2023-01-20T11:11:39.403537",
     "status": "completed"
    },
    "tags": []
   },
   "outputs": [
    {
     "data": {
      "text/plain": [
       "Graduation    50.0\n",
       "PhD           22.0\n",
       "Master        16.0\n",
       "2n Cycle       9.0\n",
       "Basic          2.0\n",
       "Name: Education, dtype: float64"
      ]
     },
     "execution_count": 23,
     "metadata": {},
     "output_type": "execute_result"
    }
   ],
   "source": [
    "round((data['Education'].value_counts(normalize=True) * 100),0)"
   ]
  },
  {
   "cell_type": "markdown",
   "id": "e4400625",
   "metadata": {
    "papermill": {
     "duration": 0.01317,
     "end_time": "2023-01-20T11:11:39.457233",
     "exception": false,
     "start_time": "2023-01-20T11:11:39.444063",
     "status": "completed"
    },
    "tags": []
   },
   "source": [
    "# Marital Status Variable"
   ]
  },
  {
   "cell_type": "code",
   "execution_count": 24,
   "id": "307d652a",
   "metadata": {
    "execution": {
     "iopub.execute_input": "2023-01-20T11:11:39.487067Z",
     "iopub.status.busy": "2023-01-20T11:11:39.486625Z",
     "iopub.status.idle": "2023-01-20T11:11:39.735556Z",
     "shell.execute_reply": "2023-01-20T11:11:39.734679Z"
    },
    "papermill": {
     "duration": 0.266659,
     "end_time": "2023-01-20T11:11:39.737749",
     "exception": false,
     "start_time": "2023-01-20T11:11:39.471090",
     "status": "completed"
    },
    "tags": []
   },
   "outputs": [
    {
     "data": {
      "text/plain": [
       "<AxesSubplot:xlabel='Marital_Status', ylabel='count'>"
      ]
     },
     "execution_count": 24,
     "metadata": {},
     "output_type": "execute_result"
    },
    {
     "data": {
      "image/png": "[encoded data removed]",
      "text/plain": [
       "<Figure size 432x288 with 1 Axes>"
      ]
     },
     "metadata": {
      "needs_background": "light"
     },
     "output_type": "display_data"
    }
   ],
   "source": [
    "sns.countplot(data=data, x=\"Marital_Status\")"
   ]
  },
  {
   "cell_type": "markdown",
   "id": "d05b2ade",
   "metadata": {
    "papermill": {
     "duration": 0.013396,
     "end_time": "2023-01-20T11:11:39.765023",
     "exception": false,
     "start_time": "2023-01-20T11:11:39.751627",
     "status": "completed"
    },
    "tags": []
   },
   "source": [
    "**There are some categories which has very low value.\n",
    "Drops the non-freqent categories:**"
   ]
  },
  {
   "cell_type": "code",
   "execution_count": 25,
   "id": "b044d812",
   "metadata": {
    "execution": {
     "iopub.execute_input": "2023-01-20T11:11:39.794197Z",
     "iopub.status.busy": "2023-01-20T11:11:39.793480Z",
     "iopub.status.idle": "2023-01-20T11:11:39.807068Z",
     "shell.execute_reply": "2023-01-20T11:11:39.805973Z"
    },
    "papermill": {
     "duration": 0.031314,
     "end_time": "2023-01-20T11:11:39.809893",
     "exception": false,
     "start_time": "2023-01-20T11:11:39.778579",
     "status": "completed"
    },
    "tags": []
   },
   "outputs": [],
   "source": [
    "data.drop(index=(data[data['Marital_Status'] == 'Alone'].index), axis = 0, inplace = True)\n",
    "data.drop(index=(data[data['Marital_Status'] == 'Absurd'].index), axis = 0, inplace = True)\n",
    "data.drop(index=(data[data['Marital_Status'] == 'YOLO'].index), axis = 0, inplace = True)"
   ]
  },
  {
   "cell_type": "code",
   "execution_count": 26,
   "id": "3701715a",
   "metadata": {
    "execution": {
     "iopub.execute_input": "2023-01-20T11:11:39.838738Z",
     "iopub.status.busy": "2023-01-20T11:11:39.838274Z",
     "iopub.status.idle": "2023-01-20T11:11:40.068197Z",
     "shell.execute_reply": "2023-01-20T11:11:40.066869Z"
    },
    "papermill": {
     "duration": 0.247614,
     "end_time": "2023-01-20T11:11:40.071102",
     "exception": false,
     "start_time": "2023-01-20T11:11:39.823488",
     "status": "completed"
    },
    "tags": []
   },
   "outputs": [
    {
     "data": {
      "text/plain": [
       "<AxesSubplot:xlabel='Marital_Status', ylabel='count'>"
      ]
     },
     "execution_count": 26,
     "metadata": {},
     "output_type": "execute_result"
    },
    {
     "data": {
      "image/png": "[encoded data removed]",
      "text/plain": [
       "<Figure size 432x288 with 1 Axes>"
      ]
     },
     "metadata": {
      "needs_background": "light"
     },
     "output_type": "display_data"
    }
   ],
   "source": [
    "marital_status_countplot = sns.countplot(data=data, x=\"Marital_Status\")\n",
    "#for i in marital_status_countplot.containers:\n",
    "#    marital_status_countplot.bar_label([i.datavalues])\n",
    "marital_status_countplot"
   ]
  },
  {
   "cell_type": "markdown",
   "id": "70e0d6d8",
   "metadata": {
    "papermill": {
     "duration": 0.013922,
     "end_time": "2023-01-20T11:11:40.099149",
     "exception": false,
     "start_time": "2023-01-20T11:11:40.085227",
     "status": "completed"
    },
    "tags": []
   },
   "source": [
    "# **Percentage Distribution of Marital Status**"
   ]
  },
  {
   "cell_type": "code",
   "execution_count": 27,
   "id": "3935f9b6",
   "metadata": {
    "execution": {
     "iopub.execute_input": "2023-01-20T11:11:40.128873Z",
     "iopub.status.busy": "2023-01-20T11:11:40.128421Z",
     "iopub.status.idle": "2023-01-20T11:11:40.139160Z",
     "shell.execute_reply": "2023-01-20T11:11:40.137907Z"
    },
    "papermill": {
     "duration": 0.028743,
     "end_time": "2023-01-20T11:11:40.141794",
     "exception": false,
     "start_time": "2023-01-20T11:11:40.113051",
     "status": "completed"
    },
    "tags": []
   },
   "outputs": [
    {
     "data": {
      "text/plain": [
       "Married     39.0\n",
       "Together    26.0\n",
       "Single      21.0\n",
       "Divorced    10.0\n",
       "Widow        3.0\n",
       "Name: Marital_Status, dtype: float64"
      ]
     },
     "execution_count": 27,
     "metadata": {},
     "output_type": "execute_result"
    }
   ],
   "source": [
    "round((data['Marital_Status'].value_counts(normalize=True) * 100),0)"
   ]
  },
  {
   "cell_type": "code",
   "execution_count": null,
   "id": "76d06600",
   "metadata": {
    "papermill": {
     "duration": 0.013531,
     "end_time": "2023-01-20T11:11:40.169507",
     "exception": false,
     "start_time": "2023-01-20T11:11:40.155976",
     "status": "completed"
    },
    "tags": []
   },
   "outputs": [],
   "source": []
  },
  {
   "cell_type": "code",
   "execution_count": null,
   "id": "da9e4b6f",
   "metadata": {
    "papermill": {
     "duration": 0.014124,
     "end_time": "2023-01-20T11:11:40.197495",
     "exception": false,
     "start_time": "2023-01-20T11:11:40.183371",
     "status": "completed"
    },
    "tags": []
   },
   "outputs": [],
   "source": []
  },
  {
   "cell_type": "code",
   "execution_count": null,
   "id": "18d30366",
   "metadata": {
    "papermill": {
     "duration": 0.013943,
     "end_time": "2023-01-20T11:11:40.226026",
     "exception": false,
     "start_time": "2023-01-20T11:11:40.212083",
     "status": "completed"
    },
    "tags": []
   },
   "outputs": [],
   "source": []
  },
  {
   "cell_type": "code",
   "execution_count": null,
   "id": "3fae82db",
   "metadata": {
    "papermill": {
     "duration": 0.013608,
     "end_time": "2023-01-20T11:11:40.254097",
     "exception": false,
     "start_time": "2023-01-20T11:11:40.240489",
     "status": "completed"
    },
    "tags": []
   },
   "outputs": [],
   "source": []
  }
 ],
 "metadata": {
  "kernelspec": {
   "display_name": "Python 3",
   "language": "python",
   "name": "python3"
  },
  "language_info": {
   "codemirror_mode": {
    "name": "ipython",
    "version": 3
   },
   "file_extension": ".py",
   "mimetype": "text/x-python",
   "name": "python",
   "nbconvert_exporter": "python",
   "pygments_lexer": "ipython3",
   "version": "3.7.12"
  },
  "papermill": {
   "default_parameters": {},
   "duration": 14.238387,
   "end_time": "2023-01-20T11:11:41.091443",
   "environment_variables": {},
   "exception": null,
   "input_path": "__notebook__.ipynb",
   "output_path": "__notebook__.ipynb",
   "parameters": {},
   "start_time": "2023-01-20T11:11:26.853056",
   "version": "2.3.4"
  }
 },
 "nbformat": 4,
 "nbformat_minor": 5
}
